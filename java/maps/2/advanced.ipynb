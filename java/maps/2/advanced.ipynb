{
  "cells": [
    {
      "cell_type": "markdown",
      "metadata": {},
      "source": [
        "# Advanced Decision Making with Nested Conditions\n",
        "\n",
        "In this notebook, we will learn how to create complex decision-making logic using nested if statements in Python. This allows our programs to make nuanced decisions based on multiple criteria."
      ]
    },
    {
      "cell_type": "markdown",
      "metadata": {},
      "source": [
        "## What Are Nested Conditions?\n",
        "\n",
        "Nested conditions are if statements inside other if statements. They enable us to handle more detailed decision trees, making our logic more precise."
      ]
    },
    {
      "cell_type": "markdown",
      "metadata": {},
      "source": [
        "### Example of Nested Conditions\n",
        "\n",
        "Let's look at an example that calculates ticket price based on age, membership, student status, and whether it's the weekend."
      ]
    },
    {
      "cell_type": "code",
      "execution_count": null,
      "metadata": {},
      "outputs": [],
      "source": [
        "# Define the variables for the scenario\n",
        "age = 25\n",
        "is_student = True\n",
        "is_weekend = False\n",
        "has_membership = True"
      ]
    },
    {
      "cell_type": "markdown",
      "metadata": {},
      "source": [
        "### Nested Decision Logic\n",
        "\n",
        "Now, we'll implement the nested if statements to decide the fare based on these variables."
      ]
    },
    {
      "cell_type": "code",
      "execution_count": null,
      "metadata": {},
      "outputs": [],
      "source": [
        "# Calculate ticket fare based on nested conditions\n",
        "if age < 18:\n",
        "    if is_student:\n",
        "        fare = 20  # Student child discount\n",
        "    else:\n",
        "        fare = 30  # Regular child fare\n",
        "else:\n",
        "    if age >= 60:\n",
        "        fare = 40  # Senior base fare\n",
        "        if has_membership:\n",
        "            fare = fare * 0.8  # Additional member discount\n",
        "    else:\n",
        "        fare = 80  # Adult base fare\n",
        "        # Further logical checks for adults\n",
        "        if is_student and has_membership:\n",
        "            fare = fare * 0.7  # Student + member discount\n",
        "        elif is_student or has_membership:\n",
        "            fare = fare * 0.9  # Either discount\n",
        "        if is_weekend and not has_membership:\n",
        "            fare = fare * 1.2  # Weekend surcharge\n",
        "\n",
        "print(f\"Your ticket fare: ₹{fare}\")"
      ]
    },
    {
      "cell_type": "markdown",
      "metadata": {},
      "source": [
        "## Summary\n",
        "\n",
        "- Nested if statements help create detailed decision trees.\n",
        "- Combine multiple criteria for precise control.\n",
        "- Use logical operators (`and`, `or`, `not`) for complex conditions.\n",
        "\n",
        "This approach is essential when building AI systems and automation that require nuanced decision-making."
      ]
    }
  ],
  "metadata": {
    "kernelspec": {
      "name": "python3",
      "display_name": "Python 3",
      "language": "python"
    },
    "language_info": {
      "name": "python",
      "version": "3.x"
    }
  },
  "nbformat": 4,
  "nbformat_minor": 5
}