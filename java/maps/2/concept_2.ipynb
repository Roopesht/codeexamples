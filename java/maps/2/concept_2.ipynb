{
  "cells": [
    {
      "cell_type": "markdown",
      "metadata": {},
      "source": [
        "# Making Decisions with Conditions"
      ]
    },
    {
      "cell_type": "markdown",
      "metadata": {},
      "source": [
        "## 🤔 Conditions in Programs\n",
        "\n",
        "- 🚦 Programs need to make decisions like humans do\n",
        "- 🔀 `if`, `elif`, `else` statements control program flow\n",
        "- ✅ Execute different code based on conditions\n",
        "- 🧠 Foundation of intelligent behavior in AI"
      ]
    },
    {
      "cell_type": "markdown",
      "metadata": {},
      "source": [
        "## The 'if' Statement\n",
        "\n",
        "- 🎯 Executes code only when condition is True\n",
        "- 📏 Uses comparison operators: `==`, `!=`, `<`, `>`, `<=`, `>=`\n",
        "- 📐 Indentation matters in Python (4 spaces)\n",
        "- 🔍 Boolean logic: True or False"
      ]
    },
    {
      "cell_type": "markdown",
      "metadata": {},
      "source": [
        "## elif and else Statements\n",
        "\n",
        "- 🔗 `elif`: \"else if\" - additional conditions to check\n",
        "- 🛡️ `else`: catches all other cases\n",
        "- ⚡ Only one block executes\n",
        "- 🎯 Covers all possible scenarios"
      ]
    },
    {
      "cell_type": "markdown",
      "metadata": {},
      "source": [
        "## Decision Making in Action"
      ]
    },
    {
      "cell_type": "code",
      "execution_count": null,
      "metadata": {},
      "outputs": [],
      "source": [
        "# Age-based access control\n",
        "age = 25\n",
        "\n",
        "if age < 18:\n",
        "    print(\"Access denied - You're too young\")\n",
        "elif age >= 18 and age < 65:\n",
        "    print(\"Welcome! Full access granted\")\n",
        "else:\n",
        "    print(\"Senior discount available!\")\n",
        "\n",
        "# Temperature-based clothing advice\n",
        "temperature = 15\n",
        "if temperature > 25:\n",
        "    print(\"Wear light clothes\")\n",
        "elif temperature > 15:\n",
        "    print(\"A jacket would be nice\")\n",
        "else:\n",
        "    print(\"Bundle up! It's cold\")"
      ]
    },
    {
      "cell_type": "markdown",
      "metadata": {},
      "source": [
        "[🚀 Practice Conditions in Colab](https://colab.research.google.com/github/Roopesht/codeexamples/blob/main/genai/python_easy/1/concept_2.ipynb)"
      ]
    },
    {
      "cell_type": "markdown",
      "metadata": {},
      "source": [
        "## 🎯 Key Takeaway\n",
        "\n",
        "Conditions make programs smart! They allow your code to respond differently to different situations, just like human decision-making.\n",
        "\n",
        "💭 Think: What decisions does your smartphone make automatically?"
      ]
    }
  ],
  "metadata": {
    "kernelspec": {
      "display_name": "Python 3",
      "language": "python",
      "name": "python3"
    },
    "language_info": {
      "codemirror_mode": {
        "name": "ipython",
        "version": 3
      },
      "file_extension": ".py",
      "mimetype": "text/x-python",
      "name": "python",
      "nbconvert_exporter": "python",
      "pygments_lexer": "ipython3",
      "version": "3.8"
    }
  },
  "nbformat": 4,
  "nbformat_minor": 5
}