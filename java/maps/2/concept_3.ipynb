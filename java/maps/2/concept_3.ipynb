{
  "cells": [
    {
      "cell_type": "markdown",
      "metadata": {},
      "source": [
        "# Writing Clean Code with Comments\n",
        "\n",
        "Let's learn how to write clear and understandable code using comments in Python.\n",
        "\n",
        "Comments are notes in your code that explain what the code does. They help others (and your future self) understand your program better!\n",
        "\n",
        "## Why Use Comments?\n",
        "- 💬 Explain what your code is doing\n",
        "- 👥 Help your friends or teammates understand your work\n",
        "- 🚫 Comments are NOT executed by Python\n",
        "- ⭐ Showing good commenting is a sign of professional coding"
      ]
    },
    {
      "cell_type": "markdown",
      "metadata": {},
      "source": [
        "## Single Line Comments (#)\n",
        "\n",
        "- Use `#` to add quick notes or explanations\n",
        "- They can be used to label sections or temporarily disable code\n",
        "\n",
        "Example:"
      ]
    },
    {
      "cell_type": "code",
      "execution_count": null,
      "metadata": {},
      "outputs": [],
      "source": [
        "# This is a single line comment\n",
        "print(\"Hello, world!\")  # Print a greeting"
      ]
    },
    {
      "cell_type": "markdown",
      "metadata": {},
      "source": [
        "## Multi-line Comments (\"\"\" \"\"\")\n",
        "\n",
        "- Use triple double-quotes for longer explanations\n",
        "- Ideal for documenting functions or complex code\n",
        "- Can be used as multi-line comments"
      ]
    },
    {
      "cell_type": "code",
      "execution_count": null,
      "metadata": {},
      "outputs": [],
      "source": [
        "\"\"\"\n",
        "This function adds two numbers and returns the result.\n",
        "Useful for understanding what the function does.\n",
        "\"\"\"\n",
        "def add(a, b):\n",
        "    return a + b"
      ]
    },
    {
      "cell_type": "markdown",
      "metadata": {},
      "source": [
        "## Good Commenting Practice\n",
        "\n",
        "Here's an example of well-commented code that explains the logic clearly:"
      ]
    },
    {
      "cell_type": "code",
      "execution_count": null,
      "metadata": {},
      "outputs": [],
      "source": [
        "\"\"\"\n",
        "Railway Ticket Booking System\n",
        "This program calculates ticket prices based on passenger age.\n",
        "Created for beginners learning Python.\n",
        "\"\"\"\n",
        "\n",
        "# Get passenger age from the user\n",
        "age = int(input(\"Enter passenger age: \"))\n",
        "\n",
        "# Determine fare based on age categories\n",
        "if age < 5:\n",
        "    fare = 0  # Free for small children\n",
        "    category = \"Free\"\n",
        "elif age <= 12:\n",
        "    fare = 50  # Half price for children\n",
        "    category = \"Child\"\n",
        "elif age < 60:\n",
        "    fare = 100  # Full price for adults\n",
        "    category = \"Adult\"\n",
        "else:\n",
        "    fare = 80  # Senior citizen discount\n",
        "    category = \"Senior\"\n",
        "\n",
        "# Show the ticket category and fare\n",
        "print(f\"Category: {category}\")\n",
        "print(f\"Fare: ₹{fare}\")"
      ]
    },
    {
      "cell_type": "markdown",
      "metadata": {},
      "source": [
        "## 🎯 Key Takeaway\n",
        "\n",
        "- Comments are like love letters to your future self and teammates.\n",
        "- They make your code maintainable and look professional!\n",
        "\n",
        "💭 Think: How would you explain your code to a 10-year-old?"
      ]
    }
  ],
  "metadata": {
    "kernelspec": {
      "display_name": "Python 3",
      "language": "python",
      "name": "python3"
    },
    "language_info": {
      "name": "python",
      "version": "3.x"
    }
  },
  "nbformat": 4,
  "nbformat_minor": 5
}