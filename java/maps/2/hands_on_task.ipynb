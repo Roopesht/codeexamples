{
  "cells": [
    {
      "cell_type": "markdown",
      "metadata": {},
      "source": [
        "# Railway Fare Calculator\n",
        "Build a simple and beginner-friendly railway fare calculator that determines the ticket fare based on the passenger's age."
      ]
    },
    {
      "cell_type": "markdown",
      "metadata": {},
      "source": [
        "### Project Requirements\n",
        "* 👶 Free ticket for children under 5\n",
        "* 🧒 Half price (₹50) for ages 5-12\n",
        "* 👨 Full price (₹100) for ages 13-59\n",
        "* 👴 Senior discount (₹70) for 60 and above"
      ]
    },
    {
      "cell_type": "markdown",
      "metadata": {},
      "source": [
        "### Input/Output Examples\n",
        "```python\n",
        "# Example 1:\n",
        "Input: Age = 3\n",
        "Output: \"Free ticket! Age: 3, Fare: ₹0\"\n",
        "\n",
        "# Example 2:\n",
        "Input: Age = 8\n",
        "Output: \"Child ticket! Age: 8, Fare: ₹50\"\n",
        "\n",
        "# Example 3:\n",
        "Input: Age = 35\n",
        "Output: \"Adult ticket! Age: 35, Fare: ₹100\"\n",
        "\n",
        "# Example 4:\n",
        "Input: Age = 65\n",
        "Output: \"Senior ticket! Age: 65, Fare: ₹70\"\n",
        "```"
      ]
    },
    {
      "cell_type": "markdown",
      "metadata": {},
      "source": [
        "### Step-by-Step Approach\n",
        "1. Get age input from user\n",
        "2. Use if-elif-else statements to determine the category\n",
        "3. Calculate the appropriate fare\n",
        "4. Display the category and fare\n",
        "5. Add comments to explain the logic"
      ]
    },
    {
      "cell_type": "markdown",
      "metadata": {},
      "source": [
        "### Code Implementation"
      ]
    },
    {
      "cell_type": "code",
      "execution_count": null,
      "metadata": {},
      "outputs": [],
      "source": [
        "\"\"\"\n",
        "Railway Fare Calculator\n",
        "Your name here\n",
        "\"\"\"\n\n",
        "# Step 1: Get user input\n",
        "age = int(input(\"Enter passenger age: \"))\n\n",
        "# Step 2: Determine fare category\n",
        "if age < 5:\n",
        "    # Free ticket for children under 5\n",
        "    category = \"Free ticket!\"\n",
        "    fare = 0\n",
        "elif age <= 12:\n",
        "    # Half price (₹50) for ages 5-12\n",
        "    category = \"Child ticket!\"\n",
        "    fare = 50\n",
        "elif age < 60:\n",
        "    # Full price (₹100) for ages 13-59\n",
        "    category = \"Adult ticket!\"\n",
        "    fare = 100\n",
        "else:\n",
        "    # Senior discount (₹70) for 60 and above\n",
        "    category = \"Senior ticket!\"\n",
        "    fare = 70\n\n",
        "# Step 3: Display results\n",
        "print(f\"{category} Age: {age}, Fare: ₹{fare}\")"
      ]
    }
  ],
  "metadata": {
    "kernelspec": {
      "display_name": "Python 3",
      "language": "python",
      "name": "python3"
    },
    "language_info": {
      "name": "python",
      "version": "3.x"
    }
  },
  "nbformat": 4,
  "nbformat_minor": 5
}