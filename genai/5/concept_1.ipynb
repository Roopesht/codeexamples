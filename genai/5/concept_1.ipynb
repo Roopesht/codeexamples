{
  "cells": [
    {
      "cell_type": "markdown",
      "metadata": {},
      "source": [
        "# Welcome to Python Lists\n",
        "\n",
        "In this notebook, we will learn about **lists** in Python. Lists are ordered collections that can hold multiple items, such as numbers or words.\n",
        "\n",
        "Let's get started!"
      ]
    },
    {
      "cell_type": "markdown",
      "metadata": {},
      "source": [
        "## Creating Lists\n",
        "\n",
        "To create a list, we enclose items within square brackets `[]`, separated by commas."
      ]
    },
    {
      "cell_type": "code",
      "execution_count": null,
      "outputs": [],
      "source": [
        "# Creating a list of fruits\n",
        "fruits = ['apple', 'banana', 'orange']\n",
        "print(fruits)"
      ]
    },
    {
      "cell_type": "markdown",
      "metadata": {},
      "source": [
        "Here is a list called `fruits` containing three different fruit names."
      ]
    },
    {
      "cell_type": "markdown",
      "metadata": {},
      "source": [
        "## Creating a list of numbers\n",
        "\n",
        "Similarly, you can create a list of numbers."
      ]
    },
    {
      "cell_type": "code",
      "execution_count": null,
      "outputs": [],
      "source": [
        "# Creating a list of numbers\n",
        "numbers = [1, 2, 3, 4, 5]\n",
        "print(numbers)"
      ]
    },
    {
      "cell_type": "markdown",
      "metadata": {},
      "source": [
        "Now, you have a list called `numbers` with five integers."
      ]
    },
    {
      "cell_type": "markdown",
      "metadata": {},
      "source": [
        "## Summary\n",
        "\n",
        "- Lists are ordered collections that can store multiple items.\n",
        "- Items in a list are written inside square brackets `[]`.\n",
        "- Lists can contain different types of items, like strings, numbers, or even other lists."
      ]
    }
  ],
  "metadata": {
    "kernelspec": {
      "name": "python3",
      "display_name": "Python 3",
      "language": "python"
    },
    "language_info": {
      "name": "python",
      "version": "3.x"
    }
  },
  "nbformat": 4,
  "nbformat_minor": 5
}