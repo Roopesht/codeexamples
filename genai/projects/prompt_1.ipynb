{
  "nbformat": 4,
  "nbformat_minor": 0,
  "metadata": {
    "colab": {
      "provenance": []
    },
    "kernelspec": {
      "name": "python3",
      "display_name": "Python 3"
    },
    "language_info": {
      "name": "python"
    }
  },
  "cells": [
    {
      "cell_type": "code",
      "source": [
        "def get_emails ():\n",
        "  ret = [\n",
        "      {\"email_text\": \"Your TV  is very nice its of high quality, thank you\", \"from\": \"lokesh@gmail.com\"},\n",
        "      {\"email_text\": \"Your washing machine I received does not external pipe, please ship the same\", \"from\": \"lavanya@gmail.com\"},\n",
        "      {\"email_text\": \"I liked your washing machine quality, I need 10 of them, is there any discount\", \"from\": \"satyarekha@gmail.com\"},\n",
        "      {\"email_text\": \"TV power card is not working, please help me here\", \"from\": \"lohit@gmail.com\"},\n",
        "      {\"email_text\": \"Is there any physical store nearby? I want to experience before I place the online order\", \"from\": \"aparna@gmail.com\"}\n",
        "\n",
        "  ]\n",
        "  return ret\n",
        "\n",
        "get_emails()"
      ],
      "metadata": {
        "colab": {
          "base_uri": "https://localhost:8080/"
        },
        "id": "Rv4hZzHjTbHu",
        "outputId": "ba0c8edb-25c1-488f-abaa-2c7495f61421"
      },
      "execution_count": 43,
      "outputs": [
        {
          "output_type": "execute_result",
          "data": {
            "text/plain": [
              "[{'email_text': 'Your TV  is very nice its of high quality, thank you',\n",
              "  'from': 'lokesh@gmail.com'},\n",
              " {'email_text': 'Your washing machine I received does not external pipe, please ship the same',\n",
              "  'from': 'lavanya@gmail.com'},\n",
              " {'email_text': 'I liked your washing machine quality, I need 10 of them, is there any discount',\n",
              "  'from': 'satyarekha@gmail.com'},\n",
              " {'email_text': 'TV power card is not working, please help me here',\n",
              "  'from': 'lohit@gmail.com'},\n",
              " {'email_text': 'Is there any physical store nearby? I want to experience before I place the online order',\n",
              "  'from': 'aparna@gmail.com'}]"
            ]
          },
          "metadata": {},
          "execution_count": 43
        }
      ]
    },
    {
      "cell_type": "code",
      "source": [
      "from google.colab import userdata\n",
      "G_key = userdata.get('G_key')"
      ],
      "metadata": {
        "id": "oKlh3dIEUPLN"
      },
      "execution_count": 11,
      "outputs": []
    },
    {
      "cell_type": "code",
      "source": [
        "import google.generativeai as genai\n",
        "from dotenv import load_dotenv\n",
        "import os\n",
        "\n",
        "def get_response(prompt: str) -> str:\n",
        "    global G_key\n",
        "    \"\"\"\n",
        "    Sends messages to Google Gemini API and returns the model's response.\n",
        "    \"\"\"\n",
        "    genai.configure(api_key=G_key)\n",
        "\n",
        "    model = genai.GenerativeModel(\"gemini-1.5-flash\")\n",
        "\n",
        "    response = model.generate_content(prompt,generation_config={\"candidate_count\": 1,\"max_output_tokens\":200,\"temperature\":0.5})\n",
        "\n",
        "    return response"
      ],
      "metadata": {
        "id": "ptOgnOr7UAmL"
      },
      "execution_count": 25,
      "outputs": []
    },
    {
      "cell_type": "code",
      "execution_count": 26,
      "metadata": {
        "id": "g_2pfIsGTXNK"
      },
      "outputs": [],
      "source": [
        "\n",
        "def get_email_type(text):\n",
        "  prompt = f\"\"\"\n",
        "    examples:\n",
        "    \"Your product is very nice, thank you\" - \"appreciation\"\n",
        "    \"your product is not working\": \"complaint\"\n",
        "    \"is there any discount for this item?\": \"query\"\n",
        "    \"When will this item gets delivered\": \"query\"\n",
        "    \"The product has not been delivered yet\": \"complaint\"\n",
        "    \"The product I purchased is doing its job, every one is liking it\": \"appreciation\"\n",
        "\n",
        "    Classify the below text into one of the following categories:\n",
        "    appreciation, complaint, query\n",
        "    text: {text}\n",
        "    output type: single word\n",
        "  \"\"\"\n",
        "  response = get_response(prompt)\n",
        "  response_text = response.candidates[0].content.parts[0].text\n",
        "\n",
        "  return response_text\n",
        "\n"
      ]
    },
    {
      "cell_type": "code",
      "source": [
        "def get_complaint_response(complaint):\n",
        "  \"\"\"If washing machines: no replacement, but service is provided. no service charge\n",
        "\n",
        "others: Service is provided in 10 days, service charge is 100 rs.\n",
        "\"\"\"\n",
        "  prompt =f\"\"\"\n",
        "  The email example to send:\n",
        "  We are very sorry for the inconvenience.\n",
        "  Regarding our washing machine, we will arrange service in 10 days. best rest assured of our service.\n",
        "  This is totally free of charge.\n",
        "  Thanks for giving the opportunity to serve you,\n",
        "  Gada Electronics\n",
        "\n",
        "  Rules:\n",
        "  1. washing machines: no replacement, but service is provided. no service charge\n",
        "  2. for tv: direct replacement, no service charge\n",
        "  3. others: Service is provided in 10 days, service charge is 100 rs.\n",
        "\n",
        "  Now please provide the response for the below complaint:\n",
        "  {complaint}\n",
        "\n",
        "\n",
        "  **output format**: please provide only the email content, nothing else.\n",
        "  \"\"\"\n",
        "  response = get_response(prompt)\n",
        "  response_text = response.candidates[0].content.parts[0].text\n",
        "\n",
        "  return response_text\n",
        "\n",
        "\n",
        "\"\"\"\n",
        "Appreciation:\n",
        "  Thank you,\n",
        "  if washing machine: offer 10% discount\n",
        "  for thers offer 5% discount\n",
        "  for new purchases\"\"\"\n",
        "\n",
        "def get_appreciation_response(appreciation):\n",
        "  prompt =f\"\"\"\n",
        "  The email example to send:\n",
        "  We are very happy to hear from you, glad that you liked the product\n",
        "  Thanks for giving the opportunity to serve you,\n",
        "  To extend our happiness, we are offiering you a 10% discount on washing machines\n",
        "  Gada Electronics\n",
        "\n",
        "  Rules (based on what customer has purchased):\n",
        "  1. washing machines: offer 10% discount\n",
        "  2. TVs: offier 15% discount\n",
        "  3. for thers offer 5% discount\n",
        "\n",
        "\n",
        "  Now please provide the response for the below appreciation:\n",
        "  {appreciation}\n",
        "\n",
        "  **output format**: please provide only the email content, nothing else.\n",
        "  \"\"\"\n",
        "  response = get_response(prompt)\n",
        "  response_text = response.candidates[0].content.parts[0].text\n",
        "\n",
        "  return response_text\n",
        "\n",
        "\n",
        "\n",
        "\"\"\"query:\n",
        "if query is on discount: we will provide discount up to 10% for group bookings\n",
        "if query is on delivery date: delivery date will be on your order, please verify\n",
        "\"\"\"\n",
        "\n",
        "def get_query_response(query):\n",
        "  prompt =f\"\"\"\n",
        "  example #1:\n",
        "  Thanks for giving the opportunity to serve you,\n",
        "  Regarding your query we are offiering you a 10% discount for group bookings.\n",
        "  Thank you,\n",
        "  Gada Electronics\n",
        "\n",
        "  Example #2:\n",
        "  Thanks for giving the opportunity to serve you,\n",
        "  Delivery date will be on your order, please verify.\n",
        "  Please call the customer care in case you have missed your order.\n",
        "  Thank you,\n",
        "  Gada Electronics\n",
        "\n",
        "  Default Example:\n",
        "  Thanks for giving the opportunity to serve you,\n",
        "  We have forwarded your query to our support, they will get back to you shortly.\n",
        "  Thank you,\n",
        "  Gada Electronics\n",
        "\n",
        "  Now please provide the response for the below query:\n",
        "  {query}\n",
        "\n",
        "  If there is not knowledge on user's query, please respond with the default example.\n",
        "\n",
        "  **output format**: please provide only the email content, nothing else.\n",
        "  \"\"\"\n",
        "  response = get_response(prompt)\n",
        "  response_text = response.candidates[0].content.parts[0].text\n",
        "\n",
        "  return response_text"
      ],
      "metadata": {
        "id": "bx7R2jxcWCb0"
      },
      "execution_count": 45,
      "outputs": []
    },
    {
      "cell_type": "code",
      "source": [
        "emails = get_emails()\n",
        "\n",
        "for email in emails:\n",
        "  if email[\"from\"] != \"aparna@gmail.com\":\n",
        "    continue\n",
        "\n",
        "\n",
        "  text = email[\"email_text\"]\n",
        "  typeof_email = get_email_type(text)\n",
        "\n",
        "  print (email)\n",
        "\n",
        "  typeof_email = typeof_email.strip(\"\\n\").strip(\" \")\n",
        "\n",
        "  if typeof_email == \"complaint\":\n",
        "    print (get_complaint_response(text))\n",
        "    print (\"-\"*80)\n",
        "  elif typeof_email == \"appreciation\":\n",
        "    print (get_appreciation_response(text))\n",
        "    print (\"-\"*80)\n",
        "  elif  typeof_email == \"query\":\n",
        "    print (get_query_response(text))\n",
        "    print (\"-\"*80)\n",
        "  else:\n",
        "    print (f\"Received {typeof_email} from {email['from']}\")\n"
      ],
      "metadata": {
        "colab": {
          "base_uri": "https://localhost:8080/",
          "height": 155
        },
        "id": "D0SuI8ozTffo",
        "outputId": "fe7adab1-d36a-4014-fd80-49afb8578b13"
      },
      "execution_count": 46,
      "outputs": [
        {
          "output_type": "stream",
          "name": "stdout",
          "text": [
            "{'email_text': 'Is there any physical store nearby? I want to experience before I place the online order', 'from': 'aparna@gmail.com'}\n",
            "Thanks for giving the opportunity to serve you,\n",
            "We have forwarded your query to our support, they will get back to you shortly.\n",
            "Thank you,\n",
            "Gada Electronics\n",
            "\n",
            "--------------------------------------------------------------------------------\n"
          ]
        }
      ]
    },
    {
      "cell_type": "code",
      "source": [],
      "metadata": {
        "id": "bN2EM0lWVyCp"
      },
      "execution_count": 15,
      "outputs": []
    }
  ]
}
