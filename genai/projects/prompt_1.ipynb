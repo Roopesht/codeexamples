{
  "nbformat": 4,
  "nbformat_minor": 0,
  "metadata": {
    "colab": {
      "provenance": []
    },
    "kernelspec": {
      "name": "python3",
      "display_name": "Python 3"
    },
    "language_info": {
      "name": "python"
    }
  },
  "cells": [
    {
      "cell_type": "code",
      "source": [
        "def get_emails ():\n",
        "  ret = [\n",
        "      {\"email_text\": \"Your product is very nice, thank you\", \"from\": \"lokesh@gmail.com\"},\n",
        "      {\"email_text\": \"Your washing machine I received does not external pipe, please ship the same\", \"from\": \"lavanya@gmail.com\"},\n",
        "      {\"email_text\": \"I liked your washing machine quality, I need 10 of them, is there any discount\", \"from\": \"satyarekha@gmail.com\"},\n",
        "  ]\n",
        "  return ret\n"
      ],
      "metadata": {
        "id": "Rv4hZzHjTbHu"
      },
      "execution_count": null,
      "outputs": []
    },
    {
      "cell_type": "code",
      "execution_count": null,
      "metadata": {
        "id": "g_2pfIsGTXNK"
      },
      "outputs": [],
      "source": [
        "\n",
        "\n",
        "\n",
        "from gemini_util import get_response\n",
        "\n",
        "def get_email_type(text):\n",
        "  prompt = f\"\"\"\n",
        "    examples:\n",
        "    \"Your product is very nice, thank you\" - \"appreciation\"\n",
        "    \"your product is not working\": \"complaint\"\n",
        "    \"is there any discount for this item?\": \"query\"\n",
        "    \"When will this item gets delivered\": \"query\"\n",
        "    \"The product has not been delivered yet\": \"complaint\"\n",
        "    \"The product I purchased is doing its job, every one is liking it\": \"appreciation\"\n",
        "\n",
        "    Classify the below text into one of the following categories:\n",
        "    appreciation, complaint, query\n",
        "    text: {text}\n",
        "    output type: single word\n",
        "  \"\"\"\n",
        "  response = get_response(prompt)\n",
        "  response_text = response.candidates[0].content.parts[0].text\n",
        "\n",
        "  return response_text\n",
        "\n"
      ]
    },
    {
      "cell_type": "code",
      "source": [
        "emails = get_emails()\n",
        "print (type(emails))\n",
        "\n",
        "for email in emails:\n",
        "  text = email[\"email_text\"]\n",
        "  typeof_email = get_email_type(text)\n",
        "  print (f\"Received {typeof_email} from {email['from']}\")"
      ],
      "metadata": {
        "id": "D0SuI8ozTffo"
      },
      "execution_count": null,
      "outputs": []
    }
  ]
}