{
  "cells": [
    {
      "cell_type": "markdown",
      "metadata": {},
      "source": [
        "# Inheritance & Polymorphism\n",
        "\n",
        " Welcome to this beginner-friendly introduction to two important concepts in object-oriented programming: inheritance and polymorphism."
      ]
    },
    {
      "cell_type": "markdown",
      "metadata": {},
      "source": [
        "## What is Inheritance?\n",
        "\n",
        "Inheritance allows a class (called a child or subclass) to inherit properties and methods from another class (called a parent or superclass). This helps us reuse code and create more organized programs."
      ]
    },
    {
      "cell_type": "markdown",
      "metadata": {},
      "source": [
        "Let's see an example!"
      ]
    },
    {
      "cell_type": "code",
      "metadata": {},
      "source": [
        "# Define a base class called Animal\n",
        "class Animal:\n",
        "    def __init__(self, name):\n",
        "        self.name = name\n",
        "\n",
        "    def speak(self):\n",
        "        return \"Some sound\"\n",
        "\n",
        "# Define a subclass called Dog that inherits from Animal\n",
        "class Dog(Animal):\n",
        "    def speak(self):\n",
        "        return \"Woof!\"\n",
        "\n",
        "# Create an instance of Dog\n",
        "dog = Dog(\"Buddy\")\n",
        "print(f\"{dog.name} says {dog.speak()}\")"
      ],
      "execution_count": null,
      "outputs": []
    },
    {
      "cell_type": "markdown",
      "metadata": {},
      "source": [
        "In this example:\n",
        "- `Animal` is the superclass.\n",
        "- `Dog` is a subclass that inherits from `Animal`.\n",
        "- The `speak` method in `Dog` overrides the one in `Animal`."
      ]
    },
    {
      "cell_type": "markdown",
      "metadata": {},
      "source": [
        "## What is Polymorphism?\n",
        "\n",
        "Polymorphism allows objects of different classes to be treated as objects of a common superclass. It also allows methods to do different things based on which class they belong to, even if they share the same name."
      ]
    },
    {
      "cell_type": "markdown",
      "metadata": {},
      "source": [
        "Let's see an example of polymorphism!"
      ]
    },
    {
      "cell_type": "code",
      "metadata": {},
      "source": [
        "# Define another subclass\n",
        "class Cat(Animal):\n",
        "    def speak(self):\n",
        "        return \"Meow!\"\n",
        "\n",
        "# Create instances\n",
        "dog = Dog(\"Buddy\")\n",
        "cat = Cat(\"Whiskers\")\n",
        "\n",
        "# Create a list of animals\n",
        "animals = [dog, cat]\n",
        "\n",
        "for animal in animals:\n",
        "    print(f\"{animal.name} says {animal.speak()}\")"
      ],
      "execution_count": null,
      "outputs": []
    },
    {
      "cell_type": "markdown",
      "metadata": {},
      "source": [
        "Here:\n",
        "- `Dog` and `Cat` are different subclasses of `Animal`.\n",
        "- We can treat both objects as `Animal` objects in the list.\n",
        "- When calling `speak()`, the correct method for each object is executed. This is an example of polymorphism."
      ]
    },
    {
      "cell_type": "markdown",
      "metadata": {},
      "source": [
        "## Summary\n",
        "\n",
        "- **Inheritance** helps us reuse code by creating classes based on existing classes.\n",
        "- **Polymorphism** allows us to write flexible code that can work with objects of different classes using the same interface."
      ]
    }
  ],
  "metadata": {
    "kernelspec": {
      "display_name": "Python 3",
      "language": "python",
      "name": "python3"
    },
    "language_info": {
      "name": "python",
      "version": "3.x"
    }
  },
  "nbformat": 4,
  "nbformat_minor": 5
}