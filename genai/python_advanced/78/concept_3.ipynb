{
  "cells": [
    {
      "cell_type": "markdown",
      "metadata": {},
      "source": [
        "# Magic Methods (Dunder Methods)\n",
        "\n",
        "In this lesson, we will learn about magic methods, also known as dunder (double underscore) methods. These special methods allow your objects to behave in a natural and Pythonic way, enabling features like operator overloading, custom string representations, and more."
      ]
    },
    {
      "cell_type": "markdown",
      "metadata": {},
      "source": [
        "## What are Magic Methods?\n",
        "\n",
        "Magic methods are predefined special methods in Python that start and end with double underscores (`__`). They are automatically called in certain situations, allowing you to customize the behavior of your classes.\n",
        "\n",
        "For example, when you print an object, Python internally calls the `__str__()` or `__repr__()` method of that object."
      ]
    },
    {
      "cell_type": "markdown",
      "metadata": {},
      "source": [
        "## Example: Custom String Representation\n",
        "\n",
        "Let's create a simple class and define the `__str__()` method. This method determines what is shown when you print an object of that class."
      ]
    },
    {
      "cell_type": "code",
      "execution_count": null,
      "metadata": {},
      "outputs": [],
      "source": [
        "class Person:\n",
        "    def __init__(self, name, age):\n",
        "        self.name = name\n",
        "        self.age = age\n",
        "\n",
        "    def __str__(self):\n",
        "        return f\"Person: {self.name}, {self.age} years old\""
      ]
    },
    {
      "cell_type": "markdown",
      "metadata": {},
      "source": [
        "# Creating and Printing an Object\n",
        "\n",
        "Let's create a person and see what happens when we print it."
      ]
    },
    {
      "cell_type": "code",
      "execution_count": null,
      "metadata": {},
      "outputs": [],
      "source": [
        "p1 = Person(\"Alice\", 30)\n",
        "print(p1)"
      ]
    },
    {
      "cell_type": "markdown",
      "metadata": {},
      "source": [
        "## Operator Overloading with Magic Methods\n",
        "\n",
        "Magic methods can also be used to change how operators behave for custom classes. Let's see an example with addition."
      ]
    },
    {
      "cell_type": "markdown",
      "metadata": {},
      "source": [
        "## Example: Adding Two Objects\n",
        "\n",
        "Suppose you want to add two `Point` objects to get a new point with combined coordinates. You can define the `__add__()` method for this."
      ]
    },
    {
      "cell_type": "code",
      "execution_count": null,
      "metadata": {},
      "outputs": [],
      "source": [
        "class Point:\n",
        "    def __init__(self, x, y):\n",
        "        self.x = x\n",
        "        self.y = y\n",
        "\n",
        "    def __add__(self, other):\n",
        "        return Point(self.x + other.x, self.y + other.y)\n",
        "    \n",
        "    def __repr__(self):\n",
        "        return f\"Point({self.x}, {self.y})\""
      ]
    },
    {
      "cell_type": "markdown",
      "metadata": {},
      "source": [
        "Let's add two points to see this in action."
      ]
    },
    {
      "cell_type": "code",
      "execution_count": null,
      "metadata": {},
      "outputs": [],
      "source": [
        "p1 = Point(1, 2)\n",
        "p2 = Point(3, 4)\n",
        "p3 = p1 + p2\n",
        "print(p3)"
      ]
    },
    {
      "cell_type": "markdown",
      "metadata": {},
      "source": [
        "## Summary\n",
        "\n",
        "- Magic methods help customize how objects behave.\n",
        "- Common magic methods include `__str__()`, `__repr__()`, `__add__()`, etc.\n",
        "- They start and end with double underscores (__)."
      ]
    }
  ],
  "metadata": {
    "kernelspec": {
      "name": "python3",
      "display_name": "Python 3"
    },
    "language_info": {
      "name": "python",
      "version": "3.x"
    }
  },
  "nbformat": 4,
  "nbformat_minor": 5
}