{
  "cells": [
    {
      "cell_type": "markdown",
      "metadata": {},
      "source": [
        "# Class Methods, Static Methods & Property Decorators\n",
        "\n",
        "In this notebook, we will learn about different ways to define methods inside a Python class. These include class methods, static methods, and property decorators. They help make your classes more flexible and powerful!"
      ]
    },
    {
      "cell_type": "markdown",
      "metadata": {},
      "source": [
        "## Regular Methods\n",
        "\n",
        "First, let's review regular methods. These are functions that operate on instances of a class.\n",
        "\n",
        "```python\n",
        "class MyClass:\n",
        "    def __init__(self, value):\n",
        "        self.value = value\n",
        "    \n",
        "    def greet(self):\n",
        "        print(f\"Hello! The value is {self.value}\")\n",
        "```\n",
        "\n",
        "You call them on an object:\n",
        "\n",
        "```python\n",
        "obj = MyClass(10)\n",
        "obj.greet()\n",
        "```"
      ]
    },
    {
      "cell_type": "markdown",
      "metadata": {},
      "source": [
        "## Class Methods\n",
        "\n",
        "Class methods are methods that are bound to the class itself rather than an instance. They are marked with the `@classmethod` decorator and take `cls` as their first parameter.\n",
        "\n",
        "They are useful for factory methods or methods that need to access class variables.\n",
        "\n",
        "Let's see an example:"
      ]
    },
    {
      "cell_type": "code",
      "metadata": {},
      "source": [
        "class MyClass:\n",
        "    count = 0  # class variable\n",
        "    \n",
        "    def __init__(self, value):\n",
        "        self.value = value\n",
        "        MyClass.count += 1\n",
        "    \n",
        "    @classmethod\n",
        "    def get_count(cls):\n",
        "        return cls.count\n",
        "\n",
        "# Create some objects\n",
        "obj1 = MyClass(10)\n",
        "obj2 = MyClass(20)\n",
        "\n",
        "# Call the class method\n",
        "print(f'Number of instances: {MyClass.get_count()}')"
      ],
      "execution_count": null,
      "outputs": []
    },
    {
      "cell_type": "markdown",
      "metadata": {},
      "source": [
        "## Static Methods\n",
        "\n",
        "Static methods are methods that don't need access to the class (`cls`) or instance (`self`). They are marked with the `@staticmethod` decorator.\n",
        "\n",
        "They behave like plain functions but live inside the class for logical grouping.\n",
        "\n",
        "Let's look at an example:"
      ]
    },
    {
      "cell_type": "code",
      "metadata": {},
      "source": [
        "class MathTools:\n",
        "    @staticmethod\n",
        "    def add(x, y):\n",
        "        return x + y\n",
        "    \n",
        "    @staticmethod\n",
        "    def multiply(x, y):\n",
        "        return x * y\n",
        "\n",
        "# Use static methods\n",
        "print(f\"Sum: {MathTools.add(3, 5)}\")\n",
        "print(f\"Product: {MathTools.multiply(4, 6)}\")"
      ],
      "execution_count": null,
      "outputs": []
    },
    {
      "cell_type": "markdown",
      "metadata": {},
      "source": [
        "## Property Decorators\n",
        "\n",
        "Property decorators allow you to define methods that act like attributes. You can control access, compute properties on the fly, or add validation.\n",
        "\n",
        "The main decorator is `@property`. It turns a method into a getter for a read-only attribute.\n",
        "\n",
        "Let's see an example:"
      ]
    },
    {
      "cell_type": "code",
      "metadata": {},
      "source": [
        "class Person:\n",
        "    def __init__(self, name):\n",
        "        self._name = name  # note the underscore\n",
        "    \n",
        "    @property\n",
        "    def name(self):\n",
        "        return self._name\n",
        "    \n",
        "    @name.setter\n",
        "    def name(self, new_name):\n",
        "        if len(new_name) > 0:\n",
        "            self._name = new_name\n",
        "        else:\n",
        "            print(\"Name cannot be empty\")\n",
        "\n",
        "# Create an object\n",
        "person = Person(\"Alice\")\n",
        "print(person.name)  # Access the property\n",
        "person.name = \"Bob\"  # Change the property\n",
        "print(person.name)"
      ],
      "execution_count": null,
      "outputs": []
    }
  ],
  "metadata": {
    "kernelspec": {
      "name": "python3",
      "display_name": "Python 3",
      "language": "python"
    },
    "language_info": {
      "name": "python",
      "version": "3.x"
    }
  },
  "nbformat": 4,
  "nbformat_minor": 5
}