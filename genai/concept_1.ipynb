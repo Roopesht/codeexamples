```json
{
 "cells": [
  {
   "cell_type": "markdown",
   "metadata": {},
   "source": [
    "# Concept 1: Creating Lists and Basic Operations\n",
    "\n",
    "In this section, we will learn about **lists** in Python, which are ordered collections that can hold multiple items. \n",
    "Lists are versatile and commonly used data structures that can contain elements of different types.\n",
    "\n",
    "Let's see some examples of how to create lists and perform basic operations on them."
   ]
  },
  {
   "cell_type": "markdown",
   "metadata": {},
   "source": [
    "## Creating Lists\n",
    "\n",
    "- You can create a list by enclosing items in square brackets `[]`, separated by commas.\n",
    "- Lists can contain different data types.\n",
    "- Lists maintain the order of items, starting with index 0."
   ]
  },
  {
   "cell_type": "code",
   "execution_count": null,
   "metadata": {},
   "outputs": [],
   "source": [
    "# Creating a list of fruits\n",
    "fruits = ['apple', 'banana', 'orange']\n",
    "\n",
    "# Creating a list of numbers\n",
    "numbers = [1, 2, 3, 4, 5]\n"
   ]
  },
  {
   "cell_type": "markdown",
   "metadata": {},
   "source": [
    "## Accessing List Items\n",
    "\n",
    "- Items in a list can be accessed using their index, starting from 0.\n",
    "- Negative indices can be used to access items from the end."
   ]
  },
  {
   "cell_type": "code",
   "execution_count": null,
   "metadata": {},
   "outputs": [],
   "source": [
    "# Accessing elements\n",
    "first_fruit = fruits[0]\n",
    "last_number = numbers[-1]\n",
    "\n",
    "first_fruit, last_number"
   ]
  },
  {
   "cell_type": "markdown",
   "metadata": {},
   "output": [
    {
     "name": "stdout",
     "output_type": "stream",
     "text": [
      "apple, 5\n"
     ]
    }
   ],
   "source": [
    "### Output\n",
    "```python\n",
    "apple, 5\n",
    "```"
   ]
  },
  {
   "cell_type": "markdown",
   "metadata": {},
   "source": [
    "## Basic List Operations\n",
    "\n",
    "- You can add items using `append()` or `insert()`.",
    "- Remove items with `remove()` or `del`.",
    "- Combine lists with `extend()` or `+`."
   ]
  },
  {
   "cell_type": "code",
   "execution_count": null,
   "metadata": {},
   "outputs": [],
   "source": [
    "# Adding elements\n",
    "fruits.append('grape')  # Adds 'grape' to the end\n",
    "numbers.insert(0, 0)   # Inserts 0 at the beginning\n",
    "\n",
    "# Removing elements\n",
    "fruits.remove('banana')  # Removes 'banana'\n",
    "del numbers[2]           # Deletes the third element\n",
    "\n",
    "# Combining lists\n",
    "more_numbers = [6, 7]\n",
    "numbers.extend(more_numbers)\n",
    "fruits = fruits + ['mango', 'pear']\n"
   ]
  },
  {
   "cell_type": "markdown",
   "metadata": {},
   "source": [
    "## Final Lists after Operations\n"
   ]
  },
  {
   "cell_type": "code",
   "execution_count": null,
   "metadata": {},
   "outputs": [
    {
     "name": "stdout",
     "output_type": "stream",
     "text": [
      "Fruits: ['apple', 'orange', 'grape', 'mango', 'pear']\n",
      "Numbers: [0, 1, 3, 4, 6, 7]\n"
     ]
    }
   ],
   "source": [
    "print(f\"Fruits: {fruits}\")\n",
    "print(f\"Numbers: {numbers}\")"
   ]
  }
 ],
 "metadata": {
  "kernelspec": {
   "display_name": "Python 3",
   "language": "python",
   "name": "python3"
  },
  "language_info": {
   "name": "python",
   "version": "3.x"
  }
 },
 "nbformat": 4,
 "nbformat_minor": 5
}
```