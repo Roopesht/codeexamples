{
  "cells": [
    {
      "cell_type": "markdown",
      "metadata": {},
      "source": [
        "# Introduction to Prompts in AI\n",
        "\n",
        "This notebook provides a beginner-friendly overview of what prompts are and how they are used to interact with AI systems, especially large language models (LLMs)."
      ]
    },
    {
      "cell_type": "markdown",
      "metadata": {},
      "source": [
        "## What is a Prompt?\n",
        "\n",
        "A **prompt** is a set of instructions or questions that you give to an AI system to guide its responses. It acts like a conversation starter and helps the AI understand what you want. Think of it as giving clear directions so the AI can help you effectively."
      ]
    },
    {
      "cell_type": "markdown",
      "metadata": {},
      "source": [
        "## Why Are Prompts Important in LLMs?\n",
        "\n",
        "- LLMs need context to generate relevant answers.\n",
        "- Prompts guide the AI's focus and attention.\n",
        "- They enable zero-shot learning, meaning the AI can perform tasks it hasn't been specifically trained for.\n",
        "- Prompts allow you to change the behavior of the AI dynamically."
      ]
    },
    {
      "cell_type": "markdown",
      "metadata": {},
      "source": [
        "## Practical Examples of Prompts\n",
        "\n",
        "**Bad Prompt:**\n",
        "- \"Write something\"\n",
        "\n",
        "**Good Prompt:**\n",
        "- \"Write a professional email declining a meeting invitation\"\n",
        "\n",
        "**Bad Prompt:**\n",
        "- \"Explain AI\"\n",
        "\n",
        "**Good Prompt:**\n",
        "- \"Explain AI in simple terms for a 12-year-old student\""
      ]
    },
    {
      "cell_type": "markdown",
      "metadata": {},
      "source": [
        "## Simple Prompt Example in Python\n",
        "\n",
        "Below is a basic example of how you might structure a prompt in code:"
      ]
    },
    {
      "cell_type": "code",
      "execution_count": null,
      "metadata": {},
      "outputs": [],
      "source": [
        "# Basic prompt structure\n",
        "prompt = \"\"\"\n",
        "Task: Summarize the following text in 50 words\n",
        "Context: You are a helpful assistant\n",
        "Text: [Your text here]\n",
        "\n",
        "Please provide a clear, concise summary.\n",
        "\"\"\"\n",
        "\n",
        "# This structure gives AI clear instructions\n",
        "print(f\"Prompt: {prompt}\")"
      ]
    },
    {
      "cell_type": "markdown",
      "metadata": {},
      "source": [
        "## Key Takeaway\n",
        "\n",
        "**Prompts are instructions that transform AI from a general tool into a specialized assistant.**\n",
        "\n",
        "*(Question: What's one task you'd like to improve by prompting AI better?)*"
      ]
    }
  ],
  "metadata": {
    "kernelspec": {
      "display_name": "Python 3",
      "language": "python",
      "name": "python3"
    },
    "language_info": {
      "name": "python",
      "version": "3.x"
    }
  },
  "nbformat": 4,
  "nbformat_minor": 5
}