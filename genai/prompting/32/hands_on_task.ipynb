{
  "cells": [
    {
      "cell_type": "markdown",
      "metadata": {},
      "source": [
        "# Prompt Lab Experiments\n",
        "\n",
        "Welcome to your prompt engineering lab! In this notebook, we will explore different ways to craft prompts for AI. We'll try out various prompt structures for tasks like summarizing articles, explaining concepts, and creating stories. Let's get started!"
      ]
    },
    {
      "cell_type": "markdown",
      "metadata": {},
      "source": [
        "## Experiment 1: Text Summarization\n",
        "\n",
        "In this experiment, you will test different prompt styles to summarize a long article. Compare the results based on quality, focus, and length."
      ]
    },
    {
      "cell_type": "markdown",
      "metadata": {},
      "source": [
        "**Prompt Template 1 (Basic):**\n",
        "\n",
        "```plaintext\n",
        "Summarize this article: [paste article]\n",
        "```"
      ]
    },
    {
      "cell_type": "markdown",
      "metadata": {},
      "source": [
        "**Prompt Template 2 (Structured):**\n",
        "\n",
        "```plaintext\n",
        "Summarize the following article in exactly 3 bullet points, focusing on key insights: [paste article]\n",
        "```"
      ]
    },
    {
      "cell_type": "markdown",
      "metadata": {},
      "source": [
        "**Prompt Template 3 (Role-based):**\n",
        "\n",
        "```plaintext\n",
        "You are a busy executive. Summarize this article in 50 words, highlighting business implications: [paste article]\n",
        "```"
      ]
    },
    {
      "cell_type": "markdown",
      "metadata": {},
      "source": [
        "## Experiment 2: Topic Explanation\n",
        "\n",
        "Choose a technical concept and test how to explain it for different audiences to see what makes the explanation clear and appropriate."
      ]
    },
    {
      "cell_type": "markdown",
      "metadata": {},
      "source": [
        "**Prompt Template 1 (Child):**\n",
        "\n",
        "```plaintext\n",
        "Explain [your topic] like you're talking to a curious 10-year-old.\n",
        "```"
      ]
    },
    {
      "cell_type": "markdown",
      "metadata": {},
      "source": [
        "**Prompt Template 2 (Beginner):**\n",
        "\n",
        "```plaintext\n",
        "Explain [your topic] to someone with no technical background in simple, practical terms.\n",
        "```"
      ]
    },
    {
      "cell_type": "markdown",
      "metadata": {},
      "source": [
        "**Prompt Template 3 (Professional):**\n",
        "\n",
        "```plaintext\n",
        "Provide a concise professional explanation of [your topic] for a business meeting.\n",
        "```"
      ]
    },
    {
      "cell_type": "markdown",
      "metadata": {},
      "source": [
        "## Experiment 3: Creative Writing\n",
        "\n",
        "Generate creative stories or dialogues with different constraints and styles. Compare how constraints influence the creativity of the responses."
      ]
    },
    {
      "cell_type": "markdown",
      "metadata": {},
      "source": [
        "**Prompt Template 1 (Open):**\n",
        "\n",
        "```plaintext\n",
        "Write a short story about time travel.\n",
        "```"
      ]
    },
    {
      "cell_type": "markdown",
      "metadata": {},
      "source": [
        "**Prompt Template 2 (Constrained):**\n",
        "\n",
        "```plaintext\n",
        "Write a 100-word story about time travel that takes place entirely in a coffee shop.\n",
        "```"
      ]
    },
    {
      "cell_type": "markdown",
      "metadata": {},
      "source": [
        "**Prompt Template 3 (Style-specific):**\n",
        "\n",
        "```plaintext\n",
        "Write a humorous dialogue between a time traveler and a barista who's seen everything.\n",
        "```"
      ]
    },
    {
      "cell_type": "markdown",
      "metadata": {},
      "source": [
        "## Experiment Structure and Documentation\n",
        "\n",
        "Use the provided notebook to record your results for each experiment. Document each prompt, the AI's response, rate the responses, and note what made each prompt effective or ineffective."
      ]
    },
    {
      "cell_type": "markdown",
      "metadata": {},
      "source": [
        "## Wrap-up and Key Observations\n",
        "\n",
        "- Which prompt structure worked best for each task?\n",
        "- How did role-based prompts influence the responses?\n",
        "- What was the impact of constraints on creativity?\n",
        "- Were there any surprises in the AI's responses?\n",
        "\n",
        "*Great job! You've completed your first series of prompt experiments!*"
      ]
    }
  ],
  "metadata": {
    "kernelspec": {
      "display_name": "Python 3",
      "language": "python",
      "name": "python3"
    },
    "language_info": {
      "name": "python",
      "version": "3.x"
    }
  },
  "nbformat": 4,
  "nbformat_minor": 5
}