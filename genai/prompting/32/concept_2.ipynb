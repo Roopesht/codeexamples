{
  "cells": [
    {
      "cell_type": "markdown",
      "metadata": {},
      "source": [
        "# Anatomy of a Prompt\n",
        "\n",
        "In this notebook, we will learn about the important parts of creating effective prompts for AI models. Understanding these components helps you get better responses from AI assistants!"
      ]
    },
    {
      "cell_type": "markdown",
      "metadata": {},
      "source": [
        "## 🔍 Prompt Components\n",
        "\n",
        "Prompts are made up of different parts that help guide the AI. Let's look at the three core elements:"
      ]
    },
    {
      "cell_type": "markdown",
      "metadata": {},
      "source": [
        "- 🎭 **System:** Sets the AI's role and behavior\n",
        "- 👤 **User:** Your actual request or question\n",
        "- 🤖 **Assistant:** The AI's structured response"
      ]
    },
    {
      "cell_type": "markdown",
      "metadata": {},
      "source": [
        "## 🎭 System Messages\n",
        "\n",
        "System messages help define how the AI should behave. For example, you can set the AI's role, tone, and constraints."
      ]
    },
    {
      "cell_type": "markdown",
      "metadata": {},
      "source": [
        "- 💼 Define role: \"You are a professional copywriter\"\n",
        "- 📏 Set constraints: \"Keep responses under 100 words\"\n",
        "- 🎯 Specify tone: \"Be encouraging and supportive\"\n",
        "- 📋 Provide context: \"You help marketing teams\""
      ]
    },
    {
      "cell_type": "markdown",
      "metadata": {},
      "source": [
        "## 👤 User Messages\n",
        "\n",
        "User messages are your questions or requests. To communicate clearly, include specific questions, relevant details, desired output format, and examples if needed."
      ]
    },
    {
      "cell_type": "markdown",
      "metadata": {},
      "source": [
        "- ❓ Specific question or task\n",
        "- 📊 Relevant context or data\n",
        "- 🎯 Desired output format\n",
        "- 📝 Examples when helpful"
      ]
    },
    {
      "cell_type": "markdown",
      "metadata": {},
      "source": [
        "## 💡 Complete Prompt Structure\n",
        "\n",
        "Here's an example of how to combine system and user messages in a structured prompt:"
      ]
    },
    {
      "cell_type": "code",
      "execution_count": null,
      "outputs": [],
      "source": [
        "# Multi-part prompt structure\n",
        "messages = [\n",
        "    {\n",
        "        \"role\": \"system\", \n",
        "        \"content\": \"You are a helpful Python tutor who explains concepts clearly with examples.\"\n",
        "    },\n",
        "    {\n",
        "        \"role\": \"user\", \n",
        "        \"content\": \"Explain Python lists in simple terms with a practical example.\"\n",
        "    }\n",
        "]\n",
        "\n",
        "# This creates clear role separation"
      ]
    },
    {
      "cell_type": "markdown",
      "metadata": {},
      "source": [
        "## 🔧 Practical Implementation\n",
        "\n",
        "Let's see a simple Python function to create such prompts easily."
      ]
    },
    {
      "cell_type": "code",
      "execution_count": null,
      "outputs": [],
      "source": [
        "# Building effective prompts\n",
        "def create_prompt(role, task, context=\"\", format_req=\"\"):\n",
        "    system_msg = f\"You are a {role}. {context}\"\n",
        "    user_msg = f\"{task}\"\n",
        "    \n",
        "    if format_req:\n",
        "        user_msg += f\" Format your response as: {format_req}\"\n",
        "    \n",
        "    return {\n",
        "        \"system\": system_msg,\n",
        "        \"user\": user_msg\n",
        "    }\n",
        "\n",
        "# Example usage\n",
        "prompt = create_prompt(\n",
        "    role=\"data analyst\",\n",
        "    task=\"Analyze this sales data trend\",\n",
        "    format_req=\"bullet points with key insights\"\n",
        ")\n",
        "\n",
        "prompt"
      ]
    },
    {
      "cell_type": "markdown",
      "metadata": {},
      "source": [
        "## 🎯 Key Takeaway\n",
        "\n",
        "Well-structured prompts lead to better responses from AI. Combining system instructions, clear user questions, and response formats helps achieve success!"
      ]
    },
    {
      "cell_type": "markdown",
      "metadata": {},
      "source": [
        "---\n",
        "\n",
        "**Question:**\n",
        "How would you structure a prompt for your specific use case?"
      ]
    }
  ],
  "metadata": {
    "kernelspec": {
      "display_name": "Python 3",
      "language": "python",
      "name": "python3"
    },
    "language_info": {
      "codemirror_mode": {
        "name": "python",
        "version": 3
      },
      "file_extension": ".py",
      "mimetype": "text/x-python",
      "name": "python",
      "nbconvert_exporter": "python",
      "version": "3.8"
    }
  },
  "nbformat": 4,
  "nbformat_minor": 5
}