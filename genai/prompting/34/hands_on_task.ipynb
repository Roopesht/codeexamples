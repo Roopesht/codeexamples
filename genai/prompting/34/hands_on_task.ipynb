{
  "cells": [
    {
      "cell_type": "markdown",
      "metadata": {},
      "source": [
        "# Building a Reasoning Assistant\n",
        "\n",
        "This notebook guides you through creating a simple reasoning assistant that can help solve different types of problems step-by-step.\n",
        "\n",
        "We will design a basic system that can classify problems, choose appropriate solving templates, and output clear reasoning.\n"
      ]
    },
    {
      "cell_type": "markdown",
      "metadata": {},
      "source": [
        "## Problem Types and Templates\n",
        "\n",
        "Our reasoning assistant can handle three problem types:\n",
        "- Math problems\n",
        "- Logical puzzles\n",
        "- Text analysis\n",
        "\n",
        "For each, we will define a template that guides the step-by-step reasoning process."
      ]
    },
    {
      "cell_type": "code",
      "execution_count": null,
      "outputs": [],
      "metadata": {},
      "source": [
        "class ReasoningAssistant:\n",
        "    def __init__(self):\n",
        "        self.templates = {\n",
        "            'math': \"Solve step by step: {problem}\\n1. Identify what we know\\n2. Identify what we need to find\\n3. Choose the method\\n4. Calculate step by step\\n5. Verify the answer\",\n",
        "            'logic': \"Think through this logically: {problem}\\n1. List the given facts\\n2. Identify the question\\n3. Reason through each step\\n4. Draw conclusion\",\n",
        "            'text': \"Analyze this systematically: {problem}\\n1. Break down the main argument\\n2. Identify key points\\n3. Evaluate each point\\n4. Synthesize conclusion\"\n",
        "        }\n",
        "    \n",
        "    def classify_problem(self, problem):\n",
        "        '''Basic classification based on keywords in the problem.'''\n",
        "        problem_lower = problem.lower()\n",
        "        if any(word in problem_lower for word in ['calculate', 'revenue', 'percentage', 'growth', 'increase', 'loss', 'sum', 'difference', 'product', 'divide']):\n",
        "            return 'math'\n",
        "        elif any(word in problem_lower for word in ['if', 'and', 'or', 'not', 'all', 'some', 'every', 'logical', 'puzzle', 'puzzles', 'sequence', 'pattern']):\n",
        "            return 'logic'\n",
        "        else:\n",
        "            return 'text'\n",
        "    \n",
        "    def solve(self, problem):\n",
        "        problem_type = self.classify_problem(problem)\n",
        "        template = self.templates[problem_type]\n",
        "        reasoning_output = template.format(problem=problem)\n",
        "        return reasoning_output\n"
      ]
    },
    {
      "cell_type": "markdown",
      "metadata": {},
      "source": [
        "## Using the Reasoning Assistant\n",
        "\n",
        "Let's create an instance of the assistant and see how it classifies and provides step-by-step reasoning for sample problems."
      ]
    },
    {
      "cell_type": "code",
      "execution_count": null,
      "outputs": [],
      "metadata": {},
      "source": [
        "# Create an instance of the assistant\n",
        "assistant = ReasoningAssistant()\n",
        "\n",
        "# Example problems\n",
        "problems = [\n",
        "    \"A company's revenue grew from $50,000 to $75,000. What's the percentage increase?\",\n",
        "    \"If all birds can fly and penguins are birds, can penguins fly?\",\n",
        "    \"Explain the importance of the scientific method in research.\"\n",
        "]\n",
        "\n",
        "for problem in problems:\n",
        "    print(f\"Problem: {problem}\")\n",
        "    reasoning = assistant.solve(problem)\n",
        "    print(reasoning)\n",
        "    print(\"\"\"\n",
        "----------\n",
        "\"\"\")"
      ]
    }
  ],
  "metadata": {
    "kernelspec": {
      "display_name": "Python 3",
      "language": "python",
      "name": "python3"
    },
    "language_info": {
      "name": "python",
      "version": "3.x"
    }
  },
  "nbformat": 4,
  "nbformat_minor": 5
}