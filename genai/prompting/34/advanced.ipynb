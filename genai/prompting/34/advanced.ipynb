{
  "cells": [
    {
      "cell_type": "markdown",
      "metadata": {},
      "source": [
        "# Self-Consistency Prompting\n",
        "\n",
        "In this notebook, we'll learn about a technique called self-consistency prompting. It's a way to get more reliable answers from AI by asking the same question multiple times and comparing the results."
      ]
    },
    {
      "cell_type": "markdown",
      "metadata": {},
      "source": [
        "## 🔄 What is Self-Consistency Prompting?\n",
        "\n",
        "**Next Level Strategy:** Run the same problem multiple times, compare results\n",
        "\n",
        "**Why?** Even AI can have \"off days\" — consistency builds confidence\n",
        "\n",
        "![Multiple paths leading to the same destination, showing consistency in approach](images/multiple_paths_consistency.png)"
      ]
    },
    {
      "cell_type": "markdown",
      "metadata": {},
      "source": [
        "## 🎯 How Self-Consistency Works\n",
        "\n",
        "The process involves four main steps:\n",
        "\n",
        "1. **Run Multiple Attempts:** Ask the same question 3-5 times\n",
        "2. **Compare Reasoning Paths:** Different approaches to the same problem\n",
        "3. **Find Consensus:** The most common answer is considered the best\n",
        "4. **Build Confidence:** Consistent results make the answer more reliable\n",
        "\n",
        "_Like getting multiple expert opinions before a big decision! 🏥_"
      ]
    },
    {
      "cell_type": "markdown",
      "metadata": {},
      "source": [
        "## 💻 Self-Consistency Demo\n",
        "\n",
        "Below is a sample function that runs the same problem multiple times and compares the results."
      ]
    },
    {
      "cell_type": "code",
      "metadata": {},
      "execution_count": null,
      "outputs": [],
      "source": [
        "import openai\n",
        "# Make sure to set your OpenAI API key:\n",
        "# openai.api_key = \"YOUR_API_KEY\"\n",
        "def self_consistency_prompt(problem, attempts=3):\n",
        "    \"\"\"\n",
        "    Run the same problem multiple times and collect responses\n",
        "    \"\"\"\n",
        "    base_prompt = f\"\"\"\n",
        "Solve this step-by-step: {problem}\n",
        "Show your reasoning clearly.\n",
        "\"\"\"\n",
        "    results = []\n",
        "    for i in range(attempts):\n",
        "        response = openai.ChatCompletion.create(\n",
        "            model=\"gpt-3.5-turbo\",\n",
        "            messages=[{\"role\": \"user\", \"content\": base_prompt}],\n",
        "            temperature=0.7  # Add variation between attempts\n",
        "        )\n",
        "        results.append(response.choices[0].message.content)\n",
        "    return results\n",
        "\n",
        "# Example problem to test self-consistency\n",
        "problem = \"A bakery sells cupcakes for $3 each. If they sell 47 cupcakes on Monday and 38 on Tuesday, how much revenue did they make?\"\n",
        "\n",
        "answers = self_consistency_prompt(problem)\n",
        "\n",
        "for i, answer in enumerate(answers):\n",
        "    print(f\"Attempt {i+1}:\", answer[:100] + \"...\")"
      ]
    },
    {
      "cell_type": "markdown",
      "metadata": {},
      "source": [
        "### 🚀 Try it yourself\n",
        "\n",
        "You can copy the `self_consistency_prompt` function and test it with different problems to see how consistent the answers are."
      ]
    },
    {
      "cell_type": "markdown",
      "metadata": {},
      "source": [
        "## 🤖 When to Use Self-Consistency\n",
        "\n",
        "Self-consistency helps validate AI reasoning by comparing multiple attempts. This can be useful in situations where accuracy is critical.\n",
        "\n",
        "### Questions to consider:\n",
        "- When might you want to use this approach in real applications?\n",
        "- What are the trade-offs between achieving more accurate results versus faster responses?"
      ]
    }
  ],
  "metadata": {
    "kernelspec": {
      "name": "python3",
      "display_name": "Python 3",
      "language": "python"
    },
    "language_info": {
      "name": "python",
      "version": "3.x"
    }
  },
  "nbformat": 4,
  "nbformat_minor": 5
}