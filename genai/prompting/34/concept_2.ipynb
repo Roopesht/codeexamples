{
  "cells": [
    {
      "cell_type": "markdown",
      "metadata": {},
      "source": [
        "# 📊 Concept 2: Math Reasoning & Code Explanation\n",
        "\n",
        "In this notebook, we'll explore how math and code reasoning go hand-in-hand. Understanding how to break down problems logically helps us both in solving math puzzles and writing clear, effective code."
      ]
    },
    {
      "cell_type": "markdown",
      "metadata": {},
      "source": [
        "## Why Math and Code?\n",
        "\n",
        "Math helps develop logical thinking, and code is a way to implement those logical steps in solving problems. Combining both allows us to reason clearly and find solutions efficiently."
      ]
    },
    {
      "cell_type": "markdown",
      "metadata": {},
      "source": [
        "![Split screen showing mathematical equation on left and code snippet on right, representing logical thinking. size 700x400](images/math_code_reasoning.png)"
      ]
    },
    {
      "cell_type": "markdown",
      "metadata": {},
      "source": [
        "### 🧮 Math Reasoning Example"
      ]
    },
    {
      "cell_type": "markdown",
      "metadata": {},
      "source": [
        "**Problem:** \"Sarah bought 3 packs of stickers. Each pack has 12 stickers. She gave away 8 stickers. How many does she have now?\""
      ]
    },
    {
      "cell_type": "markdown",
      "metadata": {},
      "source": [
        "Let's walk through the steps to find the answer:"
      ]
    },
    {
      "cell_type": "markdown",
      "metadata": {},
      "source": [
        "1. First, calculate total stickers: 3 packs × 12 stickers = 36 stickers\n",
        "2. Then, subtract the stickers she gave away: 36 - 8 = 28 stickers\n",
        "3. So, Sarah now has 28 stickers."
      ]
    },
    {
      "cell_type": "markdown",
      "metadata": {},
      "source": [
        "### 💻 Code Explanation Example"
      ]
    },
    {
      "cell_type": "markdown",
      "metadata": {},
      "source": [
        "Here's a Python code snippet that accomplishes this calculation:"
      ]
    },
    {
      "cell_type": "code",
      "execution_count": null,
      "metadata": {},
      "outputs": [],
      "source": [
        "numbers = [1, 2, 3, 4, 5]\n",
        "result = [x * 2 for x in numbers if x % 2 == 0]\n",
        "print(result)"
      ]
    },
    {
      "cell_type": "markdown",
      "metadata": {},
      "source": [
        "Let's explain what this code does step-by-step:"
      ]
    },
    {
      "cell_type": "markdown",
      "metadata": {},
      "source": [
        "1. Creates a list of numbers: [1, 2, 3, 4, 5]\n",
        "2. Filters out the even numbers: x % 2 == 0 selects [2, 4]\n",
        "3. Multiplies each by 2: 2*2=4, 4*2=8\n",
        "4. The result is [4, 8]"
      ]
    },
    {
      "cell_type": "markdown",
      "metadata": {},
      "source": [
        "### 🎯 Advanced Math Demo"
      ]
    },
    {
      "cell_type": "code",
      "execution_count": null,
      "metadata": {},
      "outputs": [],
      "source": [
        "complex_problem = \"\"\"\n",
        "A rectangular garden is 15 meters long and 8 meters wide.\n",
        "If you want to put a 1-meter wide path around it, \n",
        "what's the area of just the path?\n",
        "Show your calculation step by step.\n",
        "\"\"\"\n",
        "\n",
        "response = openai.ChatCompletion.create(\n",
        "    model=\"gpt-4\",\n",
        "    messages=[{\n",
        "        \"role\": \"user\", \n",
        "        \"content\": complex_problem\n",
        "    }]\n",
        ")"
      ]
    },
    {
      "cell_type": "markdown",
      "metadata": {},
      "source": [
        "[🚀 See Full Demo](https://colab.research.google.com/github/Roopesht/codeexamples/blob/main/genai/python_easy/3/concept_2_math.ipynb)"
      ]
    },
    {
      "cell_type": "markdown",
      "metadata": {},
      "source": [
        "### 🎪 Reasoning Made Simple"
      ]
    },
    {
      "cell_type": "markdown",
      "metadata": {},
      "source": [
        "Math plus code reasoning follow a pattern:\n",
        "\n",
        "Break down → Solve pieces → Combine → Verify"
      ]
    },
    {
      "cell_type": "markdown",
      "metadata": {},
      "source": [
        "### 🎨 Reasoning from Another Perspective"
      ]
    },
    {
      "cell_type": "markdown",
      "metadata": {},
      "source": [
        "**Think of Chain of Thought reasoning like cooking a complex recipe:**\n",
        "\n",
        "- 🥘 **Final dish:** Your answer\n",
        "- 📝 **Recipe steps:** Your reasoning chain\n",
        "- 🔍 **Taste testing:** Checking each step\n",
        "- 🍽️ **Presentation:** Clear explanation\n",
        "\n",
        "_You wouldn't skip steps in a complex recipe - same with complex problems!_"
      ]
    },
    {
      "cell_type": "markdown",
      "metadata": {},
      "source": [
        "**I hope this cooking analogy makes reasoning chains deliciously clear! 👨‍🍳**"
      ]
    },
    {
      "cell_type": "markdown",
      "metadata": {},
      "source": [
        "### 🎯 Challenge Question"
      ]
    },
    {
      "cell_type": "markdown",
      "metadata": {},
      "source": [
        "**Chain of Thought reasoning excels at breaking complex problems into manageable steps.**\n",
        "\n",
        "Can you think of a time when showing your work helped someone else understand your solution better? How might this apply to AI interactions?"
      ]
    }
  ],
  "metadata": {
    "kernelspec": {
      "display_name": "Python 3",
      "language": "python",
      "name": "python3"
    },
    "language_info": {
      "name": "python",
      "version": "3.x"
    }
  },
  "nbformat": 4,
  "nbformat_minor": 5
}