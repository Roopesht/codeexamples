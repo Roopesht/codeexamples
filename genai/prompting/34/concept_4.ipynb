{
  "cells": [
    {
      "cell_type": "markdown",
      "metadata": {},
      "source": [
        "# When to Use Chain of Thought (CoT) vs Direct Prompting"
      ]
    },
    {
      "cell_type": "markdown",
      "metadata": {},
      "source": [
        "## Introduction\n",
        "In this notebook, we'll learn about two different prompting strategies: **Direct Prompting** and **Chain of Thought (CoT) Prompting**.\n",
        "\n",
        "### Key Question:\n",
        "Not every problem needs detailed step-by-step reasoning. Choosing the right prompting method depends on the task.\n",
        "\n",
        "### Smart Strategy:\n",
        "Choose the right tool for the right job!"
      ]
    },
    {
      "cell_type": "markdown",
      "metadata": {},
      "source": [
        "## When to Use Each Approach\n",
        "\n",
        "### Use Direct Prompting for:\n",
        "- Simple factual questions\n",
        "- Quick translations\n",
        "- Basic classifications\n",
        "- Creative writing prompts\n",
        "- Time-sensitive responses\n",
        "\n",
        "### Use CoT Prompting for:\n",
        "- Mathematical calculations\n",
        "- Logical reasoning problems\n",
        "- Multi-step analysis\n",
        "- Decision explanations\n",
        "- Educational content"
      ]
    },
    {
      "cell_type": "markdown",
      "metadata": {},
      "source": [
        "## Side-by-Side Comparison\n",
        "\n",
        "| Task Type       | Direct Prompting               | CoT Prompting            |\n",
        "|-----------------|--------------------------------|--------------------------|\n",
        "| Weather Query   | ✅ \"What's the weather?\"      | ❌ Overkill              |\n",
        "| Budget Planning | ❌ Too complex                 | ✅ Step-by-step analysis |\n",
        "| Poetry Writing  | ✅ Creative flow               | ⚖️ Depends on goal        |"
      ]
    },
    {
      "cell_type": "markdown",
      "metadata": {},
      "source": [
        "## Code Demo: Smart Prompting Decision"
      ]
    },
    {
      "cell_type": "code",
      "metadata": {},
      "source": [
        "def choose_prompting_strategy(task_type, complexity):\n",
        "    \"\"\"\n",
        "    Decide between direct and CoT prompting\n",
        "    \"\"\"\n",
        "    if complexity == \"simple\" and task_type in [\"factual\", \"creative\", \"translation\"]:\n",
        "        return \"direct\"\n",
        "    elif complexity in [\"complex\", \"multi-step\"] or task_type in [\"mathematical\", \"logical\"]:\n",
        "        return \"chain_of_thought\"\n",
        "    else:\n",
        "        return \"try_both\"\n",
        "\n",
        "# Examples\n",
        "print(choose_prompting_strategy(\"mathematical\", \"complex\"))  # chain_of_thought\n",
        "print(choose_prompting_strategy(\"translation\", \"simple\"))    # direct\n",
        "print(choose_prompting_strategy(\"creative\", \"complex\"))      # try_both\n",
        "\n",
        "# Test in practice\n",
        "task = \"Explain why this investment is good\"\n",
        "strategy = choose_prompting_strategy(\"logical\", \"complex\")\n",
        "print(f\"For '{task}', use: {strategy}\")"
      ],
      "execution_count": null,
      "outputs": []
    },
    {
      "cell_type": "markdown",
      "metadata": {},
      "source": [
        "[Practice this decision-making process on Colab](https://colab.research.google.com/github/Roopesht/codeexamples/blob/main/genai/python_easy/3/concept_4_choosing.ipynb)"
      ]
    },
    {
      "cell_type": "markdown",
      "metadata": {},
      "source": [
        "## Choosing Made Simple\n",
        "\n",
        "Follow this simple decision tree:\n",
        "\n",
        "![Decision Tree SVG](decision-flow.svg)  \n",
        "*Placeholder for SVG visualization*  \n",
        "\n",
        "**Note:**  \n",
        "Is it complex? Does it need explanation? → Use CoT! 🧠"
      ]
    },
    {
      "cell_type": "markdown",
      "metadata": {},
      "source": [
        "## Alternative Perspective\n",
        "\n",
        "Think of prompting strategies like ordering food:\n",
        "- 🍕 **Fast food (Direct):** Quick, simple, gets the job done\n",
        "- 🍽️ **Fine dining (CoT):** Detailed, explained, step-by-step service\n",
        "- ⏰ **Time matters:** Hungry now? Go direct. Want an in-depth answer? Go CoT\n",
        "- 👥 **Audience matters:** Just for you? Maybe direct. Teaching others? CoT!\n",
        "\n",
        "Both have their place - choose based on your needs!\n",
        "\n",
        "**I hope this restaurant analogy makes choosing strategies tastier! 🍽️**"
      ]
    },
    {
      "cell_type": "markdown",
      "metadata": {},
      "source": [
        "## Strategy Question\n",
        "\n",
        "**Remember:** Use Direct for simple, quick tasks and CoT for complex, educational tasks.\n",
        "\n",
        "Reflect on your daily work:\n",
        "- Can you identify 2 tasks where you'd use direct prompting?\n",
        "- Can you identify 2 tasks where you'd want CoT?\n",
        "What makes these tasks different?"
      ]
    }
  ],
  "metadata": {
    "kernelspec": {
      "display_name": "Python 3",
      "language": "python",
      "name": "python3"
    },
    "language_info": {
      "name": "python",
      "version": "3.8.10"
    }
  },
  "nbformat": 4,
  "nbformat_minor": 5
}