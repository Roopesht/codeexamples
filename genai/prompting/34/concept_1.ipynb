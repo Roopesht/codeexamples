{
  "cells": [
    {
      "cell_type": "markdown",
      "metadata": {},
      "source": [
        "# Introduction to Chain-of-Thought (CoT) Prompting\n",
        "\n",
        "In this notebook, we will learn about Chain-of-Thought (CoT) prompting, a technique that helps AI explain its reasoning step-by-step. This approach makes AI's answers more transparent and trustworthy."
      ]
    },
    {
      "cell_type": "markdown",
      "metadata": {},
      "source": [
        "## What is CoT Prompting?\n",
        "\n",
        "**Simple Definition:** Teaching AI to show its work, step-by-step.\n",
        "\n",
        "**Analogy:** Like asking a student to explain their math solution on the whiteboard."
      ]
    },
    {
      "cell_type": "markdown",
      "metadata": {},
      "source": [
        "![Teacher asking student to explain math problem step by step on whiteboard](images/cot_analogy.png)"
      ]
    },
    {
      "cell_type": "markdown",
      "metadata": {},
      "source": [
        "## Direct Prompting vs Chain-of-Thought\n",
        "\n",
        "Let's look at the difference between direct prompting and CoT prompting:"
      ]
    },
    {
      "cell_type": "markdown",
      "metadata": {},
      "source": [
        "### ❌ Direct Prompting\n",
        "\n",
        "- Example: \"What is 23 × 47?\"\n",
        "- Output: \"1081\"\n",
        "- No explanation, hard to verify the reasoning."
      ]
    },
    {
      "cell_type": "markdown",
      "metadata": {},
      "source": [
        "### ✅ Chain-of-Thought (CoT)\n",
        "\n",
        "- Example: \"What is 23 × 47? Show your work.\"\n",
        "- Output: \"23 × 47 = 23 × (40 + 7) = 23 × 40 + 23 × 7 = 920 + 161 = 1081\"\n",
        "- Provides clear reasoning, steps easy to check."
      ]
    },
    {
      "cell_type": "markdown",
      "metadata": {},
      "source": [
        "## Real-World Example\n",
        "\n",
        "**Scenario:** A customer support chatbot handling refund requests.\n",
        "\n",
        "- **Direct:** \"Approved\" or \"Denied\" (may be confusing)\n",
        "- **CoT:** \"Let me check: purchase was made 10 days ago ✓, item is returnable ✓, condition meets policy ✓. Therefore, your refund is approved!\"\n",
        "\n",
        "_Builds trust through transparency! 🤝_"
      ]
    },
    {
      "cell_type": "markdown",
      "metadata": {},
      "source": [
        "## Code Demo: Basic CoT\n",
        "\n",
        "Let's see how we can prompt an AI model to show its reasoning step-by-step with a simple example."
      ]
    },
    {
      "cell_type": "code",
      "execution_count": null,
      "metadata": {},
      "outputs": [],
      "source": [
        "import openai\n",
        "\n",
        "# Direct prompting\n",
        "direct_prompt = \"Solve: A store has 156 apples. They sell 67. How many are left?\"\n",
        "\n",
        "# Chain-of-Thought prompting\n",
        "cot_prompt = \"\"\"\n",
        "Solve this step by step:\n",
        "A store has 156 apples. They sell 67. How many are left?\n",
        "\n",
        "Please show your reasoning process.\n",
        "\"\"\"\n",
        "\n",
        "response = openai.ChatCompletion.create(\n",
        "    model=\"gpt-3.5-turbo\",\n",
        "    messages=[{\"role\": \"user\", \"content\": cot_prompt}]\n",
        ")"
      ]
    },
    {
      "cell_type": "markdown",
      "metadata": {},
      "source": [
        "[🚀 Try This in Colab](https://colab.research.google.com/github/Roopesht/codeexamples/blob/main/genai/python_easy/3/concept_1_cot.ipynb)"
      ]
    },
    {
      "cell_type": "markdown",
      "metadata": {},
      "source": [
        "## CoT Made Simple\n",
        "\n",
        "Think of CoT as AI's \"thought bubble\" 💭, where the AI is reasoning out loud before giving the answer."
      ]
    },
    {
      "cell_type": "markdown",
      "metadata": {},
      "source": [
        "<svg id=\"cot-flow\" width=\"800\" height=\"300\" class=\"svg\"></svg>\n",
        "\n",
        "### Problem → Thinking Steps → Solution"
      ]
    },
    {
      "cell_type": "markdown",
      "metadata": {},
      "source": [
        "## CoT from a Different Angle\n",
        "\n",
        "**GPS Navigation Analogy:**\n",
        "- 🎯 Destination: Final answer\n",
        "- 🛣️ Route: Step-by-step reasoning\n",
        "- 📍 Checkpoints: Intermediate calculations\n",
        "- 🔄 Recalculation: Error correction possible\n",
        "\n",
        "_Just like trusting a GPS when you see the route, trusting AI is easier when reasoning steps are visible!_"
      ]
    },
    {
      "cell_type": "markdown",
      "metadata": {},
      "source": [
        "## Your Turn to Think\n",
        "\n",
        "CoT helps AI show its reasoning process step-by-step.\n",
        "\n",
        "Can you think of a situation where you'd want AI to show its working rather than just the final answer?"
      ]
    }
  ],
  "metadata": {
    "kernelspec": {
      "name": "python3",
      "display_name": "Python 3"
    },
    "language_info": {
      "name": "python",
      "version": ""
    }
  },
  "nbformat": 4,
  "nbformat_minor": 5
}