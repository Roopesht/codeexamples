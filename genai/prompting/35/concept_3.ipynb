{
  "cells": [
    {
      "cell_type": "markdown",
      "metadata": {},
      "source": [
        "# Building a Simple Chatbot with LangChain"
      ]
    },
    {
      "cell_type": "markdown",
      "metadata": {},
      "source": [
        "## Introduction\n",
        "In this notebook, we will learn how to create a simple chatbot using LangChain, a powerful Python library for building AI applications.\n",
        "We'll see what makes a chatbot, its components, and a basic example demonstrating how it can interact with users."
      ]
    },
    {
      "cell_type": "markdown",
      "metadata": {},
      "source": [
        "## What is a Chatbot?\n",
        "A chatbot simulates conversations with users. It manages the flow of dialogue, maintains some context, and responds in a human-like manner.\n",
        "Key features include conversation management, personality consistency, and input-output processing."
      ]
    },
    {
      "cell_type": "markdown",
      "metadata": {},
      "source": [
        "## Components of a Simple Chatbot\n",
        "- **System Prompt**: Defines the personality and behavior of the bot.\n",
        "- **LLMChain**: Processes the conversations and generates responses.\n",
        "- **Loop**: Handles ongoing user interaction."
      ]
    },
    {
      "cell_type": "markdown",
      "metadata": {},
      "source": [
        "## Real-World Example\n",
        "Imagine a customer support bot that is helpful, patient, and knowledgeable about company policies.\n",
        "It can answer FAQs, escalate issues, and log conversations, providing 24/7 support that feels human."
      ]
    },
    {
      "cell_type": "markdown",
      "metadata": {},
      "source": [
        "## Code Demo: Creating a Simple Chatbot"
      ]
    },
    {
      "cell_type": "code",
      "execution_count": null,
      "outputs": [],
      "metadata": {},
      "source": [
        "from langchain import PromptTemplate, LLMChain\n",
        "from langchain.llms import OpenAI\n",
        "\n",
        "# Define bot personality\n",
        "template = \"\"\"\n",
        "You are a helpful Python tutor named CodeBuddy.\n",
        "You explain concepts simply and encourage learning.\n",
        "\n",
        "Previous conversation: {history}\n",
        "Human: {human_input}\n",
        "CodeBuddy:\n",
        "\"\"\"\n",
        "\n",
        "prompt = PromptTemplate(\n",
        "    input_variables=[\"history\", \"human_input\"],\n",
        "    template=template\n",
        ")\n",
        "\n",
        "chatbot_chain = LLMChain(llm=OpenAI(temperature=0.7), prompt=prompt)"
      ]
    },
    {
      "cell_type": "markdown",
      "metadata": {},
      "source": [
        "## Chatbot in Action\n",
        "Let's see how to interact with our chatbot using a simple loop."
      ]
    },
    {
      "cell_type": "code",
      "execution_count": null,
      "outputs": [],
      "metadata": {},
      "source": [
        "# Simple chat loop\n",
        "history = \"\"\n",
        "while True:\n",
        "    user_input = input(\"You: \")\n",
        "    if user_input.lower() == 'quit':\n",
        "        break\n",
        "    \n",
        "    response = chatbot_chain.run(history=history, human_input=user_input)\n",
        "    \n",
        "    print(f\"CodeBuddy: {response}\")\n",
        "    history += f\"Human: {user_input}\\nCodeBuddy: {response}\\n\""
      ]
    },
    {
      "cell_type": "markdown",
      "metadata": {},
      "source": [
        "## Making a Simple Chatbot\n",
        "Think of your chatbot as a friendly character who always remembers what you talked about, stays consistent, and helps out in a human-like way.\n",
        "LangChain makes building such chatbots easy and fun!"
      ]
    },
    {
      "cell_type": "markdown",
      "metadata": {},
      "source": [
        "## Visualizing the Chatbot Concept\n",
        "Visualize your chatbot as an actor following a script:\n",
        "- **Character description**: The system prompt\n",
        "- **Improvisation skills**: LLM capabilities\n",
        "- **Director**: LangChain manages the flow\n",
        "- **Performance**: Engaging, natural conversations\n",
        "I hope this makes the idea clearer!"
      ]
    },
    {
      "cell_type": "markdown",
      "metadata": {},
      "source": [
        "## Final Thoughts\n",
        "With just a few lines of code, you can create chatbots that feel natural and stay true to their personality.\n",
        "🤔 **Question:** What personality would you give your first chatbot?"
      ]
    }
  ],
  "metadata": {
    "kernelspec": {
      "name": "python3",
      "display_name": "Python 3",
      "language": "python"
    },
    "language_info": {
      "name": "python",
      "version": "3.x"
    }
  },
  "nbformat": 4,
  "nbformat_minor": 5
}
