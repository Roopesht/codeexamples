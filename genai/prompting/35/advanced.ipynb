{
  "cells": [
    {
      "cell_type": "markdown",
      "metadata": {},
      "source": [
        "# Advanced: Memory in LangChain\n",
        "\n",
        "Making your AI remember conversations"
      ]
    },
    {
      "cell_type": "markdown",
      "metadata": {},
      "source": [
        "![Illustration showing a brain with connected nodes representing memory storage, size 600x400](images/langchain_memory.png)"
      ]
    },
    {
      "cell_type": "markdown",
      "metadata": {},
      "source": [
        "## What is Memory in LangChain?\n",
        "\n",
        "- 🧠 **Persistent context** across conversations\n",
        "- 📚 **Different types:** Buffer, Summary, Vector, Entity\n",
        "- ⚡ **Automatic management** of conversation history\n",
        "- 🎯 **Smart truncation** to stay within token limits"
      ]
    },
    {
      "cell_type": "markdown",
      "metadata": {},
      "source": [
        "## Memory Types (Quick Overview)\n",
        "\n",
        "- 💾 **ConversationBufferMemory:** Stores full conversation\n",
        "- 📝 **ConversationSummaryMemory:** Summarizes old messages\n",
        "- 🎯 **ConversationEntityMemory:** Tracks people/entities\n",
        "- 🔍 **VectorStoreRetrieverMemory:** Semantic search of history"
      ]
    },
    {
      "cell_type": "markdown",
      "metadata": {},
      "source": [
        "## Quick Memory Example"
      ]
    },
    {
      "cell_type": "code",
      "execution_count": null,
      "metadata": {},
      "outputs": [],
      "source": [
        "from langchain.memory import ConversationBufferMemory\n",
        "from langchain.chains import ConversationChain\n",
        "\n",
        "# Initialize memory\n",
        "memory = ConversationBufferMemory()\n",
        "\n",
        "# Create a conversation chain with memory\n",
        "conversation = ConversationChain(\n",
        "    llm=llm,  # Assuming 'llm' is predefined or imported in your environment\n",
        "    memory=memory,\n",
        "    verbose=True\n",
        ")\n",
        "\n",
        "# The chain now remembers previous exchanges\n",
        "response1 = conversation.predict(input=\"Hi, I'm Sarah\")\n",
        "response2 = conversation.predict(input=\"What's my name?\")\n",
        "# It will remember: \"Your name is Sarah\""
      ]
    },
    {
      "cell_type": "markdown",
      "metadata": {},
      "source": [
        "## Memory Made Simple\n",
        "\n",
        "**Like giving your chatbot a notebook:**\n",
        "\n",
        "- 📝 **Writes down** everything important\n",
        "- 👀 **Refers back** when needed\n",
        "- 🧹 **Organizes** old notes to save space\n",
        "- **Result:** Conversations that actually make sense!\n",
        "\n",
        "*We'll dive deeper in future sessions.*"
      ]
    },
    {
      "cell_type": "markdown",
      "metadata": {},
      "source": [
        "## Memory transforms one-shot interactions into meaningful relationships.\n",
        "\n",
        "🤔 **Question:** How might memory change the user experience of your AI applications?"
      ]
    }
  ],
  "metadata": {
    "kernelspec": {
      "display_name": "Python 3",
      "language": "python",
      "name": "python3"
    },
    "language_info": {
      "name": "python",
      "version": "3.x"
    }
  }
}