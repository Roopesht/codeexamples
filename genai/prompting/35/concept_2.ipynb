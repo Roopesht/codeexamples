{
  "cells": [
    {
      "cell_type": "markdown",
      "metadata": {},
      "source": [
        "# Concept 2: PromptTemplate and LLMChain"
      ]
    },
    {
      "cell_type": "markdown",
      "metadata": {},
      "source": [
        "Your first modular components"
      ]
    },
    {
      "cell_type": "markdown",
      "metadata": {},
      "source": [
        "![Visual showing a template with placeholders being filled with dynamic data, size 600x400](images/prompt_template.png)"
      ]
    },
    {
      "cell_type": "markdown",
      "metadata": {},
      "source": [
        "## What is a PromptTemplate?"
      ]
    },
    {
      "cell_type": "markdown",
      "metadata": {},
      "source": [
        "**Mad Libs for AI prompts!**"
      ]
    },
    {
      "cell_type": "markdown",
      "metadata": {},
      "source": [
        "- 📝 **Template** with placeholder variables",
        "- 🔄 **Reusable** across different inputs",
        "- ✅ **Consistent** prompt structure",
        "- 🎯 **Dynamic** content injection"
      ]
    },
    {
      "cell_type": "markdown",
      "metadata": {},
      "source": [
        "## What is an LLMChain?"
      ]
    },
    {
      "cell_type": "markdown",
      "metadata": {},
      "source": [
        "- 🔗 **Combines** PromptTemplate + LLM + Output Parser",
        "- ⚡ **Single call** to run the entire pipeline",
        "- 🎛️ **Configurable** - swap models easily",
        "- 📊 **Trackable** - debug each step"
      ]
    },
    {
      "cell_type": "markdown",
      "metadata": {},
      "source": [
        "## Real-World Example"
      ]
    },
    {
      "cell_type": "markdown",
      "metadata": {},
      "source": [
        "**Email Marketing Generator:**"
      ]
    },
    {
      "cell_type": "markdown",
      "metadata": {},
      "source": [
        "Template: \"Write a {tone} email for {audience} about {product} with {call_to_action}\""
      ]
    },
    {
      "cell_type": "markdown",
      "metadata": {},
      "source": [
        "**Usage:**"
      ]
    },
    {
      "cell_type": "markdown",
      "metadata": {},
      "source": [
        "- Professional email for executives about CRM Software",
        "- Friendly email for students about Study App",
        "- Urgent email for customers about Security Update"
      ]
    },
    {
      "cell_type": "markdown",
      "metadata": {},
      "source": [
        "🎯 **One template, endless variations!**"
      ]
    },
    {
      "cell_type": "markdown",
      "metadata": {},
      "source": [
        "## Code Demo: Basic Template"
      ]
    },
    {
      "cell_type": "code",
      "execution_count": null,
      "metadata": {},
      "outputs": [],
      "source": [
        "from langchain import PromptTemplate, LLMChain\n",
        "from langchain.llms import OpenAI\n",
        "\n",
        "# Create template\n",
        "template = \"\"\"\nYou are a {role} assistant.\nPlease help me {task} for {context}.\n\nRequest: {user_input}\n\"\"\"\n",
        "\n",
        "prompt = PromptTemplate(\n",
        "    input_variables=[\"role\", \"task\", \"context\", \"user_input\"],\n",
        "    template=template\n",
        ")\n",
        "\n",
        "llm = OpenAI(temperature=0.7)\n",
        "chain = LLMChain(llm=llm, prompt=prompt)"
      ]
    },
    {
      "cell_type": "markdown",
      "metadata": {},
      "source": [
        "[🚀 Open in Colab](https://colab.research.google.com/github/Roopesht/codeexamples/blob/main/genai/langchain/session4/concept_2.ipynb)"
      ]
    },
    {
      "cell_type": "markdown",
      "metadata": {},
      "source": [
        "## Input → Output Flow"
      ]
    },
    {
      "cell_type": "markdown",
      "metadata": {},
      "source": [
        "**Input:**"
      ]
    },
    {
      "cell_type": "code",
      "execution_count": null,
      "metadata": {},
      "outputs": [],
      "source": [
        "result = chain.run({\n",
        "    \"role\": \"marketing\",\n",
        "    \"task\": \"write social media posts\",\n",
        "    \"context\": \"product launch\",\n",
        "    \"user_input\": \"New AI-powered fitness app\"\n",
        "})"
      ]
    },
    {
      "cell_type": "markdown",
      "metadata": {},
      "source": [
        "**Output:**"
      ]
    },
    {
      "cell_type": "markdown",
      "metadata": {},
      "source": [
        "> \"🚀 Introducing FitAI! Revolutionize your workout with personalized AI coaching. Download now and transform your fitness journey! #FitAI #FitnessRevolution\""
      ]
    },
    {
      "cell_type": "markdown",
      "metadata": {},
      "source": [
        "## PromptTemplate Made Simple"
      ]
    },
    {
      "cell_type": "markdown",
      "metadata": {},
      "source": [
        "**Like a form letter with blanks to fill in:**"
      ]
    },
    {
      "cell_type": "markdown",
      "metadata": {},
      "source": [
        "📄 **Dear ___[name]___, Thank you for ___[action]___**"
      ]
    },
    {
      "cell_type": "markdown",
      "metadata": {},
      "source": [
        "🔄 Fill different values → Get personalized letters"
      ]
    },
    {
      "cell_type": "markdown",
      "metadata": {},
      "source": [
        "⚡ **LLMChain = Form Letter + AI Writer + Automatic Delivery**"
      ]
    },
    {
      "cell_type": "markdown",
      "metadata": {},
      "source": [
        "## Templates from a Different Angle"
      ]
    },
    {
      "cell_type": "markdown",
      "metadata": {},
      "source": [
        "**Think of PromptTemplate as a smart cookie cutter:**"
      ]
    },
    {
      "cell_type": "markdown",
      "metadata": {},
      "source": [
        "🍪 **Same shape** (consistent structure)"
      ]
    },
    {
      "cell_type": "markdown",
      "metadata": {},
      "source": [
        "🎨 **Different decorations** (variable content)"
      ]
    },
    {
      "cell_type": "markdown",
      "metadata": {},
      "source": [
        "🏭 **LLMChain = Cookie cutter + Oven + Packaging**"
      ]
    },
    {
      "cell_type": "markdown",
      "metadata": {},
      "source": [
        "💡 **I hope this is clear now!**"
      ]
    },
    {
      "cell_type": "markdown",
      "metadata": {},
      "source": [
        "## Question"
      ]
    },
    {
      "cell_type": "markdown",
      "metadata": {},
      "source": [
        "**PromptTemplate + LLMChain = Your first step toward professional AI applications.**"
      ]
    },
    {
      "cell_type": "markdown",
      "metadata": {},
      "source": [
        "🤔 **Question:** What kind of template would be most useful for your current projects?"
      ]
    }
  ],
  "metadata": {
    "kernelspec": {
      "name": "python3",
      "display_name": "Python 3",
      "language": "python"
    },
    "language_info": {
      "codemirror_mode": {
        "name": "ipython",
        "version": 3
      },
      "file_extension": ".py",
      "mimetype": "text/x-python",
      "name": "python",
      "nbconvert_exporter": "python",
      "version": "3.8"
    }
  },
  "nbformat": 4,
  "nbformat_minor": 5
}