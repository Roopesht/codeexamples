{
  "cells": [
    {
      "cell_type": "markdown",
      "metadata": {},
      "source": [
        "# Concept 4: LangChain Hub\n",
        "\n",
        "Welcome to the next concept: **LangChain Hub**! In this notebook, we'll explore what LangChain Hub is, its benefits, and how to use it with a simple code example.\n",
        "\n",
        "![Illustration showing a hub or marketplace with various AI tools and components](images/langchain_hub.png)"
      ]
    },
    {
      "cell_type": "markdown",
      "metadata": {},
      "source": [
        "## What is LangChain Hub?\n",
        "\n",
        "- 🏪 **Marketplace** for prompt templates and chains\n",
        "- 👥 **Community-driven** collection of tools\n",
        "- 🚀 **Ready-to-use** solutions for common tasks\n",
        "- 🎯 **Professionally tested** and optimized"
      ]
    },
    {
      "cell_type": "markdown",
      "metadata": {},
      "source": [
        "## Why Use LangChain Hub?\n",
        "\n",
        "- ⏱️ **Save time:** No need to reinvent the wheel\n",
        "- ✅ **Proven solutions:** Battle-tested by the community\n",
        "- 🎨 **Learn best practices:** See how experts structure prompts\n",
        "- 🔄 **Easy integration:** Drop into your existing code"
      ]
    },
    {
      "cell_type": "markdown",
      "metadata": {},
      "source": [
        "## Real-World Example\n",
        "\n",
        "**Available on LangChain Hub:**\n",
        "\n",
        "- 📊 **Data Analysis:** CSV question-answering chains\n",
        "- 📚 **Document Processing:** PDF summarization templates\n",
        "- 🔍 **Web Search:** Research assistant chains\n",
        "- 💼 **Business:** Email generation, meeting summaries\n",
        "\n",
        "🎯 **From idea to implementation in minutes!**"
      ]
    },
    {
      "cell_type": "markdown",
      "metadata": {},
      "source": [
        "## Code Demo: Loading from Hub\n",
        "\n",
        "```python\n",
        "from langchain import hub\n",
        "from langchain.llms import OpenAI\n",
        "from langchain.chains import LLMChain\n",
        "\n",
        "# Load a popular prompt from hub\n",
        "prompt = hub.pull(\"rlm/rag-prompt\")\n",
        "\n",
        "# Use it in your chain\n",
        "llm = OpenAI()\n",
        "chain = LLMChain(llm=llm, prompt=prompt)\n",
        "\n",
        "# Run with your data\n",
        "result = chain.run({\n",
        "    \"context\": \"Your document content here\",\n",
        "    \"question\": \"What are the main points?\"\n",
        "})\n",
        "```\n",
        "\n",
        "[🚀 Open in Colab](https://colab.research.google.com/github/Roopesht/codeexamples/blob/main/genai/langchain/session4/concept_4.ipynb)"
      ]
    },
    {
      "cell_type": "markdown",
      "metadata": {},
      "source": [
        "## Popular Hub Resources\n",
        "\n",
        "- 🎯 **rlm/rag-prompt:** Document Q&A template\n",
        "- 📝 **hwchase17/react-json:** Structured reasoning\n",
        "- 🔍 **wfh/code-analysis:** Code review assistant\n",
        "- 💬 **langchain-ai/chat-prompt:** Conversational templates\n",
        "\n",
        "*(Browse more at: hub.langchain.com)*"
      ]
    },
    {
      "cell_type": "markdown",
      "metadata": {},
      "source": [
        "## LangChain Hub Made Simple\n",
        "\n",
        "**Like an App Store for AI prompts:**\n",
        "\n",
        "- 📱 **Browse:** Find tools for your needs\n",
        "- ⬇️ **Download:** One line of code to import\n",
        "- 🚀 **Use:** Plug into your application immediately\n",
        "\n",
        "**Why build from scratch when experts already solved it?**"
      ]
    },
    {
      "cell_type": "markdown",
      "metadata": {},
      "source": [
        "## Hub from a Different Angle\n",
        "\n",
        "**Think of LangChain Hub as a recipe exchange:**\n",
        "\n",
        "- 👨‍🍳 **Master chefs** (AI experts) share their recipes\n",
        "- 📖 **Tested recipes** (proven prompt templates)\n",
        "- 🍳 **Your kitchen** (your application)\n",
        "- 🎯 **Perfect meals** (working AI solutions)\n",
        "\n",
        "🎯 **I hope this is clear now!**"
      ]
    },
    {
      "cell_type": "markdown",
      "metadata": {},
      "source": [
        "## Question\n",
        "\n",
        "**LangChain Hub transforms you from a prompt engineer to a prompt curator.**\n",
        "\n",
        "🤔 **Question:** What type of ready-made AI tool would save you the most time right now?"
      ]
    }
  ],
  "metadata": {
    "kernelspec": {
      "display_name": "Python 3",
      "language": "python",
      "name": "python3"
    },
    "language_info": {
      "name": "python",
      "version": "3.x"
    }
  },
  "nbformat": 4,
  "nbformat_minor": 5
}