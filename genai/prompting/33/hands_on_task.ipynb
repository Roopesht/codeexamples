{
  "cells": [
    {
      "cell_type": "markdown",
      "metadata": {},
      "source": [
        "# FAQ Customer Support Bot: Few-Shot Template Builder"
      ]
    },
    {
      "cell_type": "markdown",
      "metadata": {},
      "source": [
        "This notebook guides you through building a smart customer support chatbot using few-shot templates. "
      ]
    },
    {
      "cell_type": "markdown",
      "metadata": {},
      "source": [
        "## Introduction\n",
        "Our goal is to create a helpful bot that can answer common customer questions by learning from a few examples. We'll build templates for different FAQ categories, include dynamic variables for personalization, and test how well the bot responds."
      ]
    },
    {
      "cell_type": "markdown",
      "metadata": {},
      "source": [
        "## Step 1: Define FAQ Categories\n",
        "Let's identify the main topics our bot should handle. For simplicity, we'll consider five categories:"
      ]
    },
    {
      "cell_type": "markdown",
      "metadata": {},
      "source": [
        "- Returns\n",
        "- Billing\n",
        "- Technical Support\n",
        "- Shipping\n",
        "- General Inquiries"
      ]
    },
    {
      "cell_type": "markdown",
      "metadata": {},
      "source": [
        "## Step 2: Create Few-Shot Examples for Each Category\n",
        "We'll write three example questions and answers for each category to help our bot learn patterns. Here's an example for 'Returns':"
      ]
    },
    {
      "cell_type": "markdown",
      "metadata": {},
      "source": [
        "### Returns Examples"
      ]
    },
    {
      "cell_type": "code",
      "metadata": {},
      "source": [
        "# Example 1 for Returns\n",
        "returns_examples = [\n",
        "    {\n",
        "        'question': 'How do I return a product?',\n",
        "        'answer': 'To return a product, please visit our returns page and fill out the form. Include your order number and reason.'\n",
        "    },\n",
        "    {\n",
        "        'question': 'I want to send back my order.',\n",
        "        'answer': 'You can initiate a return through your account dashboard or contact support for assistance.'\n",
        "    },\n",
        "    {\n",
        "        'question': 'Return policy?',\n",
        "        'answer': 'Our return policy allows returns within 30 days of receipt. Make sure items are unused and in original packaging.'\n",
        "    }\n",
        "]"
      ]
    },
    {
      "cell_type": "markdown",
      "metadata": {},
      "source": [
        "Similarly, create examples for other categories like Billing, Technical Support, Shipping, and General Inquiries."
      ]
    },
    {
      "cell_type": "markdown",
      "metadata": {},
      "source": [
        "## Step 3: Build a Reusable Template Structure\n",
        "We'll define a simple template structure for each category with placeholders for dynamic variables:"
      ]
    },
    {
      "cell_type": "code",
      "metadata": {},
      "source": [
        "def create_template(category, examples, variables=None):\n",
        "    template = {\n",
        "        'category': category,\n",
        "        'examples': examples,\n",
        "        'variables': variables or {}\n",
        "    }\n",
        "    return template\n",
        "\n",
        "# Example usage:\n",
        "returns_template = create_template('returns', returns_examples, {'customer_name': 'Customer', 'order_number': '12345'})"
      ]
    },
    {
      "cell_type": "markdown",
      "metadata": {},
      "source": [
        "## Step 4: Add Dynamic Variables for Personalization\n",
        "Variables like customer name, order number, or issue details can be inserted into responses for a personalized experience. Here's an example:"
      ]
    },
    {
      "cell_type": "code",
      "metadata": {},
      "source": [
        "def generate_response(template, question, customer_data):\n",
        "    # For simplicity, match question to one of the examples\n",
        "    for example in template['examples']:\n",
        "        if question.lower() in example['question'].lower():\n",
        "            response = example['answer']\n",
        "            # Replace variables\n",
        "            for key, value in customer_data.items():\n",
        "                response = response.replace(f\"{{{{ {key} }}}}\", value)\n",
        "            return response\n",
        "    return \"Sorry, I didn't understand that question.\"\n",
        "\n",
        "# Example usage:\n",
        "question_input = 'How do I return a product?'\n",
        "customer_context = {'customer_name': 'Alice', 'order_number': '98765'}\n",
        "response = generate_response(returns_template, question_input, customer_context)\n",
        "print(response)"
      ]
    },
    {
      "cell_type": "markdown",
      "metadata": {},
      "source": [
        "## Step 5: Testing the Bot\n",
        "Let's see how the bot responds to sample questions with personalized data."
      ]
    },
    {
      "cell_type": "code",
      "metadata": {},
      "source": [
        "# Test case\n",
        "test_question = 'How do I return a product?'\n",
        "test_customer_data = {'customer_name': 'John', 'order_number': 'A123'}\n",
        "test_response = generate_response(returns_template, test_question, test_customer_data)\n",
        "test_response"
      ],
      "outputs": [],
      "execution_count": null
    },
    {
      "cell_type": "markdown",
      "metadata": {},
      "source": [
        "## Conclusion\n",
        "By following this process, you've built a foundation for a FAQ-powered support bot. You can expand it by creating more templates, refining the classification logic, and integrating into your live systems. Using few-shot examples and dynamic variables helps your bot deliver consistent, personalized, and helpful responses."
      ]
    }
  ],
  "metadata": {
    "kernelspec": {
      "name": "python3",
      "display_name": "Python 3",
      "language": "python"
    },
    "language_info": {
      "name": "python",
      "version": "3.x"
    }
  },
  "nbformat": 4,
  "nbformat_minor": 5
}