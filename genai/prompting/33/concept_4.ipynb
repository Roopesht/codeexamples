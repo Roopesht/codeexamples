{
  "cells": [
    {
      "cell_type": "markdown",
      "metadata": {},
      "source": [
        "# Dynamic Variables in Python\n",
        "Welcome to this beginner-friendly introduction to dynamic variables! In this notebook, we'll explore how you can use Python to create templates that adapt based on different data inputs. This is useful for personalization, automation, and creating flexible systems."
      ]
    },
    {
      "cell_type": "markdown",
      "metadata": {},
      "source": [
        "## What are Dynamic Variables?\n",
        "Dynamic variables are like templates that change depending on the context or user input. Think of them as placeholders that can be filled with different values to create personalized messages or responses."
      ]
    },
    {
      "cell_type": "markdown",
      "metadata": {},
      "source": [
        "### Why Use Dynamic Variables?\n",
        "- They allow your programs to respond differently based on user input or other data.\n",
        "- They make your system flexible and scalable.\n",
        "- They help create personalized experiences for users."
      ]
    },
    {
      "cell_type": "markdown",
      "metadata": {},
      "source": [
        "## Types of Dynamic Variables\n",
        "There are several types of variables that can change dynamically:\n",
        "1. **User Input:** Name, preferences, questions.\n",
        "2. **Context Data:** Time, location, history.\n",
        "3. **System State:** Inventory, availability, status.\n",
        "4. **Conditional Logic:** If-then scenarios."
      ]
    },
    {
      "cell_type": "markdown",
      "metadata": {},
      "source": [
        "## Example: Personalized Recommendations System\n",
        "Imagine an e-commerce website creating personalized product suggestions for customers. The recommendations depend on variables like the customer's name, purchase history, current season, and trending items.\n",
        "This makes each customer see tailored suggestions, improving their shopping experience!"
      ]
    },
    {
      "cell_type": "markdown",
      "metadata": {},
      "source": [
        "## Coding Example: Dynamic Variables in Python\n",
        "Let's see how we can implement dynamic templates using Python."
      ]
    },
    {
      "cell_type": "code",
      "execution_count": null,
      "metadata": {},
      "outputs": [],
      "source": [
        "import datetime\n",
        "\n",
        "class DynamicPromptTemplate:\n",
        "    def __init__(self, template):\n",
        "        self.template = template\n",
        "    \n",
        "    def generate(self, user_data, context=None):\n",
        "        # Get current time\n",
        "        current_time = datetime.datetime.now()\n",
        "        # Determine the current season\n",
        "        season = self.get_season(current_time)\n",
        "        \n",
        "        prompt = self.template.format(\n",
        "            name=user_data['name'],\n",
        "            age=user_data['age'],\n",
        "            interests=user_data['interests'],\n",
        "            season=season,\n",
        "            time_of_day=current_time.strftime(\"%H:%M\"),\n",
        "            **(context if context else {})\n",
        "        )\n",
        "        return prompt\n",
        "    \n",
        "    def get_season(self, date):\n",
        "        month = date.month\n",
        "        if month in [12, 1, 2]:\n",
        "            return 'Winter'\n",
        "        elif month in [3, 4, 5]:\n",
        "            return 'Spring'\n",
        "        elif month in [6, 7, 8]:\n",
        "            return 'Summer'\n",
        "        else:\n",
        "            return 'Autumn'"
      ]
    },
    {
      "cell_type": "markdown",
      "metadata": {},
      "source": [
        "### Example Template for Recommendations\n",
        "Here's a template you can use to generate personalized recommendations based on user data and context."
      ]
    },
    {
      "cell_type": "code",
      "execution_count": null,
      "metadata": {},
      "outputs": [],
      "source": [
        "# Recommendation Template\n",
        "recommend_template = DynamicPromptTemplate(\"\"\"\n",
        "Create personalized recommendations for {name} (age {age}).\n",
        "\n",
        "Examples:\n",
        "Person: Tech enthusiast, 25, Winter → Latest gadgets, winter accessories\n",
        "Person: Book lover, 40, Summer → New releases, travel books\n",
        "Person: Fitness focused, 30, Spring → Workout gear, outdoor equipment\n",
        "\n",
        "Current Context:\n",
        "- Season: {season}\n",
        "- User Interests: {interests}\n",
        "- Time: {time_of_day}\n",
        "- Special Offers: {special_offers}\n",
        "\n",
        "Generate 3 personalized recommendations:\n",
        "\"\"\")"
      ]
    },
    {
      "cell_type": "markdown",
      "metadata": {},
      "source": [
        "### How to Use the Template\n",
        "You can create user data and optional context to generate personalized recommendations."
      ]
    },
    {
      "cell_type": "code",
      "execution_count": null,
      "metadata": {},
      "outputs": [],
      "source": [
        "# Example user data\n",
        "user_data = {\n",
        "    'name': 'Alex',\n",
        "    'age': 28,\n",
        "    'interests': 'technology, gaming'\n",
        "}\n",
        "\n",
        "# Example context data\n",
        "context_data = {\n",
        "    'special_offers': 'discounts on gadgets'\n",
        "}\n",
        "\n",
        "# Generate a personalized recommendation\n",
        "output = recommend_template.generate(user_data, context_data)\n",
        "print(output)"
      ]
    },
    {
      "cell_type": "markdown",
      "metadata": {},
      "source": [
        "## Simplified Concept: Making Templates Smart\n",
        "Think of it like a smart form that adapts. For example:\n",
        "```plaintext\n",
        "Good {morning/afternoon} {name}, here's your {weather}-appropriate outfit suggestion!\n",
        "```\n",
        "Same template, different variables, different personalized messages!"
      ]
    },
    {
      "cell_type": "markdown",
      "metadata": {},
      "source": [
        "## Visualizing Dynamic Templates\n",
        "_Watch how variables transform templates!_ (Imagine an animation or diagram here.)"
      ]
    },
    {
      "cell_type": "markdown",
      "metadata": {},
      "source": [
        "## Creative Challenge: Design Your Own Dynamic News Summary\n",
        "Variables you might consider:\n",
        "- user_interests\n",
        "- reading_time\n",
        "- current_events\n",
        "- user_location\n",
        "Remember, dynamic variables help create personalized experiences!"
      ]
    },
    {
      "cell_type": "markdown",
      "metadata": {},
      "source": [
        "## Reflection and Question\n",
        "Dynamic variables allow templates to adapt to different contexts and users.\n",
        "**Question:** How could you use dynamic variables to personalize a fitness coaching prompt?"
      ]
    }
  ],
  "metadata": {
    "kernelspec": {
      "name": "python3",
      "display_name": "Python 3",
      "language": "python"
    },
    "language_info": {
      "name": "python",
      "version": "3.x"
    }
  },
  "nbformat": 4,
  "nbformat_minor": 5
}