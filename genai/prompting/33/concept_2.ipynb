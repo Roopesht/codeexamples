{
  "cells": [
    {
      "cell_type": "markdown",
      "metadata": {},
      "source": [
        "# Using Examples to Guide the Model\n",
        "\n",
        "In this notebook, we will learn how to use examples to help guide a language model for better performance."
      ]
    },
    {
      "cell_type": "markdown",
      "metadata": {},
      "source": [
        "## Strategic Example Selection\n",
        "\n",
        "Not all examples are equal! When choosing examples to guide the AI, consider the following:\n",
        "\n",
        "- 📐 Choose diverse but clear examples\n",
        "- 🎯 Cover edge cases and common scenarios\n",
        "- ⚖️ Show balanced representation"
      ]
    },
    {
      "cell_type": "markdown",
      "metadata": {},
      "source": [
        "## What Makes Good Examples?\n",
        "\n",
        "Good examples should be:\n",
        "\n",
        "- **Clear:** Unambiguous input → output\n",
        "- **Relevant:** Similar to your actual use case\n",
        "- **Diverse:** Cover different scenarios\n",
        "- **Consistent:** Follow the same format"
      ]
    },
    {
      "cell_type": "markdown",
      "metadata": {},
      "source": [
        "## Real-world Example: Product Categorization\n",
        "\n",
        "Imagine an e-commerce site needs to automatically categorize products. Good examples include:\n",
        "- Electronics, Clothing, Books, etc.\n",
        "\n",
        "Bad examples would be:\n",
        "- Only electronics or unclear categories"
      ]
    },
    {
      "cell_type": "markdown",
      "metadata": {},
      "source": [
        "## Code Demo: Product Categorizer\n",
        "\n",
        "Let's build a simple prompt generator for product categorization."
      ]
    },
    {
      "cell_type": "code",
      "execution_count": null,
      "metadata": {},
      "outputs": [],
      "source": [
        "def create_categorization_prompt(product_description):\n",
        "    prompt = f\"\"\"\n",
        "Categorize products into: Electronics, Clothing, Books, Home, Sports\n",
        "\n",
        "Examples:\n",
        "Product: \"iPhone 14 Pro with 128GB storage\"\n",
        "Category: Electronics\n",
        "\n",
        "Product: \"Cotton t-shirt with round neck, size M\"\n",
        "Category: Clothing\n",
        "\n",
        "Product: \"The Great Gatsby by F. Scott Fitzgerald\"\n",
        "Category: Books\n",
        "\n",
        "Product: \"Ceramic coffee mug with handle\"\n",
        "Category: Home\n",
        "\n",
        "Product: \"Nike running shoes size 9\"\n",
        "Category: Sports\n",
        "\n",
        "Now categorize:\n",
        "Product: \"{product_description}\"\n",
        "Category:\n",
        "\"\"\"\n",
        "    return prompt"
      ]
    },
    {
      "cell_type": "markdown",
      "metadata": {},
      "source": [
        "You can use this function to generate prompts for different products.\n",
        "Example:"
      ]
    },
    {
      "cell_type": "code",
      "execution_count": null,
      "metadata": {},
      "outputs": [],
      "source": [
        "sample_product = \"Wireless bluetooth headphones\"\n",
        "prompt = create_categorization_prompt(sample_product)\n",
        "print(prompt)"
      ]
    },
    {
      "cell_type": "markdown",
      "metadata": {},
      "source": [
        "## Simplifying Example Selection: The 3-2-1 Rule\n",
        "\n",
        "When choosing examples, follow this rule:\n",
        "\n",
        "- **3** different types of examples\n",
        "- **2** common cases, **1** edge case\n",
        "- **1** consistent format throughout"
      ]
    },
    {
      "cell_type": "markdown",
      "metadata": {},
      "source": [
        "## Examples from a Different Angle\n",
        "\n",
        "Imagine designing examples for classifying customer support tickets.\n",
        "\n",
        "- Categories: Technical, Billing, General Inquiry, Complaint\n",
        "\n",
        "Good examples help the model understand what each category entails.\n",
        "I hope this clarifies how strategic examples improve AI performance!"
      ]
    },
    {
      "cell_type": "markdown",
      "metadata": {},
      "source": [
        "## Reflection and Question\n",
        "\n",
        "Good examples are diverse, clear, and representative.\n",
        "\n",
        "🤔 **Question:**\n",
        "If you're building a movie review classifier, what 3 examples would best teach the AI?\n"
      ]
    }
  ],
  "metadata": {
    "kernelspec": {
      "display_name": "Python 3",
      "language": "python",
      "name": "python3"
    },
    "language_info": {
      "name": "python",
      "version": "3.8"
    }
  },
  "nbformat": 4,
  "nbformat_minor": 5
}