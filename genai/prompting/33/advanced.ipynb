{
  "cells": [
    {
      "cell_type": "markdown",
      "metadata": {},
      "source": [
        "# Advanced Topic: Jinja Templates + Prompt Injection Awareness\n",
        "\n",
        "This notebook introduces advanced templating with Jinja2 and discusses the importance of prompt injection security when building AI applications."
      ]
    },
    {
      "cell_type": "markdown",
      "metadata": {},
      "source": [
        "## 🔧 Jinja2 Templates\n",
        "\n",
        "Jinja2 is a powerful templating engine for Python. It allows you to create dynamic text by inserting variables, applying logic, and more. Here are some advanced features:\n",
        "\n",
        "- 🎯 Support for complex conditionals and loops\n",
        "- 🛡️ Built-in security features to prevent cross-site scripting (XSS)\n",
        "- ⚡ Template inheritance for code reuse"
      ]
    },
    {
      "cell_type": "markdown",
      "metadata": {},
      "source": [
        "## 🚨 Prompt Injection Awareness\n",
        "\n",
        "When using templates with user inputs, security is critical. Malicious users can manipulate prompts to execute unintended actions.\n",
        "\n",
        "- 🛡️ Always sanitize user inputs to prevent injection\n",
        "- 📋 Use allowlists to permit only trusted variables\n",
        "- 🔒 Separate instructions from user data to minimize risks"
      ]
    },
    {
      "cell_type": "markdown",
      "metadata": {},
      "source": [
        "## 📝 Secure Jinja Template Example\n",
        "\n",
        "Here's an example of a secure Jinja2 template that carefully escapes user input and performs simple security checks:"
      ]
    },
    {
      "cell_type": "code",
      "execution_count": null,
      "outputs": [],
      "metadata": {},
      "source": [
        "from jinja2 import Template, Environment, select_autoescape\n",
        "\n",
        "# Set up the environment with autoescaping for security\n",
        "env = Environment(autoescape=select_autoescape(['html', 'xml']))\n",
        "\n",
        "template_str = '''\n",
        "{% if user.is_premium %}\n",
        "Create premium content recommendations for {{ user.name|e }}.\n",
        "{% else %}\n",
        "Create basic recommendations for {{ user.name|e }}.\n",
        "{% endif %}\n",
        "\n",
        "Examples:\n",
        "{% for example in examples %}\n",
        "- {{ example.input|e }} → {{ example.output|e }}\n",
        "{% endfor %}\n",
        "\n",
        "User Request: {{ user_request|e }}\n",
        "Safety Check: {% if 'ignore' in user_request.lower() %}POTENTIAL INJECTION{% endif %}\n",
        "'''\n",
        "\n",
        "template = env.from_string(template_str)\n",
        "safe_prompt = template.render(user=user_data, examples=examples, user_request=clean_input)"
      ]
    },
    {
      "cell_type": "markdown",
      "metadata": {},
      "source": [
        "## 🛡️ Security Best Practices\n",
        "\n",
        "To maximize safety when working with templates and user data, follow these guidelines:\n",
        "\n",
        "- **Escape user inputs:** Always use the `|e` filter to sanitize data.\n",
        "- **Validate variables:** Check inputs against allowlists to restrict what is accepted.\n",
        "- **Monitor for suspicious patterns:** Flag unusual inputs or patterns.\n",
        "- **Separate roles:** Keep system instructions and user content distinct."
      ]
    },
    {
      "cell_type": "markdown",
      "metadata": {},
      "source": [
        "## 🤔 Why is input sanitization crucial in AI-powered applications?\n",
        "\n",
        "Sanitizing inputs prevents malicious data from causing harm, executing unintended code, or manipulating the system. It helps maintain security, integrity, and trustworthiness in AI systems."
      ]
    }
  ],
  "metadata": {
    "kernelspec": {
      "name": "python3",
      "display_name": "Python 3",
      "language": "python"
    },
    "language_info": {
      "name": "python",
      "version": "3.x"
    }
  },
  "nbformat": 4,
  "nbformat_minor": 5
}