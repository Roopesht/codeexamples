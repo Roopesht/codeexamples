{
  "cells": [
    {
      "cell_type": "markdown",
      "metadata": {},
      "source": [
        "# Concept 3: Prompt Templates for Consistency"
      ]
    },
    {
      "cell_type": "markdown",
      "metadata": {},
      "source": [
        "## 📋 What are Prompt Templates?"
      ]
    },
    {
      "cell_type": "markdown",
      "metadata": {},
      "source": [
        "**Templates = Reusable prompt blueprints**"
      ]
    },
    {
      "cell_type": "markdown",
      "metadata": {},
      "source": [
        "- 🔄 Same structure, different inputs"
      ]
    },
    {
      "cell_type": "markdown",
      "metadata": {},
      "source": [
        "- ⚙️ Consistent formatting and examples"
      ]
    },
    {
      "cell_type": "markdown",
      "metadata": {},
      "source": [
        "- 🎯 Predictable, reliable outputs"
      ]
    },
    {
      "cell_type": "markdown",
      "metadata": {},
      "source": [
        "## ✅ Why Use Templates?"
      ]
    },
    {
      "cell_type": "markdown",
      "metadata": {},
      "source": [
        "- **Consistency:** Same quality every time"
      ]
    },
    {
      "cell_type": "markdown",
      "metadata": {},
      "source": [
        "- **Efficiency:** Write once, use many times"
      ]
    },
    {
      "cell_type": "markdown",
      "metadata": {},
      "source": [
        "- **Scalability:** Easy to maintain and update"
      ]
    },
    {
      "cell_type": "markdown",
      "metadata": {},
      "source": [
        "- **Testing:** Compare results systematically"
      ]
    },
    {
      "cell_type": "markdown",
      "metadata": {},
      "source": [
        "## 🌍 Real-World: Customer Support Templates"
      ]
    },
    {
      "cell_type": "markdown",
      "metadata": {},
      "source": [
        "Support team needs consistent email responses"
      ]
    },
    {
      "cell_type": "markdown",
      "metadata": {},
      "source": [
        "**Template covers:** Greeting, understanding, solution, closing"
      ]
    },
    {
      "cell_type": "markdown",
      "metadata": {},
      "source": [
        "**Variables:** Customer name, issue type, specific details"
      ]
    },
    {
      "cell_type": "markdown",
      "metadata": {},
      "source": [
        "## 💻 Building Reusable Templates"
      ]
    },
    {
      "cell_type": "markdown",
      "metadata": {},
      "source": [
        "Creating a flexible email response template system"
      ]
    },
    {
      "cell_type": "markdown",
      "metadata": {},
      "source": [
        "## 📝 Template Code Example"
      ]
    },
    {
      "cell_type": "code",
      "execution_count": null,
      "metadata": {},
      "outputs": [],
      "source": [
        "class PromptTemplate:\n",
        "    def __init__(self, template):\n",
        "        self.template = template\n",
        "    \n",
        "    def format(self, **kwargs):\n",
        "        return self.template.format(**kwargs)\n",
        "\n",
        "# Email Response Template\n",
        "email_template = PromptTemplate(\"\"\"\n",
        "Write a professional customer support email response.\n",
        "\n",
        "Examples:\n",
        "Issue: Billing question | Response: Professional, helpful explanation\n",
        "Issue: Technical problem | Response: Step-by-step troubleshooting\n",
        "Issue: General inquiry | Response: Informative and friendly\n",
        "\n",
        "Customer Issue: {issue_type}\n",
        "Customer Name: {customer_name}\n",
        "Details: {issue_details}\n",
        "\n",
        "Write a response that is:\n",
        "\"\"\")\n",
        "\n",
        "# Usage\n",
        "prompt = email_template.format(\n",
        "    issue_type=\"Login Problem\",\n",
        "    customer_name=\"Sarah\",\n",
        "    issue_details=\"Cannot access account after password reset\"\n",
        ")\n"
      ]
    },
    {
      "cell_type": "markdown",
      "metadata": {},
      "source": [
        "[🚀 Open in Colab](https://colab.research.google.com/github/Roopesht/codeexamples/blob/main/genai/python_easy/2/concept_3.ipynb)"
      ]
    },
    {
      "cell_type": "markdown",
      "metadata": {},
      "source": [
        "## 🎯 Templates Made Simple"
      ]
    },
    {
      "cell_type": "markdown",
      "metadata": {},
      "source": [
        "**Think of templates like fill-in-the-blanks:**"
      ]
    },
    {
      "cell_type": "markdown",
      "metadata": {},
      "source": [
        "📝 \"Dear {name}, regarding your {issue}, here's how we can help...\""
      ]
    },
    {
      "cell_type": "markdown",
      "metadata": {},
      "source": [
        "🔄 Same structure, different content each time!"
      ]
    },
    {
      "cell_type": "markdown",
      "metadata": {},
      "source": [
        "## 🖼️ Templates from a Different Angle"
      ]
    },
    {
      "cell_type": "markdown",
      "metadata": {},
      "source": [
        "**Whiteboard Time:** Let's create a template for product descriptions!"
      ]
    },
    {
      "cell_type": "markdown",
      "metadata": {},
      "source": [
        "Variables: product_name, features, price, target_audience"
      ]
    },
    {
      "cell_type": "markdown",
      "metadata": {},
      "source": [
        "💡 **I hope this is clear now!** Templates ensure consistency and save time!"
      ]
    },
    {
      "cell_type": "markdown",
      "metadata": {},
      "source": [
        "## 🤔 Question:"
      ]
    },
    {
      "cell_type": "markdown",
      "metadata": {},
      "source": [
        "**Templates provide consistent structure while allowing flexible content.**"
      ]
    },
    {
      "cell_type": "markdown",
      "metadata": {},
      "source": [
        "**Question:** What's one repetitive task where you could use a template to ensure consistency?"
      ]
    }
  ],
  "metadata": {
    "kernelspec": {
      "display_name": "Python 3",
      "language": "python",
      "name": "python3"
    },
    "language_info": {
      "name": "python",
      "version": "3.x"
    }
  },
  "nbformat": 4,
  "nbformat_minor": 5
}