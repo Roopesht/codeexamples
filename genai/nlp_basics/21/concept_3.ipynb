{
  "cells": [
    {
      "cell_type": "markdown",
      "metadata": {},
      "source": [
        "# Concept 3: Using TfidfVectorizer from sklearn"
      ]
    },
    {
      "cell_type": "markdown",
      "metadata": {},
      "source": [
        "In this notebook, we will learn about `TfidfVectorizer` from scikit-learn (sklearn), which makes calculating TF-IDF scores easy and automatic!"
      ]
    },
    {
      "cell_type": "markdown",
      "metadata": {},
      "source": [
        "### What is sklearn?\n",
        "- sklearn is a popular Python library for machine learning.\n",
        "- It provides many built-in tools to analyze data and build models.\n"
      ]
    },
    {
      "cell_type": "markdown",
      "metadata": {},
      "source": [
        "### What is TfidfVectorizer?\n",
        "- A ready-made tool in sklearn that computes TF-IDF scores for text data.\n",
        "- It automatically cleans the text and calculates important scores for words.\n"
      ]
    },
    {
      "cell_type": "markdown",
      "metadata": {},
      "source": [
        "### Think Like Using a Power Tool\n",
        "- **Manual Way:** Count words manually using loops and dictionaries.\n",
        "- **sklearn Way:** Just one line of code does everything!\n",
        "- It handles text cleaning, scoring, and returns ready-to-use numbers.\n",
        "\n",
        "_Like using a calculator instead of counting on fingers! 🧮_"
      ]
    },
    {
      "cell_type": "markdown",
      "metadata": {},
      "source": [
        "### Real-World Example: Content Recommendation\n",
        "- Spotify analyzes song lyrics to find similar songs.\n",
        "- It extracts TF-IDF vectors from lyrics.\n",
        "- Compares user liked songs and recommends music based on common words!\n",
        "\n",
        "That's how you find your new favorite songs! 🎵"
      ]
    },
    {
      "cell_type": "markdown",
      "metadata": {},
      "source": [
        "### Let's Use the Professional Tool!\n",
        "Time to see `TfidfVectorizer` in action."
      ]
    },
    {
      "cell_type": "code",
      "metadata": {},
      "source": [
        "from sklearn.feature_extraction.text import TfidfVectorizer"
      ],
      "execution_count": null,
      "outputs": []
    },
    {
      "cell_type": "code",
      "metadata": {},
      "source": [
        "documents = [\n",
        "    \"I love machine learning\",\n",
        "    \"Python is great for AI\",\n",
        "    \"Machine learning with Python\"\n",
        "]\n",
        "\n",
        "vectorizer = TfidfVectorizer()\n",
        "tfidf_matrix = vectorizer.fit_transform(documents)\n",
        "\n",
        "print(vectorizer.get_feature_names_out())\n",
        "print(tfidf_matrix.toarray())"
      ],
      "execution_count": null,
      "outputs": []
    },
    {
      "cell_type": "markdown",
      "metadata": {},
      "source": [
        "🚀 [Open this example in Colab](https://colab.research.google.com/github/Roopesht/codeexamples/blob/main/genai/python_easy/2/concept_3.ipynb)"
      ]
    },
    {
      "cell_type": "markdown",
      "metadata": {},
      "source": [
        "### TfidfVectorizer Made Simple\n",
        "- **Create:** `vectorizer = TfidfVectorizer()`\n",
        "- **Train:** `vectorizer.fit_transform(your_texts)`\n",
        "- **Use:** Get numbers that represent your text!\n"
      ]
    },
    {
      "cell_type": "markdown",
      "metadata": {},
      "source": [
        "### Sklearn from a Different Angle\n",
        "- sklearn is like having a team of data scientists - they've already solved the hard problems for you!\n",
        "- It's a simple way to do complex text analysis."
      ]
    },
    {
      "cell_type": "markdown",
      "metadata": {},
      "source": [
        "### Quick Check\n",
        "- **Question:**\n",
        "  *What advantage do you see in using sklearn instead of writing TF-IDF from scratch?*"
      ]
    }
  ],
  "metadata": {
    "kernelspec": {
      "display_name": "Python 3",
      "name": "python3"
    },
    "language_info": {
      "name": "python",
      "version": "3.x"
    }
  },
  "nbformat": 4,
  "nbformat_minor": 5
}