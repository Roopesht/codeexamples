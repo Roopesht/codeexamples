{
  "cells": [
    {
      "cell_type": "markdown",
      "metadata": {},
      "source": [
        "# Concept 1: What are Word Embeddings?"
      ]
    },
    {
      "cell_type": "markdown",
      "metadata": {},
      "source": [
        "**Simple Definition:** Converting words into numbers that computers can understand"
      ]
    },
    {
      "cell_type": "markdown",
      "metadata": {},
      "source": [
        "![Words being converted to numerical vectors, showing transformation from text to numbers, size 600x300](images/word_to_numbers.png)"
      ]
    },
    {
      "cell_type": "markdown",
      "metadata": {},
      "source": [
        "## Think of it Like a Translator"
      ]
    },
    {
      "cell_type": "markdown",
      "metadata": {},
      "source": [
        "- **Human:** \"I love pizza\" 🍕"
      ]
    },
    {
      "cell_type": "markdown",
      "metadata": {},
      "source": [
        "- **Computer:** [0.8, 0.2, 0.9, 0.1] 🤖"
      ]
    },
    {
      "cell_type": "markdown",
      "metadata": {},
      "source": [
        "- **Magic:** Similar words get similar numbers!"
      ]
    },
    {
      "cell_type": "markdown",
      "metadata": {},
      "source": [
        "*Just like GPS converts your address to coordinates!*"
      ]
    },
    {
      "cell_type": "markdown",
      "metadata": {},
      "source": [
        "## Real-World Example"
      ]
    },
    {
      "cell_type": "markdown",
      "metadata": {},
      "source": [
        "**Netflix Recommendations:**"
      ]
    },
    {
      "cell_type": "markdown",
      "metadata": {},
      "source": [
        "- \"Action movie\" → [0.9, 0.1, 0.2]"
      ]
    },
    {
      "cell_type": "markdown",
      "metadata": {},
      "source": [
        "- \"Thriller film\" → [0.8, 0.2, 0.3]"
      ]
    },
    {
      "cell_type": "markdown",
      "metadata": {},
      "source": [
        "- Similar vectors = Similar content!"
      ]
    },
    {
      "cell_type": "markdown",
      "metadata": {},
      "source": [
        "That's how Netflix knows you might like similar movies! 🎬"
      ]
    },
    {
      "cell_type": "markdown",
      "metadata": {},
      "source": [
        "## Let's See This in Action"
      ]
    },
    {
      "cell_type": "markdown",
      "metadata": {},
      "source": [
        "We'll convert words to numbers and see the magic happen!"
      ]
    },
    {
      "cell_type": "code",
      "metadata": {},
      "source": [
        "# Simple word to number mapping\n",
        "word_to_number = {\n",
        "    \"happy\": [0.8, 0.9, 0.1],\n",
        "    \"joyful\": [0.7, 0.8, 0.2],\n",
        "    \"sad\": [0.1, 0.2, 0.9]\n",
        "}\n",
        "\n",
        "print(word_to_number[\"happy\"])\n"
      ],
      "execution_count": null,
      "outputs": []
    },
    {
      "cell_type": "markdown",
      "metadata": {},
      "source": [
        "[🚀 Open in Colab](https://colab.research.google.com/github/Roopesht/codeexamples/blob/main/genai/python_easy/2/concept_1.ipynb)"
      ]
    },
    {
      "cell_type": "markdown",
      "metadata": {},
      "source": [
        "## Embeddings Made Simple"
      ]
    },
    {
      "cell_type": "markdown",
      "metadata": {},
      "source": [
        "**Think of it as a Word Dictionary:**"
      ]
    },
    {
      "cell_type": "markdown",
      "metadata": {},
      "source": [
        "- Each word gets a unique \"ID card\" of numbers"
      ]
    },
    {
      "cell_type": "markdown",
      "metadata": {},
      "source": [
        "- Similar words get similar ID cards"
      ]
    },
    {
      "cell_type": "markdown",
      "metadata": {},
      "source": [
        "- Computers can now \"understand\" relationships!"
      ]
    },
    {
      "cell_type": "markdown",
      "metadata": {},
      "source": [
        "## Embeddings from a Different Angle"
      ]
    },
    {
      "cell_type": "markdown",
      "metadata": {},
      "source": [
        "**Whiteboard Time! 📝**"
      ]
    },
    {
      "cell_type": "markdown",
      "metadata": {},
      "source": [
        "Imagine words as points on a map - similar words cluster together!"
      ]
    },
    {
      "cell_type": "markdown",
      "metadata": {},
      "source": [
        "*I hope this is clear now!*"
      ]
    },
    {
      "cell_type": "markdown",
      "metadata": {},
      "source": [
        "## Quick Check"
      ]
    },
    {
      "cell_type": "markdown",
      "metadata": {},
      "source": [
        "**Understanding embeddings helps us build smarter AI systems that can truly comprehend text meaning.**"
      ]
    },
    {
      "cell_type": "markdown",
      "metadata": {},
      "source": [
        "Can you think of an app where understanding word similarity would be super useful?"
      ]
    }
  ],
  "metadata": {
    "kernelspec": {
      "display_name": "Python 3",
      "language": "python",
      "name": "python3"
    },
    "language_info": {
      "name": "python",
      "version": "3.x"
    }
  },
  "nbformat": 4,
  "nbformat_minor": 5
}