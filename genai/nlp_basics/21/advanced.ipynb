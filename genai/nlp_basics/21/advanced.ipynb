{
  "cells": [
    {
      "cell_type": "markdown",
      "metadata": {},
      "source": [
        "# Cosine Similarity Basics\n",
        "\n",
        "## Introduction to Cosine Similarity\n",
        "\n",
        "Cosine similarity is a way to measure how similar two word vectors are. It gives a value between -1 and 1.\n",
        "\n",
        "- **1** means the vectors are pointing in the same direction (very similar)\n",
        "- **0** means they are perpendicular (not similar)\n",
        "- **-1** means they are pointing in opposite directions (completely different)\n",
        "\n",
        "Here's a visual to understand this concept:"
      ]
    },
    {
      "cell_type": "markdown",
      "metadata": {},
      "source": [
        "![Cosine Similarity Illustration](images/cosine_similarity.png)"
      ]
    },
    {
      "cell_type": "markdown",
      "metadata": {},
      "source": [
        "## Think Like Measuring Friendship\n",
        "\n",
        "Imagine two friends pointing in the same or opposite directions:\n",
        "\n",
        "- If they point in the same direction, they have similar interests (high similarity)\n",
        "- If opposite, their interests differ (low similarity)\n",
        "\n",
        "Cosine similarity measures the 'angle' between word vectors, capturing how aligned they are, regardless of their length."
      ]
    },
    {
      "cell_type": "markdown",
      "metadata": {},
      "source": [
        "## Real-World Application: Document Comparison\n",
        "\n",
        "This technique is used to detect plagiarism by:\n",
        "\n",
        "- Converting documents into vectors (like TF-IDF)\n",
        "- Calculating cosine similarity between these vectors\n",
        "- A high similarity might suggest copying\n",
        "\n",
        "Universities often use this to check student submissions!"
      ]
    },
    {
      "cell_type": "markdown",
      "metadata": {},
      "source": [
        "## Let's Measure Text Similarity!\n",
        "\n",
        "We'll compare different sentences using cosine similarity."
      ]
    },
    {
      "cell_type": "code",
      "execution_count": null,
      "metadata": {},
      "outputs": [],
      "source": [
        "from sklearn.metrics.pairwise import cosine_similarity\n",
        "from sklearn.feature_extraction.text import TfidfVectorizer\n",
        "\n",
        "texts = [\n",
        "    \"I love programming in Python\",\n",
        "    \"Python programming is amazing\", \n",
        "    \"I hate cooking vegetables\"\n",
        "]\n",
        "\n",
        "vectorizer = TfidfVectorizer()\n",
        "tfidf_matrix = vectorizer.fit_transform(texts)"
      ]
    },
    {
      "cell_type": "code",
      "execution_count": null,
      "metadata": {},
      "outputs": [],
      "source": [
        "# Compare first two texts\n",
        "similarity = cosine_similarity(tfidf_matrix[0:1], tfidf_matrix[1:2])\n",
        "print(f\"Similarity: {similarity[0][0]:.3f}\")"
      ]
    },
    {
      "cell_type": "markdown",
      "metadata": {},
      "source": [
        "[Open in Colab](https://colab.research.google.com/github/Roopesht/codeexamples/blob/main/genai/python_easy/2/advanced.ipynb)"
      ]
    },
    {
      "cell_type": "markdown",
      "metadata": {},
      "source": [
        "## Cosine Similarity Made Simple\n",
        "\n",
        "- 1.0 = texts are identical\n",
        "- 0.8+ = very similar texts\n",
        "- 0.0 = completely different\n",
        "\n",
        "It's a handy tool to find related content!"
      ]
    },
    {
      "cell_type": "markdown",
      "metadata": {},
      "source": [
        "## Whiteboard Time! 📝\n",
        "\n",
        "Think of it as measuring how much two texts 'agree' with each other mathematically.\n",
        "\n",
        "I hope this is clear now!"
      ]
    },
    {
      "cell_type": "markdown",
      "metadata": {},
      "source": [
        "## Quick Check\n",
        "\n",
        "Cosine similarity helps us quantify how similar or different any two pieces of text are.\n",
        "\n",
        "In what scenarios would measuring text similarity be crucial for your applications?"
      ]
    }
  ],
  "metadata": {
    "kernelspec": {
      "display_name": "Python 3",
      "language": "python",
      "name": "python3"
    },
    "language_info": {
      "name": "python",
      "version": "3.x"
    }
  },
  "nbformat": 4,
  "nbformat_minor": 5
}