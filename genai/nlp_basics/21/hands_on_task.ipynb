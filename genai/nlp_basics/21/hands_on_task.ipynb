{
  "cells": [
    {
      "cell_type": "markdown",
      "metadata": {},
      "source": [
        "# Text Similarity Checker\n",
        "\n",
        "Build a simple tool to compare two pieces of text and see how similar they are using Python.\n",
        "We'll use a technique called TF-IDF to convert texts into numerical vectors, and then compute the cosine similarity between them.\n"
      ]
    },
    {
      "cell_type": "markdown",
      "metadata": {},
      "source": [
        "## Step 1: Import Necessary Libraries\n",
        "\n",
        "We need to import `TfidfVectorizer` for converting texts into vectors, and `cosine_similarity` for measuring how close two vectors are.\n"
      ]
    },
    {
      "cell_type": "code",
      "execution_count": null,
      "outputs": [],
      "metadata": {},
      "source": [
        "from sklearn.feature_extraction.text import TfidfVectorizer\n",
        "from sklearn.metrics.pairwise import cosine_similarity\n"
      ]
    },
    {
      "cell_type": "markdown",
      "metadata": {},
      "source": [
        "## Step 2: Define the Function to Check Similarity\n",
        "\n",
        "We'll create a function `check_similarity` that takes two texts, converts them into TF-IDF vectors, and calculates their cosine similarity.\n"
      ]
    },
    {
      "cell_type": "code",
      "execution_count": null,
      "outputs": [],
      "metadata": {},
      "source": [
        "def check_similarity(text1, text2):\n",
        "    # Create TF-IDF vectors for both texts\n",
        "    vectorizer = TfidfVectorizer()\n",
        "    vectors = vectorizer.fit_transform([text1, text2])\n",
        "    # Compute cosine similarity between the two vectors\n",
        "    similarity_score = cosine_similarity(vectors[0], vectors[1])[0][0]\n",
        "    return similarity_score\n"
      ]
    },
    {
      "cell_type": "markdown",
      "metadata": {},
      "source": [
        "## Step 3: Define Function for Interpretation\n",
        "\n",
        "Based on the similarity score, we can give a simple interpretation of how similar the texts are.\n"
      ]
    },
    {
      "cell_type": "code",
      "execution_count": null,
      "outputs": [],
      "metadata": {},
      "source": [
        "def interpret_score(score):\n",
        "    if score >= 0.75:\n",
        "        return \"Highly similar content!\"\n",
        "    elif score >= 0.5:\n",
        "        return \"Moderately similar.\"\n",
        "    else:\n",
        "        return \"Not very similar.\"\n"
      ]
    },
    {
      "cell_type": "markdown",
      "metadata": {},
      "source": [
        "## Step 4: Sample Text and User Input\n",
        "\n",
        "Let's define a sample paragraph and ask the user to input their own text to compare.\n"
      ]
    },
    {
      "cell_type": "code",
      "execution_count": null,
      "outputs": [],
      "metadata": {},
      "source": [
        "# Sample paragraph\n",
        "sample_text = \"Machine learning is transforming technology.\"\n",
        "\n",
        "# Get user input\n",
        "user_text = input(\"Enter your text: \")\n"
      ]
    },
    {
      "cell_type": "markdown",
      "metadata": {},
      "source": [
        "## Step 5: Calculate Similarity and Show Results\n",
        "\n",
        "Now, let's use our functions to find the similarity score and display the interpretation.\n"
      ]
    },
    {
      "cell_type": "code",
      "execution_count": null,
      "outputs": [],
      "metadata": {},
      "source": [
        "# Calculate similarity\n",
        "result = check_similarity(sample_text, user_text)\n",
        "\n",
        "# Display results\n",
        "print(f\"Similarity Score: {result:.2f}\")\n",
        "print(interpret_score(result))\n"
      ]
    },
    {
      "cell_type": "markdown",
      "metadata": {},
      "source": [
        "## Summary\n",
        "\n",
        "- Use TF-IDF to convert texts into numerical vectors.\n",
        "- Measure similarity with cosine similarity.\n",
        "- Interpret the similarity score to understand how related the texts are.\n",
        "\n",
        "This simple tool helps in quickly comparing texts for similarity, useful in many applications like plagiarism detection, document clustering, and more!\n"
      ]
    }
  ],
  "metadata": {
    "kernelspec": {
      "display_name": "Python 3",
      "language": "python",
      "name": "python3"
    },
    "language_info": {
      "name": "python",
      "version": "3.x"
    }
  },
  "nbformat": 4,
  "nbformat_minor": 5
}