{
  "cells": [
    {
      "cell_type": "markdown",
      "metadata": {},
      "source": [
        "# Concept 2: Bag of Words & TF-IDF"
      ]
    },
    {
      "cell_type": "markdown",
      "metadata": {},
      "source": [
        "### Bag of Words:\n",
        "- Count how many times each word appears in a text"
      ]
    },
    {
      "cell_type": "markdown",
      "metadata": {},
      "source": [
        "### TF-IDF:\n",
        "- Smart counting method that considers the importance of words\n",
        "- Combines how often a word appears in a specific document with how rare that word is across all documents"
      ]
    },
    {
      "cell_type": "markdown",
      "metadata": {},
      "source": [
        "![Bag of Words Illustration](images/bag_of_words.png)"
      ]
    },
    {
      "cell_type": "markdown",
      "metadata": {},
      "source": [
        "### Think Like a Word Counter"
      ]
    },
    {
      "cell_type": "markdown",
      "metadata": {},
      "source": [
        "- Example sentence: \"I love cats, I love dogs\""
      ]
    },
    {
      "cell_type": "markdown",
      "metadata": {},
      "source": [
        "- Word counts:\n",
        "  - \"I\" appears 2 times\n",
        "  - \"love\" appears 2 times\n",
        "  - \"cats\" appears 1 time\n",
        "  - \"dogs\" appears 1 time"
      ]
    },
    {
      "cell_type": "markdown",
      "metadata": {},
      "source": [
        "- This is similar to counting ingredients in a recipe! 👨‍🍳"
      ]
    },
    {
      "cell_type": "markdown",
      "metadata": {},
      "source": [
        "### Real-World Application: Google Search"
      ]
    },
    {
      "cell_type": "markdown",
      "metadata": {},
      "source": [
        "- **TF (Term Frequency):** How often does \"Python\" appear in an article?\n",
        "- **IDF (Inverse Document Frequency):** Is \"Python\" rare across many articles?\n",
        "- **Result:** Words that are rare and appear often are considered very important!"
      ]
    },
    {
      "cell_type": "markdown",
      "metadata": {},
      "source": [
        "This helps search engines rank the most relevant results! 🔍"
      ]
    },
    {
      "cell_type": "markdown",
      "metadata": {},
      "source": [
        "### Let's Count Some Words!"
      ]
    },
    {
      "cell_type": "markdown",
      "metadata": {},
      "source": [
        "We'll build our own word counter from scratch"
      ]
    },
    {
      "cell_type": "code",
      "execution_count": null,
      "metadata": {},
      "outputs": [],
      "source": [
        "from collections import Counter\n",
        "\n",
        "text = \"I love Python. Python is amazing.\"\n",
        "words = text.lower().split()\n",
        "word_counts = Counter(words)\n",
        "\n",
        "print(word_counts)"
      ]
    },
    {
      "cell_type": "markdown",
      "metadata": {},
      "source": [
        "🚀 [Open in Colab](https://colab.research.google.com/github/Roopesht/codeexamples/blob/main/genai/python_easy/2/concept_2.ipynb)"
      ]
    },
    {
      "cell_type": "markdown",
      "metadata": {},
      "source": [
        "### Bag of Words Made Simple"
      ]
    },
    {
      "cell_type": "markdown",
      "metadata": {},
      "source": [
        "- It's just smart counting:\n",
        "  - Count every word in your text\n",
        "  - TF-IDF gives extra importance to rare but frequent words\n",
        "  - Common words like \"the\", \"a\" are less important"
      ]
    },
    {
      "cell_type": "markdown",
      "metadata": {},
      "source": [
        "### TF-IDF from a Different Angle"
      ]
    },
    {
      "cell_type": "markdown",
      "metadata": {},
      "source": [
        "**Whiteboard Time! 📝**\n",
        "- Think of TF-IDF as highlighting important or meaningful words in a text — rare words that appear often are the most significant!"
      ]
    },
    {
      "cell_type": "markdown",
      "metadata": {},
      "source": [
        "I hope this explanation makes things clearer!"
      ]
    },
    {
      "cell_type": "markdown",
      "metadata": {},
      "source": [
        "### Quick Check"
      ]
    },
    {
      "cell_type": "markdown",
      "metadata": {},
      "source": [
        "- TF-IDF helps find the most meaningful words by balancing how often they appear with how rare they are.\n",
        "- If analyzing movie reviews, which words do you think TF-IDF would consider most important?"
      ]
    }
  ],
  "metadata": {
    "kernelspec": {
      "display_name": "Python 3",
      "language": "python",
      "name": "python3"
    },
    "language_info": {
      "name": "python",
      "version": "3.x"
    }
  },
  "nbformat": 4,
  "nbformat_minor": 5
}