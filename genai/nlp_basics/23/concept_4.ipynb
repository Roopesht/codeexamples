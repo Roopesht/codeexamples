{
 "nbformat": 4,
 "nbformat_minor": 5,
 "metadata": {
  "kernelspec": {
   "display_name": "Python 3",
   "language": "python",
   "name": "python3"
  },
  "language_info": {
   "name": "python",
   "version": "3.x"
  }
 },
 "cells": [
  {
   "cell_type": "markdown",
   "metadata": {},
   "source": [
    "# Precision vs Recall\n",
    "\n",
    "**Precision** answers: *When I say positive, am I usually right?*  \n",
    "**Recall** answers: *Do I catch most of the positive cases?*\n",
    "\n",
    "### Example: Email Spam Filter\n",
    "- **High Precision:** Few good emails are marked as spam.\n",
    "- **High Recall:** Most spam emails are correctly caught.\n",
    "\n",
    "We'll now calculate these metrics using scikit-learn."
   ]
  },
  {
   "cell_type": "code",
   "execution_count": null,
   "metadata": {},
   "outputs": [],
   "source": [
    "from sklearn.metrics import accuracy_score, precision_score, recall_score, f1_score\n",
    "\n",
    "# Actual vs predicted labels\n",
    "y_true = [1, 0, 1, 1, 0]   # 1 = Spam, 0 = Not Spam\n",
    "y_pred = [1, 0, 1, 0, 0]   # Model predictions\n",
    "\n",
    "# Compute evaluation metrics\n",
    "accuracy = accuracy_score(y_true, y_pred)\n",
    "precision = precision_score(y_true, y_pred)\n",
    "recall = recall_score(y_true, y_pred)\n",
    "f1 = f1_score(y_true, y_pred)\n",
    "\n",
    "print(f\"Accuracy:  {accuracy:.2f}\")\n",
    "print(f\"Precision: {precision:.2f}\")\n",
    "print(f\"Recall:    {recall:.2f}\")\n",
    "print(f\"F1-Score:  {f1:.2f}\")"
   ]
  },
  {
   "cell_type": "markdown",
   "metadata": {},
   "source": [
    "### Explanation\n",
    "- **Accuracy:** Overall, how often the model is right.\n",
    "- **Precision:** Among predicted *spam*, how many were actually spam.\n",
    "- **Recall:** Among actual *spam*, how many were correctly caught.\n",
    "- **F1-Score:** Balance between precision and recall — useful when classes are imbalanced.\n",
    "\n",
    "Try changing `y_pred` to see how the scores change!"
   ]
  }
 ]
}
