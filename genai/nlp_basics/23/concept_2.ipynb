{
  "cells": [
    {
      "cell_type": "markdown",
      "metadata": {},
      "source": [
        "# Training a Text Classifier with TF-IDF and Logistic Regression"
      ]
    },
    {
      "cell_type": "markdown",
      "metadata": {},
      "source": [
        "## Introduction\n",
        "Let's learn how to create a simple text classifier using beginner-friendly techniques.\n",
        "\n",
        "### What is TF-IDF?\n",
        "- **TF (Term Frequency):** Measures how often a word appears in a document.\n",
        "- **IDF (Inverse Document Frequency):** Reduces the importance of commonly used words across many documents.\n",
        "- **Together (TF-IDF):** Helps identify words that are important in a specific document but rare overall.\n",
        "\n",
        "### What is Logistic Regression?\n",
        "- A mathematical method that finds patterns in data to predict categories, such as positive or negative reviews.\n"
      ]
    },
    {
      "cell_type": "markdown",
      "metadata": {},
      "source": [
        "## Real-World Example\n",
        "Imagine you have 10,000 movie reviews, half positive and half negative.\n",
        "- We convert the reviews into numerical features using TF-IDF.\n",
        "- Then, we train a logistic regression model to learn what words correspond to positive and negative reviews.\n",
        "- After training, the model can predict the sentiment of new reviews.\n"
      ]
    },
    {
      "cell_type": "markdown",
      "metadata": {},
      "source": [
        "## Training Code Demo"
      ]
    },
    {
      "cell_type": "code",
      "execution_count": null,
      "metadata": {},
      "outputs": [],
      "source": [
        "from sklearn.feature_extraction.text import TfidfVectorizer\n",
        "from sklearn.linear_model import LogisticRegression\n",
        "\n",
        "# Example training data\n",
        "train_texts = [\"I loved this movie!\", \"This film was terrible.\", \"An excellent experience!\", \"Not good.\"]\n",
        "train_labels = [1, 0, 1, 0]  # 1: positive, 0: negative\n",
        "\n",
        "# Step 1: Convert text to TF-IDF vectors\n",
        "vectorizer = TfidfVectorizer()\n",
        "X_train = vectorizer.fit_transform(train_texts)\n",
        "\n",
        "# Step 2: Train the classifier\n",
        "classifier = LogisticRegression()\n",
        "classifier.fit(X_train, train_labels)\n",
        "\n",
        "# Example test data\n",
        "test_texts = [\"What an amazing movie!\", \"It was a horrible experience.\"]\n",
        "X_test = vectorizer.transform(test_texts)\n",
        "\n",
        "# Step 3: Make predictions\n",
        "predictions = classifier.predict(X_test)\n",
        "print(\"Predicted labels:\", predictions)\n"
      ]
    },
    {
      "cell_type": "markdown",
      "metadata": {},
      "source": [
        "<a href=\"https://colab.research.google.com/github/Roopesht/codeexamples/blob/main/genai/python_easy/4/concept_2.ipynb\" target=\"_blank\" class=\"colab-button\">🚀 Open in Colab</a>"
      ]
    },
    {
      "cell_type": "markdown",
      "metadata": {},
      "source": [
        "## Simplified Explanation\n",
        "- Show the model examples like \"This is great!\" → Positive.\n",
        "- Let the model learn word patterns.\n",
        "- Test with new text: \"Amazing experience!\" → Model predicts: Positive.\n",
        "\n",
        "It's like teaching by example!"
      ]
    },
    {
      "cell_type": "markdown",
      "metadata": {},
      "source": [
        "## Different Perspective\n",
        "Imagine teaching a friend to recognize movie genres:\n",
        "- Show them 100 action movies and 100 romance movies.\n",
        "- They learn: \"explosion\", \"chase\" → Action; \"love\", \"heart\" → Romance.\n",
        "- Now, they can classify new movie descriptions!\n",
        "\n",
        "*Hope this clarifies how training works!*"
      ]
    },
    {
      "cell_type": "markdown",
      "metadata": {},
      "source": [
        "## Quick Check\n",
        "Why do we use TF-IDF instead of just counting words?\n",
        "- Think about how important words are, and how common or rare they are across all documents.\n",
        "- TF-IDF highlights important words that are distinctive, helping the model make better predictions.\n",
        "\n",
        "💭 > Consider how common words like \"the\" or \"and\" can be less helpful for classification."
      ]
    }
  ],
  "metadata": {},
  "nbformat": 4,
  "nbformat_minor": 5
}