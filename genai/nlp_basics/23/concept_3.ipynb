{
  "cells": [
    {
      "cell_type": "markdown",
      "metadata": {},
      "source": [
        "# Sentiment Classification Examples"
      ]
    },
    {
      "cell_type": "markdown",
      "metadata": {},
      "source": [
        "## What is Sentiment Classification?\n",
        "\n",
        "**Goal:** Determine the emotional tone of text.\n",
        "\n",
        "**Common Categories:**\n",
        "\n",
        "- ✅ Positive (happy, satisfied, excited)\n",
        "- ❌ Negative (angry, disappointed, frustrated)\n",
        "- 😐 Neutral (factual, no strong emotion)"
      ]
    },
    {
      "cell_type": "markdown",
      "metadata": {},
      "source": [
        "## IMDB Movie Reviews Example\n",
        "\n",
        "**Dataset:** 50,000 movie reviews from IMDB\n",
        "\n",
        "**Positive Example:**\n",
        "\n",
        "> \"This movie was absolutely brilliant! Amazing acting and incredible plot twists.\"\n",
        "\n",
        "**Negative Example:**\n",
        "\n",
        "> \"Waste of time. Poor acting and confusing storyline. Very disappointed.\""
      ]
    },
    {
      "cell_type": "markdown",
      "metadata": {},
      "source": [
        "## Twitter Sentiment Examples\n",
        "\n",
        "**Brand Monitoring:** Companies track mentions\n",
        "\n",
        "<table style=\"font-size: 0.8em;\">\n",
        "  <tr>\n",
        "    <td><em>\"Love my new iPhone! Best camera ever!\"</em></td>\n",
        "    <td style=\"color: green;\">😊 POSITIVE</td>\n",
        "  </tr>\n",
        "  <tr>\n",
        "    <td><em>\"iPhone battery died again. So annoying!\"</em></td>\n",
        "    <td style=\"color: red;\">😢 NEGATIVE</td>\n",
        "  </tr>\n",
        "  <tr>\n",
        "    <td><em>\"iPhone 15 announced today.\"</em></td>\n",
        "    <td style=\"color: blue;\">😐 NEUTRAL</td>\n",
        "  </tr>\n",
        "</table>"
      ]
    },
    {
      "cell_type": "markdown",
      "metadata": {},
      "source": [
        "## Sentiment Analysis Code"
      ]
    },
    {
      "cell_type": "code",
      "execution_count": null,
      "metadata": {},
      "outputs": [],
      "source": [
        "# Simple sentiment analysis example using sklearn\n",
        "from sklearn.feature_extraction.text import CountVectorizer\n",
        "from sklearn.linear_model import LogisticRegression\n",
        "\n",
        "# Training data (example)\n",
        "train_texts = [\n",
        "    \"This movie was absolutely brilliant! Amazing acting and incredible plot twists.\",\n",
        "    \"Waste of time. Poor acting and confusing storyline. Very disappointed.\",\n",
        "    \"It was okay, not great but not terrible either.\"\n",
        "]\n",
        "train_labels = [\"positive\", \"negative\", \"neutral\"]\n",
        "\n",
        "# Create vectorizer and train a simple model\n",
        "vectorizer = CountVectorizer()\n",
        "X_train = vectorizer.fit_transform(train_texts)\n",
        "sentiment_model = LogisticRegression().fit(X_train, train_labels)\n",
        "\n",
        "# Prediction function\ndef predict_sentiment(text):\n",
        "    text_vector = vectorizer.transform([text])\n",
        "    prediction = sentiment_model.predict(text_vector)[0]\n",
        "    confidence = sentiment_model.predict_proba(text_vector).max()\n",
        "    return prediction, confidence\n",
        "\n",
        "# Test it\n",
        "result = predict_sentiment(\"I love this movie!\")\n",
        "print(f\"Sentiment: {result[0]}, Confidence: {result[1]:.2f}\")"
      ]
    },
    {
      "cell_type": "markdown",
      "metadata": {},
      "source": [
        "## Sentiment Analysis Made Simple\n",
        "\n",
        "Imagine you're reading customer feedback forms:\n",
        "\n",
        "🟢 Happy words: love, great, amazing, excellent → Positive pile\n",
        "🔴 Unhappy words: hate, terrible, awful, disappointing → Negative pile\n",
        "🔵 Neutral words: okay, fine, average → Neutral pile\n",
        "\n",
        "*The computer does this automatically for thousands of reviews!*"
      ]
    },
    {
      "cell_type": "markdown",
      "metadata": {},
      "source": [
        "## Sentiment from a Different Angle\n",
        "\n",
        "**Think of sentiment analysis like being an emotion detective:**\n",
        "\n",
        "You look for clues (words) that reveal feelings.\n",
        "\n",
        "\"Clue words\" help you solve the mystery of how someone feels.\n",
        "\n",
        "Multiple clues together give you the final answer.\n",
        "\n",
        "*I hope this emotion detection concept is clear now!*"
      ]
    },
    {
      "cell_type": "markdown",
      "metadata": {},
      "source": [
        "## Practice Question\n",
        "\n",
        "How would you classify this review: \"The movie was okay. Not great, but not terrible either. Worth watching once.\"\n",
        "\n",
        "*💭 Look for emotional indicators and overall tone...*"
      ]
    }
  ],
  "metadata": {
    "kernelspec": {
      "display_name": "Python 3",
      "language": "python",
      "name": "python3"
    },
    "language_info": {
      "name": "python",
      "version": "3.x"
    }
  },
  "nbformat": 4,
  "nbformat_minor": 5
}
