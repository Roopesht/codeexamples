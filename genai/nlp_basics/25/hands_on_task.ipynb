{
  "cells": [
    {
      "cell_type": "markdown",
      "metadata": {},
      "source": [
        "# Introduction to Python Lists\n",
        "\n",
        "In this notebook, we will learn about Python lists.\n",
        "Lists are used to store multiple items in a single variable.\n",
        "Let's get started!"
      ]
    },
    {
      "cell_type": "markdown",
      "metadata": {},
      "source": [
        "## Creating a List\n",
        "\n",
        "You can create a list by placing comma-separated values inside square brackets []."
      ]
    },
    {
      "cell_type": "code",
      "execution_count": null,
      "outputs": [],
      "source": [
        "# Create a list of favorite fruits\n",
        "fruits = ['apple', 'banana', 'cherry']"
      ]
    },
    {
      "cell_type": "markdown",
      "metadata": {},
      "source": [
        "## Accessing List Items\n",
        "\n",
        "You can access individual items in a list using their index. Remember, Python uses zero-based indexing."
      ]
    },
    {
      "cell_type": "code",
      "execution_count": null,
      "outputs": [],
      "source": [
        "# Access the first item in the list\n",
        "first_fruit = fruits[0]\n",
        "print('First fruit:', first_fruit)"
      ]
    },
    {
      "cell_type": "markdown",
      "metadata": {},
      "source": [
        "## Modifying List Items\n",
        "\n",
        "You can change the value of a list item by assigning a new value to its index."
      ]
    },
    {
      "cell_type": "code",
      "execution_count": null,
      "outputs": [],
      "source": [
        "# Change 'banana' to 'blueberry'\n",
        "fruits[1] = 'blueberry'\n",
        "print('Updated list:', fruits)"
      ]
    },
    {
      "cell_type": "markdown",
      "metadata": {},
      "source": [
        "## Adding Items to a List\n",
        "\n",
        "Use the append() method to add an item to the end of the list."
      ]
    },
    {
      "cell_type": "code",
      "execution_count": null,
      "outputs": [],
      "source": [
        "# Add 'orange' to the list\n",
        "fruits.append('orange')\n",
        "print('List after adding a new fruit:', fruits)"
      ]
    },
    {
      "cell_type": "markdown",
      "metadata": {},
      "source": [
        "## Removing Items from a List\n",
        "\n",
        "Use the remove() method to delete a specific item from the list."
      ]
    },
    {
      "cell_type": "code",
      "execution_count": null,
      "outputs": [],
      "source": [
        "# Remove 'apple' from the list\n",
        "fruits.remove('apple')\n",
        "print('List after removing apple:', fruits)"
      ]
    },
    {
      "cell_type": "markdown",
      "metadata": {},
      "source": [
        "## Conclusion\n",
        "\n",
        "Lists are very useful for storing collections of data in Python. You can add, remove, and access items easily."
      ]
    }
  ],
  "metadata": {
    "kernelspec": {
      "display_name": "Python 3",
      "language": "python",
      "name": "python3"
    },
    "language_info": {
      "name": "python",
      "version": "3.x"
    }
  },
  "nbformat": 4,
  "nbformat_minor": 5
}