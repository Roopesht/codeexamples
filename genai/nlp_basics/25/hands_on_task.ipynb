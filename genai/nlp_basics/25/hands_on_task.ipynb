{
  "cells": [
    {
      "cell_type": "markdown",
      "metadata": {},
      "source": [
        "# Introduction to Variables in Python\n",
        "\n",
        "In this notebook, we'll learn about variables in Python.\n",
        "Variables are used to store information that we can use later in our program."
      ]
    },
    {
      "cell_type": "markdown",
      "metadata": {},
      "source": [
        "## What is a Variable?\n",
        "\n",
        "A variable is a name that refers to a value stored in the computer's memory.\n",
        "Think of it like a label for a box that contains some data."
      ]
    },
    {
      "cell_type": "markdown",
      "metadata": {},
      "source": [
        "## Creating Variables\n",
        "\n",
        "In Python, you create a variable by assigning a value to a name using the `=` operator.\n",
        "Let's see some examples."
      ]
    },
    {
      "cell_type": "code",
      "execution_count": null,
      "outputs": [],
      "source": [
        "# Assigning a number to a variable\n",
        "age = 25\n",
        "\n",
        "# Assigning a text to a variable\n",
        "name = \"Alice\""
      ]
    },
    {
      "cell_type": "markdown",
      "metadata": {},
      "source": [
        "## Printing Variables\n",
        "\n",
        "You can see what's stored in a variable by printing it using the `print()` function."
      ]
    },
    {
      "cell_type": "code",
      "execution_count": null,
      "outputs": [],
      "source": [
        "print(age)  # This will print: 25\n",
        "print(name) # This will print: Alice"
      ]
    },
    {
      "cell_type": "markdown",
      "metadata": {},
      "source": [
        "## Variable Types\n",
        "\n",
        "Variables can store different types of data:\n",
        "- Numbers (integers, decimals)\n",
        "- Text (strings)\n",
        "- Booleans (True or False)"
      ]
    },
    {
      "cell_type": "markdown",
      "metadata": {},
      "source": [
        "Let's see examples of different types:"
      ]
    },
    {
      "cell_type": "code",
      "execution_count": null,
      "outputs": [],
      "source": [
        "height = 170          # Integer\n",
        "weight = 65.5        # Float (decimal number)\n",
        "is_student = True    # Boolean"
      ]
    },
    {
      "cell_type": "markdown",
      "metadata": {},
      "source": [
        "## Summary\n",
        "\n",
        "- Variables are used to store data.\n",
        "- You create them by assigning a value with `=`.\n",
        "- You can print them using `print()`.\n",
        "- Variables can hold different types of data."
      ]
    },
    {
      "cell_type": "markdown",
      "metadata": {},
      "source": [
        "## Practice\n",
        "\n",
        "Try creating your own variables, assign some values, and print them!"
      ]
    }
  ],
  "metadata": {
    "kernelspec": {
      "name": "python3",
      "display_name": "Python 3",
      "language": "python"
    },
    "language_info": {
      "name": "python",
      "version": "3.x"
    }
  },
  "nbformat": 4,
  "nbformat_minor": 5
}