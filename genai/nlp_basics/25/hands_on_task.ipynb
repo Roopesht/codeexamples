{
  "nbformat": 4,
  "nbformat_minor": 5,
  "metadata": {
    "kernelspec": {
      "display_name": "Python 3",
      "language": "python",
      "name": "python3"
    },
    "language_info": {
      "name": "python",
      "version": "3.x"
    }
  },
  "cells": [
    {
      "cell_type": "markdown",
      "metadata": {},
      "source": [
        "# Introduction to Python Variables and Data Types\n",
        "\n",
        "Welcome! In this notebook, we will learn about variables and data types in Python. These are fundamental concepts that help you store and organize information in your programs."
      ]
    },
    {
      "cell_type": "markdown",
      "metadata": {},
      "source": [
        "## What is a Variable?\n",
        "\n",
        "A variable is like a container that holds data. You give it a name, and then you can use that name to access or change the data inside."
      ]
    },
    {
      "cell_type": "markdown",
      "metadata": {},
      "source": [
        "## Creating Variables\n",
        "\n",
        "Let's see how to create variables in Python."
      ]
    },
    {
      "cell_type": "code",
      "execution_count": null,
      "outputs": [],
      "metadata": {},
      "source": [
        "# Creating a variable to store an integer\n",
        "age = 10"
      ]
    },
    {
      "cell_type": "markdown",
      "metadata": {},
      "source": [
        "In the above example, we created a variable named `age` and stored the number 10 in it."
      ]
    },
    {
      "cell_type": "markdown",
      "metadata": {},
      "source": [
        "## Data Types in Python\n",
        "\n",
        "Python has different types of data that you can store in variables. Some common data types are:"
      ]
    },
    {
      "cell_type": "markdown",
      "metadata": {},
      "source": [
        "- Integer (`int`): Whole numbers like 1, 2, 3\n",
        "- Floating-point (`float`): Decimal numbers like 3.14, 0.01\n",
        "- String (`str`): Text data like `'Hello'`, \"Python\"\n",
        "- Boolean (`bool`): True or False"
      ]
    },
    {
      "cell_type": "markdown",
      "metadata": {},
      "source": [
        "## Examples of Variables with Different Data Types\n",
        "\n",
        "Let's create some example variables for each data type."
      ]
    },
    {
      "cell_type": "code",
      "execution_count": null,
      "outputs": [],
      "metadata": {},
      "source": [
        "# Integer\n",
        "score = 100\n",
        "\n",
        "# Float\n",
        "pi = 3.14\n",
        "\n",
        "# String\n",
        "greeting = \"Hello, Python!\"\n",
        "\n",
        "# Boolean\n",
        "is_active = True"
      ]
    },
    {
      "cell_type": "markdown",
      "metadata": {},
      "source": [
        "You can check the type of a variable using the `type()` function."
      ]
    },
    {
      "cell_type": "code",
      "execution_count": null,
      "outputs": [],
      "metadata": {},
      "source": [
        "# Check the data types\n",
        "print(type(score))      # <class 'int'>\n",
        "print(type(pi))         # <class 'float'>\n",
        "print(type(greeting))   # <class 'str'>\n",
        "print(type(is_active))  # <class 'bool'>"
      ]
    },
    {
      "cell_type": "markdown",
      "metadata": {},
      "source": [
        "## Changing the Value of a Variable\n",
        "\n",
        "You can easily change the value stored in a variable by assigning a new value to it."
      ]
    },
    {
      "cell_type": "code",
      "execution_count": null,
      "outputs": [],
      "metadata": {},
      "source": [
        "x = 5\n",
        "print(x)  # Output: 5\n",
        "x = 10\n",
        "print(x)  # Output: 10"
      ]
    },
    {
      "cell_type": "markdown",
      "metadata": {},
      "source": [
        "## Summary\n",
        "\n",
        "- Variables are containers for data.\n",
        "- Data types specify what kind of data is stored.\n",
        "- You can assign and change values easily.\n",
        "- Use `type()` to see what kind of data is stored."
      ]
    }
  ]
}