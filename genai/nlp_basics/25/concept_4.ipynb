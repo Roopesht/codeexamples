{
  "cells": [
    {
      "cell_type": "markdown",
      "metadata": {},
      "source": [
        "# Introduction to Variables in Python\n",
        "\n",
        "In this lesson, we will learn about variables in Python. Variables are used to store information that you can use and manipulate in your programs."
      ]
    },
    {
      "cell_type": "markdown",
      "metadata": {},
      "source": [
        "## What is a Variable?\n",
        "\n",
        "A variable is like a container that holds data. You can give it a name and store some information inside it, such as numbers or text."
      ]
    },
    {
      "cell_type": "markdown",
      "metadata": {},
      "source": [
        "## Creating a Variable\n",
        "\n",
        "To create a variable, you choose a name and assign a value using the equals sign (=)."
      ]
    },
    {
      "cell_type": "code",
      "metadata": {},
      "execution_count": null,
      "outputs": [],
      "source": [
        "# Creating a variable named 'age' and assigning the value 10\n",
        "age = 10\n"
      ]
    },
    {
      "cell_type": "markdown",
      "metadata": {},
      "source": [
        "## Using Variables\n",
        "\n",
        "Once a variable is created, you can use it in your program. For example, you can print its value."
      ]
    },
    {
      "cell_type": "code",
      "metadata": {},
      "execution_count": null,
      "outputs": [],
      "source": [
        "# Printing the value of the variable 'age'\n",
        "print(age)"
      ]
    },
    {
      "cell_type": "markdown",
      "metadata": {},
      "source": [
        "## Changing the Value of a Variable\n",
        "\n",
        "You can change what a variable holds by assigning a new value to it."
      ]
    },
    {
      "cell_type": "code",
      "metadata": {},
      "execution_count": null,
      "outputs": [],
      "source": [
        "# Changing the value of 'age' to 15\n",
        "age = 15\n",
        "\n",
        "# Printing the new value\n",
        "print(age)"
      ]
    },
    {
      "cell_type": "markdown",
      "metadata": {},
      "source": [
        "## Variable Types\n",
        "\n",
        "Variables can hold different types of data, such as numbers, text, lists, etc."
      ]
    },
    {
      "cell_type": "markdown",
      "metadata": {},
      "source": [
        "### Example with a string (text):"
      ]
    },
    {
      "cell_type": "code",
      "metadata": {},
      "execution_count": null,
      "outputs": [],
      "source": [
        "# Creating a variable with a string value\n",
        "name = \"Alice\""
      ]
    },
    {
      "cell_type": "markdown",
      "metadata": {},
      "source": [
        "### Example with a list:"
      ]
    },
    {
      "cell_type": "code",
      "metadata": {},
      "execution_count": null,
      "outputs": [],
      "source": [
        "# Creating a list of numbers\n",
        "numbers = [1, 2, 3, 4, 5]"
      ]
    },
    {
      "cell_type": "markdown",
      "metadata": {},
      "source": [
        "## Summary\n",
        "\n",
        "- Variables store data in your programs.\n",
        "- You create a variable with a name and assign a value.\n",
        "- You can change the value anytime.\n",
        "- Variables can hold different types of data."
      ]
    }
  ],
  "metadata": {
    "kernelspec": {
      "display_name": "Python 3",
      "language": "python",
      "name": "python3"
    },
    "language_info": {
      "name": "python",
      "version": "3.x"
    }
  },
  "nbformat": 4,
  "nbformat_minor": 5
}