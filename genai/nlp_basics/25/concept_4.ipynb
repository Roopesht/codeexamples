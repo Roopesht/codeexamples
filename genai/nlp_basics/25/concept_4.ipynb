{
  "cells": [
    {
      "cell_type": "markdown",
      "metadata": {},
      "source": [
        "# Introduction to Variables in Python\n",
        "\n",
        "In this notebook, we will learn what variables are and how to use them in Python. Variables are used to store information that we can use later in our programs."
      ]
    },
    {
      "cell_type": "markdown",
      "metadata": {},
      "source": [
        "## What is a Variable?\n",
        "\n",
        "A variable is like a container in your computer's memory. You can put data into it, give it a name, and then use that data later."
      ]
    },
    {
      "cell_type": "markdown",
      "metadata": {},
      "source": [
        "## Creating Variables\n",
        "\n",
        "Let's see how to create variables in Python."
      ]
    },
    {
      "cell_type": "code",
      "execution_count": null,
      "outputs": [],
      "source": [
        "# Assign the value 10 to a variable named 'x'\n",
        "x = 10\n",
        "\n",
        "# Assign a string to a variable named 'name'\n",
        "name = \"Alice\""
      ]
    },
    {
      "cell_type": "markdown",
      "metadata": {},
      "source": [
        "## Using Variables\n",
        "\n",
        "Now that we have created variables, let's see how we can use them in our code."
      ]
    },
    {
      "cell_type": "code",
      "execution_count": null,
      "outputs": [],
      "source": [
        "# Print the value of x\n",
        "print(x)\n",
        "\n",
        "# Print a message with the name\n",
        "print(\"Hello, \" + name + \"!\")"
      ]
    },
    {
      "cell_type": "markdown",
      "metadata": {},
      "source": [
        "## Changing Variables\n",
        "\n",
        "Variables can be changed or updated later in the program."
      ]
    },
    {
      "cell_type": "code",
      "execution_count": null,
      "outputs": [],
      "source": [
        "# Update the value of x\n",
        "x = 20\n",
        "# Display the new value\n",
        "print(x)"
      ]
    },
    {
      "cell_type": "markdown",
      "metadata": {},
      "source": [
        "## Summary\n",
        "\n",
        "- Variables are containers for data.\n",
        "- You can create variables by assigning a value with '='.\n",
        "- You can use variables in expressions and print their values.\n",
        "- Variables can be changed at any time."
      ]
    }
  ],
  "metadata": {
    "kernelspec": {
      "display_name": "Python 3",
      "language": "python",
      "name": "python3"
    },
    "language_info": {
      "name": "python",
      "version": "3.x"
    }
  },
  "nbformat": 4,
  "nbformat_minor": 5
}