{
  "cells": [
    {
      "cell_type": "markdown",
      "metadata": {},
      "source": [
        "# Understanding the Number 16237"
      ]
    },
    {
      "cell_type": "markdown",
      "metadata": {},
      "source": [
        "In this notebook, we will explore the number 16237. We'll look at its properties and perform some simple operations to better understand it."
      ]
    },
    {
      "cell_type": "markdown",
      "metadata": {},
      "source": [
        "## What is 16237?\n",
        "\n",
        "16237 is a whole number. Let's see some basic facts about this number."
      ]
    },
    {
      "cell_type": "code",
      "execution_count": null,
      "metadata": {},
      "outputs": [],
      "source": [
        "# Declare the number\n",
        "number = 16237"
      ]
    },
    {
      "cell_type": "markdown",
      "metadata": {},
      "source": [
        "### Checking the type of the number"
      ]
    },
    {
      "cell_type": "code",
      "execution_count": null,
      "metadata": {},
      "outputs": [],
      "source": [
        "type_of_number = type(number)\n",
        "type_of_number"
      ]
    },
    {
      "cell_type": "markdown",
      "metadata": {},
      "source": [
        "The number 16237 is of type `int`, which means it is an integer (a whole number)."
      ]
    },
    {
      "cell_type": "markdown",
      "metadata": {},
      "source": [
        "### Checking if the number is even or odd"
      ]
    },
    {
      "cell_type": "code",
      "execution_count": null,
      "metadata": {},
      "outputs": [],
      "source": [
        "is_even = (number % 2 == 0)\n",
        "is_even"
      ]
    },
    {
      "cell_type": "markdown",
      "metadata": {},
      "source": [
        "Since 16237 divided by 2 leaves a remainder, it is an odd number."
      ]
    },
    {
      "cell_type": "markdown",
      "metadata": {},
      "source": [
        "### Checking if the number is a prime number"
      ]
    },
    {
      "cell_type": "code",
      "execution_count": null,
      "metadata": {},
      "outputs": [],
      "source": [
        "def is_prime(n):\n",
        "    if n <= 1:\n",
        "        return False\n",
        "    for i in range(2, int(n ** 0.5) + 1):\n",
        "        if n % i == 0:\n",
        "            return False\n",
        "    return True\n",
        "\n",
        "is_prime_16237 = is_prime(number)\n",
        "is_prime_16237"
      ]
    },
    {
      "cell_type": "markdown",
      "metadata": {},
      "source": [
        "The number 16237 is [check based on code] whether it is prime or not.\n",
        "\n",
        "Let's see the result."
      ]
    },
    {
      "cell_type": "markdown",
      "metadata": {},
      "source": [
        "## Properties of 16237"
      ]
    },
    {
      "cell_type": "markdown",
      "metadata": {},
      "source": [
        "- It is a **whole number** of type `int`.",
        "\n- It is an **odd number**.",
        "\n- Let's check if it is a **prime number**."
      ]
    },
    {
      "cell_type": "markdown",
      "metadata": {},
      "source": [
        "## Additional Operations"
      ]
    },
    {
      "cell_type": "code",
      "execution_count": null,
      "metadata": {},
      "outputs": [],
      "source": [
        "# Calculate the square of 16237\n",
        "square = number ** 2\n",
        "square"
      ]
    },
    {
      "cell_type": "markdown",
      "metadata": {},
      "source": [
        "The square of 16237 is calculated above."
      ]
    },
    {
      "cell_type": "code",
      "execution_count": null,
      "metadata": {},
      "outputs": [],
      "source": [
        "# Check if the number is a palindrome (reads the same forward and backward)\n",
        "number_str = str(number)\n",
        "is_palindrome = (number_str == number_str[::-1])\n",
        "is_palindrome"
      ]
    },
    {
      "cell_type": "markdown",
      "metadata": {},
      "source": [
        "Let's check if 16237 reads the same forward and backward."
      ]
    },
    {
      "cell_type": "markdown",
      "metadata": {},
      "source": [
        "## Summary\n",
        "\n",
        "In this notebook, we explored the number 16237, checked its type, whether it is even or odd, whether it is prime, calculated its square, and checked if it is a palindrome."
      ]
    }
  ],
  "metadata": {
    "kernelspec": {
      "display_name": "Python 3",
      "language": "python",
      "name": "python3"
    },
    "language_info": {
      "name": "python",
      "version": "3.x"
    }
  },
  "nbformat": 4,
  "nbformat_minor": 2
}