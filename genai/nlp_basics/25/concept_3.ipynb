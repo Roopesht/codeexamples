{
  "cells": [
    {
      "cell_type": "markdown",
      "metadata": {},
      "source": [
        "# Introduction to Variables in Python\n",
        "\n",
        "Welcome! In this notebook, we'll learn about variables in Python, which are used to store data.\n",
        "Let's get started!\n"
      ]
    },
    {
      "cell_type": "markdown",
      "metadata": {},
      "source": [
        "## What is a Variable?\n",
        "\n",
        "A variable is a name that refers to a piece of data stored in your computer's memory.\n",
        "Think of it as a labeled container for information.\n"
      ]
    },
    {
      "cell_type": "markdown",
      "metadata": {},
      "source": [
        "## Creating Variables\n",
        "\n",
        "In Python, you create a variable by assigning a value to a name using the `=` operator.\n"
      ]
    },
    {
      "cell_type": "code",
      "execution_count": null,
      "outputs": [],
      "source": [
        "# Assigning a number to a variable\n",
        "age = 10\n"
      ]
    },
    {
      "cell_type": "markdown",
      "metadata": {},
      "source": [
        "Let's assign some values to variables and see how they work.\n"
      ]
    },
    {
      "cell_type": "code",
      "execution_count": null,
      "outputs": [],
      "source": [
        "# Assign a string to a variable\n",
        "name = \"Alice\"\n"
      ]
    },
    {
      "cell_type": "markdown",
      "metadata": {},
      "source": [
        "## Printing Variables\n",
        "\n",
        "You can see the value of a variable using the `print()` function.\n"
      ]
    },
    {
      "cell_type": "code",
      "execution_count": null,
      "outputs": [],
      "source": [
        "print(age)\n",
        "print(name)\n"
      ]
    },
    {
      "cell_type": "markdown",
      "metadata": {},
      "source": [
        "## Variable Types\n",
        "\n",
        "Variables can hold different types of data, such as numbers, text, or lists.\n"
      ]
    },
    {
      "cell_type": "code",
      "execution_count": null,
      "outputs": [],
      "source": [
        "# Integer\n",
        "number = 42\n",
        "\n",
        "# Floating point number\n",
        "pi = 3.14\n",
        "\n",
        "# String\n",
        "greeting = \"Hello!\"\n",
        "\n",
        "# List\n",
        "colors = [\"red\", \"green\", \"blue\"]\n"
      ]
    },
    {
      "cell_type": "markdown",
      "metadata": {},
      "source": [
        "## Changing the Value of a Variable\n",
        "\n",
        "You can also change the value stored in a variable by assigning a new value.\n"
      ]
    },
    {
      "cell_type": "code",
      "execution_count": null,
      "outputs": [],
      "source": [
        "age = 15\n",
        "print(age)\n"
      ]
    },
    {
      "cell_type": "markdown",
      "metadata": {},
      "source": [
        "## Summary\n",
        "\n",
        "- Variables are named containers for data.\n",
        "- Created using the `=` sign.\n",
        "- Can store different types of data.\n",
        "- Values can be changed by reassignment.\n"
      ]
    }
  ],
  "metadata": {
    "kernelspec": {
      "name": "python3",
      "display_name": "Python 3",
      "language": "python"
    },
    "language_info": {
      "name": "python",
      "version": "3.x"
    }
  },
  "nbformat": 4,
  "nbformat_minor": 5
}