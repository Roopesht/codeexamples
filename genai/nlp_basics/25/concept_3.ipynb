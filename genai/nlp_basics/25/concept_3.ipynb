{
  "cells": [
    {
      "cell_type": "markdown",
      "metadata": {},
      "source": [
        "# Introduction to Basic Python Programming\n"
      ]
    },
    {
      "cell_type": "markdown",
      "metadata": {},
      "source": [
        "Welcome to this beginner-friendly notebook on Python programming!\n",
        "Let's start with some basics to help you get comfortable with Python syntax and concepts.\n"
      ]
    },
    {
      "cell_type": "markdown",
      "metadata": {},
      "source": [
        "## What is Python?\n",
        "Python is a popular programming language known for its simple and readable syntax.\n",
        "It is used in many areas such as web development, data analysis, artificial intelligence, and more.\n"
      ]
    },
    {
      "cell_type": "markdown",
      "metadata": {},
      "source": [
        "## Printing Messages\n",
        "Let's learn how to display messages using Python!\n"
      ]
    },
    {
      "cell_type": "code",
      "execution_count": null,
      "metadata": {},
      "outputs": [],
      "source": [
        "# Print a simple message\n",
        "print(\"Hello, world!\")\n"
      ]
    },
    {
      "cell_type": "markdown",
      "metadata": {},
      "source": [
        "## Variables and Data Types\n",
        "Variables are used to store information. Python has different data types such as numbers and text.\n"
      ]
    },
    {
      "cell_type": "code",
      "execution_count": null,
      "metadata": {},
      "outputs": [],
      "source": [
        "# Assign values to variables\n",
        "name = \"Alice\"\n",
        "age = 10\n",
        "height = 4.5  # height in feet\n\n",
        "# Print the variables\n",
        "print(\"Name:\", name)\n",
        "print(\"Age:\", age)\n",
        "print(\"Height:\", height)\n"
      ]
    },
    {
      "cell_type": "markdown",
      "metadata": {},
      "source": [
        "## Simple Calculations\n",
        "Python can perform basic arithmetic operations like addition, subtraction, multiplication, and division.\n"
      ]
    },
    {
      "cell_type": "code",
      "execution_count": null,
      "metadata": {},
      "outputs": [],
      "source": [
        "# Arithmetic operations\n",
        "a = 15\n",
        "b = 5\n\n",
        "sum_result = a + b  # addition\n",
        "diff_result = a - b  # subtraction\n",
        "prod_result = a * b  # multiplication\n",
        "div_result = a / b  # division\n\n",
        "# Display the results\n",
        "print(\"Sum:\", sum_result)\n",
        "print(\"Difference:\", diff_result)\n",
        "print(\"Product:\", prod_result)\n",
        "print(\"Division:\", div_result)\n"
      ]
    },
    {
      "cell_type": "markdown",
      "metadata": {},
      "source": [
        "## Conditions and If Statements\n",
        "Conditions allow your program to make decisions based on certain criteria.\n"
      ]
    },
    {
      "cell_type": "code",
      "execution_count": null,
      "metadata": {},
      "outputs": [],
      "source": [
        "# Check if a number is positive\n",
        "number = 7\n",
        "if number > 0:\n",
        "    print(\"The number is positive.\")\n",
        "else:\n",
        "    print(\"The number is not positive.\")\n"
      ]
    },
    {
      "cell_type": "markdown",
      "metadata": {},
      "source": [
        "## Loops\n",
        "Loops help repeat actions multiple times.\n"
      ]
    },
    {
      "cell_type": "code",
      "execution_count": null,
      "metadata": {},
      "outputs": [],
      "source": [
        "# Print numbers from 1 to 5 using a for loop\n",
        "for i in range(1, 6):\n",
        "    print(i)\n"
      ]
    },
    {
      "cell_type": "markdown",
      "metadata": {},
      "source": [
        "## Summary\n",
        "In this notebook, we covered some basic concepts of Python programming:\n",
        "- Printing messages\n",
        "- Variables and data types\n",
        "- Simple calculations\n",
        "- Conditions and if statements\n",
        "- Loops\n",
        "Feel free to explore more and practice writing your own code!\n"
      ]
    }
  ],
  "metadata": {
    "kernelspec": {
      "display_name": "Python 3",
      "language": "python",
      "name": "python3"
    },
    "language_info": {
      "name": "python",
      "version": "3.x"
    }
  },
  "nbformat": 4,
  "nbformat_minor": 5
}