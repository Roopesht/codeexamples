{
  "cells": [
    {
      "cell_type": "markdown",
      "metadata": {},
      "source": [
        "# Introduction to Python Variables and Data Types\n",
        "\n",
        "In this tutorial, we will learn about Python variables and some common data types. Variables are used to store information that you can use and manipulate in your programs. Data types specify what kind of data a variable holds, such as numbers, text, or more complex structures."
      ]
    },
    {
      "cell_type": "markdown",
      "metadata": {},
      "source": [
        "## Declaring Variables\n",
        "\n",
        "In Python, you can create a variable by assigning a value to it using the `=` operator. Unlike some languages, you don't need to specify the type explicitly; Python figures it out based on the value."
      ]
    },
    {
      "cell_type": "code",
      "execution_count": null,
      "metadata": {},
      "outputs": [],
      "source": [
        "# Creating variables\n",
        "age = 25\n",
        "name = \"Alice\"\n",
        "height = 5.7"
      ]
    },
    {
      "cell_type": "markdown",
      "metadata": {},
      "source": [
        "## Viewing Variables\n",
        "\n",
        "To see what's stored in a variable, you can simply type its name and run the cell."
      ]
    },
    {
      "cell_type": "code",
      "execution_count": null,
      "metadata": {},
      "outputs": [],
      "source": [
        "# Display variables\n",
        "age\n",
        "name\n",
        "height"
      ]
    },
    {
      "cell_type": "markdown",
      "metadata": {},
      "source": [
        "## Data Types in Python\n",
        "\n",
        "Python has several common data types, including integers, floating point numbers (decimals), strings (text), and more."
      ]
    },
    {
      "cell_type": "markdown",
      "metadata": {},
      "source": [
        "### Integer\n",
        "An integer is a whole number without a decimal point."
      ]
    },
    {
      "cell_type": "code",
      "execution_count": null,
      "metadata": {},
      "outputs": [],
      "source": [
        "num1 = 10"
      ]
    },
    {
      "cell_type": "markdown",
      "metadata": {},
      "source": [
        "### Float\n",
        "A float is a number with a decimal point."
      ]
    },
    {
      "cell_type": "code",
      "execution_count": null,
      "metadata": {},
      "outputs": [],
      "source": [
        "pi = 3.14"
      ]
    },
    {
      "cell_type": "markdown",
      "metadata": {},
      "source": [
        "### String\n",
        "A string is a sequence of characters enclosed in quotes."
      ]
    },
    {
      "cell_type": "code",
      "execution_count": null,
      "metadata": {},
      "outputs": [],
      "source": [
        "greeting = \"Hello, world!\""
      ]
    },
    {
      "cell_type": "markdown",
      "metadata": {},
      "source": [
        "## Using Variables\n",
        "\n",
        "You can perform operations with variables, such as addition or combining strings."
      ]
    },
    {
      "cell_type": "code",
      "execution_count": null,
      "metadata": {},
      "outputs": [],
      "source": [
        "# Adding numbers\n",
        "sum = num1 + 5\n",
        "sum"
      ]
    },
    {
      "cell_type": "code",
      "execution_count": null,
      "metadata": {},
      "outputs": [],
      "source": [
        "# Concatenating strings\n",
        "full_greeting = greeting + \" Let's learn Python!\""
      ]
    },
    {
      "cell_type": "markdown",
      "metadata": {},
      "source": [
        "## Summary\n",
        "\n",
        "- Variables are used to store data.\n",
        "- Python automatically assigns data types based on the value.\n",
        "- Common data types include integers, floats, and strings.\n",
        "- You can combine variables using operators."
      ]
    }
  ],
  "metadata": {
    "kernelspec": {
      "display_name": "Python 3",
      "language": "python",
      "name": "python3"
    },
    "language_info": {
      "name": "python",
      "version": "3.x"
    }
  },
  "nbformat": 4,
  "nbformat_minor": 5
}