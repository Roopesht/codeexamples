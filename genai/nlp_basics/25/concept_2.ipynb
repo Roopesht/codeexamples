{
  "cells": [
    {
      "cell_type": "markdown",
      "metadata": {},
      "source": [
        "# Introduction to Python Variables and Data Types\n",
        "\n",
        "In this beginner-friendly notebook, we'll learn about variables and different data types in Python. "
      ]
    },
    {
      "cell_type": "markdown",
      "metadata": {},
      "source": [
        "## What are Variables?\n",
        "\n",
        "Variables are like containers that store information. You can name these containers and put data inside them.\n",
        "\n",
        "For example, to store a number or some text, you create a variable."
      ]
    },
    {
      "cell_type": "code",
      "execution_count": null,
      "outputs": [],
      "metadata": {},
      "source": [
        "# Creating variables in Python\n",
        "age = 25\n",
        "name = \"Alice\"\n",
        "height = 5.6\n"
      ]
    },
    {
      "cell_type": "markdown",
      "metadata": {},
      "source": [
        "## Data Types in Python\n",
        "\n",
        "Python has different types of data you can work with. Let's see some common ones:"
      ]
    },
    {
      "cell_type": "markdown",
      "metadata": {},
      "source": [
        "- **Integers**: Whole numbers like 1, 2, 3\n",
        "- **Floats**: Decimal numbers like 3.14, 0.01\n",
        "- **Strings**: Text data like \"Hello!\"\n",
        "- **Booleans**: True or False"
      ]
    },
    {
      "cell_type": "markdown",
      "metadata": {},
      "source": [
        "## Examples of Data Types\n",
        "\n",
        "Let's see some examples in code."
      ]
    },
    {
      "cell_type": "code",
      "execution_count": null,
      "outputs": [],
      "metadata": {},
      "source": [
        "my_int = 10  # Integer\n",
        "my_float = 3.14  # Float\n",
        "my_string = \"Hello, World!\"  # String\n",
        "my_bool = True  # Boolean\n"
      ]
    },
    {
      "cell_type": "markdown",
      "metadata": {},
      "source": [
        "## Printing Variables\n",
        "\n",
        "You can display the value of variables using the `print()` function."
      ]
    },
    {
      "cell_type": "code",
      "execution_count": null,
      "outputs": [],
      "metadata": {},
      "source": [
        "name = \"Bob\"\n",
        "age = 30\n",
        "print(\"Name:\", name)\n",
        "print(\"Age:\", age)"
      ]
    },
    {
      "cell_type": "markdown",
      "metadata": {},
      "source": [
        "## Summary\n",
        "\n",
        "- Variables are used to store data.\n",
        "- Python has various data types like integers, floats, strings, and booleans.\n",
        "- You can assign values to variables and display them with `print()`."
      ]
    },
    {
      "cell_type": "markdown",
      "metadata": {},
      "source": [
        "Thank you for learning about variables and data types in Python!\n",
        "\n",
        "Next, we will explore how to perform operations with data."
      ]
    }
  ],
  "metadata": {
    "kernelspec": {
      "display_name": "Python 3",
      "language": "python",
      "name": "python3"
    },
    "language_info": {
      "name": "python",
      "version": "3.x"
    }
  },
  "nbformat": 4,
  "nbformat_minor": 5
}