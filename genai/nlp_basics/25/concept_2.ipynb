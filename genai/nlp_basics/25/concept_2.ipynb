{
  "cells": [
    {
      "cell_type": "markdown",
      "metadata": {},
      "source": [
        "# Introduction to Python Lists\n",
        "\n",
        "In this notebook, we will learn about lists in Python. Lists are a way to store multiple items in a single variable."
      ]
    },
    {
      "cell_type": "markdown",
      "metadata": {},
      "source": [
        "## What is a List?\n",
        "\n",
        "A list is a collection of items that are ordered and changeable. Lists are written with square brackets `[]`, and the items are separated by commas."
      ]
    },
    {
      "cell_type": "code",
      "execution_count": null,
      "outputs": [],
      "metadata": {},
      "source": [
        "# Example of a list\n",
        "fruits = ['apple', 'banana', 'cherry']"
      ]
    },
    {
      "cell_type": "markdown",
      "metadata": {},
      "source": [
        "## Creating a List\n",
        "\n",
        "To create a list, you just need to assign multiple items inside square brackets."
      ]
    },
    {
      "cell_type": "code",
      "execution_count": null,
      "outputs": [],
      "metadata": {},
      "source": [
        "# Creating a list of numbers\n",
        "numbers = [1, 2, 3, 4, 5]"
      ]
    },
    {
      "cell_type": "markdown",
      "metadata": {},
      "source": [
        "## Accessing Items in a List\n",
        "\n",
        "You can access individual items in a list by their index. Remember, in Python, indices start at 0."
      ]
    },
    {
      "cell_type": "code",
      "execution_count": null,
      "outputs": [],
      "metadata": {},
      "source": [
        "# Access the first item\n",
        "first_fruit = fruits[0]\n",
        "print('First fruit:', first_fruit)"
      ]
    },
    {
      "cell_type": "markdown",
      "metadata": {},
      "source": [
        "## Modifying a List\n",
        "\n",
        "Lists are mutable, meaning you can change their items after creation."
      ]
    },
    {
      "cell_type": "code",
      "execution_count": null,
      "outputs": [],
      "metadata": {},
      "source": [
        "# Change 'banana' to 'blueberry'\n",
        "fruits[1] = 'blueberry'\n",
        "print('Updated list:', fruits)"
      ]
    },
    {
      "cell_type": "markdown",
      "metadata": {},
      "source": [
        "## Adding Items to a List\n",
        "\n",
        "You can add new items using the `append()` method."
      ]
    },
    {
      "cell_type": "code",
      "execution_count": null,
      "outputs": [],
      "metadata": {},
      "source": [
        "# Add a new fruit\n",
        "fruits.append('orange')\n",
        "print('List after adding a new fruit:', fruits)"
      ]
    },
    {
      "cell_type": "markdown",
      "metadata": {},
      "source": [
        "## Removing Items from a List\n",
        "\n",
        "Use the `remove()` method to delete an item."
      ]
    },
    {
      "cell_type": "code",
      "execution_count": null,
      "outputs": [],
      "metadata": {},
      "source": [
        "# Remove 'cherry'\n",
        "fruits.remove('cherry')\n",
        "print('List after removing cherry:', fruits)"
      ]
    },
    {
      "cell_type": "markdown",
      "metadata": {},
      "source": [
        "## Summary\n",
        "\n",
        "Lists are flexible and useful for storing multiple pieces of data. You can create, access, modify, add, and remove items easily."
      ]
    }
  ],
  "metadata": {
    "kernelspec": {
      "display_name": "Python 3",
      "language": "python",
      "name": "python3"
    },
    "language_info": {
      "codemirror_mode": {
        "name": "ipython",
        "version": 3
      },
      "file_extension": ".py",
      "mimetype": "text/x-python",
      "name": "python",
      "nbconvert_exporter": "python",
      "version": "3.8"
    }
  },
  "nbformat": 4,
  "nbformat_minor": 5
}