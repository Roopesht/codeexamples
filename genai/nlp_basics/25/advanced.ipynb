{
  "cells": [
    {
      "cell_type": "markdown",
      "metadata": {},
      "source": [
        "# Introduction to Variables in Python\n",
        "\n",
        "In this notebook, we will learn about variables in Python.\n",
        "Variables are used to store information that we can use and manipulate later."
      ]
    },
    {
      "cell_type": "markdown",
      "metadata": {},
      "source": [
        "## What is a Variable?\n",
        "\n",
        "A variable is like a container that holds a value. You can think of it as a box with a label, and you can put different things inside it."
      ]
    },
    {
      "cell_type": "markdown",
      "metadata": {},
      "source": [
        "## Creating a Variable\n",
        "\n",
        "Let's see how to create a variable in Python."
      ]
    },
    {
      "cell_type": "code",
      "execution_count": null,
      "metadata": {},
      "outputs": [],
      "source": [
        "# Assigning a number to a variable\n",
        "x = 10\n",
        "\n",
        "# Assigning text to a variable\n",
        "name = \"Alice\"\n"
      ]
    },
    {
      "cell_type": "markdown",
      "metadata": {},
      "source": [
        "## Printing Variables\n",
        "\n",
        "We can display the value stored in a variable using the `print()` function."
      ]
    },
    {
      "cell_type": "code",
      "execution_count": null,
      "metadata": {},
      "outputs": [],
      "source": [
        "print(x)      # Output: 10\n",
        "print(name)   # Output: Alice\n"
      ]
    },
    {
      "cell_type": "markdown",
      "metadata": {},
      "source": [
        "## Changing Variable Values\n",
        "\n",
        "You can assign a new value to an existing variable."
      ]
    },
    {
      "cell_type": "code",
      "execution_count": null,
      "metadata": {},
      "outputs": [],
      "source": [
        "x = 20\n",
        "name = \"Bob\"\n"
      ]
    },
    {
      "cell_type": "markdown",
      "metadata": {},
      "source": [
        "Let's print the variables again to see their new values."
      ]
    },
    {
      "cell_type": "code",
      "execution_count": null,
      "metadata": {},
      "outputs": [],
      "source": [
        "print(x)      # Output: 20\n",
        "print(name)   # Output: Bob\n"
      ]
    },
    {
      "cell_type": "markdown",
      "metadata": {},
      "source": [
        "## Summary\n",
        "\n",
        "- Variables store information.\n",
        "- You create a variable by giving it a name and assigning a value using `=`.\n",
        "- You can change the value of a variable at any time."
      ]
    }
  ],
  "metadata": {},
  "nbformat": 4,
  "nbformat_minor": 5
}