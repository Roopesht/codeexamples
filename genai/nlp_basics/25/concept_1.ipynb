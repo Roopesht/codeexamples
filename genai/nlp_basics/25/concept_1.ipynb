{
  "cells": [
    {
      "cell_type": "markdown",
      "metadata": {},
      "source": [
        "# Introduction to Variables in Python\n",
        "\n",
        "In this tutorial, we will learn about variables in Python. Variables are used to store information so that we can use and manipulate it later."
      ]
    },
    {
      "cell_type": "markdown",
      "metadata": {},
      "source": [
        "## What is a Variable?\n",
        "\n",
        "A variable is like a container that holds data. You give it a name and assign some value to it. You can then use the variable's name to access the stored data."
      ]
    },
    {
      "cell_type": "markdown",
      "metadata": {},
      "source": [
        "## Creating Variables\n",
        "\n",
        "In Python, you create a variable by assigning a value to it using the `=` operator.\n",
        "\n",
        "Let's see how to do it:"
      ]
    },
    {
      "cell_type": "code",
      "execution_count": null,
      "outputs": [],
      "source": [
        "# Assigning a number to a variable\n",
        "x = 10\n",
        "\n",
        "# Assigning text to a variable\n",
        "name = \"Alice\""
      ]
    },
    {
      "cell_type": "markdown",
      "metadata": {},
      "source": [
        "## Using Variables\n",
        "\n",
        "Once a variable has a value, you can use it in expressions and print its value:"
      ]
    },
    {
      "cell_type": "code",
      "execution_count": null,
      "outputs": [],
      "source": [
        "# Printing variables\n",
        "print(x)\n",
        "print(name)"
      ]
    },
    {
      "cell_type": "markdown",
      "metadata": {},
      "source": [
        "## Variable Names\n",
        "\n",
        "Variable names should start with a letter or an underscore (_) and can contain numbers. They are case-sensitive."
      ]
    },
    {
      "cell_type": "markdown",
      "metadata": {},
      "source": [
        "## Summary\n",
        "\n",
        "- Variables store data.\n",
        "- Use `=` to assign values.\n",
        "- Variable names should be meaningful.\n",
        "- You can use variables anywhere in your code."
      ]
    }
  ],
  "metadata": {
    "kernelspec": {
      "display_name": "Python 3",
      "language": "python",
      "name": "python3"
    },
    "language_info": {
      "name": "python",
      "version": "3.x"
    }
  },
  "nbformat": 4,
  "nbformat_minor": 5
}