{
  "cells": [
    {
      "cell_type": "markdown",
      "metadata": {},
      "source": [
        "# Why Traditional Models Failed\n",
        "\n",
        "Understanding the limitations that sparked a revolution"
      ]
    },
    {
      "cell_type": "markdown",
      "metadata": {},
      "source": [
        "### The Problem with Sequential Processing\n",
        "\n",
        "**Analogy:** Imagine reading a book one word at a time, but you can only remember the previous few words clearly.\n",
        "\n",
        "- 🐌 **Sequential bottleneck:** Must process word by word\n",
        "- 🧠 **Memory fade:** Long-range dependencies get lost\n",
        "- ⚡ **No parallelization:** Can't process multiple words simultaneously"
      ]
    },
    {
      "cell_type": "markdown",
      "metadata": {},
      "source": [
        "### RNN Limitations in Detail\n",
        "\n",
        "---------------\n",
        "<div style=\"display: flex; justify-content: space-between;\">\n",
        "  <div style=\"width: 45%;\">\n",
        "    <h4>🔄 Vanishing Gradients</h4>\n",
        "    <p>Information from early words disappears during training</p>\n",
        "  </div>\n",
        "  <div style=\"width: 45%;\">\n",
        "    <h4>🐢 Sequential Processing</h4>\n",
        "    <p>Cannot leverage modern parallel computing effectively</p>\n",
        "  </div>\n",
        "</div>\n",
        "<p><strong>Result:</strong> Poor performance on long sequences and slow training</p>"
      ]
    },
    {
      "cell_type": "markdown",
      "metadata": {},
      "source": [
        "### Real-World Translation Problem\n",
        "\n",
        "**Example:** Translating \"The cat that chased the mouse yesterday is sleeping now\"\n",
        "\n",
        "- ❌ **RNN struggles:** By \"sleeping\", it forgets about \"cat\"\n",
        "- ❌ **Poor translation:** \"The mouse is sleeping now\"\n",
        "- ✅ **What we need:** Connect \"cat\" directly to \"sleeping\""
      ]
    },
    {
      "cell_type": "markdown",
      "metadata": {},
      "source": [
        "### Demo: RNN Memory Problem\n",
        "\n",
        "Let's see how RNN memory degrades with sequence length"
      ]
    },
    {
      "cell_type": "markdown",
      "metadata": {},
      "source": [
        "### RNN Memory Visualization"
      ]
    },
    {
      "cell_type": "code",
      "execution_count": null,
      "metadata": {},
      "outputs": [],
      "source": [
        "import numpy as np\n",
        "import matplotlib.pyplot as plt\n",
        "\n",
        "# Simulate RNN hidden state decay\n",
        "sequence_length = 20\n",
        "hidden_states = []\n",
        "\n",
        "# Initial information strength\n",
        "initial_info = 1.0\n",
        "decay_rate = 0.85  # Information loss per step\n",
        "\n",
        "for step in range(sequence_length):\n",
        "    info_strength = initial_info * (decay_rate ** step)\n",
        "    hidden_states.append(info_strength)\n",
        "    \n",
        "print(f\"Step 1 info: {hidden_states[0]:.3f}\")\n",
        "print(f\"Step 10 info: {hidden_states[9]:.3f}\")\n",
        "print(f\"Step 20 info: {hidden_states[19]:.3f}\")"
      ]
    },
    {
      "cell_type": "markdown",
      "metadata": {},
      "source": [
        "[🚀 Open Task in Colab](https://colab.research.google.com/github/Roopesht/codeexamples/blob/main/genai/nlp_basics/25/concept_1.ipynb)"
      ]
    },
    {
      "cell_type": "markdown",
      "metadata": {},
      "source": [
        "### Concept 1 Made Simple\n",
        "\n",
        "**Think of it like a telephone game:**"
      ]
    },
    {
      "cell_type": "markdown",
      "metadata": {},
      "source": [
        "- 🗣️ Person 1 whispers: \"The red car is fast\"\n",
        "- 👂 After 10 people: \"The bed star is past\"\n",
        "- 💡 **RNNs have the same problem** - information gets corrupted!"
      ]
    },
    {
      "cell_type": "markdown",
      "metadata": {},
      "source": [
        "### Concept 1 from a Different Angle\n",
        "\n",
        "[Whiteboard Animation Placeholder]\n",
        "\n",
        "**Visual:** Information highway with traffic jams vs. direct connections\n",
        "\n",
        "I hope this limitation is clear now! Traditional models create information bottlenecks."
      ]
    },
    {
      "cell_type": "markdown",
      "metadata": {},
      "source": [
        "### Traditional models struggle with long sequences because information gets lost over time.\n",
        "\n",
        "**Quick Check:** Can you think of a real-world scenario where remembering the beginning of a long text would be crucial for understanding?"
      ]
    }
  ],
  "metadata": {
    "kernelspec": {
      "display_name": "Python 3",
      "language": "python",
      "name": "python3"
    },
    "language_info": {
      "name": "python",
      "version": "3.8"
    }
  }
}
],
  "metadata": {},
  "nbformat": 4,
  "nbformat_minor": 5
}
