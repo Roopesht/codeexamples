{
  "cells": [
    {
      "cell_type": "markdown",
      "metadata": {},
      "source": [
        "# Understanding Basic Numbers in Python\n",
        "\n",
        "Welcome to this beginner-friendly notebook! Today, we'll learn about how numbers work in Python, including integers and floating-point numbers."
      ]
    },
    {
      "cell_type": "markdown",
      "metadata": {},
      "source": [
        "## What are Numbers in Python?\n",
        "\n",
        "In Python, numbers are data types used to represent numeric values. The most common types are:\n",
        "\n",
        "- **Integers**: Whole numbers without a fractional part.\n",
        "- **Floats**: Numbers that have a decimal point.\n",
        "\n",
        "Let's see how we can use them!"
      ]
    },
    {
      "cell_type": "code",
      "execution_count": null,
      "metadata": {},
      "outputs": [],
      "source": [
        "# Assigning integer values to variables\n",
        "a = 5\n",
        "b = 10\n",
        "\n",
        "# Printing the values\n",
        "print(\"a =\", a)\n",
        "print(\"b =\", b)\n"
      ]
    },
    {
      "cell_type": "markdown",
      "metadata": {},
      "source": [
        "## Working with Floats\n",
        "\n",
        "Float numbers are used when you need to represent numbers with a decimal point, like 3.14 or 0.001."
      ]
    },
    {
      "cell_type": "code",
      "execution_count": null,
      "metadata": {},
      "outputs": [],
      "source": [
        "# Assigning float values\n",
        "pi = 3.14159\n",
        "small_number = 0.001\n",
        "\n",
        "# Printing the float numbers\n",
        "print(\"pi =\", pi)\n",
        "print(\"small_number =\", small_number)\n"
      ]
    },
    {
      "cell_type": "markdown",
      "metadata": {},
      "source": [
        "## Performing Basic Arithmetic\n",
        "\n",
        "Let's see how to do simple calculations like addition, subtraction, multiplication, and division."
      ]
    },
    {
      "cell_type": "code",
      "execution_count": null,
      "metadata": {},
      "outputs": [],
      "source": [
        "# Addition\n",
        "sum = a + b\n",
        "print(\"Sum of a and b =\", sum)\n",
        "\n",
        "# Subtraction\n",
        "difference = b - a\n",
        "print(\"Difference of b and a =\", difference)\n",
        "\n",
        "# Multiplication\n",
        "product = a * b\n",
        "print(\"Product of a and b =\", product)\n",
        "\n",
        "# Division\n",
        "quotient = b / a\n",
        "print(\"Quotient of b divided by a =\", quotient)\n"
      ]
    },
    {
      "cell_type": "markdown",
      "metadata": {},
      "source": [
        "## Remember!\n",
        "\n",
        "- In Python 3, division always results in a float even if the division is exact.\n",
        "- You can also use other operators like `//` for floor division and `%` for modulus (remainder)."
      ]
    },
    {
      "cell_type": "code",
      "execution_count": null,
      "metadata": {},
      "outputs": [],
      "source": [
        "# Floor division\n",
        "floor_div = b // a\n",
        "print(\"Floor division of b by a =\", floor_div)\n",
        "\n",
        "# Modulus\n",
        "remainder = b % a\n",
        "print(\"Remainder of b divided by a =\", remainder)\n"
      ]
    },
    {
      "cell_type": "markdown",
      "metadata": {},
      "source": [
        "## Summary\n",
        "\n",
        "In this notebook, we've learned about numbers in Python:\n",
        "- How to assign integer and float values\n",
        "- How to perform basic arithmetic operations\n",
        "\n",
        "Now you can start experimenting more with numbers in Python!"
      ]
    }
  ],
  "metadata": {
    "kernelspec": {
      "display_name": "Python 3",
      "language": "python",
      "name": "python3"
    },
    "language_info": {
      "name": "python",
      "version": "3.x"
    }
  },
  "nbformat": 4,
  "nbformat_minor": 5
}