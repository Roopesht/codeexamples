{
  "cells": [
    {
      "cell_type": "markdown",
      "metadata": {},
      "source": [
        "# Introduction to NLP Libraries: NLTK & spaCy"
      ]
    },
    {
      "cell_type": "markdown",
      "metadata": {},
      "source": [
        "In this notebook, we will explore two popular Python libraries used in Natural Language Processing (NLP): NLTK and spaCy.\n",
        "Let's learn what they are and see some simple examples of how to use them for text tokenization."
      ]
    },
    {
      "cell_type": "markdown",
      "metadata": {},
      "source": [
        "## NLTK vs spaCy"
      ]
    },
    {
      "cell_type": "markdown",
      "metadata": {},
      "source": [
        "<div style=\"display: grid; grid-template-columns: 1fr 1fr; gap: 20px;\">\n",
        "  <div style=\"background: #e8f4fd; padding: 20px; border-radius: 10px;\">\n",
        "    <h4>📚 NLTK (Natural Language Toolkit)</h4>\n",
        "    <ul>\n",
        "      <li>Educational and research-focused</li>\n",
        "      <li>Lots of algorithms to choose from</li>\n",
        "      <li>Great for learning NLP concepts</li>\n",
        "      <li>Been around since 2001</li>\n",
        "    </ul>\n",
        "  </div>\n",
        "  <div style=\"background: #f0f8e8; padding: 20px; border-radius: 10px;\">\n",
        "    <h4>⚡ spaCy</h4>\n",
        "    <ul>\n",
        "      <li>Production-ready and fast</li>\n",
        "      <li>Modern and industrial-strength</li>\n",
        "      <li>Great for real applications</li>\n",
        "      <li>Easy to use out-of-the-box</li>\n",
        "    </ul>\n",
        "  </div>\n",
        "</div>"
      ]
    },
    {
      "cell_type": "markdown",
      "metadata": {},
      "source": [
        "## Installation & Setup"
      ]
    },
    {
      "cell_type": "code",
      "metadata": {},
      "source": [
        "# Install the libraries\n",
        "!pip install nltk spacy\n",
        "\n",
        "# Download NLTK data\n",
        "import nltk\n",
        "nltk.download('punkt')\n",
        "nltk.download('stopwords')\n",
        "\n",
        "# Download spaCy model\n",
        "!python -m spacy download en_core_web_sm"
      ],
      "execution_count": null,
      "outputs": []
    },
    {
      "cell_type": "markdown",
      "metadata": {},
      "source": [
        "## NLTK in Action"
      ]
    },
    {
      "cell_type": "code",
      "metadata": {},
      "source": [
        "import nltk\n",
        "from nltk.tokenize import word_tokenize, sent_tokenize\n",
        "\n",
        "text = \"Hello world! How are you today? I'm learning NLP.\"\n",
        "\n",
        "# Word tokenization\n",
        "words = word_tokenize(text)\n",
        "print(\"Words:\", words)\n",
        "\n",
        "# Sentence tokenization\n",
        "sentences = sent_tokenize(text)\n",
        "print(\"Sentences:\", sentences)"
      ],
      "execution_count": null,
      "outputs": []
    },
    {
      "cell_type": "markdown",
      "metadata": {},
      "source": [
        "## spaCy in Action"
      ]
    },
    {
      "cell_type": "code",
      "metadata": {},
      "source": [
        "import spacy\n",
        "\n",
        "# Load the English model\n",
        "nlp = spacy.load(\"en_core_web_sm\")\n",
        "\n",
        "text = \"Apple Inc. is looking at buying U.K. startup for $1 billion\"\n",
        "doc = nlp(text)\n",
        "\n",
        "# Tokenization with extra info\n",
        "for token in doc:\n",
        "    print(f\"{token.text} -> {token.lemma_} ({token.pos_})\")"
      ],
      "execution_count": null,
      "outputs": []
    },
    {
      "cell_type": "markdown",
      "metadata": {},
      "source": [
        "[Try Both Libraries in Colab](https://colab.research.google.com/github/Roopesht/codeexamples/blob/main/genai/python_easy/1/concept_4.ipynb)"
      ]
    },
    {
      "cell_type": "markdown",
      "metadata": {},
      "source": [
        "## NLTK & spaCy Made Simple"
      ]
    },
    {
      "cell_type": "markdown",
      "metadata": {},
      "source": [
        "**Think of them as different types of scissors:**"
      ]
    },
    {
      "cell_type": "markdown",
      "metadata": {},
      "source": [
        "<div style=\"font-size: 1.1em;\">\n",
        "  <p>✂️ <strong>NLTK:</strong> Swiss Army knife (many tools, learn how each works)</p>\n",
        "  <p>🔧 <strong>spaCy:</strong> Electric cutter (fast, professional, just works)</p>\n",
        "  <p>📝 <strong>Both:</strong> Cut text into perfect pieces</p>\n",
        "  <p>🎯 <strong>Result:</strong> Smart tokenization with context!</p>\n",
        "</div>"
      ]
    },
    {
      "cell_type": "markdown",
      "metadata": {},
      "source": [
        "## Libraries from a Different Angle"
      ]
    },
    {
      "cell_type": "markdown",
      "metadata": {},
      "source": [
        "Imagine NLTK and spaCy as different restaurants:"
      ]
    },
    {
      "cell_type": "markdown",
      "metadata": {},
      "source": [
        "<ul>\n",
        "  <li>🍳 <strong>NLTK Cafe:</strong> Teach you to cook, show all ingredients & techniques</li>\n",
        "  <li>🍽️ <strong>spaCy Restaurant:</strong> Serves perfect dishes fast, no fuss</li>\n",
        "  <li>👨‍🍳 <strong>Both:</strong> Serve delicious tokenized text</li>\n",
        "  <li>🎓 <strong>You choose:</strong> Based on your needs and goals!</li>\n",
        "</ul>\n",
        "<p><em>I hope this restaurant analogy makes library choice clear now!</em></p>"
      ]
    },
    {
      "cell_type": "markdown",
      "metadata": {},
      "source": [
        "## Quick Reflection"
      ]
    },
    {
      "cell_type": "markdown",
      "metadata": {},
      "source": [
        "Now you've seen both NLTK and spaCy in action...\n",
        "💭 For your first NLP project, would you prefer learning-focused NLTK or production-ready spaCy?"
      ]
    }
  ],
  "metadata": {
    "kernelspec": {
      "name": "python3",
      "display_name": "Python 3",
      "language": "python"
    },
    "language_info": {
      "name": "python",
      "version": "3.x"
    }
  },
  "nbformat": 4,
  "nbformat_minor": 5
}