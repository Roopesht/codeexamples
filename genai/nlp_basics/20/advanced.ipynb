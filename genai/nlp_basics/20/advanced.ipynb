{
  "cells": [
    {
      "cell_type": "markdown",
      "metadata": {},
      "source": [
        "# Advanced Text Processing Techniques in NLP"
      ]
    },
    {
      "cell_type": "markdown",
      "metadata": {},
      "source": [
        "In this notebook, we will explore advanced concepts in text processing, including sentence and word tokenization, as well as understanding stopwords. These techniques are important for performing more nuanced natural language processing tasks."
      ]
    },
    {
      "cell_type": "markdown",
      "metadata": {},
      "source": [
        "## Sentence vs Word Tokenization"
      ]
    },
    {
      "cell_type": "markdown",
      "metadata": {},
      "source": [
        "Let's understand the difference between sentence tokenization and word tokenization:"
      ]
    },
    {
      "cell_type": "markdown",
      "metadata": {},
      "source": [
        "<div style='display: grid; grid-template-columns: 1fr 1fr; gap: 20px;'>",
        "<div style='background: #f0f8ff; padding: 20px; border-radius: 10px;'>",
        "### 📝 Sentence Tokenization",
        "- Splits text into sentences",
        "- Handles abbreviations (Dr., U.S.A.)",
        "- Useful for document analysis",
        "- Preserves sentence structure",
        "</div>",
        "<div style='background: #fff8f0; padding: 20px; border-radius: 10px;'>",
        "### 🔤 Word Tokenization",
        "- Splits text into individual words",
        "- Handles contractions (don't → do, n't)",
        "- Foundation for most NLP tasks",
        "- Creates vocabulary",
        "</div>",
        "</div>"
      ]
    },
    {
      "cell_type": "markdown",
      "metadata": {},
      "source": [
        "## Understanding Stopwords"
      ]
    },
    {
      "cell_type": "markdown",
      "metadata": {},
      "source": [
        "**Stopwords are common words that don't add much meaning:**"
      ]
    },
    {
      "cell_type": "markdown",
      "metadata": {},
      "source": [
        "**Examples:** the, is, at, which, on, a, an, and, or, but..."
      ]
    },
    {
      "cell_type": "markdown",
      "metadata": {},
      "source": [
        "**Why remove them?**"
      ]
    },
    {
      "cell_type": "markdown",
      "metadata": {},
      "source": [
        "- Focus on meaningful words",
        "- Reduce noise in analysis",
        "- Improve processing speed",
        "- Better keyword extraction"
      ]
    },
    {
      "cell_type": "markdown",
      "metadata": {},
      "source": [
        "## Advanced Processing Demo"
      ]
    },
    {
      "cell_type": "code",
      "metadata": {},
      "source": [
        "import nltk",
        "nltk.download('punkt')",
        "nltk.download('stopwords')",
        "from nltk.corpus import stopwords",
        "from nltk.tokenize import word_tokenize, sent_tokenize",
        "",
        "text = \"Natural language processing is amazing! It helps computers understand human language.\"",
        "",
        "# Sentence tokenization",
        "sentences = sent_tokenize(text)",
        "print(f\"Sentences: {len(sentences)}\")",
        "",
        "# Word tokenization with stopword removal",
        "words = word_tokenize(text.lower())",
        "stop_words = set(stopwords.words('english'))",
        "filtered_words = [w for w in words if w not in stop_words and w.isalpha()]",
        "",
        "print(f\"Original words: {len(words)}\")",
        "print(f\"After filtering: {len(filtered_words)}\")",
        "print(f\"Filtered: {filtered_words}\")"
      ],
      "execution_count": null,
      "outputs": []
    },
    {
      "cell_type": "markdown",
      "metadata": {},
      "source": [
        "### Explore Advanced Concepts"
      ]
    },
    {
      "cell_type": "markdown",
      "metadata": {},
      "source": [
        "[🚀 Explore Advanced Concepts in Colab](https://colab.research.google.com/github/Roopesht/codeexamples/blob/main/genai/python_easy/1/advanced.ipynb)"
      ]
    },
    {
      "cell_type": "markdown",
      "metadata": {},
      "source": [
        "## Advanced Reflection"
      ]
    },
    {
      "cell_type": "markdown",
      "metadata": {},
      "source": [
        "**Advanced tokenization gives us more control over text processing...**"
      ]
    },
    {
      "cell_type": "markdown",
      "metadata": {},
      "source": [
        "💭 **When might you want to keep stopwords vs remove them? Think of different use cases!**"
      ]
    }
  ],
  "metadata": {
    "kernelspec": {
      "display_name": "Python 3",
      "language": "python",
      "name": "python3"
    },
    "language_info": {
      "name": "python",
      "version": "3.x"
    }
  },
  "nbformat": 4,
  "nbformat_minor": 5
}