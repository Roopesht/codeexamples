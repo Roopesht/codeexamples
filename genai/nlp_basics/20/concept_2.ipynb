{
  "cells": [
    {
      "cell_type": "markdown",
      "metadata": {},
      "source": [
        "# Concept 2: Text as Data\n",
        "\n",
        "![Text documents being converted into structured data tables](images/text_to_data_transformation.png)\n",
        "\n",
        "## How do we transform human sentences into computer-friendly data?"
      ]
    },
    {
      "cell_type": "markdown",
      "metadata": {},
      "source": [
        "### From Sentences to Strings\n",
        "\n",
        "**Computers don't read like humans - they process characters and patterns**"
      ]
    },
    {
      "cell_type": "markdown",
      "metadata": {},
      "source": [
        "- 📄 Text = Sequence of characters\n",
        "- 🔢 Each character has a numeric code (ASCII/Unicode)\n",
        "- 💾 Stored as strings in memory\n",
        "- 🔍 Can be searched, split, and analyzed"
      ]
    },
    {
      "cell_type": "markdown",
      "metadata": {},
      "source": [
        "### Real-World Example"
      ]
    },
    {
      "cell_type": "markdown",
      "metadata": {},
      "source": [
        "> **Human sees:** \"Hello World!\"\n",
        "> **Computer sees:**\n",
        "> - H → 72, e → 101, l → 108, l → 108, o → 111\n",
        "> - Space → 32, W → 87, o → 111, r → 114..."
      ]
    },
    {
      "cell_type": "markdown",
      "metadata": {},
      "source": [
        "But we work with strings, not numbers directly!"
      ]
    },
    {
      "cell_type": "markdown",
      "metadata": {},
      "source": [
        "### Python Text Processing Demo"
      ]
    },
    {
      "cell_type": "code",
      "execution_count": null,
      "metadata": {},
      "outputs": [],
      "source": [
        "# Working with text as data\n",
        "text = \"Natural Language Processing is amazing!\"\n",
        "\n",
        "# Basic operations\n",
        "print(f\"Length: {len(text)}\")           # 39 characters\n",
        "print(f\"Words: {len(text.split())}\")    # 5 words\n",
        "print(f\"Upper: {text.upper()}\")         # NATURAL LANGUAGE PROCESSING IS AMAZING!\n",
        "print(f\"Contains 'Language': {'Language' in text}\")  # True"
      ]
    },
    {
      "cell_type": "markdown",
      "metadata": {},
      "source": [
        "[🚀 Try in Colab](https://colab.research.google.com/github/Roopesht/codeexamples/blob/main/genai/python_easy/1/concept_2.ipynb)"
      ]
    },
    {
      "cell_type": "markdown",
      "metadata": {},
      "source": [
        "### Text as Data Made Simple"
      ]
    },
    {
      "cell_type": "markdown",
      "metadata": {},
      "source": [
        "**Think of text like LEGO blocks:**"
      ]
    },
    {
      "cell_type": "markdown",
      "metadata": {},
      "source": [
        "🧱 Each character is a block\n",
        "🏗️ Words are groups of blocks\n",
        "🏠 Sentences are structures made of word-groups\n",
        "🏙️ Documents are cities of sentences"
      ]
    },
    {
      "cell_type": "markdown",
      "metadata": {},
      "source": [
        "We can take apart any text structure and rebuild it!"
      ]
    },
    {
      "cell_type": "markdown",
      "metadata": {},
      "source": [
        "### Text Data from a Different Angle"
      ]
    },
    {
      "cell_type": "markdown",
      "metadata": {},
      "source": [
        "**Text is like a treasure chest:**"
      ]
    },
    {
      "cell_type": "markdown",
      "metadata": {},
      "source": [
        "- 🗝️ **Keys:** Words and phrases\n",
        "- 💎 **Treasures:** Hidden insights and meanings\n",
        "- 🗺️ **Map:** Algorithms to find the treasures\n",
        "- ⛏️ **Tools:** Python libraries like NLTK"
      ]
    },
    {
      "cell_type": "markdown",
      "metadata": {},
      "source": [
        "I hope this treasure hunt analogy makes text processing clear now!"
      ]
    },
    {
      "cell_type": "markdown",
      "metadata": {},
      "source": [
        "### Quick Reflection"
      ]
    },
    {
      "cell_type": "markdown",
      "metadata": {},
      "source": [
        "**Understanding text as data is fundamental...**"
      ]
    },
    {
      "cell_type": "markdown",
      "metadata": {},
      "source": [
        "💭 What kind of text data would you like to analyze - social media posts, emails, or something else?"
      ]
    }
  ],
  "metadata": {
    "kernelspec": {
      "display_name": "Python 3",
      "language": "python",
      "name": "python3"
    },
    "language_info": {
      "name": "python",
      "version": "3.x"
    }
  },
  "nbformat": 4,
  "nbformat_minor": 5
}