{
  "cells": [
    {
      "cell_type": "markdown",
      "metadata": {},
      "source": [
        "# Prompt Engineering Basics\n",
        "\n",
        "Welcome to this beginner-friendly introduction to Prompt Engineering! \n",
        "In this notebook, we'll explore the fundamentals of crafting effective prompts for AI models, with explanations and examples."
      ]
    },
    {
      "cell_type": "markdown",
      "metadata": {},
      "source": [
        "## 🎨 The Art of Prompt Engineering\n",
        "\n",
        "Prompt engineering is the skill of designing inputs to get better outputs from AI models.\n",
        "It's like learning to speak AI's language fluently! \n",
        "Mastering this can significantly improve how effectively AI responds to your questions or requests."
      ]
    },
    {
      "cell_type": "markdown",
      "metadata": {},
      "source": [
        "## What is Prompt Engineering?\n",
        "\n",
        "- **Core idea:** Crafting inputs to get better AI outputs\n",
        "- **Key principle:** Clear instructions = better results\n",
        "- **Skills involved:** Psychology, linguistics, domain expertise\n",
        "- **Impact:** Can improve results by 300-500%\n",
        "\n",
        "_It's like learning to speak AI's language fluently!_"
      ]
    },
    {
      "cell_type": "markdown",
      "metadata": {},
      "source": [
        "## 🛠️ Core Techniques\n",
        "\n",
        "- **Be Specific:** \"Write a professional email\" → \"Write a 150-word professional email to reschedule a client meeting\"\n",
        "- **Provide Context:** Include background information\n",
        "- **Use Examples:** Show the format you want\n",
        "- **Chain of Thought:** Ask AI to think step-by-step\n",
        "- **Role Playing:** \"Act as a [expert/character]\"\n",
        "\n",
        "_Each technique serves a specific purpose!_"
      ]
    },
    {
      "cell_type": "markdown",
      "metadata": {},
      "source": [
        "## Bad vs Good Prompts\n",
        "\n",
        "<div style=\"display: flex; justify-content: space-between;\">",
        "<div style=\"width: 45%; background: #ffebee; padding: 15px; border-radius: 8px;\">",
        "  <h4>❌ Bad Prompt</h4>",
        "  <p><em>\"Write about AI\"</em></p>",
        "  <p><small>Too vague, no direction</small></p>",
        "</div>",
        "<div style=\"width: 45%; background: #e8f5e8; padding: 15px; border-radius: 8px;\">",
        "  <h4>✅ Good Prompt</h4>",
        "  <p><em>\"Write a 300-word article explaining how AI is transforming healthcare, focusing on diagnosis and drug discovery. Include 2 specific examples and write for a general audience.\"</em></p>",
        "  <p><small>Specific, contextual, actionable</small></p>",
        "</div>",
        "</div>"
      ]
    },
    {
      "cell_type": "markdown",
      "metadata": {},
      "source": [
        "## Live Prompt Engineering Demo\n",
        "\n",
        "🎯 **Let's optimize prompts together:**\n",
        "\n",
        "We'll take a basic prompt and iteratively improve it.\n",
        "Watch the quality improvement in real-time!"
      ]
    },
    {
      "cell_type": "code",
      "execution_count": null,
      "metadata": {},
      "outputs": [],
      "source": [
        "# Prompt engineering examples\n",
        "class PromptEngineer:\n",
        "    \n",
        "    def basic_prompt(self, topic):\n",
        "        \"\"\"Basic, often ineffective prompt\"\"\"\n",
        "        return f\"Write about {topic}\"\n",
        "    \n",
        "    def engineered_prompt(self, topic, audience, length, format):\n",
        "        \"\"\"Well-engineered prompt with context\"\"\"\n",
        "        prompt = f\"\"\"\n",
        "        Act as an expert technical writer.\n",
        "        \n",
        "        Topic: {topic}\n",
        "        Audience: {audience}\n",
        "        Length: {length} words\n",
        "        Format: {format}\n",
        "        \n",
        "        Requirements:\n",
        "        1. Start with a compelling hook\n",
        "        2. Include 2-3 specific examples\n",
        "        3. Use clear, engaging language\n",
        "        4. End with actionable insights\n",
        "        \n",
        "        Please write the content following these guidelines.\n",
        "        \"\"\"\n",
        "        return prompt\n",
        "    \n",
        "    def chain_of_thought_prompt(self, problem):\n",
        "        \"\"\"Encourage step-by-step reasoning\"\"\"\n",
        "        return f\"\"\"\n",
        "        Let's solve this step by step:\n",
        "        \n",
        "        Problem: {problem}\n",
        "        \n",
        "        Please:\n",
        "        1. First, identify the key components\n",
        "        2. Then, analyze each component\n",
        "        3. Consider potential solutions\n",
        "        4. Finally, provide your recommended approach\n",
        "        \n",
        "        Walk me through your reasoning.\n",
        "        \"\"\"\n",
        "\n",
        "# Example usage\n",
        "pe = PromptEngineer()\n",
        "\n",
        "# Compare outputs\n",
        "basic = pe.basic_prompt(\"machine learning\")\n",
        "engineered = pe.engineered_prompt(\n",
        "    topic=\"machine learning\",\n",
        "    audience=\"business executives\",\n",
        "    length=400,\n",
        "    format=\"blog post\"\n",
        ")\n",
        "\n",
        "print(\"Basic prompt:\", basic)\n",
        "print(\"\\nEngineered prompt:\", engineered)"
      ]
    },
    {
      "cell_type": "markdown",
      "metadata": {},
      "source": [
        "## Prompt Engineering Made Simple\n",
        "\n",
        "💡 **Think of it like giving directions:**\n",
        "\n",
        "- **Bad:** \"Go to the store\"\n",
        "- **Good:** \"Drive to the grocery store on Main St, buy organic apples and whole wheat bread, return by 6 PM\"\n",
        "\n",
        "_Specific, clear instructions get specific, clear results!_"
      ]
    },
    {
      "cell_type": "markdown",
      "metadata": {},
      "source": [
        "## Prompt Optimization Process\n",
        "\n",
        "![Prompt Optimization Illustration](prompt-optimization.svg)\n",
        "\n",
        "_See how prompt refinement improves AI responses!_"
      ]
    },
    {
      "cell_type": "markdown",
      "metadata": {},
      "source": [
        "## Prompt Engineering from a Different Angle\n",
        "\n",
        "🎨 **Communication Psychology!**\n",
        "\n",
        "Let's explore the psychology behind effective AI communication:\n",
        "\n",
        "- How do we communicate intent clearly?\n",
        "- What makes instructions actionable?\n",
        "- How does context shape understanding?\n",
        "\n",
        "**You now have the superpower of AI communication! 🗣️✨**"
      ]
    },
    {
      "cell_type": "markdown",
      "metadata": {},
      "source": [
        "## Quick Check: Prompt Engineering\n",
        "\n",
        "**Good prompts are specific, provide context, include examples, and give clear instructions about the desired output.**\n",
        "\n",
        "🤔 **Question:** How would you improve this prompt: \"Help me with Python\"? What specific information would you add?"
      ]
    }
  ],
  "metadata": {
    "kernelspec": {
      "display_name": "Python 3",
      "language": "python",
      "name": "python3"
    },
    "language_info": {
      "name": "python",
      "version": "3.x"
    }
  },
  "nbformat": 4,
  "nbformat_minor": 5
}