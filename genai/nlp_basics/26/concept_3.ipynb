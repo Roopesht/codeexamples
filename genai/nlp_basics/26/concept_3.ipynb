{
  "cells": [
    {
      "cell_type": "markdown",
      "metadata": {},
      "source": [
        "# Generative AI in the Real World\n",
        "\n",
        "Welcome! In this notebook, we will explore how Generative AI (GenAI) is used across different industries and see some practical examples."
      ]
    },
    {
      "cell_type": "markdown",
      "metadata": {},
      "source": [
        "## Concept 3: Generative AI in the Real World\n",
        "\n",
        "Let's look at how GenAI is transforming various sectors:"
      ]
    },
    {
      "cell_type": "markdown",
      "metadata": {},
      "source": [
        "### GenAI is Everywhere!\n",
        "\n",
        "GenAI is present in many aspects of our daily lives, from emails to entertainment. Here's a visual reminder:"
      ]
    },
    {
      "cell_type": "markdown",
      "metadata": {},
      "source": [
        "![Collage showing AI being used in healthcare, education, business, and entertainment. size 800x500](images/genai_everywhere.png)"
      ]
    },
    {
      "cell_type": "markdown",
      "metadata": {},
      "source": [
        "### Business Applications\n",
        "\n",
        "AI helps businesses in many ways:"
      ]
    },
    {
      "cell_type": "markdown",
      "metadata": {},
      "source": [
        "- **Customer Service:** AI chatbots handle 80% of customer queries.\n",
        "- **Content Creation:** Generating marketing copy and social media posts.\n",
        "- **Data Analysis:** Automating reports and insights.\n",
        "- **Code Development:** Tools like GitHub Copilot assist programmers.\n",
        "\n",
        "*Many companies see a 30-50% increase in productivity with AI!*"
      ]
    },
    {
      "cell_type": "markdown",
      "metadata": {},
      "source": [
        "### Creative Industries\n",
        "\n",
        "AI also supports creative work:"
      ]
    },
    {
      "cell_type": "markdown",
      "metadata": {},
      "source": [
        "- **Writing:** Books, articles, scripts.\n",
        "- **Design:** Logos, artwork, UI mockups.\n",
        "- **Music:** Composition and sound design.\n",
        "- **Gaming:** Procedural content generation.\n",
        "\n",
        "*Artists collaborate with AI, creating new possibilities!*"
      ]
    },
    {
      "cell_type": "markdown",
      "metadata": {},
      "source": [
        "### Healthcare & Science\n",
        "\n",
        "GenAI contributes to vital fields like medicine:"
      ]
    },
    {
      "cell_type": "markdown",
      "metadata": {},
      "source": [
        "- **Drug Discovery:** Finding promising compounds.\n",
        "- **Diagnosis:** Recognizing patterns in medical images.\n",
        "- **Research:** Summarizing scientific papers.\n",
        "- **Patient Care:** Customizing treatments.\n",
        "\n",
        "*Saving lives with intelligent tools!*"
      ]
    },
    {
      "cell_type": "markdown",
      "metadata": {},
      "source": [
        "### Education Revolution\n",
        "\n",
        "AI is making learning more effective and accessible:"
      ]
    },
    {
      "cell_type": "markdown",
      "metadata": {},
      "source": [
        "- **Personalized Learning:** Tailored content for students.\n",
        "- **Language Learning:** Practice conversations with AI tutors.\n",
        "- **Research Assistance:** Summarizing complex papers.\n",
        "- **Accessibility:** Adapting content for diverse needs.\n",
        "\n",
        "*Making quality education accessible to everyone!*"
      ]
    },
    {
      "cell_type": "markdown",
      "metadata": {},
      "source": [
        "### Real-World GenAI Demo\n",
        "\n",
        "Let's see some live examples of how GenAI is used in different industries:"
      ]
    },
    {
      "cell_type": "markdown",
      "metadata": {},
      "source": [
        "## Industry Use Cases in Code\n",
        "\n",
        "Here's an example of GenAI applications in programming:"
      ]
    },
    {
      "cell_type": "code",
      "execution_count": null,
      "metadata": {},
      "outputs": [],
      "source": [
        "# Real-world GenAI applications\n",
        "class GenAIApplications:\n",
        "    \n",
        "    def customer_service_bot(self, user_query):\n",
        "        \"\"\"E-commerce customer service automation\"\"\"\n",
        "        prompt = f\"\"\"\n",
        "        You are a helpful customer service agent.\n",
        "        Customer query: {user_query}\n",
        "        Provide a helpful, professional response.\n",
        "        \"\"\"\n",
        "        return self.llm.generate(prompt)\n",
        "    \n",
        "    def content_marketing(self, product_info):\n",
        "        \"\"\"Generate marketing content\"\"\"\n",
        "        prompt = f\"\"\"\n",
        "        Create engaging social media post for: {product_info}\n",
        "        Include hashtags and call-to-action.\n",
        "        Tone: Professional yet friendly\n",
        "        \"\"\"\n",
        "        return self.llm.generate(prompt)\n",
        "    \n",
        "    def code_assistant(self, requirement):\n",
        "        \"\"\"Development assistance\"\"\"\n",
        "        prompt = f\"\"\"\\\n",
        "        Write Python code for: {requirement}\n",
        "        Include comments and error handling.\n",
        "        Follow best practices.\n",
        "        \"\"\"\n",
        "        return self.llm.generate(prompt)\n",
        "\n",
        "# Example usage\n",
        "ai_app = GenAIApplications()\n",
        "response = ai_app.customer_service_bot(\"How do I return an item?\")\n",
        "print(response)"
      ]
    },
    {
      "cell_type": "markdown",
      "metadata": {},
      "source": [
        "🔗 [Try Industry Examples in Colab](https://colab.research.google.com/github/Roopesht/codeexamples/blob/main/genai/python_easy/7/industry_applications.ipynb)"
      ]
    },
    {
      "cell_type": "markdown",
      "metadata": {},
      "source": [
        "### Simplified View of GenAI Impact\n",
        "\n",
        "GenAI is changing the world through three main ways:"
      ]
    },
    {
      "cell_type": "markdown",
      "metadata": {},
      "source": [
        "1. **Automation:** Tasks are done instantly and with less effort.\n",
        "2. **Augmentation:** It enhances what humans can do.\n",
        "3. **Innovation:** It opens new doors for possibilities.\n",
        "\n",
        "*We're not just using tools; we're gaining superpowers!*"
      ]
    },
    {
      "cell_type": "markdown",
      "metadata": {},
      "source": [
        "## GenAI Transformation Wave\n",
        "\n",
        "Visualize how GenAI is shaping industries in real-time:"
      ]
    },
    {
      "cell_type": "markdown",
      "metadata": {},
      "source": [
        "<svg id=\"genai-impact-svg\" width=\"800\" height=\"400\" class=\"svg\"></svg>\n",
        "<p><em>See how GenAI is reshaping industries in real-time!</em></p>"
      ]
    },
    {
      "cell_type": "markdown",
      "metadata": {},
      "source": [
        "### Future Vision: Impact from a Different Angle\n",
        "\n",
        "Imagine what the future holds:"
      ]
    },
    {
      "cell_type": "markdown",
      "metadata": {},
      "source": [
        "- What new jobs could emerge?\n",
        "- How will creativity evolve?\n",
        "- What new problems can we solve?\n",
        "\n",
        "**The future is bright and full of possibilities! ✨**"
      ]
    },
    {
      "cell_type": "markdown",
      "metadata": {},
      "source": [
        "## Quick Check: Real-World Applications\n",
        "\n",
        "GenAI is transforming industries by automating tasks, augmenting human capabilities, and enabling new innovations.\n",
        "\n",
        "🤔 **Question:** Name one way GenAI could improve your current work or studies. How would you implement it?"
      ]
    }
  ],
  "metadata": {
    "kernelspec": {
      "display_name": "Python 3",
      "language": "python",
      "name": "python3"
    },
    "language_info": {
      "name": "python",
      "version": "3.8"
    }
  },
  "nbformat": 4,
  "nbformat_minor": 5
}