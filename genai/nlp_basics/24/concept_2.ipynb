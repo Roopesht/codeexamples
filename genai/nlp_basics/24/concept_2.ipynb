{
  "cells": [
    {
      "cell_type": "markdown",
      "metadata": {},
      "source": [
        "# Understanding Sentence Probability"
      ]
    },
    {
      "cell_type": "markdown",
      "metadata": {},
      "source": [
        "## What is Sentence Probability?\n",
        "\n",
        "Ever wondered how likely a sentence is to occur? \n",
        "In language models, we assign a **probability score** to sentences to measure how natural or common they are.\n",
        "\n",
        "### Key Ideas:\n",
        "- The probability of a sentence is represented as P(sentence).\n",
        "- We use the **chain rule** to compute it:\n",
        "  \n",
        "  P(w1, w2, w3, ...) = P(w1) × P(w2|w1) × P(w3|w1,w2) ...\n",
        "- Higher probability indicates a more natural or common sentence.\n",
        "- Lower probability suggests the sentence is unusual or unlikely."
      ]
    },
    {
      "cell_type": "markdown",
      "metadata": {},
      "source": [
        "## Real-World Analogy\n",
        "\n",
        "Think of sentence probability like following a recipe:\n",
        "- A **common recipe** like \"Add salt and pepper\" has **HIGH probability**.\n",
        "- An **odd recipe** like \"Add salt and toothpaste\" has **LOW probability**.\n",
        "\n",
        "The more experience you have (more cookbooks you read), the better you can judge this.\n",
        "Language models do the same, but with precise math!"
      ]
    },
    {
      "cell_type": "markdown",
      "metadata": {},
      "source": [
        "## Examples of Sentence Probability\n",
        "\n",
        "- **High Probability:** \"I love pizza\" (sounds natural)\n",
        "- **Medium Probability:** \"Pizza loves I\" (grammatically incorrect)\n",
        "- **Low Probability:** \"Elephant purple flying Wednesday\" (nonsense)\n",
        "\n",
        "The role of language models is to assign accurate probability scores to sentences.\n",
        "\n",
        "_Better models = more accurate probability estimates!_"
      ]
    },
    {
      "cell_type": "markdown",
      "metadata": {},
      "source": [
        "## Demonstration: Computing Sentence Probability\n",
        "\n",
        "Let's walk through an example to see how sentence probabilities are calculated!\n",
        "\n",
        "### Example: Probability of \"I love cats\""
      ]
    },
    {
      "cell_type": "code",
      "execution_count": null,
      "metadata": {},
      "outputs": [],
      "source": [
        "# Calculating: P(\"I love cats\")\n",
        "import math\n",
        "\n",
        "# Word probabilities from training data\n",
        "word_probs = {\n",
        "    \"I\": 0.1,           # P(I)\n",
        "    \"love|I\": 0.3,      # P(love | I)\n",
        "    \"cats|love\": 0.15   # P(cats | love)\n",
        "}\n",
        "\n",
        "# Sentence probability = product of conditional probabilities\n",
        "sentence_prob = word_probs[\"I\"] * word_probs[\"love|I\"] * word_probs[\"cats|love\"]\n",
        "print(f\"P('I love cats') = {sentence_prob:.4f}\")\n",
        "print(f\"Log probability = {math.log(sentence_prob):.2f}\")"
      ]
    },
    {
      "cell_type": "markdown",
      "metadata": {},
      "source": [
        "**Output:**\n",
        "P('I love cats') = 0.0045\n",
        "Log probability = -5.41"
      ]
    },
    {
      "cell_type": "markdown",
      "metadata": {},
      "source": [
        "## Simplifying Sentence Probability\n",
        "\n",
        "Think of sentence probability as a multiplication chain:\n",
        "- Each word's probability depends on the previous words.\n",
        "- Multiply these individual probabilities together.\n",
        "- The final result indicates how likely the entire sentence is.\n",
        "- A higher score means a more natural sentence."
      ]
    },
    {
      "cell_type": "markdown",
      "metadata": {},
      "source": [
        "## Visualizing Probability as a Chain\n",
        "\n",
        "Let's imagine the sentence as a chain of probabilities:\n",
        "- e.g., \"The cat sat\"\n",
        "\n",
        "We can visually trace the probability flow step-by-step."
      ]
    },
    {
      "cell_type": "markdown",
      "metadata": {},
      "source": [
        "## Why Sentence Probability Matters\n",
        "\n",
        "Practical applications include:\n",
        "- **Text quality:** Distinguishing human-written from AI-generated text\n",
        "- **Autocorrect:** Fixing misspelled or incorrect words\n",
        "- **Speech recognition:** Choosing the most probable words\n",
        "- **Text generation:** Creating more natural and coherent sentences\n",
        "\n",
        "_Understanding sentence probability helps improve many language-based technologies._"
      ]
    },
    {
      "cell_type": "markdown",
      "metadata": {},
      "source": [
        "## A Thought to Consider...\n",
        "\n",
        "Multiplying many tiny probabilities results in very small numbers.\n",
        "Why might this be a problem for computers?\n",
        "And how could we address this issue?"
      ]
    }
  ],
  "metadata": {
    "kernelspec": {
      "display_name": "Python 3",
      "language": "python",
      "name": "python3"
    },
    "language_info": {
      "name": "python",
      "version": "3.x"
    }
  },
  "nbformat": 4,
  "nbformat_minor": 5
}