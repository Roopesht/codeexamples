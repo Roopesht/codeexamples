{
  "cells": [
    {
      "cell_type": "markdown",
      "metadata": {},
      "source": [
        "# Using spaCy for Entity Extraction\n",
        "\n",
        "In this notebook, we'll explore how to use the popular natural language processing library, spaCy, to find and extract entities from text.\n",
        "\n",
        "spaCy is a powerful tool that helps computers understand human language by identifying important pieces of information, called entities."
      ]
    },
    {
      "cell_type": "markdown",
      "metadata": {},
      "source": [
        "## Meet spaCy: Your NER Powerhouse\n",
        "\n",
        "Imagine having a Swiss Army knife for natural language processing. spaCy is like that — it offers many tools to analyze text.\n",
        "\n",
        "![spaCy Toolbox](images/spacy_toolkit.png)\n",
        "\n",
        "*spaCy is like having a trained linguist who never gets tired!*"
      ]
    },
    {
      "cell_type": "markdown",
      "metadata": {},
      "source": [
        "## Why spaCy Rocks for NER (Named Entity Recognition)\n",
        "\n",
        "- ⚡ **Lightning Fast:** Industrial-strength performance\n",
        "- 🎯 **Pre-trained Models:** Works out of the box\n",
        "- 🌍 **Multi-language:** Supports multiple languages like English, German, French\n",
        "- 🔧 **Customizable:** Train your own entity types\n",
        "\n",
        "**Analogy:** Like having a trained linguist who never gets tired!"
      ]
    },
    {
      "cell_type": "markdown",
      "metadata": {},
      "source": [
        "## spaCy in the Wild\n",
        "\n",
        "Use Case: Analyzing customer support tickets\n",
        "\n",
        "Input: \"Hi, I'm John from Tesla and our order #12345 to our Austin facility is delayed.\"\n",
        "\n",
        "spaCy extracts:\n",
        "\n",
        "- 👤 Customer: John\n",
        "- 🏢 Company: Tesla\n",
        "- 🌍 Location: Austin\n",
        "- 🔢 Order: #12345"
      ]
    },
    {
      "cell_type": "markdown",
      "metadata": {},
      "source": [
        "## Time for Hands-On spaCy!\n",
        "\n",
        "Let's install spaCy and see how easy it is to extract entities from real text.\n",
        "\n",
        "*Get ready to be amazed! 🚀*"
      ]
    },
    {
      "cell_type": "code",
      "execution_count": null,
      "metadata": {},
      "outputs": [],
      "source": [
        "# First, install spaCy and download the model\n",
        "# Uncomment the following lines to run them in your environment\n",
        "# !pip install spacy\n",
        "# !python -m spacy download en_core_web_sm"
      ]
    },
    {
      "cell_type": "code",
      "execution_count": null,
      "metadata": {},
      "outputs": [],
      "source": [
        "import spacy\n",
        "\n",
        "# Load the model (like loading a trained brain)\n",
        "nlp = spacy.load(\"en_core_web_sm\")\n",
        "\n",
        "# Your text to analyze\n",
        "text = \"Barack Obama was born in Hawaii and served as President\"\n",
        "\n",
        "# Process the text (the magic happens here!)\n",
        "doc = nlp(text)\n",
        "\n",
        "# Extract all entities with details\n",
        "for ent in doc.ents:\n",
        "    print(f\"Entity: {ent.text}\")\n",
        "    print(f\"Type: {ent.label_}\")\n",
        "    print(f\"Description: {spacy.explain(ent.label_)}\")\n",
        "    print(\"-\")"
      ]
    },
    {
      "cell_type": "markdown",
      "metadata": {},
      "source": [
        "## spaCy Made Simple\n",
        "\n",
        "Think of spaCy as a factory assembly line:\n",
        "\n",
        "1. 🏭 Input: Raw text goes in\n",
        "2. ⚙️ Processing: spaCy analyzes each word\n",
        "3. 🏷️ Tagging: Entities get labeled\n",
        "4. 📊 Output: Structured data comes out\n",
        "\n",
        "**Text → spaCy → Structured Entities**"
      ]
    },
    {
      "cell_type": "markdown",
      "metadata": {},
      "source": [
        "## spaCy from a Different Angle\n",
        "\n",
        "**spaCy is like Google for your text:**\n",
        "\n",
        "- 🔍 Instantly finds what you're looking for\n",
        "- 🤖 Learns from millions of examples\n",
        "- ⚡ Gives you results in milliseconds\n",
        "\n",
        "But instead of web pages, it finds entities in text!\n",
        "\n",
        "*I hope this is clear now! ✨*"
      ]
    },
    {
      "cell_type": "markdown",
      "metadata": {},
      "source": [
        "## Quick Reflection\n",
        "\n",
        "spaCy transforms any text into a goldmine of structured information in just 3 lines of code.\n",
        "\n",
        "**Question:** If you could extract entities from your email inbox, what types of information would be most valuable to organize automatically?"
      ]
    }
  ],
  "metadata": {
    "kernelspec": {
      "display_name": "Python 3",
      "language": "python",
      "name": "python3"
    },
    "language_info": {
      "name": "python",
      "version": "3.x"
    }
  },
  "nbformat": 4,
  "nbformat_minor": 2
}