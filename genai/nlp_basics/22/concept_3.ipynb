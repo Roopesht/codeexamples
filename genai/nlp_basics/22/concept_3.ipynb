{
  "cells": [
    {
      "cell_type": "markdown",
      "metadata": {},
      "source": [
        "# Visualizing Entities with displacy\n",
        "\n",
        "In this notebook, we will learn how to use spaCy's displacy to visualize named entities in text. This makes understanding the results of entity recognition much easier and more engaging!"
      ]
    },
    {
      "cell_type": "markdown",
      "metadata": {},
      "source": [
        "## Meet displacy: Making NER Beautiful\n",
        "\n",
        "displacy is a visualization tool that turns plain text, especially the results of named entity recognition (NER), into beautiful, interactive visualizations. It highlights entities like persons, organizations, locations, and more, with colors and arrows, making it easier to interpret the data."
      ]
    },
    {
      "cell_type": "markdown",
      "metadata": {},
      "source": [
        "## Why Visualization Matters\n",
        "\n",
        "- 👁️ **Instant Understanding:** See patterns at a glance.\n",
        "- 🎨 **Professional Reports:** Impress clients and stakeholders.\n",
        "- 🐛 **Debugging Made Easy:** Spot errors quickly.\n",
        "- 📈 **Data Exploration:** Discover hidden insights.\n",
        "\n",
        "**Analogy:** Like turning a spreadsheet into a colorful infographic!"
      ]
    },
    {
      "cell_type": "markdown",
      "metadata": {},
      "source": [
        "## displacy in Action\n",
        "\n",
        "Here's how displacy transforms raw text results into beautiful visualizations:"
      ]
    },
    {
      "cell_type": "markdown",
      "metadata": {},
      "source": [
        "### Example of Text Output\n",
        "\n",
        "Plain text output:\n",
        "```plaintext\n",
        "Apple → ORG, Tim Cook → PERSON, Cupertino → GPE\n",
        "```"
      ]
    },
    {
      "cell_type": "markdown",
      "metadata": {},
      "source": [
        "### Visualized Output with displacy\n",
        "\n",
        "Imagine this as the colorful visual output:\n",
        "- 🏢 <span style=\"background: lightblue; padding: 2px;\">Apple</span> connected with arrows\n",
        "- 👤 <span style=\"background: lightgreen; padding: 2px;\">Tim Cook</span> clearly highlighted\n",
        "- 🌍 <span style=\"background: lightcoral; padding: 2px;\">Cupertino</span> with location color"
      ]
    },
    {
      "cell_type": "markdown",
      "metadata": {},
      "source": [
        "## Let's Paint with displacy!\n",
        "\n",
        "Are you ready to turn your NER results into stunning visualizations that even non-technical people can understand?\n",
        "\n",
        "*Prepare to be amazed! 🎨*"
      ]
    },
    {
      "cell_type": "code",
      "metadata": {},
      "source": [
        "import spacy\n",
        "from spacy import displacy\n",
        "\n",
        "# Load the small English model\n",
        "nlp = spacy.load(\"en_core_web_sm\")\n",
        "\n",
        "# Sample text with entities\n",
        "text = \"Tesla CEO Elon Musk announced new factory in Berlin\"\n",
        "\n",
        "# Process the text\n",
        "doc = nlp(text)\n",
        "\n",
        "# Render the visualization inline in a Jupyter Notebook\n",
        "displacy.render(doc, style=\"ent\", jupyter=True)\n",
        "\n",
        "# To serve the visualization on a web page or locally, use:\n",
        "# displacy.serve(doc, style=\"ent\", port=5000)\n",
        "\n",
        "# Customizing colors for entity types\n",
        "colors = {\"PERSON\": \"lightgreen\", \"ORG\": \"lightblue\", \"GPE\": \"pink\"}\n",
        "options = {\"colors\": colors}\n",
        "\n",
        "# Render with custom colors\n",
        "displacy.render(doc, style=\"ent\", options=options)"
      ],
      "execution_count": null,
      "outputs": []
    },
    {
      "cell_type": "markdown",
      "metadata": {},
      "source": [
        "## Visualization Made Simple\n",
        "\n",
        "Watch how plain text transforms into an interactive, colorful display:"
      ]
    },
    {
      "cell_type": "markdown",
      "metadata": {},
      "source": [
        "![displacy Animation](displacy_animation.gif)\n",
        "\n",
        "*From boring text to beautiful insights in seconds!*"
      ]
    },
    {
      "cell_type": "markdown",
      "metadata": {},
      "source": [
        "## Displacy from a Different Angle\n",
        "\n",
        "**displacy is like Instagram for your data:**\n",
        "- 📸 Takes plain, boring content\n",
        "- 🎨 Applies beautiful filters and colors\n",
        "- ✨ Makes it instantly shareable and engaging\n",
        "\n",
        "But instead of photos, it beautifies your NER results!\n",
        "\n",
        "*I hope this is clear now! 🌈*"
      ]
    },
    {
      "cell_type": "markdown",
      "metadata": {},
      "source": [
        "## Visual Impact Question\n",
        "\n",
        "displacy transforms complex NER output into intuitive, shareable visualizations.\n",
        "\n",
        "**Question:** When presenting NER results to your boss or client, would you rather show them a list of text or a colorful, interactive visualization? What difference might that make?"
      ]
    }
  ],
  "metadata": {
    "kernelspec": {
      "name": "python3",
      "display_name": "Python 3",
      "language": "python"
    },
    "language_info": {
      "name": "python",
      "version": "3.x"
    }
  },
  "nbformat": 4,
  "nbformat_minor": 5
}