{
  "cells": [
    {
      "cell_type": "markdown",
      "metadata": {},
      "source": [
        "# Advanced NER: Entity Types and Real-World Use Cases\n",
        "\n",
        "In this notebook, we'll explore the different types of entities that Named Entity Recognition (NER) can identify and see how it's used in real-world scenarios."
      ]
    },
    {
      "cell_type": "markdown",
      "metadata": {},
      "source": [
        "## NER in the Real World\n",
        "\n",
        "Companies across various industries use NER to extract useful information from text data. Here's an example image showing a global network with different entity types connected across industries:\n",
        "\n",
        "![Global network with different entity types connected across industries, 800x600](images/global_network_entities.png)\n",
        "\n",
        "*How Fortune 500 companies use NER to gain competitive advantages*"
      ]
    },
    {
      "cell_type": "markdown",
      "metadata": {},
      "source": [
        "## Complete Entity Type Library\n",
        "\n",
        "NER can identify many different types of entities in text. Here's a list of common entity types:\n",
        "\n",
        "### People & Organizations\n",
        "- **PERSON**: Individual names\n",
        "- **ORG**: Companies, agencies\n",
        "- **NORP**: Nationalities, groups\n",
        "\n",
        "### Places & Locations\n",
        "- **GPE**: Countries, cities, states\n",
        "- **LOC**: Mountains, rivers, regions\n",
        "- **FAC**: Buildings, airports, highways\n",
        "\n",
        "### Numbers & Measurements\n",
        "- **MONEY**: Monetary values\n",
        "- **PERCENT**: Percentage values\n",
        "- **QUANTITY**: Measurements, weights\n",
        "- **ORDINAL**: First, second, third\n",
        "- **CARDINAL**: Numerical values\n",
        "\n",
        "### Time & Dates\n",
        "- **DATE**: Dates\n",
        "- **TIME**: Times"
      ]
    },
    {
      "cell_type": "markdown",
      "metadata": {},
      "source": [
        "## Industry Success Stories\n",
        "\n",
        "Many industries benefit from NER:\n",
        "\n",
        "- **📰 News & Media:** Reuters uses NER to auto-tag articles, reducing manual work by 80%\n",
        "- **🏦 Banking:** JPMorgan extracts entities from contracts for risk assessment\n",
        "- **🏥 Healthcare:** Hospitals use NER to structure patient records and research\n",
        "- **⚖️ Legal:** Law firms process thousands of documents for case research"
      ]
    },
    {
      "cell_type": "markdown",
      "metadata": {},
      "source": [
        "## Enterprise-Grade NER\n",
        "\n",
        "Building production-ready NER systems involves handling large volumes of documents efficiently.\n",
        "\n",
        "*Let's explore how to build such systems.*\n",
        "\n",
        "*Welcome to the big leagues! 💼*"
      ]
    },
    {
      "cell_type": "markdown",
      "metadata": {},
      "source": [
        "## Production NER Pipeline\n",
        "\n",
        "Below is an example of how to create a scalable NER processing pipeline using spaCy and pandas:"
      ]
    },
    {
      "cell_type": "code",
      "metadata": {},
      "source": [
        "import spacy\n",
        "from spacy.lang.en.stop_words import STOP_WORDS\n",
        "import pandas as pd\n",
        "\n",
        "class ProductionNER:\n",
        "    def __init__(self, model_path=\"en_core_web_sm\"):\n",
        "        self.nlp = spacy.load(model_path)\n",
        "        self.results = []\n",
        "    \n",
        "    def process_batch(self, texts):\n",
        "        \"\"\"Process multiple texts efficiently\"\"\"\n",
        "        docs = list(self.nlp.pipe(texts, batch_size=50))\n",
        "        \n",
        "        for doc in docs:\n",
        "            entities = {\n",
        "                \"text\": doc.text,\n",
        "                \"entities\": [(ent.text, ent.label_, ent.start_char, ent.end_char) for ent in doc.ents],\n",
        "                \"entity_count\": len(doc.ents)\n",
        "            }\n",
        "            self.results.append(entities)\n",
        "        \n",
        "        return self.results\n",
        "    \n",
        "    def get_statistics(self):\n",
        "        \"\"\"Get processing statistics\"\"\"\n",
        "        df = pd.DataFrame(self.results)\n",
        "        return df.explode('entities').groupby('entities.1').size().sort_values(ascending=False)\n",
        "\n",
        "# Usage example:\n",
        "# ner_processor = ProductionNER()\n",
        "# results = ner_processor.process_batch(news_articles)\n",
        "# stats = ner_processor.get_statistics()"
      ],
      "execution_count": null,
      "outputs": []
    },
    {
      "cell_type": "markdown",
      "metadata": {},
      "source": [
        "### Try it yourself\n",
        "\n",
        "Click the link below to try this pipeline in Google Colab:\n",
        "\n",
        "[🚀 Try in Colab](https://colab.research.google.com/github/Roopesht/codeexamples/blob/main/genai/python_easy/3/advanced.ipynb)"
      ]
    },
    {
      "cell_type": "markdown",
      "metadata": {},
      "source": [
        "## Advanced NER Applications\n",
        "\n",
        "NER is used in many advanced scenarios, including:\n",
        "\n",
        "- 🔍 **Competitive Intelligence:** Track competitor mentions across media\n",
        "- 📊 **Risk Management:** Identify potential risks in financial documents\n",
        "- 🤖 **Chatbot Enhancement:** Better understanding of user intents\n",
        "- 📰 **Content Curation:** Automatically categorize and route content\n",
        "- 🔒 **Data Privacy:** Automatically detect and mask sensitive information"
      ]
    },
    {
      "cell_type": "markdown",
      "metadata": {},
      "source": [
        "## Enterprise Thinking\n",
        "\n",
        "Implementing production NER systems allows processing of millions of documents in real time, providing valuable insights for business decisions.\n",
        "\n",
        "**Question:**\n",
        "If you could implement NER across your entire organization's documents, what business problem would you solve first and what ROI would you expect?"
      ]
    }
  ],
  "metadata": {
    "kernelspec": {
      "name": "python3",
      "display_name": "Python 3",
      "language": "python"
    },
    "language_info": {
      "name": "python",
      "version": "3.x",
      "mimetype": "application/x-python",
      "codemirror_mode": {
        "name": "python",
        "version": 3
      },
      "pygments_lexer": "python3",
      "file_extension": ".py"
    }
  },
  "nbformat": 4,
  "nbformat_minor": 5
}