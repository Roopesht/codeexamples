{
  "cells": [
    {
      "cell_type": "markdown",
      "metadata": {},
      "source": [
        "# Custom Named Entity Recognition (NER) Examples"
      ]
    },
    {
      "cell_type": "markdown",
      "metadata": {},
      "source": [
        "## Beyond Default: Custom NER"
      ]
    },
    {
      "cell_type": "markdown",
      "metadata": {},
      "source": [
        "![Workshop table with custom labels and tags being created](images/custom_labels_workshop.png)\n",
        "\n",
        "*Teaching NER to recognize YOUR domain-specific entities*"
      ]
    },
    {
      "cell_type": "markdown",
      "metadata": {},
      "source": [
        "## Why Custom NER?"
      ]
    },
    {
      "cell_type": "markdown",
      "metadata": {},
      "source": [
        "- 🏥 **Medical:** Drug names, symptoms, procedures\n",
        "- 💰 **Finance:** Stock symbols, financial terms\n",
        "- ⚖️ **Legal:** Case numbers, legal entities\n",
        "- 🛒 **E-commerce:** Product codes, categories\n",
        "\n",
        "**Default models don't know your business - but custom ones do!**"
      ]
    },
    {
      "cell_type": "markdown",
      "metadata": {},
      "source": [
        "## Custom NER in Healthcare"
      ]
    },
    {
      "cell_type": "markdown",
      "metadata": {},
      "source": [
        "> **Medical Text:** \"Patient shows symptoms of hypertension, prescribed lisinopril 10mg\"\n",
        ">\n",
        "> **Default NER:** Only finds \"10mg\" as quantity\n",
        "> \n",
        "> **Custom NER finds:**\n",
        "> - 🏥 hypertension → CONDITION\n",
        "> - 💊 lisinopril → MEDICATION\n",
        "> - 📊 10mg → DOSAGE"
      ]
    },
    {
      "cell_type": "markdown",
      "metadata": {},
      "source": [
        "## Let's Build Custom NER!"
      ]
    },
    {
      "cell_type": "markdown",
      "metadata": {},
      "source": [
        "We'll create a custom model to recognize programming languages and frameworks in job postings.\n",
        "*Time to make NER truly yours! 🛠️*"
      ]
    },
    {
      "cell_type": "markdown",
      "metadata": {},
      "source": [
        "## Custom NER Training"
      ]
    },
    {
      "cell_type": "code",
      "execution_count": null,
      "metadata": {},
      "outputs": [],
      "source": [
        "import spacy\n",
        "from spacy.training.example import Example\n",
        "\n",
        "# Training data with custom labels\n",
        "TRAIN_DATA = [\n",
        "    (\"Looking for Python developer with Django experience\", \n",
        "     {\"entities\": [(12, 18, \"LANGUAGE\"), (34, 40, \"FRAMEWORK\")] }),\n",
        "    (\"React and JavaScript skills required\",\n",
        "     {\"entities\": [(0, 5, \"FRAMEWORK\"), (10, 20, \"LANGUAGE\")] }),\n",
        "]\n",
        "\n",
        "# Load blank model and add NER\n",
        "nlp = spacy.blank(\"en\")\n",
        "ner = nlp.add_pipe(\"ner\")\n",
        "\n",
        "# Add custom labels\n",
        "ner.add_label(\"LANGUAGE\")\n",
        "ner.add_label(\"FRAMEWORK\")\n",
        "\n",
        "# Train the model\n",
        "for epoch in range(10):\n",
        "    for text, annotations in TRAIN_DATA:\n",
        "        example = Example.from_dict(nlp.make_doc(text), annotations)\n",
        "        nlp.update([example])\n",
        "\n",
        "# Test custom model\n",
        "doc = nlp(\"We need Vue.js and Python expertise\")\n",
        "for ent in doc.ents:\n",
        "    print(f\"{ent.text} → {ent.label_}\")"
      ]
    },
    {
      "cell_type": "markdown",
      "metadata": {},
      "source": [
        "## Custom NER Made Simple"
      ]
    },
    {
      "cell_type": "markdown",
      "metadata": {},
      "source": [
        "Training custom NER is like teaching a child new words:\n",
        "1. 📚 **Show examples:** \"This is a LANGUAGE, this is a FRAMEWORK\"\n",
        "2. 🔄 **Repeat multiple times:** Practice makes perfect\n",
        "3. 🎯 **Test understanding:** Can it recognize new examples?\n",
        "4. ✅ **Use in real world:** Apply to actual data"
      ]
    },
    {
      "cell_type": "markdown",
      "metadata": {},
      "source": [
        "## Custom NER from a Different Angle"
      ]
    },
    {
      "cell_type": "markdown",
      "metadata": {},
      "source": [
        "**Custom NER is like hiring a specialist:**\n",
        "- 🏥 A general doctor vs. a heart specialist\n",
        "- 📚 A general teacher vs. a math expert\n",
        "- 🤖 A general NER vs. YOUR domain expert\n",
        "\n",
        "**You get precision tailored to your exact needs!**\n",
        "\n",
        "*I hope this is clear now! 🎯*"
      ]
    },
    {
      "cell_type": "markdown",
      "metadata": {},
      "source": [
        "## Customization Power"
      ]
    },
    {
      "cell_type": "markdown",
      "metadata": {},
      "source": [
        "Custom NER lets you teach machines to understand YOUR specific domain language and entities.\n",
        "### Question:\n",
        "Think about your work or interests - what specific terms or entities would you want a custom NER model to recognize that general models might miss?"
      ]
    }
  ],
  "metadata": {
    "kernelspec": {
      "display_name": "Python 3",
      "language": "python",
      "name": "python3"
    },
    "language_info": {
      "name": "python",
      "version": "3.x"
    }
  },
  "nbformat": 4,
  "nbformat_minor": 5
}