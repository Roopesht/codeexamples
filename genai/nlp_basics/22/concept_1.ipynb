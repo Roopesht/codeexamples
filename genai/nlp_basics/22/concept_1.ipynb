{
  "cells": [
    {
      "cell_type": "markdown",
      "metadata": {},
      "source": [
        "# Introduction to Named Entity Recognition (NER)\n",
        "\n",
        "Welcome to this beginner-friendly tutorial on Named Entity Recognition (NER). "
      ]
    },
    {
      "cell_type": "markdown",
      "metadata": {},
      "source": [
        "### What is Named Entity Recognition?\n",
        "![Detective with magnifying glass](images/detective_magnifying_glass.png)\n",
        "\n",
        "*Think of NER as a smart detective that identifies important \"who, what, where\" in text.*"
      ]
    },
    {
      "cell_type": "markdown",
      "metadata": {},
      "source": [
        "### NER: The Text Detective\n",
        "- 🏷️ **Named Entity:** Specific real-world objects (people, places, organizations)\n",
        "- 🔍 **Recognition:** Automatically finding and classifying these entities\n",
        "- 📊 **Structured Output:** Converting messy text into organized information\n",
        "\n",
        "**Analogy:** Like highlighting important names in a newspaper with different colored markers!"
      ]
    },
    {
      "cell_type": "markdown",
      "metadata": {},
      "source": [
        "### Real-World NER Magic\n",
        "```plaintext\n",
        "Input: \"Apple CEO Tim Cook visited Microsoft in Seattle yesterday.\"\n",
        "\n",
        "NER Output:\n",
        "- 🏢 Apple → ORGANIZATION\n",
        "- 👤 Tim Cook → PERSON\n",
        "- 🏢 Microsoft → ORGANIZATION\n",
        "- 🌍 Seattle → LOCATION\n",
        "- 📅 yesterday → DATE\n",
        "```"
      ]
    },
    {
      "cell_type": "markdown",
      "metadata": {},
      "source": [
        "### Let's See NER in Action\n",
        "Watch how a simple Python script can extract entities from news articles, emails, or social media posts!\n",
        "\n",
        "*Ready for some magic? ✨*"
      ]
    },
    {
      "cell_type": "code",
      "metadata": {},
      "execution_count": null,
      "outputs": [],
      "source": [
        "import spacy\n",
        "\n",
        "# Load the English model\n",
        "nlp = spacy.load(\"en_core_web_sm\")\n",
        "\n",
        "# Process text\n",
        "text = \"Elon Musk founded SpaceX in California\"\n",
        "doc = nlp(text)\n",
        "\n",
        "# Extract entities\n",
        "for entity in doc.ents:\n",
        "    print(f\"{entity.text} → {entity.label_}\")"
      ]
    },
    {
      "cell_type": "markdown",
      "metadata": {},
      "source": [
        "### NER Made Simple\n",
        "Imagine reading a story and automatically circling all the important names, places, and organizations."
      ]
    }
  ],
  "metadata": {
    "kernelspec": {
      "display_name": "Python 3",
      "language": "python",
      "name": "python3"
    },
    "language_info": {
      "name": "python",
      "version": "3.x"
    }
  },
  "nbformat": 4,
  "nbformat_minor": 5
}