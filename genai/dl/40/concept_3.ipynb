{
  "cells": [
    {
      "cell_type": "markdown",
      "metadata": {},
      "source": [
        "# Building a Simple Neural Network\n",
        "\n",
        "Let's learn how to build our first simple neural network in Python!"
      ]
    },
    {
      "cell_type": "markdown",
      "metadata": {},
      "source": [
        "## What is a Neural Network?\n",
        "\n",
        "A neural network is a type of machine learning model inspired by the way our brains work.\n",
        "It can learn to recognize patterns and make decisions based on data.\n",
        "\n",
        "In this notebook, we'll create a very simple neural network to understand the basic idea."
      ]
    },
    {
      "cell_type": "markdown",
      "metadata": {},
      "source": [
        "## Step 1: Import Necessary Libraries\n",
        "\n",
        "We'll need to import NumPy, a popular library in Python for numerical computations."
      ]
    },
    {
      "cell_type": "code",
      "execution_count": null,
      "metadata": {},
      "outputs": [],
      "source": [
        "import numpy as np"
      ]
    },
    {
      "cell_type": "markdown",
      "metadata": {},
      "source": [
        "## Step 2: Initialize Our Inputs and Weights\n",
        "\n",
        "Let's set up some initial inputs and weights for our neural network.\n",
        "For simplicity, we'll use small numbers."
      ]
    },
    {
      "cell_type": "code",
      "execution_count": null,
      "metadata": {},
      "outputs": [],
      "source": [
        "# Input features\n",
        "inputs = np.array([1.0, 2.0])\n",
        "\n",
        "# Weights for the inputs\n",
        "weights = np.array([0.5, -0.5])\n",
        "\n",
        "# Bias term\n",
        "bias = 0.0"
      ]
    },
    {
      "cell_type": "markdown",
      "metadata": {},
      "source": [
        "## Step 3: Calculate the Output\n",
        "\n",
        "Our neural network will calculate a weighted sum of the inputs, add a bias, and then apply an activation function.\n",
        "Let's define a simple function for that."
      ]
    },
    {
      "cell_type": "code",
      "execution_count": null,
      "metadata": {},
      "outputs": [],
      "source": [
        "def neural_network(inputs, weights, bias):\n",
        "    # Calculate weighted sum\n",
        "    total_input = np.dot(inputs, weights) + bias\n",
        "    # Apply activation function (here, we'll use a step function)\n",
        "    output = 1 if total_input > 0 else 0\n",
        "    return output"
      ]
    },
    {
      "cell_type": "markdown",
      "metadata": {},
      "source": [
        "## Step 4: Run the Neural Network\n",
        "\n",
        "Let's test our neural network with the inputs we defined."
      ]
    },
    {
      "cell_type": "code",
      "execution_count": null,
      "metadata": {},
      "outputs": [],
      "source": [
        "result = neural_network(inputs, weights, bias)\n",
        "print(f\"The neural network output is: {result}\")"
      ]
    },
    {
      "cell_type": "markdown",
      "metadata": {},
      "source": [
        "## Summary\n",
        "\n",
        "In this simple example, we:\n",
        "- Defined inputs and weights\n",
        "- Calculated a weighted sum\n",
        "- Applied a basic activation function\n",
        "\n",
        "This is the fundamental idea behind neural networks. With more layers and more complex functions, they can learn to solve very complicated problems!"
      ]
    }
  ],
  "metadata": {
    "kernelspec": {
      "name": "python3",
      "display_name": "Python 3",
      "language": "python"
    },
    "language_info": {
      "name": "python",
      "version": "3.x"
    }
  },
  "nbformat": 4,
  "nbformat_minor": 5
}
