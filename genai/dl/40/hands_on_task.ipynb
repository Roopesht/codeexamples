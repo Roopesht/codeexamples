{
  "cells": [
    {
      "cell_type": "markdown",
      "metadata": {},
      "source": [
        "# 🎯 Hands-on Task: MNIST Digit Classifier\n",
        "Build your first real neural network!"
      ]
    },
    {
      "cell_type": "markdown",
      "metadata": {},
      "source": [
        "We're going to create a network that recognizes handwritten digits 0-9"
      ]
    },
    {
      "cell_type": "markdown",
      "metadata": {},
      "source": [
        "## Project Details"
      ]
    },
    {
      "cell_type": "markdown",
      "metadata": {},
      "source": [
        "- **Dataset:** MNIST (70,000 handwritten digits)\n",
        "- **Architecture:** 2-layer neural network\n",
        "- **Input:** 28x28 pixel images (784 features)\n",
        "- **Output:** 10 classes (digits 0-9)\n",
        "- **Goal:** >85% accuracy on test set"
      ]
    },
    {
      "cell_type": "markdown",
      "metadata": {},
      "source": [
        "## Input/Output Examples"
      ]
    },
    {
      "cell_type": "markdown",
      "metadata": {},
      "source": [
        "<div style=\"display: flex; justify-content: space-around;\">\n",
        "  <div>\n",
        "    <h4>Input:</h4>\n",
        "    <img src=\"images/mnist_samples.png\" alt=\"Grid of handwritten digits 0-9 from MNIST dataset, showing various writing styles. size 400x200\">\n",
        "  </div>\n",
        "  <div>\n",
        "    <h4>Output:</h4>\n",
        "    <pre><code>\n",
        "Input: [handwritten \"7\"]\n",
        "Output: [0.01, 0.02, 0.01, 0.02, 0.01, 0.01, 0.02, 0.89, 0.01, 0.01]\n",
        "Prediction: 7 (89% confidence)\n",
        "        </code></pre>\n",
        "  </div>\n",
        "</div>"
      ]
    },
    {
      "cell_type": "markdown",
      "metadata": {},
      "source": [
        "## Step-by-Step Implementation"
      ]
    },
    {
      "cell_type": "markdown",
      "metadata": {},
      "source": [
        "1. 📥 **Load MNIST data** using torchvision"
      ]
    },
    {
      "cell_type": "markdown",
      "metadata": {},
      "source": [
        "2. 🔧 **Preprocess** images (normalize, flatten)"
      ]
    },
    {
      "cell_type": "markdown",
      "metadata": {},
      "source": [
        "3. 🏗️ **Build network** (784 → 128 → 10)"
      ]
    },
    {
      "cell_type": "markdown",
      "metadata": {},
      "source": [
        "4. ⚡ **Add activations** (ReLU, Softmax)"
      ]
    },
    {
      "cell_type": "markdown",
      "metadata": {},
      "source": [
        "5. 🎯 **Define loss function** (CrossEntropy)"
      ]
    },
    {
      "cell_type": "markdown",
      "metadata": {},
      "source": [
        "6. 🚀 **Train the model** (forward, backward, optimize)"
      ]
    },
    {
      "cell_type": "markdown",
      "metadata": {},
      "source": [
        "7. 📊 **Evaluate performance** on test set"
      ]
    },
    {
      "cell_type": "markdown",
      "metadata": {},
      "source": [
        "## Code Structure Template"
      ]
    },
    {
      "cell_type": "code",
      "metadata": {},
      "source": [
        "import torch\n",
        "import torch.nn as nn\n",
        "import torchvision\n",
        "\n",
        "# 1. Data loading\n",
        "train_dataset = torchvision.datasets.MNIST(root='./data', train=True, download=True, transform=torchvision.transforms.ToTensor())\n",
        "train_loader = torch.utils.data.DataLoader(train_dataset, batch_size=64, shuffle=True)\n",
        "\n",
        "# 2. Model definition\n",
        "class DigitClassifier(nn.Module):\n",
        "    def __init__(self):\n",
        "        super(DigitClassifier, self).__init__()\n",
        "        self.flatten = nn.Flatten()\n",
        "        self.hidden = nn.Linear(28 * 28, 128)\n",
        "        self.output = nn.Linear(128, 10)\n",
        "\n",
        "    def forward(self, x):\n",
        "        x = self.flatten(x)\n",
        "        x = torch.relu(self.hidden(x))\n",
        "        x = self.output(x)\n",
        "        return x\n",
        "\n",
        "# 3. Training loop\n",
        "model = DigitClassifier()\n",
        "optimizer = torch.optim.Adam(model.parameters())\n",
        "criterion = nn.CrossEntropyLoss()\n",
        "\n",
        "for epoch in range(10):\n",
        "    # Training code here\n",
        "    pass\n"
      ],
      "execution_count": null,
      "outputs": []
    },
    {
      "cell_type": "markdown",
      "metadata": {},
      "source": [
        "[🚀 Complete Code in Colab](https://colab.research.google.com/github/Roopesht/codeexamples/blob/main/genai/pytorch_basics/mnist_classifier.ipynb)"
      ]
    },
    {
      "cell_type": "markdown",
      "metadata": {},
      "source": [
        "## What You'll Achieve"
      ]
    },
    {
      "cell_type": "markdown",
      "metadata": {},
      "source": [
        "- ✅ Build your first complete neural network\n",
        "- ✅ Understand the full training pipeline\n",
        "- ✅ See real AI learning in action\n",
        "- ✅ Get hands-on with PyTorch workflow"
      ]
    },
    {
      "cell_type": "markdown",
      "metadata": {},
      "source": [
        "**Expected result:** A model that can recognize handwritten digits with 85-95% accuracy!\n",
        "\n",
        "This is the same type of network used in early OCR systems! 🎉"
      ]
    }
  ],
  "metadata": {
    "kernelspec": {
      "name": "python3",
      "display_name": "Python 3",
      "language": "python"
    },
    "language_info": {
      "name": "python",
      "version": "3.x"
    }
  },
  "nbformat": 4,
  "nbformat_minor": 2
}