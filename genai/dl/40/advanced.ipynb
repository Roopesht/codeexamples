{
  "cells": [
    {
      "cell_type": "markdown",
      "metadata": {},
      "source": [
        "# Advanced PyTorch: nn.Module & nn.Sequential"
      ]
    },
    {
      "cell_type": "markdown",
      "metadata": {},
      "source": [
        "🚀 **Advanced: nn.Module & nn.Sequential**"
      ]
    },
    {
      "cell_type": "markdown",
      "metadata": {},
      "source": [
        "*Professional PyTorch development patterns*"
      ]
    },
    {
      "cell_type": "markdown",
      "metadata": {},
      "source": [
        "## Professional Network Building"
      ]
    },
    {
      "cell_type": "markdown",
      "metadata": {},
      "source": [
        "**nn.Module:** The blueprint for all PyTorch models"
      ]
    },
    {
      "cell_type": "markdown",
      "metadata": {},
      "source": [
        "**nn.Sequential:** Quick way to stack layers in order"
      ]
    },
    {
      "cell_type": "markdown",
      "metadata": {},
      "source": [
        "*These are the tools pros use to build production AI systems!*"
      ]
    },
    {
      "cell_type": "markdown",
      "metadata": {},
      "source": [
        "## Two Ways to Build Networks"
      ]
    },
    {
      "cell_type": "code",
      "execution_count": null,
      "metadata": {},
      "outputs": [],
      "source": [
        "# Method 1: nn.Sequential (quick and simple)",
        "import torch.nn as nn",
        "",
        "model = nn.Sequential(",
        "    nn.Linear(784, 128),",
        "    nn.ReLU(),",
        "    nn.Linear(128, 64),",
        "    nn.ReLU(),",
        "    nn.Linear(64, 10)",
        " )"
      ]
    },
    {
      "cell_type": "markdown",
      "metadata": {},
      "source": [
        "This creates a simple neural network by stacking layers in order using `nn.Sequential`."
      ]
    },
    {
      "cell_type": "code",
      "execution_count": null,
      "metadata": {},
      "outputs": [],
      "source": [
        "# Method 2: nn.Module (more flexible and powerful)",
        "import torch",
        "import torch.nn as nn",
        "",
        "class CustomNetwork(nn.Module):",
        "    def __init__(self):",
        "        super().__init__()",
        "        self.layers = nn.Sequential(",
        "            nn.Linear(784, 128),",
        "            nn.ReLU(),",
        "            nn.Dropout(0.2),  # Advanced: prevents overfitting",
        "            nn.Linear(128, 10)",
        "        )",
        "",
        "    def forward(self, x):",
        "        return self.layers(x)"
      ]
    },
    {
      "cell_type": "markdown",
      "metadata": {},
      "source": [
        "This method defines a custom class inheriting from `nn.Module`. You can add more complex logic in the `forward` method."
      ]
    },
    {
      "cell_type": "markdown",
      "metadata": {},
      "source": [
        "## Why This Matters"
      ]
    },
    {
      "cell_type": "markdown",
      "metadata": {},
      "source": [
        "- 🏗️ **Clean code:** Easy to read and maintain",
        "- 🔧 **Reusable:** Build once, use many times",
        "- 🎯 **Debugging:** Easy to track what's happening",
        "- 🚀 **Production ready:** Industry standard approach"
      ]
    }
  ],
  "metadata": {
    "kernelspec": {
      "display_name": "Python 3",
      "language": "python",
      "name": "python3"
    },
    "language_info": {
      "name": "python",
      "version": "3.x"
    }
  },
  "nbformat": 4,
  "nbformat_minor": 5
}