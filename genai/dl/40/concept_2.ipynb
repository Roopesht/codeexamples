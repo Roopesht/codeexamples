{
  "cells": [
    {
      "cell_type": "markdown",
      "metadata": {},
      "source": [
        "# PyTorch Basics\n",
        "\n",
        "Welcome to the beginner-friendly introduction to PyTorch! In this notebook, we'll learn what PyTorch is and explore some fundamental concepts to get you started.\n",
        "\n",
        "## What is PyTorch?\n",
        "\n",
        "PyTorch is an open-source machine learning library developed by Facebook. It's widely used for building neural networks and deep learning models because of its easy-to-understand syntax and powerful features.\n",
        "\n",
        "Let's dive into the basics!"
      ]
    },
    {
      "cell_type": "markdown",
      "metadata": {},
      "source": [
        "## Installing PyTorch\n",
        "\n",
        "Before we start coding, make sure you have PyTorch installed. You can install it using pip:\n",
        "\n",
        "```bash\n",
        "!pip install torch\n",
        "```\n",
        "\n",
        "You might want to run this cell to install PyTorch if you haven't already."
      ]
    },
    {
      "cell_type": "code",
      "metadata": {},
      "execution_count": null,
      "outputs": [],
      "source": [
        "# Uncomment the following line to install PyTorch if needed\n",
        "# !pip install torch\n"
      ]
    },
    {
      "cell_type": "markdown",
      "metadata": {},
      "source": [
        "## Importing PyTorch\n",
        "\n",
        "Let's import the torch library, which contains all the tools we'll use.\n"
      ]
    },
    {
      "cell_type": "code",
      "metadata": {},
      "execution_count": null,
      "outputs": [],
      "source": [
        "import torch\n"
      ]
    },
    {
      "cell_type": "markdown",
      "metadata": {},
      "source": [
        "## Tensors in PyTorch\n",
        "\n",
        "Tensors are the fundamental building blocks in PyTorch. They are similar to arrays or matrices in NumPy but can also run on GPUs for faster computation.\n",
        "\n",
        "Let's create a simple tensor:"
      ]
    },
    {
      "cell_type": "code",
      "metadata": {},
      "execution_count": null,
      "outputs": [],
      "source": [
        "tensor_example = torch.tensor([1, 2, 3, 4, 5])\n",
        "print(tensor_example)\n"
      ]
    },
    {
      "cell_type": "markdown",
      "metadata": {},
      "source": [
        "This creates a tensor with the numbers 1 to 5.\n",
        "\n",
        "You can check its type:"
      ]
    },
    {
      "cell_type": "code",
      "metadata": {},
      "execution_count": null,
      "outputs": [],
      "source": [
        "print(type(tensor_example))\n"
      ]
    },
    {
      "cell_type": "markdown",
      "metadata": {},
      "source": [
        "## Basic Tensor Operations\n",
        "\n",
        "Let's perform some simple operations with tensors:"
      ]
    },
    {
      "cell_type": "code",
      "metadata": {},
      "execution_count": null,
      "outputs": [],
      "source": [
        "a = torch.tensor([1, 2, 3])\n",
        "b = torch.tensor([4, 5, 6])\n",
        "\n",
        "# Addition\n",
        "print(\"a + b =\", a + b)\n",
        "\n",
        "# Element-wise multiplication\n",
        "print(\"a * b =\", a * b)\n"
      ]
    }
  ],
  "metadata": {
    "kernelspec": {
      "display_name": "Python 3",
      "language": "python",
      "name": "python3"
    },
    "language_info": {
      "name": "python",
      "version": "3.8",
      "mimetype": "text/x-python",
      "file_extension": ".py",
      "codemirror_mode": {
        "name": "ipython",
        "version": 3
      },
      "nbconvert_exporter": "python"
    }
  },
  "nbformat": 4,
  "nbformat_minor": 5
}