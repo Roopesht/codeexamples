{
  "cells": [
    {
      "cell_type": "markdown",
      "metadata": {},
      "source": [
        "# Advanced CNN Architectures\n",
        "\n",
        "## Overview\n",
        "This notebook provides an overview of the evolution of Convolutional Neural Networks (CNNs), from the pioneering LeNet-5 to modern architectures.\n",
        "\n",
        "![Evolution timeline of CNN architectures](images/cnn_evolution.png)\n",
        "\n",
        "Let's explore some famous CNN architectures and build a simple LeNet-inspired model for CIFAR-10."
      ]
    },
    {
      "cell_type": "markdown",
      "metadata": {},
      "source": [
        "### LeNet-5: The Pioneer (1998)\n",
        "\n",
        "- 👨‍💻 **Creator:** Yann LeCun\n",
        "- 📮 **Original use:** Handwritten digit recognition (postal codes)\n",
        "- 🧱 **Structure:** 2 conv layers + 3 fully connected layers\n",
        "- 🎯 **Innovation:** Proved CNNs work for real problems\n",
        "\n",
        "**Fun fact:** LeNet processed millions of checks daily!"
      ]
    },
    {
      "cell_type": "markdown",
      "metadata": {},
      "source": [
        "### AlexNet: The Game Changer (2012)\n",
        "\n",
        "- 🏆 **Achievement:** Won ImageNet competition by a huge margin\n",
        "- 🔥 **Key innovations:** ReLU, Dropout, GPU training\n",
        "- 📈 **Impact:** Sparked the deep learning revolution\n",
        "- ⚡ **Performance:** 15.3% error rate (vs 26% before)\n",
        "\n",
        "*AlexNet showed the world that deep learning was ready for prime time!*"
      ]
    },
    {
      "cell_type": "markdown",
      "metadata": {},
      "source": [
        "### Modern CNN Architectures\n",
        "- 🏗️ **ResNet:** Residual connections, 152+ layers\n",
        "- ⚡ **MobileNet:** Efficient for mobile devices\n",
        "- 🎯 **EfficientNet:** Optimal accuracy-efficiency balance\n",
        "- 👁️ **Vision Transformer:** Attention-based vision"
      ]
    },
    {
      "cell_type": "markdown",
      "metadata": {},
      "source": [
        "### Building a LeNet-5 Style Architecture for CIFAR-10\n",
        "We will implement a modern, simplified LeNet-inspired CNN suitable for CIFAR-10 dataset.\n",
        "*Simple but effective architecture for learning*"
      ]
    },
    {
      "cell_type": "code",
      "metadata": {},
      "source": [
        "import torch\n",
        "import torch.nn as nn\n",
        "\n",
        "class ModernLeNet(nn.Module):\n",
        "    def __init__(self, num_classes=10):\n",
        "        super(ModernLeNet, self).__init__()\n",
        "        # Feature extraction\n",
        "        self.features = nn.Sequential(\n",
        "            nn.Conv2d(3, 32, kernel_size=5, padding=2),\n",
        "            nn.ReLU(inplace=True),\n",
        "            nn.MaxPool2d(kernel_size=2, stride=2),\n",
        "            nn.Conv2d(32, 64, kernel_size=5, padding=2),\n",
        "            nn.ReLU(inplace=True),\n",
        "            nn.MaxPool2d(kernel_size=2, stride=2)\n",
        "        )\n",
        "\n",
        "        # Classification layers\n",
        "        self.classifier = nn.Sequential(\n",
        "            nn.Dropout(p=0.5),\n",
        "            nn.Linear(64 * 8 * 8, 120),\n",
        "            nn.ReLU(inplace=True),\n",
        "            nn.Linear(120, 84),\n",
        "            nn.ReLU(inplace=True),\n",
        "            nn.Linear(84, num_classes)\n",
        "        )\n",
        "\n",
        "    def forward(self, x):\n",
        "        x = self.features(x)\n",
        "        x = x.view(x.size(0), -1)\n",
        "        x = self.classifier(x)\n",
        "        return x"
      ],
      "execution_count": null,
      "outputs": []
    },
    {
      "cell_type": "markdown",
      "metadata": {},
      "source": [
        "### CNN Evolution Made Simple\n",
        "\n",
        "Watch the evolution of CNN architectures:\n",
        "\n",
        "<svg id=\"evolution-svg\" width=\"800\" height=\"400\" class=\"svg\"></svg>\n",
        "\n",
        "*Each generation built upon previous innovations!*"
      ]
    },
    {
      "cell_type": "markdown",
      "metadata": {},
      "source": [
        "### CNN Architectures from a Different Angle\n",
        "\n",
        "Think of CNN evolution like smartphone development:\n",
        "\n",
        "- 📱 **LeNet (1998):** First mobile phone - basic but revolutionary\n",
        "- 🚀 **AlexNet (2012):** iPhone moment - changed everything\n",
        "- 🔋 **MobileNet:** Focus on battery life and efficiency\n",
        "- 🧠 **Modern CNNs:** AI-powered smartphones\n",
        "\n",
        "*Each generation solved new problems while building on past success!*",
        "\n",
        "**I hope this is clear now!** 😊"
      ]
    },
    {
      "cell_type": "markdown",
      "metadata": {},
      "source": [
        "### Understanding Check\n",
        "\n",
        "- **Question:** CNN architectures have evolved from simple LeNet to sophisticated modern designs, each optimizing for different trade-offs.\n",
        "\n",
        "**Question:** For a mobile app that needs to classify images in real-time, which type of CNN architecture would you prefer: deeper/more accurate or lighter/faster?"
      ]
    }
  ],
  "metadata": {
    "kernelspec": {
      "display_name": "Python 3",
      "language": "python",
      "name": "python3"
    },
    "language_info": {
      "name": "python",
      "version": "3.x"
    }
  },
  "nbformat": 4,
  "nbformat_minor": 5
}