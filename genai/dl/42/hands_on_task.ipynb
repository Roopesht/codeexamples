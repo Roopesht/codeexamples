{
  "cells": [
    {
      "cell_type": "markdown",
      "metadata": {},
      "source": [
        "# CIFAR-10 Image Classifier\n",
        "\n",
        "Build your first complete CNN for real-world image classification!\n",
        "\n",
        "![Sample images from CIFAR-10 dataset showing 10 different classes](images/cifar10_samples.png)"
      ]
    },
    {
      "cell_type": "markdown",
      "metadata": {},
      "source": [
        "## Task Details\n",
        "\n",
        "- 📊 **Dataset:** CIFAR-10 (60,000 32x32 color images)\n",
        "- 🏷️ **Classes:** airplane, car, bird, cat, deer, dog, frog, horse, ship, truck\n",
        "- 🎯 **Goal:** Train CNN to classify images with >70% accuracy\n",
        "- ⏱️ **Time:** 30 minutes\n",
        "\n",
        "**Challenge:** Can you beat 80% accuracy?"
      ]
    },
    {
      "cell_type": "markdown",
      "metadata": {},
      "source": [
        "## Expected Input/Output\n",
        "\n",
        "- 📥 **Input:** 32x32 RGB image of an object\n",
        "- 🔄 **Processing:** CNN feature extraction + classification\n",
        "- 📤 **Output:** Class prediction with confidence score\n",
        "\n",
        "**Example:** Input cat image → CNN → \"cat (85% confidence)\""
      ]
    },
    {
      "cell_type": "markdown",
      "metadata": {},
      "source": [
        "## Step-by-Step Implementation Flow\n",
        "\n",
        "1. 📦 **Load data:** Download and prepare CIFAR-10\n",
        "2. 🏗️ **Build CNN:** Design architecture\n",
        "3. 🎯 **Train model:** Optimize parameters\n",
        "4. 📊 **Evaluate:** Test on validation set\n",
        "5. 🔍 **Analyze:** Check predictions and errors"
      ]
    },
    {
      "cell_type": "markdown",
      "metadata": {},
      "source": [
        "## Code Structure Template\n",
        "\n",
        "```python\n",
        "# 1. Imports and setup\n",
        "import torch\n",
        "import torchvision\n",
        "import torch.nn as nn\n",
        "import torchvision.transforms as transforms\n",
        "from torch.utils.data import DataLoader\n",
        "\n",
        "# 2. Data loading\n",
        "transform = transforms.Compose([\n",
        "    transforms.ToTensor(),\n",
        "    transforms.Normalize((0.4914, 0.4822, 0.4465), (0.2470, 0.2435, 0.2616))\n",
        "])\n",
        "trainset = torchvision.datasets.CIFAR10(root='./data', train=True, download=True, transform=transform)\n",
        "trainloader = DataLoader(trainset, batch_size=64, shuffle=True, num_workers=2)\n",
        "testset = torchvision.datasets.CIFAR10(root='./data', train=False, download=True, transform=transform)\n",
        "testloader = DataLoader(testset, batch_size=64, shuffle=False, num_workers=2)\n",
        "\n",
        "# 3. Model definition\n",
        "class CIFAR10CNN(nn.Module):\n",
        "    def __init__(self):\n",
        "        super(CIFAR10CNN, self).__init__()\n",
        "        self.features = nn.Sequential(\n",
        "            nn.Conv2d(3, 32, kernel_size=3, padding=1),\n",
        "            nn.ReLU(),\n",
        "            nn.MaxPool2d(2, 2),\n",
        "            nn.Conv2d(32, 64, kernel_size=3, padding=1),\n",
        "            nn.ReLU(),\n",
        "            nn.MaxPool2d(2, 2),\n",
        "            nn.Conv2d(64, 128, kernel_size=3, padding=1),\n",
        "            nn.ReLU(),\n",
        "            nn.AdaptiveAvgPool2d((4, 4))\n",
        "        )\n",
        "        self.classifier = nn.Sequential(\n",
        "            nn.Flatten(),\n",
        "            nn.Linear(128 * 4 * 4, 256),\n",
        "            nn.ReLU(),\n",
        "            nn.Dropout(0.5),\n",
        "            nn.Linear(256, 10)\n",
        "        )\n",
        "    def forward(self, x):\n",
        "        x = self.features(x)\n",
        "        x = self.classifier(x)\n",
        "        return x\n",
        "\n",
        "# 4. Training loop\n",
        "model = CIFAR10CNN()\n",
        "optimizer = torch.optim.Adam(model.parameters(), lr=0.001)\n",
        "criterion = nn.CrossEntropyLoss()\n",
        "\n",
        "epochs = 10  # You can increase for better accuracy\n",
        "for epoch in range(epochs):\n",
        "    running_loss = 0.0\n",
        "    for inputs, labels in trainloader:\n",
        "        optimizer.zero_grad()\n",
        "        outputs = model(inputs)\n",
        "        loss = criterion(outputs, labels)\n",
        "        loss.backward()\n",
        "        optimizer.step()\n",
        "        running_loss += loss.item()\n",
        "    print(f\"Epoch {epoch+1}/{epochs}, Loss: {running_loss/len(trainloader):.4f}\")\n",
        "\n",
        "# 5. Evaluation (simple accuracy calculation)\n",
        "correct = 0\n",
        "total = 0\n",
        "with torch.no_grad():\n",
        "    for inputs, labels in testloader:\n",
        "        outputs = model(inputs)\n",
        "        _, predicted = torch.max(outputs, 1)\n",
        "        total += labels.size(0)\n",
        "        correct += (predicted == labels).sum().item()\n",
        "accuracy = 100 * correct / total\n",
        "print(f\"Test Accuracy: {accuracy:.2f}%\")\n",
        "```\n",
        "\n",
        "[🚀 Start CIFAR-10 Challenge in Colab](https://colab.research.google.com/github/Roopesht/codeexamples/blob/main/genai/python_cnn/session3/cifar10_classifier.ipynb)\n"
      ]
    },
    {
      "cell_type": "markdown",
      "metadata": {},
      "source": [
        "## What You'll Learn\n",
        "\n",
        "- 🔄 **Data pipeline:** Loading and preprocessing real images\n",
        "- 🏗️ **CNN design:** Choosing layers and parameters\n",
        "- 📈 **Training process:** Monitoring loss and accuracy\n",
        "- 🔍 **Model analysis:** Understanding what your CNN learned\n",
        "\n",
        "*This is your first step toward building production-ready computer vision systems!*"
      ]
    }
  ],
  "metadata": {
    "kernelspec": {
      "display_name": "Python 3",
      "language": "python",
      "name": "python3"
    },
    "language_info": {
      "codemirror_mode": {
        "name": "ipython",
        "version": 3
      },
      "file_extension": ".py",
      "mimetype": "text/x-python",
      "name": "python",
      "nbconvert_exporter": "python",
      "pygments_lexer": "ipython3",
      "version": "3.8"
    }
  },
  "nbformat": 4,
  "nbformat_minor": 5
}