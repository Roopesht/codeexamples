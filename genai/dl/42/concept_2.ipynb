{
  "cells": [
    {
      "cell_type": "markdown",
      "metadata": {},
      "source": [
        "# Filters, Kernels, Stride & Padding in Neural Networks"
      ]
    },
    {
      "cell_type": "markdown",
      "metadata": {},
      "source": [
        "## Introduction\n",
        "In this notebook, we will learn about the basic building blocks used in convolutional neural networks (CNNs) for image processing.\n",
        "We'll cover filters (also called kernels), stride, and padding, and see how they help us detect features in images."
      ]
    },
    {
      "cell_type": "markdown",
      "metadata": {},
      "source": [
        "### Filters / Kernels: The Feature Detectors\n",
        "- Small matrices (like 3x3 or 5x5) that scan over images.\n",
        "- Each filter detects specific features, such as edges or textures.\n",
        "- Examples include edge detectors, corner detectors, and blur filters.\n",
        "- CNNs learn the optimal filter values during training automatically.\n",
        "\n",
        "**Analogy:** Using different camera filters to enhance or detect features in a photo!"
      ]
    },
    {
      "cell_type": "markdown",
      "metadata": {},
      "source": [
        "### Stride & Padding: Controlling the Convolution Process\n",
        "- **Stride:** How many pixels to move the filter each step (1, 2, 3, ...).\n",
        "- **Padding:** Adding zeros around the edges of the image.\n",
        "- **Purpose:** To control the output size and preserve important information.\n",
        "- **Trade-off:** Faster processing with less detail vs. more detailed feature detection."
      ]
    },
    {
      "cell_type": "markdown",
      "metadata": {},
      "source": [
        "### Real-World Examples of Filters\n",
        "- 📱 Instagram filters: Blur, sharpen, edge enhancement.\n",
        "- 🏥 Medical imaging: Detecting tumor boundaries.\n",
        "- 🚗 Autonomous cars: Lane line detection.\n",
        "- 📸 Photography apps: Auto-focus and object detection.\n",
        "\n",
        "*Filters are everywhere in digital image processing!*"
      ]
    },
    {
      "cell_type": "markdown",
      "metadata": {},
      "source": [
        "### Applying Filters Step-by-Step\n",
        "Observe how a 3x3 filter processes an image:\n",
        "- Input Image + Filter -> Convolution Operation -> Feature Map"
      ]
    },
    {
      "cell_type": "code",
      "execution_count": null,
      "metadata": {},
      "outputs": [],
      "source": [
        "import torch\n",
        "import torch.nn.functional as F\n",
        "\n",
        "# Create a sample image (1 channel, 5x5)\n",
        "image = torch.randn(1, 1, 5, 5)\n",
        "\n",
        "# Define an edge detection filter\n",
        "edge_filter = torch.tensor([\n",
        "    [[-1, -1, -1],\n",
        "     [ 0,  0,  0],\n",
        "     [ 1,  1,  1]]\n",
        "], dtype=torch.float32).unsqueeze(0)\n",
        "\n",
        "# Apply convolution\n",
        "result = F.conv2d(image, edge_filter, stride=1, padding=1)\n",
        "\n",
        "print(f\"Original shape: {image.shape}\")\n",
        "print(f\"Result shape: {result.shape}\")\n",
        "print(\"Horizontal edges detected!\")"
      ]
    },
    {
      "cell_type": "markdown",
      "metadata": {},
      "source": [
        "### Convolution Made Simple\n",
        "Visualize how the filter slides across the image:\n",
        "- Each position in the filter produces one value in the output feature map.\n",
        "- Think of it as scanning the image systematically to extract features."
      ]
    },
    {
      "cell_type": "markdown",
      "metadata": {},
      "source": [
        "### Think of Convolution Like Reading a Book with a Magnifying Glass\n",
        "- Focus on small sections at a time.\n",
        "- Move systematically across the page.\n",
        "- Take notes about what you find in each section.\n",
        "- Combine all notes to understand the whole story.\n",
        "\n",
        "*This process captures local features in images, much like examining a page carefully.*"
      ]
    },
    {
      "cell_type": "markdown",
      "metadata": {},
      "source": [
        "### Understanding Check\n",
        "Convolution operations help CNNs detect local features such as edges, textures, and patterns.\n",
        "If you wanted to detect vertical lines in an image, what do you think the filter values should emphasize?"
      ]
    }
  ],
  "metadata": {
    "kernelspec": {
      "display_name": "Python 3",
      "language": "python",
      "name": "python3"
    },
    "language_info": {
      "name": "python",
      "version": "3.x"
    }
  },
  "nbformat": 4,
  "nbformat_minor": 5
}