{
  "cells": [
    {
      "cell_type": "markdown",
      "metadata": {},
      "source": [
        "# Building CNNs in PyTorch\n",
        "\n",
        "Welcome! In this notebook, we will learn how to build Convolutional Neural Networks (CNNs) using PyTorch, a popular deep learning library. CNNs are powerful tools for image recognition and classification tasks."
      ]
    },
    {
      "cell_type": "markdown",
      "metadata": {},
      "source": [
        "## CNN Building Blocks in PyTorch\n",
        "\n",
        "Let's explore the key components used to build CNNs in PyTorch:\n",
        "\n",
        "- **nn.Conv2d:** Convolutional layers that help the network recognize local patterns in images.\n",
        "- **nn.ReLU:** Activation functions that introduce non-linearity, allowing the network to learn complex patterns.\n",
        "- **nn.MaxPool2d:** Pooling layers that reduce the spatial size of the representation, making the network more efficient.\n",
        "- **nn.Linear:** Fully connected (dense) layers used at the end for classification."
      ]
    },
    {
      "cell_type": "markdown",
      "metadata": {},
      "source": [
        "## Typical CNN Architecture\n",
        "\n",
        "A common pattern in CNNs is:\n",
        "\n",
        "Pattern: Conv → ReLU → Pool → Repeat\n",
        "\n",
        "As data progresses through the network:\n",
        "- Features become more complex.\n",
        "- The spatial size of the data gets smaller.\n",
        "\n",
        "Finally:\n",
        "- The data is flattened.\n",
        "- Fully connected layers are added for classification.\n",
        "- The model balances depth and computational cost."
      ]
    },
    {
      "cell_type": "markdown",
      "metadata": {},
      "source": [
        "## CNN in Real-World Applications\n",
        "\n",
        "CNNs are used in many fields:\n",
        "\n",
        "- 📱 Mobile Apps: Lightweight CNNs for real-time image processing.\n",
        "- 🏥 Medical AI: Deep CNNs for accurate diagnosis.\n",
        "- 🎮 Gaming: Recognizing characters and objects.\n",
        "- 🛡️ Security: Facial recognition systems.\n",
        "\n",
        "PyTorch makes building these advanced models accessible for everyone!"
      ]
    },
    {
      "cell_type": "markdown",
      "metadata": {},
      "source": [
        "## Let's Build Our First Complete CNN\n",
        "\n",
        "We'll construct a CNN step-by-step designed for image classification with 10 classes.\n"
      ]
    },
    {
      "cell_type": "code",
      "metadata": {},
      "source": [
        "import torch\n",
        "import torch.nn as nn\n",
        "import torch.nn.functional as F\n",
        "\n",
        "class ImageClassifier(nn.Module):\n",
        "    def __init__(self, num_classes=10):\n",
        "        super().__init__()\n",
        "        # First convolutional block\n",
        "        self.conv1 = nn.Conv2d(3, 32, 3, padding=1)\n",
        "        self.pool1 = nn.MaxPool2d(2, 2)\n",
        "        \n",
        "        # Second convolutional block\n",
        "        self.conv2 = nn.Conv2d(32, 64, 3, padding=1)\n",
        "        self.pool2 = nn.MaxPool2d(2, 2)\n",
        "        \n",
        "        # Fully connected layers\n",
        "        self.fc1 = nn.Linear(64 * 8 * 8, 512)\n",
        "        self.fc2 = nn.Linear(512, num_classes)\n",
        "    \n",
        "    def forward(self, x):\n",
        "        x = self.pool1(F.relu(self.conv1(x)))\n",
        "        x = self.pool2(F.relu(self.conv2(x)))\n",
        "        x = x.view(-1, 64 * 8 * 8)  # Flatten\n",
        "        x = F.relu(self.fc1(x))\n",
        "        return self.fc2(x)\n",
        "\n",
        "model = ImageClassifier()\n",
        "print(\"CNN ready for training!\")"
      ]
    },
    {
      "cell_type": "markdown",
      "metadata": {},
      "source": [
        "## Simple Visualization of CNN Architecture\n",
        "\n",
        "Visualize how data moves through our CNN. (This section can be expanded with actual visualization code or diagrams in practice.)\n",
        "\n",
        "_Watch features get extracted and refined at each layer!_"
      ]
    },
    {
      "cell_type": "markdown",
      "metadata": {},
      "source": [
        "## CNN Building from a Different Angle\n",
        "\n",
        "Think of building a CNN like training a sports team:\n",
        "\n",
        "- 🏃 Early layers: Basic skills (edges, shapes)\n",
        "- 🤸 Middle layers: Intermediate skills (textures, parts)\n",
        "- 🏆 Final layers: Advanced strategies (complete objects)\n",
        "- ⚽ Output: Team decision (classification)\n",
        "\n",
        "_Each layer builds on the previous one's expertise!_ _I hope this is clear now!_ 😊"
      ]
    },
    {
      "cell_type": "markdown",
      "metadata": {},
      "source": [
        "## Understanding Check\n",
        "\n",
        "PyTorch provides all the building blocks needed to create powerful CNNs for any computer vision task.\n",
        "\n",
        "**Question:**\n",
        "What do you think happens if we make a CNN too deep or too shallow for our dataset?"
      ]
    }
  ],
  "metadata": {
    "kernelspec": {
      "display_name": "Python 3",
      "language": "python",
      "name": "python3"
    },
    "language_info": {
      "name": "python",
      "version": "3.x"
    }
  },
  "nbformat": 4,
  "nbformat_minor": 5
}