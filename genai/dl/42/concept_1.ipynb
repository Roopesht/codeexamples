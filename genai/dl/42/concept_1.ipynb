{
  "nbformat": 4,
  "nbformat_minor": 5,
  "metadata": {
    "kernelspec": {
      "name": "python3",
      "display_name": "Python 3",
      "language": "python"
    },
    "language_info": {
      "name": "python",
      "version": "3.x"
    }
  },
  "cells": [
    {
      "cell_type": "markdown",
      "metadata": {},
      "source": [
        "# Introduction to Convolutional Neural Networks (CNNs)\n",
        "\n",
        "Welcome to this beginner-friendly overview of CNNs! In this notebook, we'll explore what CNNs are, why they are important, and see a simple example in Python."
      ]
    },
    {
      "cell_type": "markdown",
      "metadata": {},
      "source": [
        "## 🎯 What are CNNs?\n",
        "\n",
        "### The Eyes of Artificial Intelligence\n",
        "\n",
        "![Brain looking at images with neural connections](images/cnn_intro.png)"
      ]
    },
    {
      "cell_type": "markdown",
      "metadata": {},
      "source": [
        "### Convolutional Neural Networks (CNNs)\n",
        "\n",
        "- 🧠 **Neural networks designed for visual data**\n",
        "- 🔍 **Inspired by human visual cortex**\n",
        "- 📱 **Power behind:** Face recognition, medical imaging, autonomous vehicles\n",
        "\n",
        "**Analogy:** Like having specialized detectives for different visual clues!"
      ]
    },
    {
      "cell_type": "markdown",
      "metadata": {},
      "source": [
        "### Why CNNs vs Regular Neural Networks?\n",
        "\n",
        "- 📊 **Problem:** 200x200 color image = 120,000 parameters!\n",
        "- 🧠 **Solution:** CNNs detect local patterns efficiently\n",
        "- 🎯 **Key Advantage:** Translation invariance (cat is cat anywhere in image)\n",
        "- 💾 **Result:** Fewer parameters, better performance"
      ]
    },
    {
      "cell_type": "markdown",
      "metadata": {},
      "source": [
        "### Real-World CNN Applications\n",
        "\n",
        "- 🏥 **Medical:** Detecting tumors in X-rays\n",
        "- 🚗 **Automotive:** Self-driving car vision\n",
        "- 📱 **Social Media:** Auto-tagging friends in photos\n",
        "- 🛒 **E-commerce:** Visual product search\n",
        "\n",
        "*CNNs are literally changing how machines see our world!*"
      ]
    },
    {
      "cell_type": "markdown",
      "metadata": {},
      "source": [
        "### Let's See CNNs in Action\n",
        "\n",
        "Here's how a CNN processes an image:\n",
        "\n",
        "**Input:** Cat photo → *CNN Magic* → **Output:** \"Cat (95% confidence)\""
      ]
    },
    {
      "cell_type": "markdown",
      "metadata": {},
      "source": [
        "### Simple CNN Example"
      ]
    },
    {
      "cell_type": "code",
      "metadata": {},
      "execution_count": null,
      "outputs": [],
      "source": [
        "import torch\n",
        "import torch.nn as nn\n",
        "\n",
        "# Simple CNN architecture\n",
        "class SimpleCNN(nn.Module):\n",
        "    def __init__(self):\n",
        "        super().__init__()\n",
        "        self.conv1 = nn.Conv2d(3, 32, kernel_size=3)\n",
        "        self.fc1 = nn.Linear(32*30*30, 10)  # 10 classes\n",
        "    \n",
        "    def forward(self, x):\n",
        "        x = torch.relu(self.conv1(x))  # Apply convolution\n",
        "        x = x.view(-1, 32*30*30)       # Flatten\n",
        "        return self.fc1(x)             # Classify\n",
        "\n",
        "model = SimpleCNN()\n",
        "print(\"CNN created! Ready to see images!\")"
      ]
    },
    {
      "cell_type": "markdown",
      "metadata": {},
      "source": [
        "### CNNs Made Simple\n",
        "\n",
        "**Think of CNNs as:**"
      ]
    },
    {
      "cell_type": "markdown",
      "metadata": {},
      "source": [
        "![SVG Illustration](#)  \n",
        "*Multiple feature detectors working together to understand images!*"
      ]
    },
    {
      "cell_type": "markdown",
      "metadata": {},
      "source": [
        "### CNNs from a Different Angle\n",
        "\n",
        "**Imagine you're a detective examining a crime scene photo:**\n",
        "\n",
        "- 🔍 First, you look for edges and shapes\n",
        "- 👁️ Then, you identify objects and patterns\n",
        "- 🧩 Finally, you put pieces together for the full picture\n",
        "\n",
        "*That's exactly how CNNs work - layer by layer understanding!*"
      ]
    },
    {
      "cell_type": "markdown",
      "metadata": {},
      "source": [
        "### Understanding Check\n",
        "\n",
        "**CNNs are revolutionary for computer vision because they can automatically learn visual patterns from data.**\n",
        "\n",
        "Can you think of a mobile app you use daily that might be powered by CNNs?"
      ]
    }
  ]
}