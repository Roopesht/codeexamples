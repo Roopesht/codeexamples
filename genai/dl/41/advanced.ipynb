{
  "nbformat": 4,
  "nbformat_minor": 5,
  "metadata": {
    "kernelspec": {
      "display_name": "Python 3",
      "language": "python",
      "name": "python3"
    },
    "language_info": {
      "name": "python",
      "version": "3.x"
    }
  },
  "cells": [
    {
      "cell_type": "markdown",
      "metadata": {},
      "source": [
        "# Visualizing Loss and Convergence\n",
        "\n",
        "In this notebook, we will learn how to visualize the loss during training of machine learning models. Visualizations help us understand how well our training is going and if we need to make adjustments."
      ]
    },
    {
      "cell_type": "markdown",
      "metadata": {},
      "source": [
        "## 📈 Why Visualize Loss?\n",
        "\n",
        "Visual insights help us:\n",
        "- 🔍 Understand if training is working\n",
        "- ⚠️ Detect problems early\n",
        "- 🎯 Know when to stop training\n",
        "- 🆚 Compare different approaches\n",
        "\n",
        "*A picture is worth a thousand debugging sessions! 🖼️*"
      ]
    },
    {
      "cell_type": "markdown",
      "metadata": {},
      "source": [
        "## Reading Loss Curves\n",
        "\n",
        "Loss curves show how the error of a model decreases (or not) over time.\n",
        "\n",
        "![Loss Curves](images/loss_curves_examples.png)\n",
        "\n",
        "Types of loss curves:\n",
        "- 📉 **Good:** Smooth decrease\n",
        "- ⚠️ **Overfitting:** Validation loss increases\n",
        "- 😴 **Underfitting:** Loss plateaus too high"
      ]
    },
    {
      "cell_type": "markdown",
      "metadata": {},
      "source": [
        "## Understanding Convergence\n",
        "\n",
        "Convergence patterns tell us how our training progresses:\n",
        "- 🎯 **Fast Convergence:** Adam optimizer with good learning rate\n",
        "- 🐌 **Slow Convergence:** SGD with small learning rate\n",
        "- 🌊 **Oscillation:** Too high learning rate\n",
        "- 📈 **Divergence:** Training goes wrong!"
      ]
    },
    {
      "cell_type": "markdown",
      "metadata": {},
      "source": [
        "## Let's Create Loss Visualizations!\n",
        "\n",
        "Time to plot some beautiful loss curves.\n",
        "\n",
        "We'll train models and watch their progress in real-time."
      ]
    },
    {
      "cell_type": "code",
      "metadata": {},
      "execution_count": null,
      "outputs": [],
      "source": [
        "import matplotlib.pyplot as plt\n",
        "import torch\n",
        "import torch.nn as nn\n",
        "\n",
        "# Track losses during training\n",
        "losses = []\n",
        "model = nn.Linear(10, 1)\n",
        "optimizer = torch.optim.Adam(model.parameters(), lr=0.01)\n",
        "\n",
        "for epoch in range(100):\n",
        "    # Simulate a decreasing loss\n",
        "    loss = torch.rand(1) * (0.5 ** (epoch/20))\n",
        "    losses.append(loss.item())\n",
        "\n",
        "# Plot the loss curve\n",
        "plt.figure(figsize=(10, 6))\n",
        "plt.plot(losses)\n",
        "plt.title('Training Loss Over Time')\n",
        "plt.xlabel('Epoch')\n",
        "plt.ylabel('Loss')\n",
        "plt.grid(True)\n",
        "plt.show()"
      ]
    },
    {
      "cell_type": "markdown",
      "metadata": {},
      "source": [
        "## Loss Visualization Made Simple\n",
        "\n",
        "Think of it like a health monitor:\n",
        "- 📊 X-axis: Time (training epochs)\n",
        "- 📉 Y-axis: How sick your model is (loss)\n",
        "- 🎯 Goal: Watch the patient get healthier!\n",
        "\n",
        "*Good training looks like recovery from illness! 🏥*"
      ]
    },
    {
      "cell_type": "markdown",
      "metadata": {},
      "source": [
        "## Live Loss Curve Training\n",
        "\n",
        "In a real scenario, you can watch how your model's loss decreases during training."
      ]
    },
    {
      "cell_type": "markdown",
      "metadata": {},
      "source": [
        "## Advanced Insight\n",
        "\n",
        "Loss visualization reveals the health of your AI training.\n",
        "\n",
        "Question: If you saw your model's loss curve going up and down wildly instead of smoothly decreasing, what might be wrong? 📊"
      ]
    }
  ]
}