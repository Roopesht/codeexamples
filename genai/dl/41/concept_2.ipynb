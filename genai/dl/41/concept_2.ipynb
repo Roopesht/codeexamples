{
  "cells": [
    {
      "cell_type": "markdown",
      "metadata": {},
      "source": [
        "# Concept 2: Common Loss Functions: MSE & Cross-Entropy"
      ]
    },
    {
      "cell_type": "markdown",
      "metadata": {},
      "source": [
        "## Mean Squared Error (MSE)"
      ]
    },
    {
      "cell_type": "markdown",
      "metadata": {},
      "source": [
        "**Best for:** Predicting continuous numbers (prices, temperatures)\n",
        "- Squares the difference between actual and predicted\n",
        "- Penalizes large errors more heavily\n",
        "- Always positive\n",
        "\n- **Formula:** MSE = (actual - predicted)²"
      ]
    },
    {
      "cell_type": "markdown",
      "metadata": {},
      "source": [
        "## Cross-Entropy Loss"
      ]
    },
    {
      "cell_type": "markdown",
      "metadata": {},
      "source": [
        "**Best for:** Classification (cats vs dogs, spam detection)\n",
        "- Measures probability distribution differences\n",
        "- Gets very large when confident but wrong\n",
        "- Encourages high confidence in correct predictions\n",
        "\n*Like penalizing overconfidence when wrong! 🤔*"
      ]
    },
    {
      "cell_type": "markdown",
      "metadata": {},
      "source": [
        "## When to Use Which?"
      ]
    },
    {
      "cell_type": "markdown",
      "metadata": {},
      "source": [
        "| Task Type | Loss Function | Example |\n",
        "|---|---|---|\n",
        "| Regression | MSE | House prices |\n",
        "| Classification | Cross-Entropy | Email spam detection |"
      ]
    },
    {
      "cell_type": "markdown",
      "metadata": {},
      "source": [
        "## Let's Code Both Loss Functions!"
      ]
    },
    {
      "cell_type": "markdown",
      "metadata": {},
      "source": [
        "Time to see MSE and Cross-Entropy in action\n",
        "We'll compare their behavior with different types of data"
      ]
    },
    {
      "cell_type": "code",
      "execution_count": null,
      "metadata": {},
      "outputs": [],
      "source": [
        "import numpy as np\n",
        "\n",
        "# MSE for house prices\n",
        "actual_price = 500000\n",
        "predicted_price = 450000\n",
        "mse = (actual_price - predicted_price) ** 2\n",
        "print(f\"MSE Loss: {mse}\")\n",
        "\n",
        "# Cross-Entropy for classification\n",
        "actual_class = [1, 0]  # Cat, not dog\n",
        "predicted_prob = [0.8, 0.2]  # 80% cat, 20% dog\n",
        "cross_entropy = -sum(a * np.log(p) for a, p in zip(actual_class, predicted_prob))\n",
        "print(f\"Cross-Entropy Loss: {cross_entropy:.3f}\")\n"
      ]
    },
    {
      "cell_type": "markdown",
      "metadata": {},
      "source": [
        "## Loss Functions Made Simple"
      ]
    },
    {
      "cell_type": "markdown",
      "metadata": {},
      "source": [
        "**MSE:** Like measuring distance with a ruler 📏\n",
        "**Cross-Entropy:** Like measuring confidence in yes/no questions 🤔\n",
        "- MSE: \"How far off are the numbers?\"\n",
        "- Cross-Entropy: \"How wrong is the category guess?\""
      ]
    },
    {
      "cell_type": "markdown",
      "metadata": {},
      "source": [
        "## MSE vs Cross-Entropy Visualization"
      ]
    },
    {
      "cell_type": "markdown",
      "metadata": {},
      "source": [
        "See how different loss functions behave!"
      ]
    },
    {
      "cell_type": "markdown",
      "metadata": {},
      "source": [
        "## Different Perspective: Restaurant Reviews"
      ]
    },
    {
      "cell_type": "markdown",
      "metadata": {},
      "source": [
        "**MSE:** Rating dishes 1-10 (continuous)\n",
        "**Cross-Entropy:** Liked/Disliked (categories)\n",
        "- 🍕 MSE: \"This pizza is 7.5/10 but I predicted 6/10\"\n",
        "- 🎯 Cross-Entropy: \"I was 90% sure they'd like it, but they hated it!\"\n",
        "\n*I hope this clarifies the difference beautifully! 🌟*"
      ]
    },
    {
      "cell_type": "markdown",
      "metadata": {},
      "source": [
        "## Quick Reflection"
      ]
    },
    {
      "cell_type": "markdown",
      "metadata": {},
      "source": [
        "**MSE and Cross-Entropy serve different purposes in AI training.**\n",
        "Question: If you're building an AI to predict tomorrow's temperature vs an AI to detect if an email is spam, which loss function would you choose for each? 🌡️📧"
      ]
    }
  ],
  "metadata": {
    "kernelspec": {
      "display_name": "Python 3",
      "language": "python",
      "name": "python3"
    },
    "language_info": {
      "codemirror_mode": {
        "name": "ipython",
        "version": 3
      },
      "file_extension": ".py",
      "mimetype": "text/x-python",
      "name": "python",
      "nbconvert_exporter": "python",
      "version": "3.8"
    }
  },
  "nbformat": 4,
  "nbformat_minor": 5
}