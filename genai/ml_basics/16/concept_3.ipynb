{
  "cells": [
    {
      "cell_type": "markdown",
      "metadata": {},
      "source": [
        "# Understanding Features and Labels in Datasets"
      ]
    },
    {
      "cell_type": "markdown",
      "metadata": {},
      "source": [
        "In this notebook, we'll learn about two important parts of data: features and labels.\n",
        "## Data Structure Overview\n",
        "- **Features:** These are the input variables that describe our data. Think of them as the different attributes or characteristics of each data point.\n",
        "- **Labels:** These are the target outputs we want our model to predict based on the features.\n",
        "- **Rows:** Each row in a dataset represents a single data point or sample.\n",
        "- **Columns:** Each column represents a different attribute or feature."
      ]
    },
    {
      "cell_type": "markdown",
      "metadata": {},
      "source": [
        "## Examples of Features (Input Variables)\n",
        "- House prediction: Size, number of bedrooms, location\n",
        "- Email spam detection: Word frequency, sender, subject\n",
        "- Flower classification: Petal length, petal width, color\n",
        "- Music recommendation: Genre, tempo, artist"
      ]
    },
    {
      "cell_type": "markdown",
      "metadata": {},
      "source": [
        "## Examples of Labels (Output Variables)\n",
        "- House prediction: Price in dollars\n",
        "- Email spam detection: Spam or Not Spam\n",
        "- Flower classification: Species name\n",
        "- Music recommendation: User rating"
      ]
    },
    {
      "cell_type": "markdown",
      "metadata": {},
      "source": [
        "## Dataset Structure Example\n",
        "Let's see how data is organized in a typical dataset:"
      ]
    },
    {
      "cell_type": "code",
      "metadata": {},
      "source": [
        "# Example: House Price Dataset\n",
        "# Features (X)              | Label (y)\n",
        "# Size  Bedrooms  Location  | Price\n",
        "# 1200     3      Downtown  | 400000\n",
        "# 800      2      Suburb    | 250000\n",
        "# 1500     4      Downtown  | 550000"
      ],
      "execution_count": null,
      "outputs": []
    },
    {
      "cell_type": "markdown",
      "metadata": {},
      "source": [
        "## Types of Features\n",
        "- **Numerical:** Age, salary, temperature (these are continuous numbers)\n",
        "- **Categorical:** Color, gender, city (these are categories)\n",
        "- **Ordinal:** Small/Medium/Large (categories with a specific order)\n",
        "- **Text:** Reviews, descriptions (these require special processing before use)"
      ]
    },
    {
      "cell_type": "markdown",
      "metadata": {},
      "source": [
        "## Practice Time\n",
        "Let's think about building a system to predict movie ratings. \n",
        "What features might you use? And what would be the label?\n",
        "![Movie dataset features](images/movie_data.png)"
      ]
    }
  ],
  "metadata": {
    "kernelspec": {
      "display_name": "Python 3",
      "language": "python",
      "name": "python3"
    },
    "language_info": {
      "codemirror_mode": {
        "name": "ipython",
        "version": 3
      },
      "file_extension": ".py",
      "mimetype": "text/x-python",
      "name": "python",
      "nbconvert_exporter": "python",
      "pygments_lexer": "ipython3",
      "version": "3.8"
    }
  },
  "nbformat": 4,
  "nbformat_minor": 5
}