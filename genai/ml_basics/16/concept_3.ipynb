{
  "cells": [
    {
      "cell_type": "markdown",
      "metadata": {},
      "source": [
        "# Features and Labels in Datasets\n",
        "\n",
        "In machine learning, we work with data that has different parts called features and labels. Let's explore what these are!"
      ]
    },
    {
      "cell_type": "markdown",
      "metadata": {},
      "source": [
        "## Features vs Labels\n",
        "\n",
        "- 🎯 **Features (X):** These are the input data that describe something. Think of them as the questions we ask about our data.\n",
        "- 🏷️ **Labels (y):** These are what we want to predict. Think of them as the answers.\n",
        "- 📚 **Think:** Features are like questions, and labels are the answers.\n",
        "- 🔄 The algorithm learns the relationship between features and labels."
      ]
    },
    {
      "cell_type": "markdown",
      "metadata": {},
      "source": [
        "![Features and Labels](images/features_labels.png)\n",
        "\n",
        "*An example table showing house features (size, bedrooms, location) as features and house price as the label.*"
      ]
    },
    {
      "cell_type": "markdown",
      "metadata": {},
      "source": [
        "## House Price Example\n",
        "\n",
        "Let's look at a simple example with some house data:"
      ]
    },
    {
      "cell_type": "code",
      "execution_count": null,
      "metadata": {},
      "outputs": [],
      "source": [
        "# Features (X) - What we know about the house\n",
        "features = [\n",
        "    [1200, 3, 2],  # sq_ft, bedrooms, bathrooms\n",
        "    [1500, 4, 3],\n",
        "    [900, 2, 1]\n",
        "]\n",
        "\n",
        "# Labels (y) - What we want to predict\n",
        "labels = [250000, 350000, 180000]  # house prices"
      ]
    },
    {
      "cell_type": "markdown",
      "metadata": {},
      "source": [
        "## How ML Uses This\n",
        "\n",
        "- 🎯 The algorithm finds patterns: More bedrooms tend to mean a higher price.\n",
        "- 🔍 Bigger size usually means a higher price.\n",
        "- 📊 For a new house with features `[1300, 3, 2]`, a model could predict the price: $275,000.\n",
        "- ✨ The magic is that ML learned the relationship from the data!"
      ]
    },
    {
      "cell_type": "markdown",
      "metadata": {},
      "source": [
        "## Remember This\n",
        "\n",
        "**\"Features are the ingredients, Labels are the recipe outcome - ML learns to cook!\"**\n",
        "\n",
        "🤓 **Question:** In email spam detection, what would be features and what would be the label?"
      ]
    }
  ],
  "metadata": {
    "kernelspec": {
      "display_name": "Python 3",
      "language": "python",
      "name": "python3"
    },
    "language_info": {
      "codemirror_mode": {
        "name": "ipython",
        "version": 3
      },
      "file_extension": ".py",
      "mimetype": "application/x-python-code",
      "name": "python",
      "nbconvert_exporter": "python",
      "pygments_lexer": "ipython3",
      "version": "3.8"
    }
  },
  "nbformat": 4,
  "nbformat_minor": 5
}