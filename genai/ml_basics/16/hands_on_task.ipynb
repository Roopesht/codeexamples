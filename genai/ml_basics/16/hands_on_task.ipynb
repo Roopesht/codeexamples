{
  "cells": [
    {
      "cell_type": "markdown",
      "metadata": {},
      "source": [
        "# Building an Iris Flower Classifier\n",
        "\n",
        "Welcome! In this notebook, we're going to create a simple machine learning model to classify iris flowers into their species. This is a great beginner project to learn how to work with datasets, train models, and evaluate their performance using Python and scikit-learn."
      ]
    },
    {
      "cell_type": "markdown",
      "metadata": {},
      "source": [
        "## 🎯 Project: Iris Flower Classifier\n",
        "\n",
        "**\"Time to create your own flower identification system!\"**\n",
        "\n",
        "- 🎯 Goal: Classify iris flowers into 3 species\n",
        "- ⏱️ Duration: 30 minutes\n",
        "- 🛠️ Tool: Scikit-learn + Python\n",
        "- 📊 Dataset: 150 flowers, 4 features each"
      ]
    },
    {
      "cell_type": "markdown",
      "metadata": {},
      "source": [
        "## 📋 Task Details\n",
        "\n",
        "- 📦 Load the Iris dataset from sklearn\n",
        "- 🔍 Explore data structure and features\n",
        "- ✂️ Split data into training and testing sets\n",
        "- 🎯 Train a classifier of your choice\n",
        "- 📊 Evaluate model performance\n",
        "- 🔮 Make predictions on new data"
      ]
    },
    {
      "cell_type": "markdown",
      "metadata": {},
      "source": [
        "## 🛠️ Step-by-Step Guide\n",
        "\n",
        "1. 🔧 Import necessary libraries\n",
        "2. 📦 Load and explore the Iris dataset\n",
        "3. ✂️ Split data (80% train, 20% test)\n",
        "4. 🎯 Choose algorithm (DecisionTree, RandomForest, or SVM)\n",
        "5. 📚 Train the model\n",
        "6. 📊 Test and evaluate accuracy\n",
        "7. 🔮 Predict new flower species"
      ]
    },
    {
      "cell_type": "markdown",
      "metadata": {},
      "source": [
        "## 📊 Expected Input/Output\n",
        "\n",
        "```python\n",
        "# Input Features (measurements in cm)\n",
        "sample_input = [\n",
        "    [5.1, 3.5, 1.4, 0.2],  # sepal_length, sepal_width, petal_length, petal_width\n",
        "    [6.2, 2.8, 4.8, 1.8],\n",
        "    [7.7, 2.6, 6.9, 2.3]\n",
        "]\n",
        "\n",
        "# Expected Output\n",
        "predictions = ['setosa', 'versicolor', 'virginica']\n",
        "accuracy = 0.95  # 95% accuracy on test set\n",
        "```"
      ]
    },
    {
      "cell_type": "markdown",
      "metadata": {},
      "source": [
        "## 💻 Code Structure\n",
        "\n",
        "```python\n",
        "# Your task template\n",
        "from sklearn import datasets\n",
        "from sklearn.model_selection import train_test_split\n",
        "from sklearn.tree import DecisionTreeClassifier\n",
        "from sklearn.metrics import accuracy_score\n",
        "\n",
        "# Step 1: Load data\n",
        "iris = datasets.load_iris()\n",
        "X, y = iris.data, iris.target\n",
        "\n",
        "# Step 2: Split data\n",
        "X_train, X_test, y_train, y_test = train_test_split(X, y, test_size=0.2, random_state=42)\n",
        "\n",
        "# Step 3: Your code here...\n",
        "# Create model, train, predict, evaluate\n",
        "```\n",
        "\n",
        "[🚀 Open Task in Colab](https://colab.research.google.com/github/Roopesht/codeexamples/blob/main/genai/python_easy/1/iris_classifier_task.ipynb)"
      ]
    },
    {
      "cell_type": "markdown",
      "metadata": {},
      "source": [
        "## 🎉 Success Criteria\n",
        "\n",
        "- ✅ Model trains without errors\n",
        "- 📊 Accuracy above 90% on test set\n",
        "- 🔮 Successfully predicts new flower species\n",
        "- 📈 Understands feature importance\n",
        "\n",
        "**\"You're about to join the ranks of ML practitioners worldwide!\"**"
      ]
    }
  ],
  "metadata": {
    "kernelspec": {
      "name": "python3",
      "display_name": "Python 3"
    },
    "language_info": {
      "name": "python",
      "version": "3.x"
    }
  },
  "nbformat": 4,
  "nbformat_minor": 5
}