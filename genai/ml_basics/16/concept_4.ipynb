{
  "cells": [
    {
      "cell_type": "markdown",
      "metadata": {},
      "source": [
        "# Scikit-Learn Introduction for Beginners"
      ]
    },
    {
      "cell_type": "markdown",
      "metadata": {},
      "source": [
        "## What is Scikit-Learn?\n",
        "\n",
        "Scikit-Learn is a popular Python library for machine learning. It provides easy-to-use tools for data analysis, model training, and prediction. \n",
        "\n",
        "- 🐍 Most popular Python ML library\n",
        "- 🎯 Simple and efficient tools for data mining\n",
        "- 📦 Comes with built-in datasets like Iris, Digits, and Boston Housing\n",
        "- 🚀 Includes ready-to-use algorithms for classification and regression"
      ]
    },
    {
      "cell_type": "markdown",
      "metadata": {},
      "source": [
        "## Scikit-Learn Workflow\n",
        "\n",
        "Let's see the basic steps to build a machine learning model using Scikit-Learn:\n",
        "\n",
        "1. Load the dataset\n",
        "2. Split the dataset into training and testing data\n",
        "3. Create and train a model\n",
        "4. Make predictions on new data"
      ]
    },
    {
      "cell_type": "code",
      "execution_count": null,
      "metadata": {},
      "outputs": [],
      "source": [
        "from sklearn import datasets\n",
        "from sklearn.model_selection import train_test_split\n",
        "from sklearn.ensemble import RandomForestClassifier\n",
        "\n",
        "# 1. Load data\n",
        "iris = datasets.load_iris()\n",
        "X, y = iris.data, iris.target\n",
        "\n",
        "# 2. Split data into training and testing sets\n",
        "X_train, X_test, y_train, y_test = train_test_split(X, y)\n",
        "\n",
        "# 3. Create and train the model\n",
        "model = RandomForestClassifier()\n",
        "model.fit(X_train, y_train)\n",
        "\n",
        "# 4. Make predictions\n",
        "predictions = model.predict(X_test)"
      ]
    },
    {
      "cell_type": "markdown",
      "metadata": {},
      "source": [
        "## Built-in Datasets in Scikit-Learn\n",
        "\n",
        "- 🌸 Iris: Flower classification (150 samples, 4 features)\n",
        "- 🔢 Digits: Handwritten digit recognition (8x8 images)\n",
        "- 🏠 Boston Housing: Price prediction (506 samples)\n",
        "- 🍷 Wine: Wine quality classification (178 samples)"
      ]
    },
    {
      "cell_type": "markdown",
      "metadata": {},
      "source": [
        "## Why Scikit-Learn Rocks\n",
        "\n",
        "“Scikit-Learn is like a full machine learning toolkit – everything you need in one place!”\n",
        "\n",
        "🎨 Question: Are you ready to build your first classifier with the Iris dataset?"
      ]
    }
  ],
  "metadata": {
    "kernelspec": {
      "name": "python3",
      "display_name": "Python 3"
    },
    "language_info": {
      "name": "python",
      "version": "3.x"
    }
  }
}