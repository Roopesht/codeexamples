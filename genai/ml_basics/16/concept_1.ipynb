{
  "cells": [
    {
      "cell_type": "markdown",
      "metadata": {},
      "source": [
        "# Introduction to Machine Learning"
      ]
    },
    {
      "cell_type": "markdown",
      "metadata": {},
      "source": [
        "🎯 Concept 1: What is Machine Learning?"
      ]
    },
    {
      "cell_type": "markdown",
      "metadata": {},
      "source": [
        "### 🧠 What is Machine Learning?"
      ]
    },
    {
      "cell_type": "markdown",
      "metadata": {},
      "source": [
        "- 💡 Teaching computers to learn patterns from data",
        "- 🔄 No explicit programming for every scenario",
        "- 📊 Algorithm finds patterns → Makes predictions",
        "- 🎯 Two main types: Supervised & Unsupervised"
      ]
    },
    {
      "cell_type": "markdown",
      "metadata": {},
      "source": [
        "![Machine learning workflow](images/ml_overview.png)"
      ]
    },
    {
      "cell_type": "markdown",
      "metadata": {},
      "source": [
        "### Supervised vs Unsupervised Learning"
      ]
    },
    {
      "cell_type": "markdown",
      "metadata": {},
      "source": [
        "![Comparison diagram](images/supervised_unsupervised.png)"
      ]
    },
    {
      "cell_type": "markdown",
      "metadata": {},
      "source": [
        "- 📚 Supervised: Learn from labeled examples",
        "- 🔍 Unsupervised: Find hidden patterns",
        "- 🎯 Supervised: Email spam detection",
        "- 🕵️ Unsupervised: Customer segmentation"
      ]
    },
    {
      "cell_type": "markdown",
      "metadata": {},
      "source": [
        "### 🎯 Key Takeaway"
      ]
    },
    {
      "cell_type": "markdown",
      "metadata": {},
      "source": [
        "**\"Machine Learning is like teaching a child to recognize animals - show enough examples, and they'll identify new ones!\"**"
      ]
    },
    {
      "cell_type": "markdown",
      "metadata": {},
      "source": [
        "💭 Question: Can you think of an app on your phone that uses ML?"
      ]
    }
  ],
  "metadata": {
    "kernelspec": {
      "name": "python3",
      "display_name": "Python 3",
      "language": "python"
    },
    "language_info": {
      "name": "python",
      "version": "3.x"
    }
  },
  "nbformat": 4,
  "nbformat_minor": 5
}