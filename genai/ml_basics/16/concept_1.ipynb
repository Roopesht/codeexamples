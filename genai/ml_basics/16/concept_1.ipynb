{
  "cells": [
    {
      "cell_type": "markdown",
      "metadata": {},
      "source": [
        "# Introduction to Machine Learning\n",
        "\n",
        "Welcome to this beginner-friendly introduction to Machine Learning! In this notebook, we'll explore what Machine Learning is, its main types, and how it is used.\n"
      ]
    },
    {
      "cell_type": "markdown",
      "metadata": {},
      "source": [
        "## What is Machine Learning?\n",
        "\n",
        "Machine Learning is about teaching computers to learn patterns from data, so they can make predictions or decisions without being explicitly programmed for each task. It's like giving the computer examples, and it learns to generalize from those examples to new, unseen data.\n"
      ]
    },
    {
      "cell_type": "markdown",
      "metadata": {},
      "source": [
        "- 🧠 Teaching computers to learn patterns from data\n",
        "- 🔍 Making predictions without explicit programming\n",
        "- 📈 Improving performance through experience\n",
        "- 🎯 Two main types: Supervised & Unsupervised\n"
      ]
    },
    {
      "cell_type": "markdown",
      "metadata": {},
      "source": [
        "## Supervised Learning\n",
        "\n",
        "Supervised Learning uses labeled data, meaning each example has an associated output or label. The goal is for the computer to learn to predict these labels for new data.\n"
      ]
    },
    {
      "cell_type": "markdown",
      "metadata": {},
      "source": [
        "![Supervised learning diagram](images/supervised_learning.png)\n",
        "\n",
        "- 📝 Learning from labeled examples\n",
        "- 🎯 Predicting outcomes for new data\n",
        "- 🔢 Classification & Regression tasks\n",
        "- 📊 Examples: Email spam detection, house price prediction\n"
      ]
    },
    {
      "cell_type": "markdown",
      "metadata": {},
      "source": [
        "## Unsupervised Learning\n",
        "\n",
        "Unsupervised Learning involves data that has no labels. The goal is to find hidden patterns or groupings within the data.\n"
      ]
    },
    {
      "cell_type": "markdown",
      "metadata": {},
      "source": [
        "![Unsupervised learning diagram](images/unsupervised_learning.png)\n",
        "\n",
        "- 🔍 Finding hidden patterns in data\n",
        "- 🏷️ No labels or target outcomes\n",
        "- 🎪 Clustering & Dimensionality reduction\n",
        "- 📈 Examples: Customer segmentation, anomaly detection\n"
      ]
    },
    {
      "cell_type": "markdown",
      "metadata": {},
      "source": [
        "## Quick Comparison\n",
        "\n",
        "| Aspect   | Supervised               | Unsupervised           |\n",
        "| -------- | ------------------------ | ---------------------- |\n",
        "| Data     | ✅ Labeled               | ❌ Unlabeled           |\n",
        "| Goal     | 🎯 Predict outcomes      | 🔍 Discover patterns   |\n",
        "| Examples | 📧 Spam detection        | 👥 Customer groups     |\n"
      ]
    },
    {
      "cell_type": "markdown",
      "metadata": {},
      "source": [
        "## Think About It\n",
        "\n",
        "> *\"If you wanted to build a system to automatically tag photos of your friends on social media, would you use supervised or unsupervised learning? Why?\"*\n",
        "\n",
        "![Person thinking about machine learning concepts](images/thinking.png)\n"
      ]
    }
  ],
  "metadata": {
    "kernelspec": {
      "name": "python3",
      "display_name": "Python 3"
    },
    "language_info": {
      "name": "python",
      "version": "3.x"
    }
  },
  "nbformat": 4,
  "nbformat_minor": 0
}