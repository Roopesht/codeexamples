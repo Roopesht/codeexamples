{
  "cells": [
    {
      "cell_type": "markdown",
      "metadata": {},
      "source": [
        "# Hands-on Dataset Loading and Basic Classification with Iris Dataset"
      ]
    },
    {
      "cell_type": "markdown",
      "metadata": {},
      "source": [
        "## 🚀 Let's Get Our Hands Dirty!\n",
        "- 💻 Load the famous Iris dataset\n",
        "- 🔍 Explore features and target variables\n",
        "- 🎯 Train a basic classifier in 5 lines of code\n",
        "- 📊 See your first ML prediction!"
      ]
    },
    {
      "cell_type": "markdown",
      "metadata": {},
      "source": [
        "## 📦 Loading the Iris Dataset"
      ]
    },
    {
      "cell_type": "code",
      "execution_count": null,
      "metadata": {},
      "outputs": [],
      "source": [
        "from sklearn import datasets\n",
        "from sklearn.tree import DecisionTreeClassifier\n",
        "import numpy as np\n",
        "\n",
        "# Load the Iris dataset\n",
        "iris = datasets.load_iris()\n",
        "X = iris.data      # Features: sepal length, sepal width, petal length, petal width\n",
        "y = iris.target    # Labels: 0=setosa, 1=versicolor, 2=virginica\n",
        "\n",
        "print(f\"Dataset shape: {X.shape}\")\n",
        "print(f\"Feature names: {iris.feature_names}\")\n",
        "print(f\"Target names: {iris.target_names}\")"
      ]
    },
    {
      "cell_type": "markdown",
      "metadata": {},
      "source": [
        "## 🎯 Train Your First Classifier"
      ]
    },
    {
      "cell_type": "code",
      "execution_count": null,
      "metadata": {},
      "outputs": [],
      "source": [
        "# Create and train a simple decision tree\n",
        "classifier = DecisionTreeClassifier()\n",
        "classifier.fit(X, y)\n",
        "\n",
        "# Make a prediction on new data\n",
        "new_flower = [[5.1, 3.5, 1.4, 0.2]]  # New flower measurements\n",
        "prediction = classifier.predict(new_flower)\n",
        "predicted_species = iris.target_names[prediction[0]]\n",
        "\n",
        "print(f\"Predicted species: {predicted_species}\")\n",
        "print(f\"Confidence: {classifier.score(X, y):.2f}\")"
      ]
    },
    {
      "cell_type": "markdown",
      "metadata": {},
      "source": [
        "## 📊 Output Results\n",
        "- 📈 Dataset shape: (150, 4)\n",
        "- 🌸 Features: sepal length, sepal width, petal length, petal width\n",
        "- 🏷️ Species: setosa, versicolor, virginica\n",
        "- 🎯 Prediction: \"setosa\"\n",
        "- ✅ Accuracy: 100% (on training data)"
      ]
    },
    {
      "cell_type": "markdown",
      "metadata": {},
      "source": [
        "## 🎉 Congratulations!\n",
        "### **You just built your first ML classifier! In just 5 lines of code, you can now classify flowers!**\n",
        "\n",
        "🚀 Amazing, right? This is just the beginning of your AI journey!"
      ]
    }
  ],
  "metadata": {
    "kernelspec": {
      "display_name": "Python 3",
      "language": "python",
      "name": "python3"
    },
    "language_info": {
      "name": "python",
      "version": "3.8"
    }
  },
  "nbformat": 4,
  "nbformat_minor": 5
}