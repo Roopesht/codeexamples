{
  "cells": [
    {
      "cell_type": "markdown",
      "metadata": {},
      "source": [
        "# Advanced Tools with sklearn\n",
        "\n",
        "In this notebook, we will explore some advanced tools in scikit-learn for model evaluation and metrics.\n",
        "\n",
        "We'll learn how to generate detailed classification reports and perform multiple metrics cross-validation."
      ]
    },
    {
      "cell_type": "markdown",
      "metadata": {},
      "source": [
        "## Classification Report\n",
        "\n",
        "The `classification_report()` function provides detailed metrics like precision, recall, F1-score for each class."
      ]
    },
    {
      "cell_type": "code",
      "execution_count": null,
      "metadata": {},
      "outputs": [],
      "source": [
        "from sklearn.datasets import load_iris\n",
        "from sklearn.model_selection import train_test_split\n",
        "from sklearn.neighbors import KNeighborsClassifier\n",
        "from sklearn.metrics import classification_report\n",
        "\n",
        "# Load the Iris dataset\n",
        "iris = load_iris()\n",
        "X = iris.data\n",
        "y = iris.target\n",
        "\n",
        "# Split into training and testing data\n",
        "X_train, X_test, y_train, y_test = train_test_split(X, y, test_size=0.2, random_state=42)\n",
        "\n",
        "# Train a simple classifier\n",
        "knn = KNeighborsClassifier()\n",
        "knn.fit(X_train, y_train)\n",
        "\n",
        "# Make predictions\n",
        "y_pred = knn.predict(X_test)"
      ]
    },
    {
      "cell_type": "markdown",
      "metadata": {},
      "source": [
        "Let's generate the classification report for our predictions."
      ]
    },
    {
      "cell_type": "code",
      "execution_count": null,
      "metadata": {},
      "outputs": [],
      "source": [
        "print(\"Classification Report:\")\n",
        "print(classification_report(y_test, y_pred, target_names=iris.target_names))"
      ]
    },
    {
      "cell_type": "markdown",
      "metadata": {},
      "source": [
        "## Multiple Metrics Cross-Validation\n",
        "\n",
        "The `cross_validate()` function allows evaluating different metrics using cross-validation, giving you insights into your model's stability and performance."
      ]
    },
    {
      "cell_type": "code",
      "execution_count": null,
      "metadata": {},
      "outputs": [],
      "source": [
        "from sklearn.model_selection import cross_validate\n",
        "\n",
        "# Define multiple scoring metrics\n",
        "scoring = ['accuracy', 'precision_weighted', 'recall_weighted', 'f1_weighted']\n",
        "\n",
        "# Perform cross-validation with multiple metrics\n",
        "cv_results = cross_validate(knn, X, y, cv=5, scoring=scoring)"
      ]
    },
    {
      "cell_type": "markdown",
      "metadata": {},
      "source": [
        "Let's see the results of cross-validation for each metric."
      ]
    },
    {
      "cell_type": "code",
      "execution_count": null,
      "metadata": {},
      "outputs": [],
      "source": [
        "print(\"\\nCross-Validation Results:\")\n",
        "for metric in scoring:\n",
        "    scores = cv_results[f'test_{metric}']\n",
        "    print(f\"{metric}: {scores.mean():.3f} (+/- {scores.std() * 2:.3f})\")"
      ]
    },
    {
      "cell_type": "markdown",
      "metadata": {},
      "source": [
        "## Summary\n",
        "\n",
        "The classification report offers a detailed performance overview for each class.\n",
        "Cross-validation with multiple metrics helps you assess the reliability and consistency of your model's performance across different datasets."
      ]
    }
  ],
  "metadata": {
    "kernelspec": {
      "display_name": "Python 3",
      "language": "python",
      "name": "python3"
    },
    "language_info": {
      "name": "python",
      "version": "3.x"
    }
  },
  "nbformat": 4,
  "nbformat_minor": 5
}