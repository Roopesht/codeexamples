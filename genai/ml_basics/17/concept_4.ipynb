{
  "cells": [
    {
      "cell_type": "markdown",
      "metadata": {},
      "source": [
        "# Introduction to Cross-Validation\n",
        "\n",
        "In this lesson, we will learn about how to evaluate machine learning models more reliably using a technique called cross-validation. This helps us get a better estimate of how well our model is likely to perform on unseen data."
      ]
    },
    {
      "cell_type": "markdown",
      "metadata": {},
      "source": [
        "## Why Cross-Validation?\n",
        "\n",
        "When we test a model using just one train/test split, the results can be misleading if the split was lucky or unlucky. Cross-validation involves multiple splits, which give us a more trustworthy assessment of our model's performance."
      ]
    },
    {
      "cell_type": "markdown",
      "metadata": {},
      "source": [
        "### How does it work?\n",
        "\n",
        "- The data is divided into *K* parts (or folds).\n",
        "- The model trains on K-1 parts and tests on 1 part.\n",
        "- This process repeats K times, each time with a different part as the test set.\n",
        "- The results are then averaged for a more reliable estimate."
      ]
    },
    {
      "cell_type": "markdown",
      "metadata": {},
      "source": [
        "![Visual showing 5-fold cross-validation with data split into 5 parts, each serving as test set once while others are training data. Size 800x500](images/cross_validation_diagram.png)"
      ]
    },
    {
      "cell_type": "markdown",
      "metadata": {},
      "source": [
        "### Example: K-Fold Cross-Validation in Python\n",
        "\n",
        "Let's see how to perform K-Fold cross-validation using scikit-learn."
      ]
    },
    {
      "cell_type": "code",
      "execution_count": null,
      "metadata": {},
      "outputs": [],
      "source": [
        "from sklearn.model_selection import cross_val_score, KFold\n",
        "from sklearn.neighbors import KNeighborsClassifier\n",
        "from sklearn.datasets import load_iris\n",
        "\n",
        "# Load example data\n",
        "X, y = load_iris(return_X_y=True)\n",
        "\n",
        "# Initialize the model\n",
        "knn = KNeighborsClassifier(n_neighbors=3)"
      ]
    },
    {
      "cell_type": "code",
      "execution_count": null,
      "metadata": {},
      "outputs": [],
      "source": [
        "# Set up cross-validation with 5 folds, shuffling data for randomness\n",
        "kfold = KFold(n_splits=5, shuffle=True, random_state=42)\n",
        "\n",
        "# Perform cross-validation to get accuracy scores\n",
        "cv_scores = cross_val_score(knn, X, y, cv=kfold, scoring='accuracy')"
      ]
    },
    {
      "cell_type": "markdown",
      "metadata": {},
      "source": [
        "### Results: Cross-Validation Scores\n"
      ]
    },
    {
      "cell_type": "code",
      "execution_count": null,
      "metadata": {},
      "outputs": [],
      "source": [
        "print(\"Cross-Validation Scores:\")\n",
        "for i, score in enumerate(cv_scores):\n",
        "    print(f\"Fold {i+1}: {score:.3f}\")\n",
        "\n",
        "print(f\"\\nMean CV Score: {cv_scores.mean():.3f}\")\n",
        "print(f\"Standard Deviation: {cv_scores.std():.3f}\")"
      ]
    },
    {
      "cell_type": "markdown",
      "metadata": {},
      "source": [
        "### Interpretation of Results\n",
        "\n",
        "The scores across different folds show how consistent your model's performance is. A higher mean score indicates better overall accuracy, and the lower standard deviation indicates more consistency."
      ]
    },
    {
      "cell_type": "markdown",
      "metadata": {},
      "source": [
        "## Why Cross-Validation Matters\n",
        "\n",
        "Getting multiple opinions (tests) on your model's performance is like asking multiple friends for advice before making a decision. This helps ensure your model's evaluation is reliable."
      ]
    },
    {
      "cell_type": "markdown",
      "metadata": {},
      "source": [
        "### Question:\n",
        "\n",
        "If your CV scores vary wildly (e.g., from 0.5 to 0.9), what might that indicate about your model?\n",
        "\n",
        "*It could suggest that the model is unstable or overfitting. The performance isn't consistent across different data splits.*"
      ]
    }
  ],
  "metadata": {},
  "nbformat": 4,
  "nbformat_minor": 5
}