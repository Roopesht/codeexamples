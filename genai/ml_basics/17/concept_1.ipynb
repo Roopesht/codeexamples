{
  "cells": [
    {
      "cell_type": "markdown",
      "metadata": {},
      "source": [
        "# Train/Test Split & The Need for Evaluation"
      ]
    },
    {
      "cell_type": "markdown",
      "metadata": {},
      "source": [
        "## Why Do We Need a Train/Test Split?"
      ]
    },
    {
      "cell_type": "markdown",
      "metadata": {},
      "source": [
        "- 🧠 **Training data:** Teaches the model patterns",
        "- 🎯 **Test data:** Measures real-world performance",
        "- ⚠️ **Problem:** Overfitting - memorizing vs learning",
        "- ✅ **Solution:** Keep test data \"unseen\" during training",
        "- 📊 **Common split:** 80% train, 20% test"
      ]
    },
    {
      "cell_type": "markdown",
      "metadata": {},
      "source": [
        "![Visual diagram showing dataset being split into training and testing portions, with arrows indicating the flow from raw data to model training to evaluation. Size 800x500](images/train_test_split.png)"
      ]
    },
    {
      "cell_type": "markdown",
      "metadata": {},
      "source": [
        "### 💻 Code Example: Train/Test Split"
      ]
    },
    {
      "cell_type": "code",
      "metadata": {},
      "source": [
        "from sklearn.model_selection import train_test_split",
        "from sklearn.datasets import load_iris",
        "",
        "# Load sample dataset",
        "iris = load_iris()",
        "X, y = iris.data, iris.target",
        "",
        "# Split into train and test sets",
        "X_train, X_test, y_train, y_test = train_test_split(",
        "    X, y, test_size=0.2, random_state=42",
        ")",
        "",
        "print(f\"Training set size: {len(X_train)}\")",
        "print(f\"Test set size: {len(X_test)}\")"
      ],
      "execution_count": null,
      "outputs": []
    },
    {
      "cell_type": "markdown",
      "metadata": {},
      "source": [
        "[🚀 Open in Colab](https://colab.research.google.com/github/Roopesht/codeexamples/blob/main/genai/python_easy/2/concept_1.ipynb)"
      ]
    },
    {
      "cell_type": "markdown",
      "metadata": {},
      "source": [
        "### 📊 Output"
      ]
    },
    {
      "cell_type": "markdown",
      "metadata": {},
      "source": [
        "```",
        "Training set size: 120",
        "Test set size: 30",
        "",
        "Training features shape: (120, 4)",
        "Test features shape: (30, 4)",
        "```"
      ]
    },
    {
      "cell_type": "markdown",
      "metadata": {},
      "source": [
        "## Key Takeaway"
      ]
    },
    {
      "cell_type": "markdown",
      "metadata": {},
      "source": [
        "Always separate your data before training. Think of it like studying for an exam - you need practice questions (train) and a final test (test) to truly measure your knowledge!"
      ]
    },
    {
      "cell_type": "markdown",
      "metadata": {},
      "source": [
        "💭 **Question:** What happens if you accidentally use test data during training?"
      ]
    }
  ],
  "metadata": {},
  "nbformat": 4,
  "nbformat_minor": 5
}