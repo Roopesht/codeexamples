{
  "cells": [
    {
      "cell_type": "markdown",
      "metadata": {},
      "source": [
        "# Confusion Matrix Explained"
      ]
    },
    {
      "cell_type": "markdown",
      "metadata": {},
      "source": [
        "🔍 **Concept 3:** Understanding a Confusion Matrix\n",
        "\n",
        "In machine learning classification tasks, we need a way to see how well our model is performing. One useful tool for this is the **confusion matrix**. It shows us how many predictions were correct and where the model made mistakes."
      ]
    },
    {
      "cell_type": "markdown",
      "metadata": {},
      "source": [
        "## 🔍 Confusion Matrix: The Complete Picture"
      ]
    },
    {
      "cell_type": "markdown",
      "metadata": {},
      "source": [
        "- 📊 Visual representation of model performance",
        "- ✅ **True Positives (TP):** Correctly predicted positive cases",
        "- ❌ **False Positives (FP):** Incorrectly predicted positive cases",
        "- ✅ **True Negatives (TN):** Correctly predicted negative cases",
        "- ❌ **False Negatives (FN):** Incorrectly predicted negative cases"
      ]
    },
    {
      "cell_type": "markdown",
      "metadata": {},
      "source": [
        "![Confusion Matrix Image](images/confusion_matrix_explained.png)"
      ]
    },
    {
      "cell_type": "markdown",
      "metadata": {},
      "source": [
        "## 💻 Code Example: Creating Confusion Matrix"
      ]
    },
    {
      "cell_type": "code",
      "execution_count": null,
      "metadata": {},
      "outputs": [],
      "source": [
        "from sklearn.datasets import load_iris\n",
        "from sklearn.model_selection import train_test_split\n",
        "from sklearn.ensemble import RandomForestClassifier\n",
        "from sklearn.metrics import confusion_matrix\n",
        "import seaborn as sns\n",
        "import matplotlib.pyplot as plt\n",
        "\n",
        "# Load data and split into training and test sets\n",
        "iris = load_iris()\n",
        "X_train, X_test, y_train, y_test = train_test_split(\n",
        "    iris.data, iris.target, test_size=0.2, random_state=42\n",
        ")\n",
        "\n",
        "# Train a simple classifier\n",
        "clf = RandomForestClassifier(random_state=42)\n",
        "clf.fit(X_train, y_train)\n",
        "y_pred = clf.predict(X_test)\n",
        "\n",
        "# Create confusion matrix\n",
        "cm = confusion_matrix(y_test, y_pred)\n",
        "\n",
        "# Visualize with seaborn\n",
        "plt.figure(figsize=(8, 6))\n",
        "sns.heatmap(\n",
        "    cm,\n",
        "    annot=True,\n",
        "    fmt='d',\n",
        "    cmap='Blues',\n",
        "    xticklabels=iris.target_names,\n",
        "    yticklabels=iris.target_names\n",
        ")\n",
        "plt.title('Confusion Matrix')\n",
        "plt.xlabel('Predicted')\n",
        "plt.ylabel('Actual')\n",
        "plt.show()\n",
        "\n",
        "print(\"Confusion Matrix:\")\n",
        "print(cm)"
      ]
    },
    {
      "cell_type": "markdown",
      "metadata": {},
      "source": [
        "## 📊 Output"
      ]
    },
    {
      "cell_type": "markdown",
      "metadata": {},
      "source": [
        "Confusion Matrix:\n",
        "[[10  0  0]\n",
        " [ 0  9  0]\n",
        " [ 0  1 10]]\n",
        "\n",
        "Analysis:\n",
        "- Setosa: 10/10 correct (100% accuracy)\n",
        "- Versicolor: 9/10 correct (90% accuracy)\n",
        "- Virginica: 10/11 correct (91% accuracy)\n",
        "- One Virginica was misclassified as Versicolor"
      ]
    },
    {
      "cell_type": "markdown",
      "metadata": {},
      "source": [
        "## 🎯 Reading the Matrix"
      ]
    },
    {
      "cell_type": "markdown",
      "metadata": {},
      "source": [
        "The diagonal elements of the confusion matrix show the number of correct predictions for each class. The off-diagonal elements indicate misclassifications. This matrix helps us understand exactly which classes are being confused with each other!"
      ]
    },
    {
      "cell_type": "markdown",
      "metadata": {},
      "source": [
        "💭 **Question:** Looking at our matrix, which two flower types are most easily confused?"
      ]
    }
  ],
  "metadata": {
    "kernelspec": {
      "display_name": "Python 3",
      "language": "python",
      "name": "python3"
    },
    "language_info": {
      "name": "python",
      "version": "3.x"
    }
  },
  "nbformat": 4,
  "nbformat_minor": 5
}