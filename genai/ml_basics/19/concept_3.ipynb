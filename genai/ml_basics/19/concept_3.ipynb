{
  "cells": [
    {
      "cell_type": "markdown",
      "metadata": {},
      "source": [
        "# Real-World Stock Price Prediction"
      ]
    },
    {
      "cell_type": "markdown",
      "metadata": {},
      "source": [
        "### 💹 Stock Market Regression Challenge\n",
        "Let's learn how to predict tomorrow's stock price using historical data!"
      ]
    },
    {
      "cell_type": "markdown",
      "metadata": {},
      "source": [
        "![Stock market charts with ML models predicting future prices, arrows showing prediction flow, size 800x500](images/stock_market_prediction.png)"
      ]
    },
    {
      "cell_type": "markdown",
      "metadata": {},
      "source": [
        "### 🎯 The Prediction Battle\n",
        "- **Data:** Historical stock prices (Open, High, Low, Volume)\n",
        "- **Target:** Next day's closing price\n",
        "- **Models:** Linear Regression vs Random Forest\n",
        "- **Winner:** The model with the lowest RMSE and the best R² score"
      ]
    },
    {
      "cell_type": "markdown",
      "metadata": {},
      "source": [
        "### 🔄 The ML Pipeline\n",
        "1. **📥 Data Collection:** Get historical stock data\n",
        "2. **🧹 Data Preparation:** Clean and feature engineer\n",
        "3. **✂️ Train/Test Split:** 80% train, 20% test\n",
        "4. **🏋️ Model Training:** Train both models\n",
        "5. **📊 Performance Comparison:** Compare RMSE and R²\n",
        "6. **🏆 Model Selection:** Pick the winner!"
      ]
    },
    {
      "cell_type": "markdown",
      "metadata": {},
      "source": [
        "### 📂 Stock Prediction Implementation"
      ]
    },
    {
      "cell_type": "code",
      "metadata": {},
      "source": [
        "import yfinance as yf\n",
        "from sklearn.ensemble import RandomForestRegressor\n",
        "from sklearn.linear_model import LinearRegression\n",
        "from sklearn.metrics import mean_squared_error, r2_score\n",
        "import pandas as pd\n",
        "\n",
        "# Get stock data for Apple (AAPL) from Jan 1, 2023 to Jan 1, 2024\n",
        "stock = yf.download('AAPL', start='2023-01-01', end='2024-01-01')\n",
        "\n",
        "# Prepare features: use previous day's data as features\n",
        "X = stock[['Open', 'High', 'Low', 'Volume']].shift(1).dropna()\n",
        "y = stock['Close'][1:]  # Next day's closing price\n",
        "\n",
        "# Split data into training and testing sets\n",
        "split_index = int(len(X) * 0.8)\n",
        "X_train = X[:split_index]\n",
        "X_test = X[split_index:]\n",
        "y_train = y[:split_index]\n",
        "y_test = y[split_index:]\n",
        "\n",
        "# Train a Linear Regression model\n",
        "lr_model = LinearRegression().fit(X_train, y_train)\n",
        "\n",
        "# Train a Random Forest Regressor\n",
        "rf_model = RandomForestRegressor(n_estimators=100, random_state=42).fit(X_train, y_train)\n",
        "\n",
        "# Make predictions\n",
        "lr_predictions = lr_model.predict(X_test)\n",
        "rf_predictions = rf_model.predict(X_test)\n",
        "\n",
        "# Calculate RMSE (Root Mean Squared Error) for both models\n",
        "lr_rmse = mean_squared_error(y_test, lr_predictions, squared=False)\n",
        "rf_rmse = mean_squared_error(y_test, rf_predictions, squared=False)\n",
        "\n",
        "# Calculate R² score for both models\n",
        "lr_r2 = r2_score(y_test, lr_predictions)\n",
        "rf_r2 = r2_score(y_test, rf_predictions)\n",
        "\n",
        "# Display performance\n",
        "print(f\"Linear Regression RMSE: {lr_rmse:.2f}\")\n",
        "print(f\"Random Forest RMSE: {rf_rmse:.2f}\")\n",
        "print(f\"Linear Regression R²: {lr_r2:.2f}\")\n",
        "print(f\"Random Forest R²: {rf_r2:.2f}\")"
      ]
    },
    {
      "cell_type": "markdown",
      "metadata": {},
      "source": [
        "[🚀 Open in Colab](https://colab.research.google.com/github/Roopesht/codeexamples/blob/main/genai/python_easy/stock_prediction.ipynb)"
      ]
    },
    {
      "cell_type": "markdown",
      "metadata": {},
      "source": [
        "### 📈 Stock Prediction Insights\n",
        ">*\"In stock prediction, the best model today might not be the best tomorrow!\"*\n",
        "\n",
        "**💭 Reality Check:** Why might Random Forest perform better than Linear Regression for stock prices?\n",
        "- Random Forest can capture complex, nonlinear patterns in data,\n",
        "- While Linear Regression assumes a straight-line relationship,\n",
        "- Stock prices often follow complex trends that more flexible models can better fit."
      ]
    }
  ],
  "metadata": {},
  "nbformat": 4,
  "nbformat_minor": 5
}