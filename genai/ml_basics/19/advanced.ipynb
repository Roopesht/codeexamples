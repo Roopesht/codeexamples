{
  "cells": [
    {
      "cell_type": "markdown",
      "metadata": {},
      "source": [
        "# Advanced Machine Learning Techniques\n",
        "\n",
        "In this notebook, we'll explore some advanced techniques to improve your machine learning models. These include hyperparameter tuning and ensemble methods. Let's get started!"
      ]
    },
    {
      "cell_type": "markdown",
      "metadata": {},
      "source": [
        "## 🚀 Hyperparameter Tuning & Advanced Techniques\n",
        "\n",
        "Taking your models from good to great!"
      ]
    },
    {
      "cell_type": "markdown",
      "metadata": {},
      "source": [
        "### 🎛️ Hyperparameter Tuning\n",
        "\n",
        "#### Fine-Tuning Your Models"
      ]
    },
    {
      "cell_type": "markdown",
      "metadata": {},
      "source": [
        "- 🔍 **GridSearchCV:** Try all combinations systematically to find the best parameters.\n",
        "- 🎲 **RandomizedSearchCV:** Sample parameters randomly for faster results.\n",
        "- ⚙️ **Key Parameters:** Learning rate, depth, estimators."
      ]
    },
    {
      "cell_type": "markdown",
      "metadata": {},
      "source": [
        "### 🤝 Ensemble Methods\n",
        "\n",
        "#### Team Up Your Models"
      ]
    },
    {
      "cell_type": "markdown",
      "metadata": {},
      "source": [
        "- 🌟 **Gradient Boosting:** Build models sequentially to improve performance.\n",
        "- ⚡ **XGBoost:** An efficient implementation of gradient boosting.\n",
        "- 🎯 **Feature Importance:** Understand which features matter most."
      ]
    },
    {
      "cell_type": "markdown",
      "metadata": {},
      "source": [
        "### Advanced Techniques in Action"
      ]
    },
    {
      "cell_type": "code",
      "execution_count": null,
      "metadata": {},
      "outputs": [],
      "source": [
        "from sklearn.datasets import load_diabetes\n",
        "from sklearn.model_selection import train_test_split, GridSearchCV\n",
        "from xgboost import XGBRegressor\n",
        "\n",
        "# Load dataset\n",
        "data = load_diabetes()\n",
        "X, y = data.data, data.target\n",
        "X_train, X_test, y_train, y_test = train_test_split(X, y, test_size=0.2, random_state=42)\n",
        "\n",
        "# Hyperparameter tuning\n",
        "param_grid = {\n",
        "    'n_estimators': [100, 200, 300],\n",
        "    'max_depth': [3, 5, 7],\n",
        "    'learning_rate': [0.01, 0.1, 0.2]\n",
        "}\n",
        "\n",
        "xgb_model = XGBRegressor()\n",
        "grid_search = GridSearchCV(xgb_model, param_grid, cv=5, scoring='neg_mean_squared_error')\n",
        "grid_search.fit(X_train, y_train)\n",
        "\n",
        "# Best model\n",
        "best_model = grid_search.best_estimator_\n",
        "print(f\"Best parameters: {grid_search.best_params_}\")\n",
        "\n",
        "# Feature importance\n",
        "importance = best_model.feature_importances_\n",
        "print(\"Most important features:\", importance)"
      ]
    },
    {
      "cell_type": "markdown",
      "metadata": {},
      "source": [
        "[🚀 Open in Colab](https://colab.research.google.com/github/Roopesht/codeexamples/blob/main/genai/python_easy/advanced_ml.ipynb)"
      ]
    }
  ],
  "metadata": {
    "kernelspec": {
      "name": "python3",
      "display_name": "Python 3"
    },
    "language_info": {
      "name": "python",
      "version": "3.x"
    }
  }
}