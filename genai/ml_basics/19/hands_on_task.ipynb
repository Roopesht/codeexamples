{
  "cells": [
    {
      "cell_type": "markdown",
      "metadata": {},
      "source": [
        "# Stock Predictor Challenge\n",
        "\n",
        "Welcome to the Stock Predictor Challenge! In this notebook, we'll build a simple yet effective stock price prediction model using Python. You'll learn how to collect stock data, create meaningful features, train and compare different models, and visualize the results. Let's get started!"
      ]
    },
    {
      "cell_type": "markdown",
      "metadata": {},
      "source": [
        "## 🎯 Your Mission\n",
        "\n",
        "- 📊 **Data:** Use real stock data (Apple, Google, or Tesla)\n",
        "- 🤖 **Models:** Compare Linear Regression and Random Forest\n",
        "- 📏 **Validation:** Use RMSE and R² to evaluate\n",
        "- 🔮 **Prediction:** Forecast the next 5 days of prices\n"
      ]
    },
    {
      "cell_type": "markdown",
      "metadata": {},
      "source": [
        "## 📥 Input → 📤 Output\n",
        "\n",
        "Here's what you'll work with:\n",
        "\n",
        "- **Input:** Historical OHLCV data (6 months)\n",
        "- **Process:** Feature engineering + Model training\n",
        "- **Output:** Next 5 days price predictions\n",
        "- **Bonus:** Compute confidence intervals for predictions"
      ]
    },
    {
      "cell_type": "markdown",
      "metadata": {},
      "source": [
        "## 🪜 Step-by-Step Guide\n",
        "\n",
        "1. **📡 Data Collection:** Download stock data using yfinance\n",
        "2. **🔧 Feature Engineering:** Create moving averages, price ratios\n",
        "3. **✂️ Data Split:** 80% training, 20% testing\n",
        "4. **🏋️ Model Training:** Train Linear Regression and Random Forest\n",
        "5. **⚖️ Model Comparison:** Calculate RMSE and R² for both\n",
        "6. **🏆 Winner Selection:** Pick the best model\n",
        "7. **🔮 Future Prediction:** Predict next 5 days\n",
        "8. **📊 Visualization:** Plot actual vs predicted prices\n"
      ]
    },
    {
      "cell_type": "markdown",
      "metadata": {},
      "source": [
        "## Your Code Structure\n",
        "\n",
        "```python\n",
        "# Stock Predictor Challenge - Your Template\n",
        "import yfinance as yf\n",
        "import pandas as pd\n",
        "import numpy as np\n",
        "from sklearn.model_selection import train_test_split\n",
        "from sklearn.linear_model import LinearRegression\n",
        "from sklearn.ensemble import RandomForestRegressor\n",
        "from sklearn.metrics import mean_squared_error, r2_score\n",
        "import matplotlib.pyplot as plt\n",
        "\n",
        "# Step 1: Data Collection\n",
        "def get_stock_data(symbol, period=\"6mo\"):\n",
        "    # Your code here\n",
        "    pass\n",
        "\n",
        "# Step 2: Feature Engineering  \n",
        "def create_features(data):\n",
        "    # Your code here\n",
        "    pass\n",
        "\n",
        "# Step 3: Model Training & Comparison\n",
        "def compare_models(X_train, X_test, y_train, y_test):\n",
        "    # Your code here\n",
        "    pass\n",
        "\n",
        "# Step 4: Future Predictions\n",
        "def predict_future(model, last_data, days=5):\n",
        "    # Your code here\n",
        "    pass\n",
        "\n",
        "# Main execution\n",
        "if __name__ == \"__main__\":\n",
        "    # Your workflow here\n",
        "    pass\n",
        "```",
        "\n",
        "<a href=\"https://colab.research.google.com/github/Roopesht/codeexamples/blob/main/genai/python_easy/stock_predictor_challenge.ipynb\" target=\"_blank\" class=\"colab-button\">\n",
        "  🚀 Complete Challenge in Colab\n",
        "</a>"
      ]
    },
    {
      "cell_type": "markdown",
      "metadata": {},
      "source": [
        "## 🎯 Success Criteria\n",
        "\n",
        "### What Makes a Great Solution?\n",
        "\n",
        "- ✅ **Working Code:** Both models trained and compared\n",
        "- 📊 **Clear Results:** RMSE and R² reported for both models\n",
        "- 🎨 **Good Visualization:** Plots showing actual vs predicted\n",
        "- 🧠 **Insights:** Explanation of which model won and why\n",
        "- 🚀 **Bonus:** Feature importance analysis\n",
        "\n",
        "### Remember:\n",
        "\n",
        "_\"A good data scientist explains not just what happened, but why it happened!\"_"
      ]
    }
  ],
  "metadata": {},
  "nbformat": 4,
  "nbformat_minor": 5
}