{
  "cells": [
    {
      "cell_type": "markdown",
      "metadata": {},
      "source": [
        "# Regression vs Classification\n",
        "\n",
        "Understanding the difference between regression and classification is fundamental in machine learning. In this notebook, we'll explore these concepts with simple explanations and examples."
      ]
    },
    {
      "cell_type": "markdown",
      "metadata": {},
      "source": [
        "## 🎯 Regression vs Classification\n",
        "\n",
        "Let's look at two types of prediction tasks:\n",
        "\n",
        "- **Regression:** Predicts continuous numbers.\n",
        "- **Classification:** Predicts discrete categories.\n",
        "\n",
        "This diagram illustrates the main difference:\n",
        "\n",
        "![Regression vs Classification](images/regression_vs_classification.png)"
      ]
    },
    {
      "cell_type": "markdown",
      "metadata": {},
      "source": [
        "## 📈 Regression: Predicting Numbers\n",
        "\n",
        "Regression models predict continuous values. Here are some real-world examples:"
      ]
    },
    {
      "cell_type": "markdown",
      "metadata": {},
      "source": [
        "- 🏠 **House Prices:** e.g., $250,000, $320,000, $180,000\n",
        "- 🌡️ **Temperature:** e.g., 23.5°C, 31.2°C, 18.7°C\n",
        "- 💹 **Stock Prices:** e.g., $142.85, $156.23, $139.47"
      ]
    },
    {
      "cell_type": "markdown",
      "metadata": {},
      "source": [
        "**Key:** The output is a *continuous range* of values!"
      ]
    },
    {
      "cell_type": "markdown",
      "metadata": {},
      "source": [
        "## 🏷️ Classification: Predicting Categories\n",
        "\n",
        "Classification models predict categories or labels. Here are some real-world examples:"
      ]
    },
    {
      "cell_type": "markdown",
      "metadata": {},
      "source": [
        "- 📧 **Email:** Spam or Not Spam\n",
        "- ✋ **Handwriting:** Digits 0, 1, 2, ... 9\n",
        "- 😊 **Sentiment:** Positive, Negative, Neutral"
      ]
    },
    {
      "cell_type": "markdown",
      "metadata": {},
      "source": [
        "**Key:** The output is a *discrete label* or category!"
      ]
    },
    {
      "cell_type": "markdown",
      "metadata": {},
      "source": [
        "## 🔍 How They Actually Work\n",
        "\n",
        "Regression and classification optimize different goals:"
      ]
    },
    {
      "cell_type": "markdown",
      "metadata": {},
      "source": [
        "![Optimization Goals](images/optimization_goals.png)"
      ]
    },
    {
      "cell_type": "markdown",
      "metadata": {},
      "source": [
        "- 📈 **Regression:** Minimizes numerical error (e.g., MSE)\n",
        "- 🎯 **Classification:** Maximizes correct labels\n",
        "- 🔧 Different algorithms and evaluation metrics are used for each."
      ]
    },
    {
      "cell_type": "markdown",
      "metadata": {},
      "source": [
        "## Quick Code Comparison\n",
        "\n",
        "Here's a simple example comparing regression and classification in code:"
      ]
    },
    {
      "cell_type": "code",
      "metadata": {},
      "execution_count": null,
      "outputs": [],
      "source": [
        "# Regression Example\n",
        "from sklearn.linear_model import LinearRegression\n",
        "model = LinearRegression()\n",
        "model.fit(X_train, y_train)  # y_train = [150000, 200000, 180000...]\n",
        "predictions = model.predict(X_test)  # Output: [175000.5, 220000.8...]\n",
        "\n",
        "# Classification Example\n",
        "from sklearn.linear_model import LogisticRegression\n",
        "clf = LogisticRegression()\n",
        "clf.fit(X_train, y_train)  # y_train = ['spam', 'not_spam', 'spam'...]\n",
        "predictions = clf.predict(X_test)  # Output: ['spam', 'not_spam'...]"
      ]
    },
    {
      "cell_type": "markdown",
      "metadata": {},
      "source": [
        "[🚀 Open in Colab](https://colab.research.google.com/github/Roopesht/codeexamples/blob/main/genai/python_easy/regression_vs_classification.ipynb)"
      ]
    },
    {
      "cell_type": "markdown",
      "metadata": {},
      "source": [
        "## 🎯 Key Takeaway\n",
        "\n",
        "> \"Regression outputs numbers you can measure,\n",
        "> Classification outputs categories you can count!\""
      ]
    },
    {
      "cell_type": "markdown",
      "metadata": {},
      "source": [
        "### 💭 Think About It:\n",
        "\n",
        "- Is predicting a customer's age regression or classification?\n",
        "- What about predicting if they'll buy a product?"
      ]
    }
  ],
  "metadata": {
    "kernelspec": {
      "display_name": "Python 3",
      "language": "python",
      "name": "python3"
    },
    "language_info": {
      "name": "python",
      "version": "3.8",
      "mimetype": "text/x-python",
      "codemirror_mode": {
        "name": "ipython",
        "version": 3
      },
      "pygments_lexer": "ipython3",
      "nbconvert_exporter": "python",
      "file_extension": ".py"
    }
  },
  "nbformat": 4,
  "nbformat_minor": 5
}