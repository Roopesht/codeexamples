{
  "cells": [
    {
      "cell_type": "markdown",
      "metadata": {},
      "source": [
        "# Mini Machine Learning Project\n",
        "\n",
        "In this notebook, we will build a simple machine learning project from start to finish. \n",
        "We'll go through loading data, exploring it, cleaning, preparing, training models, evaluating, and finally drawing conclusions.\n",
        "\n",
        "Let's get started!"
      ]
    },
    {
      "cell_type": "markdown",
      "metadata": {},
      "source": [
        "## 1. Load Data\n",
        "\n",
        "First, we load our dataset. For this example, you can choose any dataset you are interested in. \n",
        "Here, we'll just create a small sample dataset as an example."
      ]
    },
    {
      "cell_type": "code",
      "execution_count": null,
      "metadata": {},
      "outputs": [],
      "source": [
        "import pandas as pd\n",
        "\n",
        "# Sample dataset: Titanic data with a few features\n",
        "data = {\n",
        "    'Age': [22, 38, 26, 35, 28],\n",
        "    'Sex': ['male', 'female', 'female', 'male', 'male'],\n",
        "    'Pclass': [3, 1, 3, 1, 3],\n",
        "    'Fare': [7.25, 71.2833, 7.925, 53.1, 8.05],\n",
        "    'Survived': [0, 1, 1, 1, 0]\n",
        "}\n",
        "df = pd.DataFrame(data)\n",
        "df.head()"
      ]
    },
    {
      "cell_type": "markdown",
      "metadata": {},
      "source": [
        "## 2. Explore Data\n",
        "\n",
        "Let's understand the structure of our data. We'll check basic statistics and see the distribution of features."
      ]
    },
    {
      "cell_type": "code",
      "execution_count": null,
      "metadata": {},
      "outputs": [],
      "source": [
        "# Check basic info\n",
        "df.info()"
      ]
    },
    {
      "cell_type": "code",
      "execution_count": null,
      "metadata": {},
      "outputs": [],
      "source": [
        "# Summary statistics\n",
        "df.describe()"
      ]
    },
    {
      "cell_type": "markdown",
      "metadata": {},
      "source": [
        "## 3. Clean Data\n",
        "\n",
        "Handle missing values if any and prepare data for modeling.\n",
        "In this example, our dataset is complete, but typically you'd check and handle missing data."
      ]
    },
    {
      "cell_type": "code",
      "execution_count": null,
      "metadata": {},
      "outputs": [],
      "source": [
        "# Check for missing values\n",
        "df.isnull().sum()"
      ]
    },
    {
      "cell_type": "markdown",
      "metadata": {},
      "source": [
        "Since there are no missing values in this small sample, we proceed.\n",
        "In real datasets, you might fill missing values or drop rows as needed."
      ]
    },
    {
      "cell_type": "markdown",
      "metadata": {},
      "source": [
        "## 4. Prepare Data\n",
        "\n",
        "Before training, we need to encode categorical variables and split the data into features and labels."
      ]
    },
    {
      "cell_type": "code",
      "execution_count": null,
      "metadata": {},
      "outputs": [],
      "source": [
        "from sklearn.model_selection import train_test_split\n",
        "from sklearn.preprocessing import LabelEncoder\n",
        "\n",
        "# Encode 'Sex' feature\n",
        "le = LabelEncoder()\n",
        "df['Sex_encoded'] = le.fit_transform(df['Sex'])\n",
        "\n",
        "# Define features and target\n",
        "X = df[['Age', 'Sex_encoded', 'Pclass', 'Fare']]\n",
        "y = df['Survived']\n",
        "\n",
        "# Split data into train and test sets\n",
        "X_train, X_test, y_train, y_test = train_test_split(\n",
        "    X, y, test_size=0.2, random_state=42\n",
        ")"
      ]
    },
    {
      "cell_type": "markdown",
      "metadata": {},
      "source": [
        "## 5. Train Models\n",
        "\n",
        "Let's train two different models: Logistic Regression and Random Forest."
      ]
    },
    {
      "cell_type": "code",
      "execution_count": null,
      "metadata": {},
      "outputs": [],
      "source": [
        "from sklearn.linear_model import LogisticRegression\n",
        "from sklearn.ensemble import RandomForestClassifier\n",
        "\n",
        "# Initialize models\n",
        "lr_model = LogisticRegression()\n",
        "rf_model = RandomForestClassifier()\n",
        "\n",
        "# Train models\n",
        "lr_model.fit(X_train, y_train)\n",
        "rf_model.fit(X_train, y_train)"
      ]
    },
    {
      "cell_type": "markdown",
      "metadata": {},
      "source": [
        "## 6. Evaluate Models\n",
        "\n",
        "Now, let's evaluate how well our models perform on the test set."
      ]
    },
    {
      "cell_type": "code",
      "execution_count": null,
      "metadata": {},
      "outputs": [],
      "source": [
        "from sklearn.metrics import accuracy_score, classification_report\n",
        "\n",
        "# Predictions\n",
        "lr_preds = lr_model.predict(X_test)\n",
        "rf_preds = rf_model.predict(X_test)\n",
        "\n",
        "# Accuracy scores\n",
        "lr_accuracy = accuracy_score(y_test, lr_preds)\n",
        "rf_accuracy = accuracy_score(y_test, rf_preds)\n",
        "\n",
        "# Classification reports\n",
        "lr_report = classification_report(y_test, lr_preds)\n",
        "rf_report = classification_report(y_test, rf_preds)\n",
        "\n",
        "print(\"Logistic Regression Accuracy:\", lr_accuracy)\n",
        "print(\"Random Forest Accuracy:\", rf_accuracy)\n",
        "\n",
        "print(\"\\nLogistic Regression Report:\\n\", lr_report)\n",
        "print(\"\\nRandom Forest Report:\\n\", rf_report)"
      ]
    },
    {
      "cell_type": "markdown",
      "metadata": {},
      "source": [
        "## 7. Conclusions\n",
        "\n",
        "Based on the evaluation, you can compare the models and decide which one performs better. \n",
        "Further improvements could include tuning hyperparameters, engineering new features, or trying more advanced algorithms.\n",
        "\n",
        "Remember, the goal is to learn and improve, so experiment and enjoy the process!"
      ]
    }
  ],
  "metadata": {
    "kernelspec": {
      "display_name": "Python 3",
      "language": "python",
      "name": "python3"
    },
    "language_info": {
      "codemirror_mode": {
        "name": "ipython",
        "version": 3
      },
      "file_extension": ".py",
      "mimetype": "text/x-python",
      "name": "python",
      "nbconvert_exporter": "python",
      "version": "3.8"
    }
  },
  "nbformat": 4,
  "nbformat_minor": 5
}