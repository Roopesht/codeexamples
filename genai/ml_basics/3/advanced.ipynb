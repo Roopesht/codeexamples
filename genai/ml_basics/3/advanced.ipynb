{
  "cells": [
    {
      "cell_type": "markdown",
      "metadata": {},
      "source": [
        "# Model Complexity Tuning\n",
        "\n",
        "In this notebook, we'll learn how to tune the complexity of machine learning models to improve their performance. Fine-tuning model parameters helps us find the best balance between underfitting and overfitting."
      ]
    },
    {
      "cell_type": "markdown",
      "metadata": {},
      "source": [
        "## 🚀 Hands-on: Model Complexity Tuning\n",
        "\n",
        "Let's get our hands dirty with real model tuning! The following diagram illustrates how changing model complexity impacts performance."
      ]
    },
    {
      "cell_type": "markdown",
      "metadata": {},
      "source": [
        "![Interactive dashboard showing model complexity adjustment with real-time performance metrics](images/model_tuning.png)\n",
        "\n",
        "_\"Time to get your hands dirty with real model tuning!\"_"
      ]
    },
    {
      "cell_type": "markdown",
      "metadata": {},
      "source": [
        "## 🎛️ Key Complexity Parameters\n",
        "\n",
        "Different models have parameters that control their complexity. Adjusting these helps us find the best model for our data.\n",
        "\n",
        "- **Decision Trees:** `max_depth`, `min_samples_split`\n",
        "- **Random Forest:** `n_estimators`, `max_depth`\n",
        "- **KNN:** `n_neighbors`\n",
        "- **Neural Networks:** `hidden_layer_sizes`, `alpha`"
      ]
    },
    {
      "cell_type": "markdown",
      "metadata": {},
      "source": [
        "## 📊 Systematic Tuning Strategy\n",
        "\n",
        "To find the best model complexity:\n",
        "1. **Start Simple:** Use low complexity parameters.\n",
        "2. **Gradually Increase:** Increase complexity step by step.\n",
        "3. **Monitor Both:** Track training and validation performance.\n",
        "4. **Find Sweet Spot:** Look for the point where the model performs best on validation data."
      ]
    },
    {
      "cell_type": "markdown",
      "metadata": {},
      "source": [
        "## 💻 Interactive Complexity Tuning\n",
        "\n",
        "Let's see how changing the `max_depth` of a decision tree affects its performance using validation curves."
      ]
    },
    {
      "cell_type": "code",
      "metadata": {},
      "source": [
        "import numpy as np\n",
        "import matplotlib.pyplot as plt\n",
        "from sklearn.tree import DecisionTreeRegressor\n",
        "from sklearn.model_selection import validation_curve\n",
        "\n",
        "# Create a regression dataset for demonstration\n",
        "from sklearn.datasets import make_regression\n",
        "X, y = make_regression(n_samples=200, n_features=1, noise=0.1, random_state=42)\n",
        "\n",
        "# Generate range of max_depth values\n",
        "param_range = np.arange(1, 21)\n",
        "\n",
        "# Calculate training and validation scores for each max_depth\n",
        "train_scores, val_scores = validation_curve(\n",
        "    DecisionTreeRegressor(random_state=42),\n",
        "    X, y,\n",
        "    param_name='max_depth',\n",
        "    param_range=param_range,\n",
        "    cv=5,\n",
        "    scoring='neg_mean_squared_error'\n",
        ")\n",
        "\n",
        "# Convert scores to positive errors\n",
        "train_errors = -train_scores.mean(axis=1)\n",
        "val_errors = -val_scores.mean(axis=1)\n",
        "\n",
        "# Plot validation curve\n",
        "plt.figure(figsize=(10, 6))\n",
        "plt.plot(param_range, train_errors, 'b-', label='Training Error')\n",
        "plt.plot(param_range, val_errors, 'r-', label='Validation Error')\n",
        "plt.xlabel('Model Complexity (max_depth)')\n",
        "plt.ylabel('Mean Squared Error')\n",
        "plt.legend()\n",
        "plt.title('Validation Curve: Finding Optimal Complexity')\n",
        "plt.grid(True)\n",
        "plt.show()\n",
        "\n",
        "# Find optimal max_depth\n",
        "optimal_depth = param_range[np.argmin(val_errors)]\n",
        "print(f\"Optimal max_depth: {optimal_depth}\")"
      ],
      "execution_count": null,
      "outputs": []
    },
    {
      "cell_type": "markdown",
      "metadata": {},
      "source": [
        "## 🎯 Key Insight\n",
        "\n",
        "_\"The best model complexity is found through systematic experimentation, not guesswork!\"_"
      ]
    }
  ],
  "metadata": {
    "kernelspec": {
      "name": "python3",
      "display_name": "Python 3"
    },
    "language_info": {
      "name": "python",
      "version": "3.x"
    }
  },
  "nbformat": 4,
  "nbformat_minor": 5
}