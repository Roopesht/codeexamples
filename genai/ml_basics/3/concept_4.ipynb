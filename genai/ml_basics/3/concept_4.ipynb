{
  "cells": [
    {
      "cell_type": "markdown",
      "metadata": {},
      "source": [
        "# Introduction to Regularization"
      ]
    },
    {
      "cell_type": "markdown",
      "metadata": {},
      "source": [
        "🛡️ Regularization: Your Model's Personal Trainer"
      ]
    },
    {
      "cell_type": "markdown",
      "metadata": {},
      "source": [
        "![Cartoon showing a model as a person doing exercises while a trainer (regularization) keeps them disciplined. Size 800x600](images/regularization_metaphor.png)"
      ]
    },
    {
      "cell_type": "markdown",
      "metadata": {},
      "source": [
        "_Just like a personal trainer prevents you from overdoing it, regularization prevents your model from overfitting!_"
      ]
    },
    {
      "cell_type": "markdown",
      "metadata": {},
      "source": [
        "### 🎯 What is Regularization?"
      ]
    },
    {
      "cell_type": "markdown",
      "metadata": {},
      "source": [
        "- **Purpose:** Add a \"penalty\" to prevent overfitting",
        "- **Mechanism:** Constrains model complexity during training",
        "- **Result:** Better generalization to new data",
        "- **Trade-off:** Slight increase in bias, significant decrease in variance"
      ]
    },
    {
      "cell_type": "markdown",
      "metadata": {},
      "source": [
        "### 🔍 Types of Regularization (Simple Overview)"
      ]
    },
    {
      "cell_type": "markdown",
      "metadata": {},
      "source": [
        "![Visual comparison showing L1 regularization creating sparse features vs L2 regularization smoothing coefficients. Size 800x500](images/l1_l2_comparison.png)"
      ]
    },
    {
      "cell_type": "markdown",
      "metadata": {},
      "source": [
        "- **L1 (Lasso):** Makes some features exactly zero (feature selection)",
        "- **L2 (Ridge):** Shrinks all features toward zero (smoothing)",
        "- **When to use:** L1 for feature selection, L2 for general smoothing"
      ]
    },
    {
      "cell_type": "markdown",
      "metadata": {},
      "source": [
        "### 🛠️ Practical Regularization Examples"
      ]
    },
    {
      "cell_type": "markdown",
      "metadata": {},
      "source": [
        "- **Decision Trees:** Limit depth, minimum samples per leaf",
        "- **Neural Networks:** Dropout, weight decay",
        "- **Linear Models:** L1/L2 penalties",
        "- **Random Forests:** Limit number of features per split"
      ]
    },
    {
      "cell_type": "markdown",
      "metadata": {},
      "source": [
        "### 💻 Code Example: Regularization in Action"
      ]
    },
    {
      "cell_type": "code",
      "execution_count": null,
      "metadata": {},
      "outputs": [],
      "source": [
        "from sklearn.linear_model import Ridge, Lasso",
        "from sklearn.model_selection import validation_curve",
        "",
        "# Assume X and y are predefined feature matrix and target vector",
        "alphas = [0.1, 1.0, 10.0, 100.0]  # Regularization strength",
        "",
        "# Ridge Regression (L2)",
        "ridge_train_scores, ridge_val_scores = validation_curve(",
        "    Ridge(), X, y, param_name='alpha', param_range=alphas, cv=5",
        ")",
        "",
        "# Lasso Regression (L1)",
        "lasso_train_scores, lasso_val_scores = validation_curve(",
        "    Lasso(), X, y, param_name='alpha', param_range=alphas, cv=5",
        ")",
        "",
        "# Plot results to see optimal regularization strength",
        "import matplotlib.pyplot as plt",
        "plt.plot(alphas, ridge_val_scores.mean(axis=1), 'o-', label='Ridge')",
        "plt.plot(alphas, lasso_val_scores.mean(axis=1), 's-', label='Lasso')",
        "plt.xlabel('Regularization Strength')",
        "plt.ylabel('Validation Score')",
        "plt.legend()"
      ]
    },
    {
      "cell_type": "markdown",
      "metadata": {},
      "source": [
        "🚀 [Open in Colab](https://colab.research.google.com/github/Roopesht/codeexamples/blob/main/genai/python_easy/3/regularization_demo.ipynb)"
      ]
    },
    {
      "cell_type": "markdown",
      "metadata": {},
      "source": [
        "### 🎯 Regularization: Key Points"
      ]
    },
    {
      "cell_type": "markdown",
      "metadata": {},
      "source": [
        "- **Purpose:** Prevent overfitting, improve generalization",
        "- **Trade-off:** Slight bias increase for major variance decrease",
        "- **Tuning:** Use validation curves to find optimal strength",
        "- **Universal:** Almost all modern ML algorithms have regularization options"
      ]
    },
    {
      "cell_type": "markdown",
      "metadata": {},
      "source": [
        "_Question: If your model is overfitting, would you increase or decrease regularization strength?_"
      ]
    }
  ],
  "metadata": {
    "kernelspec": {
      "display_name": "Python 3",
      "language": "python",
      "name": "python3"
    },
    "language_info": {
      "name": "python",
      "version": "3.x"
    }
  },
  "nbformat": 4,
  "nbformat_minor": 5
}