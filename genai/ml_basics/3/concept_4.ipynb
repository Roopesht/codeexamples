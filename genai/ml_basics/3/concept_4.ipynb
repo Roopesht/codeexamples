{
  "cells": [
    {
      "cell_type": "markdown",
      "metadata": {},
      "source": [
        "# Introduction to Regularization\n",
        "\n",
        "Regularization helps prevent your machine learning models from becoming too complex or overfitting the training data. We've visualized it as adding constraints that act like brakes, keeping the model in check!"
      ]
    },
    {
      "cell_type": "markdown",
      "metadata": {},
      "source": [
        "![Diagram showing how regularization acts like a brake on model complexity, preventing overfitting. Size 800x600](images/regularization_concept.png)\n",
        "\n",
        "_\"Adding constraints to prevent your model from getting too fancy!\"_"
      ]
    },
    {
      "cell_type": "markdown",
      "metadata": {},
      "source": [
        "## Why Regularization?\n",
        "\n",
        "- **Prevents Overfitting:** Adds penalty for model complexity\n",
        "- **Implements Generalization:** Forces the model to focus on important patterns\n",
        "- **Reduces Variance:** Makes the model more stable\n",
        "- **Feature Selection:** Can automatically remove irrelevant features"
      ]
    },
    {
      "cell_type": "markdown",
      "metadata": {},
      "source": [
        "## L1 Regularization (Lasso)\n",
        "\n",
        "- **What it does:** Adds penalty based on the absolute values of coefficients\n",
        "- **Effect:** Can make some coefficients exactly zero\n",
        "- **Benefit:** Automatic feature selection\n",
        "- **Use case:** When you have many features and want to select the most important ones"
      ]
    },
    {
      "cell_type": "markdown",
      "metadata": {},
      "source": [
        "## L2 Regularization (Ridge)\n",
        "\n",
        "- **What it does:** Adds penalty based on the squared values of coefficients\n",
        "- **Effect:** Shrinks coefficients toward zero but doesn't eliminate them\n",
        "- **Benefit:** Reduces overfitting while keeping all features\n",
        "- **Use case:** When all features are potentially relevant"
      ]
    },
    {
      "cell_type": "markdown",
      "metadata": {},
      "source": [
        "## Regularization in Practice\n",
        "\n",
        "Here is an example of how you can use regularization techniques with scikit-learn:\n"
      ]
    },
    {
      "cell_type": "code",
      "execution_count": null,
      "metadata": {},
      "outputs": [],
      "source": [
        "from sklearn.linear_model import Ridge, Lasso, LinearRegression\n",
        "from sklearn.model_selection import train_test_split\n",
        "from sklearn.preprocessing import StandardScaler\n",
        "\n",
        "# Assuming X and y are your features and target variables\n",
        "# Prepare data\n",
        "X_train, X_test, y_train, y_test = train_test_split(X, y, test_size=0.2, random_state=42)\n",
        "\n",
        "# Scale features (important for regularization)\n",
        "scaler = StandardScaler()\n",
        "X_train_scaled = scaler.fit_transform(X_train)\n",
        "X_test_scaled = scaler.transform(X_test)\n",
        "\n",
        "# Compare models\n",
        "models = {\n",
        "    'Linear': LinearRegression(),\n",
        "    'Ridge': Ridge(alpha=1.0),\n",
        "    'Lasso': Lasso(alpha=0.1)\n",
        "}\n",
        "\n",
        "for name, model in models.items():\n",
        "    model.fit(X_train_scaled, y_train)\n",
        "    train_score = model.score(X_train_scaled, y_train)\n",
        "    test_score = model.score(X_test_scaled, y_test)\n",
        "    \n",
        "    print(f\"{name}: Train Score = {train_score:.4f}, Test Score = {test_score:.4f}\")\n",
        "    \n",
        "    # Count non-zero coefficients for Lasso\n",
        "    if name == 'Lasso':\n",
        "        import numpy as np\n",
        "        non_zero = np.sum(np.abs(model.coef_) > 1e-5)\n",
        "        print(f\"  Features selected: {non_zero}\")"
      ]
    },
    {
      "cell_type": "markdown",
      "metadata": {},
      "source": [
        "[🚀 Open in Colab](https://colab.research.google.com/github/Roopesht/codeexamples/blob/main/genai/python_easy/3/regularization.ipynb)"
      ]
    },
    {
      "cell_type": "markdown",
      "metadata": {},
      "source": [
        "## Key Takeaway\n",
        "\n",
        "_\"Regularization is like a wise teacher - it prevents your model from memorizing and encourages true learning!\"_\n",
        "\n",
        "### Question:\n",
        "**When would you choose L1 over L2 regularization?**"
      ]
    }
  ],
  "metadata": {
    "language_info": {
      "name": "python",
      "version": "3.x"
    }
  },
  "nbformat": 4,
  "nbformat_minor": 5
}