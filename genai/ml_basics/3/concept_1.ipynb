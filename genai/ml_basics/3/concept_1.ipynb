{
  "cells": [
    {
      "cell_type": "markdown",
      "metadata": {},
      "source": [
        "# Understanding Bias & Variance"
      ]
    },
    {
      "cell_type": "markdown",
      "metadata": {},
      "source": [
        "🎯 Concept 1: Understanding Bias & Variance"
      ]
    },
    {
      "cell_type": "markdown",
      "metadata": {},
      "source": [
        "### 🎯 What is Bias and Variance?"
      ]
    },
    {
      "cell_type": "markdown",
      "metadata": {},
      "source": [
        "![Bias and Variance Target](images/bias_variance_target.png)\n",
        "_\"Think of it like throwing darts at a target!\"_"
      ]
    },
    {
      "cell_type": "markdown",
      "metadata": {},
      "source": [
        "### 🎯 Understanding Bias"
      ]
    },
    {
      "cell_type": "markdown",
      "metadata": {},
      "source": [
        "- **Definition:** How far your model's predictions are from the true values\n",
        "- **High Bias:** Model is too simple, misses important patterns\n",
        "- **Low Bias:** Model captures the true relationship well\n",
        "- **Example:** Using a straight line to fit a curved relationship"
      ]
    },
    {
      "cell_type": "markdown",
      "metadata": {},
      "source": [
        "### 📊 Understanding Variance"
      ]
    },
    {
      "cell_type": "markdown",
      "metadata": {},
      "source": [
        "- **Definition:** How much your model's predictions change with different training data\n",
        "- **High Variance:** Model is too sensitive to training data\n",
        "- **Low Variance:** Model gives consistent predictions\n",
        "- **Example:** A complex model that memorizes training examples"
      ]
    },
    {
      "cell_type": "markdown",
      "metadata": {},
      "source": [
        "### ⚖️ The Bias-Variance Tradeoff"
      ]
    },
    {
      "cell_type": "markdown",
      "metadata": {},
      "source": [
        "![Bias-Variance Tradeoff](images/bias_variance_tradeoff.png)\n",
        "_Total Error = Bias² + Variance + Noise_"
      ]
    },
    {
      "cell_type": "markdown",
      "metadata": {},
      "source": [
        "### 💻 Visualizing Bias & Variance"
      ]
    },
    {
      "cell_type": "code",
      "metadata": {},
      "source": [
        "import numpy as np\n",
        "import matplotlib.pyplot as plt\n",
        "from sklearn.ensemble import RandomForestRegressor\n",
        "from sklearn.linear_model import LinearRegression\n",
        "\n",
        "# Generate synthetic data\n",
        "np.random.seed(42)\n",
        "X = np.linspace(0, 1, 100).reshape(-1, 1)\n",
        "y = 0.5 * X.ravel() + 0.3 * np.sin(15 * X.ravel()) + np.random.normal(0, 0.1, 100)\n",
        "\n",
        "# High bias model (too simple)\n",
        "simple_model = LinearRegression()\n",
        "simple_model.fit(X, y)\n",
        "\n",
        "# High variance model (too complex)\n",
        "complex_model = RandomForestRegressor(n_estimators=100, max_depth=10)\n",
        "complex_model.fit(X, y)\n",
        "\n",
        "print(\"Simple model captures general trend but misses details\")\n",
        "print(\"Complex model fits training data perfectly but may not generalize\")"
      ],
      "outputs": []
    }
  ],
  "metadata": {
    "kernelspec": {
      "display_name": "Python 3",
      "language": "python",
      "name": "python3"
    },
    "language_info": {
      "codemirror_mode": {
        "name": "python",
        "version": 3
      },
      "file_extension": ".py",
      "mimetype": "text/x-python",
      "name": "python",
      "nbconvert_exporter": "python",
      "pygments_lexer": "ipython3",
      "version": "3.8"
    }
  },
  "nbformat": 4,
  "nbformat_minor": 5
}