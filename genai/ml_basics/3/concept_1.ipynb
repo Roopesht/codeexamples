{
  "cells": [
    {
      "cell_type": "markdown",
      "metadata": {},
      "source": [
        "# Understanding the Bias-Variance Tradeoff"
      ]
    },
    {
      "cell_type": "markdown",
      "metadata": {},
      "source": [
        "## ⚖️ What is Bias and What is Variance?"
      ]
    },
    {
      "cell_type": "markdown",
      "metadata": {},
      "source": [
        "![Dartboard showing different combinations of bias and variance with arrow clusters. Size 800x600](images/bias_variance_dartboard.png)"
      ]
    },
    {
      "cell_type": "markdown",
      "metadata": {},
      "source": [
        "*Think of it like throwing darts at a target!*"
      ]
    },
    {
      "cell_type": "markdown",
      "metadata": {},
      "source": [
        "## 🎯 Understanding Bias"
      ]
    },
    {
      "cell_type": "markdown",
      "metadata": {},
      "source": [
        "- **Bias:** How far your model's predictions are from the true values"
      ]
    },
    {
      "cell_type": "markdown",
      "metadata": {},
      "source": [
        "- **High Bias:** Model makes strong assumptions, misses important patterns"
      ]
    },
    {
      "cell_type": "markdown",
      "metadata": {},
      "source": [
        "- **Example:** Using a straight line to fit a curved relationship"
      ]
    },
    {
      "cell_type": "markdown",
      "metadata": {},
      "source": [
        "- **Real-world:** Predicting house prices using only size (ignoring location, age, etc.)"
      ]
    },
    {
      "cell_type": "markdown",
      "metadata": {},
      "source": [
        "## 📊 Understanding Variance"
      ]
    },
    {
      "cell_type": "markdown",
      "metadata": {},
      "source": [
        "- **Variance:** How much your model's predictions change with different training data"
      ]
    },
    {
      "cell_type": "markdown",
      "metadata": {},
      "source": [
        "- **High Variance:** Model is too sensitive to training data specifics"
      ]
    },
    {
      "cell_type": "markdown",
      "metadata": {},
      "source": [
        "- **Example:** A very deep decision tree that memorizes training examples"
      ]
    },
    {
      "cell_type": "markdown",
      "metadata": {},
      "source": [
        "- **Real-world:** Model that changes drastically when you add just one new data point"
      ]
    },
    {
      "cell_type": "markdown",
      "metadata": {},
      "source": [
        "## 🎨 Visual Representation"
      ]
    },
    {
      "cell_type": "markdown",
      "metadata": {},
      "source": [
        "![Four quadrants showing Low Bias/Low Variance, Low Bias/High Variance, High Bias/Low Variance, High Bias/High Variance with scatter plots. Size 800x600](images/bias_variance_comparison.png)"
      ]
    },
    {
      "cell_type": "markdown",
      "metadata": {},
      "source": [
        "*The sweet spot: Low Bias + Low Variance = Good Model!*"
      ]
    },
    {
      "cell_type": "markdown",
      "metadata": {},
      "source": [
        "## 💻 Code Example: Observing Bias & Variance"
      ]
    },
    {
      "cell_type": "code",
      "metadata": {},
      "execution_count": null,
      "outputs": [],
      "source": [
        "import numpy as np\n",
        "from sklearn.model_selection import train_test_split\n",
        "from sklearn.linear_model import LinearRegression\n",
        "from sklearn.tree import DecisionTreeRegressor\n",
        "\n",
        "# Generate synthetic data\n",
        "np.random.seed(42)\n",
        "X = np.linspace(0, 10, 100).reshape(-1, 1)\n",
        "y = 2 * X.ravel() + np.sin(X.ravel()) + np.random.normal(0, 0.5, 100)\n",
        "\n",
        "# High Bias Model (Linear Regression for non-linear data)\n",
        "linear_model = LinearRegression()\n",
        "linear_model.fit(X, y)\n",
        "print(\"Linear Model (High Bias):\", linear_model.score(X, y))\n",
        "\n",
        "# High Variance Model (Deep Decision Tree)\n",
        "deep_tree = DecisionTreeRegressor(max_depth=10)\n",
        "deep_tree.fit(X, y)\n",
        "print(\"Deep Tree (High Variance):\", deep_tree.score(X, y))"
      ]
    },
    {
      "cell_type": "markdown",
      "metadata": {},
      "source": [
        "## 🎯 Key Takeaway"
      ]
    },
    {
      "cell_type": "markdown",
      "metadata": {},
      "source": [
        "- **The Goal:** Find the right balance between bias and variance"
      ]
    },
    {
      "cell_type": "markdown",
      "metadata": {},
      "source": [
        "- Too simple → High Bias (underfitting)"
      ]
    },
    {
      "cell_type": "markdown",
      "metadata": {},
      "source": [
        "- Too complex → High Variance (overfitting)"
      ]
    },
    {
      "cell_type": "markdown",
      "metadata": {},
      "source": [
        "- Just right → Good generalization"
      ]
    },
    {
      "cell_type": "markdown",
      "metadata": {},
      "source": [
        "*Question: Can you think of a real-world example where high bias would be problematic?*"
      ]
    }
  ],
  "metadata": {
    "kernelspec": {
      "display_name": "Python 3",
      "language": "python",
      "name": "python3"
    },
    "language_info": {
      "name": "python",
      "version": "3.x"
    }
  },
  "nbformat": 4,
  "nbformat_minor": 5
}