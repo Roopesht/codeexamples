{
  "cells": [
    {
      "cell_type": "markdown",
      "metadata": {},
      "source": [
        "# Understanding Underfitting and Overfitting in Machine Learning"
      ]
    },
    {
      "cell_type": "markdown",
      "metadata": {},
      "source": [
        "## 📊 Underfitting vs Overfitting\n",
        "\n",
        "![Graphs illustrating underfitting, good fit, and overfitting](images/underfitting_overfitting.png)\n",
        "\n",
        "*\"Finding the Goldilocks zone of model complexity!\"*"
      ]
    },
    {
      "cell_type": "markdown",
      "metadata": {},
      "source": [
        "## 📉 Underfitting (High Bias)\n",
        "- **What it is:** Model is too simple to capture underlying patterns\n",
        "- **Signs:** Poor performance on both training and test data\n",
        "- **Causes:** Model complexity too low, insufficient features\n",
        "- **Example:** Using linear regression for clearly non-linear data"
      ]
    },
    {
      "cell_type": "markdown",
      "metadata": {},
      "source": [
        "## 📈 Overfitting (High Variance)\n",
        "- **What it is:** Model learns training data too well, including noise\n",
        "- **Signs:** Great training performance, poor test performance\n",
        "- **Causes:** Model too complex, too many features, insufficient data\n",
        "- **Example:** Decision tree that memorizes every training example"
      ]
    },
    {
      "cell_type": "markdown",
      "metadata": {},
      "source": [
        "## 🎯 Good Fit (Just Right)\n",
        "- **What it is:** Model captures true patterns without memorizing noise\n",
        "- **Signs:** Good performance on both training and test data\n",
        "- **Achievement:** Balanced model complexity\n",
        "- **Goal:** Generalizes well to unseen data"
      ]
    },
    {
      "cell_type": "markdown",
      "metadata": {},
      "source": [
        "## 💻 Detecting Over/Underfitting"
      ]
    },
    {
      "cell_type": "code",
      "metadata": {},
      "source": [
        "from sklearn.model_selection import train_test_split\n",
        "from sklearn.tree import DecisionTreeRegressor\n",
        "from sklearn.metrics import mean_squared_error\n",
        "\n",
        "# Assuming X and y are predefined feature matrix and target vector\n",
        "# Split data into training and testing sets\n",
        "X_train, X_test, y_train, y_test = train_test_split(X, y, test_size=0.2, random_state=42)\n",
        "\n",
        "# Test different model complexities by varying max_depth\n",
        "depths = [1, 3, 5, 10, 20]\n",
        "train_errors = []\n",
        "test_errors = []\n",
        "\n",
        "for depth in depths:\n",
        "    model = DecisionTreeRegressor(max_depth=depth, random_state=42)\n",
        "    model.fit(X_train, y_train)\n",
        "    \n",
        "    train_pred = model.predict(X_train)\n",
        "    test_pred = model.predict(X_test)\n",
        "    \n",
        "    train_errors.append(mean_squared_error(y_train, train_pred))\n",
        "    test_errors.append(mean_squared_error(y_test, test_pred))\n",
        "    \n",
        "    print(f\"Depth {depth}: Train Error = {train_errors[-1]:.4f}, Test Error = {test_errors[-1]:.4f}\")"
      ],
      "outputs": []
    },
    {
      "cell_type": "markdown",
      "metadata": {},
      "source": [
        "[🚀 Open in Colab](https://colab.research.google.com/github/Roopesht/codeexamples/blob/main/genai/python_easy/3/overfitting.ipynb)"
      ]
    },
    {
      "cell_type": "markdown",
      "metadata": {},
      "source": [
        "## 🎯 Key Takeaway\n",
        "> \"Monitor both training and test performance to detect overfitting early!\"\n",
        "\n",
        "### 💭 Question\n",
        "- If your model has 95% accuracy on training data but only 60% on test data, what's happening?"
      ]
    }
  ],
  "metadata": {
    "kernelspec": {
      "display_name": "Python 3",
      "language": "python",
      "name": "python3"
    },
    "language_info": {
      "name": "python",
      "version": "3.x"
    }
  },
  "nbformat": 4,
  "nbformat_minor": 5
}