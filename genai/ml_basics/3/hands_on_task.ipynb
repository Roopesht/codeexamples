{
  "cells": [
    {
      "cell_type": "markdown",
      "metadata": {},
      "source": [
        "# The Ultimate Tuning Challenge\n",
        "\n",
        "Welcome to the hands-on challenge! In this notebook, you'll learn how to train different machine learning models, evaluate their performance, and find the best model that balances accuracy and overfitting.\n",
        "\n",
        "Let's get started!"
      ]
    },
    {
      "cell_type": "markdown",
      "metadata": {},
      "source": [
        "## 🎯 The Ultimate Tuning Challenge\n",
        "\n",
        "![Challenge Banner](images/tuning_challenge.png)\n",
        "\n",
        "_Time to put your skills to the test! Can you build the perfect model?_"
      ]
    },
    {
      "cell_type": "markdown",
      "metadata": {},
      "source": [
        "### 📋 Challenge Details\n",
        "\n",
        "- **Mission:** Train multiple models with different complexities and find the best balance!\n",
        "- **Dataset:** House prices or customer classification (use your choice or simulated data)\n",
        "- **Models:** Decision Trees, Random Forest, Linear Models\n",
        "- **Goal:** Achieve the highest validation score while avoiding overfitting\n",
        "- **Constraint:** The training-validation gap must be less than 5%"
      ]
    },
    {
      "cell_type": "markdown",
      "metadata": {},
      "source": [
        "### 📊 Input/Output Examples\n",
        "\n",
        "**Input:**\n",
        "- Housing dataset with features like size, location, age\n",
        "\n",
        "**Expected Output:**\n",
        "```plaintext\n",
        "Model Performance Report:\n",
        "========================\n",
        "Decision Tree (depth=3): Train=0.82, Val=0.78, Gap=0.04 ✅\n",
        "Decision Tree (depth=10): Train=0.95, Val=0.75, Gap=0.20 ❌\n",
        "Random Forest (n=50): Train=0.89, Val=0.84, Gap=0.05 ✅\n",
        "Random Forest (n=200): Train=0.97, Val=0.83, Gap=0.14 ❌\n",
        "\n",
        "🏆 WINNER: Random Forest (n=50) - Best balance!\n",
        "```"
      ]
    },
    {
      "cell_type": "markdown",
      "metadata": {},
      "source": [
        "### 🚀 Step-by-Step Process\n",
        "\n",
        "1. **Load Data:** Import and explore the dataset.\n",
        "2. **Prepare Data:** Split into training, validation, and test sets.\n",
        "3. **Model 1:** Train Decision Trees with depths 1-15.\n",
        "4. **Model 2:** Train Random Forests with different n_estimators.\n",
        "5. **Model 3:** Train Linear Models with different regularization.\n",
        "6. **Analyze:** Create visualizations of performance vs complexity.\n",
        "7. **Select Winner:** Choose the model with the best validation score that meets the gap criteria.\n"
      ]
    },
    {
      "cell_type": "markdown",
      "metadata": {},
      "source": [
        "### 💻 Code Structure\n",
        "\n",
        "```python\n",
        "# Your challenge template\n",
        "import pandas as pd\n",
        "from sklearn.model_selection import train_test_split\n",
        "from sklearn.ensemble import RandomForestClassifier\n",
        "from sklearn.tree import DecisionTreeClassifier\n",
        "from sklearn.linear_model import LogisticRegression\n",
        "import matplotlib.pyplot as plt\n",
        "\n",
        "# Step 1: Load and split data\n",
        "def load_and_split_data():\n",
        "    # Your code here\n",
        "    pass\n",
        "\n",
        "# Step 2: Test different model complexities\n",
        "def test_model_complexity(model_class, param_name, param_range):\n",
        "    # Your code here\n",
        "    pass\n",
        "\n",
        "# Step 3: Visualize results\n",
        "def plot_complexity_analysis():\n",
        "    # Your code here\n",
        "    pass\n",
        "\n",
        "# Step 4: Find the winner\n",
        "def find_optimal_model():\n",
        "    # Your code here\n",
        "    pass\n",
        "\n",
        "# Run the challenge!\n",
        "if __name__ == \"__main__\":\n",
        "    # Execute your analysis\n",
        "    pass\n",
        "```\n"
      ]
    },
    {
      "cell_type": "markdown",
      "metadata": {},
      "source": [
        "### 🚀 Additional Resources\n",
        "\n",
        "- [Open Challenge in Colab](https://colab.research.google.com/github/Roopesht/codeexamples/blob/main/genai/python_easy/3/tuning_challenge.ipynb)"
      ]
    },
    {
      "cell_type": "markdown",
      "metadata": {},
      "source": [
        "### 🎯 Challenge Success Criteria\n",
        "\n",
        "- ✅ **Completed:** Tested at least 3 different model types\n",
        "- ✅ **Analyzed:** Created visualization of complexity vs performance\n",
        "- ✅ **Optimized:** Found model with best validation score\n",
        "- ✅ **Balanced:** Avoided overfitting (gap < 5%)\n",
        "- ✅ **Documented:** Explained why your chosen model is optimal\n",
        "\n",
        "_Bonus: Try to beat your classmates' validation scores!_"
      ]
    }
  ],
  "metadata": {},
  "nbformat": 4,
  "nbformat_minor": 5
}