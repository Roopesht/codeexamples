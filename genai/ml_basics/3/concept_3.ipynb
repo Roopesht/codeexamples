{
  "cells": [
    {
      "cell_type": "markdown",
      "metadata": {},
      "source": [
        "# Concept 3: Generalization to Unseen Data"
      ]
    },
    {
      "cell_type": "markdown",
      "metadata": {},
      "source": [
        "## 🌍 Generalization to Unseen Data\n"
      ]
    },
    {
      "cell_type": "markdown",
      "metadata": {},
      "source": [
        "![Diagram showing training data leading to a model, which then makes predictions on new, unseen data. Size 800x600](images/generalization_concept.png)\n",
        "\n",
        "_\"The ultimate test: How well does your model perform in the real world?\"_"
      ]
    },
    {
      "cell_type": "markdown",
      "metadata": {},
      "source": [
        "## 🎯 Why Generalization Matters"
      ]
    },
    {
      "cell_type": "markdown",
      "metadata": {},
      "source": [
        "- **Real-world Impact:** Models must work on new, unseen data\n",
        "- **Business Value:** A model that only works on training data is useless\n",
        "- **Trust:** Stakeholders need reliable predictions\n",
        "- **ROI:** Poor generalization = wasted resources"
      ]
    },
    {
      "cell_type": "markdown",
      "metadata": {},
      "source": [
        "## 🔍 Factors Affecting Generalization"
      ]
    },
    {
      "cell_type": "markdown",
      "metadata": {},
      "source": [
        "- **Data Quality:** Representative and sufficient training data\n",
        "- **Model Complexity:** Right balance between simplicity and flexibility\n",
        "- **Feature Engineering:** Relevant features that capture true patterns\n",
        "- **Training Strategy:** Proper validation and testing procedures"
      ]
    },
    {
      "cell_type": "markdown",
      "metadata": {},
      "source": [
        "## 🛠️ Improving Generalization"
      ]
    },
    {
      "cell_type": "markdown",
      "metadata": {},
      "source": [
        "- **Cross-validation:** Test on multiple data splits\n",
        "- **Regularization:** Prevent overfitting\n",
        "- **More Data:** Larger, diverse datasets\n",
        "- **Feature Selection:** Remove noisy or irrelevant features"
      ]
    },
    {
      "cell_type": "markdown",
      "metadata": {},
      "source": [
        "## 💻 Testing Generalization"
      ]
    },
    {
      "cell_type": "code",
      "execution_count": null,
      "metadata": {},
      "outputs": [],
      "source": [
        "from sklearn.model_selection import cross_val_score\n",
        "from sklearn.ensemble import RandomForestClassifier\n",
        "from sklearn.datasets import make_classification\n",
        "\n",
        "# Generate sample data\n",
        "X, y = make_classification(n_samples=1000, n_features=20, n_informative=10, \n",
        "                          n_redundant=10, random_state=42)\n",
        "\n",
        "# Test generalization with cross-validation\n",
        "model = RandomForestClassifier(n_estimators=100, random_state=42)\n",
        "\n",
        "# 5-fold cross-validation\n",
        "cv_scores = cross_val_score(model, X, y, cv=5, scoring='accuracy')\n",
        "\n",
        "print(f\"Cross-validation scores: {cv_scores}\")\n",
        "print(f\"Mean accuracy: {cv_scores.mean():.4f}\")\n",
        "print(f\"Standard deviation: {cv_scores.std():.4f}\")\n",
        "\n",
        "# Low std indicates good generalization\n",
        "if cv_scores.std() < 0.05:\n",
        "    print(\"✅ Model generalizes well!\")\n",
        "else:\n",
        "    print(\"⚠️ Model may have generalization issues\")"
      ]
    },
    {
      "cell_type": "markdown",
      "metadata": {},
      "source": [
        "[🚀 Open in Colab](https://colab.research.google.com/github/Roopesht/codeexamples/blob/main/genai/python_easy/3/generalization.ipynb)"
      ]
    },
    {
      "cell_type": "markdown",
      "metadata": {},
      "source": [
        "## 🎯 Key Takeaway"
      ]
    },
    {
      "cell_type": "markdown",
      "metadata": {},
      "source": [
        "_\"A model's true worth is measured by its performance on unseen data!\"_"
      ]
    },
    {
      "cell_type": "markdown",
      "metadata": {},
      "source": [
        "### 💭 Reflection\n",
        "How would you explain to a business stakeholder why your model performs differently on new data?"
      ]
    }
  ],
  "metadata": {
    "kernelspec": {
      "display_name": "Python 3",
      "language": "python",
      "name": "python3"
    },
    "language_info": {
      "name": "python",
      "version": "3.x"
    }
  },
  "nbformat": 4,
  "nbformat_minor": 5
}