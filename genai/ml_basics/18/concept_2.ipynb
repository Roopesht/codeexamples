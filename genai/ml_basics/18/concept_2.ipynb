{
  "cells": [
    {
      "cell_type": "markdown",
      "metadata": {},
      "source": [
        "# Concept 2: Underfitting vs Overfitting"
      ]
    },
    {
      "cell_type": "markdown",
      "metadata": {},
      "source": [
        "## 📊 The Fitting Spectrum"
      ]
    },
    {
      "cell_type": "markdown",
      "metadata": {},
      "source": [
        "![Three graphs showing underfitting, good fit, and overfitting with data points and curves, size 900x400](images/fitting_spectrum.png)"
      ]
    },
    {
      "cell_type": "markdown",
      "metadata": {},
      "source": [
        "*\"Finding the Goldilocks zone of model complexity\"*"
      ]
    },
    {
      "cell_type": "markdown",
      "metadata": {},
      "source": [
        "## 📉 Underfitting Characteristics"
      ]
    },
    {
      "cell_type": "markdown",
      "metadata": {},
      "source": [
        "- 🎯 High training error AND high test error",
        "- 📊 Model too simple to capture patterns",
        "- 🔍 Poor performance on both seen and unseen data",
        "- 💡 Solution: Increase model complexity"
      ]
    },
    {
      "cell_type": "markdown",
      "metadata": {},
      "source": [
        "## 📈 Overfitting Characteristics"
      ]
    },
    {
      "cell_type": "markdown",
      "metadata": {},
      "source": [
        "- 🎯 Low training error BUT high test error",
        "- 📊 Model memorizes training data noise",
        "- 🔍 Great on training, poor on new data",
        "- 💡 Solution: Reduce complexity or add regularization"
      ]
    },
    {
      "cell_type": "markdown",
      "metadata": {},
      "source": [
        "## Detecting Over/Underfitting"
      ]
    },
    {
      "cell_type": "code",
      "metadata": {},
      "execution_count": null,
      "outputs": [],
      "source": [
        "from sklearn.preprocessing import PolynomialFeatures\n",
        "from sklearn.pipeline import Pipeline\n",
        "from sklearn.metrics import mean_squared_error\n",
        "from sklearn.model_selection import train_test_split\n",
        "from sklearn.linear_model import LinearRegression\n",
        "\n",
        "import numpy as np\n",
        "np.random.seed(0)\n",
        "X = np.sort(np.random.rand(100, 1) * 10, axis=0)\n",
        "y = np.sin(X).ravel() + np.random.randn(100) * 0.5\n",
        "\n",
        "degrees = [1, 2, 5, 15]\n",
        "train_errors = []\n",
        "test_errors = []\n",
        "\n",
        "X_train, X_test, y_train, y_test = train_test_split(X, y, test_size=0.3, random_state=42)\n",
        "\n",
        "for degree in degrees:\n",
        "    poly_model = Pipeline([\n",
        "        ('poly', PolynomialFeatures(degree=degree)),\n",
        "        ('linear', LinearRegression())\n",
        "    ])\n",
        "    poly_model.fit(X_train, y_train)\n",
        "    train_pred = poly_model.predict(X_train)\n",
        "    test_pred = poly_model.predict(X_test)\n",
        "    train_error = mean_squared_error(y_train, train_pred)\n",
        "    test_error = mean_squared_error(y_test, test_pred)\n",
        "    train_errors.append(train_error)\n",
        "    test_errors.append(test_error)\n",
        "    print(f\"Degree {degree}: Train MSE = {train_error:.3f}, Test MSE = {test_error:.3f}\")"
      ]
    },
    {
      "cell_type": "markdown",
      "metadata": {},
      "source": [
        "## 🎯 Recognition Patterns"
      ]
    },
    {
      "cell_type": "markdown",
      "metadata": {},
      "source": [
        "- **Underfitting:** High train error = High test error\n",
        "- **Overfitting:** Low train error ≠ High test error\n",
        "\n",
        "💭 *Question: Can you think of a real-world scenario where overfitting would be problematic?*"
      ]
    }
  ],
  "metadata": {
    "kernelspec": {
      "display_name": "Python 3",
      "language": "python",
      "name": "python3"
    },
    "language_info": {
      "codemirror_mode": {
        "name": "python",
        "version": 3
      },
      "file_extension": ".py",
      "mimetype": "text/x-python",
      "name": "python",
      "nbconvert_exporter": "python",
      "pygments_lexer": "ipython3",
      "version": "3.8"
    }
  },
  "nbformat": 4,
  "nbformat_minor": 5
}