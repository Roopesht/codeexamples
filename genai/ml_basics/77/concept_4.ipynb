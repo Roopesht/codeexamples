{
  "cells": [
    {
      "cell_type": "markdown",
      "metadata": {},
      "source": [
        "# Data Manipulation with Pandas"
      ]
    },
    {
      "cell_type": "markdown",
      "metadata": {},
      "source": [
        "## 🔧 Data Manipulation Essentials"
      ]
    },
    {
      "cell_type": "markdown",
      "metadata": {},
      "source": [
        "- ✏️ Setting values in DataFrames",
        "- 🔍 Filtering data efficiently",
        "- 🕳️ Handling missing values",
        "- 📊 GroupBy operations for insights"
      ]
    },
    {
      "cell_type": "markdown",
      "metadata": {},
      "source": [
        "## ✏️ Setting Values"
      ]
    },
    {
      "cell_type": "markdown",
      "metadata": {},
      "source": [
        "- `df['column'] = value` : Set entire column",
        "- `df.loc[row, col] = value` : Set specific cell",
        "- `df.iloc[index] = value` : Set by position",
        "- `df.at[row, col] = value` : Fast single value"
      ]
    },
    {
      "cell_type": "markdown",
      "metadata": {},
      "source": [
        "## 🔍 Filtering Data"
      ]
    },
    {
      "cell_type": "markdown",
      "metadata": {},
      "source": [
        "- `df[condition]` : Boolean indexing",
        "- `df.query('column > value')` : SQL-like queries",
        "- `df.isin([values])` : Check membership",
        "- `df.between(start, end)` : Range filtering"
      ]
    },
    {
      "cell_type": "markdown",
      "metadata": {},
      "source": [
        "## 🕳️ Handling Missing Values"
      ]
    },
    {
      "cell_type": "markdown",
      "metadata": {},
      "source": [
        "- `df.isna()` : Detect missing values",
        "- `df.dropna()` : Remove missing values",
        "- `df.fillna(value)` : Fill missing values",
        "- `df.interpolate()` : Intelligent filling"
      ]
    },
    {
      "cell_type": "markdown",
      "metadata": {},
      "source": [
        "## 📊 GroupBy Operations"
      ]
    },
    {
      "cell_type": "markdown",
      "metadata": {},
      "source": [
        "- `df.groupby('column')` : Group by category",
        "- `.mean()`, `.sum()`, `.count()` : Aggregate functions",
        "- `.agg({'col': 'function'})` : Custom aggregation",
        "- `.transform()` : Apply function to groups"
      ]
    },
    {
      "cell_type": "markdown",
      "metadata": {},
      "source": [
        "## 💻 Manipulation in Action"
      ]
    },
    {
      "cell_type": "code",
      "metadata": {},
      "execution_count": null,
      "outputs": [],
      "source": [
        "import pandas as pd",
        "import numpy as np",
        "",
        "# Sample movie data",
        "movies = pd.DataFrame({",
        "    'Title': ['Movie A', 'Movie B', 'Movie C', 'Movie D'],",
        "    'Genre': ['Action', 'Comedy', 'Action', 'Drama'],",
        "    'Rating': [8.1, np.nan, 7.5, 6.8],",
        "    'Budget': [50, 30, 80, np.nan]",
        "})",
        "",
        "# Setting values",
        "movies['Year'] = 2023",
        "",
        "# Filtering",
        "action_movies = movies[movies['Genre'] == 'Action']",
        "",
        "# Handling missing values",
        "movies['Rating'].fillna(movies['Rating'].mean(), inplace=True)",
        "",
        "# GroupBy operations",
        "genre_stats = movies.groupby('Genre')['Rating'].agg(['mean', 'count'])",
        "",
        "print(\"Action Movies:\")",
        "print(action_movies)",
        "print(\"\\nGenre Statistics:\")",
        "print(genre_stats)"
      ]
    },
    {
      "cell_type": "markdown",
      "metadata": {},
      "source": [
        "## 🛠️ Data Manipulation = Data Control"
      ]
    },
    {
      "cell_type": "markdown",
      "metadata": {},
      "source": [
        ">*\"Clean data is the foundation of reliable AI!\"*"
      ]
    },
    {
      "cell_type": "markdown",
      "metadata": {},
      "source": [
        "## 💭 Challenge"
      ]
    },
    {
      "cell_type": "markdown",
      "metadata": {},
      "source": [
        "- What's the most efficient way to replace all negative ratings with 0?"
      ]
    }
  ],
  "metadata": {
    "kernelspec": {
      "display_name": "Python 3",
      "language": "python",
      "name": "python3"
    },
    "language_info": {
      "name": "python",
      "version": "3.x"
    }
  },
  "nbformat": 4,
  "nbformat_minor": 5
}