{
  "cells": [
    {
      "cell_type": "markdown",
      "metadata": {},
      "source": [
        "# Advanced CSV Analysis Tutorial\n",
        "\n",
        "Welcome to this beginner-friendly guide on analyzing CSV files with Python!\n",
        "In this notebook, we'll learn how to load, inspect, clean, explore, and visualize CSV data using pandas.\n",
        "\n",
        "Let's get started!"
      ]
    },
    {
      "cell_type": "markdown",
      "metadata": {},
      "source": [
        "## 📋 CSV Analysis Workflow\n",
        "\n",
        "Follow this step-by-step workflow to analyze your CSV data:\n",
        "\n",
        "1. **Load:** Read CSV file with `pd.read_csv()`\n",
        "2. **Inspect:** Preview data with `.head()`, check info with `.info()`, get summary with `.describe()`\n",
        "3. **Clean:** Handle missing values and duplicates as needed\n",
        "4. **Explore:** Filter data, group by categories, analyze patterns\n",
        "5. **Visualize:** Create simple plots to understand data better"
      ]
    },
    {
      "cell_type": "markdown",
      "metadata": {},
      "source": [
        "## 🌸 Iris Dataset Analysis\n",
        "\n",
        "Here's the classic Iris dataset, which contains measurements of different iris flower species.\n",
        "It's perfect for practicing data analysis!\n",
        "\n",
        "![Iris flowers showing different species with measurements visualization](images/iris_dataset.png)\n",
        "\n",
        "Let's see how to analyze this dataset step-by-step."
      ]
    },
    {
      "cell_type": "code",
      "execution_count": null,
      "metadata": {},
      "outputs": [],
      "source": [
        "import pandas as pd\n",
        "import numpy as np"
      ]
    },
    {
      "cell_type": "markdown",
      "metadata": {},
      "source": [
        "## 💻 Complete CSV Analysis Example\n",
        "\n",
        "Run the following code to load and analyze the Iris dataset."
      ]
    },
    {
      "cell_type": "code",
      "execution_count": null,
      "metadata": {},
      "outputs": [],
      "source": [
        "# Load the Iris dataset from URL\n",
        "iris = pd.read_csv('https://raw.githubusercontent.com/mwaskom/seaborn-data/master/iris.csv')"
      ]
    },
    {
      "cell_type": "code",
      "execution_count": null,
      "metadata": {},
      "outputs": [],
      "source": [
        "# Initial inspection: shape of dataset\n",
        "print(\"Dataset shape:\", iris.shape)"
      ]
    },
    {
      "cell_type": "code",
      "execution_count": null,
      "metadata": {},
      "outputs": [],
      "source": [
        "# Preview first 5 rows\n",
        "print(\"\\nFirst 5 rows:\")\n",
        "print(iris.head())"
      ]
    },
    {
      "cell_type": "code",
      "execution_count": null,
      "metadata": {},
      "outputs": [],
      "source": [
        "# Check for missing values in each column\n",
        "print(\"\\nMissing values:\")\n",
        "print(iris.isna().sum())"
      ]
    },
    {
      "cell_type": "code",
      "execution_count": null,
      "metadata": {},
      "outputs": [],
      "source": [
        "# Get basic statistics of numerical columns\n",
        "print(\"\\nSummary statistics:\")\n",
        "print(iris.describe())"
      ]
    },
    {
      "cell_type": "code",
      "execution_count": null,
      "metadata": {},
      "outputs": [],
      "source": [
        "# Group data by species and compute mean and std for sepal and petal lengths\n",
        "species_stats = iris.groupby('species').agg({\n",
        "    'sepal_length': ['mean', 'std'],\n",
        "    'petal_length': ['mean', 'std']\n",
        "})\n",
        "print(\"\\nSpecies statistics:\")\n",
        "print(species_stats)"
      ]
    },
    {
      "cell_type": "code",
      "execution_count": null,
      "metadata": {},
      "outputs": [],
      "source": [
        "# Create boxplots for sepal length and petal length grouped by species\n",
        "iris.boxplot(column=['sepal_length', 'petal_length'], by='species')"
      ]
    },
    {
      "cell_type": "markdown",
      "metadata": {},
      "source": [
        "## 🎯 CSV Analysis Mastery\n",
        "\n",
        "\"Every data scientist's journey begins with CSV files!\"\n",
        "\n",
        "Remember, always inspect your data thoroughly before starting your analysis to avoid surprises later on!"
      ]
    }
  ],
  "metadata": {},
  "nbformat": 4,
  "nbformat_minor": 5
}