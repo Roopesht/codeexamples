{
  "cells": [
    {
      "cell_type": "markdown",
      "metadata": {},
      "source": [
        "# Movie Dataset Analysis\n",
        "\n",
        "Welcome to the beginner-friendly guide to cleaning and analyzing a movie dataset! In this notebook, we will learn how to load, clean, analyze, encode, and normalize movie data to make it ready for machine learning models."
      ]
    },
    {
      "cell_type": "markdown",
      "metadata": {},
      "source": [
        "## 🎬 Data Wrangler Challenge\n",
        "\n",
        "Transform messy movie data into a clean, structured format suitable for machine learning!\n",
        "\n",
        "![Workflow Image](images/movie_data_analysis.png)\n",
        "\n",
        "_\"Real data is messy - let's clean it up!\"_"
      ]
    },
    {
      "cell_type": "markdown",
      "metadata": {},
      "source": [
        "### 📋 Your Mission\n",
        "1. 🔍 Load and inspect the movie dataset\n",
        "2. 🧹 Clean missing data (`?`, `N/A`, empty values)\n",
        "3. 📊 Group by genre and calculate average IMDB rating\n",
        "4. 🔢 Encode categorical variables (`Genre`, `Director`)\n",
        "5. 📏 Normalize numerical columns (`Budget`, `Duration`) \n",
        "6. 💾 Save the cleaned dataset"
      ]
    },
    {
      "cell_type": "markdown",
      "metadata": {},
      "source": [
        "### 🎭 Sample Movie Dataset\n",
        "```csv\n",
        "Movie_Name,Lead_Actor,Director,Release_Year,Lead_Heroine,Main_Villain,Main_Comedy,Music_Director,Genre,Budget,Box_Office_Gross,Number_of_Screens,IMDB_Rating,Duration_Minutes,Nominations\n",
        "Eeswar,Prabhas,Jayanth C. Paranjee,2002,Sridevi Vijaykumar,Nassar,Brahmanandam,R.P. Patnaik,Drama,50000000,80000000,450,5.1,137,0\n",
        "Chirutha,Ram Charan,Puri Jagannadh,2007,Neha Sharma,Prakash Raj,N/A,Mani Sharma,Action,35,40,?,5.2,117,0\n",
        "Magadheera,Ram Charan,S.S. Rajamouli,2009,Kajal Aggarwal,Dev Gill,Sunil,M.M. Keeravani,Fantasy Action,40,150,?,7.7,158,5\n",
        "Govindudu Andari Vaadele,Ram Charan,Krishna Vamsi,2014,Kajal Aggarwal,?,N/A,Devi Sri Prasad,Family Drama,50,72,?,5.7,160,1\n",
        "Orange,Ram Charan,Bhaskar,2010,Genelia D'Souza,N/A,N/A,Devi Sri Prasad,Romantic Drama,40,60,?,6.6,155,2\n",
        "```"
      ]
    },
    {
      "cell_type": "markdown",
      "metadata": {},
      "source": [
        "### 🔧 Step-by-Step Approach\n",
        "1. **Load:** Use `pd.read_csv()` and inspect data\n",
        "2. **Clean:** Replace `'?'`, `'N/A'` with `np.nan`\n",
        "3. **Analyze:** Group by genre and analyze ratings\n",
        "4. **Encode:** Convert categorical variables to numbers\n",
        "5. **Normalize:** Scale numerical columns to 0-1\n",
        "6. **Export:** Save as `'cleaned_movies.csv'`"
      ]
    },
    {
      "cell_type": "markdown",
      "metadata": {},
      "source": [
        "### 💻 Code Structure\n",
        "```python\n",
        "import pandas as pd\n",
        "import numpy as np\n",
        "from sklearn.preprocessing import LabelEncoder\n",
        "\n",
        "# Step 1: Load data\n",
        "movies = pd.read_csv('movie_dataset.csv')\n",
        "\n",
        "# Step 2: Data cleaning\n",
        "# TODO: Replace messy values with np.nan\n",
        "# TODO: Handle missing values appropriately\n",
        "\n",
        "# Step 3: Exploratory analysis  \n",
        "# TODO: Group by genre and analyze ratings\n",
        "\n",
        "# Step 4: Encoding categorical variables\n",
        "# TODO: Convert text to numbers for ML\n",
        "\n",
        "# Step 5: Normalize numerical columns\n",
        "# TODO: Scale Budget and Duration to 0-1 range\n",
        "\n",
        "# Step 6: Export cleaned data\n",
        "# movies.to_csv('cleaned_movies.csv', index=False)\n",
        "\n",
        "print(\"Data wrangling complete! 🎉\")\n",
        "```"
      ]
    },
    {
      "cell_type": "markdown",
      "metadata": {},
      "source": [
        "### 🎯 Expected Results\n",
        "- 📊 **Genre Analysis:** Average IMDB rating per genre\n",
        "- 🧹 **Clean Data:** No missing or messy entries\n",
        "- 🔢 **Encoded Features:** Categorical data as numbers\n",
        "- 📏 **Normalized Data:** Numerical features scaled 0-1\n",
        "- 💾 **ML-Ready Dataset:** Ready for machine learning!\n",
        "\n",
        "_Example insight: \"Action movies have an average rating of 6.2\"_"
      ]
    },
    {
      "cell_type": "markdown",
      "metadata": {},
      "source": [
        "### 🏆 Mission Accomplished!\n",
        "You have successfully:\n",
        "- ✅ Cleaned messy real-world data\n",
        "- ✅ Extracted meaningful insights\n",
        "- ✅ Prepared data for machine learning\n",
        "- ✅ Mastered essential data wrangling skills\n",
        "\n",
        "_\"Data wrangling is 80% of data science - you're now a pro!\" 🎉_"
      ]
    }
  ],
  "metadata": {
    "kernelspec": {
      "display_name": "Python 3",
      "language": "python",
      "name": "python3"
    },
    "language_info": {
      "name": "python",
      "version": "3.x"
    }
  },
  "nbformat": 4,
  "nbformat_minor": 5
}