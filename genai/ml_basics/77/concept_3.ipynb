{
  "cells": [
    {
      "cell_type": "markdown",
      "metadata": {},
      "source": [
        "# Introduction to Pandas: Series and DataFrames"
      ]
    },
    {
      "cell_type": "markdown",
      "metadata": {},
      "source": [
        "## 🐼 Meet Pandas\n",
        "\n",
        "Pandas is a powerful Python library used for data analysis. It helps us work with data more easily, kind of like how Excel helps organize data in spreadsheets.\n",
        "\n",
        "- 🏢 Panel Data - Excel for Python\n",
        "- 📊 Built on top of NumPy\n",
        "- 🗃️ Handles structured data beautifully\n",
        "- 💼 Industry standard for data analysis"
      ]
    },
    {
      "cell_type": "markdown",
      "metadata": {},
      "source": [
        "## 📏 Pandas Series\n",
        "\n",
        "A Pandas Series is like a single column of data. It has labels (called index) and the data values.\n",
        "\n",
        "Here's a visual idea:\n",
        "![Visual representation of Pandas Series showing index and values columns. Size 600x400](images/pandas_series.png)\n",
        "\n",
        "- 🔢 One-dimensional labeled array\n",
        "- 🏷️ Has an index (labels) and values\n",
        "- 📊 Like a column in Excel\n",
        "- 🔧 Can hold any data type"
      ]
    },
    {
      "cell_type": "markdown",
      "metadata": {},
      "source": [
        "## 📊 Pandas DataFrame\n",
        "\n",
        "A DataFrame is like a spreadsheet with rows and columns. It contains multiple Series, organized together.\n",
        "\n",
        "Here's a visual idea:\n",
        "![Visual representation of Pandas DataFrame showing rows and columns structure like a spreadsheet. Size 800x500](images/pandas_dataframe.png)\n",
        "\n",
        "- 🗃️ Two-dimensional labeled data structure\n",
        "- 📋 Like an Excel spreadsheet\n",
        "- 📏 Collection of Series objects\n",
        "- 🏗️ Foundation of most data analysis"
      ]
    },
    {
      "cell_type": "markdown",
      "metadata": {},
      "source": [
        "## 💻 Series and DataFrame in Action\n",
        "\n",
        "Let's see how we can create a Series and a DataFrame in Python using Pandas."
      ]
    },
    {
      "cell_type": "code",
      "execution_count": null,
      "metadata": {},
      "outputs": [],
      "source": [
        "import pandas as pd\n",
        "import numpy as np\n",
        "\n",
        "# Creating a Series\n",
        "movie_ratings = pd.Series([8.1, 7.5, 9.0, 6.8, 7.9], \n",
        "                        index=['Movie A', 'Movie B', 'Movie C', 'Movie D', 'Movie E'])\n",
        "\n",
        "# Creating a DataFrame\n",
        "movie_data = pd.DataFrame({\n",
        "    'Title': ['Inception', 'Avatar', 'Titanic'],\n",
        "    'Year': [2010, 2009, 1997],\n",
        "    'Rating': [8.8, 7.8, 7.8],\n",
        "    'Genre': ['Sci-Fi', 'Action', 'Romance']\n",
        "})\n",
        "\n",
        "print(\"Series:\")\n",
        "print(movie_ratings)\n",
        "print(\"\\nDataFrame:\")\n",
        "print(movie_data)\n"
      ]
    },
    {
      "cell_type": "markdown",
      "metadata": {},
      "source": [
        "## 🚀 Try it Yourself!\n",
        "\n",
        "[Create Your First DataFrame](https://colab.research.google.com/github/Roopesht/codeexamples/blob/main/genai/python_easy/0/pandas_basics.ipynb)"
      ]
    },
    {
      "cell_type": "markdown",
      "metadata": {},
      "source": [
        "## 🐼 Pandas: Data's Best Friend\n",
        "\n",
        "Remember: \"If NumPy is the engine, Pandas is the complete car!\"\n",
        "\n",
        "Think about the difference between a DataFrame and a Python dictionary:\n",
        "- A DataFrame is like a table with rows and columns.\n",
        "- A Python dictionary is a collection of key-value pairs.\n",
        "\n",
        "While both can store data, DataFrames are designed for structured data and easier analysis."
      ]
    }
  ],
  "metadata": {
    "kernelspec": {
      "name": "python3",
      "display_name": "Python 3"
    },
    "language_info": {
      "name": "python",
      "version": "3.x"
    }
  },
  "nbformat": 4,
  "nbformat_minor": 5
}