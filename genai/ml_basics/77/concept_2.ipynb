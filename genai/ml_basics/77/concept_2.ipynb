{
  "cells": [
    {
      "cell_type": "markdown",
      "metadata": {},
      "source": [
        "# Essential NumPy Functions\n",
        "\n",
        "In this section, we will learn about some useful functions in NumPy that help us create and manipulate arrays, perform mathematical calculations, and analyze data efficiently."
      ]
    },
    {
      "cell_type": "markdown",
      "metadata": {},
      "source": [
        "## Array Creation Functions\n",
        "\n",
        "- `np.array()`: Convert a list or list of lists into a NumPy array.\n",
        "- `np.zeros()`: Create an array filled with zeros.\n",
        "- `np.ones()`: Create an array filled with ones.\n",
        "- `np.arange()`: Generate a sequence of numbers within a specified range.\n",
        "- `np.random.random()`: Generate random numbers between 0 and 1."
      ]
    },
    {
      "cell_type": "markdown",
      "metadata": {},
      "source": [
        "## Shape Manipulation\n",
        "\n",
        "- `.shape`: Get the dimensions of an array.\n",
        "- `.reshape()`: Change the shape of an array without changing its data.\n",
        "- `.flatten()`: Convert an array to one dimension.\n",
        "- `.transpose()`: Swap the axes of an array (useful for matrix operations)."
      ]
    },
    {
      "cell_type": "markdown",
      "metadata": {},
      "source": [
        "## Mathematical & Statistical Operations\n",
        "\n",
        "- `np.mean()`, `np.median()`, `np.std()`: Calculate basic statistics of data.\n",
        "- `np.sum()`, `np.min()`, `np.max()`: Perform aggregation operations.\n",
        "- `np.dot()`: Perform matrix multiplication.\n",
        "- `np.where()`: Select elements based on a condition."
      ]
    },
    {
      "cell_type": "markdown",
      "metadata": {},
      "source": [
        "## Functions in Action\n",
        "\n",
        "Now, let's see some examples of these functions in code!"
      ]
    },
    {
      "cell_type": "code",
      "execution_count": null,
      "metadata": {},
      "outputs": [],
      "source": [
        "import numpy as np\n",
        "\n",
        "# Array creation\n",
        "zeros = np.zeros((3, 3))\n",
        "random_data = np.random.random((100,))\n",
        "\n",
        "# Shape manipulation\n",
        "data = np.arange(12)\n",
        "matrix = data.reshape((3, 4))\n",
        "\n",
        "# Statistics\n",
        "mean = np.mean(random_data)\n",
        "std = np.std(random_data)\n",
        "\n",
        "# Conditional operations\n",
        "filtered = np.where(random_data > 0.5, random_data, 0)\n",
        "\n",
        "print(f\"Matrix shape: {matrix.shape}\")\n",
        "print(f\"Mean: {mean:.2f}, Std: {std:.2f}\")"
      ]
    },
    {
      "cell_type": "markdown",
      "metadata": {},
      "source": [
        "[🚀 Explore Functions in Colab](https://colab.research.google.com/github/Roopesht/codeexamples/blob/main/genai/python_easy/0/numpy_functions.ipynb)"
      ]
    },
    {
      "cell_type": "markdown",
      "metadata": {},
      "source": [
        "## Function Mastery = Data Power\n",
        "\n",
        "Remember, choosing the right function makes data analysis faster and easier! Keep practicing to become confident with NumPy functions.\n",
        "\n",
        "❓ **Quick Question:** Which function would you use to find outliers in your dataset?\n"
      ]
    }
  ],
  "metadata": {
    "kernelspec": {
      "name": "python3",
      "display_name": "Python 3"
    },
    "language_info": {
      "name": "python",
      "version": "3.8"
    }
  },
  "nbformat": 4,
  "nbformat_minor": 5
}