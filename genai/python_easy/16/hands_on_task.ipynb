{
  "cells": [
    {
      "cell_type": "markdown",
      "metadata": {},
      "source": [
        "# Iris Classifier: Build Your Own Machine Learning Model\n",
        "\n",
        "Welcome! In this tutorial, you'll learn how to build a simple classifier that can identify different species of iris flowers based on measurements.\n",
        "\n",
        "Let's get started!"
      ]
    },
    {
      "cell_type": "markdown",
      "metadata": {},
      "source": [
        "## Your Mission\n",
        "\n",
        "- **Build a classifier that can identify iris flower species based on measurements!**\n",
        "\n",
        "![Iris dataset](images/iris_challenge.png)"
      ]
    },
    {
      "cell_type": "markdown",
      "metadata": {},
      "source": [
        "## Task Requirements\n",
        "\n",
        "- 📊 Load the Iris dataset from sklearn\n",
        "- 🔍 Explore the data structure and features\n",
        "- 🎯 Split data into training and testing sets\n",
        "- 🤖 Train a classification model\n",
        "- 📈 Evaluate model accuracy\n",
        "- 🔮 Make predictions on new data\n"
      ]
    },
    {
      "cell_type": "markdown",
      "metadata": {},
      "source": [
        "## Input/Output Example\n",
        "\n",
        "```python\n",
        "# Input: Flower measurements\n",
        "sample_input = [[5.1, 3.5, 1.4, 0.2]]  # [sepal_length, sepal_width, petal_length, petal_width]\n",
        "\n",
        "# Expected Output: Species prediction\n",
        "predicted_species = \"setosa\"  # or \"versicolor\" or \"virginica\"\n",
        "confidence_score = 0.95      # How confident the model is\n",
        "```"
      ]
    },
    {
      "cell_type": "markdown",
      "metadata": {},
      "source": [
        "## Step-by-Step Guide\n",
        "\n",
        "1️⃣ Import necessary libraries (sklearn, pandas, numpy)\n",
        "2️⃣ Load iris dataset and explore its structure\n",
        "3️⃣ Split data into training and testing sets\n",
        "4️⃣ Choose and train a classifier (try different ones!)\n",
        "5️⃣ Evaluate performance on test set\n",
        "6️⃣ Make predictions on new flower measurements\n"
      ]
    },
    {
      "cell_type": "markdown",
      "metadata": {},
      "source": [
        "## Code Structure Template\n",
        "\n",
        "```python\n",
        "# Step 1: Import libraries\n",
        "from sklearn.datasets import load_iris\n",
        "from sklearn.model_selection import train_test_split\n",
        "from sklearn.ensemble import RandomForestClassifier\n",
        "from sklearn.metrics import accuracy_score, classification_report\n",
        "\n",
        "# Step 2: Load and explore data\n",
        "iris = load_iris()\n",
        "# Your exploration code here\n",
        "\n",
        "# Step 3: Split data\n",
        "X_train, X_test, y_train, y_test = train_test_split(...)\n",
        "\n",
        "# Step 4: Train model\n",
        "model = RandomForestClassifier()\n",
        "# Your training code here\n",
        "\n",
        "# Step 5: Evaluate\n",
        "accuracy = accuracy_score(...)\n",
        "# Your evaluation code here\n",
        "\n",
        "# Step 6: Make predictions\n",
        "new_flower = [[5.0, 3.0, 1.5, 0.3]]\n",
        "prediction = model.predict(new_flower)\n",
        "```\n",
        "\n",
        "[🚀 Start Your Task in Colab](https://colab.research.google.com/github/Roopesht/codeexamples/blob/main/genai/python_easy/1/iris_classifier_task.ipynb)"
      ]
    },
    {
      "cell_type": "markdown",
      "metadata": {},
      "source": [
        "## What You'll Learn\n",
        "\n",
        "- 🔍 How to explore and understand datasets\n",
        "- 🤖 Complete machine learning workflow\n",
        "- 📊 Model evaluation and interpretation\n",
        "- 🚀 Confidence to tackle real-world problems\n",
        "\n",
        "> \"Every expert was once a beginner. You're taking your first step into the world of AI!\""
      ]
    }
  ],
  "metadata": {
    "kernelspec": {
      "display_name": "Python 3",
      "language": "python",
      "name": "python3"
    },
    "language_info": {
      "name": "python",
      "version": "3.x"
    }
  },
  "nbformat": 4,
  "nbformat_minor": 5
}