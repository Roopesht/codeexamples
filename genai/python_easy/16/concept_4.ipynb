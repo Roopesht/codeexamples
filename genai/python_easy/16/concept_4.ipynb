{
  "cells": [
    {
      "cell_type": "markdown",
      "metadata": {},
      "source": [
        "# Introduction to Scikit-Learn and Built-in Datasets"
      ]
    },
    {
      "cell_type": "markdown",
      "metadata": {},
      "source": [
        "In this notebook, we'll learn about **Scikit-Learn**, a popular machine learning library in Python, and explore some of its built-in datasets. We'll also see how to load data, split it, train a simple model, and make predictions."
      ]
    },
    {
      "cell_type": "markdown",
      "metadata": {},
      "source": [
        "## What is Scikit-Learn?"
      ]
    },
    {
      "cell_type": "markdown",
      "metadata": {},
      "source": [
        "- 🐍 Python's most popular machine learning library",
        "- 🛠️ Simple, efficient tools for data analysis",
        "- 📚 Built on NumPy, SciPy, and Matplotlib",
        "- 🎯 Consistent API across all algorithms"
      ]
    },
    {
      "cell_type": "markdown",
      "metadata": {},
      "source": [
        "## Features of Scikit-Learn"
      ]
    },
    {
      "cell_type": "markdown",
      "metadata": {},
      "source": [
        "- 🔧 Data preprocessing and feature engineering",
        "- 🤖 Wide variety of ML algorithms",
        "- 📊 Model evaluation and selection tools",
        "- 🎯 Built-in datasets for learning"
      ]
    },
    {
      "cell_type": "markdown",
      "metadata": {},
      "source": [
        "## Popular Built-in Datasets"
      ]
    },
    {
      "cell_type": "markdown",
      "metadata": {},
      "source": [
        "- 🌸 Iris: 150 flower samples, 4 features, 3 species",
        "- 🔢 Digits: 8x8 pixel images of handwritten digits",
        "- 🏠 Boston Housing: House prices with 13 features",
        "- 🍷 Wine: Chemical analysis of different wines"
      ]
    },
    {
      "cell_type": "markdown",
      "metadata": {},
      "source": [
        "## Deep Dive: Iris Dataset"
      ]
    },
    {
      "cell_type": "markdown",
      "metadata": {},
      "source": [
        "![Iris Dataset](images/iris_flowers.png)"
      ]
    },
    {
      "cell_type": "markdown",
      "metadata": {},
      "source": [
        "- 📏 Features: Sepal length, sepal width, petal length, petal width",
        "- 🏷️ Labels: Setosa, Versicolor, Virginica",
        "- 🎯 Perfect for classification learning"
      ]
    },
    {
      "cell_type": "markdown",
      "metadata": {},
      "source": [
        "## Loading the Iris Dataset and Building a Simple Classifier"
      ]
    },
    {
      "cell_type": "code",
      "metadata": {},
      "source": [
        "from sklearn.datasets import load_iris",
        "from sklearn.model_selection import train_test_split",
        "from sklearn.ensemble import RandomForestClassifier",
        "",
        "# Load the iris dataset",
        "iris = load_iris()",
        "X, y = iris.data, iris.target",
        "",
        "# Split data into training and testing sets",
        "X_train, X_test, y_train, y_test = train_test_split(X, y, test_size=0.2)",
        "",
        "# Create and train a model",
        "model = RandomForestClassifier()",
        "model.fit(X_train, y_train)",
        "",
        "# Make predictions",
        "predictions = model.predict(X_test)"
      ],
      "execution_count": null,
      "outputs": []
    },
    {
      "cell_type": "markdown",
      "metadata": {},
      "source": [
        "## Explore and Use the Model"
      ]
    },
    {
      "cell_type": "markdown",
      "metadata": {},
      "source": [
        "You can now use the `predictions` array to see the model's guesses on the test data. You may also explore other models and datasets for different machine learning tasks."
      ]
    },
    {
      "cell_type": "markdown",
      "metadata": {},
      "source": [
        "## Ready to Explore?"
      ]
    },
    {
      "cell_type": "markdown",
      "metadata": {},
      "source": [
        "> \"What type of real-world problem would you like to solve with the Iris dataset knowledge? Think beyond flowers!\""
      ]
    }
  ],
  "metadata": {
    "kernelspec": {
      "display_name": "Python 3",
      "language": "python",
      "name": "python3"
    },
    "language_info": {
      "name": "python",
      "version": "3.x"
    }
  },
  "nbformat": 4,
  "nbformat_minor": 5
}