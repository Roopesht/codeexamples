{
  "cells": [
    {
      "cell_type": "markdown",
      "metadata": {},
      "source": [
        "# Processing API Responses with Python"
      ]
    },
    {
      "cell_type": "markdown",
      "metadata": {},
      "source": [
        "In this notebook, we will learn how to process responses from APIs like the GitHub API.\n",
        "\n",
        "We'll cover:\n",
        "- How to parse JSON data into Python objects\n",
        "- How to extract specific information from nested data\n",
        "- How to format and present data nicely\n",
        "- How to handle errors and edge cases"
      ]
    },
    {
      "cell_type": "markdown",
      "metadata": {},
      "source": [
        "## Example: Fetching GitHub User Information"
      ]
    },
    {
      "cell_type": "markdown",
      "metadata": {},
      "source": [
        "Below is an example of how to get information about a GitHub user using Python."
      ]
    },
    {
      "cell_type": "code",
      "execution_count": null,
      "metadata": {},
      "outputs": [],
      "source": [
        "import requests\n",
        "from datetime import datetime"
      ]
    },
    {
      "cell_type": "markdown",
      "metadata": {},
      "source": [
        "Let's define a function that fetches and processes GitHub user data."
      ]
    },
    {
      "cell_type": "code",
      "execution_count": null,
      "metadata": {},
      "outputs": [],
      "source": [
        "def get_github_user_info(username):\n",
        "    \"\"\"Fetch and process GitHub user information\"\"\"\n",
        "    url = f\"https://api.github.com/users/{username}\"\n",
        "    try:\n",
        "        response = requests.get(url)\n",
        "        if response.status_code == 200:\n",
        "            user_data = response.json()\n",
        "            # Extract and format information\n",
        "            info = {\n",
        "                'name': user_data.get('name', 'No name provided'),\n",
        "                'username': user_data['login'],\n",
        "                'followers': user_data['followers'],\n",
        "                'public_repos': user_data['public_repos'],\n",
        "                'created_at': user_data['created_at'][:10],  # Format date\n",
        "                'bio': user_data.get('bio', 'No bio available')\n",
        "            }\n",
        "            return info\n",
        "        else:\n",
        "            return {'error': f'User not found (Status: {response.status_code})'}\n",
        "    except requests.RequestException as e:\n",
        "        return {'error': f'Network error: {str(e)}'}"
      ]
    },
    {
      "cell_type": "markdown",
      "metadata": {},
      "source": [
        "Let's test the function with a username."
      ]
    },
    {
      "cell_type": "code",
      "execution_count": null,
      "metadata": {},
      "outputs": [],
      "source": [
        "user_info = get_github_user_info('octocat')\n",
        "print(\"👤 GitHub User Info:\")\n",
        "for key, value in user_info.items():\n",
        "    print(f\"{key.replace('_', ' ').title()}: {value}\")"
      ]
    },
    {
      "cell_type": "markdown",
      "metadata": {},
      "source": [
        "## Example Output:"
      ]
    },
    {
      "cell_type": "markdown",
      "metadata": {},
      "source": [
        "```text\n👤 GitHub User Info:\nName: The Octocat\nUsername: octocat\nFollowers: 4089\nPublic Repos: 8\nCreated At: 2011-01-25\nBio: No bio available\n```"
      ]
    },
    {
      "cell_type": "markdown",
      "metadata": {},
      "source": [
        "## Tips for Processing API Data"
      ]
    },
    {
      "cell_type": "markdown",
      "metadata": {},
      "source": [
        "- Use `.get()` when accessing optional fields to avoid errors.\n",
        "- Format dates and numbers for better readability.\n",
        "- Always handle errors such as network issues or bad responses.\n",
        "- Extract only the data you need, and ignore everything else.\n",
        "- Think about how you could display this data in a user interface."
      ]
    }
  ],
  "metadata": {
    "kernelspec": {
      "name": "python3",
      "display_name": "Python 3",
      "language": "python"
    },
    "language_info": {
      "name": "python",
      "version": "3.x"
    }
  }
}