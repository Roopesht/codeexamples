{
  "cells": [
    {
      "cell_type": "markdown",
      "metadata": {},
      "source": [
        "# HTTP Requests in Python\n",
        "\n",
        "Learn how to communicate with websites and web servers using Python's `requests` library!"
      ]
    },
    {
      "cell_type": "markdown",
      "metadata": {},
      "source": [
        "## Introduction to HTTP Requests\n",
        "\n",
        "🌐 **HTTP** stands for HyperText Transfer Protocol. It's how your web browser talks to web servers to load webpages.\n",
        "\n",
        "📦 **Requests library** is a popular Python tool to send HTTP requests easily.\n",
        "\n",
        "🎯 The two main types of requests are:\n",
        "- **GET**: Retrieve data from a server\n",
        "- **POST**: Send data to a server\n",
        "\n",
        "Responses from servers include status codes and data. We'll explore these with some code examples!"
      ]
    },
    {
      "cell_type": "markdown",
      "metadata": {},
      "source": [
        "## How HTTP Requests Work\n",
        "\n",
        "Here's a simple diagram to understand the flow:\n",
        "\n",
        "![HTTP Request Flow](images/http_request_flow.png)\n",
        "\n",
        "In brief: your computer (client) sends a request to the server, which then processes it and sends back a response."
      ]
    },
    {
      "cell_type": "markdown",
      "metadata": {},
      "source": [
        "## Using the Requests Library in Python\n",
        "\n",
        "Let's see how to send a simple GET request using Python."
      ]
    },
    {
      "cell_type": "code",
      "execution_count": null,
      "metadata": {},
      "outputs": [],
      "source": [
        "import requests\n",
        "\n",
        "# Make a simple GET request\n",
        "response = requests.get('https://httpbin.org/get')\n",
        "\n",
        "# Check the response\n",
        "print(f\"Status Code: {response.status_code}\")\n",
        "print(f\"Headers: {response.headers['Content-Type']}\")\n",
        "print(f\"Response Text: {response.text[:200]}...\")"
      ]
    },
    {
      "cell_type": "markdown",
      "metadata": {},
      "source": [
        "If the request was successful, status code 200 indicates success. The response contains headers and data from the server."
      ]
    },
    {
      "cell_type": "markdown",
      "metadata": {},
      "source": [
        "## Checking if the Request Succeeded"
      ]
    },
    {
      "cell_type": "code",
      "execution_count": null,
      "metadata": {},
      "outputs": [],
      "source": [
        "if response.status_code == 200:\n",
        "    print(\"✅ Request successful!\")\n",
        "else:\n",
        "    print(\"❌ Request failed!\")"
      ]
    },
    {
      "cell_type": "markdown",
      "metadata": {},
      "source": [
        "## Response Details\n",
        "\n",
        "Here is an example of what the server's response looks like:"
      ]
    },
    {
      "cell_type": "markdown",
      "metadata": {},
      "source": [
        "```plaintext\n",
        "Status Code: 200\n",
        "Headers: application/json\n",
        "Response Text: {\n",
        "  \"args\": {}, \n",
        "  \"headers\": {\n",
        "    \"Accept\": \"*/*\", \n",
        "    \"Accept-Encoding\": \"gzip, deflate\", \n",
        "    \"Host\": \"httpbin.org\"\n",
        "  }, \n",
        "  \"origin\": \"203.0.113.195\", \n",
        "  \"url\": \"https://httpbin.org/get\"\n",
        "}\n",
        "✅ Request successful!\n",
        "```"
      ]
    },
    {
      "cell_type": "markdown",
      "metadata": {},
      "source": [
        "## Understanding HTTP Status Codes\n",
        "\n",
        "- ✅ **200**: Success — the request was successful.\n",
        "- ❌ **404**: Not Found — the webpage does not exist.\n",
        "- 🔒 **401**: Unauthorized — login is required.\n",
        "- ⚠️ **500**: Server Error — problem on the server side.\n",
        "\n",
        "**Question:** What do you think happens when you visit a webpage that doesn't exist?"
      ]
    }
  ],
  "metadata": {
    "kernelspec": {
      "display_name": "Python 3",
      "language": "python",
      "name": "python3"
    },
    "language_info": {
      "name": "python",
      "version": "3.x"
    }
  },
  "nbformat": 4,
  "nbformat_minor": 5
}