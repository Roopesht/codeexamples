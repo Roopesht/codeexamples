{
  "cells": [
    {
      "cell_type": "markdown",
      "metadata": {},
      "source": [
        "# Working with APIs\n",
        "\n",
        "📡 **Concept 3:** APIs - Your Gateway to Real-World Data"
      ]
    },
    {
      "cell_type": "markdown",
      "metadata": {},
      "source": [
        "## What are APIs?\n",
        "\n",
        "- 🌐 Application Programming Interface - a contract for data access\n",
        "- 🚪 Doorway to access services like weather, news, social media\n",
        "- 📊 REST APIs: Most common type using HTTP methods\n",
        "- 🔑 Many require API keys for authentication"
      ]
    },
    {
      "cell_type": "markdown",
      "metadata": {},
      "source": [
        "## 🌍 Popular APIs You Can Use\n",
        "\n",
        "![Collection of popular API logos including weather APIs, social media APIs, news APIs, and financial APIs. Size: 800x500](images/popular_apis.png)"
      ]
    },
    {
      "cell_type": "markdown",
      "metadata": {},
      "source": [
        "## 📡 Making API GET Requests\n",
        "\n",
        "Let's see how to make a simple GET request to fetch data from a public API using Python."
      ]
    },
    {
      "cell_type": "code",
      "execution_count": null,
      "metadata": {},
      "outputs": [],
      "source": [
        "import requests\n",
        "import json\n",
        "\n",
        "# Using a free API - JSONPlaceholder\n",
        "url = \"https://jsonplaceholder.typicode.com/posts/1\"\n",
        "\n",
        "# Make GET request\n",
        "response = requests.get(url)\n",
        "\n",
        "if response.status_code == 200:\n",
        "    # Parse JSON response\n",
        "    data = response.json()  # Shortcut for json.loads(response.text)\n",
        "    \n",
        "    print(\"📄 Post Details:\")\n",
        "    print(f\"Title: {data['title']}\")\n",
        "    print(f\"Body: {data['body'][:100]}...\")\n",
        "    print(f\"User ID: {data['userId']}\")\n",
        "else:\n",
        "    print(f\"❌ Error: {response.status_code}\")"
      ]
    },
    {
      "cell_type": "markdown",
      "metadata": {},
      "source": [
        "## 📊 API Response\n",
        "\n",
        "This is an example of what the response might look like:\n",
        "\n",
        "```plaintext\n",
        "📄 Post Details:\n",
        "Title: sunt aut facere repellat provident occaecati excepturi optio reprehenderit\n",
        "Body: quia et suscipit\n",
        "suscipit recusandae consequuntur expedita et cum\n",
        "reprehenderit molestiae ut ut quas totam...\n",
        "User ID: 1\n",
        "```"
      ]
    },
    {
      "cell_type": "markdown",
      "metadata": {},
      "source": [
        "## 🎯 API Best Practices\n",
        "\n",
        "- 🔍 Always check status codes\n",
        "- 📝 Read API documentation carefully\n",
        "- 🔑 Keep API keys secure\n",
        "- ⚡ Handle rate limits gracefully\n",
        "- 💭 **Think:** What real-world data would you like to access?"
      ]
    }
  ],
  "metadata": {
    "kernelspec": {
      "name": "python3",
      "display_name": "Python 3"
    },
    "language_info": {
      "name": "python",
      "version": "3.x"
    }
  },
  "nbformat": 4,
  "nbformat_minor": 5
}