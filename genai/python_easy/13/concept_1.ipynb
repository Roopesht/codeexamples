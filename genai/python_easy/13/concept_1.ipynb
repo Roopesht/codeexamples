{
  "cells": [
    {
      "cell_type": "markdown",
      "metadata": {},
      "source": [
        "# JSON - The Universal Data Language"
      ]
    },
    {
      "cell_type": "markdown",
      "metadata": {},
      "source": [
        "## What is JSON?"
      ]
    },
    {
      "cell_type": "markdown",
      "metadata": {},
      "source": [
        "- 🔤 JavaScript Object Notation - but universal!\n",
        "- 📝 Human-readable text format for data exchange\n",
        "- 🌐 Standard format for web APIs and configuration files\n",
        "- 🐍 Python has built-in support with `json` module"
      ]
    },
    {
      "cell_type": "markdown",
      "metadata": {},
      "source": [
        "## 🏗️ JSON Structure"
      ]
    },
    {
      "cell_type": "markdown",
      "metadata": {},
      "source": [
        "![JSON structure showing objects, arrays, strings, numbers, and booleans in a hierarchical format. Size: 800x500](images/json_structure.png)"
      ]
    },
    {
      "cell_type": "markdown",
      "metadata": {},
      "source": [
        "## 🔧 Working with JSON in Python"
      ]
    },
    {
      "cell_type": "code",
      "execution_count": null,
      "metadata": {},
      "outputs": [],
      "source": [
        "import json\n",
        "\n",
        "# Python dictionary\n",
        "data = {\n",
        "    \"name\": \"Alice\",\n",
        "    \"age\": 30,\n",
        "    \"skills\": [\"Python\", \"AI\", \"Data Science\"],\n",
        "    \"is_student\": False\n",
        "}\n",
        "\n",
        "# Convert to JSON string\n",
        "json_string = json.dumps(data, indent=2)\n",
        "print(\"JSON String:\")\n",
        "print(json_string)\n",
        "\n",
        "# Convert back to Python object\n",
        "parsed_data = json.loads(json_string)\n",
        "print(\"\\nParsed back:\")\n",
        "print(parsed_data[\"name\"])"
      ]
    },
    {
      "cell_type": "markdown",
      "metadata": {},
      "source": [
        "## 📤 Output"
      ]
    },
    {
      "cell_type": "markdown",
      "metadata": {},
      "source": [
        "JSON String:\n",
        "{\n",
        "  \"name\": \"Alice\",\n",
        "  \"age\": 30,\n",
        "  \"skills\": [\n",
        "    \"Python\",\n",
        "    \"AI\",\n",
        "    \"Data Science\"\n",
        "  ],\n",
        "  \"is_student\": false\n",
        "}\n",
        "\n",
        "Parsed back:\n",
        "Alice"
      ]
    },
    {
      "cell_type": "markdown",
      "metadata": {},
      "source": [
        "## ✅ JSON Key Points"
      ]
    },
    {
      "cell_type": "markdown",
      "metadata": {},
      "source": [
        "- 📝 JSON is lightweight and human-readable\n",
        "- 🔄 Easy conversion between Python objects and JSON\n",
        "- 🌍 Universal standard for data exchange\n",
        "- 💭 **Think:** Where have you seen JSON data before?"
      ]
    }
  ],
  "metadata": {
    "kernelspec": {
      "display_name": "Python 3",
      "language": "python",
      "name": "python3"
    },
    "language_info": {
      "name": "python",
      "version": "3.x"
    }
  },
  "nbformat": 4,
  "nbformat_minor": 5
}