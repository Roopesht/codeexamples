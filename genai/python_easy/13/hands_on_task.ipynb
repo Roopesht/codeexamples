{
  "cells": [
    {
      "cell_type": "markdown",
      "metadata": {},
      "source": [
        "# Weather App\n",
        " \n",
        "Build a simple weather application that fetches real-time weather data using an API."
      ]
    },
    {
      "cell_type": "markdown",
      "metadata": {},
      "source": [
        "In this notebook, we will learn how to connect to an external API, request weather data for a specific city, and display the information in a user-friendly way."
      ]
    },
    {
      "cell_type": "markdown",
      "metadata": {},
      "source": [
        "## Step 1: Sign Up for OpenWeatherMap API\n",
        " \n",
        "First, you'll need to sign up for a free API key at [OpenWeatherMap](https://openweathermap.org/). This key allows you to access their weather data."
      ]
    },
    {
      "cell_type": "markdown",
      "metadata": {},
      "source": [
        "## Step 2: Set Up Your API Key\n",
        " \n",
        "Once you have your API key, you can start using it in your Python code to access weather data."
      ]
    },
    {
      "cell_type": "markdown",
      "metadata": {},
      "source": [
        "## Step 3: Making API Requests\n",
        " \n",
        "We'll write a function to send a request to the weather API with a city name and retrieve weather data."
      ]
    },
    {
      "cell_type": "code",
      "metadata": {},
      "source": [
        "import requests\n",
        "\n",
        "def get_weather(city, api_key):\n",
        "    url = f'http://api.openweathermap.org/data/2.5/weather?q={city}&units=metric&appid={api_key}'\n",
        "    response = requests.get(url)\n",
        "    if response.status_code == 200:\n",
        "        return response.json()\n",
        "    else:\n",
        "        return None\n"
      ]
    },
    {
      "cell_type": "markdown",
      "metadata": {},
      "source": [
        "## Step 4: Parsing and Formatting Weather Data\n",
        " \n",
        "Let's create a function to extract relevant weather information from the API response and format it nicely."
      ]
    },
    {
      "cell_type": "code",
      "metadata": {},
      "source": [
        "def format_weather_data(data):\n",
        "    if data is None:\n",
        "        return \"Weather data unavailable. Please check the city name or try again.\"\n",
        "    city = data['name']\n",
        "    country = data['sys']['country']\n",
        "    temp = data['main']['temp']\n",
        "    feels_like = data['main']['feels_like']\n",
        "    humidity = data['main']['humidity']\n",
        "    condition = data['weather'][0]['description'].capitalize()\n",
        "    wind_speed = data['wind']['speed'] * 3.6  # convert m/s to km/h\n",
        "    weather_report = (\n",
        "        f\"📍 Weather in {city}, {country}\\n\"\n",
        "        f\"🌡️ Temperature: {temp}°C (feels like {feels_like}°C)\\n\"\n",
        "        f\"💧 Humidity: {humidity}%\\n\"\n",
        "        f\"☁️ Conditions: {condition}\\n\"\n",
        "        f\"💨 Wind: {wind_speed:.1f} km/h\"\n",
        "    )\n",
        "    return weather_report\n"
      ]
    },
    {
      "cell_type": "markdown",
      "metadata": {},
      "source": [
        "## Step 5: Main Application Loop\n",
        " \n",
        "Create a loop that asks the user for a city name and displays the weather data, until the user chooses to quit."
      ]
    },
    {
      "cell_type": "code",
      "metadata": {},
      "source": [
        "def run_weather_app(api_key):\n",
        "    print(\"🌤️ Welcome to the Weather App!\\n\")\n",
        "    while True:\n",
        "        city = input(\"Enter city name (or 'quit' to exit): \")\n",
        "        if city.lower() == 'quit':\n",
        "            print(\"👋 Thanks for using Weather App!\")\n",
        "            break\n",
        "        print(\"Fetching weather data...\\n\")\n",
        "        data = get_weather(city, api_key)\n",
        "        print(format_weather_data(data))\n",
        "\n",
        "# Replace 'your_api_key_here' with your actual OpenWeatherMap API key\n",
        "api_key = \"your_api_key_here\"\n",
        "run_weather_app(api_key)\n"
      ]
    },
    {
      "cell_type": "markdown",
      "metadata": {},
      "source": [
        "## Congratulations!\n",
        " \n",
        "🎉 You've built a simple weather application that:\n",
        "- 🌐 Connects to an external weather API\n",
        "- 📊 Retrieves and processes real-time data\n",
        "- 🎨 Displays information clearly and user-friendly\n",
        "- ⚠️ Handles errors gracefully\n",
        " \n",
        "💭 Remember, practice makes perfect! Keep coding and experimenting."
      ]
    }
  ],
  "metadata": {
    "kernelspec": {
      "display_name": "Python 3",
      "language": "python",
      "name": "python3"
    },
    "language_info": {
      "name": "python",
      "version": "3.x"
    }
  },
  "nbformat": 4,
  "nbformat_minor": 5
}