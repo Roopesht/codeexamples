{
  "cells": [
    {
      "cell_type": "markdown",
      "metadata": {},
      "source": [
        "# Advanced Topics: POST Requests & Authentication\n",
        "\n",
        "In this notebook, we will learn about making POST requests to APIs and how to handle authentication to access protected resources."
      ]
    },
    {
      "cell_type": "markdown",
      "metadata": {},
      "source": [
        "## 🔐 Beyond GET Requests\n",
        "\n",
        "- 📤 POST: Send data to APIs (create, update)\n",
        "- 🔑 API Authentication: Keys, tokens, OAuth\n",
        "- ⚠️ Error handling for robust applications\n",
        "- 🛡️ Security considerations"
      ]
    },
    {
      "cell_type": "markdown",
      "metadata": {},
      "source": [
        "## 📤 POST Request Example"
      ]
    },
    {
      "cell_type": "code",
      "execution_count": null,
      "metadata": {},
      "outputs": [],
      "source": [
        "import requests\n",
        "import json\n",
        "\n",
        "# POST request with JSON data\n",
        "def create_post(title, body, user_id):\n",
        "    url = \"https://jsonplaceholder.typicode.com/posts\"\n",
        "    \n",
        "    data = {\n",
        "        'title': title,\n",
        "        'body': body,\n",
        "        'userId': user_id\n",
        "    }\n",
        "    \n",
        "    headers = {\n",
        "        'Content-Type': 'application/json'\n",
        "    }\n",
        "    \n",
        "    try:\n",
        "        response = requests.post(url, json=data, headers=headers)\n",
        "        \n",
        "        if response.status_code == 201:  # Created\n",
        "            return {'success': True, 'data': response.json()}\n",
        "        else:\n",
        "            return {'success': False, 'error': f'Status: {response.status_code}'}\n",
        "            \n",
        "    except requests.RequestException as e:\n",
        "        return {'success': False, 'error': str(e)}\n",
        "\n",
        "# Test POST request\n",
        "result = create_post(\"My API Post\", \"This is posted via API!\", 1)\n",
        "print(f\"Result: {result}\")"
      ]
    },
    {
      "cell_type": "markdown",
      "metadata": {},
      "source": [
        "### 🚀 You can open this code in Google Colab for interactive execution:"
      ]
    },
    {
      "cell_type": "markdown",
      "metadata": {},
      "source": [
        "<a href=\"https://colab.research.google.com/github/Roopesht/codeexamples/blob/main/genai/python_easy/13/advanced.ipynb\" target=\"_blank\" class=\"colab-button\">🚀 Open in Colab</a>"
      ]
    },
    {
      "cell_type": "markdown",
      "metadata": {},
      "source": [
        "## 🔑 API Authentication Example"
      ]
    },
    {
      "cell_type": "code",
      "execution_count": null,
      "metadata": {},
      "outputs": [],
      "source": [
        "# API Key authentication example\n",
        "import requests\n",
        "\n",
        "# Define the URL for the protected resource\n",
        "url = \"https://api.example.com/protected-resource\"\n",
        "\n",
        "headers = {\n",
        "    'Authorization': 'Bearer YOUR_API_KEY',\n",
        "    'Content-Type': 'application/json'\n",
        "}\n",
        "\n",
        "try:\n",
        "    response = requests.get(url, headers=headers)\n",
        "    if response.status_code == 200:\n",
        "        print('Success:', response.json())\n",
        "    else:\n",
        "        print(f'Failed: {response.status_code}')\n",
        "except requests.RequestException as e:\n",
        "    print('Error:', e)"
      ]
    },
    {
      "cell_type": "markdown",
      "metadata": {},
      "source": [
        "## 🎯 Advanced Best Practices"
      ]
    },
    {
      "cell_type": "markdown",
      "metadata": {},
      "source": [
        "- 🔐 Never hardcode API keys in your code\n",
        "- ⚡ Implement retry logic for failed requests\n",
        "- 📊 Use appropriate HTTP methods\n",
        "- 🛡️ Validate data before sending"
      ]
    }
  ],
  "metadata": {
    "kernelspec": {
      "display_name": "Python 3",
      "language": "python",
      "name": "python3"
    },
    "language_info": {
      "name": "python",
      "version": "3.x"
    }
  },
  "nbformat": 4,
  "nbformat_minor": 5
}