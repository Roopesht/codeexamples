{
  "cells": [
    {
      "cell_type": "markdown",
      "metadata": {},
      "source": [
        "# Multiplication Table Generator"
      ]
    },
    {
      "cell_type": "markdown",
      "metadata": {},
      "source": [
        "Welcome! In this notebook, we will learn how to generate multiplication tables using Python. "
      ]
    },
    {
      "cell_type": "markdown",
      "metadata": {},
      "source": [
        "## 🎯 Your Mission: Multiplication Table Generator\n",
        "Create a program that generates multiplication tables using both for and while loops!\n",
        "This exercise helps you understand how loops work and how to make your programs more dynamic.\n",
        "\n",
        "Below is an example visual output:\n",
        "\n",
        "![Multiplication table visual](images/multiplication_table.png)\n",
        "\n",
        "*This is a classic programming exercise that demonstrates loop mastery!*"
      ]
    },
    {
      "cell_type": "markdown",
      "metadata": {},
      "source": [
        "## 📋 Task Requirements\n",
        "\n",
        "- 🔢 Accept a number from user input\n",
        "- 📊 Generate multiplication table (1-10)\n",
        "- 🔄 Implement using both for loop and while loop\n",
        "- ✨ Add formatting for better readability\n",
        "- 🎯 Include error handling for invalid inputs"
      ]
    },
    {
      "cell_type": "markdown",
      "metadata": {},
      "source": [
        "## 📝 Input/Output Examples\n",
        "\n",
        "```python\n",
        "# Example 1:\n",
        "Input: Enter a number: 5\n",
        "Output:\n",
        "=== Multiplication Table for 5 ===\n",
        "5 x 1 = 5\n",
        "5 x 2 = 10\n",
        "5 x 3 = 15\n",
        "... and so on until 10\n",
        "\n",
        "# Example 2:\n",
        "Input: Enter a number: 3\n",
        "Output:\n",
        "=== For Loop Version ===\n",
        "3 x 1 = 3\n",
        "3 x 2 = 6\n",
        "3 x 3 = 9\n",
        "... \n",
        "=== While Loop Version ===\n",
        "3 x 1 = 3\n",
        "3 x 2 = 6\n",
        "3 x 3 = 9\n",
        "... \n",
        "```"
      ]
    },
    {
      "cell_type": "markdown",
      "metadata": {},
      "source": [
        "## 🚀 Step-by-Step Approach\n",
        "\n",
        "- Step 1: Get user input and validate\n",
        "- Step 2: Create for loop version\n",
        "- Step 3: Create while loop version\n",
        "- Step 4: Add formatting and headers\n",
        "- Step 5: Test with different numbers\n",
        "- Bonus: Add option to generate multiple tables"
      ]
    },
    {
      "cell_type": "markdown",
      "metadata": {},
      "source": [
        "## 🏗️ Code Structure Template\n",
        "\n",
        "```python\n",
        "# Multiplication Table Generator\n",
        "def generate_with_for_loop(number):\n",
        "    \"\"\"Generate table using for loop\"\"\"\n",
        "    # Your code here\n",
        "    pass\n",
        "\n",
        "def generate_with_while_loop(number):\n",
        "    \"\"\"Generate table using while loop\"\"\"\n",
        "    # Your code here\n",
        "    pass\n",
        "\n",
        "def main():\n",
        "    # Get user input\n",
        "    # Call both functions\n",
        "    # Display results\n",
        "    pass\n",
        "\n",
        "if __name__ == \"__main__\":\n",
        "    main()\n",
        "```\n",
        "\n",
        "<a href=\"https://colab.research.google.com/github/Roopesht/codeexamples/blob/main/genai/python_easy/3/multiplication_table.ipynb\" target=\"_blank\" class=\"colab-button\">\n",
        "  🚀 Open in Colab\n",
        "</a>"
      ]
    },
    {
      "cell_type": "markdown",
      "metadata": {},
      "source": [
        "## 💡 Solution Explanation\n",
        "\n",
        "- **🔄 Both for and while loops can solve the same problem**: Learning both helps understand different ways to repeat tasks.\n",
        "- **🎯 For loops are more natural for known iterations**: Easy to use when the number of repetitions is known.\n",
        "- **⚡ While loops require manual counter management**: Flexibility but need careful handling.\n",
        "- **🎨 Formatting makes output user-friendly**: Important for clear display.\n",
        "- **🛡️ Input validation prevents errors**: Ensures program runs smoothly.\n",
        "\n",
        "*This exercise demonstrates loop versatility and practical application!*"
      ]
    },
    {
      "cell_type": "code",
      "metadata": {},
      "source": [
        "# Example implementation of the functions\n",
        "\ndef generate_with_for_loop(number):\n",
        "    result = []\n",
        "    for i in range(1, 11):\n",
        "        result.append(f\"{number} x {i} = {number * i}\")\n",
        "    return result\n",
        "\ndef generate_with_while_loop(number):\n",
        "    result = []\n",
        "    i = 1\n",
        "    while i <= 10:\n",
        "        result.append(f\"{number} x {i} = {number * i}\")\n",
        "        i += 1\n",
        "    return result\n",
        "\ndef main():\n",
        "    try:\n",
        "        user_input = input(\"Enter a number: \")\n",
        "        number = int(user_input)\n",
        "        if number <= 0:\n",
        "            print(\"Please enter a positive integer.\")\n",
        "            return\n",
        "    except ValueError:\n",
        "        print(\"Invalid input! Please enter a valid integer.\")\n",
        "        return\n",
        "    print(\"=== For Loop Version ===\")\n",
        "    for line in generate_with_for_loop(number):\n",
        "        print(line)\n",
        "    print(\"\\n=== While Loop Version ===\")\n",
        "    for line in generate_with_while_loop(number):\n",
        "        print(line)\n",
        "\n",
        "if __name__ == \"__main__\":\n",
        "    main()\n"
      ],
      "outputs": [],
      "execution_count": null
    }
  ],
  "metadata": {
    "kernelspec": {
      "name": "python3",
      "display_name": "Python 3",
      "language": "python"
    },
    "language_info": {
      "name": "python",
      "version": "3.x"
    }
  },
  "nbformat": 4,
  "nbformat_minor": 5
}