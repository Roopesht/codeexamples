{
  "cells": [
    {
      "cell_type": "markdown",
      "metadata": {},
      "source": [
        "# Multiplication Table Generator\n",
        "\n",
        "This notebook helps you learn how to generate multiplication tables using Python. You will practice using loops, handle user input, and format output neatly."
      ]
    },
    {
      "cell_type": "markdown",
      "metadata": {},
      "source": [
        "## Introduction\n",
        "A multiplication table shows the products of a number multiplied by a sequence of numbers. In this notebook, you'll learn how to create such tables using two different types of loops: **for** and **while**.\n",
        "\n",
        "Let's start by understanding the task:\n",
        "\n",
        "- Generate multiplication tables for any number\n",
        "- Use both for and while loops\n",
        "- Format the output neatly\n",
        "- Allow user to specify the size of the table\n",
        "- Validate user input to ensure it's a positive integer"
      ]
    },
    {
      "cell_type": "markdown",
      "metadata": {},
      "source": [
        "## Creating the Multiplication Table Functions\n",
        "\n",
        "We'll define two functions:\n",
        "- `multiplication_table_for`: uses a for loop\n",
        "- `multiplication_table_while`: uses a while loop\n",
        "\n",
        "These functions will generate and print the multiplication table for a given number and size."
      ]
    },
    {
      "cell_type": "code",
      "metadata": {},
      "source": [
        "def multiplication_table_for(number, size=10):\n",
        "    \"\"\"Generate table using for loop\"\"\"\n",
        "    for i in range(1, size + 1):\n",
        "        print(f\"{number} x {i} = {number * i}\")"
      ],
      "execution_count": null,
      "outputs": []
    },
    {
      "cell_type": "code",
      "metadata": {},
      "source": [
        "def multiplication_table_while(number, size=10):\n",
        "    \"\"\"Generate table using while loop\"\"\"\n",
        "    i = 1\n",
        "    while i <= size:\n",
        "        print(f\"{number} x {i} = {number * i}\")\n",
        "        i += 1"
      ],
      "execution_count": null,
      "outputs": []
    },
    {
      "cell_type": "markdown",
      "metadata": {},
      "source": [
        "## Main Program Logic\n",
        "\n",
        "Now, we'll create the main part of the program that asks the user for input, validates it, and then generates the multiplication table using both methods."
      ]
    },
    {
      "cell_type": "code",
      "metadata": {},
      "source": [
        "def main():\n",
        "    while True:\n",
        "        try:\n",
        "            num_input = input(\"Enter a positive integer for the multiplication table: \")\n",
        "            number = int(num_input)\n",
        "            if number <= 0:\n",
        "                print(\"Please enter a positive integer.\")\n",
        "                continue\n",
        "            break\n",
        "        except ValueError:\n",
        "            print(\"Invalid input. Please enter a valid positive integer.\")\n",
        "\n",
        "    while True:\n",
        "        try:\n",
        "            size_input = input(\"Enter the size of the table (number of multiples): \")\n",
        "            size = int(size_input)\n",
        "            if size <= 0:\n",
        "                print(\"Please enter a positive integer for size.\")\n",
        "                continue\n",
        "            break\n",
        "        except ValueError:\n",
        "            print(\"Invalid input. Please enter a valid positive integer.\")\n",
        "\n",
        "    print(f\"\\nMultiplication Table for {number} using for loop:\")\n",
        "    multiplication_table_for(number, size)\n",
        "\n",
        "    print(f\"\\nMultiplication Table for {number} using while loop:\")\n",
        "    multiplication_table_while(number, size)\n",
        "\n",
        "if __name__ == \"__main__\":\n",
        "    main()"
      ],
      "execution_count": null,
      "outputs": []
    },
    {
      "cell_type": "markdown",
      "metadata": {},
      "source": [
        "## Summary\n",
        "\n",
        "- You learned how to create multiplication tables with different loops.\n",
        "- You practiced input validation to ensure users enter positive integers.\n",
        "- You formatted output neatly for clear understanding.\n",
        "- This utility can be expanded or customized further.\n",
        "\n",
        "Happy coding!"
      ]
    }
  ],
  "metadata": {
    "kernelspec": {
      "name": "python3",
      "display_name": "Python 3",
      "language": "python"
    },
    "language_info": {
      "name": "python",
      "version": "3.x"
    }
  },
  "nbformat": 4,
  "nbformat_minor": 5
}