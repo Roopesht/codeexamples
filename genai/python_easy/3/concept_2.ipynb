{
  "cells": [
    {
      "cell_type": "markdown",
      "metadata": {},
      "source": [
        "# 📊 Concept 2: For Loops - Counting Made Easy"
      ]
    },
    {
      "cell_type": "markdown",
      "metadata": {},
      "source": [
        ">*\"For loops: When you know exactly how many times to repeat\"*"
      ]
    },
    {
      "cell_type": "markdown",
      "metadata": {},
      "source": [
        "![For loop flowchart showing initialization, condition, and increment](images/for-loop-diagram.png)"
      ]
    },
    {
      "cell_type": "markdown",
      "metadata": {},
      "source": [
        "## The `range()` Function"
      ]
    },
    {
      "cell_type": "markdown",
      "metadata": {},
      "source": [
        "- 🔢 **`range(5):`** generates `0, 1, 2, 3, 4`",
        "- 🎯 **`range(1, 6):`** generates `1, 2, 3, 4, 5`",
        "- ⚡ **`range(0, 10, 2):`** generates `0, 2, 4, 6, 8`"
      ]
    },
    {
      "cell_type": "markdown",
      "metadata": {},
      "source": [
        "## For Loop Syntax"
      ]
    },
    {
      "cell_type": "code",
      "execution_count": null,
      "metadata": {},
      "outputs": [],
      "source": [
        "for variable in sequence:\n",
        "    # code to repeat\n",
        "    print(variable)"
      ]
    },
    {
      "cell_type": "markdown",
      "metadata": {},
      "source": [
        "**Key points:**"
      ]
    },
    {
      "cell_type": "markdown",
      "metadata": {},
      "source": [
        "- Colon (`:`) is mandatory",
        "- Indentation defines the loop body",
        "- Variable takes each value in sequence"
      ]
    },
    {
      "cell_type": "markdown",
      "metadata": {},
      "source": [
        "## Practical Examples"
      ]
    },
    {
      "cell_type": "code",
      "execution_count": null,
      "metadata": {},
      "outputs": [],
      "source": [
        "# Example 1: Simple counting\n",
        "for i in range(5):\n",
        "    print(f\"Count: {i}\")\n",
        "\n",
        "# Example 2: AI training simulation\n",
        "for epoch in range(10):\n",
        "    print(f\"Training epoch {epoch + 1}/10\")\n",
        "    \n",
        "# Example 3: Processing data points\n",
        "data_points = [1, 2, 3, 4, 5]\n",
        "for point in data_points:\n",
        "    processed = point * 2\n",
        "    print(f\"Processed: {processed}\")"
      ]
    },
    {
      "cell_type": "markdown",
      "metadata": {},
      "source": [
        "[🚀 Try For Loops in Colab](https://colab.research.google.com/github/Roopesht/codeexamples/blob/main/genai/python_easy/3/for_loops.ipynb)"
      ]
    },
    {
      "cell_type": "markdown",
      "metadata": {},
      "source": [
        "## 🎯 When to Use For Loops"
      ]
    },
    {
      "cell_type": "markdown",
      "metadata": {},
      "source": [
        "- ✅ Known number of iterations",
        "- ✅ Iterating through sequences",
        "- ✅ Processing lists/data collections",
        "- ✅ Creating patterns or tables"
      ]
    },
    {
      "cell_type": "markdown",
      "metadata": {},
      "source": [
        ">*🤔 Question: How would you use a for loop to greet 5 different users?*"
      ]
    }
  ],
  "metadata": {
    "kernelspec": {
      "display_name": "Python 3",
      "language": "python",
      "name": "python3"
    },
    "language_info": {
      "name": "python",
      "version": "3.x"
    }
  },
  "nbformat": 4,
  "nbformat_minor": 5
}