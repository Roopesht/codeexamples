{
  "cells": [
    {
      "cell_type": "markdown",
      "metadata": {},
      "source": [
        "# Concept 2: For Loops - range(), Basic Iteration"
      ]
    },
    {
      "cell_type": "markdown",
      "metadata": {},
      "source": [
        "## For Loops: Iterate with Precision"
      ]
    },
    {
      "cell_type": "markdown",
      "metadata": {},
      "source": [
        "- 🎯 Execute code for a specific number of times",
        "- 📊 Iterate through sequences (lists, strings, ranges)",
        "- 🔢 Use range() function for number sequences",
        "- ⚡ Most common loop type in Python"
      ]
    },
    {
      "cell_type": "markdown",
      "metadata": {},
      "source": [
        "## 🔧 For Loop Syntax"
      ]
    },
    {
      "cell_type": "code",
      "metadata": {},
      "execution_count": null,
      "outputs": [],
      "source": [
        "# Basic for loop structure",
        "for variable in sequence:",
        "    # Code to execute",
        "",
        "# Common pattern with range()",
        "for i in range(5):",
        "    print(f\"Iteration {i}\")"
      ]
    },
    {
      "cell_type": "markdown",
      "metadata": {},
      "source": [
        "<em>The variable takes each value from the sequence one by one</em>"
      ]
    },
    {
      "cell_type": "markdown",
      "metadata": {},
      "source": [
        "## 🔢 Understanding range()"
      ]
    },
    {
      "cell_type": "code",
      "metadata": {},
      "execution_count": null,
      "outputs": [],
      "source": [
        "# range(stop) - from 0 to stop-1",
        "for i in range(5):",
        "    print(i)  # Prints: 0, 1, 2, 3, 4",
        "",
        "# range(start, stop) - from start to stop-1",
        "for i in range(2, 7):",
        "    print(i)  # Prints: 2, 3, 4, 5, 6",
        "",
        "# range(start, stop, step) - with custom step",
        "for i in range(0, 10, 2):",
        "    print(i)  # Prints: 0, 2, 4, 6, 8"
      ]
    },
    {
      "cell_type": "markdown",
      "metadata": {},
      "source": [
        "## 🎯 Practical Examples"
      ]
    },
    {
      "cell_type": "code",
      "metadata": {},
      "execution_count": null,
      "outputs": [],
      "source": [
        "# Example 1: Countdown timer",
        "for i in range(10, 0, -1):",
        "    print(f\"Countdown: {i}\")",
        "print(\"Blast off! 🚀\")",
        "",
        "# Example 2: Sum of numbers",
        "total = 0",
        "for num in range(1, 6):",
        "    total += num",
        "print(f\"Sum: {total}\")  # Output: 15",
        "",
        "# Example 3: AI training iterations",
        "for epoch in range(100):",
        "    print(f\"Training epoch {epoch + 1}/100\")"
      ]
    },
    {
      "cell_type": "markdown",
      "metadata": {},
      "source": [
        "## ✅ For Loop Mastery"
      ]
    },
    {
      "cell_type": "markdown",
      "metadata": {},
      "source": [
        "**For loops are perfect when you know how many times to repeat!**",
        "- Use range() for number sequences",
        "- Great for processing lists and collections",
        "- Essential for AI model training iterations"
      ]
    },
    {
      "cell_type": "markdown",
      "metadata": {},
      "source": [
        "> \"What's a task you'd want to repeat exactly 10 times?\""
      ]
    }
  ],
  "metadata": {
    "kernelspec": {
      "name": "python3",
      "display_name": "Python 3",
      "language": "python"
    },
    "language_info": {
      "name": "python",
      "version": "3.x"
    }
  },
  "nbformat": 4,
  "nbformat_minor": 5
}