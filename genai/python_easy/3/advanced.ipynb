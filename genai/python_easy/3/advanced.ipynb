{
  "cells": [
    {
      "cell_type": "markdown",
      "metadata": {},
      "source": [
        "# Advanced Loop Techniques in Python\n",
        "\n",
        "In this notebook, we'll explore some powerful techniques to make your loops more efficient and easier to read. These include nested loops, `enumerate()`, and `zip()` functions."
      ]
    },
    {
      "cell_type": "markdown",
      "metadata": {},
      "source": [
        "## Nested Loops\n",
        "\n",
        "Sometimes, you need to perform operations on multi-dimensional data, such as matrices or images. This is where nested loops come in handy. Let's see some examples."
      ]
    },
    {
      "cell_type": "code",
      "execution_count": null,
      "metadata": {},
      "outputs": [],
      "source": [
        "# Creating a multiplication table using nested loops\n",
        "for i in range(1, 4):\n",
        "    for j in range(1, 4):\n",
        "        print(f\"{i} x {j} = {i * j}\")\n",
        "    print(\"---\")\n",
        "\n",
        "# Example: Processing 2D data (image pixels)\n",
        "height = 3  # Example height\n",
        "width = 3   # Example width\n",
        "image = [[0]*width for _ in range(height)]  # Dummy image data\n",
        "result = [[0]*width for _ in range(height)]\n",
        "\ndef apply_filter(pixel):\n",
        "    # Dummy filter function\n",
        "    return pixel + 1\n",
        "\n",
        "for row in range(height):\n",
        "    for col in range(width):\n",
        "        pixel_value = image[row][col]\n",
        "        processed_pixel = apply_filter(pixel_value)\n",
        "        result[row][col] = processed_pixel"
      ]
    },
    {
      "cell_type": "markdown",
      "metadata": {},
      "source": [
        "## Using `enumerate()` for Cleaner Loops\n",
        "\n",
        "The `enumerate()` function allows you to loop over something and have an automatic counter. This makes your code cleaner and easier to read."
      ]
    },
    {
      "cell_type": "code",
      "execution_count": null,
      "metadata": {},
      "outputs": [],
      "source": [
        "# Example: Looping through a list with indices\n",
        "fruits = [\"apple\", \"banana\", \"orange\"]\n",
        "\n",
        "# Without enumerate\n",
        "for i in range(len(fruits)):\n",
        "    print(f\"{i}: {fruits[i]}\")\n",
        "\n",
        "# With enumerate - cleaner and more Pythonic\n",
        "for index, fruit in enumerate(fruits):\n",
        "    print(f\"{index}: {fruit}\")\n",
        "\n",
        "# Example: Processing training losses with index\n",
        "training_losses = [0.25, 0.15, 0.10]\n",
        "for epoch, loss in enumerate(training_losses):\n",
        "    print(f\"Epoch {epoch}: Loss = {loss:.4f}\")"
      ]
    },
    {
      "cell_type": "markdown",
      "metadata": {},
      "source": [
        "## Using `zip()` for Parallel Processing\n",
        "\n",
        "The `zip()` function allows you to combine multiple sequences and iterate over them together. This is useful when you want to process related data in parallel."
      ]
    },
    {
      "cell_type": "code",
      "execution_count": null,
      "metadata": {},
      "outputs": [],
      "source": [
        "# Combining multiple lists\n",
        "names = [\"Alice\", \"Bob\", \"Charlie\"]\n",
        "ages = [25, 30, 35]\n",
        "cities = [\"NYC\", \"LA\", \"Chicago\"]\n",
        "\n",
        "# Process multiple lists together\n",
        "for name, age, city in zip(names, ages, cities):\n",
        "    print(f\"{name} is {age} years old and lives in {city}\")\n",
        "\n",
        "# Example: Features and labels (dummy example)\n",
        "X_train = [[1, 2], [3, 4], [5, 6]]  # Dummy features\n",
        "y_train = [0, 1, 0]  # Dummy labels\n",
        "class DummyModel:\n",
        "    def predict(self, feature):\n",
        "        return sum(feature)\n",
        "\ndef calculate_accuracy(prediction, label):\n",
        "    # Dummy accuracy calculation\n",
        "    return 1.0 if prediction == label else 0.0\n",
        "\n",
        "model = DummyModel()\n",
        "for feature, label in zip(X_train, y_train):\n",
        "    prediction = model.predict(feature)\n",
        "    accuracy = calculate_accuracy(prediction, label)\n",
        "    print(f\"Prediction: {prediction}, Actual: {label}, Accuracy: {accuracy}\")"
      ]
    },
    {
      "cell_type": "markdown",
      "metadata": {},
      "source": [
        "## Summary of Advanced Loop Techniques\n",
        "\n",
        "These techniques make your loops more powerful and your code cleaner:\n",
        "- **Nested loops** for handling multi-dimensional data\n",
        "- **`enumerate()`** for getting index-value pairs\n",
        "- **`zip()`** for parallel processing of multiple sequences\n",
        "\n",
        "Happy coding!"
      ]
    }
  ],
  "metadata": {
    "kernelspec": {
      "display_name": "Python 3",
      "language": "python",
      "name": "python3"
    },
    "language_info": {
      "name": "python",
      "version": "3.x"
    }
  },
  "nbformat": 4,
  "nbformat_minor": 5
}