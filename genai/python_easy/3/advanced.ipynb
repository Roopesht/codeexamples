{
  "cells": [
    {
      "cell_type": "markdown",
      "metadata": {},
      "source": [
        "# Advanced Python: Nested Loops & Optimization\n",
        "\n",
        "Welcome to this advanced Python tutorial! Today, we'll explore nested loops, how they work, and when to use them effectively."
      ]
    },
    {
      "cell_type": "markdown",
      "metadata": {},
      "source": [
        "## 🚀 Nested Loops & Their Use Cases\n",
        "\n",
        "Nested loops are loops inside other loops. They are especially useful when working with 2D data structures like matrices or tables.\n",
        "\n",
        "### Visual Representation:\n",
        "\n",
        "Imagine a grid where for each row, you process each column:\n",
        "\n",
        "![Nested Loops Image](images/nested-loops.png)"
      ]
    },
    {
      "cell_type": "markdown",
      "metadata": {},
      "source": [
        "## Nested Loops Explained"
      ]
    },
    {
      "cell_type": "markdown",
      "metadata": {},
      "source": [
        "- 🔄 Loop inside another loop\n",
        "- 📊 Outer loop runs once for each item, inner loop processes each element in that item\n",
        "- 🎯 Useful for 2D data like matrices or images\n",
        "- ⚡ Common in image processing, neural networks, and more"
      ]
    },
    {
      "cell_type": "markdown",
      "metadata": {},
      "source": [
        "## Practical Examples of Nested Loops"
      ]
    },
    {
      "cell_type": "code",
      "metadata": {},
      "execution_count": null,
      "outputs": [],
      "source": [
        "# Example 1: Multiplication table\n",
        "for i in range(1, 4):\n",
        "    for j in range(1, 4):\n",
        "        print(f\"{i} x {j} = {i * j}\")\n",
        "    print(\"---\")"
      ]
    },
    {
      "cell_type": "code",
      "metadata": {},
      "execution_count": null,
      "outputs": [],
      "source": [
        "# Example 2: Processing 2D data (e.g., image pixels)\n",
        "image_data = [[1, 2, 3], [4, 5, 6], [7, 8, 9]]\n",
        "for row in image_data:\n",
        "    for pixel in row:\n",
        "        processed_pixel = pixel * 2  # Simple processing\n",
        "        print(processed_pixel, end=\" \")\n",
        "    print()  # New line after each row"
      ]
    },
    {
      "cell_type": "code",
      "metadata": {},
      "execution_count": null,
      "outputs": [],
      "source": [
        "# Example 3: Using enumerate and zip functions\n",
        "names = [\"Alice\", \"Bob\", \"Charlie\"]\n",
        "scores = [85, 92, 78]\n",
        "\n",
        "# Using enumerate to get index and name\n",
        "for index, name in enumerate(names):\n",
        "    print(f\"{index + 1}. {name}\")\n",
        "\n",
        "# Using zip to combine names and scores\n",
        "for name, score in zip(names, scores):\n",
        "    print(f\"{name}: {score}\")"
      ]
    },
    {
      "cell_type": "markdown",
      "metadata": {},
      "source": [
        "## Try It Yourself!\n",
        "\n",
        "Click the link below to experiment with nested loops in Google Colab:\n",
        "\n",
        "[🚀 Try Nested Loops in Colab](https://colab.research.google.com/github/Roopesht/codeexamples/blob/main/genai/python_easy/3/nested_loops.ipynb)"
      ]
    },
    {
      "cell_type": "markdown",
      "metadata": {},
      "source": [
        "## Loop Optimization Tips"
      ]
    },
    {
      "cell_type": "markdown",
      "metadata": {},
      "source": [
        "- ⚡ Avoid nested loops when possible for better performance\n",
        "- 🎯 Use built-in functions like `enumerate` and `zip` to simplify code\n",
        "- 🔄 Consider list comprehensions for simple operations\n",
        "- 📊 Profile your code to identify bottlenecks"
      ]
    }
  ],
  "metadata": {
    "kernelspec": {
      "display_name": "Python 3",
      "language": "python",
      "name": "python3"
    },
    "language_info": {
      "name": "python",
      "version": "3.x"
    }
  },
  "nbformat": 4,
  "nbformat_minor": 5
}