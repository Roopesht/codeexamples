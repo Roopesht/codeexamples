{
 "cells": [
  {
   "cell_type": "markdown",
   "metadata": {},
   "source": [
    "## 💻 Hands-on Task\n",
    "### 🔢 Multiplication Table Generator\n",
    "**Goal:** Create a program that generates multiplication tables using both for and while loops  \n",
    "_\"Practice makes perfect — let's build something useful!\"_"
   ]
  },
  {
   "cell_type": "markdown",
   "metadata": {},
   "source": [
    "## 📋 Task Structure\n",
    "1. **Step 1:** Get user input for which table to generate  \n",
    "2. **Step 2:** Create table using for loop  \n",
    "3. **Step 3:** Create same table using while loop  \n",
    "4. **Step 4:** Add option to generate multiple tables  \n",
    "5. **Step 5:** Format output nicely"
   ]
  },
  {
   "cell_type": "markdown",
   "metadata": {},
   "source": [
    "## 🎯 Expected Output\n",
    "```\n",
    "Enter a number for multiplication table: 7\n",
    "\n",
    "Using For Loop:\n",
    "7 × 1 = 7\n",
    "7 × 2 = 14\n",
    "...\n",
    "7 × 10 = 70\n",
    "\n",
    "Using While Loop:\n",
    "7 × 1 = 7\n",
    "7 × 2 = 14\n",
    "...\n",
    "7 × 10 = 70\n",
    "```"
   ]
  },
  {
   "cell_type": "markdown",
   "metadata": {},
   "source": [
    "## Step 1: Get User Input"
   ]
  },
  {
   "cell_type": "code",
   "execution_count": null,
   "metadata": {},
   "outputs": [],
   "source": [
    "# Get user input\n",
    "print(\"🔢 Multiplication Table Generator\")\n",
    "print(\"=\" * 35)\n",
    "\n",
    "number = int(input(\"Enter a number for multiplication table: \"))\n",
    "print(f\"\\nGenerating table for {number}:\")\n",
    "print(\"-\" * 30)"
   ]
  },
  {
   "cell_type": "markdown",
   "metadata": {},
   "source": [
    "## Step 2: For Loop Implementation"
   ]
  },
  {
   "cell_type": "code",
   "execution_count": null,
   "metadata": {},
   "outputs": [],
   "source": [
    "# Using For Loop\n",
    "print(\"\\n🔄 Using For Loop:\")\n",
    "print(\"-\" * 20)\n",
    "\n",
    "for i in range(1, 11):\n",
    "    result = number * i\n",
    "    print(f\"{number} × {i} = {result}\")"
   ]
  },
  {
   "cell_type": "markdown",
   "metadata": {},
   "source": [
    "## Step 3: While Loop Implementation"
   ]
  },
  {
   "cell_type": "code",
   "execution_count": null,
   "metadata": {},
   "outputs": [],
   "source": [
    "# Using While Loop\n",
    "print(\"\\n⚡ Using While Loop:\")\n",
    "print(\"-\" * 20)\n",
    "\n",
    "i = 1\n",
    "while i <= 10:\n",
    "    result = number * i\n",
    "    print(f\"{number} × {i} = {result}\")\n",
    "    i += 1  # Don't forget to increment!"
   ]
  },
  {
   "cell_type": "markdown",
   "metadata": {},
   "source": [
    "## Step 4: Multiple Tables (Bonus)"
   ]
  },
  {
   "cell_type": "code",
   "execution_count": null,
   "metadata": {},
   "outputs": [],
   "source": [
    "# Generate multiple tables\n",
    "print(\"\\n🚀 Bonus: Multiple Tables\")\n",
    "start = int(input(\"Start from: \"))\n",
    "end = int(input(\"End at: \"))\n",
    "\n",
    "for num in range(start, end + 1):\n",
    "    print(f\"\\nTable for {num}:\")\n",
    "    for i in range(1, 11):\n",
    "        print(f\"{num} × {i} = {num * i}\")\n",
    "    print(\"-\" * 15)"
   ]
  },
  {
   "cell_type": "markdown",
   "metadata": {},
   "source": [
    "## 🎯 Complete Solution"
   ]
  },
  {
   "cell_type": "code",
   "execution_count": null,
   "metadata": {},
   "outputs": [],
   "source": [
    "# Complete Multiplication Table Generator\n",
    "def generate_table_for(number):\n",
    "    \"\"\"Generate multiplication table using for loop\"\"\"\n",
    "    print(f\"\\n🔄 Table for {number} (For Loop):\")\n",
    "    for i in range(1, 11):\n",
    "        print(f\"{number} × {i} = {number * i}\")\n",
    "\n",
    "def generate_table_while(number):\n",
    "    \"\"\"Generate multiplication table using while loop\"\"\"\n",
    "    print(f\"\\n⚡ Table for {number} (While Loop):\")\n",
    "    i = 1\n",
    "    while i <= 10:\n",
    "        print(f\"{number} × {i} = {number * i}\")\n",
    "        i += 1\n",
    "\n",
    "# Main program\n",
    "print(\"🔢 Multiplication Table Generator\")\n",
    "number = int(input(\"Enter a number: \"))\n",
    "\n",
    "generate_table_for(number)\n",
    "generate_table_while(number)\n",
    "\n",
    "print(\"\\n✅ Task Complete! Well done! 🎉\")"
   ]
  }
 ],
 "metadata": {
  "kernelspec": {
   "display_name": "Python 3",
   "language": "python",
   "name": "python3"
  },
  "language_info": {
   "name": "python",
   "version": "3.x"
  }
 },
 "nbformat": 4,
 "nbformat_minor": 5
}
