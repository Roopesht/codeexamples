{
 "cells": [
  {
   "cell_type": "markdown",
   "metadata": {},
   "source": [
    "## 🔄 Concept 1: Why Loops? - The Power of Repetition"
   ]
  },
  {
   "cell_type": "markdown",
   "metadata": {},
   "source": [
    "![Person doing repetitive manual tasks vs automated computer tasks](images/repetitive_tasks.png)"
   ]
  },
  {
   "cell_type": "markdown",
   "metadata": {},
   "source": [
    "### What are Loops?\n",
    "- **Definition:** Loops repeat a block of code multiple times  \n",
    "- **Purpose:** Automate repetitive tasks efficiently  \n",
    "- **Benefits:** Less code, fewer errors, more maintainable  \n",
    "- **Real-world:** Like assembly lines in factories"
   ]
  },
  {
   "cell_type": "markdown",
   "metadata": {},
   "source": [
    "### ❌ Without Loops - The Hard Way"
   ]
  },
  {
   "cell_type": "code",
   "execution_count": null,
   "metadata": {},
   "outputs": [],
   "source": [
    "print(\"Welcome to Python!\")\n",
    "print(\"Welcome to Python!\")\n",
    "print(\"Welcome to Python!\")\n",
    "print(\"Welcome to Python!\")\n",
    "print(\"Welcome to Python!\")\n",
    "# What if we need 100 times? 😰"
   ]
  },
  {
   "cell_type": "markdown",
   "metadata": {},
   "source": [
    "### ✅ With Loops - The Smart Way"
   ]
  },
  {
   "cell_type": "code",
   "execution_count": null,
   "metadata": {},
   "outputs": [],
   "source": [
    "for i in range(5):\n",
    "    print(\"Welcome to Python!\")\n",
    "\n",
    "# Same result, much cleaner! 🎉"
   ]
  },
  {
   "cell_type": "markdown",
   "metadata": {},
   "source": [
    "### 🤔 Think About This...\n",
    "**Question:** You need to send birthday wishes to 50 friends. Would you write 50 separate `print` statements or use a loop?  \n",
    "_Discuss with your neighbor!_"
   ]
  }
 ],
 "metadata": {
  "kernelspec": {
   "display_name": "Python 3",
   "language": "python",
   "name": "python3"
  },
  "language_info": {
   "name": "python",
   "version": "3.x"
  }
 },
 "nbformat": 4,
 "nbformat_minor": 5
}
