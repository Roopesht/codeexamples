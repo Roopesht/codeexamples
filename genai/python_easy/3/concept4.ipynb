<!-- Concept 4: Loop Control -->
<section class="outer-slide">
  <p style="text-align: left;">🎮 Concept 4: Loop Control - break and continue</p>
  
  <section data-note-key="loop-control-visual">
    <img src="images/loop_control_flow.png" alt="Diagram showing break and continue statements affecting loop flow, size 800x600"></img>
  </section>

  <section data-note-key="break-statement">
    <h3>🛑 break Statement</h3>
    <pre><code class="language-python">
# break - Exit the loop immediately
for i in range(10):
    if i == 5:
        break  # Stop when i equals 5
    print(i)

# Output: 0, 1, 2, 3, 4
print("Loop ended!")
    </code></pre>
  </section>

  <section data-note-key="continue-statement">
    <h3>⏭️ continue Statement</h3>
    <pre><code class="language-python">
# continue - Skip current iteration
for i in range(5):
    if i == 2:
        continue  # Skip when i equals 2
    print(i)

# Output: 0, 1, 3, 4
# Notice 2 is missing!
    </code></pre>
  </section>

  <section data-note-key="practical-example">
    <h3>🎯 Practical Example</h3>
    <pre><code class="language-python">
# Find the first number divisible by 7
for num in range(1, 100):
    if num % 7 != 0:
        continue  # Skip if not divisible by 7
    
    print(f"Found it! {num} is divisible by 7")
    break  # Exit after finding the first one

# Output: Found it! 7 is divisible by 7
    </code></pre>
  </section>

  <section data-note-key="loop-control-output">
    <h3>Output Demonstration</h3>
    <pre><code class="language-python">
print("Even numbers only:")
for i in range(10):
    if i % 2 != 0:  # If odd
        continue    # Skip odd numbers
    print(i)        # Print even numbers
    </code></pre>
    <p><strong>Output:</strong></p>
    <pre>
Even numbers only:
0
2
4
6
8
    </pre>
  </section>

  <section data-note-key="control-question">
    <h3>🤔 Challenge Time!</h3>
    <p><strong>Scenario:</strong> You're checking a list of scores. Stop when you find a score above 90, but skip any score of exactly 50.</p>
    <p><em>Which control statements would you use?</em></p>
  </section>
</section>
