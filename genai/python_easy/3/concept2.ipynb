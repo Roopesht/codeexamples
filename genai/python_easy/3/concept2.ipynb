{
 "cells": [
  {
   "cell_type": "markdown",
   "metadata": {},
   "source": [
    "## 🎯 Concept 2: For Loops - Counting Made Easy"
   ]
  },
  {
   "cell_type": "markdown",
   "metadata": {},
   "source": [
    "![Visual diagram showing for loop execution flow with arrows and steps](images/for_loop_diagram.png)"
   ]
  },
  {
   "cell_type": "markdown",
   "metadata": {},
   "source": [
    "### For Loop Syntax"
   ]
  },
  {
   "cell_type": "code",
   "execution_count": null,
   "metadata": {},
   "outputs": [],
   "source": [
    "for variable in sequence:\n",
    "    # Code to repeat\n",
    "    print(variable)\n",
    "\n",
    "# Most common: using range()\n",
    "for i in range(5):  # 0, 1, 2, 3, 4\n",
    "    print(f\"Count: {i}\")"
   ]
  },
  {
   "cell_type": "markdown",
   "metadata": {},
   "source": [
    "### Understanding `range()`"
   ]
  },
  {
   "cell_type": "code",
   "execution_count": null,
   "metadata": {},
   "outputs": [],
   "source": [
    "# range(stop) - starts from 0\n",
    "for i in range(3):\n",
    "    print(i)  # Output: 0, 1, 2\n",
    "\n",
    "# range(start, stop)\n",
    "for i in range(2, 5):\n",
    "    print(i)  # Output: 2, 3, 4\n",
    "\n",
    "# range(start, stop, step)\n",
    "for i in range(0, 10, 2):\n",
    "    print(i)  # Output: 0, 2, 4, 6, 8"
   ]
  },
  {
   "cell_type": "markdown",
   "metadata": {},
   "source": [
    "### 🎯 Output Example"
   ]
  },
  {
   "cell_type": "code",
   "execution_count": null,
   "metadata": {},
   "outputs": [],
   "source": [
    "for day in range(1, 8):\n",
    "    print(f\"Day {day} of the week\")"
   ]
  },
  {
   "cell_type": "markdown",
   "metadata": {},
   "source": [
    "**Output:**\n",
    "```\n",
    "Day 1 of the week\n",
    "Day 2 of the week\n",
    "Day 3 of the week\n",
    "Day 4 of the week\n",
    "Day 5 of the week\n",
    "Day 6 of the week\n",
    "Day 7 of the week\n",
    "```"
   ]
  },
  {
   "cell_type": "markdown",
   "metadata": {},
   "source": [
    "### 🤔 Quick Challenge\n",
    "**Question:** How would you use a for loop to print \"Python is awesome!\" 10 times?  \n",
    "_Try it in your mind first!_"
   ]
  }
 ],
 "metadata": {
  "kernelspec": {
   "display_name": "Python 3",
   "language": "python",
   "name": "python3"
  },
  "language_info": {
   "name": "python",
   "version": "3.x"
  }
 },
 "nbformat": 4,
 "nbformat_minor": 5
}
