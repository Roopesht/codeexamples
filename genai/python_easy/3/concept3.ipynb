{
 "cells": [
  {
   "cell_type": "markdown",
   "metadata": {},
   "source": [
    "## ⚡ Concept 3: While Loops - Condition-Based Repetition"
   ]
  },
  {
   "cell_type": "markdown",
   "metadata": {},
   "source": [
    "![Flowchart showing while loop decision making process with condition check](images/while_loop_flowchart.png)"
   ]
  },
  {
   "cell_type": "markdown",
   "metadata": {},
   "source": [
    "### While Loop Syntax"
   ]
  },
  {
   "cell_type": "code",
   "execution_count": null,
   "metadata": {},
   "outputs": [],
   "source": [
    "while condition:\n",
    "    # Code to repeat\n",
    "    # Don't forget to update the condition!\n",
    "\n",
    "# Example: Countdown\n",
    "count = 5\n",
    "while count > 0:\n",
    "    print(f\"Countdown: {count}\")\n",
    "    count = count - 1  # Update condition!\n",
    "print(\"Blast off! 🚀\")"
   ]
  },
  {
   "cell_type": "markdown",
   "metadata": {},
   "source": [
    "### 🎯 When to Use While vs For?\n",
    "- **For loops:** When you know how many times to repeat  \n",
    "- **While loops:** When you repeat until a condition changes  \n",
    "- **Example:** Reading user input until they type \"quit\""
   ]
  },
  {
   "cell_type": "markdown",
   "metadata": {},
   "source": [
    "### Practical While Loop Example"
   ]
  },
  {
   "cell_type": "code",
   "execution_count": null,
   "metadata": {},
   "outputs": [],
   "source": [
    "password = \"\"\n",
    "while password != \"python123\":\n",
    "    password = input(\"Enter password: \")\n",
    "    if password != \"python123\":\n",
    "        print(\"Wrong password! Try again.\")\n",
    "\n",
    "print(\"Access granted! Welcome! 🎉\")"
   ]
  },
  {
   "cell_type": "markdown",
   "metadata": {},
   "source": [
    "### ⚠️ Beware of Infinite Loops!"
   ]
  },
  {
   "cell_type": "code",
   "execution_count": null,
   "metadata": {},
   "outputs": [],
   "source": [
    "# BAD - This will run forever!\n",
    "count = 5\n",
    "while count > 0:\n",
    "    print(\"This will never stop!\")\n",
    "    # Missing: count = count - 1\n",
    "\n",
    "# GOOD - Always update your condition\n",
    "count = 5\n",
    "while count > 0:\n",
    "    print(f\"Count: {count}\")\n",
    "    count = count - 1  # ✅ Update condition"
   ]
  },
  {
   "cell_type": "markdown",
   "metadata": {},
   "source": [
    "### 🤔 Real-World Scenario\n",
    "**Question:** You're building a simple ATM. How would you keep asking for PIN until the user enters the correct one?  \n",
    "_Hint: Think about the condition!_"
   ]
  }
 ],
 "metadata": {
  "kernelspec": {
   "display_name": "Python 3",
   "language": "python",
   "name": "python3"
  },
  "language_info": {
   "name": "python",
   "version": "3.x"
  }
 },
 "nbformat": 4,
 "nbformat_minor": 5
}
