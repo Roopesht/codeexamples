{
  "cells": [
    {
      "cell_type": "markdown",
      "metadata": {},
      "source": [
        "# Understanding While Loops in Python\n",
        "\n",
        "In this lesson, we will learn about **while loops**, a powerful tool in Python to perform repeated actions based on a condition. Let's explore how they work and see some examples!"
      ]
    },
    {
      "cell_type": "markdown",
      "metadata": {},
      "source": [
        "## ⚡ Concept 3: While Loops - Condition-Based Repetition\n",
        "\n",
        "### While Loops: Repeat Until Condition Changes\n",
        "- 🔄 Execute code while a condition is True\n",
        "- ❓ Don't know exact number of iterations\n",
        "- ⚠️ Risk of infinite loops if condition never becomes False\n",
        "- 🎯 Perfect for user input validation and game loops"
      ]
    },
    {
      "cell_type": "markdown",
      "metadata": {},
      "source": [
        "### 🔧 While Loop Syntax"
      ]
    },
    {
      "cell_type": "code",
      "execution_count": null,
      "metadata": {},
      "outputs": [],
      "source": [
        "# Basic while loop structure\n",
        "while condition:\n",
        "    # Code to execute\n",
        "    # Don't forget to update the condition!\n",
        "\n",
        "# Example: Simple counter\n",
        "count = 0\n",
        "while count < 5:\n",
        "    print(f\"Count: {count}\")\n",
        "    count += 1  # Important: update the condition variable\n",
        "\n",
        "# Always ensure the condition will eventually become False!"
      ]
    },
    {
      "cell_type": "markdown",
      "metadata": {},
      "source": [
        "### 🎯 Practical Examples"
      ]
    },
    {
      "cell_type": "code",
      "execution_count": null,
      "metadata": {},
      "outputs": [],
      "source": [
        "# Example 1: User input validation\n",
        "password = \"\"\n",
        "while password != \"secret\":\n",
        "    password = input(\"Enter password: \")\n",
        "    if password != \"secret\":\n",
        "        print(\"Incorrect! Try again.\")\n",
        "print(\"Access granted! 🔓\")\n",
        "\n",
        "# Example 2: Game loop\n",
        "player_health = 100\n",
        "while player_health > 0:\n",
        "    print(f\"Health: {player_health}\")\n",
        "    # Game logic here\n",
        "    player_health -= 10\n",
        "print(\"Game Over!\")\n",
        "\n",
        "# Example 3: AI model convergence\n",
        "error = 100\n",
        "while error > 0.1:\n",
        "    # Training step\n",
        "    error = error * 0.9  # Simulating improvement\n",
        "    print(f\"Current error: {error:.2f}\")"
      ]
    },
    {
      "cell_type": "markdown",
      "metadata": {},
      "source": [
        "### ⚠️ Avoiding Infinite Loops"
      ]
    },
    {
      "cell_type": "code",
      "execution_count": null,
      "metadata": {},
      "outputs": [],
      "source": [
        "# ❌ BAD: Infinite loop\n",
        "count = 0\n",
        "while count < 10:\n",
        "    print(count)\n",
        "    # Forgot to increment count!\n",
        "\n",
        "# ✅ GOOD: Proper loop\n",
        "count = 0\n",
        "while count < 10:\n",
        "    print(count)\n",
        "    count += 1  # Update condition variable\n",
        "\n",
        "# Safety tip: Use a maximum iteration limit\n",
        "iterations = 0\n",
        "while your_condition and iterations < 1000:\n",
        "    # Your code here\n",
        "    iterations += 1"
      ]
    },
    {
      "cell_type": "markdown",
      "metadata": {},
      "source": [
        "### ✅ While Loop Wisdom\n",
        "\n",
        "- Use when you don't know exact iteration count\n",
        "- Always update the condition variable\n",
        "- Great for user interactions and real-time systems\n",
        "\n",
        "> \"When would you use a while loop instead of a for loop?\""
      ]
    }
  ],
  "metadata": {
    "kernelspec": {
      "name": "python3",
      "display_name": "Python 3"
    },
    "language_info": {
      "name": "python",
      "version": "3.x"
    }
  },
  "nbformat": 4,
  "nbformat_minor": 5
}