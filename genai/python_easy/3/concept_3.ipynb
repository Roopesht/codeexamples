{
  "cells": [
    {
      "cell_type": "markdown",
      "metadata": {},
      "source": [
        "# Understanding While Loops in Python\n",
        "\n",
        "In this notebook, we will learn about **While Loops**, which allow your programs to repeat actions until a certain condition is no longer true."
      ]
    },
    {
      "cell_type": "markdown",
      "metadata": {},
      "source": [
        "## What is a While Loop?\n",
        "\n",
        "A **While Loop** repeatedly executes a block of code as long as a specified condition is true.\n",
        "\n",
        "Think of it as saying: *Keep doing this until the condition says otherwise.*"
      ]
    },
    {
      "cell_type": "markdown",
      "metadata": {},
      "source": [
        "## Syntax of a While Loop\n",
        "\n",
        "```python\n",
        "while condition:\n",
        "    # code to repeat\n",
        "    # don't forget to update the condition!\n",
        "```\n",
        "\n",
        "**Critical points:**\n",
        "- The condition is checked before each iteration.\n",
        "- Remember to update variables involved in the condition.\n",
        "- Be careful: if the condition stays True forever, you'll get an infinite loop!"
      ]
    },
    {
      "cell_type": "markdown",
      "metadata": {},
      "source": [
        "## Practical Examples of While Loops\n",
        "\n",
        "Let's look at some simple examples to understand how while loops work."
      ]
    },
    {
      "cell_type": "code",
      "execution_count": null,
      "metadata": {},
      "outputs": [],
      "source": [
        "# Example 1: Simple counter\n",
        "count = 0\n",
        "while count < 5:\n",
        "    print(f\"Count: {count}\")\n",
        "    count += 1  # Important: update the counter!"
      ]
    },
    {
      "cell_type": "code",
      "execution_count": null,
      "metadata": {},
      "outputs": [],
      "source": [
        "# Example 2: AI model accuracy check\n",
        "accuracy = 0.5\n",
        "while accuracy < 0.9:\n",
        "    print(f\"Current accuracy: {accuracy}\")\n",
        "    # Simulate training improvement\n",
        "    accuracy += 0.1"
      ]
    },
    {
      "cell_type": "code",
      "execution_count": null,
      "metadata": {},
      "outputs": [],
      "source": [
        "# Example 3: User input validation\n",
        "user_input = \"\"\n",
        "while user_input != \"quit\":\n",
        "    user_input = input(\"Enter command (or 'quit' to exit): \")\n",
        "    print(f\"You entered: {user_input}\")"
      ]
    },
    {
      "cell_type": "markdown",
      "metadata": {},
      "source": [
        "## Try it Yourself!\n",
        "\n",
        "Click the link below to run the examples in Google Colab:\n",
        "\n",
        "[🚀 Try While Loops in Colab](https://colab.research.google.com/github/Roopesht/codeexamples/blob/main/genai/python_easy/3/while_loops.ipynb)"
      ]
    },
    {
      "cell_type": "markdown",
      "metadata": {},
      "source": [
        "## For Loops vs While Loops\n",
        "\n",
        "| For Loops | While Loops |\n",
        "|------------|--------------|\n",
        "| ✅ Known iterations | ✅ Unknown iterations |\n",
        "| ✅ Sequence processing | ✅ Condition-based |\n",
        "| ✅ Less infinite loop risk | ⚠️ Infinite loop risk |"
      ]
    },
    {
      "cell_type": "markdown",
      "metadata": {},
      "source": [
        "## When to Use While Loops\n",
        "\n",
        "- ✅ When the number of iterations is not known beforehand\n",
        "- ✅ Waiting for user input\n",
        "- ✅ Monitoring system states\n",
        "- ✅ Training AI models until they converge\n",
        "\n",
        "🤔 **Question:** How would you use a while loop to keep asking for valid email input?"
      ]
    }
  ],
  "metadata": {
    "kernelspec": {
      "name": "python3",
      "display_name": "Python 3",
      "language": "python"
    },
    "language_info": {
      "name": "python",
      "version": "3.x"
    }
  },
  "nbformat": 4,
  "nbformat_minor": 2
}