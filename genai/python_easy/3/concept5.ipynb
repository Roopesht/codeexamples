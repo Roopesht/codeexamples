{
 "cells": [
  {
   "cell_type": "markdown",
   "metadata": {},
   "source": [
    "## 🚀 Advanced: Nested Loops & Optimization"
   ]
  },
  {
   "cell_type": "markdown",
   "metadata": {},
   "source": [
    "![Visual representation of nested loops creating a matrix or grid pattern](images/nested_loops_matrix.png)"
   ]
  },
  {
   "cell_type": "markdown",
   "metadata": {},
   "source": [
    "### 🔄 Nested Loops"
   ]
  },
  {
   "cell_type": "code",
   "execution_count": null,
   "metadata": {},
   "outputs": [],
   "source": [
    "# Loop inside another loop\n",
    "for i in range(3):      # Outer loop\n",
    "    for j in range(3):  # Inner loop\n",
    "        print(f\"({i}, {j})\", end=\"  \")\n",
    "    print()  # New line after inner loop\n",
    "\n",
    "# Output:\n",
    "# (0, 0)  (0, 1)  (0, 2)\n",
    "# (1, 0)  (1, 1)  (1, 2)\n",
    "# (2, 0)  (2, 1)  (2, 2)"
   ]
  },
  {
   "cell_type": "markdown",
   "metadata": {},
   "source": [
    "### 🎯 `enumerate()` Function"
   ]
  },
  {
   "cell_type": "code",
   "execution_count": null,
   "metadata": {},
   "outputs": [],
   "source": [
    "# Get both index and value\n",
    "fruits = [\"apple\", \"banana\", \"orange\"]\n",
    "\n",
    "for index, fruit in enumerate(fruits):\n",
    "    print(f\"{index}: {fruit}\")\n",
    "\n",
    "# Output:\n",
    "# 0: apple\n",
    "# 1: banana\n",
    "# 2: orange"
   ]
  },
  {
   "cell_type": "markdown",
   "metadata": {},
   "source": [
    "### 🤝 `zip()` Function"
   ]
  },
  {
   "cell_type": "code",
   "execution_count": null,
   "metadata": {},
   "outputs": [],
   "source": [
    "# Combine multiple lists\n",
    "names = [\"Alice\", \"Bob\", \"Charlie\"]\n",
    "ages = [25, 30, 35]\n",
    "\n",
    "for name, age in zip(names, ages):\n",
    "    print(f\"{name} is {age} years old\")\n",
    "\n",
    "# Output:\n",
    "# Alice is 25 years old\n",
    "# Bob is 30 years old\n",
    "# Charlie is 35 years old"
   ]
  },
  {
   "cell_type": "markdown",
   "metadata": {},
   "source": [
    "### ⚡ Loop Optimization Tips\n",
    "- **Avoid nested loops** when possible — they can be slow  \n",
    "- **Use built-in functions** like `sum()`, `max()`, `min()`  \n",
    "- **Break early** when you find what you need  \n",
    "- **Consider list comprehensions** for simple operations"
   ]
  },
  {
   "cell_type": "markdown",
   "metadata": {},
   "source": [
    "## 📚 Self-Learn - Explore at Home\n",
    "- 🔍 **Loop else clause:** Code that runs when loop completes normally  \n",
    "- 🎯 **List comprehensions:** Compact way to create lists with loops  \n",
    "- 📖 **Resources:** [Python.org official tutorial on loops](https://docs.python.org/3/tutorial/controlflow.html#more-control-flow-tools)  \n",
    "- 💻 **Practice:** LeetCode easy problems using loops"
   ]
  },
  {
   "cell_type": "markdown",
   "metadata": {},
   "source": [
    "### 🎯 Self-Learn Examples"
   ]
  },
  {
   "cell_type": "code",
   "execution_count": null,
   "metadata": {},
   "outputs": [],
   "source": [
    "# Loop else clause\n",
    "for i in range(5):\n",
    "    print(i)\n",
    "else:\n",
    "    print(\"Loop completed successfully!\")\n",
    "\n",
    "# List comprehension preview\n",
    "squares = [x**2 for x in range(5)]\n",
    "print(squares)  # [0, 1, 4, 9, 16]"
   ]
  }
 ],
 "metadata": {
  "kernelspec": {
   "display_name": "Python 3",
   "language": "python",
   "name": "python3"
  },
  "language_info": {
   "name": "python",
   "version": "3.x"
  }
 },
 "nbformat": 4,
 "nbformat_minor": 5
}
