{
  "cells": [
    {
      "cell_type": "markdown",
      "metadata": {},
      "source": [
        "# Loop Control: Break and Continue\n",
        "\n",
        "In this lesson, we will learn about two important methods to control loops in Python: `break` and `continue`. These tools help you make your loops smarter and more efficient."
      ]
    },
    {
      "cell_type": "markdown",
      "metadata": {},
      "source": [
        "## Loop Control: Master the Flow\n",
        "\n",
        "- 🛑 **break**: Exit the loop immediately when a certain condition is met.\n",
        "- ⏭️ **continue**: Skip the current iteration and move to the next one.\n",
        "- 🎯 These are essential for controlling how your loops behave depending on data or conditions.\n",
        "- 💡 Using `break` and `continue` makes your loops more responsive and efficient."
      ]
    },
    {
      "cell_type": "markdown",
      "metadata": {},
      "source": [
        "## 🛑 Break Statement\n",
        "\n",
        "The `break` statement stops the loop entirely when a specific condition is true.\n",
        "\n",
        "Here is an example:"
      ]
    },
    {
      "cell_type": "code",
      "execution_count": null,
      "metadata": {},
      "outputs": [],
      "source": [
        "# Finding a specific number\n",
        "for i in range(1, 100):\n",
        "    if i == 7:\n",
        "        print(f\"Found {i}!\")\n",
        "        break  # Exit the loop immediately\n",
        "    print(f\"Checking {i}\")"
      ]
    },
    {
      "cell_type": "code",
      "execution_count": null,
      "metadata": {},
      "outputs": [],
      "source": [
        "# Search in AI dataset\n",
        "for data_point in dataset:\n",
        "    if data_point.accuracy > 0.95:\n",
        "        print(\"Target accuracy reached!\")\n",
        "        break\n",
        "    # Continue training"
      ]
    },
    {
      "cell_type": "markdown",
      "metadata": {},
      "source": [
        "## ⏭️ Continue Statement\n",
        "\n",
        "The `continue` statement skips the rest of the current loop iteration and moves to the next one.\n",
        "\n",
        "Example:"
      ]
    },
    {
      "cell_type": "code",
      "execution_count": null,
      "metadata": {},
      "outputs": [],
      "source": [
        "# Skip even numbers\n",
        "for i in range(1, 11):\n",
        "    if i % 2 == 0:\n",
        "        continue  # Skip even numbers\n",
        "    print(f\"Odd number: {i}\")"
      ]
    },
    {
      "cell_type": "code",
      "execution_count": null,
      "metadata": {},
      "outputs": [],
      "source": [
        "# Process valid data only\n",
        "for user_input in inputs:\n",
        "    if user_input == \"\":\n",
        "        continue  # Skip empty inputs\n",
        "    process_data(user_input)"
      ]
    },
    {
      "cell_type": "markdown",
      "metadata": {},
      "source": [
        "## 🎯 Real-World Examples\n",
        "\n",
        "Example 1: User menu system"
      ]
    },
    {
      "cell_type": "code",
      "execution_count": null,
      "metadata": {},
      "outputs": [],
      "source": [
        "while True:\n",
        "    choice = input(\"Enter choice (1-3, 'quit' to exit): \")\n",
        "    if choice == 'quit':\n",
        "        break\n",
        "    elif choice in ['1', '2', '3']:\n",
        "        print(f\"You selected option {choice}\")\n",
        "    else:\n",
        "        print(\"Invalid choice!\")\n",
        "        continue"
      ]
    },
    {
      "cell_type": "markdown",
      "metadata": {},
      "source": [
        "Example 2: Data cleaning"
      ]
    },
    {
      "cell_type": "code",
      "execution_count": null,
      "metadata": {},
      "outputs": [],
      "source": [
        "for record in dataset:\n",
        "    if record.is_corrupted():\n",
        "        continue  # Skip corrupted data\n",
        "    if record.confidence < 0.8:\n",
        "        print(\"Low confidence, stopping processing\")\n",
        "        break\n",
        "    process_record(record)"
      ]
    },
    {
      "cell_type": "markdown",
      "metadata": {},
      "source": [
        "## ✅ Loop Control Mastery\n",
        "\n",
        "Using `break` and `continue` gives you precise control over your loops!\n",
        "\n",
        "- `break`: Exit the loop when you find what you're looking for.\n",
        "- `continue`: Skip unwanted iterations.\n",
        "- These control methods are essential for error handling and optimizing your code.\n",
        "\n",
        "> **Question:**\n",
        ">\n",
        "> \"How would you use `break` and `continue` in a chatbot conversation?\""
      ]
    }
  ],
  "metadata": {
    "kernelspec": {
      "display_name": "Python 3",
      "language": "python",
      "name": "python3"
    },
    "language_info": {
      "name": "python",
      "version": "3.x"
    }
  },
  "nbformat": 4,
  "nbformat_minor": 5
}