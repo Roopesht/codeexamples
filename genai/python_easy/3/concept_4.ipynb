{
  "cells": [
    {
      "cell_type": "markdown",
      "metadata": {},
      "source": [
        "# Loop Control in Python\n",
        "Welcome! In this notebook, we'll learn about *break* and *continue* statements, which help control the flow of loops in Python.\n",
        "![Diagram showing break and continue statements in loops](images/loop-control.png)"
      ]
    },
    {
      "cell_type": "markdown",
      "metadata": {},
      "source": [
        "## The Break Statement\n",
        "The `break` statement is used to immediately exit a loop when a certain condition is met. This can be useful if you only need to find a specific item or want to stop processing once a condition occurs."
      ]
    },
    {
      "cell_type": "markdown",
      "metadata": {},
      "source": [
        "### Example: Find the first even number in a list"
      ]
    },
    {
      "cell_type": "code",
      "execution_count": null,
      "metadata": {},
      "outputs": [],
      "source": [
        "numbers = [1, 3, 5, 8, 9, 12]\n",
        "for num in numbers:\n",
        "    if num % 2 == 0:\n",
        "        print(f\"First even number: {num}\")\n",
        "        break"
      ]
    },
    {
      "cell_type": "markdown",
      "metadata": {},
      "source": [
        "## The Continue Statement\n",
        "The `continue` statement skips the current iteration of a loop and moves to the next one. This is useful when you want to ignore certain values or conditions without stopping the entire loop."
      ]
    },
    {
      "cell_type": "markdown",
      "metadata": {},
      "source": [
        "### Example: Skip negative numbers in a list"
      ]
    },
    {
      "cell_type": "code",
      "execution_count": null,
      "metadata": {},
      "outputs": [],
      "source": [
        "data = [-2, 5, -1, 8, -3, 10]\n",
        "for value in data:\n",
        "    if value < 0:\n",
        "        continue  # Skip negative values\n",
        "    print(f\"Processing: {value}\")"
      ]
    },
    {
      "cell_type": "markdown",
      "metadata": {},
      "source": [
        "### Example: Early stopping during AI model training"
      ]
    },
    {
      "cell_type": "code",
      "execution_count": null,
      "metadata": {},
      "outputs": [],
      "source": [
        "import random\n",
        "\n",
        "def train_model():\n",
        "    \"\"\"Simulate training by returning random accuracy between 0.90 and 1.0.\"\"\"\n",
        "    return random.uniform(0.90, 1.0)\n",
        "\n",
        "for epoch in range(100):\n",
        "    accuracy = train_model()  # Simulate training\n",
        "    if accuracy > 0.95:\n",
        "        print(f\"Early stopping at epoch {epoch}\")\n",
        "        break"
      ]
    },
    {
      "cell_type": "markdown",
      "metadata": {},
      "source": [
        "## Best Practices for Loop Control\n",
        "- Use `break` to terminate loops early when needed.\n",
        "- Use `continue` to skip over unwanted iterations.\n",
        "- Combine these statements with `if` conditions for flexible control.\n",
        "- Remember: don't overuse them; keep your code clear and readable.\n",
        "\n",
        "🤔 **Question:** How would you use `break` to stop a loop when finding an error in data?"
      ]
    }
  ],
  "metadata": {
    "kernelspec": {
      "name": "python3",
      "display_name": "Python 3"
    },
    "language_info": {
      "name": "python",
      "version": "3.x"
    }
  },
  "nbformat": 4,
  "nbformat_minor": 5
}