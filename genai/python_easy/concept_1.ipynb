{
 "cells": [
  {
   "cell_type": "markdown",
   "metadata": {},
   "source": [
    "# Concept 1: Creating Lists and Basic Operations\n",
    "\n",
    "In Python, lists are ordered collections that can hold multiple items. They are versatile and commonly used for storing sequences of data.\n",
    "\n",
    "Let's see how to create lists and perform some basic operations."
   ]
  },
  {
   "cell_type": "markdown",
   "metadata": {},
   "source": [
    "## Creating Lists\n",
    "\n",
    "You can create a list by placing comma-separated items inside square brackets `[]`.\n",
    "\n",
    "For example, to create a list of fruits and a list of numbers:"
   ]
  },
  {
   "cell_type": "code",
   "execution_count": null,
   "metadata": {},
   "outputs": [],
   "source": [
    "fruits = ['apple', 'banana', 'orange']\n",
    "numbers = [1, 2, 3, 4, 5]"
   ]
  },
  {
   "cell_type": "markdown",
   "metadata": {},
   "source": [
    "The lists `fruits` and `numbers` now contain collections of string and integer items, respectively."
   ]
  },
  {
   "cell_type": "markdown",
   "metadata": {},
   "source": [
    "## Basic List Operations\n",
    "\n",
    "Let's explore some common operations you can perform on lists."
   ]
  },
  {
   "cell_type": "markdown",
   "metadata": {},
   "source": [
    "- Accessing elements by index\n",
    "- Appending new items\n",
    "- Removing items\n",
    "- Slicing lists"
   ]
  },
  {
   "cell_type": "code",
   "execution_count": null,
   "metadata": {},
   "outputs": [],
   "source": [
    "# Accessing elements\n",
    "first_fruit = fruits[0]  # 'apple'\n",
    "second_number = numbers[1]  # 2\n",
    "\n",
    "# Appending new items\n",
    "fruits.append('grape')\n",
    "numbers.append(6)\n",
    "\n",
    "# Removing items\n",
    "fruits.remove('banana')\n",
    "numbers.remove(3)\n",
    "\n",
    "# Slicing lists\n",
    "first_two_fruits = fruits[:2]\n",
    "last_three_numbers = numbers[-3:]"
   ]
  },
  {
   "cell_type": "markdown",
   "metadata": {},
   "source": [
    "After performing these operations, let's look at the resulting lists:"
   ]
  },
  {
   "cell_type": "code",
   "execution_count": null,
   "metadata": {},
   "outputs": [
    {
     "name": "stdout",
     "outputs": [
      {
       "name": "stdout",
       "output_type": "stream",
       "text": [
        "Fruits after modifications: ['apple', 'orange', 'grape']\n",
        "Numbers after modifications: [1, 2, 4, 5, 6]\n"
       ]
      }
     ],
     "output_type": "stream"
    }
   ],
   "source": [
    "print(f\"Fruits after modifications: {fruits}\")\n",
    "print(f\"Numbers after modifications: {numbers}\")"
   ]
  }
 ],
 "metadata": {
  "kernelspec": {
   "display_name": "Python 3",
   "language": "python",
   "name": "python3"
  },
  "language_info": {
   "name": "python",
   "version": "3.x"
  }
 },
 "nbformat": 4,
 "nbformat_minor": 5
}
