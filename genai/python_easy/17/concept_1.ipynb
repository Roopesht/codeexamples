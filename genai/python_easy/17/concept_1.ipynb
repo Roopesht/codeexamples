{
  "cells": [
    {
      "cell_type": "markdown",
      "metadata": {},
      "source": [
        "# Train/Test Split & Model Evaluation\n",
        "\n",
        "In this notebook, we'll learn about the importance of splitting data into training and testing sets to evaluate machine learning models fairly.\n",
        "\n",
        "## 🎯 Why Do We Need a Train/Test Split?\n",
        "\n",
        "Imagine trying to grade your own homework. If you grade yourself on the same work, you might be biased and get an overly optimistic score. Similarly, testing a model on the data it was trained on can give an unfairly high performance measure.\n",
        "\n",
        "Let's see why we need to split data:\n",
        "- **Avoid overfitting:** When a model memorizes training data, it may not perform well on new data.\n",
        "- **Realistic evaluation:** Testing on unseen data helps us understand how well our model will perform in real-world scenarios.\n"
      ]
    },
    {
      "cell_type": "markdown",
      "metadata": {},
      "source": [
        "## 📊 Common Train/Test Split Ratios\n",
        "\n",
        "- **80/20 Split:** 80% training, 20% testing (common for many tasks)\n",
        "- **70/30 Split:** For smaller datasets\n",
        "- **60/20/20 Split:** Train/Validation/Test (more advanced)\n",
        "- **Larger datasets:** Usually allow smaller test percentage\n"
      ]
    },
    {
      "cell_type": "markdown",
      "metadata": {},
      "source": [
        "## 💻 Example: How to Split Data and Evaluate a Model\n"
      ]
    },
    {
      "cell_type": "code",
      "execution_count": null,
      "metadata": {},
      "outputs": [],
      "source": [
        "from sklearn.model_selection import train_test_split\n",
        "from sklearn.datasets import load_iris\n",
        "from sklearn.neighbors import KNeighborsClassifier\n",
        "\n",
        "# Load sample data\n",
        "iris = load_iris()\n",
        "X, y = iris.data, iris.target\n",
        "\n",
        "# Split data: 80% train, 20% test\n",
        "X_train, X_test, y_train, y_test = train_test_split(\n",
        "    X, y, test_size=0.2, random_state=42\n",
        ")\n",
        "\n",
        "# Train model\n",
        "model = KNeighborsClassifier()\n",
        "model.fit(X_train, y_train)\n",
        "\n",
        "# Test model\n",
        "accuracy = model.score(X_test, y_test)\n",
        "print(f\"Model accuracy: {accuracy:.2f}\")"
      ]
    },
    {
      "cell_type": "markdown",
      "metadata": {},
      "source": [
        "## 🚀 Open this example in Google Colab\n",
        "\n",
        "[Open in Colab](https://colab.research.google.com/github/Roopesht/codeexamples/blob/main/genai/python_easy/2/concept_1.ipynb)"
      ]
    },
    {
      "cell_type": "markdown",
      "metadata": {},
      "source": [
        "## 🎯 Key Takeaway\n",
        "\n",
        "Remember: \"Never test on training data - it's like grading your own homework!\""
      ]
    },
    {
      "cell_type": "markdown",
      "metadata": {},
      "source": [
        "## ❓ Question:\n",
        "\n",
        "If you're building a spam email detector, why would testing on the same training emails give misleading results?"
      ]
    }
  ],
  "metadata": {
    "kernelspec": {
      "display_name": "Python 3",
      "language": "python",
      "name": "python3"
    },
    "language_info": {
      "name": "python",
      "version": "3.x"
    }
  },
  "nbformat": 4,
  "nbformat_minor": 5
}