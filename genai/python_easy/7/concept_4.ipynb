{
  "cells": [
    {
      "cell_type": "markdown",
      "metadata": {},
      "source": [
        "# Understanding Variable Scope in Python"
      ]
    },
    {
      "cell_type": "markdown",
      "metadata": {},
      "source": [
        "In programming, variables have a scope, which determines where they can be accessed or used.\n",
        "\n",
        "There are two main types:\n",
        "\n",
        "- **Local Scope:** Variables defined inside functions are only accessible within those functions.\n",
        "- **Global Scope:** Variables defined outside functions are accessible throughout the program, including inside functions."
      ]
    },
    {
      "cell_type": "markdown",
      "metadata": {},
      "source": [
        "## Think of scope like rooms in a house:\n",
        "\n",
        "The variables inside a function are like items in a specific room - they stay there and can't be accessed from other rooms.\n",
        "Global variables are like items in the main hall - accessible from anywhere."
      ]
    },
    {
      "cell_type": "markdown",
      "metadata": {},
      "source": [
        "## Example: Scope in Action"
      ]
    },
    {
      "cell_type": "code",
      "execution_count": null,
      "metadata": {},
      "outputs": [],
      "source": [
        "# Global variable\n",
        "ai_model_name = \"ChatGPT-4\"\n",
        "\n",
        "def train_model():\n",
        "    # Local variables\n",
        "    training_data = \"10TB of text\"\n",
        "    epochs = 100\n",
        "    print(f\"Training {ai_model_name}\")  # Can access global variable\n",
        "    print(f\"Using {training_data} for {epochs} epochs\")\n",
        "    return \"Model trained successfully!\"\n",
        "\n",
        "def evaluate_model():\n",
        "    # Local variable\n",
        "    accuracy = 95.5\n",
        "    print(f\"Evaluating {ai_model_name}\")  # Can access global variable\n",
        "    return accuracy\n",
        "\n",
        "# Call functions\n",
        "result = train_model()\n",
        "score = evaluate_model()\n",
        "print(f\"Result: {result}\")\n",
        "print(f\"Accuracy: {score}%\")\n",
        "\n",
        "# The following would cause an error because training_data is local to train_model()\n",
        "# print(training_data)  # Error!"
      ]
    },
    {
      "cell_type": "markdown",
      "metadata": {},
      "source": [
        "## Output:"
      ]
    },
    {
      "cell_type": "code",
      "execution_count": null,
      "metadata": {},
      "outputs": [],
      "source": [
        "Training ChatGPT-4\n",
        "Using 10TB of text for 100 epochs\n",
        "Evaluating ChatGPT-4\n",
        "Result: Model trained successfully!\n",
        "Accuracy: 95.5%"
      ]
    },
    {
      "cell_type": "markdown",
      "metadata": {},
      "source": [
        "## Key Takeaway"
      ]
    },
    {
      "cell_type": "markdown",
      "metadata": {},
      "source": [
        "💡 Variables have scope - local variables stay inside functions, global variables are accessible everywhere!"
      ]
    },
    {
      "cell_type": "markdown",
      "metadata": {},
      "source": [
        "---"
      ]
    },
    {
      "cell_type": "markdown",
      "metadata": {},
      "source": [
        "**Think About It:** Why is it good that local variables can't be accessed globally? 🔐"
      ]
    }
  ],
  "metadata": {
    "kernelspec": {
      "name": "python3",
      "display_name": "Python 3",
      "language": "python"
    },
    "language_info": {
      "name": "python",
      "version": "3.x"
    }
  }
}