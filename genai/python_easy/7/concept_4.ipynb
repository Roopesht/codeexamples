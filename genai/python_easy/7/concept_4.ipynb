{
  "cells": [
    {
      "cell_type": "markdown",
      "metadata": {},
      "source": [
        "# Understanding Variable Scope in Python"
      ]
    },
    {
      "cell_type": "markdown",
      "metadata": {},
      "source": [
        "## Concept 4: Local vs Global Scope\n",
        "\n",
        "In this section, we'll learn about **variable scope** in Python. Scope determines where a variable can be accessed in your code."
      ]
    },
    {
      "cell_type": "markdown",
      "metadata": {},
      "source": [
        "### Understanding Variable Scope\n",
        "\n",
        "- 🏠 **Local Scope**: Variables defined inside a function. They can only be used inside that function.\n",
        "- 🌍 **Global Scope**: Variables defined outside all functions. They can be used anywhere.\n",
        "- 🔒 **Local variables** can't be accessed outside their function.\n",
        "- 🚪 **Functions** can read (but not always modify) global variables."
      ]
    },
    {
      "cell_type": "markdown",
      "metadata": {},
      "source": [
        "### Scope in Action\n",
        "\n",
        "Let's see how variable scope works with some Python code:"
      ]
    },
    {
      "cell_type": "code",
      "metadata": {},
      "source": [
        "# Global variable\n",
        "ai_model_name = \"ChatGPT-4\"\n",
        "\n",
        "def train_model():\n",
        "    # Local variables\n",
        "    training_data = \"10TB of text\"\n",
        "    epochs = 100\n",
        "    print(f\"Training {ai_model_name}\")  # Can access global variable\n",
        "    print(f\"Using {training_data} for {epochs} epochs\")\n",
        "    return \"Model trained successfully!\"\n",
        "\n",
        "def evaluate_model():\n",
        "    # Local variable\n",
        "    accuracy = 95.5\n",
        "    print(f\"Evaluating {ai_model_name}\")  # Can access global variable\n",
        "    return accuracy\n",
        "\n",
        "# Call functions\n",
        "result = train_model()\n",
        "score = evaluate_model()\n",
        "print(f\"Result: {result}\")\n",
        "print(f\"Accuracy: {score}%\")\n",
        "\n",
        "# This would cause an error:\n",
        "# print(training_data)  # Error! training_data is local to train_model()"
      ],
      "execution_count": null,
      "outputs": []
    },
    {
      "cell_type": "markdown",
      "metadata": {},
      "source": [
        "### Output\n",
        "\n",
        "Running the above code produces the following output:"
      ]
    },
    {
      "cell_type": "code",
      "metadata": {},
      "source": [
        "print(\"Training ChatGPT-4\")\n",
        "print(\"Using 10TB of text for 100 epochs\")\n",
        "print(\"Evaluating ChatGPT-4\")\n",
        "print(\"Result: Model trained successfully!\")\n",
        "print(\"Accuracy: 95.5%\")"
      ],
      "execution_count": null,
      "outputs": []
    },
    {
      "cell_type": "markdown",
      "metadata": {},
      "source": [
        "### Key Takeaway\n",
        "\n",
        "💡 Variables have scope:\n",
        "- Local variables stay inside functions.\n",
        "- Global variables are accessible everywhere.\n",
        "\n",
        "### Think About It\n",
        "\n",
        "- Why is it good that local variables can't be accessed globally? 🔐"
      ]
    }
  ],
  "metadata": {
    "kernelspec": {
      "display_name": "Python 3",
      "language": "python",
      "name": "python3"
    },
    "language_info": {
      "codemirror_mode": {
        "name": "python",
        "version": 3
      },
      "file_extension": ".py",
      "mimetype": "text/x-python",
      "name": "python",
      "nbconvert_exporter": "python",
      "version": "3.x"
    }
  },
  "nbformat": 4,
  "nbformat_minor": 5
}
