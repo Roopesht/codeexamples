{
  "cells": [
    {
      "cell_type": "markdown",
      "metadata": {},
      "source": [
        "# Introduction to Python Functions\n",
        "\n",
        "Welcome! In this notebook, we'll learn about functions in Python. Functions help us organize and reuse code, making programming easier and more efficient."
      ]
    },
    {
      "cell_type": "markdown",
      "metadata": {},
      "source": [
        "## Why Do We Need Functions?\n",
        "\n",
        "- 🔄 Avoid repeating the same code multiple times\n",
        "- 📦 Group related code into organized blocks\n",
        "- 🛠️ Make code easier to test and debug\n",
        "- 🤝 Share code with other developers"
      ]
    },
    {
      "cell_type": "markdown",
      "metadata": {},
      "source": [
        "## Functions Are Like Factory Machines\n",
        "\n",
        "![Factory machine taking raw materials as input and producing finished products as output](images/factory_machine.png)\n",
        "\n",
        "*Functions are like factory machines - they take inputs, process them, and give outputs!*"
      ]
    },
    {
      "cell_type": "markdown",
      "metadata": {},
      "source": [
        "## Creating Your First Function\n",
        "\n",
        "Here's how you can create and use a simple function in Python:"
      ]
    },
    {
      "cell_type": "code",
      "execution_count": null,
      "metadata": {},
      "outputs": [],
      "source": [
        "# Function definition\n",
        "def greet_user():\n",
        "    print(\"Hello! Welcome to Python Functions!\")\n",
        "    print(\"Let's learn together!\")"
      ]
    },
    {
      "cell_type": "markdown",
      "metadata": {},
      "source": [
        "# Calling the function\n",
        "greet_user()"
      ]
    },
    {
      "cell_type": "markdown",
      "metadata": {},
      "source": [
        "## Output\n",
        "\n",
        "Hello! Welcome to Python Functions!\n",
        "Let's learn together!"
      ]
    },
    {
      "cell_type": "markdown",
      "metadata": {},
      "source": [
        "## Key Takeaway\n",
        "\n",
        "💡 Functions help organize code into reusable blocks using the **def** keyword\n",
        "\n",
        "---\n",
        "\n",
        "**Think About It:** What repetitive tasks in your daily life could benefit from a \"function\"? 🤔"
      ]
    }
  ],
  "metadata": {
    "kernelspec": {
      "name": "python3",
      "display_name": "Python 3",
      "language": "python"
    },
    "language_info": {
      "name": "python",
      "version": "3.x"
    }
  },
  "nbformat": 4,
  "nbformat_minor": 5
}