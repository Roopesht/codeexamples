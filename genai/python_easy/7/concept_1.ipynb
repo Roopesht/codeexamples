{
  "cells": [
    {
      "cell_type": "markdown",
      "metadata": {},
      "source": [
        "# Concept 1: Why Functions?\n",
        "## Basic Function Creation"
      ]
    },
    {
      "cell_type": "markdown",
      "metadata": {},
      "source": [
        "🔧 Why Functions?\n",
        "\n",
        "- 📦 **Reusability**: Write once, use multiple times\n",
        "- 🎯 **Organization**: Break complex problems into smaller parts\n",
        "- 🔧 **Maintainability**: Easy to update and debug\n",
        "- 🤝 **Collaboration**: Share code blocks with team members"
      ]
    },
    {
      "cell_type": "markdown",
      "metadata": {},
      "source": [
        "![Visual representation of functions as reusable code blocks with inputs and outputs.](images/functions_concept.png)"
      ]
    },
    {
      "cell_type": "markdown",
      "metadata": {},
      "source": [
        "### 🔨 Function Syntax"
      ]
    },
    {
      "cell_type": "code",
      "metadata": {},
      "source": [
        "# Basic function structure\n",
        "def function_name():\n",
        "    \"\"\"Documentation string (optional)\"\"\"\n",
        "    # Function body\n",
        "    print(\"Hello from my function!\")\n",
        "\n",
        "# Call the function\n",
        "function_name()\n",
        "\n",
        "# Real GenAI example\n",
        "def generate_prompt():\n",
        "    \"\"\"Creates a basic AI prompt\"\"\"\n",
        "    return \"Generate a creative story about:\"\n"
      ],
      "execution_count": null,
      "outputs": []
    },
    {
      "cell_type": "markdown",
      "metadata": {},
      "source": [
        "🚀 [Open in Colab](https://colab.research.google.com/github/Roopesht/codeexamples/blob/main/genai/python_easy/7/concept_1.ipynb)"
      ]
    },
    {
      "cell_type": "markdown",
      "metadata": {},
      "source": [
        "### 📤 Function Output"
      ]
    },
    {
      "cell_type": "code",
      "metadata": {},
      "source": [
        "# Example output from generate_prompt()\n",
        "print(generate_prompt())"
      ],
      "execution_count": null,
      "outputs": []
    },
    {
      "cell_type": "markdown",
      "metadata": {},
      "source": [
        "*Functions help organize your GenAI workflows!*"
      ]
    },
    {
      "cell_type": "markdown",
      "metadata": {},
      "source": [
        "### 🎯 Key Takeaway\n",
        "\n",
        "Functions are like mini-programs that solve specific problems. In GenAI, you'll use them to process prompts, format responses, and organize your AI workflows.\n",
        "\n",
        "💭 **Question:** What repetitive task in your daily work could benefit from a reusable function?"
      ]
    }
  ],
  "metadata": {
    "kernelspec": {
      "display_name": "Python 3",
      "language": "python",
      "name": "python3"
    },
    "language_info": {
      "name": "python",
      "version": "3.x"
    }
  },
  "nbformat": 4,
  "nbformat_minor": 5
}