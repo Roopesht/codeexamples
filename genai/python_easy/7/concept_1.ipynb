{
  "cells": [
    {
      "cell_type": "markdown",
      "metadata": {},
      "source": [
        "# Introduction to Python Functions"
      ]
    },
    {
      "cell_type": "markdown",
      "metadata": {},
      "source": [
        "## Why Do We Need Functions?\n",
        "\n",
        "- 🔄 Avoid repeating the same code multiple times\n",
        "- 📦 Group related code into organized blocks\n",
        "- 🛠️ Make code easier to test and debug\n",
        "- 🤝 Share code with other developers\n"
      ]
    },
    {
      "cell_type": "markdown",
      "metadata": {},
      "source": [
        "![Factory machine taking raw materials as input and producing finished products as output](~!@images/factory_machine.png~!@)\n",
        "\n",
        "*Functions are like factory machines - they take inputs, process them, and give outputs!*"
      ]
    },
    {
      "cell_type": "markdown",
      "metadata": {},
      "source": [
        "### Creating Your First Function"
      ]
    },
    {
      "cell_type": "code",
      "execution_count": null,
      "metadata": {},
      "outputs": [],
      "source": [
        "# Function definition\n",
        "def greet_user():\n",
        "    print('Hello! Welcome to Python Functions!')\n",
        "    print('Let\\'s learn together!')"
      ]
    },
    {
      "cell_type": "markdown",
      "metadata": {},
      "source": [
        "# Call the function to see it in action"
      ]
    },
    {
      "cell_type": "code",
      "execution_count": null,
      "metadata": {},
      "outputs": [],
      "source": [
        "greet_user()"
      ]
    },
    {
      "cell_type": "markdown",
      "metadata": {},
      "source": [
        "### Output"
      ]
    },
    {
      "cell_type": "code",
      "execution_count": null,
      "metadata": {},
      "outputs": [],
      "source": [
        "Hello! Welcome to Python Functions!\n",
        "Let's learn together!"
      ]
    },
    {
      "cell_type": "markdown",
      "metadata": {},
      "source": [
        "## Key Takeaway\n",
        "- 💡 Functions help organize code into reusable blocks using the **def** keyword\n",
        "\n",
        "---\n",
        "\n",
        "**Think About It:**\n",
        "What repetitive tasks in your daily life could benefit from a *function*? 🤔"
      ]
    }
  ],
  "metadata": {
    "kernelspec": {
      "display_name": "Python 3",
      "language": "python",
      "name": "python3"
    },
    "language_info": {
      "codemirror_mode": {
        "name": "python",
        "version": 3
      },
      "file_extension": ".py",
      "mimetype": "text/x-python",
      "name": "python",
      "nbconvert_exporter": "python",
      "pygments_lexer": "ipython3",
      "version": "3.8"
    }
  },
  "nbformat": 4,
  "nbformat_minor": 5
}