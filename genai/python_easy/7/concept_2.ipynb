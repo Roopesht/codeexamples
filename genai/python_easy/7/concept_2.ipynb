{
  "cells": [
    {
      "cell_type": "markdown",
      "metadata": {},
      "source": [
        "# Parameters and Arguments in Python"
      ]
    },
    {
      "cell_type": "markdown",
      "metadata": {},
      "source": [
        "In this section, we're going to learn about Parameters and Arguments in Python functions.\n",
        "\n",
        "## Parameters vs Arguments\n",
        "- 📝 **Parameters:** Variables that are defined in the function definition.\n",
        "- 📤 **Arguments:** The actual values you pass to the function when you call it.\n",
        "- 🎯 Parameters allow functions to work with different data.\n",
        "- 🔄 This makes functions flexible and reusable!"
      ]
    },
    {
      "cell_type": "markdown",
      "metadata": {},
      "source": [
        "## Parameters in Action"
      ]
    },
    {
      "cell_type": "code",
      "execution_count": null,
      "metadata": {},
      "outputs": [],
      "source": [
        "# Function with parameters\ndef greet_person(name, age):\n",
        "    print(f\"Hello {name}!\")\n",
        "    print(f\"You are {age} years old.\")\n",
        "    print(\"Welcome to our Python course!\")"
      ]
    },
    {
      "cell_type": "markdown",
      "metadata": {},
      "source": [
        "# Calling the function with arguments"
      ]
    },
    {
      "cell_type": "code",
      "execution_count": null,
      "metadata": {},
      "outputs": [],
      "source": [
        "greet_person(\"Alice\", 25)\n",
        "greet_person(\"Bob\", 30)\n",
        "greet_person(\"ChatGPT\", 5)"
      ]
    },
    {
      "cell_type": "markdown",
      "metadata": {},
      "source": [
        "## Output"
      ]
    },
    {
      "cell_type": "code",
      "execution_count": null,
      "metadata": {},
      "outputs": [],
      "source": [
        "Hello Alice!\n",
        "You are 25 years old.\n",
        "Welcome to our Python course!\n",
        "Hello Bob!\n",
        "You are 30 years old.\n",
        "Welcome to our Python course!\n",
        "Hello ChatGPT!\n",
        "You are 5 years old.\n",
        "Welcome to our Python course!"
      ]
    },
    {
      "cell_type": "markdown",
      "metadata": {},
      "source": [
        "## Key Takeaway"
      ]
    },
    {
      "cell_type": "markdown",
      "metadata": {},
      "source": [
        "💡 Parameters make functions flexible - same function, different data!"
      ]
    },
    {
      "cell_type": "markdown",
      "metadata": {},
      "source": [
        "---"
      ]
    },
    {
      "cell_type": "markdown",
      "metadata": {},
      "source": [
        "**Think About It:** How would you create a function to calculate the area of different rectangles? 📐"
      ]
    }
  ],
  "metadata": {
    "kernelspec": {
      "display_name": "Python 3",
      "language": "python",
      "name": "python3"
    },
    "language_info": {
      "name": "python",
      "version": "3.x"
    }
  },
  "nbformat": 4,
  "nbformat_minor": 5
}