{
  "cells": [
    {
      "cell_type": "markdown",
      "metadata": {},
      "source": [
        "# Understanding Parameters and Arguments in Python"
      ]
    },
    {
      "cell_type": "markdown",
      "metadata": {},
      "source": [
        "In Python, functions can take inputs, which help make them flexible and reusable.\n",
        "These inputs are called **parameters** when we define the function, and **arguments** when we call the function.\n",
        "\n",
        "Let's explore what parameters and arguments are and see some examples."
      ]
    },
    {
      "cell_type": "markdown",
      "metadata": {},
      "source": [
        "## Parameters vs Arguments"
      ]
    },
    {
      "cell_type": "markdown",
      "metadata": {},
      "source": [
        "- **📝 Parameters:** Variables specified in a function definition.\n",
        "- **📤 Arguments:** Actual values you pass to the function when calling it.\n",
        "- **🎯 Flexibility:** These help functions to work with different data.\n",
        "- **🔄 Reusability:** They make functions flexible and reusable."
      ]
    },
    {
      "cell_type": "markdown",
      "metadata": {},
      "source": [
        "## Example of Parameters in Action"
      ]
    },
    {
      "cell_type": "code",
      "execution_count": null,
      "metadata": {},
      "outputs": [],
      "source": [
        "# Function with parameters\n",
        "def greet_person(name, age):\n",
        "    print(f\"Hello {name}!\")\n",
        "    print(f\"You are {age} years old.\")\n",
        "    print(\"Welcome to our Python course!\")"
      ]
    },
    {
      "cell_type": "markdown",
      "metadata": {},
      "source": [
        "## Calling the function with different arguments"
      ]
    },
    {
      "cell_type": "code",
      "execution_count": null,
      "metadata": {},
      "outputs": [],
      "source": [
        "greet_person(\"Alice\", 25)\n",
        "greet_person(\"Bob\", 30)\n",
        "greet_person(\"ChatGPT\", 5)"
      ]
    },
    {
      "cell_type": "markdown",
      "metadata": {},
      "source": [
        "## Output of the code"
      ]
    },
    {
      "cell_type": "code",
      "execution_count": null,
      "metadata": {},
      "outputs": [],
      "source": [
        "# Hello Alice!\n",
        "# You are 25 years old.\n",
        "# Welcome to our Python course!\n",
        "# Hello Bob!\n",
        "# You are 30 years old.\n",
        "# Welcome to our Python course!\n",
        "# Hello ChatGPT!\n",
        "# You are 5 years old.\n",
        "# Welcome to our Python course!"
      ]
    },
    {
      "cell_type": "markdown",
      "metadata": {},
      "source": [
        "## Key Takeaway"
      ]
    },
    {
      "cell_type": "markdown",
      "metadata": {},
      "source": [
        "💡 **Parameters make functions flexible** — the same function can work with different data by passing different arguments!"
      ]
    },
    {
      "cell_type": "markdown",
      "metadata": {},
      "source": [
        "---"
      ]
    },
    {
      "cell_type": "markdown",
      "metadata": {},
      "source": [
        "**Think About It:**\n",
        "How would you create a function to calculate the area of different rectangles? 📐"
      ]
    }
  ],
  "metadata": {
    "kernelspec": {
      "name": "python3",
      "display_name": "Python 3",
      "language": "python"
    },
    "language_info": {
      "name": "python",
      "version": "3.x"
    }
  },
  "nbformat": 4,
  "nbformat_minor": 5
}
