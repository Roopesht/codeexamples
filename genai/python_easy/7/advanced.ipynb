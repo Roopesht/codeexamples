{
  "cells": [
    {
      "cell_type": "markdown",
      "metadata": {},
      "source": [
        "# Advanced Function Features\n",
        "\n",
        "In this notebook, we will learn about some advanced features of functions in Python:\n",
        "\n",
        "- Default Parameters: Set default values for parameters\n",
        "- *args: Accept any number of positional arguments\n",
        "- **kwargs: Accept any number of keyword arguments\n",
        "\n",
        "These features make functions very flexible and powerful!"
      ]
    },
    {
      "cell_type": "markdown",
      "metadata": {},
      "source": [
        "## Default Parameters\n",
        "\n",
        "A default parameter allows you to specify a default value for a function's argument. If the argument is not provided when calling the function, the default value is used."
      ]
    },
    {
      "cell_type": "code",
      "execution_count": null,
      "metadata": {},
      "outputs": [],
      "source": [
        "# Function with default parameters\n",
        "def create_ai_prompt(task, model=\"GPT-4\", temperature=0.7):\n",
        "    return f\"Task: {task} | Model: {model} | Temperature: {temperature}\""
      ]
    },
    {
      "cell_type": "code",
      "execution_count": null,
      "metadata": {},
      "outputs": [],
      "source": [
        "# Calling the function with default values\n",
        "prompt1 = create_ai_prompt(\"Summarize text\")\n",
        "prompt2 = create_ai_prompt(\"Generate code\", \"Claude\", 0.3)\n",
        "\n",
        "print(prompt1)\n",
        "print(prompt2)"
      ]
    },
    {
      "cell_type": "code",
      "execution_count": null,
      "metadata": {},
      "outputs": [],
      "source": [
        "# Function with *args to accept any number of positional arguments\n",
        "def calculate_average(*numbers):\n",
        "    if numbers:\n",
        "        return sum(numbers) / len(numbers)\n",
        "    return 0"
      ]
    },
    {
      "cell_type": "code",
      "execution_count": null,
      "metadata": {},
      "outputs": [],
      "source": [
        "# Calculating averages with different numbers of inputs\n",
        "avg1 = calculate_average(85, 90, 78, 92)\n",
        "avg2 = calculate_average(95, 88, 91, 87, 89, 93)\n",
        "\n",
        "print(f\"Average 1: {avg1}\")\n",
        "print(f\"Average 2: {avg2}\")"
      ]
    },
    {
      "cell_type": "code",
      "execution_count": null,
      "metadata": {},
      "outputs": [],
      "source": [
        "# Function with **kwargs to accept any number of keyword arguments\n",
        "def create_ai_config(**settings):\n",
        "    print(\"AI Configuration:\")\n",
        "    for key, value in settings.items():\n",
        "        print(f\"  {key}: {value}\")"
      ]
    },
    {
      "cell_type": "code",
      "execution_count": null,
      "metadata": {},
      "outputs": [],
      "source": [
        "# Creating a configuration with multiple keyword arguments\n",
        "create_ai_config(model=\"GPT-4\", temperature=0.8, max_tokens=1000, stream=True)"
      ]
    },
    {
      "cell_type": "markdown",
      "metadata": {},
      "source": [
        "## Output\n",
        "\n",
        "The output of the above code will be:\n",
        "```text\n",
        "Task: Summarize text | Model: GPT-4 | Temperature: 0.7\n",
        "Task: Generate code | Model: Claude | Temperature: 0.3\n",
        "Average 1: 86.25\n",
        "Average 2: 90.5\n",
        "AI Configuration:\n",
        "  model: GPT-4\n",
        "  temperature: 0.8\n",
        "  max_tokens: 1000\n",
        "  stream: True\n",
        "```"
      ]
    },
    {
      "cell_type": "markdown",
      "metadata": {},
      "source": [
        "## Key Takeaway\n",
        "\n",
        "💡 Advanced features make functions incredibly flexible - they can handle varying numbers of arguments!"
      ]
    }
  ],
  "metadata": {
    "kernelspec": {
      "display_name": "Python 3",
      "language": "python",
      "name": "python3"
    },
    "language_info": {
      "name": "python",
      "version": "3.x"
    }
  },
  "nbformat": 4,
  "nbformat_minor": 5
}
