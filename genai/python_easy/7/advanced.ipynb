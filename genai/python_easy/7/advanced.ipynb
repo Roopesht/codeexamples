{
  "cells": [
    {
      "cell_type": "markdown",
      "metadata": {},
      "source": [
        "# Advanced Function Features in Python"
      ]
    },
    {
      "cell_type": "markdown",
      "metadata": {},
      "source": [
        "In this notebook, we will learn about some advanced features of functions in Python:\n",
        "- Default parameters\n",
        "- *args for variable positional arguments\n",
        "- **kwargs for variable keyword arguments\n",
        "\nLet's explore each feature with examples!"
      ]
    },
    {
      "cell_type": "markdown",
      "metadata": {},
      "source": [
        "## Default Parameters\n",
        "Default parameters allow you to set a default value for a function parameter. If no argument is provided for that parameter, the default value is used."
      ]
    },
    {
      "cell_type": "code",
      "execution_count": null,
      "metadata": {},
      "outputs": [],
      "source": [
        "# Function with default parameters\n",
        "def create_ai_prompt(task, model='GPT-4', temperature=0.7):\n",
        "    return f\"Task: {task} | Model: {model} | Temperature: {temperature}\"\n",
        "\n",
        "# Using defaults\n",
        "prompt1 = create_ai_prompt('Summarize text')\n",
        "prompt2 = create_ai_prompt('Generate code', 'Claude', 0.3)\n",
        "\n",
        "print(prompt1)\n",
        "print(prompt2)"
      ]
    },
    {
      "cell_type": "markdown",
      "metadata": {},
      "source": [
        "## *args: Accept any number of positional arguments\n",
        "The *args syntax allows a function to accept any number of positional arguments.\n",
        "These arguments are received as a tuple inside the function."
      ]
    },
    {
      "cell_type": "code",
      "execution_count": null,
      "metadata": {},
      "outputs": [],
      "source": [
        "# Function to calculate average of any number of numbers\n",
        "def calculate_average(*numbers):\n",
        "    if numbers:\n",
        "        return sum(numbers) / len(numbers)\n",
        "    return 0\n",
        "\n",
        "# Examples of calling with different numbers of arguments\n",
        "avg1 = calculate_average(85, 90, 78, 92)\n",
        "avg2 = calculate_average(95, 88, 91, 87, 89, 93)\n",
        "\n",
        "print(f\"Average 1: {avg1}\")\n",
        "print(f\"Average 2: {avg2}\")"
      ]
    },
    {
      "cell_type": "markdown",
      "metadata": {},
      "source": [
        "## **kwargs: Accept any number of keyword arguments\n",
        "The **kwargs syntax allows a function to accept any number of keyword arguments. Inside the function, these are stored as a dictionary."
      ]
    },
    {
      "cell_type": "code",
      "execution_count": null,
      "metadata": {},
      "outputs": [],
      "source": [
        "# Function to display AI configuration settings\n",
        "def create_ai_config(**settings):\n",
        "    print(\"AI Configuration:\")\n",
        "    for key, value in settings.items():\n",
        "        print(f\"  {key}: {value}\")\n",
        "\n",
        "# Example call with multiple keyword arguments\n",
        "create_ai_config(model='GPT-4', temperature=0.8, max_tokens=1000, stream=True)"
      ]
    },
    {
      "cell_type": "markdown",
      "metadata": {},
      "source": [
        "## Output\n",
        "Let's see what the previous code outputs."
      ]
    },
    {
      "cell_type": "markdown",
      "metadata": {},
      "source": [
        "Task: Summarize text | Model: GPT-4 | Temperature: 0.7\n",
        "Task: Generate code | Model: Claude | Temperature: 0.3\n",
        "Average 1: 86.25\n",
        "Average 2: 90.5\n",
        "AI Configuration:\n",
        "  model: GPT-4\n",
        "  temperature: 0.8\n",
        "  max_tokens: 1000\n",
        "  stream: True"
      ]
    },
    {
      "cell_type": "markdown",
      "metadata": {},
      "source": [
        "## Key Takeaway\n",
        "💡 Advanced features make functions incredibly flexible—they allow handling varying numbers of arguments and enable more customizable functions."
      ]
    }
  ],
  "metadata": {
    "kernelspec": {
      "display_name": "Python 3",
      "language": "python",
      "name": "python3"
    },
    "language_info": {
      "name": "python",
      "version": "3.x"
    }
  }
}