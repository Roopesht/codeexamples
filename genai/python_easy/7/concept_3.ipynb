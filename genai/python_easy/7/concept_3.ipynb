{
  "cells": [
    {
      "cell_type": "markdown",
      "metadata": {},
      "source": [
        "# 📤 Concept 3: Return Statements and Function Output"
      ]
    },
    {
      "cell_type": "markdown",
      "metadata": {},
      "source": [
        "## 📤 Return Statements"
      ]
    },
    {
      "cell_type": "markdown",
      "metadata": {},
      "source": [
        "- 🔄 **Output**: Send results back to caller",
        "- 🛑 **Exit**: Return immediately exits function",
        "- 📦 **Data Types**: Return any Python data type",
        "- 🔗 **Chaining**: Use returned values in other functions"
      ]
    },
    {
      "cell_type": "code",
      "metadata": {},
      "execution_count": null,
      "outputs": [],
      "source": [
        "# Function that returns a value\n",
        "def calculate_tokens(text):\n",
        "    \"\"\"Estimates token count for AI models\"\"\"\n",
        "    word_count = len(text.split())\n",
        "    estimated_tokens = word_count * 1.3  # Rough estimate\n",
        "    return int(estimated_tokens)\n",
        "\n",
        "# Function with conditional returns\n",
        "def validate_prompt(prompt):\n",
        "    \"\"\"Validates AI prompt quality\"\"\"\n",
        "    if len(prompt) < 10:\n",
        "        return \"Too short\"\n",
        "    elif len(prompt) > 1000:\n",
        "        return \"Too long\"\n",
        "    else:\n",
        "        return \"Perfect length\""
      ]
    },
    {
      "cell_type": "markdown",
      "metadata": {},
      "source": [
        "# Using returned values"
      ]
    },
    {
      "cell_type": "code",
      "metadata": {},
      "execution_count": null,
      "outputs": [],
      "source": [
        "text = \"Generate a Python function for data analysis\"\n",
        "tokens = calculate_tokens(text)\n",
        "status = validate_prompt(text)\n",
        "\n",
        "print(f\"Tokens: {tokens}\")\n",
        "print(f\"Status: {status}\")"
      ]
    },
    {
      "cell_type": "markdown",
      "metadata": {},
      "source": [
        "## 📤 Output"
      ]
    },
    {
      "cell_type": "code",
      "metadata": {},
      "execution_count": null,
      "outputs": [
        {
          "name": "stdout",
          "output_type": "stream",
          "text": [
            "Tokens: 10\n",
            "Status: Perfect length\n"
          ]
        }
      ],
      "source": []
    },
    {
      "cell_type": "markdown",
      "metadata": {},
      "source": [
        "### 📤 Return statements make functions truly useful by providing results!"
      ]
    },
    {
      "cell_type": "markdown",
      "metadata": {},
      "source": [
        "## 🎯 Key Takeaway"
      ]
    },
    {
      "cell_type": "markdown",
      "metadata": {},
      "source": [
        "Return statements are the output mechanism of functions. They allow functions to process data and provide results for further use in your GenAI applications."
      ]
    },
    {
      "cell_type": "markdown",
      "metadata": {},
      "source": [
        "💭 **Question:** What would happen if you tried to use a function's result but forgot to include a return statement?"
      ]
    }
  ],
  "metadata": {
    "kernelspec": {
      "display_name": "Python 3",
      "language": "python",
      "name": "python3"
    },
    "language_info": {
      "name": "python",
      "version": "3.x"
    }
  }
}