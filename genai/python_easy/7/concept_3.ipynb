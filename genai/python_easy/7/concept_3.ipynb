{
  "cells": [
    {
      "cell_type": "markdown",
      "metadata": {},
      "source": [
        "# Concept 3: Return Statements and Function Output\n",
        "\n",
        "Welcome to this section! We will learn about how functions can send results back to the part of the program that called them using return statements."
      ]
    },
    {
      "cell_type": "markdown",
      "metadata": {},
      "source": [
        "## Why Return Statements?\n",
        "\n",
        "- 📤 Send results back to the calling code\n",
        "- 💾 Store function results in variables\n",
        "- 🔗 Chain functions together\n",
        "- 🎯 Make functions more useful and flexible"
      ]
    },
    {
      "cell_type": "markdown",
      "metadata": {},
      "source": [
        "## Functions That Return Values\n",
        "\n",
        "Here's an example of a function that computes accuracy and returns it:"
      ]
    },
    {
      "cell_type": "code",
      "execution_count": null,
      "metadata": {},
      "outputs": [],
      "source": [
        "# Function that returns a value\n",
        "def calculate_ai_accuracy(correct_predictions, total_predictions):\n",
        "    accuracy = (correct_predictions / total_predictions) * 100\n",
        "    return accuracy"
      ]
    },
    {
      "cell_type": "markdown",
      "metadata": {},
      "source": [
        "# Using the returned value"
      ]
    },
    {
      "cell_type": "code",
      "execution_count": null,
      "metadata": {},
      "outputs": [],
      "source": [
        "model_accuracy = calculate_ai_accuracy(850, 1000)\n",
        "print(f\"AI Model Accuracy: {model_accuracy}%\")"
      ]
    },
    {
      "cell_type": "markdown",
      "metadata": {},
      "source": [
        "# Chain functions"
      ]
    },
    {
      "cell_type": "code",
      "execution_count": null,
      "metadata": {},
      "outputs": [],
      "source": [
        "def format_percentage(value):\n",
        "    return f\"{value:.2f}%\""
      ]
    },
    {
      "cell_type": "code",
      "execution_count": null,
      "metadata": {},
      "outputs": [],
      "source": [
        "formatted_result = format_percentage(model_accuracy)\n",
        "print(f\"Formatted: {formatted_result}\")"
      ]
    },
    {
      "cell_type": "markdown",
      "metadata": {},
      "source": [
        "## Output"
      ]
    },
    {
      "cell_type": "markdown",
      "metadata": {},
      "source": [
        "AI Model Accuracy: 85.0%\n",
        "Formatted: 85.00%"
      ]
    },
    {
      "cell_type": "markdown",
      "metadata": {},
      "source": [
        "## Key Takeaway\n",
        "\n",
        "💡 Return statements make functions produce useful results you can store and use!\n",
        "\n",
        "---\n",
        "\n",
        "**Think About It:** What's the difference between print() and return in a function? 🤔"
      ]
    }
  ],
  "metadata": {
    "kernelspec": {
      "display_name": "Python 3",
      "language": "python",
      "name": "python3"
    },
    "language_info": {
      "name": "python",
      "version": "3.x"
    }
  },
  "nbformat": 4,
  "nbformat_minor": 5
}