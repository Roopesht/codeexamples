{
  "cells": [
    {
      "cell_type": "markdown",
      "metadata": {},
      "source": [
        "# Concept 3: Return Statements and Function Output"
      ]
    },
    {
      "cell_type": "markdown",
      "metadata": {},
      "source": [
        "### Why Use Return Statements?"
      ]
    },
    {
      "cell_type": "markdown",
      "metadata": {},
      "source": [
        "- 📤 Send results back to the calling code",
        "- 💾 Store function results in variables",
        "- 🔗 Chain functions together",
        "- 🎯 Make functions more useful and flexible"
      ]
    },
    {
      "cell_type": "markdown",
      "metadata": {},
      "source": [
        "### Functions That Return Values"
      ]
    },
    {
      "cell_type": "code",
      "execution_count": null,
      "metadata": {},
      "outputs": [],
      "source": [
        "# Function that returns a value\n",
        "def calculate_ai_accuracy(correct_predictions, total_predictions):\n",
        "    accuracy = (correct_predictions / total_predictions) * 100\n",
        "    return accuracy\n",
        "\n",
        "# Using the returned value\n",
        "model_accuracy = calculate_ai_accuracy(850, 1000)\n",
        "print(f\"AI Model Accuracy: {model_accuracy}%\")\n",
        "\n",
        "# Chain functions\n",
        "def format_percentage(value):\n",
        "    return f\"{value:.2f}%\"\n",
        "\n",
        "formatted_result = format_percentage(model_accuracy)\n",
        "print(f\"Formatted: {formatted_result}\")"
      ]
    },
    {
      "cell_type": "markdown",
      "metadata": {},
      "source": [
        "### Output"
      ]
    },
    {
      "cell_type": "markdown",
      "metadata": {},
      "source": [
        "AI Model Accuracy: 85.0%\n",
        "Formatted: 85.00%"
      ]
    },
    {
      "cell_type": "markdown",
      "metadata": {},
      "source": [
        "### Key Takeaway"
      ]
    },
    {
      "cell_type": "markdown",
      "metadata": {},
      "source": [
        "💡 Return statements make functions produce useful results you can store and use!"
      ]
    },
    {
      "cell_type": "markdown",
      "metadata": {},
      "source": [
        "---",
        "### Think About It:",
        "What's the difference between print() and return in a function? 🤔"
      ]
    }
  ],
  "metadata": {
    "kernelspec": {
      "name": "python3",
      "display_name": "Python 3"
    },
    "language_info": {
      "name": "python",
      "version": "3.x"
    }
  }
}