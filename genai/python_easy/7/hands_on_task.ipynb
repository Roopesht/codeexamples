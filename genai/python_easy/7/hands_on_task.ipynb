{
  "cells": [
    {
      "cell_type": "markdown",
      "metadata": {},
      "source": [
        "# Calculator Functions\n",
        "\n",
        "Build a modular calculator where each operation is a separate function! You'll learn how to organize code into functions, handle errors, and create an interactive user menu."
      ]
    },
    {
      "cell_type": "markdown",
      "metadata": {},
      "source": [
        "![Calculator interface](images/calculator_functions.png)"
      ]
    },
    {
      "cell_type": "markdown",
      "metadata": {},
      "source": [
        "## Task Requirements\n",
        "- ➕ Create `add(a, b)` function\n",
        "- ➖ Create `subtract(a, b)` function\n",
        "- ✖️ Create `multiply(a, b)` function\n",
        "- ➗ Create `divide(a, b)` function (handle division by zero)\n",
        "- 🔢 Create `power(a, b)` function\n",
        "- 🎮 Create `main_menu()` function to choose operations"
      ]
    },
    {
      "cell_type": "markdown",
      "metadata": {},
      "source": [
        "## Step-by-Step Approach\n",
        "1️⃣ Create individual operation functions\n",
        "2️⃣ Add error handling for division by zero\n",
        "3️⃣ Create a menu function to display options\n",
        "4️⃣ Create a main function to run the calculator\n",
        "5️⃣ Test with various inputs"
      ]
    },
    {
      "cell_type": "markdown",
      "metadata": {},
      "source": [
        "## Expected Input/Output Example\n",
        "```plaintext\n",
        "=== AI Calculator ===\n",
        "1. Add\n",
        "2. Subtract\n",
        "3. Multiply\n",
        "4. Divide\n",
        "5. Power\n",
        "Choose operation (1-5): 1\n",
        "Enter first number: 15\n",
        "Enter second number: 25\n",
        "Result: 15 + 25 = 40\n",
        "\n",
        "Choose operation (1-5): 4\n",
        "Enter first number: 10\n",
        "Enter second number: 0\n",
        "Error: Cannot divide by zero!\n",
        "```\n"
      ]
    },
    {
      "cell_type": "markdown",
      "metadata": {},
      "source": [
        "## Code Structure Template\n",
        "```python\n",
        "def add(a, b):\n",
        "    # Your code here\n",
        "    pass\n",
        "\n",
        "def subtract(a, b):\n",
        "    # Your code here\n",
        "    pass\n",
        "\n",
        "def multiply(a, b):\n",
        "    # Your code here\n",
        "    pass\n",
        "\n",
        "def divide(a, b):\n",
        "    # Handle division by zero\n",
        "    # Your code here\n",
        "    pass\n",
        "\n",
        "def power(a, b):\n",
        "    # Your code here\n",
        "    pass\n",
        "\n",
        "def show_menu():\n",
        "    # Display menu options\n",
        "    # Your code here\n",
        "    pass\n",
        "\n",
        "def main():\n",
        "    # Main calculator logic\n",
        "    # Your code here\n",
        "    pass\n",
        "\n",
        "# Run the calculator\n",
        "main()\n",
        "```"
      ]
    },
    {
      "cell_type": "markdown",
      "metadata": {},
      "source": [
        "## 🎯 What You'll Learn\n",
        "- ✅ Function organization and modularity\n",
        "- ✅ Error handling in functions\n",
        "- ✅ User input and function interaction\n",
        "- ✅ Building a complete application with functions\n",
        "\n",
        "💡 **Bonus Challenge:** Add square root and percentage functions!"
      ]
    },
    {
      "cell_type": "code",
      "execution_count": null,
      "metadata": {},
      "outputs": [],
      "source": [
        "def add(a, b):\n",
        "    return a + b\n",
        "\n",
        "def subtract(a, b):\n",
        "    return a - b\n",
        "\n",
        "def multiply(a, b):\n",
        "    return a * b\n",
        "\n",
        "def divide(a, b):\n",
        "    if b == 0:\n",
        "        return \"Error: Cannot divide by zero!\"\n",
        "    return a / b\n",
        "\n",
        "def power(a, b):\n",
        "    return a ** b\n",
        "\n",
        "def show_menu():\n",
        "    print(\"=== AI Calculator ===\")\n",
        "    print(\"1. Add\")\n",
        "    print(\"2. Subtract\")\n",
        "    print(\"3. Multiply\")\n",
        "    print(\"4. Divide\")\n",
        "    print(\"5. Power\")\n"
      ]
    },
    {
      "cell_type": "code",
      "execution_count": null,
      "metadata": {},
      "outputs": [],
      "source": [
        "def main():\n",
        "    while True:\n",
        "        show_menu()\n",
        "        choice = input(\"Choose operation (1-5) or 'q' to quit: \")\n",
        "        if choice.lower() == 'q':\n",
        "            print(\"Goodbye!\")\n",
        "            break\n",
        "        if choice not in ['1', '2', '3', '4', '5']:\n",
        "            print(\"Invalid choice. Please select a number from 1 to 5.\")\n",
        "            continue\n",
        "        try:\n",
        "            a = float(input(\"Enter first number: \"))\n",
        "            b = float(input(\"Enter second number: \"))\n",
        "        except ValueError:\n",
        "            print(\"Invalid input. Please enter numeric values.\")\n",
        "            continue\n",
        "        if choice == '1':\n",
        "            result = add(a, b)\n",
        "            print(f\"Result: {a} + {b} = {result}\")\n",
        "        elif choice == '2':\n",
        "            result = subtract(a, b)\n",
        "            print(f\"Result: {a} - {b} = {result}\")\n",
        "        elif choice == '3':\n",
        "            result = multiply(a, b)\n",
        "            print(f\"Result: {a} * {b} = {result}\")\n",
        "        elif choice == '4':\n",
        "            result = divide(a, b)\n",
        "            if isinstance(result, str):\n",
        "                print(result)\n",
        "            else:\n",
        "                print(f\"Result: {a} / {b} = {result}\")\n",
        "        elif choice == '5':\n",
        "            result = power(a, b)\n",
        "            print(f\"Result: {a} ** {b} = {result}\")\n"
      ]
    }
  ],
  "metadata": {},
  "nbformat": 4,
  "nbformat_minor": 5
}