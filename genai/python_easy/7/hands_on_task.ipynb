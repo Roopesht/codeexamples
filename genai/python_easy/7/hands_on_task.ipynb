{
  "cells": [
    {
      "cell_type": "markdown",
      "metadata": {},
      "source": [
        "# Build a Modular Calculator with Functions\n",
        "\n",
        "In this notebook, we'll create a simple calculator that performs basic arithmetic operations. We'll make each operation a separate function for better organization and reusability.\n",
        "\n",
        "Let's get started!"
      ]
    },
    {
      "cell_type": "markdown",
      "metadata": {},
      "source": [
        "## Creating Basic Operation Functions\n",
        "\n",
        "We'll define individual functions for addition, subtraction, multiplication, division, and power."
      ]
    },
    {
      "cell_type": "code",
      "execution_count": null,
      "metadata": {},
      "outputs": [],
      "source": [
        "def add(a, b):\n",
        "    return a + b\n",
        "\n",
        "def subtract(a, b):\n",
        "    return a - b\n",
        "\n",
        "def multiply(a, b):\n",
        "    return a * b\n",
        "\n",
        "def divide(a, b):\n",
        "    if b == 0:\n",
        "        return \"Error: Cannot divide by zero!\"\n",
        "    return a / b\n",
        "\n",
        "def power(a, b):\n",
        "    return a ** b"
      ]
    },
    {
      "cell_type": "markdown",
      "metadata": {},
      "source": [
        "## Creating the Menu for User Interaction\n",
        "\n",
        "We'll display options to the user so they can choose which operation to perform."
      ]
    },
    {
      "cell_type": "code",
      "execution_count": null,
      "metadata": {},
      "outputs": [],
      "source": [
        "def show_menu():\n",
        "    print(\"=== AI Calculator ===\")\n",
        "    print(\"1. Add\")\n",
        "    print(\"2. Subtract\")\n",
        "    print(\"3. Multiply\")\n",
        "    print(\"4. Divide\")\n",
        "    print(\"5. Power\")"
      ]
    },
    {
      "cell_type": "markdown",
      "metadata": {},
      "source": [
        "## Main Function to Run the Calculator\n",
        "\n",
        "This function will handle user input, call the appropriate operation, and display the result."
      ]
    },
    {
      "cell_type": "code",
      "execution_count": null,
      "metadata": {},
      "outputs": [],
      "source": [
        "def main():\n",
        "    while True:\n",
        "        show_menu()\n",
        "        choice = input(\"Choose operation (1-5) or 'q' to quit: \")\n",
        "        if choice.lower() == 'q':\n",
        "            print(\"Goodbye!\")\n",
        "            break\n",
        "        if choice not in ['1', '2', '3', '4', '5']:\n",
        "            print(\"Invalid choice. Please try again.\")\n",
        "            continue\n",
        "        try:\n",
        "            a = float(input(\"Enter first number: \"))\n",
        "            b = float(input(\"Enter second number: \"))\n",
        "        except ValueError:\n",
        "            print(\"Invalid input. Please enter numeric values.\")\n",
        "            continue\n",
        "        if choice == '1':\n",
        "            result = add(a, b)\n",
        "            print(f\"Result: {a} + {b} = {result}\")\n",
        "        elif choice == '2':\n",
        "            result = subtract(a, b)\n",
        "            print(f\"Result: {a} - {b} = {result}\")\n",
        "        elif choice == '3':\n",
        "            result = multiply(a, b)\n",
        "            print(f\"Result: {a} * {b} = {result}\")\n",
        "        elif choice == '4':\n",
        "            result = divide(a, b)\n",
        "            if isinstance(result, str):  # Error message\n",
        "                print(result)\n",
        "            else:\n",
        "                print(f\"Result: {a} / {b} = {result}\")\n",
        "        elif choice == '5':\n",
        "            result = power(a, b)\n",
        "            print(f\"Result: {a} ** {b} = {result}\")"
      ]
    }
  ],
  "metadata": {
    "kernelspec": {
      "display_name": "Python 3",
      "language": "python",
      "name": "python3"
    },
    "language_info": {
      "name": "python",
      "version": "3.x",
      "mimetype": "text/x-python",
      "codemirror_mode": {
        "name": "python",
        "version": 3
      },
      "pygments_lexer": "ipython3",
      "nbconvert_exporter": "python",
      "file_extension": ".py"
    }
  },
  "nbformat": 4,
  "nbformat_minor": 5
}