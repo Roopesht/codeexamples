{
  "cells": [
    {
      "cell_type": "markdown",
      "metadata": {},
      "source": [
        "# 🧮 Calculator Functions Challenge\n",
        "Build a comprehensive calculator using separate functions for different operations!\n",
        "\n",
        "_\"The best way to learn programming is by writing programs.\" - Unknown_"
      ]
    },
    {
      "cell_type": "markdown",
      "metadata": {},
      "source": [
        "## 🎯 Task Requirements"
      ]
    },
    {
      "cell_type": "markdown",
      "metadata": {},
      "source": [
        "- ➕ Create function for addition\n",
        "- ➖ Create function for subtraction\n",
        "- ✖️ Create function for multiplication\n",
        "- ➗ Create function for division with error handling\n",
        "- 🔢 Create a function for any additional operation needed\n",
        "- 🎛️ Create main function to run the program"
      ]
    },
    {
      "cell_type": "markdown",
      "metadata": {},
      "source": [
        "## 📝 Step-by-Step Guide"
      ]
    },
    {
      "cell_type": "markdown",
      "metadata": {},
      "source": [
        "1️⃣ **Step 1**: Define basic arithmetic functions\n",
        "2️⃣ **Step 2**: Add error handling for division by zero\n",
        "3️⃣ **Step 3**: Create a menu system for user interaction\n",
        "4️⃣ **Step 4**: Implement the main calculator loop\n",
        "5️⃣ **Step 5**: Test with various inputs"
      ]
    },
    {
      "cell_type": "markdown",
      "metadata": {},
      "source": [
        "## 📋 Example Input/Output"
      ]
    },
    {
      "cell_type": "code",
      "metadata": {},
      "source": [
        "# Example usage: Calculator Menu:\n",
        "# 1. Add\n",
        "# 2. Subtract\n",
        "# 3. Multiply\n",
        "# 4. Divide\n",
        "# 5. Power\n",
        "# 6. Exit\n",
        "choice = input(\"Enter choice: \")\n",
        "if choice == '1':\n",
        "    num1 = float(input(\"Enter first number: \"))\n",
        "    num2 = float(input(\"Enter second number: \"))\n",
        "    print(f\"Result: {num1} + {num2} = {add(num1, num2)}\")\n",
        "elif choice == '4':\n",
        "    num1 = float(input(\"Enter first number: \"))\n",
        "    num2 = float(input(\"Enter second number: \"))\n",
        "    result = divide(num1, num2)\n",
        "    if result is not None:\n",
        "        print(f\"Result: {num1} / {num2} = {result}\")\n",
        "elif choice == '6':\n",
        "    print(\"Exiting the calculator.\")"
      ],
      "output": [],
      "execution_count": null
    },
    {
      "cell_type": "markdown",
      "metadata": {},
      "source": [
        "## 🏗️ Code Structure"
      ]
    },
    {
      "cell_type": "code",
      "metadata": {},
      "source": [
        "# Basic structure to get you started\n",
        "def add(a, b):\n",
        "    # Your code here\n",
        "    return a + b\n",
        "\n",
        "def divide(a, b):\n",
        "    # Remember to handle division by zero!\n",
        "    if b == 0:\n",
        "        print(\"Error: Cannot divide by zero!\")\n",
        "        return None\n",
        "    return a / b\n",
        "\n",
        "def calculator():\n",
        "    # Main program loop\n",
        "    while True:\n",
        "        print(\"\\nCalculator Menu\")\n",
        "        print(\"1. Add\")\n",
        "        print(\"2. Subtract\")\n",
        "        print(\"3. Multiply\")\n",
        "        print(\"4. Divide\")\n",
        "        print(\"5. Power\")\n",
        "        print(\"6. Exit\")\n",
        "        choice = input(\"Enter choice: \")\n",
        "        if choice == '6':\n",
        "            print(\"Exiting...\")\n",
        "            break\n",
        "        elif choice in ['1', '2', '3', '4', '5']:\n",
        "            num1 = float(input(\"Enter first number: \"))\n",
        "            num2 = float(input(\"Enter second number: \"))\n",
        "            if choice == '1':\n",
        "                result = add(num1, num2)\n",
        "                print(f\"Result: {num1} + {num2} = {result}\")\n",
        "            elif choice == '2':\n",
        "                result = subtract(num1, num2)\n",
        "                print(f\"Result: {num1} - {num2} = {result}\")\n",
        "            elif choice == '3':\n",
        "                result = multiply(num1, num2)\n",
        "                print(f\"Result: {num1} * {num2} = {result}\")\n",
        "            elif choice == '4':\n",
        "                result = divide(num1, num2)\n",
        "                if result is not None:\n",
        "                    print(f\"Result: {num1} / {num2} = {result}\")\n",
        "            elif choice == '5':\n",
        "                result = power(num1, num2)\n",
        "                print(f\"Result: {num1} ** {num2} = {result}\")\n",
        "        else:\n",
        "            print(\"Invalid choice, please try again.\")\n",
        "\n",
        "# Placeholder functions for subtraction, multiplication, power\n",
        "def subtract(a, b):\n",
        "    return a - b\n",
        "\n",
        "def multiply(a, b):\n",
        "    return a * b\n",
        "\n",
        "def power(a, b):\n",
        "    return a ** b\n",
        "\n",
        "# Start the calculator\n",
        "calculator()"
      ],
      "output": [],
      "execution_count": null
    },
    {
      "cell_type": "markdown",
      "metadata": {},
      "source": [
        "## 🎯 Task Conclusion"
      ]
    },
    {
      "cell_type": "markdown",
      "metadata": {},
      "source": [
        "This calculator project demonstrates how functions organize code, handle different operations, and create reusable components. These skills are essential for building GenAI applications!\n",
        "\n",
        "💡 Bonus: Consider how you might extend this calculator to handle more complex operations or integrate with AI models for natural language math queries!"
      ]
    }
  ],
  "metadata": {
    "kernelspec": {
      "display_name": "Python 3",
      "language": "python",
      "name": "python3"
    },
    "language_info": {
      "name": "python",
      "version": "3.8"
    }
  },
  "nbformat": 4,
  "nbformat_minor": 5
}