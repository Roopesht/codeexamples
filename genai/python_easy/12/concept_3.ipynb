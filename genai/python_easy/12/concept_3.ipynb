{
  "cells": [
    {
      "cell_type": "markdown",
      "metadata": {},
      "source": [
        "# Python Standard Library Overview"
      ]
    },
    {
      "cell_type": "markdown",
      "metadata": {},
      "source": [
        "🔧 In this section, we will learn about the Python Standard Library, which provides many useful modules for everyday programming tasks."
      ]
    },
    {
      "cell_type": "markdown",
      "metadata": {},
      "source": [
        "## 📚 Python Standard Library"
      ]
    },
    {
      "cell_type": "markdown",
      "metadata": {},
      "source": [
        "- 🎁 \"Batteries included\" - comes with Python\n",
        "- 🛠️ Hundreds of ready-to-use modules\n",
        "- ⚡ No installation needed\n",
        "- 🎯 Common programming tasks made easy"
      ]
    },
    {
      "cell_type": "markdown",
      "metadata": {},
      "source": [
        "## 🌟 Popular Standard Library Modules"
      ]
    },
    {
      "cell_type": "code",
      "metadata": {},
      "source": [
        "# Date and time\n",
        "from datetime import datetime, timedelta\n",
        "now = datetime.now()\n",
        "tomorrow = now + timedelta(days=1)\n",
        "\n",
        "# File operations\n",
        "import os\n",
        "current_dir = os.getcwd()\n",
        "files = os.listdir('.')\n",
        "\n",
        "# Random numbers (great for AI!)\n",
        "import random\n",
        "random_choice = random.choice(['GPT', 'Claude', 'Gemini'])\n",
        "random_num = random.randint(1, 100)\n",
        "\n",
        "# JSON handling (essential for AI APIs)\n",
        "import json\n",
        "data = {\"model\": \"gpt-4\", \"temperature\": 0.7}\n",
        "json_string = json.dumps(data)\n",
        "\n",
        "print(f\"Tomorrow: {tomorrow.strftime('%Y-%m-%d')}\")\n",
        "print(f\"Random AI model: {random_choice}\")\n",
        "print(f\"JSON: {json_string}\")"
      ]
    },
    {
      "cell_type": "markdown",
      "metadata": {},
      "source": [
        "## 📊 Output"
      ]
    },
    {
      "cell_type": "markdown",
      "metadata": {},
      "source": [
        "Tomorrow: 2024-12-20\n",
        "Random AI model: Claude\n",
        "JSON: {\"model\": \"gpt-4\", \"temperature\": 0.7}"
      ]
    },
    {
      "cell_type": "markdown",
      "metadata": {},
      "source": [
        "## ✅ Key Takeaway"
      ]
    },
    {
      "cell_type": "markdown",
      "metadata": {},
      "source": [
        "The standard library is your best friend - explore it before writing custom code!\n",
        "\n",
        "**Pro tip:** For AI projects, you'll frequently use: `json`, `requests`, `datetime`, `random`, and `os` modules."
      ]
    }
  ],
  "metadata": {
    "kernelspec": {
      "display_name": "Python 3",
      "language": "python",
      "name": "python3"
    },
    "language_info": {
      "name": "python",
      "version": "3.x"
    }
  },
  "nbformat": 4,
  "nbformat_minor": 5
}