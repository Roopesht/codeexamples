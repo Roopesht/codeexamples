{
  "cells": [
    {
      "cell_type": "markdown",
      "metadata": {},
      "source": [
        "# Understanding Python Modules and the import Statement"
      ]
    },
    {
      "cell_type": "markdown",
      "metadata": {},
      "source": [
        "## What are Modules?\n",
        "\n",
        "- 🗂️ A module is a file containing Python code\n",
        "- ♻️ Allows code reuse across multiple programs\n",
        "- 📚 Organizes code into logical units\n",
        "- 🧩 Building blocks for larger applications"
      ]
    },
    {
      "cell_type": "markdown",
      "metadata": {},
      "source": [
        "![Diagram showing how modules connect different Python files, with arrows showing import relationships. Size 800x600](images/python_modules.png)"
      ]
    },
    {
      "cell_type": "markdown",
      "metadata": {},
      "source": [
        "## 📥 Import Statement Syntax\n",
        "\n",
        "Let's look at the different ways to import modules and use their functions:"
      ]
    },
    {
      "cell_type": "code",
      "metadata": {},
      "execution_count": null,
      "outputs": [],
      "source": [
        "# Importing the entire math module\n",
        "import math\n",
        "\n",
        "# Importing math with an alias\n",
        "import math as m\n",
        "\n",
        "# Importing specific functions and constants from math\n",
        "from math import sqrt, pi\n",
        "\n",
        "# Importing all functions and constants from math (not recommended for large projects)\n",
        "from math import *\n",
        "\n",
        "# Using imported functions\n",
        "result = math.sqrt(16)\n",
        "area = pi * 2 ** 2\n",
        "print(f\"Square root: {result}\")\n",
        "print(f\"Area: {area}\")"
      ]
    },
    {
      "cell_type": "markdown",
      "metadata": {},
      "source": [
        "## 📊 Output\n",
        "\n",
        "Square root: 4.0\n",
        "Area: 12.566370614359172\n",
        "\n",
        "*Notice how we can use powerful math functions without writing them ourselves!*"
      ]
    },
    {
      "cell_type": "markdown",
      "metadata": {},
      "source": [
        "## ✅ Key Takeaway\n",
        "\n",
        "Modules are like toolboxes - they contain useful functions we can use without reinventing the wheel.\n",
        "\n",
        "**Think about it:** What repetitive tasks in your code could benefit from being in a module?"
      ]
    }
  ],
  "metadata": {},
  "nbformat": 4,
  "nbformat_minor": 5
}