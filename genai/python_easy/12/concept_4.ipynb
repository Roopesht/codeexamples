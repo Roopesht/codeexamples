{
  "cells": [
    {
      "cell_type": "markdown",
      "metadata": {},
      "source": [
        "# Installing External Packages with pip"
      ]
    },
    {
      "cell_type": "markdown",
      "metadata": {},
      "source": [
        "## 🌐 External Packages with pip"
      ]
    },
    {
      "cell_type": "markdown",
      "metadata": {},
      "source": [
        "- 📦 **pip** = \"Pip Installs Packages\"",
        "- 🌍 Access to 500,000+ packages on PyPI",
        "- 🤖 Essential for AI/ML libraries",
        "- ⚡ Easy installation and management"
      ]
    },
    {
      "cell_type": "markdown",
      "metadata": {},
      "source": [
        "## 🛠️ Essential pip Commands"
      ]
    },
    {
      "cell_type": "code",
      "execution_count": null,
      "metadata": {},
      "outputs": [],
      "source": [
        "# Install a package",
        "# pip install requests"
      ]
    },
    {
      "cell_type": "code",
      "execution_count": null,
      "metadata": {},
      "outputs": [],
      "source": [
        "# Install specific version",
        "# pip install numpy==1.21.0"
      ]
    },
    {
      "cell_type": "code",
      "execution_count": null,
      "metadata": {},
      "outputs": [],
      "source": [
        "# Install multiple packages",
        "# pip install pandas matplotlib seaborn"
      ]
    },
    {
      "cell_type": "code",
      "execution_count": null,
      "metadata": {},
      "outputs": [],
      "source": [
        "# List installed packages",
        "# pip list"
      ]
    },
    {
      "cell_type": "code",
      "execution_count": null,
      "metadata": {},
      "outputs": [],
      "source": [
        "# Show package information",
        "# pip show requests"
      ]
    },
    {
      "cell_type": "code",
      "execution_count": null,
      "metadata": {},
      "outputs": [],
      "source": [
        "# Upgrade a package",
        "# pip install --upgrade requests"
      ]
    },
    {
      "cell_type": "code",
      "execution_count": null,
      "metadata": {},
      "outputs": [],
      "source": [
        "# Uninstall a package",
        "# pip uninstall requests"
      ]
    },
    {
      "cell_type": "markdown",
      "metadata": {},
      "source": [
        "## 💡 Using External Packages"
      ]
    },
    {
      "cell_type": "code",
      "execution_count": null,
      "metadata": {},
      "outputs": [],
      "source": [
        "# First install: pip install requests",
        "import requests",
        "",
        "# Make API call (common in AI projects)",
        "response = requests.get('https://api.github.com/users/octocat')",
        "data = response.json()",
        "",
        "print(f\"User: {data['name']}\")",
        "print(f\"Public repos: {data['public_repos']}\")",
        "print(f\"Followers: {data['followers']}\")",
        "",
        "# Using another popular package",
        "# pip install emoji",
        "import emoji",
        "message = emoji.emojize(\"Python is :fire: for AI! :robot:\")",
        "print(message)"
      ]
    },
    {
      "cell_type": "markdown",
      "metadata": {},
      "source": [
        "## 📊 Output"
      ]
    },
    {
      "cell_type": "code",
      "execution_count": null,
      "metadata": {},
      "outputs": [],
      "source": [
        "User: The Octocat",
        "Public repos: 8",
        "Followers: 9429",
        "Python is 🔥 for AI! 🤖"
      ]
    },
    {
      "cell_type": "markdown",
      "metadata": {},
      "source": [
        "## ✅ Key Takeaway"
      ]
    },
    {
      "cell_type": "markdown",
      "metadata": {},
      "source": [
        "pip opens up Python's vast ecosystem - from web APIs to AI libraries like OpenAI, TensorFlow, and more!\n",
        "\n",
        "**AI Developer tip:** Popular packages you'll use: openai, pandas, numpy, matplotlib, streamlit."
      ]
    }
  ],
  "metadata": {
    "kernelspec": {
      "display_name": "Python 3",
      "language": "python",
      "name": "python3"
    },
    "language_info": {
      "name": "python",
      "version": "3.x"
    }
  },
  "nbformat": 4,
  "nbformat_minor": 5
}