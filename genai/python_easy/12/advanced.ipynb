{
  "cells": [
    {
      "cell_type": "markdown",
      "metadata": {},
      "source": [
        "# Advanced Python: Package Creation and Virtual Environments"
      ]
    },
    {
      "cell_type": "markdown",
      "metadata": {},
      "source": [
        "## 📦 Creating Packages"
      ]
    },
    {
      "cell_type": "markdown",
      "metadata": {},
      "source": [
        "- 🗂️ Packages are directories that contain multiple Python modules (files).",
        "- 📄 An `__init__.py` file inside a directory makes it a package.",
        "- 🏗️ Using packages helps organize large projects effectively.",
        "- 📚 Packages can also contain sub-packages for better structure."
      ]
    },
    {
      "cell_type": "markdown",
      "metadata": {},
      "source": [
        "## 📁 Package Structure"
      ]
    },
    {
      "cell_type": "markdown",
      "metadata": {},
      "source": [
        "Here's an example structure of a Python package called `my_ai_toolkit`:"
      ]
    },
    {
      "cell_type": "code",
      "metadata": {},
      "source": [
        "my_ai_toolkit/\n",
        "    __init__.py\n",
        "    text_processing.py\n",
        "    data_analysis.py\n",
        "    api_helpers.py\n",
        "    utils/\n",
        "        __init__.py\n",
        "        string_utils.py\n",
        "        math_utils.py"
      ],
      "execution_count": null,
      "outputs": []
    },
    {
      "cell_type": "markdown",
      "metadata": {},
      "source": [
        "And here is an example content of the `__init__.py` file inside the main package directory:"
      ]
    },
    {
      "cell_type": "code",
      "metadata": {},
      "source": [
        "# my_ai_toolkit/__init__.py\n",
        "from .text_processing import clean_text, extract_keywords\n",
        "from .data_analysis import analyze_sentiment\n",
        "from .api_helpers import call_openai_api\n",
        "\n",
        "__version__ = \"1.0.0\""
      ],
      "execution_count": null,
      "outputs": []
    },
    {
      "cell_type": "markdown",
      "metadata": {},
      "source": [
        "## 🌐 Virtual Environments"
      ]
    },
    {
      "cell_type": "markdown",
      "metadata": {},
      "source": [
        "- 🏠 Isolated Python environments for different projects.",
        "- 🔒 Helps prevent package conflicts.",
        "- 📋 Keeps project dependencies specific and manageable.",
        "- 🚀 Essential for AI development projects."
      ]
    },
    {
      "cell_type": "markdown",
      "metadata": {},
      "source": [
        "## 🛠️ Virtual Environment Commands"
      ]
    },
    {
      "cell_type": "code",
      "metadata": {},
      "source": [
        "# Create a virtual environment\n",
        "python -m venv my_ai_project\n",
        "\n",
        "# Activate (Windows)\n",
        "my_ai_project\\Scripts\\activate\n",
        "\n",
        "# Activate (Mac/Linux)\n",
        "source my_ai_project/bin/activate\n",
        "\n",
        "# Install packages inside the environment\n",
        "pip install openai pandas streamlit\n",
        "\n",
        "# Save current dependencies to a file\n",
        "pip freeze > requirements.txt\n",
        "\n",
        "# Install dependencies from requirements file\n",
        "pip install -r requirements.txt\n",
        "\n",
        "# Deactivate the virtual environment\n",
        "deactivate"
      ],
      "execution_count": null,
      "outputs": []
    },
    {
      "cell_type": "markdown",
      "metadata": {},
      "source": [
        "## ✅ Advanced Takeaway"
      ]
    },
    {
      "cell_type": "markdown",
      "metadata": {},
      "source": [
        "Packages and virtual environments are essential tools for professional Python development, especially in AI projects!"
      ]
    },
    {
      "cell_type": "markdown",
      "metadata": {},
      "source": [
        "**Best practice:** Always use virtual environments for your AI projects to keep dependencies clean and avoid conflicts."
      ]
    }
  ],
  "metadata": {
    "kernelspec": {
      "display_name": "Python 3",
      "language": "python",
      "name": "python3"
    },
    "language_info": {
      "name": "python",
      "version": "3.x"
    }
  },
  "nbformat": 4,
  "nbformat_minor": 5
}