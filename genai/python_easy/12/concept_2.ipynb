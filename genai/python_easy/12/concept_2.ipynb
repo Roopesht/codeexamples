{
  "cells": [
    {
      "cell_type": "markdown",
      "metadata": {},
      "source": [
        "# Creating Your Own Modules in Python\n",
        "\n",
        "In this notebook, we will learn how to create and use our own modules in Python. Modules help organize code into separate files, making it easier to reuse and share."
      ]
    },
    {
      "cell_type": "markdown",
      "metadata": {},
      "source": [
        "## 🛠️ Creating Your Own Modules\n",
        "\n",
        "- Any Python file (.py) can be a module.\n",
        "- Save related functions in a .py file.\n",
        "- Import the filename (without .py) to use the functions.\n",
        "- Share your code across multiple projects easily."
      ]
    },
    {
      "cell_type": "markdown",
      "metadata": {},
      "source": [
        "## 📝 Creating a Module (my_utils.py)\n",
        "\n",
        "Let's create a module called `my_utils.py` that contains some useful functions:\n",
        "\n",
        "```python\n",
        "# my_utils.py\n",
        "def greet(name):\n",
        "    \"\"\"Return a personalized greeting.\"\"\"\n",
        "    return f\"Hello, {name}! Welcome to AI programming!\"\n",
        "\n",
        "def calculate_age(birth_year):\n",
        "    \"\"\"Calculate age from birth year.\"\"\"\n",
        "    from datetime import datetime\n",
        "    current_year = datetime.now().year\n",
        "    return current_year - birth_year\n",
        "\n",
        "def clean_text(text):\n",
        "    \"\"\"Clean text for AI processing.\"\"\"\n",
        "    return text.strip().lower().replace(\"  \", \" \")\n",
        "\n",
        "# Module-level variable\n",
        "VERSION = \"1.0.0\"\n",
        "```",
        "\n",
        "This file contains functions to greet someone, calculate age, clean text, and a version number."
      ]
    },
    {
      "cell_type": "markdown",
      "metadata": {},
      "source": [
        "## 📥 Using Your Custom Module\n",
        "\n",
        "Now, let's see how to use our custom module in another Python script.\n",
        "\n",
        "Create a separate script or notebook and import your module:\n",
        "\n",
        "```python\n",
        "# main.py\n",
        "import my_utils\n",
        "\n",
        "# Use functions from our module\n",
        "message = my_utils.greet(\"Alice\")\n",
        "age = my_utils.calculate_age(1990)\n",
        "clean = my_utils.clean_text(\"  Hello   World  \")\n",
        "\n",
        "print(message)\n",
        "print(f\"Age: {age}\")\n",
        "print(f\"Clean text: '{clean}'\")\n",
        "print(f\"Module version: {my_utils.VERSION}\")\n",
        "```"
      ]
    },
    {
      "cell_type": "markdown",
      "metadata": {},
      "source": [
        "## 📊 Output\n",
        "\n",
        "Running the above code will produce the following output:\n",
        "\n",
        "```text\n",
        "Hello, Alice! Welcome to AI programming!\n",
        "Age: 34\n",
        "Clean text: 'hello world'\n",
        "Module version: 1.0.0\n",
        "```",
        "\n",
        "Note: The age will vary depending on the current year."
      ]
    },
    {
      "cell_type": "markdown",
      "metadata": {},
      "source": [
        "## ✅ Key Takeaway\n",
        "\n",
        "Creating modules is like building your own personal toolkit — collect useful functions and reuse them everywhere!"
      ]
    },
    {
      "cell_type": "markdown",
      "metadata": {},
      "source": [
        "## 💡 Challenge\n",
        "\n",
        "What's one function you've written that you could turn into a reusable module? Think about small pieces of code that you find yourself using repeatedly."
      ]
    }
  ],
  "metadata": {
    "kernelspec": {
      "display_name": "Python 3",
      "language": "python",
      "name": "python3"
    },
    "language_info": {
      "name": "python",
      "version": "3.x"
    }
  },
  "nbformat": 4,
  "nbformat_minor": 5
}