{
  "cells": [
    {
      "cell_type": "markdown",
      "metadata": {},
      "source": [
        "# Building a Utility Module for AI Projects"
      ]
    },
    {
      "cell_type": "markdown",
      "metadata": {},
      "source": [
        "In this notebook, we'll learn how to create a simple utility module in Python. This module will contain helpful functions that you can use in your AI projects, such as text processing and mathematical calculations.\n",
        "\n",
        "Let's get started!"
      ]
    },
    {
      "cell_type": "markdown",
      "metadata": {},
      "source": [
        "## Step 1: Create the utility module file\n",
        "\n",
        "First, create a new Python file named `ai_utils.py`. This file will contain all our helper functions."
      ]
    },
    {
      "cell_type": "markdown",
      "metadata": {},
      "source": [
        "## Step 2: Add string helper functions\n",
        "\n",
        "Let's define some useful string functions:"
      ]
    },
    {
      "cell_type": "code",
      "execution_count": null,
      "metadata": {},
      "outputs": [],
      "source": [
        "# ai_utils.py\n",
        "import re\n",
        "\n",
        "def clean_text(text):\n",
        "    \"\"\"Clean text for AI processing\"\"\"\n",
        "    text = text.strip().lower()\n",
        "    text = re.sub(r'\\s+', ' ', text)\n",
        "    return text\n",
        "\n",
        "def count_words(text):\n",
        "    \"\"\"Count words in text\"\"\"\n",
        "    return len(text.split())\n"
      ]
    },
    {
      "cell_type": "markdown",
      "metadata": {},
      "source": [
        "Next, let's add some math functions."
      ]
    },
    {
      "cell_type": "code",
      "execution_count": null,
      "metadata": {},
      "outputs": [],
      "source": [
        "def calculate_percentage(part, whole):\n",
        "    \"\"\"Calculate percentage\"\"\"\n",
        "    return (part / whole) * 100\n",
        "\n",
        "def get_average(numbers):\n",
        "    \"\"\"Calculate average of list of numbers\"\"\"\n",
        "    return sum(numbers) / len(numbers)\n"
      ]
    },
    {
      "cell_type": "markdown",
      "metadata": {},
      "source": [
        "## Step 3: Create a main script to test the functions\n",
        "\n",
        "Now, create a file named `main.py` where you'll import your `ai_utils` module and test all the functions with sample data."
      ]
    },
    {
      "cell_type": "code",
      "execution_count": null,
      "metadata": {},
      "outputs": [],
      "source": [
        "# main.py\n",
        "import ai_utils\n",
        "\n",
        "sample_text = \"  Hello   World  From AI  \"\n",
        "numbers = [85, 92, 78, 96, 88]\n",
        "\n",
        "print(\"Cleaned Text:\", ai_utils.clean_text(sample_text))\n",
        "print(\"Word Count:\", ai_utils.count_words(sample_text))\n",
        "print(\"Average of numbers:\", ai_utils.get_average(numbers))\n"
      ]
    },
    {
      "cell_type": "markdown",
      "metadata": {},
      "source": [
        "Let's see what output we get!"
      ]
    },
    {
      "cell_type": "markdown",
      "metadata": {},
      "source": [
        "## Expected Output\n",
        "\n",
        "Cleaned Text: hello world from ai\n",
        "Word Count: 4\n",
        "Average of numbers: 87.8"
      ]
    },
    {
      "cell_type": "markdown",
      "metadata": {},
      "source": [
        "## 🎉 Task Complete!\n",
        "\n",
        "Congratulations! You've built your first utility module in Python. These helper functions can now be reused in all your AI projects.\n",
        "\n",
        "**Bonus:** Feel free to add more functions like email extraction, data validation, or file operations to your utility module!"
      ]
    }
  ],
  "metadata": {
    "kernelspec": {
      "display_name": "Python 3",
      "language": "python",
      "name": "python3"
    },
    "language_info": {
      "codemirror_mode": {
        "name": "ipython",
        "version": 3
      },
      "file_extension": ".py",
      "mimetype": "text/x-python",
      "name": "python",
      "nbconvert_exporter": "python",
      "pygments_lexer": "ipython3",
      "version": "3.8"
    }
  },
  "nbformat": 4,
  "nbformat_minor": 5
}