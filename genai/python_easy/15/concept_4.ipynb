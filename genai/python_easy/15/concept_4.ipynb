{
  "cells": [
    {
      "cell_type": "markdown",
      "metadata": {},
      "source": [
        "# API Integration with LLMs\n",
        "\n",
        "Welcome to the beginner-friendly introduction to API integration! In this notebook, we'll learn what APIs are, how to use them to communicate with external services like language models, and see some simple Python code examples."
      ]
    },
    {
      "cell_type": "markdown",
      "metadata": {},
      "source": [
        "## 🌐 API Integration Fundamentals\n",
        "\n",
        "- 🚀 Connect to external services and LLMs\n",
        "- 📡 Send requests and receive responses\n",
        "- 🔑 Handle authentication securely\n",
        "- ⚠️ Manage errors and rate limits gracefully"
      ]
    },
    {
      "cell_type": "markdown",
      "metadata": {},
      "source": [
        "## 📡 What is an API?\n",
        "\n",
        "- **API:** Application Programming Interface\n",
        "- A way for programs to communicate with each other\n",
        "- Send data in, get processed results back\n",
        "- Like ordering food: menu (API), order (request), meal (response)\n",
        "\n",
        "![API communication diagram](images/api_concept.png)"
      ]
    },
    {
      "cell_type": "markdown",
      "metadata": {},
      "source": [
        "## 🔧 HTTP Methods\n",
        "\n",
        "- **GET:** Retrieve data\n",
        "- **POST:** Send data to create/process\n",
        "- **PUT:** Update existing data\n",
        "- **DELETE:** Remove data"
      ]
    },
    {
      "cell_type": "markdown",
      "metadata": {},
      "source": [
        "## 📚 LLM API Integration Example\n",
        "\n",
        "Below is a simple example of how to call the OpenAI API using Python. It includes proper error handling and uses environment variables for the API key."
      ]
    },
    {
      "cell_type": "code",
      "execution_count": null,
      "metadata": {},
      "outputs": [],
      "source": [
        "import requests\n",
        "import os\n",
        "from dotenv import load_dotenv\n",
        "\n",
        "load_dotenv()\n",
        "\n",
        "def call_llm_api(prompt, model=\"gpt-3.5-turbo\"):\n",
        "    \"\"\"Call OpenAI API with proper error handling\"\"\"\n",
        "    api_key = os.getenv('OPENAI_API_KEY')\n",
        "    if not api_key:\n",
        "        raise ValueError(\"OPENAI_API_KEY environment variable not set\")\n",
        "\n",
        "    headers = {\n",
        "        'Authorization': f'Bearer {api_key}',\n",
        "        'Content-Type': 'application/json'\n",
        "    }\n",
        "    data = {\n",
        "        'model': model,\n",
        "        'messages': [{'role': 'user', 'content': prompt}],\n",
        "        'max_tokens': 150\n",
        "    }\n",
        "    try:\n",
        "        response = requests.post(\n",
        "            'https://api.openai.com/v1/chat/completions',\n",
        "            headers=headers,\n",
        "            json=data\n",
        "        )\n",
        "        response.raise_for_status()\n",
        "        return response.json()['choices'][0]['message']['content']\n",
        "    except requests.exceptions.RequestException as e:\n",
        "        print(f\"API call failed: {e}\")\n",
        "        return \"Sorry, I couldn't process your request.\"\n",
        "\n",
        "# Usage example\n",
        "if __name__ == '__main__':\n",
        "    result = call_llm_api(\"Suggest a reply to: 'How was your day?'\")\n",
        "    print(result)"
      ]
    },
    {
      "cell_type": "markdown",
      "metadata": {},
      "source": [
        "## 🚀 Open in Google Colab\n",
        "\n",
        "[Open in Colab](https://colab.research.google.com/github/Roopesht/codeexamples/blob/main/genai/python_easy/15/api_integration.ipynb)"
      ]
    },
    {
      "cell_type": "markdown",
      "metadata": {},
      "source": [
        "## 🎯 API Integration Success\n",
        "\n",
        "Always remember to handle errors gracefully, keep your API keys secure using environment variables, and respect API rate limits. APIs give us incredible power to connect and build applications!"
      ]
    },
    {
      "cell_type": "markdown",
      "metadata": {},
      "source": [
        "### 💭 Question:\n",
        "\n",
        "What could go wrong when making API calls, and how would you handle it? Think about network issues, invalid responses, or rate limiting."
      ]
    }
  ],
  "metadata": {
    "kernelspec": {
      "display_name": "Python 3",
      "language": "python",
      "name": "python3"
    },
    "language_info": {
      "name": "python",
      "version": "3.x"
    }
  },
  "nbformat": 4,
  "nbformat_minor": 5
}