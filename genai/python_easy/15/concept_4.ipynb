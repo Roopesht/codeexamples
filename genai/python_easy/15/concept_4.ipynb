{
  "cells": [
    {
      "cell_type": "markdown",
      "metadata": {},
      "source": [
        "# Introduction to GenAI APIs\n",
        "\n",
        "Welcome! In this notebook, we will learn about Generative AI (GenAI) APIs, how they work, and see an example using the OpenAI API.\n",
        "\n",
        "Let's get started!"
      ]
    },
    {
      "cell_type": "markdown",
      "metadata": {},
      "source": [
        "## 🤖 What are GenAI APIs?\n",
        "\n",
        "GenAI APIs allow you to connect to powerful AI models through simple programming interfaces. These APIs enable you to generate text, analyze language, and perform various AI-powered tasks.\n",
        "\n",
        "- Connect to AI models from providers like OpenAI, Google, Anthropic, and more.\n",
        "- Use API keys for authentication to ensure secure access.\n",
        "- Perform tasks such as text creation, analysis, and processing."
      ]
    },
    {
      "cell_type": "markdown",
      "metadata": {},
      "source": [
        "## ⚙️ How do GenAI APIs work?\n",
        "\n",
        "Here's a simple flowchart to understand the workflow:\n",
        "\n",
        "![](images/genai_api_workflow.png)\n",
        "\n",
        "In simple terms:\n",
        "- You write some Python code.\n",
        "- The code sends a request to the API.\n",
        "- The API communicates with the AI model.\n",
        "- The model responds with generated or analyzed data.\n",
        "- Your code processes the response."
      ]
    },
    {
      "cell_type": "markdown",
      "metadata": {},
      "source": [
        "## 🤖 OpenAI API Example\n",
        "\n",
        "Let's see an example of how to use the OpenAI API to generate text."
      ]
    },
    {
      "cell_type": "code",
      "execution_count": null,
      "metadata": {},
      "outputs": [],
      "source": [
        "import openai\n",
        "\n",
        "# Set up OpenAI client\n",
        "client = openai.OpenAI(api_key=\"your-api-key-here\")\n",
        "\n",
        "def generate_text(prompt, max_tokens=100):\n",
        "    \"\"\"Generate text using OpenAI API\"\"\"\n",
        "    try:\n",
        "        response = client.chat.completions.create(\n",
        "            model=\"gpt-3.5-turbo\",\n",
        "            messages=[\n",
        "                {\"role\": \"user\", \"content\": prompt}\n",
        "            ],\n",
        "            max_tokens=max_tokens\n",
        "        )\n",
        "        return response.choices[0].message.content\n",
        "    except Exception as e:\n",
        "        return f\"Error: {str(e)}\"\n",
        "\n",
        "# Example usage\n",
        "prompt = \"Explain machine learning in simple terms\"\n",
        "result = generate_text(prompt)\n",
        "print(result)"
      ]
    },
    {
      "cell_type": "markdown",
      "metadata": {},
      "source": [
        "## 🤖 API Response Example\n",
        "\n",
        "Here's an example of what the API might respond with:\n",
        "\n",
        "```plaintext\n",
        "Machine learning is like teaching a computer to recognize patterns \n",
        "and make predictions based on examples. Instead of programming \n",
        "specific rules, you show the computer lots of data so it can \n",
        "learn to identify patterns on its own and make intelligent \n",
        "decisions about new, unseen information.\n",
        "```"
      ]
    },
    {
      "cell_type": "markdown",
      "metadata": {},
      "source": [
        "✨ Powerful AI capabilities are now accessible at your fingertips! Use APIs to build smart applications and solve interesting problems."
      ]
    },
    {
      "cell_type": "markdown",
      "metadata": {},
      "source": [
        "## 🎯 Key Points About GenAI APIs\n",
        "\n",
        "- 🔑 Always keep your API keys secure and private.\n",
        "- 💰 Be aware of costs and usage limits.\n",
        "- 🛡️ Handle errors gracefully in your code.\n",
        "- 🌟 Think about how AI can help solve problems in your domain."
      ]
    }
  ],
  "metadata": {
    "kernelspec": {
      "display_name": "Python 3",
      "language": "python",
      "name": "python3"
    },
    "language_info": {
      "name": "python",
      "version": "3.x"
    }
  },
  "nbformat": 4,
  "nbformat_minor": 5
}