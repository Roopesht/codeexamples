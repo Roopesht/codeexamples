{
  "cells": [
    {
      "cell_type": "markdown",
      "metadata": {},
      "source": [
        "# WhatsApp Conversation Manager\n",
        "Welcome to the beginner-friendly guide to building a WhatsApp Conversation Manager with Python!\n",
        "In this tutorial, we'll go step-by-step to create a simple program that manages contacts and conversations, suggests replies, and formats messages for clarity."
      ]
    },
    {
      "cell_type": "markdown",
      "metadata": {},
      "source": [
        "## Introduction\n",
        "This project focuses on managing WhatsApp conversations efficiently using JSON for data storage, integrating with AI for reply suggestions, and formatting messages for readability.\n",
        "Let's explore the main features:\n",
        "- Manage contacts and conversations stored in JSON files\n",
        "- Tag messages by date and category\n",
        "- Generate AI-powered reply suggestions\n",
        "- Format messages for WhatsApp clarity\n",
        "- (Optional) Search conversations and schedule messages\n"
      ]
    },
    {
      "cell_type": "markdown",
      "metadata": {},
      "source": [
        "## Example of Input/Output for Conversation Management\n",
        "**Input Message:** \"Can we meet tomorrow for lunch?\"\n",
        "**Suggested Replies:**\n",
        "- \"Sure! What time works for you? 🍽️\"\n",
        "- \"I'd love to! How about 12:30 PM at our usual place?\"\n",
        "- \"Tomorrow might be tight. How about Thursday instead?\"\n",
        "**Context Considerations:** Previous conversations, relationship type, time of day"
      ]
    },
    {
      "cell_type": "markdown",
      "metadata": {},
      "source": [
        "## Implementation Steps\n",
        "1. Create a JSON structure for contacts and messages\n",
        "2. Build functions to add and retrieve conversations\n",
        "3. Implement date tagging and categorization\n",
        "4. Integrate with an AI API for reply suggestions\n",
        "5. Format output messages for WhatsApp readability\n",
        "6. (Optional) Add search and scheduling features"
      ]
    },
    {
      "cell_type": "markdown",
      "metadata": {},
      "source": [
        "## Project Structure"
      ]
    },
    {
      "cell_type": "code",
      "metadata": {},
      "source": [
        "# whatsapp_manager.py\n",
        "import json\n",
        "import requests\n",
        "from datetime import datetime\n",
        "from dotenv import load_dotenv\n",
        "import os\n",
        "\n",
        "load_dotenv()  # Load environment variables from .env\n",
        "\n",
        "class WhatsAppManager:\n",
        "    def __init__(self, data_file=\"conversations.json\"):\n",
        "        self.data_file = data_file\n",
        "        self.conversations = self.load_conversations()\n",
        "    \n",
        "    def load_conversations(self):\n",
        "        \"\"\"Load conversation data from JSON file\"\"\"\n",
        "        try:\n",
        "            with open(self.data_file, 'r', encoding='utf-8') as f:\n",
        "                return json.load(f)\n",
        "        except FileNotFoundError:\n",
        "            return {\"contacts\": {}, \"conversations\": []}\n",
        "    \n",
        "    def save_conversations(self):\n",
        "        \"\"\"Save conversation data to JSON file\"\"\"\n",
        "        with open(self.data_file, 'w', encoding='utf-8') as f:\n",
        "            json.dump(self.conversations, f, indent=2, ensure_ascii=False)\n",
        "    \n",
        "    def add_message(self, contact_name, message, message_type=\"incoming\"):\n",
        "        \"\"\"Add a new message to conversation history\"\"\"\n",
        "        timestamp = datetime.utcnow().isoformat()\n",
        "        entry = {\n",
        "            \"contact\": contact_name,\n",
        "            \"message\": message,\n",
        "            \"type\": message_type,\n",
        "            \"timestamp\": timestamp\n",
        "        }\n",
        "        self.conversations.setdefault(\"conversations\", []).append(entry)\n",
        "        self.save_conversations()\n",
        "        return entry\n",
        "    \n",
        "    def suggest_reply(self, contact_name, message):\n",
        "        \"\"\"Generate AI-powered reply suggestions\"\"\"\n",
        "        api_key = os.getenv(\"AI_API_KEY\")\n",
        "        if not api_key:\n",
        "            raise ValueError(\"AI_API_KEY not found in environment variables\")\n",
        "        payload = {\n",
        "            \"prompt\": f\"Reply to '{message}' from {contact_name}\",\n",
        "            \"max_tokens\": 60\n",
        "        }\n",
        "        response = requests.post(\n",
        "            \"https://api.example.com/generate\", json=payload,\n",
        "            headers={\"Authorization\": f\"Bearer {api_key}\"}\n",
        "        )\n",
        "        if response.status_code != 200:\n",
        "            response.raise_for_status()\n",
        "        data = response.json()\n",
        "        return data.get(\"suggestions\", [])\n",
        "    \n",
        "    def format_for_whatsapp(self, message):\n",
        "        \"\"\"Format message for WhatsApp with emojis and structure\"\"\"\n",
        "        # Example: Add bullet points and emojis\n",
        "        lines = message.split(\"\\n\")\n",
        "        formatted = []\n",
        "        for line in lines:\n",
        "            formatted.append(f\"• {line}\")\n",
        "        return \"\\n\".join(formatted)\n",
        "\n",
        "# Usage example\n",
        "if __name__ == \"__main__\":\n",
        "    manager = WhatsAppManager()\n",
        "    entry = manager.add_message(\"Alice\", \"How was your day?\", \"incoming\")\n",
        "    print(\"New message added:\", entry)\n",
        "    suggestions = manager.suggest_reply(\"Alice\", \"How was your day?\")\n",
        "    print(\"Suggested replies:\", suggestions)"
      ],
      "execution_count": null,
      "outputs": []
    }
  ],
  "metadata": {
    "kernelspec": {
      "display_name": "Python 3",
      "language": "python",
      "name": "python3"
    },
    "language_info": {
      "name": "python",
      "version": "3.x"
    }
  },
  "nbformat": 4,
  "nbformat_minor": 5
}