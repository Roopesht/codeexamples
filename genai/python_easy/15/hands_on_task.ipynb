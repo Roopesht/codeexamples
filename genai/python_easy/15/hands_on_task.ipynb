{
  "cells": [
    {
      "cell_type": "markdown",
      "metadata": {},
      "source": [
        "# Mini GenAI Application\n",
        "Build a simple text processing tool that reads text from a file, cleans and analyzes it, sends it to a GenAI API for enhancement, and saves the results.\n",
        "\n",
        "This beginner-friendly notebook guides you step-by-step through creating such an application."
      ]
    },
    {
      "cell_type": "markdown",
      "metadata": {},
      "source": [
        "## Introduction\n",
        "In this project, we will build a mini application that processes text files, uses AI to improve the text, and handles files efficiently.\n",
        "We'll cover file reading/writing, basic text processing, and integrating with a GenAI API."
      ]
    },
    {
      "cell_type": "markdown",
      "metadata": {},
      "source": [
        "## Step 1: Creating Project Structure\n",
        "While we won't physically create folders here, remember that your project should have the following structure:\n",
        "```\n",
        "# Project structure\n",
        "text_processor_app/\n",
        "├── main.py\n",
        "├── utils/\n",
        "│   ├── __init__.py\n",
        "│   ├── file_handler.py\n",
        "│   ├── text_processor.py\n",
        "│   └── genai_handler.py\n",
        "├── data/\n",
        "│   ├── input.txt\n",
        "│   └── output.txt\n",
        "└── requirements.txt\n",
        "```"
      ]
    },
    {
      "cell_type": "markdown",
      "metadata": {},
      "source": [
        "## Step 2: File Handling\n",
        "Let's write functions to read from and write to text files.\n",
        "This helps manage text data efficiently."
      ]
    },
    {
      "cell_type": "code",
      "execution_count": null,
      "metadata": {},
      "outputs": [],
      "source": [
        "def read_text_file(file_path):\n",
        "    '''Read content from a text file.'''\n",
        "    try:\n",
        "        with open(file_path, 'r', encoding='utf-8') as file:\n",
        "            return file.read()\n",
        "    except FileNotFoundError:\n",
        "        print(f\"File not found: {file_path}\")\n",
        "        return ''\n",
        "\n",
        "def write_text_file(file_path, content):\n",
        "    '''Write content to a text file.'''\n",
        "    with open(file_path, 'w', encoding='utf-8') as file:\n",
        "        file.write(content)\n"
      ]
    },
    {
      "cell_type": "markdown",
      "metadata": {},
      "source": [
        "## Step 3: Text Processing and Analysis\n",
        "Now, we'll create functions to clean and analyze text.\n",
        "Cleaning involves removing extra spaces and standardizing case.\n",
        "Analysis includes counting words."
      ]
    },
    {
      "cell_type": "code",
      "execution_count": null,
      "metadata": {},
      "outputs": [],
      "source": [
        "import re\n",
        "\n",
        "def clean_text(text):\n",
        "    '''Clean text by trimming spaces and standardizing case.'''\n",
        "    # Remove extra spaces\n",
        "    text = re.sub(r'\\s+', ' ', text).strip()\n",
        "    # Convert to lowercase for uniformity\n",
        "    return text.lower()\n",
        "\n",
        "def analyze_text(text):\n",
        "    '''Return basic analysis of the text.'''\n",
        "    words = text.split()\n",
        "    word_count = len(words)\n",
        "    return {\n",
        "        'word_count': word_count\n",
        "    }\n"
      ]
    },
    {
      "cell_type": "markdown",
      "metadata": {},
      "source": [
        "## Step 4: Integrating with GenAI API\n",
        "Here, we define a placeholder function to send text to a GenAI API for enhancement.\n",
        "In a real application, you'd replace the mock implementation with actual API requests."
      ]
    },
    {
      "cell_type": "code",
      "execution_count": null,
      "metadata": {},
      "outputs": [],
      "source": [
        "def send_to_genai(text):\n",
        "    '''Mock function to simulate sending text to GenAI API and getting enhanced text.'''\n",
        "    # In real scenario, make an API request here\n",
        "    # For demo, return a simple enhanced version\n",
        "    return \"This is a sample text with extra spaces and mixed case. \\n\" \\\n",
        "           \"It has been professionally formatted and enhanced for better readability.\"\n"
      ]
    },
    {
      "cell_type": "markdown",
      "metadata": {},
      "source": [
        "## Step 5: Processing Workflow\n",
        "Let's write the main script that combines all functions to process input text, enhance it, and save the output."
      ]
    },
    {
      "cell_type": "code",
      "execution_count": null,
      "metadata": {},
      "outputs": [],
      "source": [
        "def process_text_file(input_path, output_path):\n",
        "    '''Complete processing: read, clean, analyze, enhance, and save.'''\n",
        "    # Read original text\n",
        "    raw_text = read_text_file(input_path)\n",
        "    if not raw_text:\n",
        "        print(\"No input text to process.\")\n",
        "        return\n",
        "\n",
        "    # Clean text\n",
        "    clean = clean_text(raw_text)\n",
        "    # Analyze text\n",
        "    analysis = analyze_text(clean)\n",
        "    print(f\"Word count: {analysis['word_count']}\")\n",
        "    # Send to GenAI for enhancement\n",
        "    enhanced_text = send_to_genai(clean)\n",
        "    # Prepare output content\n",
        "    output_content = (\n",
        "        f\"Original: {raw_text.strip()}\\n\"\n",
        "        f\"Clean: {clean}\\n\"\n",
        "        f\"Word Count: {analysis['word_count']}\\n\"\n",
        "        f\"AI Enhanced: {enhanced_text.strip()}\\n\"\n",
        "    )\n",
        "    # Save results\n",
        "    write_text_file(output_path, output_content)\n",
        "    print(f\"Processed text saved to {output_path}\")\n"
      ]
    },
    {
      "cell_type": "markdown",
      "metadata": {},
      "source": [
        "## Example Run\n",
        "Assuming you have 'data/input.txt', this code will process it and save results to 'data/output.txt'."
      ]
    },
    {
      "cell_type": "code",
      "execution_count": null,
      "metadata": {},
      "outputs": [],
      "source": [
        "# Example execution\n",
        "input_file = 'data/input.txt'\n",
        "output_file = 'data/output.txt'\n",
        "process_text_file(input_file, output_file)\n"
      ]
    },
    {
      "cell_type": "markdown",
      "metadata": {},
      "source": [
        "## Summary\n",
        "In this notebook, we've built a basic text processing pipeline:\n",
        "- Reading and writing files\n",
        "- Cleaning and analyzing text\n",
        "- Integrating with a mock GenAI API\n",
        "- Combining all steps into a workflow\n",
        "This forms a foundation for more advanced AI-powered text applications!"
      ]
    }
  ],
  "metadata": {
    "kernelspec": {
      "name": "python3",
      "display_name": "Python 3",
      "language": "python"
    },
    "language_info": {
      "name": "python",
      "version": "3.x"
    }
  },
  "nbformat": 4,
  "nbformat_minor": 5
}