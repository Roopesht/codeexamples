{
  "cells": [
    {
      "cell_type": "markdown",
      "id": "title-cell",
      "metadata": {},
      "source": [
        "# Performance Considerations in Python"
      ]
    },
    {
      "cell_type": "markdown",
      "id": "intro-cell",
      "metadata": {},
      "source": [
        "In this notebook, we will learn about important tips and techniques to write efficient Python code. Optimizing your code can make programs run faster and use less memory, which is especially important when working with large datasets or performance-critical applications."
      ]
    },
    {
      "cell_type": "markdown",
      "id": "concept-header",
      "metadata": {},
      "source": [
        "## ⚡ Performance Considerations"
      ]
    },
    {
      "cell_type": "markdown",
      "id": "performance-tips",
      "metadata": {},
      "source": [
        "Here are some key tips for writing better-performing code:\n",
        "- 🚀 Choose efficient algorithms and data structures\n",
        "- 🔄 Avoid unnecessary loops and operations\n",
        "- 💾 Manage memory wisely and optimize usage\n",
        "- 📊 Measure your code's performance before making changes"
      ]
    },
    {
      "cell_type": "markdown",
      "id": "performance-visual",
      "metadata": {},
      "source": [
        "![Performance Comparison](images/performance_comparison.png)\n",
        "*Chart comparing execution time of different approaches (list vs set lookup). The set lookup is much faster.*"
      ]
    },
    {
      "cell_type": "markdown",
      "id": "performance-example-header",
      "metadata": {},
      "source": [
        "## ⚡ Performance Example"
      ]
    },
    {
      "cell_type": "code",
      "id": "performance-code",
      "metadata": {},
      "execution_count": null,
      "outputs": [],
      "source": [
        "import time\n",
        "\n",
        "# Slow approach - list lookup\n",
        "def find_in_list(items, target):\n",
        "    return target in items\n",
        "\n",
        "# Fast approach - set lookup\n",
        "def find_in_set(items, target):\n",
        "    item_set = set(items)\n",
        "    return target in item_set\n",
        "\n",
        "# Performance test\n",
        "large_list = list(range(100000))\n",
        "target = 99999\n",
        "\n",
        "# Test list lookup\n",
        "start = time.time()\n",
        "result1 = find_in_list(large_list, target)\n",
        "list_time = time.time() - start\n",
        "\n",
        "# Test set lookup\n",
        "start = time.time()\n",
        "result2 = find_in_set(large_list, target)\n",
        "set_time = time.time() - start\n",
        "\n",
        "print(f\"List lookup: {list_time:.4f} seconds\")\n",
        "print(f\"Set lookup: {set_time:.4f} seconds\")\n",
        "print(f\"Set is {list_time/set_time:.1f}x faster!\")"
      ]
    },
    {
      "cell_type": "markdown",
      "id": "performance-results",
      "metadata": {},
      "source": [
        "## 📊 Performance Results\n",
        "```plaintext\n",
        "List lookup: 0.0043 seconds\n",
        "Set lookup: 0.0001 seconds\n",
        "Set is 43.0x faster!\n",
        "```\n",
        "🚀 Small changes can make huge performance differences!"
      ]
    },
    {
      "cell_type": "markdown",
      "id": "performance-tips-conclusion",
      "metadata": {},
      "source": [
        "## 🎯 Performance Tips\n",
        "- 🏗️ Use appropriate data structures (set for lookups, dict for key-value pairs)\n",
        "- 🔄 Avoid nested loops when possible\n",
        "- 📊 Profile your code to identify bottlenecks\n",
        "- 💡 Remember: \"Premature optimization is the root of all evil\" — optimize when necessary!"
      ]
    }
  ],
  "metadata": {
    "kernelspec": {
      "display_name": "Python 3",
      "name": "python3"
    },
    "language_info": {
      "name": "python",
      "version": "3.x"
    }
  },
  "nbformat": 4,
  "nbformat_minor": 5
}