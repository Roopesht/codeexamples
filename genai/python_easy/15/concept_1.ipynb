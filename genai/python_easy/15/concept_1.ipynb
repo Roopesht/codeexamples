{
  "cells": [
    {
      "cell_type": "markdown",
      "metadata": {},
      "source": [
        "# Code Organization Best Practices\n",
        "\n",
        "In this notebook, we will learn about some best practices for organizing your Python code, especially when working on projects.\n",
        "\n",
        "Let's explore some key concepts!"
      ]
    },
    {
      "cell_type": "markdown",
      "metadata": {},
      "source": [
        "## Keep Sensitive Data Secure with .env Files\n",
        "\n",
        "When working with API keys, passwords, or other sensitive information, it's best to keep them in separate files called `.env` files. This helps prevent accidental sharing of secrets when sharing your code."
      ]
    },
    {
      "cell_type": "markdown",
      "metadata": {},
      "source": [
        "### Example of a .env file\n",
        "\n",
        "```plaintext\n",
        "# .env (Never commit this!)\n",
        "API_KEY=your_secret_api_key_here\n",
        "DATABASE_URL=your_database_connection_string\n",
        "```"
      ]
    },
    {
      "cell_type": "markdown",
      "metadata": {},
      "source": [
        "### Loading environment variables in Python\n",
        "\n",
        "To access these secrets securely in your code, use the `python-dotenv` package:\n",
        "\n",
        "```python\n",
        "import os\n",
        "from dotenv import load_dotenv\n",
        "\n",
        "load_dotenv()  # Load environment variables from .env file\n",
        "\n",
        "api_key = os.getenv('API_KEY')\n",
        "print(f\"API Key loaded: {api_key[:8]}...\")  # Show only first 8 characters\n",
        "```"
      ]
    },
    {
      "cell_type": "markdown",
      "metadata": {},
      "source": [
        "## Manage Dependencies with requirements.txt\n",
        "\n",
        "It's helpful to list all the external packages your project depends on in a `requirements.txt` file. This makes it easy to replicate environments and share your setup."
      ]
    },
    {
      "cell_type": "markdown",
      "metadata": {},
      "source": [
        "### Example requirements.txt\n",
        "\n",
        "```plaintext\n",
        "requests==2.31.0\n",
        "python-dotenv==1.0.0\n",
        "openai==1.3.0\n",
        "```"
      ]
    },
    {
      "cell_type": "markdown",
      "metadata": {},
      "source": [
        "## Code Organization Example\n",
        "\n",
        "Here's a simple example of how your project files might look:\n",
        "\n",
        "```python\n",
        "# .env file (never commit this!)\n",
        "API_KEY=your_secret_api_key_here\n",
        "DATABASE_URL=your_database_connection\n",
        "\n",
        "# main.py\n",
        "import os\n",
        "from dotenv import load_dotenv\n",
        "\n",
        "load_dotenv()  # Load environment variables\n",
        "\n",
        "api_key = os.getenv('API_KEY')\n",
        "print(f\"API Key loaded: {api_key[:8]}...\")\n",
        "\n",
        "# requirements.txt\n",
        "requests==2.31.0\n",
        "python-dotenv==1.0.0\n",
        "openai==1.3.0\n",
        "```"
      ]
    },
    {
      "cell_type": "markdown",
      "metadata": {},
      "source": [
        "## Why Does Proper Code Organization Matter?\n",
        "\n",
        "Professional developers organize code carefully to prevent security issues and to make collaboration easier. Proper organization helps ensure that sensitive data stays protected and that your project can easily be shared or deployed."
      ]
    },
    {
      "cell_type": "markdown",
      "metadata": {},
      "source": [
        "### Question for Reflection\n",
        "\n",
        "**Q:** What happens if you accidentally commit an API key to a public GitHub repository?\n",
        "\n",
        "*Answer:* Your API key could be exposed to the public, risking misuse and security breaches. Always keep secrets in `.env` files and never commit them to version control!"
      ]
    }
  ],
  "metadata": {
    "kernelspec": {
      "name": "python3",
      "display_name": "Python 3",
      "language": "python"
    },
    "language_info": {
      "name": "python",
      "version": "3.x"
    }
  },
  "nbformat": 4,
  "nbformat_minor": 5
}