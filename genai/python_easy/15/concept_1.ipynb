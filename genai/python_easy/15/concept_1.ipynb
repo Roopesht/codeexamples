{
  "cells": [
    {
      "cell_type": "markdown",
      "metadata": {},
      "source": [
        "# Code Organization Best Practices"
      ]
    },
    {
      "cell_type": "markdown",
      "metadata": {},
      "source": [
        "In this notebook, we'll learn some best practices for organizing your Python code to make it clean, reusable, and easy to manage."
      ]
    },
    {
      "cell_type": "markdown",
      "metadata": {},
      "source": [
        "## Why is Code Organization Important?\n",
        "Organized code helps you and others understand, maintain, and enhance your projects efficiently. It involves structuring your files and writing modular, clear code."
      ]
    },
    {
      "cell_type": "markdown",
      "metadata": {},
      "source": [
        "### Key Concepts of Code Organization:\n",
        "- Proper project structure with folders\n",
        "- Modular code using functions and classes\n",
        "- Clear naming conventions\n",
        "- Separation of concerns (different parts of code handle different responsibilities)"
      ]
    },
    {
      "cell_type": "markdown",
      "metadata": {},
      "source": [
        "## Example of a Typical Project Structure\n",
        "Here's how a well-organized Python project might look:"
      ]
    },
    {
      "cell_type": "markdown",
      "metadata": {},
      "source": [
        "```python\n",
        "# Project Structure\n",
        "my_genai_app/\n",
        "├── main.py\n",
        "├── utils/\n",
        "│   ├── __init__.py\n",
        "│   ├── file_handler.py\n",
        "│   └── text_processor.py\n",
        "├── tests/\n",
        "│   └── test_utils.py\n",
        "└── requirements.txt\n",
        "```"
      ]
    },
    {
      "cell_type": "code",
      "metadata": {},
      "source": [
        "# utils/text_processor.py\n",
        "class TextProcessor:\n",
        "    def __init__(self):\n",
        "        self.word_count = 0\n",
        "    \n",
        "    def clean_text(self, text):\n",
        "        \"\"\"Remove extra spaces and convert to lowercase\"\"\"\n",
        "        return ' '.join(text.lower().split())\n",
        "    \n",
        "    def count_words(self, text):\n",
        "        \"\"\"Count words in text\"\"\"\n",
        "        self.word_count = len(text.split())\n",
        "        return self.word_count\n",
        "\n",
        "# main.py\n",
        "from utils.text_processor import TextProcessor\n",
        "\n",
        "processor = TextProcessor()\n",
        "clean_text = processor.clean_text(\"  Hello   World!  \")\n",
        "print(f\"Clean text: {clean_text}\")\n",
        "print(f\"Word count: {processor.count_words(clean_text)}\")"
      ],
      "execution_count": null,
      "outputs": []
    },
    {
      "cell_type": "markdown",
      "metadata": {},
      "source": [
        "## Output of the above code:"
      ]
    },
    {
      "cell_type": "code",
      "metadata": {},
      "source": [
        "Clean text: hello world!\n",
        "Word count: 2"
      ],
      "outputs": [],
      "execution_count": null
    },
    {
      "cell_type": "markdown",
      "metadata": {},
      "source": [
        "## Summary and Tips\n",
        "- Use folders to organize related code.\n",
        "- Write reusable functions and classes.\n",
        "- Follow consistent naming conventions.\n",
        "- Think about how you organize your belongings: keep similar items together and neatly stored."
      ]
    }
  ],
  "metadata": {
    "kernelspec": {
      "name": "python3",
      "display_name": "Python 3",
      "language": "python"
    },
    "language_info": {
      "name": "python",
      "version": "3.x"
    }
  },
  "nbformat": 4,
  "nbformat_minor": 5
}