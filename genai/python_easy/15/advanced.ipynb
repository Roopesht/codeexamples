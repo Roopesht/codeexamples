{
 "cells": [
  {
   "cell_type": "markdown",
   "metadata": {},
   "source": [
    "# Working with JSON Data in Python"
   ]
  },
  {
   "cell_type": "markdown",
   "metadata": {},
   "source": [
    "In this notebook, we will learn how to work with JSON data in Python.\n",
    "\n",
    "### What is JSON?\n",
    "- JSON (JavaScript Object Notation) is a lightweight data format that is easy to read and write for humans.\n",
    "- It is commonly used to exchange data between web servers and clients.\n",
    "- JSON data can store objects (like dictionaries), arrays (like lists), and various value types.\n",
    "- JSON data structures can be nested inside each other."
   ]
  },
  {
   "cell_type": "markdown",
   "metadata": {},
   "source": [
    "### JSON Data Structures\n",
    "- **Objects:** {} (like Python dictionaries)\n",
    "- **Arrays:** [] (like Python lists)\n",
    "- **Values:** strings, numbers, booleans, null\n",
    "- **Nested:** objects and arrays can contain each other"
   ]
  },
  {
   "cell_type": "markdown",
   "metadata": {},
   "source": [
    "### Example: JSON Operations in Python"
   ]
  },
  {
   "cell_type": "code",
   "execution_count": 1,
   "metadata": {},
   "outputs": [],
   "source": [
    "import json\n",
    "import datetime\n",
    "\n",
    "# Sample conversation data\n",
    "conversation_data = {\n",
    "    \"contact\": {\n",
    "        \"name\": \"Alice Johnson\",\n",
    "        \"phone\": \"+1234567890\",\n",
    "        \"tags\": [\"friend\", \"colleague\"]\n",
    "    },\n",
    "    \"messages\": [\n",
    "        {\n",
    "            \"timestamp\": \"2024-01-15T10:30:00\",\n",
    "            \"sender\": \"Alice Johnson\",\n",
    "            \"content\": \"How was your weekend?\",\n",
    "            \"message_type\": \"incoming\"\n",
    "        },\n",
    "        {\n",
    "            \"timestamp\": \"2024-01-15T10:35:00\",\n",
    "            \"sender\": \"Me\",\n",
    "            \"content\": \"Great! Went hiking. How about yours?\",\n",
    "            \"message_type\": \"outgoing\"\n",
    "        }\n",
    "    ],\n",
    "    \"summary\": \"Casual conversation about weekend activities\"\n",
    "}\n",
    "\n",
    "# Save to JSON file\n",
    "def save_conversation(data, filename):\n",
    "    with open(filename, 'w', encoding='utf-8') as f:\n",
    "        json.dump(data, f, indent=2, ensure_ascii=False)\n",
    "\n",
    "# Load from JSON file\n",
    "def load_conversation(filename):\n",
    "    with open(filename, 'r', encoding='utf-8') as f:\n",
    "        return json.load(f)\n",
    "\n",
    "# Usage\n",
    "save_conversation(conversation_data, 'conversation.json')\n",
    "loaded_data = load_conversation('conversation.json')\n",
    "print(f\"Contact: {loaded_data['contact']['name']}\")\n",
    "print(f\"Messages: {len(loaded_data['messages'])}\")"
   ]
  },
  {
   "cell_type": "markdown",
   "metadata": {},
   "source": [
    "### How to Add a New Message to an Existing JSON Conversation\n",
    "\n",
    "To add a new message to the conversation, you can modify the loaded data and then save it back.\n",
    "\n",
    "Example:"
   ]
  },
  {
   "cell_type": "code",
   "execution_count": 2,
   "metadata": {},
   "outputs": [],
   "source": [
    "# Create a new message\n",
    "new_message = {\n",
    "    \"timestamp\": datetime.datetime.now().isoformat(),\n",
    "    \"sender\": \"Me\",\n",
    "    \"content\": \"Here's a new message!\",\n",
    "    \"message_type\": \"outgoing\"\n",
    "}\n",
    "\n",
    "# Append the new message to the messages list\n",
    "loaded_data['messages'].append(new_message)\n",
    "\n",
    "# Save the updated conversation back to the file\n",
    "save_conversation(loaded_data, 'conversation_updated.json')\n",
    "print('New message added and conversation saved.')"
   ]
  }
 ],
 "metadata": {
  "kernelspec": {
   "display_name": "Python 3",
   "language": "python",
   "name": "python3"
  },
  "language_info": {
   "name": "python",
   "version": "3.10"
  }
 },
 "nbformat": 4,
 "nbformat_minor": 5
}
