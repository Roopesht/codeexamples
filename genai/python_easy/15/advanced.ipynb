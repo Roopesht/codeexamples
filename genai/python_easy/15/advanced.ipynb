{
  "cells": [
    {
      "cell_type": "markdown",
      "metadata": {},
      "source": [
        "# Advanced Python: Code Profiling and Optimization"
      ]
    },
    {
      "cell_type": "markdown",
      "metadata": {},
      "source": [
        "## 🔍 Code Profiling"
      ]
    },
    {
      "cell_type": "markdown",
      "metadata": {},
      "source": [
        "- 📊 Measure exactly where time is spent",
        "- 🎯 Find performance bottlenecks",
        "- 📈 Python's cProfile module",
        "- ⚡ Advanced Python features for speed"
      ]
    },
    {
      "cell_type": "markdown",
      "metadata": {},
      "source": [
        "## 🔍 Code Profiling Example"
      ]
    },
    {
      "cell_type": "markdown",
      "metadata": {},
      "source": [
        "Let's look at an example of how to profile a simple Python function using the `cProfile` module."
      ]
    },
    {
      "cell_type": "code",
      "execution_count": null,
      "metadata": {},
      "outputs": [],
      "source": [
        "import cProfile\n",
        "import io\n",
        "import pstats\n",
        "\n",
        "def slow_function():\n",
        "    \"\"\"Intentionally slow function\"\"\"\n",
        "    total = 0\n",
        "    for i in range(100000):\n",
        "        total += i * i\n",
        "    return total\n",
        "\n",
        "def profile_code():\n",
        "    \"\"\"Profile the slow function\"\"\"\n",
        "    pr = cProfile.Profile()\n",
        "    pr.enable()\n",
        "    \n",
        "    result = slow_function()\n",
        "    \n",
        "    pr.disable()\n",
        "    \n",
        "    # Create a stats object\n",
        "    s = io.StringIO()\n",
        "    ps = pstats.Stats(pr, stream=s).sort_stats('cumulative')\n",
        "    ps.print_stats()\n",
        "    \n",
        "    return s.getvalue()\n",
        "\n",
        "# Run profiling\n",
        "profile_output = profile_code()\n",
        "print(profile_output)"
      ]
    },
    {
      "cell_type": "markdown",
      "metadata": {},
      "source": [
        "You can run this code to see where your program spends most of its time, helping you identify parts that could be optimized."
      ]
    },
    {
      "cell_type": "markdown",
      "metadata": {},
      "source": [
        "## ⚡ Advanced Python Features"
      ]
    },
    {
      "cell_type": "markdown",
      "metadata": {},
      "source": [
        "- 🔧 List comprehensions vs loops for concise code",
        "- 🎯 Generator expressions for memory efficiency",
        "- 📦 Using built-in functions like `map()`, `filter()`, and `reduce()`",
        "- 🚀 Leveraging libraries like NumPy for numerical operations"
      ]
    }
  ],
  "metadata": {
    "kernelspec": {
      "display_name": "Python 3",
      "language": "python",
      "name": "python3"
    },
    "language_info": {
      "name": "python",
      "version": "3.x"
    }
  },
  "nbformat": 4,
  "nbformat_minor": 5
}