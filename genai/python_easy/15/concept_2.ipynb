{
  "cells": [
    {
      "cell_type": "markdown",
      "metadata": {},
      "source": [
        "# Concept 2: Testing Your Code - Basic Unit Testing"
      ]
    },
    {
      "cell_type": "markdown",
      "metadata": {},
      "source": [
        "## 🧪 Unit Testing Basics"
      ]
    },
    {
      "cell_type": "markdown",
      "metadata": {},
      "source": [
        "- ✅ Test individual functions/methods",
        "- 🔍 Catch bugs early in development",
        "- 🛡️ Ensure code works as expected",
        "- 📦 Python's built-in unittest module"
      ]
    },
    {
      "cell_type": "markdown",
      "metadata": {},
      "source": [
        "## Diagram of Unit Testing Process"
      ]
    },
    {
      "cell_type": "markdown",
      "metadata": {},
      "source": [
        "![Diagram showing code function being tested with input, expected output, and actual output comparison. Size 800x600](images/unit_testing.png)"
      ]
    },
    {
      "cell_type": "markdown",
      "metadata": {},
      "source": [
        "## 🧪 Writing Unit Tests"
      ]
    },
    {
      "cell_type": "code",
      "execution_count": null,
      "metadata": {},
      "outputs": [],
      "source": [
        "import unittest\n",
        "from utils.text_processor import TextProcessor"
      ]
    },
    {
      "cell_type": "code",
      "execution_count": null,
      "metadata": {},
      "outputs": [],
      "source": [
        "class TestTextProcessor(unittest.TestCase):\n",
        "    def setUp(self):\n",
        "        self.processor = TextProcessor()\n",
        "    \n",
        "    def test_clean_text(self):\n",
        "        \"\"\"Test text cleaning functionality\"\"\"\n",
        "        input_text = \"  Hello   World!  \"\n",
        "        expected = \"hello world!\"\n",
        "        result = self.processor.clean_text(input_text)\n",
        "        self.assertEqual(result, expected)\n",
        "    \n",
        "    def test_count_words(self):\n",
        "        \"\"\"Test word counting functionality\"\"\"\n",
        "        text = \"hello world\"\n",
        "        expected_count = 2\n",
        "        result = self.processor.count_words(text)\n",
        "        self.assertEqual(result, expected_count)\n",
        "\n",
        "if __name__ == '__main__':\n",
        "    unittest.main()"
      ]
    },
    {
      "cell_type": "markdown",
      "metadata": {},
      "source": [
        "## 🧪 Test Results"
      ]
    },
    {
      "cell_type": "markdown",
      "metadata": {},
      "source": [
        "```",
        "..\n",
        "----------------------------------------------------------------------\n",
        "Ran 2 tests in 0.001s\n",
        "\n",
        "OK",
        "```"
      ]
    },
    {
      "cell_type": "markdown",
      "metadata": {},
      "source": [
        "✅ All tests passed! Your code is working correctly."
      ]
    },
    {
      "cell_type": "markdown",
      "metadata": {},
      "source": [
        "## 🎯 Testing Best Practices"
      ]
    },
    {
      "cell_type": "markdown",
      "metadata": {},
      "source": [
        "- 🧪 Write tests for critical functions",
        "- 🔍 Test both normal and edge cases",
        "- 📝 Use descriptive test names",
        "- 💭 Ask yourself: \"Would you buy a car that wasn't tested?\""
      ]
    }
  ],
  "metadata": {
    "kernelspec": {
      "display_name": "Python 3",
      "language": "python",
      "name": "python3"
    },
    "language_info": {
      "name": "python",
      "version": "3.x"
    }
  },
  "nbformat": 4,
  "nbformat_minor": 5
}