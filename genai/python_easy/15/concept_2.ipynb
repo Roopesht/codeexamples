{
  "cells": [
    {
      "cell_type": "markdown",
      "metadata": {},
      "source": [
        "# Introduction to Unit Testing in Python"
      ]
    },
    {
      "cell_type": "markdown",
      "metadata": {},
      "source": [
        "## What is Unit Testing?\n",
        "\n",
        "Unit testing is a way to check that individual parts of your code (functions, methods) work correctly. It helps catch bugs early and makes sure your code behaves as expected.\n",
        "\n",
        "### Why is it important?\n",
        "- Verify your code works as expected\n",
        "- Catch bugs before they reach users\n",
        "- Ensure changes don't break existing functionality\n",
        "- Document how functions should behave"
      ]
    },
    {
      "cell_type": "markdown",
      "metadata": {},
      "source": [
        "## Python's unittest Framework\n",
        "\n",
        "- Built into Python, so no extra installation needed\n",
        "- You create test classes that inherit from `unittest.TestCase`\n",
        "- Test methods start with `test_`\n",
        "- Use assertions to check expected outcomes"
      ]
    },
    {
      "cell_type": "markdown",
      "metadata": {},
      "source": [
        "## Test Structure\n",
        "\n",
        "A typical unit test follows three steps:\n",
        "1. **Arrange:** Set up test data\n",
        "2. **Act:** Call the function being tested\n",
        "3. **Assert:** Check the result matches expectations\n",
        "\n",
        "![Testing pyramid showing unit tests at base, integration tests in middle, and UI tests at top, size 600x400](images/testing_pyramid.png)"
      ]
    },
    {
      "cell_type": "markdown",
      "metadata": {},
      "source": [
        "## Example: Writing a Simple Unit Test\n",
        "\n",
        "Let's look at an example of testing a function that calculates a discounted price."
      ]
    },
    {
      "cell_type": "code",
      "execution_count": null,
      "metadata": {},
      "outputs": [],
      "source": [
        "import unittest\n",
        "\n",
        "def calculate_discount(price, discount_percent):\n",
        "    \"\"\"Calculate discounted price\"\"\"\n",
        "    if discount_percent < 0 or discount_percent > 100:\n",
        "        raise ValueError(\"Discount must be between 0 and 100\")\n",
        "    return price * (1 - discount_percent / 100)"
      ]
    },
    {
      "cell_type": "code",
      "execution_count": null,
      "metadata": {},
      "outputs": [],
      "source": [
        "class TestDiscountCalculator(unittest.TestCase):\n",
        "    \n",
        "    def test_normal_discount(self):\n",
        "        result = calculate_discount(100, 20)\n",
        "        self.assertEqual(result, 80.0)\n",
        "    \n",
        "    def test_no_discount(self):\n",
        "        result = calculate_discount(100, 0)\n",
        "        self.assertEqual(result, 100.0)\n",
        "    \n",
        "    def test_invalid_discount(self):\n",
        "        with self.assertRaises(ValueError):\n",
        "            calculate_discount(100, 150)\n",
        "\n",
        "if __name__ == '__main__':\n",
        "    unittest.main(argv=['first-arg-is-ignored'], exit=False)"
      ]
    },
    {
      "cell_type": "markdown",
      "metadata": {},
      "source": [
        "## Benefits of Unit Testing\n",
        "\n",
        "- Gives confidence to refactor and add new features\n",
        "- Acts as a safety net during development\n",
        "\n",
        "### Question:\n",
        "How would you test a function that generates random numbers?"
      ]
    }
  ],
  "metadata": {
    "kernelspec": {
      "display_name": "Python 3",
      "language": "python",
      "name": "python3"
    },
    "language_info": {
      "name": "python",
      "version": "3.x"
    }
  },
  "nbformat": 4,
  "nbformat_minor": 5
}