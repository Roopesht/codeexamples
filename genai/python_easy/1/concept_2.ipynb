{
 "cells": [
  {
   "cell_type": "markdown",
   "metadata": {},
   "source": [
    "# Temperature Checker Example\n",
    "\n",
    "This simple Python program checks the current temperature and prints a suggestion:\n",
    "\n",
    "- If the temperature is **greater than 35°C**, it prints *\"It's too hot! Stay indoors.\"*\n",
    "- If the temperature is **greater than 25°C but up to 35°C**, it prints *\"Perfect weather for a walk!\"*\n",
    "- If the temperature is **25°C or lower**, it prints *\"Might need a jacket today.\"*"
   ]
  },
  {
   "cell_type": "code",
   "execution_count": null,
   "metadata": {},
   "outputs": [],
   "source": [
    "temperature = 30\n",
    "\n",
    "if temperature > 35:\n",
    "    print(\"It's too hot! Stay indoors.\")\n",
    "elif temperature > 25:\n",
    "    print(\"Perfect weather for a walk!\")\n",
    "else:\n",
    "    print(\"Might need a jacket today.\")"
   ]
  }
 ],
 "metadata": {
  "kernelspec": {
   "display_name": "Python 3",
   "language": "python",
   "name": "python3"
  },
  "language_info": {
   "name": "python",
   "version": "3.x"
  }
 },
 "nbformat": 4,
 "nbformat_minor": 5
}
