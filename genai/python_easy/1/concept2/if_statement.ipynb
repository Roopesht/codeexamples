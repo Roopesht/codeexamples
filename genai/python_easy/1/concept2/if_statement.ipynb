{
 "cells": [
  {
   "cell_type": "markdown",
   "metadata": {},
   "source": [
    "# Age Checker Example\n",
    "\n",
    "This simple Python program checks a person's age and prints a message:\n",
    "\n",
    "- If the age is **18 or older**, it prints *\"You can vote!\"*\n",
    "- If the age is **16 or 17**, it prints *\"You can drive!\"*\n",
    "- If the age is **less than 16**, it prints *\"Enjoy being young!\"*"
   ]
  },
  {
   "cell_type": "code",
   "execution_count": null,
   "metadata": {},
   "outputs": [],
   "source": [
    "age = 25\n",
    "\n",
    "if age >= 18:\n",
    "    print(\"You can vote!\")\n",
    "elif age >= 16:\n",
    "    print(\"You can drive!\")\n",
    "else:\n",
    "    print(\"Enjoy being young!\")"
   ]
  }
 ],
 "metadata": {
  "kernelspec": {
   "display_name": "Python 3",
   "language": "python",
   "name": "python3"
  },
  "language_info": {
   "name": "python",
   "version": "3.x"
  }
 },
 "nbformat": 4,
 "nbformat_minor": 5
}
