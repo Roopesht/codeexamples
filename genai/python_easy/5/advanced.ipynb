{
  "cells": [
    {
      "cell_type": "markdown",
      "metadata": {},
      "source": [
        "# 🚀 Advanced: List Comprehensions"
      ]
    },
    {
      "cell_type": "markdown",
      "metadata": {},
      "source": [
        "⚡ List Comprehensions: Python's Superpower\n",
        "\n",
        "- 🎨 Create lists in one elegant line\n",
        "- 🚀 Faster than traditional loops\n",
        "- 🧠 Pythonic way to transform data\n",
        "- 🤖 Essential for AI data preprocessing"
      ]
    },
    {
      "cell_type": "markdown",
      "metadata": {},
      "source": [
        "![Visual breakdown of list comprehension syntax](~!@images/list_comprehension_syntax.png)"
      ]
    },
    {
      "cell_type": "markdown",
      "metadata": {},
      "source": [
        "### Elegant One-Liners"
      ]
    },
    {
      "cell_type": "code",
      "execution_count": null,
      "metadata": {},
      "outputs": [],
      "source": [
        "# Traditional way vs List comprehension\n",
        "\n",
        "# Traditional: Square all numbers\n",
        "numbers = [1, 2, 3, 4, 5]\n",
        "squares_traditional = []\n",
        "for num in numbers:\n",
        "    squares_traditional.append(num ** 2)\n",
        "\n",
        "# List comprehension: Same result, one line!\n",
        "squares_modern = [num ** 2 for num in numbers]\n",
        "\n",
        "print('Traditional:', squares_traditional)\n",
        "print('Modern:', squares_modern)\n",
        "\n",
        "# Real AI example: Data cleaning\n",
        "raw_data = ['  PYTHON  ', '  ai ', 'MACHINE learning  ']\n",
        "\n",
        "# Clean and standardize in one line\n",
        "clean_data = [text.strip().lower() for text in raw_data]\n",
        "print('Cleaned data:', clean_data)\n",
        "\n",
        "# With conditions: Filter even squares\n",
        "even_squares = [num ** 2 for num in range(10) if num % 2 == 0]\n",
        "print('Even squares:', even_squares)"
      ]
    },
    {
      "cell_type": "markdown",
      "metadata": {},
      "source": [
        "### Output Results"
      ]
    },
    {
      "cell_type": "code",
      "execution_count": null,
      "metadata": {},
      "outputs": [],
      "source": [
        "# The output will be displayed below when executed"
      ]
    },
    {
      "cell_type": "markdown",
      "metadata": {},
      "source": [
        "### 🎯 Key Takeaway"
      ]
    },
    {
      "cell_type": "markdown",
      "metadata": {},
      "source": [
        "🎯 **List comprehensions: Where elegance meets efficiency!**\n",
        "\n",
        "💡 *Write code like poetry - beautiful and meaningful!*"
      ]
    }
  ],
  "metadata": {
    "kernelspec": {
      "display_name": "Python 3",
      "language": "python",
      "name": "python3"
    },
    "language_info": {
      "name": "python",
      "version": "3.8"
    }
  }
}