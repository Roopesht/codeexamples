{
  "cells": [
    {
      "cell_type": "markdown",
      "metadata": {},
      "source": [
        "# Concept 1: Creating Lists and Basic Operations\n",
        "\n",
        "📦 Lists are ordered collections that can hold multiple items.\n",
        "\n",
        "In Python, lists are a versatile and commonly used data structure to store collections of items, such as numbers, strings, or even other lists.\n",
        "\n",
        "Let's see how to create lists and perform some basic operations."
      ]
    },
    {
      "cell_type": "code",
      "execution_count": null,
      "metadata": {},
      "source": [
        "# Creating lists of fruits and numbers\n",
        "fruits = ['apple', 'banana', 'orange']\n",
        "numbers = [1, 2, 3, 4, 5]\n"
      ]
    },
    {
      "cell_type": "markdown",
      "metadata": {},
      "source": [
        "## List Contents\n",
        "\n",
        "Let's display the contents of these lists."
      ]
    },
    {
      "cell_type": "code",
      "execution_count": null,
      "metadata": {},
      "source": [
        "print('Fruits:', fruits)\n",
        "print('Numbers:', numbers)"
      ]
    },
    {
      "cell_type": "markdown",
      "metadata": {},
      "source": [
        "## Basic List Operations\n",
        "\n",
        "You can perform various operations with lists, such as adding, removing, or accessing items."
      ]
    },
    {
      "cell_type": "code",
      "execution_count": null,
      "metadata": {},
      "source": [
        "# Adding an item to the 'fruits' list\n",
        "fruits.append('grape')\n",
        "print('After appending grape:', fruits)"
      ]
    },
    {
      "cell_type": "code",
      "execution_count": null,
      "metadata": {},
      "source": [
        "# Accessing elements by index\n",
        "first_fruit = fruits[0]\n",
        "print('First fruit:', first_fruit)"
      ]
    },
    {
      "cell_type": "code",
      "execution_count": null,
      "metadata": {},
      "source": [
        "# Modifying an element\n",
        "numbers[0] = 10\n",
        "print('Modified numbers:', numbers)"
      ]
    },
    {
      "cell_type": "code",
      "execution_count": null,
      "metadata": {},
      "source": [
        "# Removing an item\n",
        "fruits.remove('banana')\n",
        "print('After removing banana:', fruits)"
      ]
    }
  ],
  "metadata": {
    "kernelspec": {
      "display_name": "Python 3",
      "language": "python",
      "name": "python3"
    },
    "language_info": {
      "name": "python",
      "version": "3.x"
    }
  },
  "nbformat": 4,
  "nbformat_minor": 5
}