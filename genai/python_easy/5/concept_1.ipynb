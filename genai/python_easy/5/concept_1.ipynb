{
  "cells": [
    {
      "cell_type": "markdown",
      "metadata": {},
      "source": [
        "# Concept 1: Creating Lists and Basic Operations\n",
        "\n",
        "📦 **Ordered collections that can hold multiple items**\n",
        "\n",
        "In Python, lists are used to store multiple items in a single variable. They are ordered, mutable, and can contain items of different types.\n",
        "\n",
        "Let's look at some examples."
      ]
    },
    {
      "cell_type": "code",
      "execution_count": 1,
      "metadata": {},
      "outputs": [
        {
          "name": "stdout",
          "output_type": "stream",
          "text": [
            "List of fruits: ['apple', 'banana', 'orange']\n",
            "List of numbers: [1, 2, 3, 4, 5]\n"
          ]
        }
      ],
      "source": [
        "# Creating a list of fruits\n",
        "fruits = ['apple', 'banana', 'orange']\n",
        "print('List of fruits:', fruits)\n",
        "\n",
        "# Creating a list of numbers\n",
        "numbers = [1, 2, 3, 4, 5]\n",
        "print('List of numbers:', numbers)"
      ]
    },
    {
      "cell_type": "markdown",
      "metadata": {},
      "source": [
        "You can create lists containing different types of data, and manipulate them using various list methods."
      ]
    }
  ],
  "metadata": {
    "kernelspec": {
      "display_name": "Python 3",
      "language": "python",
      "name": "python3"
    },
    "language_info": {
      "name": "python",
      "version": "3.x"
    }
  },
  "nbformat": 4,
  "nbformat_minor": 5
}