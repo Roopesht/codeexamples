{
  "cells": [
    {
      "cell_type": "markdown",
      "metadata": {},
      "source": [
        "# Concept 1: Creating Lists and Basic Operations"
      ]
    },
    {
      "cell_type": "markdown",
      "metadata": {},
      "source": [
        "📦 **Ordered collections that can hold multiple items**\n",
        "Lists are one of the most versatile data structures in Python. They allow you to store a sequence of elements, which can be of different types. You can create lists, access their items, modify them, and perform various operations."
      ]
    },
    {
      "cell_type": "code",
      "metadata": {},
      "source": [
        "# Creating a list of fruits\n",
        "fruits = ['apple', 'banana', 'orange']\n",
        "\n",
        "# Creating a list of numbers\n",
        "numbers = [1, 2, 3, 4, 5]\n",
        "\n",
        "# Display the lists\n",
        "fruits, numbers"
      ],
      "outputs": [
        {
          "name": "stdout",
          "output_type": "stream",
          "text": [
            "(['apple', 'banana', 'orange'], [1, 2, 3, 4, 5])\n"
          ]
        }
      ]
    }
  ],
  "metadata": {
    "kernelspec": {
      "name": "python3",
      "display_name": "Python 3"
    },
    "language_info": {
      "name": "python",
      "version": "3.x"
    }
  },
  "nbformat": 4,
  "nbformat_minor": 5
}