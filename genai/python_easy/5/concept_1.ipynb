{
  "cells": [
    {
      "cell_type": "markdown",
      "metadata": {},
      "source": [
        "# 💪 Hands-on Task: Student Grade Manager\n",
        "\n",
        "🎯 Build a Student Grade Manager\n",
        "\n",
        "Create a comprehensive system to manage student data, calculate statistics, and identify top performers!\n",
        "\n",
        "_\"Real-world data management starts here!\"_"
      ]
    },
    {
      "cell_type": "markdown",
      "metadata": {},
      "source": [
        "## 📋 Task Requirements\n",
        "\n",
        "- 📝 Store student names and their grades\n",
        "- 📊 Calculate class average and statistics\n",
        "- 🏆 Find top performers and struggling students\n",
        "- 🔍 Search and filter students by criteria\n",
        "- 📈 Generate a grade report"
      ]
    },
    {
      "cell_type": "markdown",
      "metadata": {},
      "source": [
        "## 🛠️ Implementation Steps\n",
        "\n",
        "1. **Create:** Dictionary with student names as keys, grades as values\n",
        "2. **Add:** Function to add new students and grades\n",
        "3. **Calculate:** Class average, highest/lowest grades\n",
        "4. **Filter:** Students by grade range (A, B, C, D, F)\n",
        "5. **Report:** Generate formatted grade report"
      ]
    },
    {
      "cell_type": "markdown",
      "metadata": {},
      "source": [
        "## 📊 Example Input/Output\n",
        "\n",
        "```plaintext\n",
        "Input Students: Alice: 95, Bob: 87, Charlie: 92, Diana: 78, Eve: 94\n",
        "Expected Output: \n",
        "- Class Average: 89.2\n",
        "- Top Performer: Alice (95)\n",
        "- Students needing help: Diana (78)\n",
        "- Grade A students: Alice, Charlie, Eve\n",
        "- Grade B students: Bob, Diana\n",
        "```"
      ]
    },
    {
      "cell_type": "markdown",
      "metadata": {},
      "source": [
        "## 💻 Code Structure\n",
        "\n",
        "```python\n",
        "def create_grade_manager():\n",
        "    \"\"\"Create and return a new students dictionary.\"\"\"\n",
        "    students = {}\n",
        "    return students\n",
        "\n",
        "def add_student(students, name, grade):\n",
        "    \"\"\"Add a new student and their grade to the dictionary.\"\"\"\n",
        "    students[name] = grade\n",
        "\n",
        "def calculate_average(students):\n",
        "    \"\"\"Calculate and return the average grade.\"\"\"\n",
        "    if not students:\n",
        "        return 0\n",
        "    total = sum(students.values())\n",
        "    count = len(students)\n",
        "    return total / count\n",
        "\n",
        "def find_top_performer(students):\n",
        "    \"\"\"Find the student with the highest grade.\"\"\"\n",
        "    if not students:\n",
        "        return None, None\n",
        "    top_student = max(students, key=students.get)\n",
        "    return top_student, students[top_student]\n",
        "\n",
        "def generate_report(students):\n",
        "    \"\"\"Generate a formatted grade report.\"\"\"\n",
        "    report_lines = []\n",
        "    avg = calculate_average(students)\n",
        "    report_lines.append(f\"Class Average: {avg:.1f}\")\n",
        "    top_student, top_grade = find_top_performer(students)\n",
        "    report_lines.append(f\"Top Performer: {top_student} ({top_grade})\")\n",
        "    # Students needing help (assuming below 70)\n",
        "    struggling = [name for name, grade in students.items() if grade < 70]\n",
        "    if struggling:\n",
        "        struggling_list = \", \".join(struggling)\n",
        "        report_lines.append(f\"Students needing help: {struggling_list}\")\n",
        "    # Grade categories\n",
        "    grade_categories = {\n",
        "        'A': [], 'B': [], 'C': [], 'D': [], 'F': []\n",
        "    }\n",
        "    for name, grade in students.items():\n",
        "        if grade >= 90:\n",
        "            grade_categories['A'].append(name)\n",
        "        elif grade >= 80:\n",
        "            grade_categories['B'].append(name)\n",
        "        elif grade >= 70:\n",
        "            grade_categories['C'].append(name)\n",
        "        elif grade >= 60:\n",
        "            grade_categories['D'].append(name)\n",
        "        else:\n",
        "            grade_categories['F'].append(name)\n",
        "    for category, names in grade_categories.items():\n",
        "        if names:\n",
        "            students_list = \", \".join(names)\n",
        "            report_lines.append(f\"Grade {category} students: {students_list}\")\n",
        "    return \"\\n\".join(report_lines)\n",
        "```\n",
        "\n",
        "🚀 [Open Task Template](https://colab.research.google.com/github/Roopesht/codeexamples/blob/main/genai/python_easy/session_6/task_template.ipynb)"
      ]
    },
    {
      "cell_type": "markdown",
      "metadata": {},
      "source": [
        "## 🎯 Task Conclusion\n",
        "\n",
        "This task demonstrates how dictionaries power real-world data management systems!\n",
        "\n",
        "- ✅ Efficient data storage and retrieval\n",
        "- ✅ Statistical analysis capabilities\n",
        "- ✅ Foundation for database-like operations\n",
        "- ✅ Preparation for AI data preprocessing"
      ]
    }
  ],
  "metadata": {
    "kernelspec": {
      "display_name": "Python 3",
      "language": "python",
      "name": "python3"
    },
    "language_info": {
      "name": "python",
      "version": "3.x"
    }
  },
  "nbformat": 4,
  "nbformat_minor": 5
}