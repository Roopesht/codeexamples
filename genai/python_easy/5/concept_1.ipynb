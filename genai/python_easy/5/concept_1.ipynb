{
  "cells": [
    {
      "cell_type": "markdown",
      "metadata": {},
      "source": [
        "# Concept 1: Dictionary Basics - Creation & Key-Value Pairs\n"
      ]
    },
    {
      "cell_type": "markdown",
      "metadata": {},
      "source": [
        "## 🔑 What are Dictionaries?\n",
        "- 📋 Collections of key-value pairs\n",
        "- 🎯 Keys are unique identifiers\n",
        "- 📦 Values can be any data type\n",
        "- ⚡ Fast lookup and retrieval\n",
        "\n",
        "*\"Think of dictionaries as real-world dictionaries - words (keys) map to definitions (values)!\"*"
      ]
    },
    {
      "cell_type": "markdown",
      "metadata": {},
      "source": [
        "## ![Visual representation of dictionary](images/dictionary_concept.png)\n",
        "_Visual depiction of dictionary with keys pointing to values, showcasing student names mapping to grades._"
      ]
    },
    {
      "cell_type": "markdown",
      "metadata": {},
      "source": [
        "## Creating Dictionaries"
      ]
    },
    {
      "cell_type": "code",
      "metadata": {},
      "source": [
        "# Empty dictionary\n",
        "student_grades = {}\n",
        "\n",
        "# Dictionary with initial data\n",
        "student_info = {\n",
        "    \"name\": \"Alice\",\n",
        "    \"age\": 20,\n",
        "    \"grade\": 95,\n",
        "    \"subjects\": [\"Math\", \"Physics\", \"Chemistry\"]\n",
        "}\n",
        "\n",
        "# Using dict() constructor\n",
        "course_info = dict(title=\"Python for AI\", duration=90, difficulty=\"Beginner\")\n",
        "\n",
        "print(student_info)\n",
        "print(course_info)"
      ],
      "execution_count": null,
      "outputs": []
    },
    {
      "cell_type": "markdown",
      "metadata": {},
      "source": [
        "## Output"
      ]
    },
    {
      "cell_type": "code",
      "metadata": {},
      "source": [
        "# Output of the previous code\n",
        "print(student_info)\n",
        "print(course_info)"
      ],
      "execution_count": null,
      "outputs": []
    },
    {
      "cell_type": "markdown",
      "metadata": {},
      "source": [
        "## 🎯 Key Points\n",
        "- ✅ Dictionaries store related data together\n",
        "- ✅ Keys must be unique and immutable\n",
        "- ✅ Values can be any data type\n",
        "- ✅ Perfect for structured data\n",
        "\n",
        "### 💭 Think about it: What real-world data would you store in a dictionary?"
      ]
    }
  ],
  "metadata": {
    "kernelspec": {
      "display_name": "Python 3",
      "language": "python",
      "name": "python3"
    },
    "language_info": {
      "name": "python",
      "version": "3.x",
      "mimetype": "text/x-python",
      "codemirror_mode": {
        "name": "python",
        "version": 3
      },
      "pygments_lexer": "ipython3",
      "nbconvert_exporter": "python",
      "file_extension": ".py"
    }
  },
  "nbformat": 4,
  "nbformat_minor": 5
}