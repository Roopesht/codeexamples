{
  "cells": [
    {
      "cell_type": "markdown",
      "metadata": {},
      "source": [
        "# Concept 1: Dictionary Basics - Creation & Key-Value Pairs"
      ]
    },
    {
      "cell_type": "markdown",
      "metadata": {},
      "source": [
        "<section class=\"outer-slide\">\n",
        "  <p style=\"text-align: left;\">Concept 1: Dictionary Basics - Creation & Key-Value Pairs</p>\n",
        "  \n",
        "  <section data-note-key=\"dict-basics\">\n",
        "    <h3>🔑 What are Dictionaries?</h3>\n",
        "    <ul>\n",
        "      <li>📋 Collections of key-value pairs</li>\n",
        "      <li>🎯 Keys are unique identifiers</li>\n",
        "      <li>📦 Values can be any data type</li>\n",
        "      <li>⚡ Fast lookup and retrieval</li>\n",
        "    </ul>\n",
        "    <p><em>\"Think of dictionaries as real-world dictionaries - words (keys) map to definitions (values)!\"</em></p>\n",
        "  </section>\n",
        "  \n",
        "  <section data-note-key=\"dict-visual\">\n",
        "    <img src=\"images/dictionary_concept.png\" alt=\"Visual representation of dictionary with keys pointing to values, showing student names mapping to grades. Size 800x600\">\n",
        "  </section>\n",
        "  \n",
        "  <section data-note-key=\"dict-creation\">\n",
        "    <h3>Creating Dictionaries</h3>\n",
        "    <pre><code class=\"language-python\"># Empty dictionary\nstudent_grades = {}\n\n# Dictionary with initial data\nstudent_info = {\n    \"name\": \"Alice\",\n    \"age\": 20,\n    \"grade\": 95,\n    \"subjects\": [\"Math\", \"Physics\", \"Chemistry\"]\n}\n\n# Using dict() constructor\ncourse_info = dict(title=\"Python for AI\", duration=90, difficulty=\"Beginner\")\n\nprint(student_info)\nprint(course_info)</code></pre>\n",
        "    <a href=\"https://colab.research.google.com/github/Roopesht/codeexamples/blob/main/genai/python_easy/session_6/concept_1.ipynb\" target=\"_blank\" class=\"colab-button\">🚀 Open in Colab</a>\n",
        "  </section>\n",
        "  \n",
        "  <section data-note-key=\"dict-output\">\n",
        "    <h3>Output</h3>\n",
        "    <pre><code class=\"language-text\">{'name': 'Alice', 'age': 20, 'grade': 95, 'subjects': ['Math', 'Physics', 'Chemistry']}\n{'title': 'Python for AI', 'duration': 90, 'difficulty': 'Beginner'}\n</code></pre>\n",
        "  </section>\n",
        "  \n",
        "  <section data-note-key=\"dict-conclusion\">\n",
        "    <h3>🎯 Key Points</h3>\n",
        "    <ul>\n",
        "      <li>✅ Dictionaries store related data together</li>\n",
        "      <li>✅ Keys must be unique and immutable</li>\n",
        "      <li>✅ Values can be any data type</li>\n",
        "      <li>✅ Perfect for structured data</li>\n",
        "    </ul>\n",
        "    <p><strong>💭 Think about it:</strong> What real-world data would you store in a dictionary?</p>\n",
        "  </section>\n",
        "</section>"
      ]
    }
  ],
  "metadata": {
    "kernelspec": {
      "display_name": "Python 3",
      "language": "python",
      "name": "python3"
    },
    "language_info": {
      "name": "python",
      "version": "3.8"
    }
  },
  "nbformat": 4,
  "nbformat_minor": 5
}