{
  "cells": [
    {
      "cell_type": "markdown",
      "metadata": {},
      "source": [
        "# Student Grade Manager\n",
        "\n",
        "💪 Hands-on Task: Student Grade Manager\n",
        "\n",
        "🎯 Build a Student Grade Manager\n",
        "Create a comprehensive system to manage student data, calculate statistics, and identify top performers!\n",
        "\n",
        "_\"Real-world data management starts here!\"_\n"
      ]
    },
    {
      "cell_type": "markdown",
      "metadata": {},
      "source": [
        "## 📋 Task Requirements\n",
        "\n",
        "- 📝 Store student names and their grades\n",
        "- 📊 Calculate class average and statistics\n",
        "- 🏆 Find top performers and struggling students\n",
        "- 🔍 Search and filter students by criteria\n",
        "- 📈 Generate a grade report"
      ]
    },
    {
      "cell_type": "markdown",
      "metadata": {},
      "source": [
        "## 🛠️ Implementation Steps\n",
        "\n",
        "1. **Create:** Dictionary with student names as keys, grades as values\n",
        "2. **Add:** Function to add new students and grades\n",
        "3. **Calculate:** Class average, highest/lowest grades\n",
        "4. **Filter:** Students by grade range (A, B, C, D, F)\n",
        "5. **Report:** Generate formatted grade report"
      ]
    },
    {
      "cell_type": "markdown",
      "metadata": {},
      "source": [
        "## 📊 Example Input/Output\n",
        "\n",
        "plaintext\n",
        "Input Students: Alice: 95, Bob: 87, Charlie: 92, Diana: 78, Eve: 94\n",
        "Expected Output:\n",
        "  - Class Average: 89.2\n",
        "  - Top Performer: Alice (95)\n",
        "  - Students needing help: Diana (78)\n",
        "  - Grade A students: Alice, Charlie, Eve\n",
        "  - Grade B students: Bob, Diana\n",
        ""
      ]
    },
    {
      "cell_type": "markdown",
      "metadata": {},
      "source": [
        "## 💻 Code Structure\n",
        "\n",
        "python\n",
        "def create_grade_manager():\n",
        "    # Your implementation here\n",
        "    students = {}\n",
        "    return students\n",
        "\n",
        "def add_student(students, name, grade):\n",
        "    # Add student to dictionary\n",
        "    students[name] = grade\n",
        "\n",
        "def calculate_average(students):\n",
        "    # Calculate and return average grade\n",
        "    if len(students) == 0:\n",
        "        return 0\n",
        "    total = sum(students.values())\n",
        "    return total / len(students)\n",
        "\n",
        "def find_top_performer(students):\n",
        "    # Find student with highest grade\n",
        "    if not students:\n",
        "        return None, None\n",
        "    top_student = max(students, key=students.get)\n",
        "    return top_student, students[top_student]\n",
        "\n",
        "def generate_report(students):\n",
        "    # Generate formatted report\n",
        "    report_lines = []\n",
        "    if not students:\n",
        "        return \"No students data available.\"\n",
        "    # Average\n    average = calculate_average(students)\n",
        "    report_lines.append(f\"Class Average: {average:.1f}\")\n",
        "    # Top performer\n    top_student, top_grade = find_top_performer(students)\n",
        "    report_lines.append(f\"Top Performer: {top_student} ({top_grade})\")\n",
        "    # Students needing help (grade < 70)\n",
        "    struggling_students = [name for name, grade in students.items() if grade < 70]\n",
        "    if struggling_students:\n",
        "        struggling_list = \", \".join(struggling_students)\n",
        "        report_lines.append(f\"Students needing help: {struggling_list}\")\n",
        "    # Grade categorization\n",
        "    def grade_category(grade):\n",
        "        if grade >= 90:\n",
        "            return 'A'\n",
        "        elif grade >= 80:\n",
        "            return 'B'\n",
        "        elif grade >= 70:\n",
        "            return 'C'\n",
        "        elif grade >= 60:\n",
        "            return 'D'\n",
        "        else:\n",
        "            return 'F'\n",
        "\n",
        "    categories = {'A': [], 'B': [], 'C': [], 'D': [], 'F': []}\n",
        "    for name, grade in students.items():\n",
        "        cat = grade_category(grade)\n",
        "        categories[cat].append(name)\n",
        "\n",
        "    for cat in ['A', 'B', 'C', 'D', 'F']:\n",
        "        if categories[cat]:\n",
        "            student_list = \", \".join(categories[cat])\n",
        "            report_lines.append(f\"Grade {cat} students: {student_list}\")\n",
        "\n",
        "    return \"\\n\".join(report_lines)\n",
        "\n",
        "\n",
        "🛫 [🚀 Open Task Template](https://colab.research.google.com/github/Roopesht/codeexamples/blob/main/genai/python_easy/session_6/task_template.ipynb)"
      ]
    }
  ],
  "metadata": {
    "kernelspec": {
      "display_name": "Python 3",
      "language": "python",
      "name": "python3"
    },
    "language_info": {
      "name": "python",
      "version": "3.x"
    }
  },
  "nbformat": 4,
  "nbformat_minor": 5
}