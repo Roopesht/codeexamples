{
  "cells": [
    {
      "cell_type": "markdown",
      "metadata": {},
      "source": [
        "# Concept 1: Creating Lists and Basic Operations\n",
        "\n",
        "📦 **Ordered collections that can hold multiple items**\n",
        "\n",
        "Lists in Python are versatile data structures that allow you to store an ordered collection of items. You can include different data types, modify the list, and perform various operations such as adding, removing, or accessing items."
      ]
    },
    {
      "cell_type": "markdown",
      "metadata": {},
      "source": [
        "## Example of Creating Lists"
      ]
    },
    {
      "cell_type": "code",
      "execution_count": null,
      "metadata": {},
      "outputs": [],
      "source": [
        "# Creating a list of fruits\n",
        "fruits = ['apple', 'banana', 'orange']\n",
        "\n",
        "# Creating a list of numbers\n",
        "numbers = [1, 2, 3, 4, 5]"
      ]
    },
    {
      "cell_type": "markdown",
      "metadata": {},
      "source": [
        "## Display the lists"
      ]
    },
    {
      "cell_type": "code",
      "execution_count": null,
      "metadata": {},
      "outputs": [],
      "source": [
        "print('Fruits:', fruits)\n",
        "print('Numbers:', numbers)"
      ]
    }
  ],
  "metadata": {
    "kernelspec": {
      "name": "python3",
      "display_name": "Python 3",
      "language": "python"
    },
    "language_info": {
      "name": "python",
      "version": "3.x"
    }
  },
  "nbformat": 4,
  "nbformat_minor": 5
}