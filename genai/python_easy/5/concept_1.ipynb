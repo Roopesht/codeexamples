{
  "cells": [
    {
      "cell_type": "markdown",
      "metadata": {},
      "source": [
        "# Concept 1: Creating Lists & Basic Operations"
      ]
    },
    {
      "cell_type": "markdown",
      "metadata": {},
      "source": [
        "## 📋 What Are Lists?\n",
        "- 📦 Ordered collection of items in square brackets\n",
        "- 🏷️ Can store different data types together\n",
        "- 🔢 Each item has a position (index) starting from 0\n",
        "- 📝 Mutable - can be changed after creation"
      ]
    },
    {
      "cell_type": "markdown",
      "metadata": {},
      "source": [
        "## ![Visual representation of Python list structure](images/python_lists_structure.png)\n",
        "*(Visual diagram showing list indices 0,1,2,3 with values)*"
      ]
    },
    {
      "cell_type": "markdown",
      "metadata": {},
      "source": [
        "## Creating Your First Lists"
      ]
    },
    {
      "cell_type": "code",
      "execution_count": null,
      "metadata": {},
      "outputs": [],
      "source": [
        "# Empty list\n",
        "empty_list = []"
      ]
    },
    {
      "cell_type": "code",
      "execution_count": null,
      "metadata": {},
      "outputs": [],
      "source": [
        "# List with numbers\n",
        "numbers = [1, 2, 3, 4, 5]"
      ]
    },
    {
      "cell_type": "code",
      "execution_count": null,
      "metadata": {},
      "outputs": [],
      "source": [
        "# List with strings\n",
        "fruits = [\"apple\", \"banana\", \"orange\"]"
      ]
    },
    {
      "cell_type": "code",
      "execution_count": null,
      "metadata": {},
      "outputs": [],
      "source": [
        "# Mixed data types\n",
        "mixed = [1, \"hello\", 3.14, True]"
      ]
    },
    {
      "cell_type": "code",
      "execution_count": null,
      "metadata": {},
      "outputs": [],
      "source": [
        "# Accessing elements (indexing starts at 0)\n",
        "print(fruits[0])    # First element\n",
        "print(fruits[1])    # Second element\n",
        "print(fruits[-1])   # Last element"
      ]
    },
    {
      "cell_type": "markdown",
      "metadata": {},
      "source": [
        "## Output Results"
      ]
    },
    {
      "cell_type": "code",
      "execution_count": null,
      "metadata": {},
      "outputs": [
        {
          "name": "stdout",
          "output_type": "stream",
          "text": [
            "apple\n",
            "banana\n",
            "orange\n"
          ]
        }
      ],
      "source": [
        "apple\n",
        "banana\n",
        "orange"
      ]
    },
    {
      "cell_type": "markdown",
      "metadata": {},
      "source": [
        "✅ Lists remember the order you put items in!"
      ]
    },
    {
      "cell_type": "markdown",
      "metadata": {},
      "source": [
        "## 🎯 Key Takeaway"
      ]
    },
    {
      "cell_type": "markdown",
      "metadata": {},
      "source": [
        "**Lists are like numbered boxes where you can store anything!**"
      ]
    },
    {
      "cell_type": "markdown",
      "metadata": {},
      "source": [
        "🤔 *Discussion: Why do you think indexing starts at 0 instead of 1?*"
      ]
    }
  ],
  "metadata": {
    "kernelspec": {
      "name": "python3",
      "display_name": "Python 3"
    },
    "language_info": {
      "name": "python",
      "version": "3.x"
    }
  },
  "nbformat": 4,
  "nbformat_minor": 5
}