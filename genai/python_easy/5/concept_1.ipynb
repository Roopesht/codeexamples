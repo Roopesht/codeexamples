{
  "cells": [
    {
      "cell_type": "markdown",
      "metadata": {},
      "source": [
        "# Student Grade Manager\n",
        "\n",
        "💪 Hands-on Task: Build a Student Grade Manager\n",
        "\n",
        "🎯 Create a comprehensive system to manage student data, calculate statistics, and identify top performers!\n",
        "<em>\"Real-world data management starts here!\"</em>\n",
        "\n",
        "## Task Requirements\n",
        "- 📝 Store student names and their grades\n",
        "- 📊 Calculate class average and statistics\n",
        "- 🏆 Find top performers and struggling students\n",
        "- 🔍 Search and filter students by criteria\n",
        "- 📈 Generate a grade report\n"
      ]
    },
    {
      "cell_type": "markdown",
      "metadata": {},
      "source": [
        "## Implementation Steps\n",
        "1. **Create:** Dictionary with student names as keys, grades as values\n",
        "2. **Add:** Function to add new students and grades\n",
        "3. **Calculate:** Class average, highest/lowest grades\n",
        "4. **Filter:** Students by grade range (A, B, C, D, F)\n",
        "5. **Report:** Generate formatted grade report\n"
      ]
    },
    {
      "cell_type": "markdown",
      "metadata": {},
      "source": [
        "## Example Input/Output\n",
        "```text\n",
        "Input Students: Alice: 95, Bob: 87, Charlie: 92, Diana: 78, Eve: 94\n",
        "Expected Output:\n",
        "Class Average: 89.2\n",
        "Top Performer: Alice (95)\n",
        "Students needing help: Diana (78)\n",
        "Grade A students: Alice, Charlie, Eve\n",
        "Grade B students: Bob, Diana\n",
        "```\n"
      ]
    },
    {
      "cell_type": "markdown",
      "metadata": {},
      "source": [
        "## Code Structure\n",
        "```python\n",
        "def create_grade_manager():\n",
        "    # Your implementation here\n",
        "    students = {}\n",
        "    return students\n",
        "\n",
        "def add_student(students, name, grade):\n",
        "    # Add student to dictionary\n",
        "    students[name] = grade\n",
        "\n",
        "def calculate_average(students):\n",
        "    # Calculate and return average grade\n",
        "    if not students:\n",
        "        return 0\n",
        "    total = sum(students.values())\n",
        "    return total / len(students)\n",
        "\n",
        "def find_top_performer(students):\n",
        "    # Find student with highest grade\n",
        "    if not students:\n",
        "        return None, None\n",
        "    top_student = max(students, key=students.get)\n",
        "    top_grade = students[top_student]\n",
        "    return top_student, top_grade\n",
        "\n",
        "def generate_report(students):\n",
        "    # Generate formatted report\n",
        "    report = {}\n",
        "    report['average'] = calculate_average(students)\n",
        "    top_student, top_grade = find_top_performer(students)\n",
        "    report['top_performer'] = (top_student, top_grade)\n",
        "    # Find students needing help (e.g., grade below 70)\n",
        "    struggling_students = [(name, grade) for name, grade in students.items() if grade < 70]\n",
        "    report['struggling'] = struggling_students\n",
        "    # Grade categories\n",
        "    grade_categories = {\n",
        "        'A': [], 'B': [], 'C': [], 'D': [], 'F': []\n",
        "    }\n",
        "    for name, grade in students.items():\n",
        "        if grade >= 90:\n",
        "            grade_categories['A'].append(name)\n",
        "        elif grade >= 80:\n",
        "            grade_categories['B'].append(name)\n",
        "        elif grade >= 70:\n",
        "            grade_categories['C'].append(name)\n",
        "        elif grade >= 60:\n",
        "            grade_categories['D'].append(name)\n",
        "        else:\n",
        "            grade_categories['F'].append(name)\n",
        "    report['grades'] = grade_categories\n",
        "    return report\n",
        "```\n"
      ]
    },
    {
      "cell_type": "markdown",
      "metadata": {},
      "source": [
        "## Usage Example\n",
        "\n",
        "```python\n",
        "# Create the grade manager\n",
        "students = create_grade_manager()\n",
        "\n",
        "# Add some students\n",
        "add_student(students, 'Alice', 95)\n",
        "add_student(students, 'Bob', 87)\n",
        "add_student(students, 'Charlie', 92)\n",
        "add_student(students, 'Diana', 78)\n",
        "add_student(students, 'Eve', 94)\n",
        "\n",
        "# Calculate average\n",
        "avg = calculate_average(students)\n",
        "print(f\"Class Average: {avg:.1f}\")\n",
        "\n",
        "# Find top performer\n",
        "top_student, top_grade = find_top_performer(students)\n",
        "print(f\"Top Performer: {top_student} ({top_grade})\")\n",
        "\n",
        "# Generate report\n",
        "report = generate_report(students)\n",
        "print(f\"Students needing help: {[(name, grade) for name, grade in report['struggling']]}\")\n",
        "print(f\"Grade A students: {report['grades']['A']}\")\n",
        "print(f\"Grade B students: {report['grades']['B']}\")\n"
      ],
      "execution_count": null,
      "outputs": []
    }
  ],
  "metadata": {
    "kernelspec": {
      "name": "python3",
      "display_name": "Python 3",
      "language": "python"
    },
    "language_info": {
      "name": "python",
      "version": "3.x"
    }
  },
  "nbformat": 4,
  "nbformat_minor": 5
}