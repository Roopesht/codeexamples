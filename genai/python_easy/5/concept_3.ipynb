{
  "cells": [
    {
      "cell_type": "markdown",
      "metadata": {},
      "source": [
        "# Concept 3: List Slicing & Negative Indexing"
      ]
    },
    {
      "cell_type": "markdown",
      "metadata": {},
      "source": [
        "## ✂️ List Slicing Magic"
      ]
    },
    {
      "cell_type": "markdown",
      "metadata": {},
      "source": [
        "- 🔪 Extract portions of lists with `[start:end:step]`",
        "- 🔙 Negative indices count from the end (`-1`, `-2`, `-3`...)",
        "- 📏 Create sublists without changing original",
        "- 🎯 Perfect for data analysis and AI preprocessing"
      ]
    },
    {
      "cell_type": "markdown",
      "metadata": {},
      "source": [
        "## ![Visual showing positive and negative indices for a list](images/list_slicing_indices.png)  \nSize: 800x400"
      ]
    },
    {
      "cell_type": "code",
      "metadata": {},
      "source": [
        "# Sample data - like AI training dataset\n",
        "data = [10, 20, 30, 40, 50, 60, 70, 80, 90]\n",
        "\n",
        "# Basic slicing\n",
        "first_three = data[0:3]        # First 3 elements\n",
        "middle_part = data[3:6]        # Middle section\n",
        "last_three = data[-3:]         # Last 3 elements\n",
        "\n",
        "print('First three:', first_three)\n",
        "print('Middle part:', middle_part)\n",
        "print('Last three:', last_three)\n",
        "\n",
        "# Advanced slicing\n",
        "every_second = data[::2]       # Every 2nd element\n",
        "reversed_list = data[::-1]     # Reverse the list\n",
        "\n",
        "print('Every second:', every_second)\n",
        "print('Reversed:', reversed_list)"
      ],
      "execution_count": null,
      "outputs": []
    },
    {
      "cell_type": "markdown",
      "metadata": {},
      "source": [
        "## Output Results"
      ]
    },
    {
      "cell_type": "code",
      "metadata": {},
      "source": [
        "print('First three:', [10, 20, 30])\n",
        "print('Middle part:', [40, 50, 60])\n",
        "print('Last three:', [70, 80, 90])\n",
        "print('Every second:', [10, 30, 50, 70, 90])\n",
        "print('Reversed:', [90, 80, 70, 60, 50, 40, 30, 20, 10])"
      ],
      "execution_count": null,
      "outputs": []
    },
    {
      "cell_type": "markdown",
      "metadata": {},
      "source": [
        "✅ Slicing is like having a smart scissors for data!"
      ]
    },
    {
      "cell_type": "markdown",
      "metadata": {},
      "source": [
        "## 🎯 Key Takeaway"
      ]
    },
    {
      "cell_type": "markdown",
      "metadata": {},
      "source": [
        "**Slicing gives you surgical precision over your data!**"
      ]
    },
    {
      "cell_type": "markdown",
      "metadata": {},
      "source": [
        "🤔 _Think: How might this be useful in processing AI datasets?_"
      ]
    }
  ],
  "metadata": {
    "kernelspec": {
      "name": "python3",
      "display_name": "Python 3",
      "language": "python"
    },
    "language_info": {
      "codemirror_mode": {
        "name": "ipython",
        "version": 3
      },
      "file_extension": ".py",
      "mimetype": "text/x-python",
      "name": "python",
      "nbconvert_exporter": "python",
      "pygments_lexer": "ipython3",
      "version": "3.x"
    }
  },
  "nbformat": 4,
  "nbformat_minor": 5
}