{
  "cells": [
    {
      "cell_type": "markdown",
      "metadata": {},
      "source": [
        "# Concept 4: Iterating Through Lists"
      ]
    },
    {
      "cell_type": "markdown",
      "metadata": {},
      "source": [
        "## 🔄 Looping Through Lists\n",
        "- 🎯 Direct iteration - cleanest approach\n",
        "- 🔢 Index-based iteration for position control\n",
        "- 📊 enumerate() for both value and index\n",
        "- ⚡ Essential for data processing in AI"
      ]
    },
    {
      "cell_type": "markdown",
      "metadata": {},
      "source": [
        "## ![Three different ways to iterate through lists: direct, index-based, and enumerate. Size: 800x500](images/list_iteration_methods.png)"
      ]
    },
    {
      "cell_type": "markdown",
      "metadata": {},
      "source": [
        "## Different Ways to Loop"
      ]
    },
    {
      "cell_type": "code",
      "execution_count": null,
      "metadata": {},
      "outputs": [],
      "source": [
        "# Sample AI model scores\n",
        "model_scores = [85.5, 92.1, 78.3, 96.7, 88.9]\n",
        "\n",
        "# Method 1: Direct iteration (most common)\n",
        "print(\"Method 1 - Direct:\")\n",
        "for score in model_scores:\n",
        "    print(f\"Model accuracy: {score}%\")\n",
        "\n",
        "# Method 2: Index-based iteration\n",
        "print(\"\\nMethod 2 - Index-based:\")\n",
        "for i in range(len(model_scores)):\n",
        "    print(f\"Model {i+1}: {model_scores[i]}%\")\n",
        "\n",
        "# Method 3: Using enumerate (best of both)\n",
        "print(\"\\nMethod 3 - Enumerate:\")\n",
        "for index, score in enumerate(model_scores):\n",
        "    print(f\"Model {index+1}: {score}%\")\n",
        "   \n",
        "# Practical example: Find best model\n",
        "best_score = max(model_scores)\n",
        "best_index = model_scores.index(best_score)\n",
        "print(f\"\\nBest model: #{best_index+1} with {best_score}%\")"
      ]
    },
    {
      "cell_type": "markdown",
      "metadata": {},
      "source": [
        "[🚀 Open in Colab](https://colab.research.google.com/github/Roopesht/codeexamples/blob/main/genai/python_easy/5/concept_4.ipynb)"
      ]
    },
    {
      "cell_type": "markdown",
      "metadata": {},
      "source": [
        "## Output Results"
      ]
    },
    {
      "cell_type": "code",
      "execution_count": null,
      "metadata": {},
      "outputs": [],
      "source": [
        "print(\"Method 1 - Direct:\")\n",
        "print(\"Model accuracy: 85.5%\")\n",
        "print(\"Model accuracy: 92.1%\")\n",
        "print(\"Model accuracy: 78.3%\")\n",
        "print(\"Model accuracy: 96.7%\")\n",
        "print(\"Model accuracy: 88.9%\\n\")\n",
        "print(\"Method 2 - Index-based:\")\n",
        "print(\"Model 1: 85.5%\")\n",
        "print(\"Model 2: 92.1%\")\n",
        "print(\"Model 3: 78.3%\")\n",
        "print(\"Model 4: 96.7%\")\n",
        "print(\"Model 5: 88.9%\\n\")\n",
        "print(\"Method 3 - Enumerate:\")\n",
        "print(\"Model 1: 85.5%\")\n",
        "print(\"Model 2: 92.1%\")\n",
        "print(\"Model 3: 78.3%\")\n",
        "print(\"Model 4: 96.7%\")\n",
        "print(\"Model 5: 88.9%\\n\")\n",
        "print(\"Best model: #4 with 96.7%\")"
      ]
    },
    {
      "cell_type": "markdown",
      "metadata": {},
      "source": [
        "## 🎯 Key Takeaway"
      ]
    },
    {
      "cell_type": "markdown",
      "metadata": {},
      "source": [
        "**Choose the right iteration method for your specific needs!**\n",
        "\n",
        "🤔 *Question: When would you prefer enumerate() over simple iteration?*"
      ]
    }
  ],
  "metadata": {
    "kernelspec": {
      "display_name": "Python 3",
      "language": "python",
      "name": "python3"
    },
    "language_info": {
      "name": "python",
      "version": "3.x"
    }
  },
  "nbformat": 4,
  "nbformat_minor": 5
}