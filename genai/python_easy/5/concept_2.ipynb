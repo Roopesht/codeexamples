{
  "cells": [
    {
      "cell_type": "markdown",
      "metadata": {},
      "source": [
        "# Concept 2: List Methods\n",
        "\n",
        "## 🔧 Powerful List Methods\n",
        "\n",
        "- **append()** - Add item to the end\n",
        "- **insert()** - Add item at specific position\n",
        "- **remove()** - Delete first occurrence of item\n",
        "- **pop()** - Remove and return item (default: last)"
      ]
    },
    {
      "cell_type": "markdown",
      "metadata": {},
      "source": [
        "## ![Diagram showing list methods](images/list_methods_diagram.png)\n",
        "Alt text: Diagram showing list methods: append adding to end, insert at position, remove by value, pop from end. Size: 800x500"
      ]
    },
    {
      "cell_type": "markdown",
      "metadata": {},
      "source": [
        "## Methods in Action"
      ]
    },
    {
      "cell_type": "code",
      "execution_count": null,
      "metadata": {},
      "outputs": [
        {
          "name": "stdout",
          "output_type": "stream",
          "text": [
            "Original: ['milk', 'bread', 'eggs']\n",
            "After adding: ['milk', 'cheese', 'bread', 'eggs', 'butter']\n",
            "After removing: ['milk', 'cheese', 'eggs']\n",
            "Removed item: butter\n"
          ]
        }
      ],
      "source": [
        "# Starting with a shopping list\n",
        "shopping = ['milk', 'bread', 'eggs']\n",
        "print('Original:', shopping)\n",
        "\n",
        "# Adding items\n",
        "shopping.append('butter')           # Add to end\n",
        "shopping.insert(1, 'cheese')       # Insert at position 1\n",
        "\n",
        "print('After adding:', shopping)\n",
        "\n",
        "# Removing items\n",
        "shopping.remove('bread')            # Remove first 'bread'\n",
        "last_item = shopping.pop()          # Remove and get last item\n",
        "\n",
        "print('After removing:', shopping)\n",
        "print('Removed item:', last_item)"
      ]
    },
    {
      "cell_type": "markdown",
      "metadata": {},
      "source": [
        "## Output Results"
      ]
    },
    {
      "cell_type": "markdown",
      "metadata": {},
      "source": [
        "```text\n",
        "Original: ['milk', 'bread', 'eggs']\n",
        "After adding: ['milk', 'cheese', 'bread', 'eggs', 'butter']\n",
        "After removing: ['milk', 'cheese', 'eggs']\n",
        "Removed item: butter\n",
        "```\n",
        "\n",
        "✅ Methods make lists dynamic and interactive!"
      ]
    },
    {
      "cell_type": "markdown",
      "metadata": {},
      "source": [
        "## 🎯 Key Takeaway"
      ]
    },
    {
      "cell_type": "markdown",
      "metadata": {},
      "source": [
        "### **List methods are like remote controls - they modify your data instantly!**\n",
        "\n",
        "🤔 *Question: When would you use remove() vs pop()?*"
      ]
    }
  ],
  "metadata": {
    "kernelspec": {
      "display_name": "Python 3",
      "language": "python",
      "name": "python3"
    },
    "language_info": {
      "name": "python",
      "version": "3.x"
    }
  },
  "nbformat": 4,
  "nbformat_minor": 5
}