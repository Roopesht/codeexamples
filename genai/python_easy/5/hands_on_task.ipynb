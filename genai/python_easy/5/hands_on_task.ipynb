{
  "cells": [
    {
      "cell_type": "markdown",
      "metadata": {},
      "source": [
        "# 🛒 Hands-on Task: Shopping Cart Manager\n",
        "\n",
        "Build a system that allows adding items to a cart, removing specific items, displaying cart contents, and calculating total value."
      ]
    },
    {
      "cell_type": "markdown",
      "metadata": {},
      "source": [
        "## 📋 Task Requirements\n",
        "- 🛍️ Create a shopping cart with item names and prices\n",
        "- ➕ Function to add items with price validation\n",
        "- ➖ Function to remove items by name\n",
        "- 📊 Display cart contents and total\n",
        "- 🎯 Handle errors gracefully (item not found, etc.)"
      ]
    },
    {
      "cell_type": "markdown",
      "metadata": {},
      "source": [
        "## 🔧 Step-by-Step Approach"
      ]
    },
    {
      "cell_type": "markdown",
      "metadata": {},
      "source": [
        "1. 📝 Create empty cart list and item catalog\n",
        "2. 🔨 Build add_item() function\n",
        "3. 🗑️ Build remove_item() function\n",
        "4. 📊 Build display_cart() function\n",
        "5. 💰 Build calculate_total() function\n",
        "6. 🎮 Create interactive menu system"
      ]
    },
    {
      "cell_type": "markdown",
      "metadata": {},
      "source": [
        "## 📱 Expected Input/Output"
      ]
    },
    {
      "cell_type": "code",
      "metadata": {},
      "source": [
        "=== Shopping Cart Manager ===\n",
        "1. Add item\n",
        "2. Remove item\n",
        "3. View cart\n",
        "4. Calculate total\n",
        "5. Exit\n",
        "\n",
        "Choice: 1\n",
        "Enter item: laptop\n",
        "Added laptop ($999.99) to cart!\n",
        "\n",
        "Choice: 3\n",
        "=== Your Cart ===\n",
        "1. laptop - $999.99\n",
        "Total items: 1\n",
        "Total value: $999.99"
      ],
      "execution_count": null,
      "outputs": []
    },
    {
      "cell_type": "markdown",
      "metadata": {},
      "source": [
        "## 🏗️ Code Structure Template"
      ]
    },
    {
      "cell_type": "code",
      "metadata": {},
      "source": [
        "# Shopping Cart Manager Template\n",
        "cart = []\n",
        "available_items = {\n",
        "    \"laptop\": 999.99,\n",
        "    \"mouse\": 29.99,\n",
        "    \"keyboard\": 79.99,\n",
        "    # Add more items...\n",
        "}\n",
        "\n",
        "def add_item(item_name):\n",
        "    # Your implementation here\n",
        "    pass\n",
        "\n",
        "def remove_item(item_name):\n",
        "    # Your implementation here\n",
        "    pass\n",
        "\n",
        "def display_cart():\n",
        "    # Your implementation here\n",
        "    pass\n",
        "\n",
        "def calculate_total():\n",
        "    # Your implementation here\n",
        "    pass\n",
        "\n",
        "# Main program loop\n",
        "while True:\n",
        "    # Your menu system here\n",
        "    pass"
      ],
      "execution_count": null,
      "outputs": []
    },
    {
      "cell_type": "markdown",
      "metadata": {},
      "source": [
        "## 🎯 Task Success Metrics"
      ]
    },
    {
      "cell_type": "markdown",
      "metadata": {},
      "source": [
        "- ✅ Add and remove items dynamically\n",
        "- ✅ Calculate totals using list operations\n",
        "- ✅ Handle user input validation\n",
        "- ✅ Create a clean, user-friendly interface\n",
        "\n",
        "💡 *Every Amazon cart started with code like this!*"
      ]
    }
  ],
  "metadata": {
    "kernelspec": {
      "display_name": "Python 3",
      "language": "python",
      "name": "python3"
    },
    "language_info": {
      "name": "python",
      "version": "3.x"
    }
  },
  "nbformat": 4,
  "nbformat_minor": 5
}