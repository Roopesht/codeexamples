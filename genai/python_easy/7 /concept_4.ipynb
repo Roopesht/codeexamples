{
  "cells": [
    {
      "cell_type": "markdown",
      "metadata": {},
      "source": [
        "# Concept 4: Local vs Global Scope"
      ]
    },
    {
      "cell_type": "markdown",
      "metadata": {},
      "source": [
        "🌐 **Variable Scope**\n",
        "- 🏠 **Local Scope**: Variables inside functions\n",
        "- 🌍 **Global Scope**: Variables outside functions\n",
        "- 🔒 **Encapsulation**: Local variables are isolated\n",
        "- ⚠️ **Best Practice**: Avoid global variables when possible"
      ]
    },
    {
      "cell_type": "markdown",
      "metadata": {},
      "source": [
        "![Visual representation of local and global variable scope with nested boxes showing function boundaries. Size: 800x600](images/scope_concept.png)"
      ]
    },
    {
      "cell_type": "code",
      "metadata": {},
      "source": [
        "# Global variables\n",
        "ai_model = \"GPT-4\"\n",
        "total_requests = 0\n",
        "\n",
        "def process_prompt(user_prompt):\n",
        "    # Local variables\n",
        "    processed_prompt = user_prompt.strip().lower()\n",
        "    response_length = len(processed_prompt) * 2\n",
        "    \n",
        "    # Access global variable (reading)\n",
        "    print(f\"Using model: {ai_model}\")\n",
        "    \n",
        "    # Modify global variable (needs global keyword)\n",
        "    global total_requests\n",
        "    total_requests += 1\n",
        "    \n",
        "    return f\"Processed: {processed_prompt[:50]}...\"\n",
        "\n",
        "# Function call\n",
        "result = process_prompt(\"  Generate Python Code for Data Analysis  \")\n",
        "print(result)\n",
        "print(f\"Total requests: {total_requests}\")"
      ],
      "execution_count": null,
      "outputs": []
    },
    {
      "cell_type": "markdown",
      "metadata": {},
      "source": [
        "🚀 **Open in Colab**: [https://colab.research.google.com/github/Roopesht/codeexamples/blob/main/genai/python_easy/7/concept_4.ipynb](https://colab.research.google.com/github/Roopesht/codeexamples/blob/main/genai/python_easy/7/concept_4.ipynb)"
      ]
    },
    {
      "cell_type": "markdown",
      "metadata": {},
      "source": [
        "### 📤 Output\n",
        "```\n",
        "Using model: GPT-4\n",
        "Processed: generate python code for data analysis... \n",
        "Total requests: 1\n",
        "```"
      ]
    },
    {
      "cell_type": "markdown",
      "metadata": {},
      "source": [
        "*Scope helps keep your code organized and prevents variable conflicts!*"
      ]
    },
    {
      "cell_type": "markdown",
      "metadata": {},
      "source": [
        "### 🎯 Key Takeaway\n",
        "Understanding scope prevents bugs and makes code more maintainable. Local variables keep functions self-contained, while global variables should be used sparingly.\n",
        "\n",
        "💭 **Question:** Why might using too many global variables make your GenAI application harder to debug?"
      ]
    }
  ],
  "metadata": {
    "kernelspec": {
      "display_name": "Python 3",
      "language": "python",
      "name": "python3"
    },
    "language_info": {
      "name": "python",
      "version": "3.x"
    }
  },
  "nbformat": 4,
  "nbformat_minor": 5
}