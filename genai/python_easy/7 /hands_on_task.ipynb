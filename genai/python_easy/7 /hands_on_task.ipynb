{
  "cells": [
    {
      "cell_type": "markdown",
      "metadata": {},
      "source": [
        "# 🧮 Calculator Functions Challenge\n",
        "Build a comprehensive calculator using separate functions for different operations!\n",
        "\n",
        "> \"The best way to learn programming is by writing programs.\" - Unknown"
      ]
    },
    {
      "cell_type": "markdown",
      "metadata": {},
      "source": [
        "## 🎯 Task Requirements"
      ]
    },
    {
      "cell_type": "markdown",
      "metadata": {},
      "source": [
        "- ➕ Create a function for addition",
        "- ➖ Create a function for subtraction",
        "- ✖️ Create a function for multiplication",
        "- ➗ Create a function for division with error handling",
        "- 🔢 Create a function for power operation",
        "- 🎛️ Create main function to run the program"
      ]
    },
    {
      "cell_type": "markdown",
      "metadata": {},
      "source": [
        "## 📝 Step-by-Step Guide"
      ]
    },
    {
      "cell_type": "markdown",
      "metadata": {},
      "source": [
        "1️⃣ **Step 1**: Define basic arithmetic functions\n",
        "2️⃣ **Step 2**: Add error handling for division by zero\n",
        "3️⃣ **Step 3**: Create a menu system for user interaction\n",
        "4️⃣ **Step 4**: Implement the main calculator loop\n",
        "5️⃣ **Step 5**: Test with various inputs"
      ]
    },
    {
      "cell_type": "markdown",
      "metadata": {},
      "source": [
        "## 📋 Example Input/Output"
      ]
    },
    {
      "cell_type": "code",
      "execution_count": null,
      "metadata": {},
      "outputs": [],
      "source": [
        "# Example usage: Calculator Menu:\n",
        "# 1. Add\n",
        "# 2. Subtract\n",
        "# 3. Multiply\n",
        "# 4. Divide\n",
        "# 5. Power\n",
        "# 6. Exit\n",
        "choice = int(input(\"Enter choice: \"))\n",
        "if choice == 1:\n",
        "    a = float(input(\"Enter first number: \"))\n",
        "    b = float(input(\"Enter second number: \"))\n",
        "    result = a + b\n",
        "    print(f\"Result: {a} + {b} = {result}\")\n",
        "elif choice == 4:\n",
        "    a = float(input(\"Enter first number: \"))\n",
        "    b = float(input(\"Enter second number: \"))\n",
        "    if b == 0:\n",
        "        print(\"Error: Cannot divide by zero!\")\n",
        "    else:\n",
        "        result = a / b\n",
        "        print(f\"Result: {a} / {b} = {result}\")"
      ]
    },
    {
      "cell_type": "markdown",
      "metadata": {},
      "source": [
        "## 🏗️ Code Structure"
      ]
    },
    {
      "cell_type": "code",
      "execution_count": null,
      "metadata": {},
      "outputs": [],
      "source": [
        "# Basic structure to get you started\n",
        "\ndef add(a, b):\n",
        "    # Your code here\n",
        "    pass\n",
        "\ndef divide(a, b):\n",
        "    # Remember to handle division by zero!\n",
        "    pass\n",
        "\ndef calculator():\n",
        "    # Main program loop\n",
        "    while True:\n",
        "        # Display menu\n",
        "        # Get user choice\n",
        "        # Call appropriate function\n",
        "        # Display result\n",
        "        pass\n",
        "\n",
        "# Start the calculator\n",
        "calculator()"
      ]
    },
    {
      "cell_type": "markdown",
      "metadata": {},
      "source": [
        "## 🎯 Task Conclusion"
      ]
    },
    {
      "cell_type": "markdown",
      "metadata": {},
      "source": [
        "This calculator project demonstrates how functions organize code, handle different operations, and create reusable components. These skills are essential for building GenAI applications!\n",
        "\n",
        "💡 Bonus: Consider how you might extend this calculator to handle more complex operations or integrate with AI models for natural language math queries!"
      ]
    }
  ],
  "metadata": {
    "kernelspec": {
      "name": "python3",
      "display_name": "Python 3",
      "language": "python"
    },
    "language_info": {
      "name": "python",
      "version": "3.x",
      "mimetype": "text/x-python",
      "codemirror_mode": {
        "name": "python",
        "version": 3
      },
      "pygments_lexer": "python3",
      "color": true
    }
  }
}