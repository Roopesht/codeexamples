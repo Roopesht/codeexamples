{
  "cells": [
    {
      "cell_type": "markdown",
      "metadata": {},
      "source": [
        "# Concept 3: Return Statements and Function Output\n",
        "\n",
        "📤 Concept 3: Return Statements and Function Output"
      ]
    },
    {
      "cell_type": "markdown",
      "metadata": {},
      "source": [
        "## 📤 Return Statements\n",
        "- 🔄 **Output**: Send results back to caller\n",
        "- 🛑 **Exit**: Return immediately exits function\n",
        "- 📦 **Data Types**: Return any Python data type\n",
        "- 🔗 **Chaining**: Use returned values in other functions"
      ]
    },
    {
      "cell_type": "code",
      "metadata": {},
      "source": [
        "# Function that returns a value\n",
        "def calculate_tokens(text):\n",
        "    \"\"\"Estimates token count for AI models\"\"\"\n",
        "    word_count = len(text.split())\n",
        "    estimated_tokens = word_count * 1.3  # Rough estimate\n",
        "    return int(estimated_tokens)\n",
        "\n",
        "# Function with conditional returns\n",
        "def validate_prompt(prompt):\n",
        "    \"\"\"Validates AI prompt quality\"\"\"\n",
        "    if len(prompt) < 10:\n",
        "        return \"Too short\"\n",
        "    elif len(prompt) > 1000:\n",
        "        return \"Too long\"\n",
        "    else:\n",
        "        return \"Perfect length\"\n",
        "\n",
        "# Using returned values\n",
        "text = \"Generate a Python function for data analysis\"\n",
        "tokens = calculate_tokens(text)\n",
        "status = validate_prompt(text)\n",
        "\n",
        "print(f\"Tokens: {tokens}\")\n",
        "print(f\"Status: {status}\")"
      ],
      "execution_count": null,
      "outputs": []
    },
    {
      "cell_type": "markdown",
      "metadata": {},
      "source": [
        "## 📤 Output\n",
        "```python\n",
        "Tokens: 10\n",
        "Status: Perfect length\n",
        "```\n",
        "\n",
        "<em>Return statements make functions truly useful by providing results!</em>"
      ]
    },
    {
      "cell_type": "markdown",
      "metadata": {},
      "source": [
        "## 🎯 Key Takeaway\n",
        "Return statements are the output mechanism of functions. They allow functions to process data and provide results for further use in your GenAI applications.\n",
        "\n",
        "💭 Question: What would happen if you tried to use a function's result but forgot to include a return statement?"
      ]
    }
  ],
  "metadata": {
    "kernelspec": {
      "display_name": "Python 3",
      "language": "python",
      "name": "python3"
    },
    "language_info": {
      "name": "python",
      "version": "3.x"
    }
  },
  "nbformat": 4,
  "nbformat_minor": 5
}