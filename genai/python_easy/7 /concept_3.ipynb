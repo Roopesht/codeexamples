{
  "cells": [
    {
      "cell_type": "markdown",
      "metadata": {},
      "source": [
        "# 📤 Concept 3: Return Statements and Function Output"
      ]
    },
    {
      "cell_type": "markdown",
      "metadata": {},
      "source": [
        "<section class=\"outer-slide\">",
        "  <p style=\"text-align: left;\">📤 Concept 3: Return Statements and Function Output</p>",
        "  <section data-note-key=\"return-intro\">",
        "    <bullet-slide>",
        "      <header>📤 Return Statements</header>",
        "      <list>",
        "        <item>🔄 **Output**: Send results back to caller</item>",
        "        <item>🛑 **Exit**: Return immediately exits function</item>",
        "        <item>📦 **Data Types**: Return any Python data type</item>",
        "        <item>🔗 **Chaining**: Use returned values in other functions</item>",
        "      </list>",
        "    </bullet-slide>",
        "  </section>",
        "  <section data-note-key=\"return-code\">",
        "    <h3>🔄 Return in Action</h3>",
        "    <pre><code class=\"language-python\">",
        "  # Function that returns a value",
        "  def calculate_tokens(text):",
        "      \"\"\"Estimates token count for AI models\"\"\"",
        "      word_count = len(text.split())",
        "      estimated_tokens = word_count * 1.3  # Rough estimate",
        "      return int(estimated_tokens)",
        "",
        "  # Function with conditional returns",
        "  def validate_prompt(prompt):",
        "      \"\"\"Validates AI prompt quality\"\"\"",
        "      if len(prompt) < 10:",
        "          return \"Too short\"",
        "      elif len(prompt) > 1000:",
        "          return \"Too long\"",
        "      else:",
        "          return \"Perfect length\"",
        "",
        "  # Using returned values",
        "  text = \"Generate a Python function for data analysis\"",
        "  tokens = calculate_tokens(text)",
        "  status = validate_prompt(text)",
        "",
        "  print(f\"Tokens: {tokens}\")",
        "  print(f\"Status: {status}\")",
        "</code></pre>",
        "    <a href=\"https://colab.research.google.com/github/Roopesht/codeexamples/blob/main/genai/python_easy/7/concept_3.ipynb\" target=\"_blank\" class=\"colab-button\">",
        "      🚀 Open in Colab",
        "    </a>",
        "  </section>",
        "  <section data-note-key=\"return-output\">",
        "    <h3>📤 Output</h3>",
        "    <pre><code class=\"language-python\">",
        "Tokens: 10",
        "Status: Perfect length",
        "</code></pre>",
        "    <p><em>Return statements make functions truly useful by providing results!</em></p>",
        "  </section>",
        "  <section data-note-key=\"return-conclude\">",
        "    <h3>🎯 Key Takeaway</h3>",
        "    <p>Return statements are the output mechanism of functions. They allow functions to process data and provide results for further use in your GenAI applications.</p>",
        "    <p><strong>💭 Question:</strong> What would happen if you tried to use a function's result but forgot to include a return statement?</p>",
        "  </section>",
        "</section>"
      ]
    }
  ],
  "metadata": {
    "kernelspec": {
      "name": "python3",
      "display_name": "Python 3",
      "language": "python"
    },
    "language_info": {
      "name": "python",
      "version": "3.x"
    }
  },
  "nbformat": 4,
  "nbformat_minor": 5
}