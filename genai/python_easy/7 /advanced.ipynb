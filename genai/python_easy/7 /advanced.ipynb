{
  "cells": [
    {
      "cell_type": "markdown",
      "metadata": {},
      "source": [
        "# Advanced Topic\n",
        "\n",
        "⚡ Advanced: Default Parameters & *args/**kwargs"
      ]
    },
    {
      "cell_type": "markdown",
      "metadata": {},
      "source": [
        "## ⚡ Advanced Function Features\n",
        "\n",
        "- 🔧 **Default Parameters**: Provide fallback values\n",
        "- 🔄 **Keyword Arguments**: Named parameters\n",
        "- 📦 **\\*args**: Variable number of positional arguments\n",
        "- 🗂️ **\\*\\*kwargs**: Variable number of keyword arguments"
      ]
    },
    {
      "cell_type": "code",
      "execution_count": null,
      "metadata": {},
      "outputs": [],
      "source": [
        "# Default parameters\ndef create_ai_request(prompt, model=\"gpt-3.5-turbo\", temperature=0.7):\n",
        "    \"\"\"Creates AI request with sensible defaults\"\"\"\n",
        "    return {\n",
        "        \"prompt\": prompt,\n",
        "        \"model\": model,\n",
        "        \"temperature\": temperature\n",
        "    }\n"
      ]
    },
    {
      "cell_type": "code",
      "execution_count": null,
      "metadata": {},
      "outputs": [],
      "source": [
        "# *args and **kwargs\ndef flexible_prompt(*topics, **settings):\n",
        "    \"\"\"Handles variable number of topics and settings\"\"\"\n",
        "    combined_topics = \" and \".join(topics)\n",
        "    prompt = f\"Write about {combined_topics}\"\n",
        "    \n",
        "    if settings.get(\"style\":):\n",
        "        prompt += f\" in {settings['style']} style\"\n",
        "    \n",
        "    return prompt"
      ]
    },
    {
      "cell_type": "code",
      "execution_count": null,
      "metadata": {},
      "outputs": [],
      "source": [
        "# Usage examples\n",
        "request1 = create_ai_request(\"Explain Python\")\n",
        "request2 = create_ai_request(\"Explain Python\", model=\"gpt-4\", temperature=0.9)\n",
        "result1 = flexible_prompt(\"AI\", \"Machine Learning\")\n",
        "result2 = flexible_prompt(\"Python\", \"Data Science\", style=\"academic\", length=\"detailed\")\n",
        "print(request1)\n",
        "print(result1)"
      ]
    },
    {
      "cell_type": "markdown",
      "metadata": {},
      "source": [
        "## 📤 Output"
      ]
    },
    {
      "cell_type": "code",
      "execution_count": null,
      "metadata": {},
      "outputs": [
        {
          "name": "stdout",
          "output_type": "stdout",
          "text": [
            "{'prompt': 'Explain Python', 'model': 'gpt-3.5-turbo', 'temperature': 0.7}\n",
            "Write about AI and Machine Learning\n"
          ]
        }
      ],
      "source": [
        "# Print outputs for reference\n",
        "print({\"prompt\": \"Explain Python\", \"model\": \"gpt-3.5-turbo\", \"temperature\": 0.7})\n",
        "print(\"Write about AI and Machine Learning\")"
      ]
    },
    {
      "cell_type": "markdown",
      "metadata": {},
      "source": [
        "## 🎯 Key Takeaway\n",
        "\n",
        "Advanced function features provide incredible flexibility for GenAI applications, allowing you to handle various inputs and provide sensible defaults."
      ]
    }
  ],
  "metadata": {
    "kernelspec": {
      "display_name": "Python 3",
      "language": "python",
      "name": "python3"
    },
    "language_info": {
      "name": "python",
      "version": "3.x"
    }
  },
  "nbformat": 4,
  "nbformat_minor": 5
}