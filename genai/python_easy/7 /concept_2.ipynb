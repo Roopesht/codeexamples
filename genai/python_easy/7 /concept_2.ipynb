{
  "cells": [
    {
      "cell_type": "markdown",
      "metadata": {},
      "source": [
        "# Concept 2: Parameters and Arguments\n",
        "\n",
        "📥 **Concept 2: Parameters and Arguments**"
      ]
    },
    {
      "cell_type": "markdown",
      "metadata": {},
      "source": [
        "## 📥 Parameters vs Arguments\n",
        "\n",
        "- 📝 **Parameters**: Variables in function definition\n",
        "- 📤 **Arguments**: Actual values passed to function\n",
        "- 🔄 **Flexibility**: Same function, different inputs\n",
        "- 🎯 **Customization**: Adapt behavior based on input"
      ]
    },
    {
      "cell_type": "markdown",
      "metadata": {},
      "source": [
        "## 📝 Parameters in Action"
      ]
    },
    {
      "cell_type": "code",
      "execution_count": null,
      "metadata": {},
      "outputs": [],
      "source": [
        "# Function with parameters\ndef greet_user(name, age):\n",
        "    \"\"\"Greets user with personalized message\"\"\"\n",
        "    return f\"Hello {name}! You are {age} years old.\"\n",
        "\n",
        "# Function with multiple parameters for GenAI\ndef create_ai_prompt(topic, style, length):\n",
        "    \"\"\"Creates customized AI prompts\"\"\"\n",
        "    prompt = f\"Write a {length} {style} about {topic}\"\n",
        "    return prompt\n",
        "\n",
        "# Calling functions with arguments\n",
        "message = greet_user(\"Alice\", 25)\n",
        "ai_prompt = create_ai_prompt(\"Python\", \"tutorial\", \"comprehensive\")\n",
        "\n",
        "print(message)\n",
        "print(ai_prompt)"
      ]
    },
    {
      "cell_type": "markdown",
      "metadata": {},
      "source": [
        "## 📤 Output"
      ]
    },
    {
      "cell_type": "code",
      "execution_count": null,
      "metadata": {},
      "outputs": [],
      "source": [
        "# Output:\n",
        "Hello Alice! You are 25 years old.\n",
        "Write a comprehensive about Python"
      ]
    },
    {
      "cell_type": "markdown",
      "metadata": {},
      "source": [
        "📝 Parameters make functions flexible and reusable!"
      ]
    },
    {
      "cell_type": "markdown",
      "metadata": {},
      "source": [
        "## 🎯 Key Takeaway"
      ]
    },
    {
      "cell_type": "markdown",
      "metadata": {},
      "source": [
        "Parameters transform functions from fixed code blocks into flexible tools. Perfect for creating dynamic AI prompts and processing various data inputs!\n",
        "\n",
        "💭 **Question**: How would you modify a function to handle different types of AI model inputs?"
      ]
    }
  ],
  "metadata": {
    "kernelspec": {
      "display_name": "Python 3",
      "language": "python",
      "name": "python3"
    },
    "language_info": {
      "name": "python",
      "version": "3.x"
    }
  },
  "nbformat": 4,
  "nbformat_minor": 5
}