{
  "cells": [
    {
      "cell_type": "markdown",
      "metadata": {},
      "source": [
        "# Class vs Instance Attributes in Python"
      ]
    },
    {
      "cell_type": "markdown",
      "metadata": {},
      "source": [
        "## ⚖️ Concept 4: Class vs Instance Attributes\n",
        "\n",
        "In Python, classes can have two types of attributes:\n",
        "- **Class Attributes:** Shared by all objects of the class.\n",
        "- **Instance Attributes:** Unique to each object.\n",
        "\n",
        "Class attributes help save memory when multiple objects share the same data, while instance attributes allow each object to have its own specific data."
      ]
    },
    {
      "cell_type": "markdown",
      "metadata": {},
      "source": [
        "![Diagram showing class attributes as shared data at the top, and instance attributes as individual data for each object below, size 800x600](images/class-vs-instance-attributes.png)"
      ]
    },
    {
      "cell_type": "markdown",
      "metadata": {},
      "source": [
        "## 💻 Class vs Instance Attributes Example"
      ]
    },
    {
      "cell_type": "code",
      "execution_count": null,
      "metadata": {},
      "outputs": [],
      "source": [
        "class Employee:\n",
        "    # Class attribute - shared by all instances\n",
        "    company_name = \"TechCorp\"\n",
        "    total_employees = 0\n",
        "    \n",
        "    def __init__(self, name, salary):\n",
        "        # Instance attributes - unique to each object\n",
        "        self.name = name\n",
        "        self.salary = salary\n",
        "        Employee.total_employees += 1  # Update class attribute\n",
        "    \n",
        "    def get_details(self):\n",
        "        return f\"{self.name} works at {self.company_name}\"\n",
        "    \n",
        "    @classmethod\n",
        "    def get_total_employees(cls):\n",
        "        return cls.total_employees"
      ]
    },
    {
      "cell_type": "markdown",
      "metadata": {},
      "source": [
        "You can create Employee objects and see how class and instance attributes behave:"
      ]
    },
    {
      "cell_type": "code",
      "execution_count": null,
      "metadata": {},
      "outputs": [],
      "source": [
        "emp1 = Employee(\"Alice\", 50000)\n",
        "emp2 = Employee(\"Bob\", 60000)\n",
        "\n",
        "print(emp1.name)               # Output: Alice (instance)\n",
        "print(emp1.company_name)       # Output: TechCorp (class)\n",
        "print(Employee.company_name)   # Output: TechCorp (class)\n",
        "print(Employee.total_employees) # Output: 2 (class)\n",
        "\n",
        "# Changing class attribute affects all instances\n",
        "Employee.company_name = \"NewTech\"\n",
        "print(emp1.company_name)       # Output: NewTech\n",
        "print(emp2.company_name)       # Output: NewTech"
      ]
    },
    {
      "cell_type": "markdown",
      "metadata": {},
      "source": [
        "## 🎯 When to Use Each Type"
      ]
    },
    {
      "cell_type": "markdown",
      "metadata": {},
      "source": [
        "- **Class Attributes:** Constants, counters, shared configurations\n",
        "- **Instance Attributes:** Object-specific data like name, color, ID\n",
        "\n",
        "Using class attributes helps save memory when multiple objects share the same data, while instance attributes allow each object to have unique information."
      ]
    },
    {
      "cell_type": "markdown",
      "metadata": {},
      "source": [
        "## 🤔 Quick Challenge"
      ]
    },
    {
      "cell_type": "markdown",
      "metadata": {},
      "source": [
        "**Question:**\n",
        "\n",
        "In a `'Car'` class, which would be class attributes and which would be instance attributes?\n",
        "\n",
        "Think about properties like `wheels_count` versus `car_color` or `fuel_type` versus `license_plate`."
      ]
    }
  ],
  "metadata": {
    "kernelspec": {
      "display_name": "Python 3",
      "language": "python",
      "name": "python3"
    },
    "language_info": {
      "name": "python",
      "version": "3.x"
    }
  },
  "nbformat": 4,
  "nbformat_minor": 5
}