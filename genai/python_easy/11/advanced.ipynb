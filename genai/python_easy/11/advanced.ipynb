{
  "nbformat": 4,
  "nbformat_minor": 5,
  "metadata": {
    "kernelspec": {
      "display_name": "Python 3",
      "language": "python",
      "name": "python3"
    },
    "language_info": {
      "codemirror_mode": {
        "name": "ipython",
        "version": 3
      },
      "file_extension": ".py",
      "mimetype": "text/x-python",
      "name": "python",
      "nbconvert_exporter": "python",
      "pygments_lexer": "ipython3",
      "version": "3.x"
    }
  },
  "cells": [
    {
      "cell_type": "markdown",
      "metadata": {},
      "source": [
        "# Inheritance Basics in Python"
      ]
    },
    {
      "cell_type": "markdown",
      "metadata": {},
      "source": [
        "In this notebook, we will learn about inheritance in Python, which allows you to create new classes based on existing ones. This helps in reusing code and organizing your programs better."
      ]
    },
    {
      "cell_type": "markdown",
      "metadata": {},
      "source": [
        "## 🧬 What is Inheritance?"
      ]
    },
    {
      "cell_type": "markdown",
      "metadata": {},
      "source": [
        "- **Inheritance:** Child (or subclass) inherits properties and methods from the parent (or super) class.",
        "- **Code Reuse:** Avoid repeating code by creating common classes.",
        "- **Method Overriding:** Child class can modify behavior of methods inherited from parent.",
        "- **Hierarchy:** Creates a relationship between classes, like a family tree."
      ]
    },
    {
      "cell_type": "markdown",
      "metadata": {},
      "source": [
        "## 💻 Inheritance in Action"
      ]
    },
    {
      "cell_type": "code",
      "execution_count": null,
      "metadata": {},
      "outputs": [],
      "source": [
        "# Parent class",
        "class Animal:",
        "    def __init__(self, name, species):",
        "        self.name = name",
        "        self.species = species",
        "",
        "    def make_sound(self):",
        "        return f\"{self.name} makes a sound\"",
        "",
        "    def info(self):",
        "        return f\"{self.name} is a {self.species}\""
      ]
    },
    {
      "cell_type": "code",
      "execution_count": null,
      "metadata": {},
      "outputs": [],
      "source": [
        "# Child class inheriting from Animal",
        "class Dog(Animal):",
        "    def __init__(self, name, breed):",
        "        super().__init__(name, \"Dog\")  # Call parent constructor",
        "        self.breed = breed",
        "",
        "    # Method overriding",
        "    def make_sound(self):",
        "        return f\"{self.name} barks: Woof!\"",
        "",
        "    # New method specific to Dog",
        "    def fetch(self):",
        "        return f\"{self.name} fetches the ball!\""
      ]
    },
    {
      "cell_type": "markdown",
      "metadata": {},
      "source": [
        "## 📊 Inheritance Results"
      ]
    },
    {
      "cell_type": "code",
      "execution_count": null,
      "metadata": {},
      "outputs": [],
      "source": [
        "# Create instances",
        "generic_animal = Animal(\"Unknown\", \"Mystery\")",
        "my_dog = Dog(\"Buddy\", \"Golden Retriever\")",
        "",
        "print(generic_animal.make_sound())  # Output: Unknown makes a sound",
        "print(my_dog.make_sound())          # Output: Buddy barks: Woof!",
        "print(my_dog.info())                # Output: Buddy is a Dog",
        "print(my_dog.fetch())               # Output: Buddy fetches the ball!"
      ]
    },
    {
      "cell_type": "markdown",
      "metadata": {},
      "source": [
        "## ✨ Benefits of Inheritance"
      ]
    },
    {
      "cell_type": "markdown",
      "metadata": {},
      "source": [
        "- 🔄 **Code Reusability:** Common code in parent class.",
        "- 🛠️ **Extensibility:** Add new features to child classes.",
        "- 🧹 **Maintainability:** Updating parent class affects all child classes.",
        "- 🎯 **Polymorphism:** Same interface, different behaviors."
      ]
    },
    {
      "cell_type": "markdown",
      "metadata": {},
      "source": [
        "## 🤔 Think About It"
      ]
    },
    {
      "cell_type": "markdown",
      "metadata": {},
      "source": [
        "Imagine creating a `Vehicle` parent class with `Car` and `Motorcycle` as child classes. Think about what properties and methods they might share, and what features would be specific to each type of vehicle."
      ]
    }
  ]
}