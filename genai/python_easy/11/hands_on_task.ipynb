{
  "cells": [
    {
      "cell_type": "markdown",
      "metadata": {},
      "source": [
        "# Building a Simple Bank Account System with Python\n",
        "\n",
        "In this notebook, we will create a simple bank account system using Python classes.\n",
        "This will help us understand how object-oriented programming (OOP) principles can be applied in real-world scenarios.\n",
        "\n",
        "Let's get started!"
      ]
    },
    {
      "cell_type": "markdown",
      "metadata": {},
      "source": [
        "## Introduction\n",
        "We will build a `BankAccount` class that allows us to manage accounts, deposit and withdraw money, and check the balance.\n",
        "We'll also include validation to prevent invalid operations and track transaction history for better understanding."
      ]
    },
    {
      "cell_type": "markdown",
      "metadata": {},
      "source": [
        "### Step 1-4: Define the BankAccount class with its methods"
      ]
    },
    {
      "cell_type": "code",
      "execution_count": null,
      "metadata": {},
      "outputs": [],
      "source": [
        "class BankAccount:\n",
        "    def __init__(self, account_number, account_holder, initial_balance=0):\n",
        "        self.account_number = account_number\n",
        "        self.account_holder = account_holder\n",
        "        self.balance = initial_balance\n",
        "        self.transactions = []  # To keep track of transaction history\n",
        "\n",
        "    def deposit(self, amount):\n",
        "        if amount > 0:\n",
        "            self.balance += amount\n",
        "            self.transactions.append(('Deposit', amount))\n",
        "            return f\"Deposited {amount}. Current balance: {self.balance}\"\n",
        "        else:\n",
        "            return \"Error: Deposit amount must be positive.\"\n",
        "\n",
        "    def withdraw(self, amount):\n",
        "        if amount <= 0:\n",
        "            return \"Error: Withdrawal amount must be positive.\"\n",
        "        elif amount > self.balance:\n",
        "            return \"Error: Insufficient funds.\"\n",
        "        else:\n",
        "            self.balance -= amount\n",
        "            self.transactions.append(('Withdraw', amount))\n",
        "            return f\"Withdrew {amount}. Current balance: {self.balance}\"\n",
        "\n",
        "    def check_balance(self):\n",
        "        return f\"Current balance: {self.balance}\"\n"
      ]
    },
    {
      "cell_type": "markdown",
      "metadata": {},
      "source": [
        "### Step 5: Testing the BankAccount class"
      ]
    },
    {
      "cell_type": "code",
      "execution_count": null,
      "metadata": {},
      "outputs": [],
      "source": [
        "# Create two accounts\n",
        "account1 = BankAccount(\"12345\", \"Alice\", 1000)\n",
        "account2 = BankAccount(\"67890\", \"Bob\", 500)\n",
        "\n",
        "# Operations on account1\n",
        "print(account1.deposit(500))      # Deposits 500\n",
        "print(account1.withdraw(200))     # Withdraws 200\n",
        "print(account1.withdraw(1500))    # Attempt to withdraw more than balance\n",
        "print(account1.check_balance())   # Check current balance\n",
        "\n",
        "# Operations on account2\n",
        "print(account2.deposit(300))      # Deposits 300\n",
        "print(account2.check_balance())   # Check current balance\n"
      ]
    },
    {
      "cell_type": "markdown",
      "metadata": {},
      "source": [
        "## Summary\n",
        "We have created a `BankAccount` class that manages account data securely, validates transactions, and tracks history.\n",
        "This example demonstrates how object-oriented programming helps encapsulate related data and behavior together."
      ]
    }
  ],
  "metadata": {
    "kernelspec": {
      "name": "python3",
      "display_name": "Python 3",
      "language": "python"
    },
    "language_info": {
      "name": "python",
      "version": "3.x"
    }
  },
  "nbformat": 4,
  "nbformat_minor": 5
}