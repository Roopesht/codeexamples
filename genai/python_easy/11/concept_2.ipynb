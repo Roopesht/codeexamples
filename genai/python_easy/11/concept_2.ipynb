{
  "cells": [
    {
      "cell_type": "markdown",
      "metadata": {},
      "source": [
        "# Creating Classes and __init__ Method in Python"
      ]
    },
    {
      "cell_type": "markdown",
      "metadata": {},
      "source": [
        "In this notebook, we'll learn how to create classes in Python, which are blueprints for objects. We'll also see how the `__init__` method helps initialize new objects with specific attributes. Let's get started!"
      ]
    },
    {
      "cell_type": "markdown",
      "metadata": {},
      "source": [
        "## Creating Your First Class"
      ]
    },
    {
      "cell_type": "markdown",
      "metadata": {},
      "source": [
        "- The `class` keyword is used to define a new class.",
        "- The `__init__` method is like a constructor that runs automatically when creating an object.",
        "- The `self` parameter refers to the current instance of the class.",
        "- inside `__init__`, we set up the object's initial attributes."
      ]
    },
    {
      "cell_type": "markdown",
      "metadata": {},
      "source": [
        "## Basic Class Syntax"
      ]
    },
    {
      "cell_type": "code",
      "metadata": {},
      "source": [
        "class Dog:",
        "    def __init__(self, name, breed):",
        "        self.name = name",
        "        self.breed = breed",
        "",
        "    def bark(self):",
        "        return f\"{self.name} says Woof!\"",
        "",
        "# Creating objects",
        "my_dog = Dog(\"Buddy\", \"Golden Retriever\")",
        "your_dog = Dog(\"Max\", \"Labrador\")"
      ],
      "execution_count": null,
      "outputs": []
    },
    {
      "cell_type": "markdown",
      "metadata": {},
      "source": [
        "## Output Example"
      ]
    },
    {
      "cell_type": "code",
      "metadata": {},
      "source": [
        "print(my_dog.name)        # Output: Buddy",
        "print(my_dog.breed)       # Output: Golden Retriever",
        "print(my_dog.bark())      # Output: Buddy says Woof!",
        "print(your_dog.bark())    # Output: Max says Woof!"
      ],
      "execution_count": null,
      "outputs": []
    },
    {
      "cell_type": "markdown",
      "metadata": {},
      "source": [
        "## Why `__init__` is Important"
      ]
    },
    {
      "cell_type": "markdown",
      "metadata": {},
      "source": [
        "- 🎯 Sets up the initial state of objects.",
        "- 📝 Ensures every object has the required attributes.",
        "- ⚙️ Runs automatically when a new object is created.",
        "- 🛡️ Provides consistency across all instances."
      ]
    },
    {
      "cell_type": "markdown",
      "metadata": {},
      "source": [
        "## Quick Challenge"
      ]
    },
    {
      "cell_type": "markdown",
      "metadata": {},
      "source": [
        "🤔 **Question:** How would you create a `Book` class with `title`, `author`, and `pages` attributes?",
        "💭 Think about what the `__init__` method would look like..."
      ]
    }
  ],
  "metadata": {
    "kernelspec": {
      "name": "python3",
      "display_name": "Python 3"
    },
    "language_info": {
      "name": "python",
      "version": "3.x"
    }
  },
  "nbformat": 4,
  "nbformat_minor": 5
}