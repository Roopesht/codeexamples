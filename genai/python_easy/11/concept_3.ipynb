{
  "cells": [
    {
      "cell_type": "markdown",
      "metadata": {},
      "source": [
        "# Understanding Instance Attributes and Methods in Python"
      ]
    },
    {
      "cell_type": "markdown",
      "metadata": {},
      "source": [
        "## 📊 Instance Attributes and Methods\n",
        "- 🏷️ **Instance Attributes:** Data unique to each object\n",
        "- ⚡ **Instance Methods:** Functions that work on instance data\n",
        "- 🔗 **self parameter:** Links method to specific instance\n",
        "- 🎯 Each object has its own copy of attributes"
      ]
    },
    {
      "cell_type": "markdown",
      "metadata": {},
      "source": [
        "## 💻 Instance Methods in Action\n",
        "Let's see how we can define a class with attributes and methods, and how they work together."
      ]
    },
    {
      "cell_type": "code",
      "execution_count": null,
      "metadata": {},
      "outputs": [],
      "source": [
        "class Calculator:\n",
        "    def __init__(self, name):\n",
        "        self.name = name  # Store the name of the calculator\n",
        "        self.result = 0     # Initialize result to zero\n",
        "    \n",
        "    def add(self, number):\n",
        "        self.result += number  # Add number to result\n",
        "        return self.result\n",
        "    \n",
        "    def multiply(self, number):\n",
        "        self.result *= number  # Multiply result by number\n",
        "        return self.result\n",
        "    \n",
        "    def reset(self):\n",
        "        self.result = 0  # Reset result to zero\n",
        "    \n",
        "    def get_info(self):\n",
        "        return f\"{self.name}'s result: {self.result}\""
      ]
    },
    {
      "cell_type": "markdown",
      "metadata": {},
      "source": [
        "You can see how the `self` parameter allows each instance of `Calculator` to keep track of its own data. Let's create some objects and see how they behave."
      ]
    },
    {
      "cell_type": "code",
      "execution_count": null,
      "metadata": {},
      "outputs": [],
      "source": [
        "calc1 = Calculator(\"Alice\")\n",
        "calc2 = Calculator(\"Bob\")"
      ]
    },
    {
      "cell_type": "markdown",
      "metadata": {},
      "source": [
        "Now, let's use the instance methods to perform calculations and see how each object maintains its own data."
      ]
    },
    {
      "cell_type": "code",
      "execution_count": null,
      "metadata": {},
      "outputs": [],
      "source": [
        "print(calc1.add(10))      # Output: 10\n",
        "print(calc1.multiply(5))  # Output: 50\n",
        "print(calc1.get_info())   # Output: Alice's result: 50\n",
        "\n",
        "print(calc2.add(20))      # Output: 20\n",
        "print(calc2.get_info())   # Output: Bob's result: 20"
      ]
    },
    {
      "cell_type": "markdown",
      "metadata": {},
      "source": [
        "## 🔍 Instance Independence\n",
        "- 🏠 Each object has its own memory space\n",
        "- 🔒 Changes to one object don't affect others\n",
        "- 📝 Attributes are instance-specific\n",
        "- ⚙️ Methods operate on individual object data"
      ]
    },
    {
      "cell_type": "markdown",
      "metadata": {},
      "source": [
        "## 🤔 Think About It\n",
        "Why do you think `self` is needed in every instance method?\n",
        "\n",
        "💭 Hint: How does Python know which object's data to use?"
      ]
    }
  ],
  "metadata": {
    "kernelspec": {
      "display_name": "Python 3",
      "language": "python",
      "name": "python3"
    },
    "language_info": {
      "name": "python",
      "version": "3.x"
    }
  },
  "nbformat": 4,
  "nbformat_minor": 5
}