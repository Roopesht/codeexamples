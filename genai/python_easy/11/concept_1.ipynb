{
  "cells": [
    {
      "cell_type": "markdown",
      "metadata": {},
      "source": [
        "# Introduction to Object-Oriented Programming (OOP)\n",
        "\n",
        "Welcome to this beginner-friendly tutorial on Object-Oriented Programming, commonly known as OOP.\n",
        "In this lesson, we'll explore the basics of what OOP is, how classes and objects work, and why they are useful."
      ]
    },
    {
      "cell_type": "markdown",
      "metadata": {},
      "source": [
        "## 🧠 What is Object-Oriented Programming?\n",
        "\n",
        "Object-Oriented Programming is a programming paradigm that uses \"objects\" to design software.\n",
        "\n",
        "- **OOP:** A way of programming based on creating objects that combine data and functionality.\n",
        "- **Class:** Think of it as a blueprint or template for creating objects.\n",
        "- **Object:** An individual instance created based on a class blueprint.\n",
        "- **Real-world example:** Consider a \"Car\" as a class. Each specific car (like your red sedan or blue SUV) is an object."
      ]
    },
    {
      "cell_type": "markdown",
      "metadata": {},
      "source": [
        "## Visual Representation\n",
        "\n",
        "Here's a simple visual analogy:\n",
        "\n",
        "![Class as blueprint and objects as instances](images/oop-concept.png)\n",
        "\n",
        "The class (blueprint) is used to create multiple objects (instances). Each object can have its own unique data."
      ]
    },
    {
      "cell_type": "markdown",
      "metadata": {},
      "source": [
        "## 🌍 Real-World Examples\n",
        "\n",
        "- **Bank:** An `Account` class, with each account being an object.\n",
        "- **Social Media:** A `User` class, with each user profile as an object.\n",
        "- **E-commerce:** A `Product` class, with individual product items as objects.\n",
        "- **AI:** A `Model` class, with each trained model as an object."
      ]
    },
    {
      "cell_type": "markdown",
      "metadata": {},
      "source": [
        "## ✨ Why Use OOP?\n",
        "\n",
        "- **Reusability:** Write code once and reuse it multiple times.\n",
        "- **Encapsulation:** Keep data safe and organized.\n",
        "- **Maintainability:** Easier to update and fix bugs.\n",
        "- **Scalability:** Supports large and complex applications."
      ]
    },
    {
      "cell_type": "markdown",
      "metadata": {},
      "source": [
        "## 🤔 Think About It\n",
        "\n",
        "_\"If you were to create a `Student` class for a school management system, what attributes and behaviors would it have?\"_\n",
        "\n",
        "- **Attributes:** name, age, grade, student_id\n",
        "- **Behaviors:** study(), take_exam(), get_grade()"
      ]
    }
  ],
  "metadata": {
    "kernelspec": {
      "name": "python3",
      "display_name": "Python 3",
      "language": "python"
    },
    "language_info": {
      "name": "python",
      "version": "3.x"
    }
  },
  "nbformat": 4,
  "nbformat_minor": 5
}