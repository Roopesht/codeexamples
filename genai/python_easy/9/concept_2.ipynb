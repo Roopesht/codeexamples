{
  "cells": [
    {
      "cell_type": "markdown",
      "metadata": {},
      "source": [
        "# 📖 Concept 2: Reading Files"
      ]
    },
    {
      "cell_type": "markdown",
      "metadata": {},
      "source": [
        "## 📖 Reading Files"
      ]
    },
    {
      "cell_type": "markdown",
      "metadata": {},
      "source": [
        "- 📄 `read()` - Reads entire file content as a string\n",
        "- 📝 `readline()` - Reads one line at a time\n",
        "- 📋 `readlines()` - Reads all lines into a list\n",
        "- 🔄 Files have a pointer that moves as you read\n",
        "- 🎯 Choose the right method based on file size and needs"
      ]
    },
    {
      "cell_type": "markdown",
      "metadata": {},
      "source": [
        "## ![Diagram showing file pointer moving through text while reading](images/file_reading.png)"
      ]
    },
    {
      "cell_type": "markdown",
      "metadata": {},
      "source": [
        "## 💻 Reading Methods in Action"
      ]
    },
    {
      "cell_type": "code",
      "execution_count": null,
      "metadata": {},
      "outputs": [],
      "source": [
        "# Create a sample file first\n",
        "with open('sample.txt', 'w') as f:\n",
        "    f.write('Hello World!\\nWelcome to Python\\nFile handling is fun!')"
      ]
    },
    {
      "cell_type": "code",
      "execution_count": null,
      "metadata": {},
      "outputs": [],
      "source": [
        "# Method 1: read() - entire file\n",
        "file = open('sample.txt', 'r')\n",
        "content = file.read()\n",
        "print('Full content:')\n",
        "print(content)\n",
        "file.close()"
      ]
    },
    {
      "cell_type": "code",
      "execution_count": null,
      "metadata": {},
      "outputs": [],
      "source": [
        "# Method 2: readline() - one line at a time\n",
        "file = open('sample.txt', 'r')\n",
        "first_line = file.readline()\n",
        "second_line = file.readline()\n",
        "print(f'\\nFirst line: {first_line.strip()}')\n",
        "print(f'Second line: {second_line.strip()}')\n",
        "file.close()"
      ]
    },
    {
      "cell_type": "code",
      "execution_count": null,
      "metadata": {},
      "outputs": [],
      "source": [
        "# Method 3: readlines() - all lines as list\n",
        "file = open('sample.txt', 'r')\n",
        "all_lines = file.readlines()\n",
        "print(f'\\nAll lines: {all_lines}')\n",
        "file.close()"
      ]
    },
    {
      "cell_type": "markdown",
      "metadata": {},
      "source": [
        "## 📊 Output"
      ]
    },
    {
      "cell_type": "code",
      "execution_count": null,
      "metadata": {},
      "outputs": [],
      "source": [
        "print('Full content:')\n",
        "print('Hello World!')\n",
        "print('Welcome to Python')\n",
        "print('File handling is fun!')\n",
        "\n",
        "print('\\nFirst line: Hello World!')\n",
        "print('Second line: Welcome to Python')\n",
        "\n",
        "print(\"\\nAll lines: ['Hello World!\\n', 'Welcome to Python\\n', 'File handling is fun!']\")"
      ]
    },
    {
      "cell_type": "markdown",
      "metadata": {},
      "source": [
        "## 🎯 Key Takeaway"
      ]
    },
    {
      "cell_type": "markdown",
      "metadata": {},
      "source": [
        "Different reading methods for different needs - like having different tools in a toolbox!"
      ]
    },
    {
      "cell_type": "markdown",
      "metadata": {},
      "source": [
        "### 💭 Think About It:\n",
        "When would you use readline() instead of read() for a large AI training dataset?"
      ]
    }
  ],
  "metadata": {
    "kernelspec": {
      "display_name": "Python 3",
      "language": "python",
      "name": "python3"
    },
    "language_info": {
      "name": "python",
      "version": "3.x"
    }
  },
  "nbformat": 4,
  "nbformat_minor": 5
}