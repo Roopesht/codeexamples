{
  "cells": [
    {
      "cell_type": "markdown",
      "metadata": {},
      "source": [
        "# Concept 2: Reading Files",
        "\n",
        "📖 \"Reading files is like having conversations with data\""
      ]
    },
    {
      "cell_type": "markdown",
      "metadata": {},
      "source": [
        "## 📖 Concept 2: Reading Files"
      ]
    },
    {
      "cell_type": "markdown",
      "metadata": {},
      "source": [
        "- **File Reading Methods**"
      ]
    },
    {
      "cell_type": "markdown",
      "metadata": {},
      "source": [
        "- 📄 **read()** - Reads entire file at once",
        "- 📝 **readline()** - Reads one line at a time",
        "- 📋 **readlines()** - Reads all lines into a list",
        "- 🔄 **Iteration** - Process file line by line"
      ]
    },
    {
      "cell_type": "markdown",
      "metadata": {},
      "source": [
        "## ![Diagram showing a text file being read in different ways - whole file, line by line, and as list of lines, size 800x600](images/file_reading_methods.png)"
      ]
    },
    {
      "cell_type": "markdown",
      "metadata": {},
      "source": [
        "### Reading Methods in Action"
      ]
    },
    {
      "cell_type": "code",
      "metadata": {},
      "execution_count": null,
      "outputs": [],
      "source": [
        "# Create a sample file first",
        "with open('sample.txt', 'w') as f:",
        "    f.write(\"Welcome to Python!\\nFile handling is fun!\\nLet's master it!\")"
      ]
    },
    {
      "cell_type": "code",
      "metadata": {},
      "execution_count": null,
      "outputs": [],
      "source": [
        "# Method 1: read() - entire file",
        "file = open('sample.txt', 'r')",
        "content = file.read()",
        "print(\"Full content:\", content)",
        "file.close()"
      ]
    },
    {
      "cell_type": "code",
      "metadata": {},
      "execution_count": null,
      "outputs": [],
      "source": [
        "# Method 2: readline() - one line",
        "file = open('sample.txt', 'r')",
        "first_line = file.readline()",
        "second_line = file.readline()",
        "print(\"First line:\", first_line.strip())",
        "print(\"Second line:\", second_line.strip())",
        "file.close()"
      ]
    },
    {
      "cell_type": "code",
      "metadata": {},
      "execution_count": null,
      "outputs": [],
      "source": [
        "# Method 3: readlines() - all lines as list",
        "file = open('sample.txt', 'r')",
        "all_lines = file.readlines()",
        "print(\"All lines:\", all_lines)",
        "file.close()"
      ]
    },
    {
      "cell_type": "markdown",
      "metadata": {},
      "source": [
        "### Output"
      ]
    },
    {
      "cell_type": "code",
      "metadata": {},
      "execution_count": null,
      "outputs": [],
      "source": [
        "print(\"Full content:\", content)",
        "print(\"First line:\", first_line.strip())",
        "print(\"Second line:\", second_line.strip())",
        "print(\"All lines:\", all_lines)"
      ]
    },
    {
      "cell_type": "markdown",
      "metadata": {},
      "source": [
        "🎯 Each method serves different purposes based on file size and processing needs"
      ]
    },
    {
      "cell_type": "markdown",
      "metadata": {},
      "source": [
        "## When to Use Which Method?"
      ]
    },
    {
      "cell_type": "markdown",
      "metadata": {},
      "source": [
        "- 📄 **read()** - Small files, need everything at once",
        "- 📝 **readline()** - Large files, process line by line",
        "- 📋 **readlines()** - Medium files, need list of lines",
        "",
        "🤔 **Question:** Which method would you use for a 1GB log file?"
      ]
    }
  ],
  "metadata": {
    "kernelspec": {
      "display_name": "Python 3",
      "language": "python",
      "name": "python3"
    },
    "language_info": {
      "name": "python",
      "version": "3.x"
    }
  },
  "nbformat": 4,
  "nbformat_minor": 5
}