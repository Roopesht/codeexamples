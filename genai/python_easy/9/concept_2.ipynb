{
  "cells": [
    {
      "cell_type": "markdown",
      "metadata": {},
      "source": [
        "# Reading Files in Python\n",
        "\n",
        "Welcome to this beginner-friendly notebook on how to read files in Python! "
      ]
    },
    {
      "cell_type": "markdown",
      "metadata": {},
      "source": [
        "## 📖 Concept 2: Reading Files\n",
        "\n",
        "In Python, reading files is like having a conversation with the data stored in the file. "
      ]
    },
    {
      "cell_type": "markdown",
      "metadata": {},
      "source": [
        "### File Reading Methods\n",
        "- 📄 `read()` - Reads the entire file at once\n",
        "- 📝 `readline()` - Reads one line at a time\n",
        "- 📋 `readlines()` - Reads all lines into a list\n",
        "- 🔄 Iteration - Process file line by line"
      ]
    },
    {
      "cell_type": "markdown",
      "metadata": {},
      "source": [
        "![Diagram showing a text file being read in different ways - whole file, line by line, and as list of lines, size 800x600](images/file_reading_methods.png)"
      ]
    },
    {
      "cell_type": "markdown",
      "metadata": {},
      "source": [
        "### Reading Methods in Action"
      ]
    },
    {
      "cell_type": "code",
      "execution_count": null,
      "metadata": {},
      "outputs": [],
      "source": [
        "# Create a sample file first\n",
        "with open('sample.txt', 'w') as f:\n",
        "    f.write(\"Welcome to Python!\\nFile handling is fun!\\nLet's master it!\")\n",
        "\n",
        "# Method 1: read() - entire file\n",
        "with open('sample.txt', 'r') as file:\n",
        "    content = file.read()\n",
        "print(\"Full content:\\n\", content)\n",
        "\n",
        "# Method 2: readline() - one line\n",
        "with open('sample.txt', 'r') as file:\n",
        "    first_line = file.readline()\n",
        "    second_line = file.readline()\n",
        "print(\"First line:\", first_line.strip())\n",
        "print(\"Second line:\", second_line.strip())\n",
        "\n",
        "# Method 3: readlines() - all lines as list\n",
        "with open('sample.txt', 'r') as file:\n",
        "    all_lines = file.readlines()\n",
        "print(\"All lines:\", all_lines)"
      ]
    },
    {
      "cell_type": "markdown",
      "metadata": {},
      "source": [
        "### Output\n",
        "```plaintext\n",
        "Full content: Welcome to Python!\n",
        "File handling is fun!\n",
        "Let's master it!\n",
        "\n",
        "First line: Welcome to Python!\n",
        "Second line: File handling is fun!\n",
        "\n",
        "All lines: ['Welcome to Python!\\n', 'File handling is fun!\\n', \"Let's master it!\"]\n",
        "```",
        "\n",
        "🎯 Each method serves different purposes based on file size and processing needs."
      ]
    },
    {
      "cell_type": "markdown",
      "metadata": {},
      "source": [
        "### When to Use Which Method?\n",
        "- 📄 **`read()`** - Small files, need everything at once\n",
        "- 📝 **`readline()`** - Large files, process line by line\n",
        "- 📋 **`readlines()`** - Medium files, need list of lines\n",
        "\n",
        "🤔 **Question:** Which method would you use for a 1GB log file?"
      ]
    }
  ],
  "metadata": {
    "kernelspec": {
      "name": "python3",
      "display_name": "Python 3",
      "language": "python"
    },
    "language_info": {
      "name": "python",
      "version": "3.x"
    }
  },
  "nbformat": 4,
  "nbformat_minor": 5
}