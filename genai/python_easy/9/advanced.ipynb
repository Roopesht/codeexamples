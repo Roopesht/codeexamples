{
  "cells": [
    {
      "cell_type": "markdown",
      "metadata": {},
      "source": [
        "# Mastering Context Managers in Python\n",
        "Welcome to this beginner-friendly guide on context managers in Python!\n",
        "In this notebook, we'll learn how context managers help manage resources safely and make your code cleaner."
      ]
    },
    {
      "cell_type": "markdown",
      "metadata": {},
      "source": [
        "## Introduction to Context Managers\n",
        "- Context managers automatically handle resource management such as opening and closing files.\n",
        "- They help ensure resources are properly released, even if errors happen.\n",
        "- The most common example is using the `with` statement when working with files."
      ]
    },
    {
      "cell_type": "markdown",
      "metadata": {},
      "source": [
        "## Basic Example: Writing to a File\n",
        "Let's see how to write to a file using a context manager:"
      ]
    },
    {
      "cell_type": "code",
      "execution_count": null,
      "metadata": {},
      "outputs": [],
      "source": [
        "# Writing to a file using a context manager\n",
        "with open('data.txt', 'w') as file:\n",
        "    file.write(\"Using context manager\\n\")\n",
        "    file.write(\"File closes automatically!\\n\")\n",
        "# After this block, the file is automatically closed."
      ]
    },
    {
      "cell_type": "markdown",
      "metadata": {},
      "source": [
        "## Multiple Files Handling\n",
        "You can also work with multiple files simultaneously:\n",
        "- Reading from an input file\n",
        "- Writing to an output file\n",
        "Here's how:"
      ]
    },
    {
      "cell_type": "code",
      "execution_count": null,
      "metadata": {},
      "outputs": [],
      "source": [
        "with open('input.txt', 'r') as infile, open('output.txt', 'w') as outfile:\n",
        "    content = infile.read()\n",
        "    outfile.write(content.upper())"
      ]
    },
    {
      "cell_type": "markdown",
      "metadata": {},
      "source": [
        "## Binary File Operations\n",
        "Context managers are useful for binary files too, such as images or videos.\n",
        "- Example: Copy an image file safely:"
      ]
    },
    {
      "cell_type": "code",
      "execution_count": null,
      "metadata": {},
      "outputs": [],
      "source": [
        "with open('image_copy.jpg', 'wb') as dest:\n",
        "    with open('original.jpg', 'rb') as source:\n",
        "        dest.write(source.read())"
      ]
    },
    {
      "cell_type": "markdown",
      "metadata": {},
      "source": [
        "## Exception-Safe File Handling\n",
        "Using `try-except` blocks with `with` ensures even if an error occurs, resources are released properly.\n",
        "Example:"
      ]
    },
    {
      "cell_type": "code",
      "execution_count": null,
      "metadata": {},
      "outputs": [],
      "source": [
        "try:\n",
        "    with open('maybe_missing.txt', 'r') as f:\n",
        "        data = f.read()\n",
        "        print(data)\n",
        "except FileNotFoundError:\n",
        "    print(\"File not found, but resources are safely released!\")"
      ]
    },
    {
      "cell_type": "markdown",
      "metadata": {},
      "source": [
        "## Why Use Context Managers?\n",
        "- Automatic resource cleanup\n",
        "- Exception-safe operations\n",
        "- Cleaner, more readable code\n",
        "- Professional Python development standard"
      ]
    },
    {
      "cell_type": "markdown",
      "metadata": {},
      "source": [
        "## Summary\n",
        "- Context managers simplify resource management.\n",
        "- They ensure files and other resources are properly closed.\n",
        "- Use `with` statements for safer, cleaner code!"
      ]
    }
  ],
  "metadata": {
    "kernelspec": {
      "name": "python3",
      "display_name": "Python 3",
      "language": "python"
    },
    "language_info": {
      "name": "python",
      "version": "3.x"
    }
  },
  "nbformat": 4,
  "nbformat_minor": 5
}