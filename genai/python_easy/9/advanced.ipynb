{
  "cells": [
    {
      "cell_type": "markdown",
      "metadata": {},
      "source": [
        "# Understanding Context Managers in Python"
      ]
    },
    {
      "cell_type": "markdown",
      "metadata": {},
      "source": [
        "In this notebook, we'll learn about a very useful feature in Python called **context managers**. They help make your code cleaner, safer, and more efficient when working with files."
      ]
    },
    {
      "cell_type": "markdown",
      "metadata": {},
      "source": [
        "## What is a Context Manager?\n",
        "\n",
        "A context manager is a way to set up and tear down resources automatically. The most common example is handling files with the `with` statement, which ensures that a file is properly closed after we're done working with it.\n",
        "\n",
        "This is safer and more convenient than opening and closing files manually."
      ]
    },
    {
      "cell_type": "code",
      "execution_count": null,
      "metadata": {},
      "outputs": [],
      "source": [
        "# Example of opening a file without a context manager\n",
        "file = open('example.txt', 'w')\n",
        "file.write('Hello!')\n",
        "file.close()"
      ]
    },
    {
      "cell_type": "markdown",
      "metadata": {},
      "source": [
        "### Using a Context Manager to Handle Files"
      ]
    },
    {
      "cell_type": "code",
      "execution_count": null,
      "metadata": {},
      "outputs": [],
      "source": [
        "# The recommended way - using 'with'\n",
        "with open('example.txt', 'w') as file:\n",
        "    file.write('Using context manager\\n')\n",
        "    file.write('File closes automatically!')\n",
        "# File is automatically closed after this block"
      ]
    },
    {
      "cell_type": "markdown",
      "metadata": {},
      "source": [
        "### Handling Multiple Files Simultaneously"
      ]
    },
    {
      "cell_type": "code",
      "execution_count": null,
      "metadata": {},
      "outputs": [],
      "source": [
        "# Writing to one file and reading from another at the same time\n",
        "with open('input.txt', 'r') as infile, open('output.txt', 'w') as outfile:\n",
        "    content = infile.read()\n",
        "    outfile.write(content.upper())"
      ]
    },
    {
      "cell_type": "markdown",
      "metadata": {},
      "source": [
        "### Binary File Operations"
      ]
    },
    {
      "cell_type": "code",
      "execution_count": null,
      "metadata": {},
      "outputs": [],
      "source": [
        "# Copying an image file in binary mode\n",
        "with open('original.jpg', 'rb') as source:\n",
        "    data = source.read()\n",
        "with open('image_copy.jpg', 'wb') as dest:\n",
        "    dest.write(data)"
      ]
    },
    {
      "cell_type": "markdown",
      "metadata": {},
      "source": [
        "### Exception-safe File Handling"
      ]
    },
    {
      "cell_type": "code",
      "execution_count": null,
      "metadata": {},
      "outputs": [],
      "source": [
        "# Trying to read a file that might not exist\n",
        "try:\n",
        "    with open('maybe_missing.txt', 'r') as f:\n",
        "        data = f.read()\n",
        "        print(data)\n",
        "except FileNotFoundError:\n",
        "    print(\"File not found, but no resource leak!\")"
      ]
    },
    {
      "cell_type": "markdown",
      "metadata": {},
      "source": [
        "## Why are Context Managers Important?\n",
        "\n",
        "• Automatic resource cleanup ensures files are closed properly.\n",
        "• Exception-safe operations prevent resource leaks even when errors occur.\n",
        "• They lead to cleaner and more readable code.\n",
        "• Using them is a standard practice in professional Python development."
      ]
    }
  ],
  "metadata": {
    "kernelspec": {
      "name": "python3",
      "display_name": "Python 3",
      "language": "python"
    },
    "language_info": {
      "name": "python",
      "version": "3.x",
      "mimetype": "text/x-python",
      "codemirror_mode": {
        "name": "python",
        "version": 3
      },
      "pygments_lexer": "python3",
      "total_lines": 31,
      "file_extension": ".py"
    }
  },
  "nbformat": 4,
  "nbformat_minor": 5
}