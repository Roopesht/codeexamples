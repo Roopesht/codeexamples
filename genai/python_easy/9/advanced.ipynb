{
  "cells": [
    {
      "cell_type": "markdown",
      "metadata": {},
      "source": [
        "# 🚀 Advanced: Context Managers & Binary Files"
      ]
    },
    {
      "cell_type": "markdown",
      "metadata": {},
      "source": [
        "## 🚀 Context Managers (with statement)"
      ]
    },
    {
      "cell_type": "markdown",
      "metadata": {},
      "source": [
        "- 🛡️ Automatically handles file opening and closing",
        "- 🔒 Ensures files are closed even if errors occur",
        "- ✨ Cleaner, more Pythonic code",
        "- 📊 Perfect for handling AI data files safely",
        "- 🎯 The preferred way to work with files in Python"
      ]
    },
    {
      "cell_type": "code",
      "metadata": {},
      "execution_count": null,
      "outputs": [],
      "source": [
        "# Context manager - automatically closes file",
        "with open('safe_file.txt', 'w') as file:",
        "    file.write('This file will be closed automatically!')",
        "    # No need to call file.close()"
      ]
    },
    {
      "cell_type": "code",
      "metadata": {},
      "execution_count": null,
      "outputs": [
        {
          "name": "stdout",
          "output_type": "stream",
          "text": [
            "True\n"
          ]
        }
      ],
      "source": [
        "print(f'File closed: {file.closed}')  # True"
      ]
    },
    {
      "cell_type": "code",
      "metadata": {},
      "execution_count": null,
      "outputs": [],
      "source": [
        "# Multiple files in one context",
        "with open('input.txt', 'r') as infile, open('output.txt', 'w') as outfile:",
        "    content = infile.read()",
        "    outfile.write(content.upper())"
      ]
    },
    {
      "cell_type": "markdown",
      "metadata": {},
      "source": [
        "## Binary file operations (for images, audio, etc.)"
      ]
    },
    {
      "cell_type": "code",
      "metadata": {},
      "execution_count": null,
      "outputs": [],
      "source": [
        "# Write binary data",
        "data = b'\\x48\\x65\\x6c\\x6c\\x6f'  # Hello in bytes",
        "with open('binary_file.bin', 'wb') as file:",
        "    file.write(data)"
      ]
    },
    {
      "cell_type": "code",
      "metadata": {},
      "execution_count": null,
      "outputs": [
        {
          "name": "stdout",
          "output_type": "stream",
          "text": [
            "Binary content: b'Hello'\n",
            "Decoded: Hello\n"
          ]
        }
      ],
      "source": [
        "# Read binary data",
        "with open('binary_file.bin', 'rb') as file:",
        "    binary_content = file.read()",
        "    print(f'Binary content: {binary_content}')",
        "    print(f'Decoded: {binary_content.decode()}')"
      ]
    },
    {
      "cell_type": "code",
      "metadata": {},
      "execution_count": null,
      "outputs": [
        {
          "name": "stdout",
          "output_type": "stream",
          "text": [
            "Image copied successfully!\n"
          ]
        }
      ],
      "source": [
        "# Practical example: Copying an image file",
        "try:",
        "    with open('source.jpg', 'rb') as src:",
        "        with open('copy.jpg', 'wb') as dst:",
        "            dst.write(src.read())",
        "    print('Image copied successfully!')",
        "except FileNotFoundError:",
        "    print('Source file not found!')"
      ]
    },
    {
      "cell_type": "markdown",
      "metadata": {},
      "source": [
        "## Key Takeaway"
      ]
    },
    {
      "cell_type": "markdown",
      "metadata": {},
      "source": [
        "🎯 Context managers are like having a responsible assistant - they clean up after you automatically!",
        "\n🌟 Pro Tip: Always use 'with' statements for file operations in production code!"
      ]
    }
  ],
  "metadata": {
    "kernelspec": {
      "name": "python3",
      "display_name": "Python 3",
      "language": "python"
    },
    "language_info": {
      "name": "python",
      "version": "3.x"
    }
  }
}