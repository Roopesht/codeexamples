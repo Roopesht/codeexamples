{
 "cells": [
  {
   "cell_type": "markdown",
   "metadata": {},
   "source": [
    "# 🖼️ Compress Image by Reducing Dimensions\n",
    "\n",
    "This notebook will guide you step-by-step to write a Python function that reduces the file size of an image **below 100KB** by **resizing its dimensions**, using the Pillow library.\n",
    "\n",
    "We will:\n",
    "- Check image size\n",
    "- Resize only if needed\n",
    "- Save the resized image efficiently"
   ]
  },
  {
   "cell_type": "code",
   "execution_count": null,
   "metadata": {},
   "outputs": [],
   "source": [
    "# Install Pillow if not already installed\n",
    "!pip install Pillow\n",
    "\n",
    "from PIL import Image\n",
    "import os\n",
    "import shutil"
   ]
  },
  {
   "cell_type": "markdown",
   "metadata": {},
   "source": [
    "## ✅ Step 1: Load the image and check its file size\n",
    "\n",
    "Let’s define the input image path and check if it's already under 100KB."
   ]
  },
  {
   "cell_type": "code",
   "execution_count": null,
   "metadata": {},
   "outputs": [],
   "source": [
    "input_path = 'input.jpg'  # Change to your image file path\n",
    "output_path = 'output.jpg'\n",
    "target_size_kb = 100\n",
    "target_size = target_size_kb * 1024  # in bytes\n",
    "\n",
    "# Check original size\n",
    "original_size = os.path.getsize(input_path)\n",
    "print(f\"Original size: {original_size/1024:.2f} KB\")\n",
    "\n",
    "if original_size <= target_size:\n",
    "    shutil.copy(input_path, output_path)\n",
    "    print(\"✅ Image is already under 100KB. Copied without changes.\")\n",
    "else:\n",
    "    print(\"⏳ Image is over 100KB. Proceeding to resize...\")"
   ]
  },
  {
   "cell_type": "markdown",
   "metadata": {},
   "source": [
    "## 🖼️ Step 2: Resize the image by reducing dimensions\n",
    "\n",
    "We reduce the image width and height by 90% in each iteration until file size is under 100KB."
   ]
  },
  {
   "cell_type": "code",
   "execution_count": null,
   "metadata": {},
   "outputs": [],
   "source": [
    "img = Image.open(input_path).convert('RGB')  # Ensure RGB format for JPEG\n",
    "width, height = img.size\n",
    "scale = 0.9\n",
    "\n",
    "# Use temp image for saving trials\n",
    "temp_img = img\n",
    "\n",
    "while True:\n",
    "    # Resize\n",
    "    width = int(width * scale)\n",
    "    height = int(height * scale)\n",
    "    temp_img = img.resize((width, height), Image.ANTIALIAS)\n",
    "\n",
    "    # Save and check size\n",
    "    temp_img.save(output_path, format='JPEG', optimize=True, quality=85)\n",
    "    current_size = os.path.getsize(output_path)\n",
    "    print(f\"Trying size: {width}x{height} -> {current_size/1024:.2f} KB\")\n",
    "\n",
    "    if current_size <= target_size or width < 100 or height < 100:\n",
    "        break\n",
    "\n",
    "print(\"✅ Final image saved:\", output_path)"
   ]
  },
  {
   "cell_type": "markdown",
   "metadata": {},
   "source": [
    "## 🔁 Step 3: Wrap it all into a reusable function\n",
    "\n",
    "Let’s now create a function `compress_by_resizing()` that handles this entire logic."
   ]
  },
  {
   "cell_type": "code",
   "execution_count": null,
   "metadata": {},
   "outputs": [],
   "source": [
    "def compress_by_resizing(input_path, output_path, target_size_kb=100):\n",
    "    target_size = target_size_kb * 1024\n",
    "\n",
    "    if os.path.getsize(input_path) <= target_size:\n",
    "        shutil.copy(input_path, output_path)\n",
    "        return \"✅ Image copied. Already under 100KB.\"\n",
    "\n",
    "    img = Image.open(input_path).convert('RGB')\n",
    "    width, height = img.size\n",
    "    scale = 0.9\n",
    "\n",
    "    while True:\n",
    "        width = int(width * scale)\n",
    "        height = int(height * scale)\n",
    "        resized_img = img.resize((width, height), Image.ANTIALIAS)\n",
    "        resized_img.save(output_path, format='JPEG', optimize=True, quality=85)\n",
    "\n",
    "        if os.path.getsize(output_path) <= target_size or width < 100 or height < 100:\n",
    "            break\n",
    "\n",
    "    return f\"✅ Compressed to {width}x{height}, size: {os.path.getsize(output_path)/1024:.2f} KB\"\n",
    "\n",
    "# Try it\n",
    "print(compress_by_resizing(\"input.jpg\", \"output_compressed.jpg\"))"
   ]
  },
  {
   "cell_type": "markdown",
   "metadata": {},
   "source": [
    "## 🌟 Bonus: Batch Compress All Images in a Folder\n",
    "\n",
    "Extend the function to loop over all `.jpg` images in a folder and compress them using the same logic.\n",
    "Try it yourself!"
   ]
  }
 ],
 "metadata": {
  "kernelspec": {
   "display_name": "Python 3",
   "language": "python",
   "name": "python3"
  },
  "language_info": {
   "name": "python",
   "version": ""
  }
 },
 "nbformat": 4,
 "nbformat_minor": 5
}
