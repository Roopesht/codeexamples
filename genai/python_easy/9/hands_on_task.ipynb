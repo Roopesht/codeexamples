{
  "cells": [
    {
      "cell_type": "markdown",
      "metadata": {},
      "source": [
        "# 💻 Personal Journal App\n",
        "\n",
        "Welcome! In this notebook, we will build a simple digital journal (diary) application using Python.\n",
        "You will learn how to save your thoughts with timestamps, view past entries, and search entries by date.\n",
        "\n",
        "Let's get started!"
      ]
    },
    {
      "cell_type": "markdown",
      "metadata": {},
      "source": [
        "## 📋 Task Requirements\n",
        "\n",
        "- ✍️ Allow users to write new journal entries\n",
        "- 📖 Display previous entries with dates\n",
        "- 💾 Save entries to a file persistently\n",
        "- 🔍 Search entries by date\n",
        "- 📱 Provide a simple menu-driven interface"
      ]
    },
    {
      "cell_type": "markdown",
      "metadata": {},
      "source": [
        "## 🛠️ Implementation Steps\n",
        "\n",
        "1. 📅 **Setup:** Import datetime for timestamps\n",
        "2. 🎯 **Menu:** Create options (Write, Read, Search, Exit)\n",
        "3. ✍️ **Write:** Save entry with date to file\n",
        "4. 📖 **Read:** Display all entries from file\n",
        "5. 🔍 **Search:** Find entries by specific date\n",
        "6. 🔄 **Loop:** Keep program running until user exits"
      ]
    },
    {
      "cell_type": "markdown",
      "metadata": {},
      "source": [
        "## 📝 Example Input/Output\n",
        "\n",
        "```plaintext\n",
        "=== Personal Journal ===\n",
        "1. Write new entry\n",
        "2. Read all entries\n",
        "3. Search by date\n",
        "4. Exit\n",
        "\n",
        "Choice: 1\n",
        "Enter your journal entry: Today I learned about file handling in Python! It's amazing how we can persist data.\n",
        "\n",
        "Entry saved successfully!\n",
        "\n",
        "Choice: 2\n",
        "=== Your Journal Entries ===\n",
        "2024-01-15 10:30: Today I learned about file handling in Python! It's amazing how we can persist data.\n",
        "```"
      ]
    },
    {
      "cell_type": "markdown",
      "metadata": {},
      "source": [
        "## 💡 Code Structure Hint\n",
        "\n",
        "```python\n",
        "import datetime\n",
        "\n",
        "def write_entry():\n",
        "    # Get user input\n",
        "    # Add timestamp\n",
        "    # Save to journal.txt\n",
        "\n",
        "def read_entries():\n",
        "    # Open journal.txt\n",
        "    # Display all entries\n",
        "    \n",
        "def search_by_date():\n",
        "    # Get date from user\n",
        "    # Search through entries\n",
        "    \n",
        "def main():\n",
        "    # Display menu\n",
        "    # Handle user choices\n",
        "    # Loop until exit\n",
        "\n",
        "if __name__ == \"__main__\":\n",
        "    main()\n",
        "```"
      ]
    },
    {
      "cell_type": "markdown",
      "metadata": {},
      "source": [
        "## 🎯 Task Learning Objectives\n",
        "\n",
        "- 📁 **Master file operations:** Read, write, append\n",
        "- 🕒 **Work with timestamps:** datetime module\n",
        "- 🎮 **Build user interfaces:** Menu-driven programs\n",
        "- 🔄 **Handle user input:** Input validation and loops\n",
        "\n",
        "💪 Time to code: 30 minutes - You've got this!"
      ]
    },
    {
      "cell_type": "code",
      "execution_count": null,
      "metadata": {},
      "outputs": [],
      "source": [
        "import datetime\n",
        "\n",
        "def write_entry():\n",
        "    entry = input(\"Enter your journal entry: \")\n",
        "    timestamp = datetime.datetime.now().strftime(\"%Y-%m-%d %H:%M\")\n",
        "    with open(\"journal.txt\", \"a\") as file:\n",
        "        file.write(f\"{timestamp}: {entry}\\n\")\n",
        "    print(\"Entry saved successfully!\\n\")"
      ]
    },
    {
      "cell_type": "code",
      "execution_count": null,
      "metadata": {},
      "outputs": [],
      "source": [
        "def read_entries():\n",
        "    try:\n",
        "        with open(\"journal.txt\", \"r\") as file:\n",
        "            content = file.read()\n",
        "            if content:\n",
        "                print(\"=== Your Journal Entries ===\")\n",
        "                print(content)\n",
        "            else:\n",
        "                print(\"No entries found.\")\n",
        "    except FileNotFoundError:\n",
        "        print(\"No journal entries found. Start writing!\")"
      ]
    },
    {
      "cell_type": "code",
      "execution_count": null,
      "metadata": {},
      "outputs": [],
      "source": [
        "def search_by_date():\n",
        "    date_str = input(\"Enter the date (YYYY-MM-DD): \")\n",
        "    try:\n",
        "        search_date = datetime.datetime.strptime(date_str, \"%Y-%m-%d\")\n",
        "        found = False\n",
        "        with open(\"journal.txt\", \"r\") as file:\n",
        "            print(\"\\nEntries on\", date_str, \":\")\n",
        "            for line in file:\n",
        "                if line.startswith(search_date.strftime(\"%Y-%m-%d\")):\n",
        "                    print(line.strip())\n",
        "                    found = True\n",
        "        if not found:\n",
        "            print(\"No entries found for this date.\")\n",
        "    except (FileNotFoundError, ValueError):\n",
        "        print(\"No entries found or invalid date format.\")"
      ]
    },
    {
      "cell_type": "code",
      "execution_count": null,
      "metadata": {},
      "outputs": [],
      "source": [
        "def main():\n",
        "    while True:\n",
        "        print(\"=== Personal Journal ===\")\n",
        "        print(\"1. Write new entry\")\n",
        "        print(\"2. Read all entries\")\n",
        "        print(\"3. Search by date\")\n",
        "        print(\"4. Exit\")\n",
        "        choice = input(\"Choice: \")\n",
        "        if choice == '1':\n",
        "            write_entry()\n",
        "        elif choice == '2':\n",
        "            read_entries()\n",
        "        elif choice == '3':\n",
        "            search_by_date()\n",
        "        elif choice == '4':\n",
        "            print(\"Goodbye!\")\n",
        "            break\n",
        "        else:\n",
        "            print(\"Invalid choice, please try again.\\n\")\n",
        "\n",
        "if __name__ == \"__main__\":\n",
        "    main()"
      ]
    }
  ],
  "metadata": {
    "kernelspec": {
      "name": "python3",
      "display_name": "Python 3",
      "language": "python"
    },
    "language_info": {
      "name": "python",
      "version": "3.x"
    }
  },
  "nbformat": 4,
  "nbformat_minor": 5
}