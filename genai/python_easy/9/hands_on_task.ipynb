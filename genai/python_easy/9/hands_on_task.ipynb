{
  "cells": [
    {
      "cell_type": "markdown",
      "metadata": {},
      "source": [
        "# 💻 Hands-on Task: Personal Journal App"
      ]
    },
    {
      "cell_type": "markdown",
      "metadata": {},
      "source": [
        "## 📔 Personal Journal Application\n",
        "Build a program that helps users maintain a digital journal with daily entries!\n",
        "\n",
        "- ✍️ Write daily entries to a file\n",
        "- 📖 Read and display previous entries\n",
        "- 📅 Add timestamps to entries\n",
        "- 🔍 Search through old entries\n",
        "\n",
        "💡 *Every expert was once a beginner. Every pro was once an amateur!*"
      ]
    },
    {
      "cell_type": "markdown",
      "metadata": {},
      "source": [
        "## 📋 Task Requirements"
      ]
    },
    {
      "cell_type": "markdown",
      "metadata": {},
      "source": [
        "- 🎯 Create a menu-driven program with options\n",
        "- 📝 Allow users to write new journal entries\n",
        "- 📖 Display all previous entries with timestamps\n",
        "- 🔍 Search for entries containing specific keywords\n",
        "- 📊 Show journal statistics (total entries, word count)\n",
        "- 💾 Store all data in a text file persistently"
      ]
    },
    {
      "cell_type": "markdown",
      "metadata": {},
      "source": [
        "## 🚀 Step-by-Step Implementation"
      ]
    },
    {
      "cell_type": "markdown",
      "metadata": {},
      "source": [
        "1. **Step 1:** Create the main menu function\n",
        "2. **Step 2:** Implement write_entry() function\n",
        "3. **Step 3:** Create read_entries() function\n",
        "4. **Step 4:** Add search_entries() function\n",
        "5. **Step 5:** Implement journal_stats() function\n",
        "6. **Step 6:** Connect everything with a main loop\n",
        "\n",
        "💡 **Bonus:** Add entry deletion and editing features!"
      ]
    },
    {
      "cell_type": "markdown",
      "metadata": {},
      "source": [
        "## 📊 Sample Input/Output"
      ]
    },
    {
      "cell_type": "code",
      "metadata": {},
      "execution_count": null,
      "outputs": [],
      "source": [
        "=== Personal Journal ===\n",
        "1. Write new entry\n",
        "2. Read all entries\n",
        "3. Search entries\n",
        "4. Journal statistics\n",
        "5. Exit\n",
        "\n",
        "Choice: 1\n",
        "Enter your journal entry: Had a great day learning Python file handling!\n",
        "\n",
        "Entry saved successfully!\n",
        "\n",
        "Choice: 2\n",
        "=== Journal Entries ===\n",
        "[2024-01-15 14:30:25] Had a great day learning Python file handling!\n",
        "[2024-01-14 09:15:10] Started learning Python programming today!\n",
        "\n",
        "Choice: 4\n",
        "=== Journal Statistics ===\n",
        "Total entries: 2\n",
        "Total words: 19\n",
        "Average words per entry: 9.5"
      ]
    },
    {
      "cell_type": "markdown",
      "metadata": {},
      "source": [
        "## 🏗️ Code Structure Template"
      ]
    },
    {
      "cell_type": "code",
      "metadata": {},
      "execution_count": null,
      "outputs": [],
      "source": [
        "import datetime\n",
        "\n",
        "JOURNAL_FILE = 'my_journal.txt'\n",
        "\n",
        "def write_entry():\n",
        "    '''Write a new journal entry'''\n",
        "    # Get user input\n",
        "    # Add timestamp\n",
        "    # Append to file\n",
        "    pass\n",
        "\n",
        "def read_entries():\n",
        "    '''Read and display all entries'''\n",
        "    # Read from file\n",
        "    # Display formatted entries\n",
        "    pass\n",
        "\n",
        "def search_entries(keyword):\n",
        "    '''Search for entries containing keyword'''\n",
        "    # Read file\n",
        "    # Filter entries\n",
        "    # Display matches\n",
        "    pass\n",
        "\n",
        "def journal_stats():\n",
        "    '''Display journal statistics'''\n",
        "    # Calculate total entries, total words, average words per entry\n",
        "    pass\n",
        "\n",
        "def main():\n",
        "    '''Main program loop'''\n",
        "    while True:\n",
        "        # Display menu\n",
        "        # Get user choice\n",
        "        # Call appropriate function\n",
        "        pass\n",
        "\n",
        "if __name__ == '__main__':\n",
        "    main()"
      ]
    },
    {
      "cell_type": "markdown",
      "metadata": {},
      "source": [
        "## 🎉 Task Completion"
      ]
    },
    {
      "cell_type": "markdown",
      "metadata": {},
      "source": [
        "Congratulations! You've built a functional journal application that:\n",
        "- ✅ Persists data across program runs\n",
        "- ✅ Provides a user-friendly interface\n",
        "- ✅ Demonstrates real-world file handling\n",
        "- ✅ Can be extended with more features\n",
        "\n",
        "🚀 Next Level: Add features like entry categories, data backup, or even a simple GUI!"
      ]
    }
  ],
  "metadata": {
    "kernelspec": {
      "display_name": "Python 3",
      "language": "python",
      "name": "python3"
    },
    "language_info": {
      "name": "python",
      "version": "3.x"
    }
  }
}