{
  "cells": [
    {
      "cell_type": "markdown",
      "metadata": {},
      "source": [
        "# Personal Journal App\n",
        "\n",
        "Welcome! In this notebook, we will build a simple digital diary that allows you to write, read, and search your journal entries. This project will help you learn file handling, working with dates, and creating user menus in Python."
      ]
    },
    {
      "cell_type": "markdown",
      "metadata": {},
      "source": [
        "## Task Overview\n",
        "\n",
        "- Write new journal entries that include the date and time.\n",
        "- Read all saved entries.\n",
        "- Search entries by specific date.\n",
        "- Save entries persistently using files.\n",
        "- Create a simple menu-driven interface for easy interaction."
      ]
    },
    {
      "cell_type": "markdown",
      "metadata": {},
      "source": [
        "## Implementation Steps\n",
        "\n",
        "1. Import the `datetime` module to handle timestamps.\n",
        "2. Create functions for writing, reading, and searching journal entries.\n",
        "3. Make a main function to display options and handle user choices.\n",
        "4. Use a loop to keep the program running until the user decides to exit."
      ]
    },
    {
      "cell_type": "markdown",
      "metadata": {},
      "source": [
        "## Example Interaction\n",
        "\n",
        "=== Personal Journal ===\n",
        "1. Write new entry\n",
        "2. Read all entries\n",
        "3. Search by date\n",
        "4. Exit\n",
        "\n",
        "Choice: 1\n",
        "Enter your journal entry: Today I learned about file handling in Python! It's amazing how we can persist data.\n",
        "\n",
        "Entry saved successfully!\n",
        "\n",
        "Choice: 2\n",
        "=== Your Journal Entries ===\n",
        "2024-01-15 10:30: Today I learned about file handling in Python! It's amazing how we can persist data."
      ]
    },
    {
      "cell_type": "markdown",
      "metadata": {},
      "source": [
        "## Code Structure Hint\n",
        "\n",
        "```python\n",
        "import datetime\n",
        "\n",
        "def write_entry():\n",
        "    # Get user input\n",
        "    # Add timestamp\n",
        "    # Save to journal.txt\n",
        "\n",
        "def read_entries():\n",
        "    # Open journal.txt\n",
        "    # Display all entries\n",
        "    \n",
        "def search_by_date():\n",
        "    # Get date from user\n",
        "    # Search through entries\n",
        "    \n",
        "def main():\n",
        "    # Display menu\n",
        "    # Handle user choices\n",
        "    # Loop until exit\n",
        "\n",
        "if __name__ == \"__main__\":\n",
        "    main()\n",
        "```\n",
        "\n",
        "🚀 [Start Coding in Colab](https://colab.research.google.com/github/Roopesht/codeexamples/blob/main/genai/python_easy/9/task.ipynb)"
      ]
    },
    {
      "cell_type": "markdown",
      "metadata": {},
      "source": [
        "## Learning Objectives\n",
        "\n",
        "- Master file operations: Read, write, append.\n",
        "- Work with timestamps using the `datetime` module.\n",
        "- Build user-friendly menu-driven programs.\n",
        "- Handle user input with validation and loops.\n",
        "\n",
        "Time to start coding! You can do this in about 30 minutes."
      ]
    },
    {
      "cell_type": "code",
      "execution_count": null,
      "metadata": {},
      "outputs": [],
      "source": [
        "import datetime\n",
        "\n",
        "def write_entry():\n",
        "    entry = input(\"Enter your journal entry: \")\n",
        "    timestamp = datetime.datetime.now().strftime(\"%Y-%m-%d %H:%M\")\n",
        "    with open(\"journal.txt\", \"a\") as file:\n",
        "        file.write(f\"{timestamp}: {entry}\\n\")\n",
        "    print(\"Entry saved successfully!\")\n",
        "\n",
        "def read_entries():\n",
        "    try:\n",
        "        with open(\"journal.txt\", \"r\") as file:\n",
        "            content = file.read()\n",
        "            if content.strip():\n",
        "                print(\"=== Your Journal Entries ===\")\n",
        "                print(content)\n",
        "            else:\n",
        "                print(\"No entries found.\")\n",
        "    except FileNotFoundError:\n",
        "        print(\"No journal file found. Write an entry to create one.\")\n",
        "\n",
        "def search_by_date():\n",
        "    date = input(\"Enter date to search (YYYY-MM-DD): \")\n",
        "    found = False\n",
        "    try:\n",
        "        with open(\"journal.txt\", \"r\") as file:\n",
        "            for line in file:\n",
        "                if line.startswith(date):\n",
        "                    print(line.strip())\n",
        "                    found = True\n",
        "        if not found:\n",
        "            print(f\"No entries found for {date}.\")\n",
        "    except FileNotFoundError:\n",
        "        print(\"No journal file found. Write an entry to create one.\")\n",
        "\n",
        "def main():\n",
        "    while True:\n",
        "        print(\"\n=== Personal Journal ===\n\" )\n",
        "        print(\"1. Write new entry\")\n",
        "        print(\"2. Read all entries\")\n",
        "        print(\"3. Search entries by date\")\n",
        "        print(\"4. Exit\")\n",
        "        choice = input(\"Choice: \")\n",
        "        if choice == '1':\n",
        "            write_entry()\n",
        "        elif choice == '2':\n",
        "            read_entries()\n",
        "        elif choice == '3':\n",
        "            search_by_date()\n",
        "        elif choice == '4':\n",
        "            print(\"Goodbye!\")\n",
        "            break\n",
        "        else:\n",
        "            print(\"Invalid choice. Please try again.\")"
      ]
    }
  ],
  "metadata": {
    "kernelspec": {
      "display_name": "Python 3",
      "language": "python",
      "name": "python3"
    },
    "language_info": {
      "name": "python",
      "version": "3.x"
    }
  },
  "nbformat": 4,
  "nbformat_minor": 5
}