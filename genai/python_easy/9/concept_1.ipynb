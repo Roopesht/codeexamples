{
  "cells": [
    {
      "cell_type": "markdown",
      "metadata": {},
      "source": [
        "# 🔓 Concept 1: Opening and Closing Files"
      ]
    },
    {
      "cell_type": "markdown",
      "metadata": {},
      "source": [
        "### 📂 Files are external storage that persist data beyond program execution\n",
        "### 🔑 Python's `open()` function creates a file object\n",
        "### 🎭 File modes determine how you can interact with files\n",
        "### 🔒 Always close files to free up system resources\n",
        "### 💡 Think of files like books in a library - you check them out and return them!"
      ]
    },
    {
      "cell_type": "markdown",
      "metadata": {},
      "source": [
        "### 📋 File Modes"
      ]
    },
    {
      "cell_type": "markdown",
      "metadata": {},
      "source": [
        "![File modes diagram showing different access types](@images/file_modes.png)"
      ]
    },
    {
      "cell_type": "markdown",
      "metadata": {},
      "source": [
        "- **'r'** - Read only (default)\n",
        "- **'w'** - Write (overwrites existing)\n",
        "- **'a'** - Append (adds to end)\n",
        "- **'x'** - Create new file (fails if exists)\n",
        "- **'b'** - Binary mode (e.g., 'rb', 'wb')\n",
        "- **'t'** - Text mode (default)"
      ]
    },
    {
      "cell_type": "markdown",
      "metadata": {},
      "source": [
        "### 💻 Basic File Operations"
      ]
    },
    {
      "cell_type": "code",
      "execution_count": null,
      "metadata": {},
      "outputs": [],
      "source": [
        "# Opening a file\n",
        "file = open('data.txt', 'r')  # Open for reading\n",
        "print(file)  # Shows file object info\n",
        "\n",
        "# Always close the file\n",
        "file.close()\n",
        "\n",
        "# Opening with different modes\n",
        "write_file = open('output.txt', 'w')  # Open for writing\n",
        "append_file = open('log.txt', 'a')    # Open for appending\n",
        "\n",
        "# Remember to close them\n",
        "write_file.close()\n",
        "append_file.close()\n",
        "\n",
        "# Check if file is closed\n",
        "print(f\"File closed: {file.closed}\")  # True"
      ]
    },
    {
      "cell_type": "markdown",
      "metadata": {},
      "source": [
        "### 🚀 [Open in Colab](https://colab.research.google.com/github/Roopesht/codeexamples/blob/main/genai/python_easy/9/concept_1.ipynb)"
      ]
    },
    {
      "cell_type": "markdown",
      "metadata": {},
      "source": [
        "### 📊 Output"
      ]
    },
    {
      "cell_type": "code",
      "execution_count": null,
      "metadata": {},
      "outputs": [],
      "source": [
        "<_io.TextIOWrapper name='data.txt' mode='r' encoding='UTF-8'>\n",
        "File closed: True"
      ]
    },
    {
      "cell_type": "markdown",
      "metadata": {},
      "source": [
        "🎯 The file object shows its name, mode, and encoding!"
      ]
    },
    {
      "cell_type": "markdown",
      "metadata": {},
      "source": [
        "### 🎯 Key Takeaway"
      ]
    },
    {
      "cell_type": "markdown",
      "metadata": {},
      "source": [
        "Files are like doors - you open them, do your work, and close them properly!\n",
        "### 💭 Think About It: What happens if you forget to close a file in a program that runs for hours?"
      ]
    }
  ],
  "metadata": {
    "kernelspec": {
      "display_name": "Python 3",
      "language": "python",
      "name": "python3"
    },
    "language_info": {
      "name": "python",
      "version": "3.x"
    }
  },
  "nbformat": 4,
  "nbformat_minor": 5
}