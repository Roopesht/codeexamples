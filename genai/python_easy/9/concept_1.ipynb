{
  "cells": [
    {
      "cell_type": "markdown",
      "metadata": {},
      "source": [
        "# Concept 1: Opening and Closing Files\n",
        "\n",
        "💡 \"Data without persistence is like words without memory\""
      ]
    },
    {
      "cell_type": "markdown",
      "metadata": {
        "id": "concept1-intro"
      },
      "source": [
        "## 📂 Concept 1: Opening & Closing Files\n",
        "\n",
        "### File Operations Fundamentals\n",
        "- 🔑 Files are bridges between program and storage\n",
        "- 📋 File modes determine how we interact with files\n",
        "- 🚪 Always close files to free system resources\n",
        "- 🛡️ Proper file handling prevents data corruption"
      ]
    },
    {
      "cell_type": "markdown",
      "metadata": {
        "id": "concept1-modes"
      },
      "source": [
        "## File Modes Guide\n",
        "\n",
        "![Visual diagram showing different file modes like r, w, a, x with arrows indicating read/write directions, size 800x500](images/file_modes.png)\n",
        "\n",
        "- `'r'` - Read only (default)\n",
        "- `'w'` - Write (overwrites existing)\n",
        "- `'a'` - Append to end\n",
        "- `'x'` - Exclusive creation\n",
        "- `'r+'` - Read and write"
      ]
    },
    {
      "cell_type": "code",
      "metadata": {
        "id": "concept1-code"
      },
      "source": [
        "# Opening a file\n",
        "file = open('data.txt', 'r')  # Read mode\n",
        "print(\"File opened successfully!\")\n",
        "\n",
        "# Always close the file\n",
        "file.close()\n",
        "print(\"File closed!\")\n",
        "\n",
        "# Different modes\n",
        "write_file = open('output.txt', 'w')  # Write mode\n",
        "append_file = open('log.txt', 'a')    # Append mode\n",
        "\n",
        "write_file.close()\n",
        "append_file.close()"
      ],
      "execution_count": null,
      "outputs": []
    },
    {
      "cell_type": "markdown",
      "metadata": {
        "id": "concept1-output"
      },
      "source": [
        "### Output\n",
        "```python\n",
        "File opened successfully!\n",
        "File closed!\n",
        "```\n",
        "\n",
        "💡 Notice how we explicitly close each file to free resources"
      ]
    },
    {
      "cell_type": "markdown",
      "metadata": {
        "id": "concept1-conclude"
      },
      "source": [
        "## Key Takeaway\n",
        "\n",
        "- 🔐 **File handling is like borrowing a book** - you open it, use it, and return it properly!\n",
        "\n",
        "- 🤔 **Question:** What happens if you forget to close a file in a long-running program?"
      ]
    }
  ],
  "metadata": {
    "kernelspec": {
      "name": "python3",
      "display_name": "Python 3",
      "language": "python"
    },
    "language_info": {
      "name": "python",
      "version": "3.x"
    }
  }
}