{
  "cells": [
    {
      "cell_type": "markdown",
      "metadata": {},
      "source": [
        "# File Handling Basics in Python"
      ]
    },
    {
      "cell_type": "markdown",
      "metadata": {},
      "source": [
        "💡 \"Data without persistence is like words without memory\""
      ]
    },
    {
      "cell_type": "markdown",
      "metadata": {},
      "source": [
        "## 📂 Concept 1: Opening & Closing Files"
      ]
    },
    {
      "cell_type": "markdown",
      "metadata": {},
      "source": [
        "### File Operations Fundamentals"
      ]
    },
    {
      "cell_type": "markdown",
      "metadata": {},
      "source": [
        "- 🔑 Files are bridges between program and storage",
        "- 📋 File modes determine how we interact with files",
        "- 🚪 Always close files to free system resources",
        "- 🛡️ Proper file handling prevents data corruption"
      ]
    },
    {
      "cell_type": "markdown",
      "metadata": {},
      "source": [
        "### File Modes Guide"
      ]
    },
    {
      "cell_type": "markdown",
      "metadata": {},
      "source": [
        "![](images/file_modes.png)"
      ]
    },
    {
      "cell_type": "markdown",
      "metadata": {},
      "source": [
        "- `'r'` - Read only (default)",
        "- `'w'` - Write (overwrites existing)",
        "- `'a'` - Append to end",
        "- `'x'` - Exclusive creation",
        "- `'r+'` - Read and write"
      ]
    },
    {
      "cell_type": "markdown",
      "metadata": {},
      "source": [
        "### Opening and Closing Files"
      ]
    },
    {
      "cell_type": "code",
      "metadata": {},
      "execution_count": null,
      "outputs": [],
      "source": [
        "# Opening a file\n",
        "file = open('data.txt', 'r')  # Read mode\n",
        "print(\"File opened successfully!\")\n",
        "\n",
        "# Always close the file\n",
        "file.close()\n",
        "print(\"File closed!\")\n",
        "\n",
        "# Different modes\n",
        "write_file = open('output.txt', 'w')  # Write mode\n",
        "append_file = open('log.txt', 'a')    # Append mode\n",
        "\n",
        "write_file.close()\n",
        "append_file.close()\n"
      ]
    },
    {
      "cell_type": "markdown",
      "metadata": {},
      "source": [
        "### Output"
      ]
    },
    {
      "cell_type": "markdown",
      "metadata": {},
      "source": [
        "```\n",
        "File opened successfully!\n",
        "File closed!\n",
        "```\n"
      ]
    },
    {
      "cell_type": "markdown",
      "metadata": {},
      "source": [
        "💡 Notice how we explicitly close each file to free resources"
      ]
    },
    {
      "cell_type": "markdown",
      "metadata": {},
      "source": [
        "### Key Takeaway"
      ]
    },
    {
      "cell_type": "markdown",
      "metadata": {},
      "source": [
        "- 🔐 **File handling is like borrowing a book** - you open it, use it, and return it properly!"
      ]
    },
    {
      "cell_type": "markdown",
      "metadata": {},
      "source": [
        "- 🤔 **Question:** What happens if you forget to close a file in a long-running program?"
      ]
    }
  ],
  "metadata": {
    "kernelspec": {
      "display_name": "Python 3",
      "language": "python",
      "name": "python3"
    },
    "language_info": {
      "name": "python",
      "version": "3.x"
    }
  },
  "nbformat": 4,
  "nbformat_minor": 5
}