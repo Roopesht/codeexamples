{
  "cells": [
    {
      "cell_type": "markdown",
      "metadata": {},
      "source": [
        "# 📂 Concept 4: File Paths and Working with Directories"
      ]
    },
    {
      "cell_type": "markdown",
      "metadata": {},
      "source": [
        "## 📂 File Paths and Directories"
      ]
    },
    {
      "cell_type": "markdown",
      "metadata": {},
      "source": [
        "- 📍 Absolute paths start from root (C:\\Users\\... or /home/...)",
        "- 📁 Relative paths start from current directory",
        "- 🔧 `os.getcwd()` shows current working directory",
        "- 📊 `os.path.join()` creates platform-independent paths",
        "- 🤖 Essential for organizing AI project files and datasets"
      ]
    },
    {
      "cell_type": "markdown",
      "metadata": {},
      "source": [
        "![Directory tree showing absolute vs relative paths with folders and files, size 800x600](images/file_paths.png)"
      ]
    },
    {
      "cell_type": "markdown",
      "metadata": {},
      "source": [
        "## 💻 Working with Paths"
      ]
    },
    {
      "cell_type": "code",
      "execution_count": null,
      "metadata": {},
      "outputs": [],
      "source": [
        "import os\n",
        "\n",
        "# Get current working directory\n",
        "current_dir = os.getcwd()\n",
        "print(f\"Current directory: {current_dir}\")\n",
        "\n",
        "# Create directory structure\n",
        "os.makedirs('ai_project/data', exist_ok=True)\n",
        "os.makedirs('ai_project/models', exist_ok=True)\n",
        "\n",
        "# Different ways to specify paths\n",
        "# Relative path\n",
        "file1 = open('ai_project/data/dataset.txt', 'w')\n",
        "file1.write('Sample data for AI training')\n",
        "file1.close()\n",
        "\n",
        "# Using os.path.join (platform independent)\n",
        "data_path = os.path.join('ai_project', 'data', 'results.txt')\n",
        "file2 = open(data_path, 'w')\n",
        "file2.write('AI model results')\n",
        "file2.close()\n",
        "\n",
        "# Check if file exists\n",
        "if os.path.exists(data_path):\n",
        "    print(f\"File exists: {data_path}\")\n",
        "\n",
        "# List files in directory\n",
        "files = os.listdir('ai_project/data')\n",
        "print(f\"Files in data directory: {files}\")\n",
        "\n",
        "# Get file size\n",
        "file_size = os.path.getsize(data_path)\n",
        "print(f\"File size: {file_size} bytes\")"
      ]
    },
    {
      "cell_type": "markdown",
      "metadata": {},
      "source": [
        "## 📊 Output"
      ]
    },
    {
      "cell_type": "markdown",
      "metadata": {},
      "source": [
        "```text\nCurrent directory: /content\nFile exists: ai_project/data/results.txt\nFiles in data directory: ['dataset.txt', 'results.txt']\nFile size: 17 bytes\n```"
      ]
    },
    {
      "cell_type": "markdown",
      "metadata": {},
      "source": [
        "🎯 Now you can organize your AI projects with proper file structure!"
      ]
    },
    {
      "cell_type": "markdown",
      "metadata": {},
      "source": [
        "## 🎯 Key Takeaway"
      ]
    },
    {
      "cell_type": "markdown",
      "metadata": {},
      "source": [
        "Proper file organization is like having a well-organized workspace - everything has its place!"
      ]
    },
    {
      "cell_type": "markdown",
      "metadata": {},
      "source": [
        "💭 **Think About It:** How would you organize files for an AI project with training data, models, and results?"
      ]
    }
  ],
  "metadata": {
    "kernelspec": {
      "display_name": "Python 3",
      "language": "python",
      "name": "python3"
    },
    "language_info": {
      "codemirror_mode": {
        "name": "python",
        "version": 3
      },
      "file_extension": ".py",
      "mimetype": "text/x-python",
      "name": "python",
      "nbconvert_exporter": "python",
      "pygments_lexer": "python3",
      "version": "3.8"
    }
  },
  "nbformat": 4,
  "nbformat_minor": 5
}