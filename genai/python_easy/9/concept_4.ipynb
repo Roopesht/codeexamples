{
  "cells": [
    {
      "cell_type": "markdown",
      "metadata": {},
      "source": [
        "# File Paths and Directories\n",
        "\n",
        "🗂️ \"File paths are the GPS of data storage\""
      ]
    },
    {
      "cell_type": "markdown",
      "metadata": {},
      "source": [
        "## Concept 4: File Paths & Directories\n",
        "\n",
        "- Navigating the File System\n",
        "  - Absolute vs Relative paths\n",
        "  - Creating and managing directories\n",
        "  - Checking if files/directories exist\n",
        "  - Working with different file locations"
      ]
    },
    {
      "cell_type": "markdown",
      "metadata": {},
      "source": [
        "![Directory tree showing absolute and relative paths with examples like /home/user/documents and ./data/file.txt, size 800x600](images/file_paths.png)"
      ]
    },
    {
      "cell_type": "markdown",
      "metadata": {},
      "source": [
        "### Working with Paths"
      ]
    },
    {
      "cell_type": "code",
      "execution_count": null,
      "metadata": {},
      "outputs": [],
      "source": [
        "import os\n",
        "\n",
        "# Get current directory\n",
        "current_dir = os.getcwd()\n",
        "print(\"Current directory:\", current_dir)\n",
        "\n",
        "# Create a directory if it doesn't exist\n",
        "if not os.path.exists('data'):\n",
        "    os.makedirs('data')\n",
        "    print(\"Created 'data' directory\")\n",
        "\n",
        "# Different path styles\n",
        "absolute_path = \"/home/user/documents/file.txt\"  # Unix/Linux\n",
        "relative_path = \"./data/myfile.txt\"              # Relative to current\n",
        "windows_path = \"C:\\\\Users\\\\Name\\\\Documents\\\\file.txt\"  # Windows\n",
        "\n",
        "# Check if a file exists\n",
        "file_path = \"data/test.txt\"\n",
        "if os.path.exists(file_path):\n",
        "    print(f\"{file_path} exists!\")\n",
        "else:\n",
        "    print(f\"{file_path} does not exist\")\n",
        "    # Create the file\n",
        "    with open(file_path, 'w') as f:\n",
        "        f.write(\"Hello from data directory!\")\n",
        "    print(f\"Created {file_path}\")\n",
        "\n",
        "# List files in current directory\n",
        "print(\"Files in current directory:\")\n",
        "for fname in os.listdir('.'):\n",
        "    print(f\"  📄 {fname}\")\n"
      ]
    },
    {
      "cell_type": "markdown",
      "metadata": {},
      "source": [
        "### Output\n",
        "```plaintext\n",
        "Current directory: /content\n",
        "Created 'data' directory\n",
        "data/test.txt does not exist\n",
        "Created data/test.txt\n",
        "Files in current directory:\n",
        "  📄 sample_data\n",
        "  📄 data\n",
        "  📄 output.txt\n",
        "  📄 multiple_lines.txt\n",
        "```\n"
      ]
    },
    {
      "cell_type": "markdown",
      "metadata": {},
      "source": [
        "🎯 File organization makes your programs more professional and maintainable"
      ]
    },
    {
      "cell_type": "markdown",
      "metadata": {},
      "source": [
        "### Path Management Tips\n",
        "- 🛣️ **Use relative paths for portability**\n",
        "- 📁 **Create directories before writing files**\n",
        "- 🔍 **Always check if files exist before operations**\n",
        "- 🤔 **Question:** How would you organize files for a student grade management system?"
      ]
    }
  ],
  "metadata": {
    "kernelspec": {
      "display_name": "Python 3",
      "language": "python",
      "name": "python3"
    },
    "language_info": {
      "name": "python",
      "version": "3.x"
    }
  },
  "nbformat": 4,
  "nbformat_minor": 5
}