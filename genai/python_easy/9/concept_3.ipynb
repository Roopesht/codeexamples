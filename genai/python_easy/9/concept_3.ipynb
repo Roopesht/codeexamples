{
  "cells": [
    {
      "cell_type": "markdown",
      "metadata": {},
      "source": [
        "# Writing to Files in Python\n",
        "\n",
        "✍️ \"Writing to files is how we make data immortal\""
      ]
    },
    {
      "cell_type": "markdown",
      "metadata": {},
      "source": [
        "## ✍️ Concept 3: Writing to Files"
      ]
    },
    {
      "cell_type": "markdown",
      "metadata": {},
      "source": [
        "### File Writing Essentials"
      ]
    },
    {
      "cell_type": "markdown",
      "metadata": {},
      "source": [
        "- 💾 **write()** - Writes a string to file",
        "- 📝 **writelines()** - Writes multiple lines at once",
        "- ⚠️ **'w' mode** overwrites, **'a' mode** appends",
        "- 🔄 Don't forget newline characters (`\\n`)"
      ]
    },
    {
      "cell_type": "markdown",
      "metadata": {},
      "source": [
        "### Write vs Append Mode"
      ]
    },
    {
      "cell_type": "markdown",
      "metadata": {},
      "source": [
        "- Write mode: Starts fresh, overwriting existing content",
        "- Append mode: Adds to existing content at the end",
        "- Choose based on your needs",
        "- Always close files properly"
      ]
    },
    {
      "cell_type": "code",
      "execution_count": null,
      "metadata": {},
      "outputs": [],
      "source": [
        "# Writing with write()\n",
        "file = open('output.txt', 'w')\n",
        "file.write(\"Hello, World!\\n\")\n",
        "file.write(\"This is line 2\\n\")\n",
        "file.close()"
      ]
    },
    {
      "cell_type": "code",
      "execution_count": null,
      "metadata": {},
      "outputs": [],
      "source": [
        "# Writing with writelines()\n",
        "lines = [\"First line\\n\", \"Second line\\n\", \"Third line\\n\"]\n",
        "file = open('multiple_lines.txt', 'w')\n",
        "file.writelines(lines)\n",
        "file.close()"
      ]
    },
    {
      "cell_type": "code",
      "execution_count": null,
      "metadata": {},
      "outputs": [],
      "source": [
        "# Appending to existing file\n",
        "file = open('output.txt', 'a')\n",
        "file.write(\"This line is appended\\n\")\n",
        "file.close()"
      ]
    },
    {
      "cell_type": "code",
      "execution_count": null,
      "metadata": {},
      "outputs": [],
      "source": [
        "# Read back to verify\n",
        "with open('output.txt', 'r') as f:\n",
        "    print(\"File content:\")\n",
        "    print(f.read())"
      ]
    },
    {
      "cell_type": "markdown",
      "metadata": {},
      "source": [
        "### Output"
      ]
    },
    {
      "cell_type": "code",
      "execution_count": null,
      "metadata": {},
      "outputs": [],
      "source": [
        "File content:\n",
        "Hello, World!\n",
        "This is line 2\n",
        "This line is appended"
      ]
    },
    {
      "cell_type": "markdown",
      "metadata": {},
      "source": [
        "🎯 Notice how the appended line was added without overwriting existing content"
      ]
    },
    {
      "cell_type": "markdown",
      "metadata": {},
      "source": [
        "### Writing Best Practices"
      ]
    },
    {
      "cell_type": "markdown",
      "metadata": {},
      "source": [
        "- 📝 Always include \\n for new lines",
        "- 💾 Use 'w' for a fresh start, 'a' for additions",
        "- 🔒 Close files immediately after writing",
        "- 🤔 **Question:** How would you save a list of student scores to a file?"
      ]
    }
  ],
  "metadata": {
    "kernelspec": {
      "display_name": "Python 3",
      "language": "python",
      "name": "python3"
    },
    "language_info": {
      "name": "python",
      "version": "3.x"
    }
  },
  "nbformat": 4,
  "nbformat_minor": 5
}