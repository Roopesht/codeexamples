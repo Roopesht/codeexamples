{
  "cells": [
    {
      "cell_type": "markdown",
      "metadata": {},
      "source": [
        "# Writing to Files in Python\n",
        "\n",
        "✍️ \"Writing to files is how we make data immortal\""
      ]
    },
    {
      "cell_type": "markdown",
      "metadata": {},
      "source": [
        "## ✍️ Concept 3: Writing to Files\n",
        "\n",
        "- File Writing Essentials:\n",
        "  - 💾 write() - Writes a string to a file\n",
        "  - 📝 writelines() - Writes multiple lines at once\n",
        "  - ⚠️ 'w' mode overwrites, 'a' mode appends\n",
        "  - 🔄 Don't forget newline characters (\\n)"
      ]
    },
    {
      "cell_type": "markdown",
      "metadata": {},
      "source": [
        "## Write vs Append Mode\n",
        "\n",
        "In the following diagram, you'll see how write mode and append mode work:\n",
        "\n",
        "![](images/write_vs_append.png)\n",
        "\n",
        "- Write mode: Starts fresh (overwrites existing content)\n",
        "- Append mode: Adds to the existing content\n",
        "- Choose based on your needs\n",
        "- Always close files properly"
      ]
    },
    {
      "cell_type": "markdown",
      "metadata": {},
      "source": [
        "## Writing Data to Files\n",
        "\n",
        "Here's how you can write to files in Python:"
      ]
    },
    {
      "cell_type": "code",
      "execution_count": null,
      "metadata": {},
      "outputs": [],
      "source": [
        "# Writing with write()\n",
        "file = open('output.txt', 'w')\n",
        "file.write(\"Hello, World!\\n\")\n",
        "file.write(\"This is line 2\\n\")\n",
        "file.close()\n",
        "\n",
        "# Writing with writelines()\n",
        "lines = [\"First line\\n\", \"Second line\\n\", \"Third line\\n\"]\n",
        "file = open('multiple_lines.txt', 'w')\n",
        "file.writelines(lines)\n",
        "file.close()\n",
        "\n",
        "# Appending to existing file\n",
        "file = open('output.txt', 'a')\n",
        "file.write(\"This line is appended\\n\")\n",
        "file.close()\n",
        "\n",
        "# Read back to verify\n",
        "with open('output.txt', 'r') as f:\n",
        "    print(\"File content:\")\n",
        "    print(f.read())"
      ]
    },
    {
      "cell_type": "markdown",
      "metadata": {},
      "source": [
        "## Output\n",
        "\n",
        "```plaintext\n",
        "File content:\n",
        "Hello, World!\n",
        "This is line 2\n",
        "This line is appended\n",
        "```\n",
        "\n",
        "🎯 Notice how the appended line was added without overwriting existing content"
      ]
    },
    {
      "cell_type": "markdown",
      "metadata": {},
      "source": [
        "## Writing Best Practices\n",
        "\n",
        "- 📝 Always include \\n for new lines\n",
        "- 💾 Use 'w' for a fresh start, 'a' for additions\n",
        "- 🔒 Close files immediately after writing\n",
        "- 🤔 Question: How would you save a list of student scores to a file?"
      ]
    }
  ],
  "metadata": {
    "kernelspec": {
      "display_name": "Python 3",
      "language": "python",
      "name": "python3"
    },
    "language_info": {
      "name": "python",
      "version": "3.x"
    }
  },
  "nbformat": 4,
  "nbformat_minor": 5
}