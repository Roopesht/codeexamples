{
  "cells": [
    {
      "cell_type": "markdown",
      "metadata": {},
      "source": [
        "# Concept 3: Writing to Files\n",
        "\n",
        "✍️ **Concept 3: Writing to Files**"
      ]
    },
    {
      "cell_type": "markdown",
      "metadata": {},
      "source": [
        "### Key Points:\n",
        "- ✏️ `write()` - Writes a string to the file\n",
        "- 📝 `writelines()` - Writes a list of strings\n",
        "- ⚠️ `'w'` mode overwrites entire file, `'a'` mode appends\n",
        "- 📊 Perfect for saving AI model outputs, logs, and results\n",
        "- 💡 Always remember to close or use context managers!"
      ]
    },
    {
      "cell_type": "markdown",
      "metadata": {},
      "source": [
        "![Diagram showing data being written to a file with write and append modes](images/file_writing.png)\n"
      ]
    },
    {
      "cell_type": "code",
      "execution_count": null,
      "metadata": {},
      "outputs": [],
      "source": [
        "# Method 1: write() - single string\n",
        "file = open('output.txt', 'w')\n",
        "file.write('Hello, this is my first file!\\n')\n",
        "file.write('Python file handling is awesome!')\n",
        "file.close()\n",
        "\n",
        "# Method 2: writelines() - list of strings\n",
        "lines = ['Line 1\\n', 'Line 2\\n', 'Line 3\\n']\n",
        "file = open('output2.txt', 'w')\n",
        "file.writelines(lines)\n",
        "file.close()\n",
        "\n",
        "# Append mode - adds to existing content\n",
        "file = open('output.txt', 'a')\n",
        "file.write('\\nThis line is appended!')\n",
        "file.close()\n",
        "\n",
        "# Read back to verify\n",
        "with open('output.txt', 'r') as file:\n",
        "    content = file.read()\n",
        "    print('File content:')\n",
        "    print(content)\n",
        "\n",
        "# AI Use Case: Saving model predictions\n",
        "predictions = ['Cat: 95%', 'Dog: 85%', 'Bird: 70%']\n",
        "with open('ai_predictions.txt', 'w') as file:\n",
        "    for pred in predictions:\n",
        "        file.write(f'Prediction: {pred}\\n')"
      ]
    },
    {
      "cell_type": "markdown",
      "metadata": {},
      "source": [
        "### 🚀 [Open in Colab](https://colab.research.google.com/github/Roopesht/codeexamples/blob/main/genai/python_easy/9/concept_3.ipynb)"
      ]
    },
    {
      "cell_type": "markdown",
      "metadata": {},
      "source": [
        "### Output:\n",
        "```\n",
        "File content:\n",
        "Hello, this is my first file!\n",
        "Python file handling is awesome!\n",
        "This line is appended!\n",
        "```\n",
        "\n",
        "🎯 See how append mode preserved the original content and added new content!"
      ]
    },
    {
      "cell_type": "markdown",
      "metadata": {},
      "source": [
        "### Key Takeaway:\n",
        "- Writing files is like keeping a permanent record of your program's work!\n",
        "\n",
        "💭 **Think About It:** How would you save the results of an AI model that processes thousands of images?"
      ]
    }
  ],
  "metadata": {
    "kernelspec": {
      "display_name": "Python 3",
      "language": "python",
      "name": "python3"
    },
    "language_info": {
      "name": "python",
      "version": "3.x"
    }
  },
  "nbformat": 4,
  "nbformat_minor": 5
}