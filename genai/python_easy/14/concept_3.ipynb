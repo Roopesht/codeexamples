{
  "cells": [
    {
      "cell_type": "markdown",
      "metadata": {},
      "source": [
        "# Basic Data Analysis\n",
        " \n",
        "In this notebook, we'll learn how to analyze data by counting, averaging, and finding maximum and minimum values. These are useful skills for understanding data and making decisions."
      ]
    },
    {
      "cell_type": "markdown",
      "metadata": {},
      "source": [
        "## 📊 Basic Data Analysis\n",
        " \n",
        "We'll explore how to perform basic data analysis tasks like counting how often items occur, calculating averages, and finding max/min values in our data."
      ]
    },
    {
      "cell_type": "code",
      "execution_count": null,
      "metadata": {},
      "outputs": [],
      "source": [
        "# Sample sales data\n",
        "sales_data = [\n",
        "    {'product': 'Laptop', 'price': 1200, 'quantity': 5},\n",
        "    {'product': 'Phone', 'price': 800, 'quantity': 10},\n",
        "    {'product': 'Tablet', 'price': 600, 'quantity': 7},\n",
        "    {'product': 'Phone', 'price': 800, 'quantity': 3}\n",
        "]"
      ]
    },
    {
      "cell_type": "markdown",
      "metadata": {},
      "source": [
        "## 📊 Analysis Functions\n",
        " \n",
        "Let's define a function to calculate basic statistics like total, average, max, min, and count for a specific field in our data."
      ]
    },
    {
      "cell_type": "code",
      "execution_count": null,
      "metadata": {},
      "outputs": [],
      "source": [
        "def calculate_stats(data, field):\n",
        "    values = [item[field] for item in data]\n",
        "    return {\n",
        "        'total': sum(values),\n",
        "        'average': sum(values) / len(values),\n",
        "        'maximum': max(values),\n",
        "        'minimum': min(values),\n",
        "        'count': len(values)\n",
        "    }"
      ]
    },
    {
      "cell_type": "code",
      "execution_count": null,
      "metadata": {},
      "outputs": [],
      "source": [
        "# Calculate statistics for 'price'\n",
        "price_stats = calculate_stats(sales_data, 'price')\n",
        "print(price_stats)"
      ]
    },
    {
      "cell_type": "markdown",
      "metadata": {},
      "source": [
        "## 🔢 Counting and Grouping\n",
        " \n",
        "Now, we'll count how many times each product appears and also sum quantities grouped by product."
      ]
    },
    {
      "cell_type": "code",
      "execution_count": null,
      "metadata": {},
      "outputs": [],
      "source": [
        "from collections import Counter\n",
        " \n",
        "# Count product occurrences\n",
        "product_counts = Counter(item['product'] for item in sales_data)\n",
        "print(product_counts)\n",
        " \n",
        "# Group by product and sum quantities\n",
        "def group_and_sum(data, group_by, sum_field):\n",
        "    groups = {}\n",
        "    for item in data:\n",
        "        key = item[group_by]\n",
        "        if key not in groups:\n",
        "            groups[key] = 0\n",
        "        groups[key] += item[sum_field]\n",
        "    return groups\n",
        " \n",
        "quantity_by_product = group_and_sum(sales_data, 'product', 'quantity')\n",
        "print(quantity_by_product)"
      ]
    },
    {
      "cell_type": "markdown",
      "metadata": {},
      "source": [
        "## 📊 Analysis Results\n",
        " \n",
        "Here are some example results from our data analysis:"
      ]
    },
    {
      "cell_type": "markdown",
      "metadata": {},
      "source": [
        "**Price Statistics:**\n",
        " \n",
        "{\n",
        "  'total': 3400, \n",
        "  'average': 850.0, \n",
        "  'maximum': 1200, \n",
        "  'minimum': 600, \n",
        "  'count': 4\n",
        "}\n",
        " \n",
        "**Product Counts:**\n",
        " \n",
        "Counter({'Phone': 2, 'Laptop': 1, 'Tablet': 1})\n",
        " \n",
        "**Quantity by Product:**\n",
        " \n",
        "{'Laptop': 5, 'Phone': 13, 'Tablet': 7}"
      ]
    },
    {
      "cell_type": "markdown",
      "metadata": {},
      "source": [
        "## ✅ Analysis Insights\n",
        " \n",
        "Numbers tell stories - learning to interpret them helps us make smarter decisions!"
      ]
    },
    {
      "cell_type": "markdown",
      "metadata": {},
      "source": [
        "🤔 **Think About It:**\n",
        "What other statistical measures could be useful for business decisions? Examples include median, mode, or standard deviation."
      ]
    }
  ],
  "metadata": {
    "kernelspec": {
      "display_name": "Python 3",
      "language": "python",
      "name": "python3"
    },
    "language_info": {
      "name": "python",
      "version": "3.x"
    }
  },
  "nbformat": 4,
  "nbformat_minor": 5
}