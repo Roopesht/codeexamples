{
  "cells": [
    {
      "cell_type": "markdown",
      "metadata": {},
      "source": [
        "# Introduction to Pandas\n",
        "\n",
        "Welcome! In this notebook, we'll learn about pandas, a powerful library for data analysis in Python.\n",
        "\n",
        "Let's get started!"
      ]
    },
    {
      "cell_type": "markdown",
      "metadata": {},
      "source": [
        "## 🐼 Pandas Preview\n",
        "\n",
        "- 📊 Professional data analysis library\n",
        "- 🔍 DataFrame - Excel-like data structures\n",
        "- ⚡ Powerful built-in analysis functions\n",
        "- 🎯 Industry standard for data science"
      ]
    },
    {
      "cell_type": "markdown",
      "metadata": {},
      "source": [
        "## 🐼 Pandas in Action\n",
        "\n",
        "Let's see some common pandas operations with examples."
      ]
    },
    {
      "cell_type": "code",
      "execution_count": null,
      "metadata": {},
      "outputs": [],
      "source": [
        "import pandas as pd"
      ]
    },
    {
      "cell_type": "markdown",
      "metadata": {},
      "source": [
        "### Create DataFrame from CSV\n",
        "\n",
        "Suppose we have a CSV file named 'sales_data.csv'. Here's how we load it into a pandas DataFrame:"
      ]
    },
    {
      "cell_type": "code",
      "execution_count": null,
      "metadata": {},
      "outputs": [],
      "source": [
        "df = pd.read_csv('sales_data.csv')"
      ]
    },
    {
      "cell_type": "markdown",
      "metadata": {},
      "source": [
        "### Basic operations\n",
        "\n",
        "Let's do some basic data analysis:\n",
        "- View the first few rows\n",
        "- Get a statistical summary\n",
        "- Group data by a category (e.g., 'product')"
      ]
    },
    {
      "cell_type": "code",
      "execution_count": null,
      "metadata": {},
      "outputs": [],
      "source": [
        "print(df.head())  # First 5 rows",
        "print(df.describe())  # Statistical summary",
        "print(df.groupby('product').sum())  # Group by product"
      ]
    },
    {
      "cell_type": "markdown",
      "metadata": {},
      "source": [
        "### Advanced analysis\n",
        "\n",
        "Create a new column for total revenue and summarize monthly sales."
      ]
    },
    {
      "cell_type": "code",
      "execution_count": null,
      "metadata": {},
      "outputs": [],
      "source": [
        "df['total_revenue'] = df['price'] * df['quantity']",
        "monthly_sales = df.groupby('month')['total_revenue'].sum()"
      ]
    },
    {
      "cell_type": "markdown",
      "metadata": {},
      "source": [
        "### Export results\n",
        "\n",
        "Save the processed data into a new CSV file."
      ]
    },
    {
      "cell_type": "code",
      "execution_count": null,
      "metadata": {},
      "outputs": [],
      "source": [
        "df.to_csv('processed_sales.csv', index=False)"
      ]
    },
    {
      "cell_type": "markdown",
      "metadata": {},
      "source": [
        "## 📁 Multiple File Formats\n",
        "\n",
        "pandas can read and write various file formats and connect to databases."
      ]
    },
    {
      "cell_type": "code",
      "execution_count": null,
      "metadata": {},
      "outputs": [],
      "source": [
        "# Read different formats",
        "df_csv = pd.read_csv('data.csv')",
        "df_excel = pd.read_excel('data.xlsx')",
        "df_json = pd.read_json('data.json')",
        "\n",
        "# Write to different formats",
        "df.to_csv('output.csv')",
        "df.to_excel('output.xlsx')",
        "df.to_json('output.json')",
        "\n",
        "# Database connectivity",
        "import sqlite3",
        "conn = sqlite3.connect('database.db')",
        "df.to_sql('sales_table', conn, if_exists='replace')"
      ]
    },
    {
      "cell_type": "markdown",
      "metadata": {},
      "source": [
        "## ✅ Pandas Power\n",
        "\n",
        "With pandas, you're ready for professional data analysis! It simplifies handling and analyzing data, making your work faster and more efficient."
      ]
    },
    {
      "cell_type": "markdown",
      "metadata": {},
      "source": [
        "### Think About It\n",
        "\n",
        "How might pandas change your approach to data analysis? Consider some real-world scenarios where pandas can help!"
      ]
    }
  ],
  "metadata": {
    "kernelspec": {
      "display_name": "Python 3",
      "name": "python3"
    },
    "language_info": {
      "name": "python",
      "version": "3.x"
    }
  },
  "nbformat": 4,
  "nbformat_minor": 5
}