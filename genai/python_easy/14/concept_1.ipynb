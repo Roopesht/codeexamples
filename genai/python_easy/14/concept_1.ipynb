{
  "cells": [
    {
      "cell_type": "markdown",
      "metadata": {},
      "source": [
        "# CSV Module: Reading and Writing Files in Python"
      ]
    },
    {
      "cell_type": "markdown",
      "metadata": {},
      "source": [
        "In this notebook, we will learn how to use Python's built-in `csv` module to read from and write to CSV files. CSV stands for Comma Separated Values and is a simple format for storing tabular data.\n",
        "Let's get started!"
      ]
    },
    {
      "cell_type": "markdown",
      "metadata": {},
      "source": [
        "## 📁 CSV Module Overview"
      ]
    },
    {
      "cell_type": "markdown",
      "metadata": {},
      "source": [
        "- 🔍 CSV = Comma Separated Values\n",
        "- 📊 Perfect for tabular data storage\n",
        "- 🐍 Python's built-in csv module\n",
        "- ⚡ Efficient reading and writing operations"
      ]
    },
    {
      "cell_type": "markdown",
      "metadata": {},
      "source": [
        "![CSV file structure](images/csv_structure.png)"
      ]
    },
    {
      "cell_type": "markdown",
      "metadata": {},
      "source": [
        "## 📖 Reading CSV Files"
      ]
    },
    {
      "cell_type": "code",
      "execution_count": null,
      "metadata": {},
      "outputs": [],
      "source": [
        "import csv\n",
        "\n",
        "# Reading CSV file\n",
        "with open('sales_data.csv', 'r') as file:\n",
        "    reader = csv.reader(file)  # Creates a reader object\n",
        "    headers = next(reader)     # Get headers\n",
        "    \n",
        "    for row in reader:\n",
        "        print(row)  # Prints each row as a list\n",
        "\n",
        "# Using DictReader for better structure\n",
        "with open('sales_data.csv', 'r') as file:\n",
        "    reader = csv.DictReader(file)  # Creates a DictReader object\n",
        "    for row in reader:\n",
        "        print(row['product'], row['sales'])  # Accessing data by column names\n"
      ]
    },
    {
      "cell_type": "markdown",
      "metadata": {},
      "source": [
        "## ✍️ Writing CSV Files"
      ]
    },
    {
      "cell_type": "code",
      "execution_count": null,
      "metadata": {},
      "outputs": [],
      "source": [
        "import csv\n",
        "\n",
        "# Writing to CSV file\n",
        "data = [\n",
        "    ['Name', 'Age', 'City'],\n",
        "    ['Alice', 25, 'New York'],\n",
        "    ['Bob', 30, 'London']\n",
        "]\n",
        "\n",
        "with open('output.csv', 'w', newline='') as file:\n",
        "    writer = csv.writer(file)\n",
        "    writer.writerows(data)\n"
      ]
    },
    {
      "cell_type": "code",
      "execution_count": null,
      "metadata": {},
      "outputs": [],
      "source": [
        "import csv\n",
        "\n",
        "# Using DictWriter\n",
        "with open('output.csv', 'w', newline='') as file:\n",
        "    fieldnames = ['name', 'age', 'city']\n",
        "    writer = csv.DictWriter(file, fieldnames=fieldnames)\n",
        "    writer.writeheader()\n",
        "    writer.writerow({'name': 'Charlie', 'age': 35, 'city': 'Paris'})\n"
      ]
    },
    {
      "cell_type": "markdown",
      "metadata": {},
      "source": [
        "## 📤 Output Results"
      ]
    },
    {
      "cell_type": "markdown",
      "metadata": {},
      "source": [
        "### Reading Output:"
      ]
    },
    {
      "cell_type": "markdown",
      "metadata": {},
      "source": [
        "['Alice', '25', 'New York']\n",
        "['Bob', '30', 'London']\n"
      ]
    },
    {
      "cell_type": "markdown",
      "metadata": {},
      "source": [
        "### Created CSV File:"
      ]
    },
    {
      "cell_type": "markdown",
      "metadata": {},
      "source": [
        "Name,Age,City\n",
        "Alice,25,New York\n",
        "Bob,30,London\n"
      ]
    },
    {
      "cell_type": "markdown",
      "metadata": {},
      "source": [
        "## ✅ CSV Module Mastery"
      ]
    },
    {
      "cell_type": "markdown",
      "metadata": {},
      "source": [
        "> \"Data is the new oil, and CSV is your refinery!\""
      ]
    },
    {
      "cell_type": "markdown",
      "metadata": {},
      "source": [
        "## 🤔 Think About It"
      ]
    },
    {
      "cell_type": "markdown",
      "metadata": {},
      "source": [
        "What types of data would you want to analyze from CSV files in your projects?"
      ]
    }
  ],
  "metadata": {
    "kernelspec": {
      "display_name": "Python 3",
      "language": "python",
      "name": "python3"
    },
    "language_info": {
      "name": "python",
      "version": "3.x"
    }
  },
  "nbformat": 4,
  "nbformat_minor": 5
}