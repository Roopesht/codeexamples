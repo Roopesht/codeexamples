{
  "cells": [
    {
      "cell_type": "markdown",
      "metadata": {},
      "source": [
        "# Processing Tabular Data with Lists and Dictionaries"
      ]
    },
    {
      "cell_type": "markdown",
      "metadata": {},
      "source": [
        "In this notebook, we will learn how to handle tabular data using Python data structures such as lists and dictionaries. This is useful for organizing and analyzing structured data like sales records, product inventories, and more."
      ]
    },
    {
      "cell_type": "markdown",
      "metadata": {},
      "source": [
        "### 📊 Tabular Data Processing"
      ]
    },
    {
      "cell_type": "markdown",
      "metadata": {},
      "source": [
        "- 📋 Lists for rows and columns",
        "- 📚 Dictionaries for structured records",
        "- 🔍 Filtering and sorting data",
        "- 🔄 Data transformation techniques"
      ]
    },
    {
      "cell_type": "markdown",
      "metadata": {},
      "source": [
        "### 📚 Data Structures for Tables"
      ]
    },
    {
      "cell_type": "code",
      "execution_count": null,
      "metadata": {},
      "outputs": [],
      "source": [
        "# List of lists approach\n",
        "sales_data = [\n",
        "    ['Product', 'Price', 'Quantity'],\n",
        "    ['Laptop', 1200, 5],\n",
        "    ['Phone', 800, 10],\n",
        "    ['Tablet', 600, 7]\n",
        "]\n",
        "\n",
        "# List of dictionaries approach\n",
        "sales_records = [\n",
        "    {'product': 'Laptop', 'price': 1200, 'quantity': 5},\n",
        "    {'product': 'Phone', 'price': 800, 'quantity': 10},\n",
        "    {'product': 'Tablet', 'price': 600, 'quantity': 7}\n",
        "]\n",
        "\n",
        "# Access data\n",
        "print(sales_data[1][0])  # 'Laptop'\n",
        "print(sales_records[0]['product'])  # 'Laptop'"
      ]
    },
    {
      "cell_type": "markdown",
      "metadata": {},
      "source": [
        "### 🔧 Common Operations"
      ]
    },
    {
      "cell_type": "code",
      "execution_count": null,
      "metadata": {},
      "outputs": [],
      "source": [
        "# Filtering data\n",
        "high_value_products = [\n",
        "    record for record in sales_records \n",
        "    if record['price'] > 700\n",
        "]\n",
        "\n",
        "# Sorting data\n",
        "sorted_by_price = sorted(sales_records, key=lambda x: x['price'])\n",
        "\n",
        "# Adding calculated fields\n",
        "for record in sales_records:\n",
        "    record['total_value'] = record['price'] * record['quantity']\n",
        "\n",
        "# Grouping data\n",
        "from collections import defaultdict\n",
        "grouped_data = defaultdict(list)\n",
        "for record in sales_records:\n",
        "    grouped_data[record['product']].append(record)"
      ]
    },
    {
      "cell_type": "markdown",
      "metadata": {},
      "source": [
        "### 📊 Processing Results"
      ]
    },
    {
      "cell_type": "markdown",
      "metadata": {},
      "source": [
        "Filtered Results:"
      ]
    },
    {
      "cell_type": "code",
      "execution_count": null,
      "metadata": {},
      "outputs": [],
      "source": [
        "print(high_value_products)"
      ]
    },
    {
      "cell_type": "markdown",
      "metadata": {},
      "source": [
        "With Total Values:"
      ]
    },
    {
      "cell_type": "code",
      "execution_count": null,
      "metadata": {},
      "outputs": [],
      "source": [
        "print(sales_records)"
      ]
    },
    {
      "cell_type": "markdown",
      "metadata": {},
      "source": [
        "### ✅ Data Processing Power"
      ]
    },
    {
      "cell_type": "markdown",
      "metadata": {},
      "source": [
        "**\"Well-structured data is half the battle won!\"**"
      ]
    },
    {
      "cell_type": "markdown",
      "metadata": {},
      "source": [
        "**🤔 Think About It:** How would you organize customer data for easy analysis?"
      ]
    }
  ],
  "metadata": {
    "kernelspec": {
      "display_name": "Python 3",
      "language": "python",
      "name": "python3"
    },
    "language_info": {
      "codemirror_mode": {
        "name": "python",
        "version": 3
      },
      "file_extension": ".py",
      "mimetype": "text/x-python",
      "name": "python",
      "nbconvert_exporter": "python",
      "version": "3.8"
    }
  },
  "nbformat": 4,
  "nbformat_minor": 5
}