{
  "cells": [
    {
      "cell_type": "markdown",
      "metadata": {},
      "source": [
        "# Data Visualization Basics with Simple Text Charts"
      ]
    },
    {
      "cell_type": "markdown",
      "metadata": {},
      "source": [
        "## 📈 Text-Based Visualization\n",
        "In this section, we will learn how to create simple text-based charts to visualize data directly in the console.\n",
        "\n",
        "- 📊 Create bar charts using text characters\n",
        "- 📈 Use ASCII graphics for visual representation\n",
        "- 🎨 Make data visually appealing with simple methods\n",
        "- ⚡ Get quick insights without using external libraries"
      ]
    },
    {
      "cell_type": "markdown",
      "metadata": {},
      "source": [
        "## 📊 Creating Text Charts"
      ]
    },
    {
      "cell_type": "code",
      "execution_count": null,
      "metadata": {},
      "outputs": [],
      "source": [
        "def create_bar_chart(data, title=\"Bar Chart\"):\n",
        "    print(f\"\\n{title}\")\n",
        "    print(\"=\" * len(title))\n",
        "    \n",
        "    max_value = max(data.values())\n",
        "    max_width = 50  # Maximum bar width\n",
        "    \n",
        "    for label, value in data.items():\n",
        "        bar_length = int((value / max_value) * max_width)\n",
        "        bar = \"█\" * bar_length\n",
        "        print(f\"{label:15} | {bar} {value}\")"
      ]
    },
    {
      "cell_type": "code",
      "execution_count": null,
      "metadata": {},
      "outputs": [],
      "source": [
        "# Example usage:\n",
        "sales_by_product = {\n",
        "    'Laptop': 6000,\n",
        "    'Phone': 10400,\n",
        "    'Tablet': 4200\n",
        "}\n",
        "\n",
        "create_bar_chart(sales_by_product, \"Sales by Product\")"
      ]
    },
    {
      "cell_type": "markdown",
      "metadata": {},
      "source": [
        "## 📈 Advanced Text Visualizations"
      ]
    },
    {
      "cell_type": "code",
      "execution_count": null,
      "metadata": {},
      "outputs": [],
      "source": [
        "def create_histogram(data, bins=10):\n",
        "    min_val, max_val = min(data), max(data)\n",
        "    bin_width = (max_val - min_val) / bins\n",
        "    \n",
        "    histogram = [0] * bins\n",
        "    for value in data:\n",
        "        bin_index = min(int((value - min_val) / bin_width), bins - 1)\n",
        "        histogram[bin_index] += 1\n",
        "    \n",
        "    print(\"Histogram:\")\n",
        "    for i, count in enumerate(histogram):\n",
        "        range_start = min_val + i * bin_width\n",
        "        range_end = range_start + bin_width\n",
        "        bar = \"▓\" * count\n",
        "        print(f\"{range_start:6.1f}-{range_end:6.1f} | {bar} ({count})\")\n",
        "    \n",
        "# Create trend display\n",
        "def show_trend(values, title=\"Trend\"):\n",
        "    print(f\"\\n{title}\")\n",
        "    trend = \"\"\n",
        "    for i in range(1, len(values)):\n",
        "        if values[i] > values[i-1]:\n",
        "            trend += \"↗ \"\n",
        "        elif values[i] < values[i-1]:\n",
        "            trend += \"↘ \"\n",
        "        else:\n",
        "            trend += \"→ \"\n",
        "    print(trend)"
      ]
    },
    {
      "cell_type": "markdown",
      "metadata": {},
      "source": [
        "## 📊 Visualization Output"
      ]
    },
    {
      "cell_type": "markdown",
      "metadata": {},
      "source": [
        "Below is an example of what the visualization output might look like:\n",
        "\n",
        "```\n",
        "Sales by Product\n",
        "================\n",
        "Laptop          | ████████████████████████████ 6000\n",
        "Phone           | ██████████████████████████████████████████████████ 10400\n",
        "Tablet          | ████████████████████ 4200\n",
        "```\n",
        "\n",
        "And for trend display:\n",
        "\n",
        "```\n",
        "Monthly Sales Trend\n",
        "↗ ↗ ↘ → ↗ ↘\n",
        "```"
      ]
    },
    {
      "cell_type": "markdown",
      "metadata": {},
      "source": [
        "## ✅ Visualization Magic\n",
        "- \"A picture is worth a thousand data points!\""
      ]
    },
    {
      "cell_type": "markdown",
      "metadata": {},
      "source": [
        "🤔 **Think About It:** How might visual representations change decision-making in your field?"
      ]
    }
  ],
  "metadata": {
    "kernelspec": {
      "display_name": "Python 3",
      "language": "python",
      "name": "python3"
    },
    "language_info": {
      "name": "python",
      "version": "3.x"
    }
  },
  "nbformat": 4,
  "nbformat_minor": 5
}