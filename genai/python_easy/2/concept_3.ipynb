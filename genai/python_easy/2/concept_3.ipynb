{
 "cells": [
  {
   "cell_type": "markdown",
   "metadata": {},
   "source": [
    "# 📝 Strings - Text Powerhouses"
   ]
  },
  {
   "cell_type": "markdown",
   "metadata": {},
   "source": [
    "## What are Strings?\n",
    "\n",
    "- 📝 **Text data** surrounded by quotes\n",
    "- 🎭 Can use single or double quotes\n",
    "- 🔤 Letters, numbers, symbols, spaces — all allowed!\n",
    "- 💡 Essential for user interaction and data processing"
   ]
  },
  {
   "cell_type": "code",
   "execution_count": null,
   "metadata": {},
   "outputs": [],
   "source": [
    "# Different ways to create strings\n",
    "message = \"Hello, World!\"\n",
    "name = 'Alice'\n",
    "description = \"I'm learning Python!\"  # Mix quotes carefully\n",
    "\n",
    "# String operations\n",
    "greeting = \"Hello\"\n",
    "full_greeting = greeting + \" there!\"   # Concatenation\n",
    "repeated = \"Ha\" * 3                    # Repetition: \"HaHaHa\"\n",
    "\n",
    "# Useful string methods\n",
    "upper_name = name.upper()              # \"ALICE\"\n",
    "length = len(message)                  # 13 characters\n",
    "\n",
    "print(full_greeting)\n",
    "print(repeated)\n",
    "print(upper_name)\n",
    "print(f\"Length of message: {length}\")"
   ]
  },
  {
   "cell_type": "code",
   "execution_count": null,
   "metadata": {},
   "outputs": [],
   "source": [
    "# F-strings — the modern, clean way!\n",
    "name = \"Bob\"\n",
    "age = 30\n",
    "height = 6.2\n",
    "\n",
    "# Old way (avoid this)\n",
    "message1 = \"My name is \" + name + \" and I am \" + str(age)\n",
    "\n",
    "# New way (use this!)\n",
    "message2 = f\"My name is {name} and I am {age} years old\"\n",
    "profile = f\"Hi! I'm {name}, {age} years old, {height} feet tall\"\n",
    "\n",
    "print(profile)"
   ]
  },
  {
   "cell_type": "markdown",
   "metadata": {},
   "source": [
    "## 💬 String Challenge\n",
    "\n",
    "**Create a personalized welcome message using f-strings:**\n",
    "\n",
    "Inputs  \n",
    "`name = \"Pranavi\"`  \n",
    "`course = \"Python\"`\n",
    "\n",
    "Expected: `\"Welcome Pranavi! Ready to master Python?\"`\n",
    "\n",
    "_How could this help in creating chatbots?_"
   ]
  }
 ],
 "metadata": {
  "kernelspec": {
   "display_name": "Python 3",
   "language": "python",
   "name": "python3"
  },
  "language_info": {
   "name": "python",
   "version": "3.x"
  }
 },
 "nbformat": 4,
 "nbformat_minor": 5
}
