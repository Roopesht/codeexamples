{
 "cells": [
  {
   "cell_type": "markdown",
   "metadata": {},
   "source": [
    "# ✅ Booleans and None — Truth Tellers"
   ]
  },
  {
   "cell_type": "markdown",
   "metadata": {},
   "source": [
    "## Boolean Values\n",
    "\n",
    "- ✅ **True** — represents \"yes\", \"on\", \"correct\"\n",
    "- ❌ **False** — represents \"no\", \"off\", \"incorrect\"\n",
    "- 🤷 **None** — represents \"nothing\", \"empty\", \"unknown\"\n",
    "- 💡 Essential for decision-making in programs!"
   ]
  },
  {
   "cell_type": "code",
   "execution_count": null,
   "metadata": {},
   "outputs": [],
   "source": [
    "# Direct boolean values\n",
    "is_student = True\n",
    "has_license = False\n",
    "data_available = None\n",
    "\n",
    "# Comparisons create booleans\n",
    "age = 18\n",
    "is_adult = age >= 18        # True\n",
    "can_vote = age > 21         # False\n",
    "is_teenager = 13 <= age < 20  # True\n",
    "\n",
    "# Boolean in conditions\n",
    "if is_student:\n",
    "    print(\"Student discount available!\")\n",
    "\n",
    "print(f\"Adult status: {is_adult}\")"
   ]
  },
  {
   "cell_type": "code",
   "execution_count": null,
   "metadata": {},
   "outputs": [],
   "source": [
    "# Logical operators\n",
    "has_id = True\n",
    "age = 20\n",
    "\n",
    "# AND — both must be true\n",
    "can_enter_club = has_id and age >= 18    # True\n",
    "\n",
    "# OR — at least one must be true  \n",
    "gets_discount = age < 18 or age > 65     # False\n",
    "\n",
    "# NOT — opposite value\n",
    "is_minor = not (age >= 18)               # False\n",
    "\n",
    "print(f\"Can enter club: {can_enter_club}\")"
   ]
  },
  {
   "cell_type": "markdown",
   "metadata": {},
   "source": [
    "## 🎯 Logic Puzzle\n",
    "\n",
    "**What will this evaluate to?**\n",
    "\n",
    "```python\n",
    "temperature = 75\n",
    "is_sunny = True\n",
    "result = temperature > 70 and is_sunny\n",
    "```\n",
    "\n",
    "_Perfect day for outdoor activities?_"
   ]
  }
 ],
 "metadata": {
  "kernelspec": {
   "display_name": "Python 3",
   "language": "python",
   "name": "python3"
  },
  "language_info": {
   "name": "python",
   "version": "3.x"
  }
 },
 "nbformat": 4,
 "nbformat_minor": 5
}
