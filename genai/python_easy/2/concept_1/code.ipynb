{
 "cells": [
  {
   "cell_type": "markdown",
   "metadata": {},
   "source": [
    "# 🏷️ Variables - Your Data Containers"
   ]
  },
  {
   "cell_type": "markdown",
   "metadata": {},
   "source": [
    "## What are Variables?\n",
    "\n",
    "- 📦 **Containers** that store data values\n",
    "- 🏷️ **Labels** that give names to your data\n",
    "- 🔄 **Changeable** — values can be updated\n",
    "- 💡 *Think: A labeled box where you keep things!*"
   ]
  },
  {
   "cell_type": "code",
   "execution_count": null,
   "metadata": {},
   "outputs": [],
   "source": [
    "# Creating variables is like labeling boxes\n",
    "name = \"Alice\"\n",
    "age = 25\n",
    "height = 5.6\n",
    "is_student = True\n",
    "\n",
    "# Print to see what's inside\n",
    "print(name)    # Output: Alice\n",
    "print(age)     # Output: 25"
   ]
  },
  {
   "cell_type": "markdown",
   "metadata": {},
   "source": [
    "## ✅ Variable Naming Rules\n",
    "\n",
    "- Start with letter or underscore: `name`, `_private`\n",
    "- Use letters, numbers, underscores: `user_age2`\n",
    "- ❌ No spaces: `user name` (wrong)\n",
    "- ❌ No keywords: `if`, `for`, `while`\n",
    "- 💡 Use descriptive names: `student_count` not `sc`"
   ]
  },
  {
   "cell_type": "markdown",
   "metadata": {},
   "source": [
    "## 🤔 Think About It\n",
    "\n",
    "**Which variable name is better for storing a person's email address?**\n",
    "\n",
    "- A) `e`\n",
    "- B) `email_address`\n",
    "- C) `user-email`\n",
    "\n",
    "_Why does good naming matter in programming?_"
   ]
  }
 ],
 "metadata": {
  "kernelspec": {
   "display_name": "Python 3",
   "language": "python",
   "name": "python3"
  },
  "language_info": {
   "name": "python",
   "version": "3.x"
  }
 },
 "nbformat": 4,
 "nbformat_minor": 5
}
