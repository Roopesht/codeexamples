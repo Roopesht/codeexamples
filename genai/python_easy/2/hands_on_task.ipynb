{
 "cells": [
  {
   "cell_type": "markdown",
   "metadata": {},
   "source": [
    "# 💻 Hands-on Task: Personal Information Manager"
   ]
  },
  {
   "cell_type": "markdown",
   "metadata": {},
   "source": [
    "## 🏗️ What We'll Build\n",
    "\n",
    "**Personal Information Manager**  \n",
    "Create a system to store and display personal information using **all data types**!\n",
    "\n",
    "_\"Every expert was once a beginner. Every pro was once an amateur!\" 🚀_"
   ]
  },
  {
   "cell_type": "markdown",
   "metadata": {},
   "source": [
    "## 📋 Task Steps\n",
    "\n",
    "1. 🏷️ Create variables for personal information  \n",
    "2. 🔢 Calculate derived information (age in days, BMI, etc.)  \n",
    "3. 📝 Format information nicely with strings  \n",
    "4. ✅ Add boolean flags for status  \n",
    "5. 🎨 Display a complete profile"
   ]
  },
  {
   "cell_type": "code",
   "execution_count": null,
   "metadata": {},
   "outputs": [],
   "source": [
    "# Step 1: Personal information variables\n",
    "name = \"Vamshi Krishna\"\n",
    "age = 22\n",
    "height = 1.68  # meters\n",
    "weight = 65    # kg\n",
    "is_student = True\n",
    "is_employed = False\n",
    "favorite_number = 7"
   ]
  },
  {
   "cell_type": "code",
   "execution_count": null,
   "metadata": {},
   "outputs": [],
   "source": [
    "# Step 2: Derived calculations\n",
    "age_in_days = age * 365\n",
    "height_in_inches = height * 100 / 2.54  # convert meters to cm to inches\n",
    "bmi = weight / height ** 2\n",
    "is_adult = age >= 18\n",
    "\n",
    "if bmi < 18.5:\n",
    "    bmi_indication = \"Underweight\"\n",
    "elif bmi < 24.9:\n",
    "    bmi_indication = \"Normal weight\"\n",
    "elif bmi < 29.9:\n",
    "    bmi_indication = \"Overweight\"\n",
    "else:\n",
    "    bmi_indication = \"Obese\"\n",
    "\n",
    "# Status information\n",
    "status = \"Student\" if is_student else \"Professional\""
   ]
  },
  {
   "cell_type": "code",
   "execution_count": null,
   "metadata": {},
   "outputs": [],
   "source": [
    "# Step 3: Create formatted profile\n",
    "profile = f\"\"\"\n",
    "🧑 PERSONAL PROFILE\n",
    "==================\n",
    "Name: {name}\n",
    "Age: {age} years ({age_in_days:,} days old!)\n",
    "Height: {height} Mtrs ({height_in_inches:.1f} inches)\n",
    "Weight: {weight} kg\n",
    "BMI: {bmi:.1f}\n",
    "BMI Indication: {bmi_indication}\n",
    "Status: {status}\n",
    "Adult: {\"Yes\" if is_adult else \"No\"}\n",
    "Lucky Number: {favorite_number}\n",
    "\"\"\"\n",
    "\n",
    "print(profile)"
   ]
  },
  {
   "cell_type": "markdown",
   "metadata": {},
   "source": [
    "## 🎯 Key Takeaways\n",
    "\n",
    "- 🏷️ **Variables:** Named containers for data  \n",
    "- 🔢 **Numbers:** int, float for calculations  \n",
    "- 📝 **Strings:** Text with quotes, f-strings for formatting  \n",
    "- ✅ **Booleans:** True/False for decisions  \n",
    "- 🔄 **Conversion:** Transform data between types  \n",
    "- 💡 **Practice:** Real projects solidify learning!"
   ]
  }
 ],
 "metadata": {
  "kernelspec": {
   "display_name": "Python 3",
   "language": "python",
   "name": "python3"
  },
  "language_info": {
   "name": "python",
   "version": "3.x"
  }
 },
 "nbformat": 4,
 "nbformat_minor": 5
}
