{
 "cells": [
  {
   "cell_type": "markdown",
   "metadata": {},
   "source": [
    "# 💻 Hands-on Task: Personal Information Manager"
   ]
  },
  {
   "cell_type": "markdown",
   "metadata": {},
   "source": [
    "## 🏗️ What We'll Build\n",
    "\n",
    "**Personal Information Manager**  \n",
    "Create a system to store and display personal information using **all data types**!\n",
    "\n",
    "_\"Every expert was once a beginner. Every pro was once an amateur!\" 🚀_"
   ]
  },
  {
   "cell_type": "markdown",
   "metadata": {},
   "source": [
    "## 📋 Task Steps\n",
    "\n",
    "1. 🏷️ Create variables for personal information  \n",
    "2. 🔢 Calculate derived information (age in days, etc.)  \n",
    "3. 📝 Format information nicely with strings  \n",
    "4. ✅ Add boolean flags for status  \n",
    "5. 🎨 Display a complete profile"
   ]
  },
  {
   "cell_type": "code",
   "execution_count": null,
   "metadata": {},
   "outputs": [],
   "source": [
    "# Step 1: Personal information variables\n",
    "name = \"Alex Johnson\"\n",
    "age = 22\n",
    "height = 5.8  # feet\n",
    "weight = 150.5  # pounds\n",
    "is_student = True\n",
    "is_employed = False\n",
    "favorite_number = 7"
   ]
  },
  {
   "cell_type": "code",
   "execution_count": null,
   "metadata": {},
   "outputs": [],
   "source": [
    "# Step 2: Derived calculations\n",
    "age_in_days = age * 365\n",
    "height_in_inches = height * 12\n",
    "bmi = (weight / (height_in_inches ** 2)) * 703\n",
    "is_adult = age >= 18\n",
    "\n",
    "# Status information\n",
    "status = \"Student\" if is_student else \"Professional\""
   ]
  },
  {
   "cell_type": "code",
   "execution_count": null,
   "metadata": {},
   "outputs": [],
   "source": [
    "# Step 3: Create formatted profile\n",
    "profile = f\"\"\"\n",
    "🧑 PERSONAL PROFILE\n",
    "==================\n",
    "Name: {name}\n",
    "Age: {age} years ({age_in_days:,} days old!)\n",
    "Height: {height} feet ({height_in_inches:.1f} inches)\n",
    "Weight: {weight} lbs\n",
    "BMI: {bmi:.1f}\n",
    "Status: {status}\n",
    "Adult: {\"Yes\" if is_adult else \"No\"}\n",
    "Lucky Number: {favorite_number}\n",
    "\"\"\"\n",
    "\n",
    "print(profile)"
   ]
  },
  {
   "cell_type": "markdown",
   "metadata": {},
   "source": [
    "## ✨ Expected Output\n",
    "\n",
    "```\n",
    "🧑 PERSONAL PROFILE\n",
    "==================\n",
    "Name: Alex Johnson\n",
    "Age: 22 years (8,030 days old!)\n",
    "Height: 5.8 feet (69.6 inches)\n",
    "Weight: 150.5 lbs\n",
    "BMI: 22.2\n",
    "Status: Student\n",
    "Adult: Yes\n",
    "Lucky Number: 7\n",
    "```"
   ]
  },
  {
   "cell_type": "markdown",
   "metadata": {},
   "source": [
    "## 🎯 Key Takeaways\n",
    "\n",
    "- 🏷️ **Variables:** Named containers for data  \n",
    "- 🔢 **Numbers:** int, float for calculations  \n",
    "- 📝 **Strings:** Text with quotes, f-strings for formatting  \n",
    "- ✅ **Booleans:** True/False for decisions  \n",
    "- 🔄 **Conversion:** Transform data between types  \n",
    "- 💡 **Practice:** Real projects solidify learning!"
   ]
  }
 ],
 "metadata": {
  "kernelspec": {
   "display_name": "Python 3",
   "language": "python",
   "name": "python3"
  },
  "language_info": {
   "name": "python",
   "version": "3.x"
  }
 },
 "nbformat": 4,
 "nbformat_minor": 5
}
