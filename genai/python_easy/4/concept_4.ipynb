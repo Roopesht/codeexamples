{
  "cells": [
    {
      "cell_type": "markdown",
      "metadata": {},
      "source": [
        "# String Operations in Python\n",
        "\n",
        "In this notebook, we will learn about how to perform various string operations in Python. Strings are a core part of programming, especially when working with text data."
      ]
    },
    {
      "cell_type": "markdown",
      "metadata": {},
      "source": [
        "## Concept 4: String Operations\n",
        "\n",
        "Let's explore some common string operations:\n",
        "\n",
        "- Concatenation: Joining strings together\n",
        "- Repetition: Repeating strings\n",
        "- Membership testing: Checking if a substring exists\n",
        "- Length and comparison operations\n"
      ]
    },
    {
      "cell_type": "markdown",
      "metadata": {},
      "source": [
        "### String Concatenation\n",
        "\n",
        "Concatenation means joining strings together to make a new string. There are several ways to do this in Python."
      ]
    },
    {
      "cell_type": "markdown",
      "metadata": {},
      "source": [
        "#### 1. Using the `+` operator\n",
        "\n",
        "The `+` operator combines two or more strings into one."
      ]
    },
    {
      "cell_type": "code",
      "execution_count": null,
      "outputs": [],
      "source": [
        "# String concatenation using + operator\n",
        "first_name = \"John\"\n",
        "last_name = \"Doe\"\n",
        "\n",
        "# Joining first and last name with a space\n",
        "full_name = first_name + \" \" + last_name\n",
        "print(full_name)  # Output: John Doe"
      ]
    },
    {
      "cell_type": "markdown",
      "metadata": {},
      "source": [
        "#### 2. Using `join()` method\n",
        "\n",
        "The `join()` method is efficient when concatenating many strings, especially from a list."
      ]
    },
    {
      "cell_type": "code",
      "execution_count": null,
      "outputs": [],
      "source": [
        "# Using join() to combine multiple words into a sentence\n",
        "words = [\"AI\", \"is\", \"transforming\", \"the\", \"world\"]\n",
        "sentence = \" \".join(words)\n",
        "print(sentence)  # Output: AI is transforming the world"
      ]
    },
    {
      "cell_type": "markdown",
      "metadata": {},
      "source": [
        "#### 3. Using f-strings\n",
        "\n",
        "f-strings provide a modern and readable way to concatenate strings and include variables."
      ]
    },
    {
      "cell_type": "code",
      "execution_count": null,
      "outputs": [],
      "source": [
        "# Using f-strings for concatenation\n",
        "greeting = f\"Hello {first_name} {last_name}!\"\n",
        "print(greeting)  # Output: Hello John Doe!"
      ]
    },
    {
      "cell_type": "markdown",
      "metadata": {},
      "source": [
        "### String Repetition\n",
        "\n",
        "You can repeat a string multiple times using the `*` operator."
      ]
    },
    {
      "cell_type": "code",
      "execution_count": null,
      "outputs": [],
      "source": [
        "# Repeating a separator line\n",
        "separator = \"-\" * 50\n",
        "print(separator)  # Output: --------------------------------------------------"
      ]
    },
    {
      "cell_type": "markdown",
      "metadata": {},
      "source": [
        "### Membership Testing\n",
        "\n",
        "To check if a substring exists within a string, use `in`. To verify if it does not exist, use `not in`."
      ]
    },
    {
      "cell_type": "code",
      "execution_count": null,
      "outputs": [],
      "source": [
        "# Membership testing\n",
        "text = \"Machine Learning is fascinating\"\n",
        "print(\"Learning\" in text)      # Output: True\n",
        "print(\"Python\" not in text)    # Output: True"
      ]
    },
    {
      "cell_type": "markdown",
      "metadata": {},
      "source": [
        "### Length and Comparison\n",
        "\n",
        "You can find the length of a string using `len()`. Strings can also be compared using comparison operators."
      ]
    },
    {
      "cell_type": "code",
      "execution_count": null,
      "outputs": [],
      "source": [
        "# Length of a string\n",
        "prompt1 = \"Generate a story\"\n",
        "prompt2 = \"Write a poem\"\n",
        "print(len(prompt1))  # Output: 16\n",
        "\n",
        "# Lexicographic comparison\n",
        "print(prompt1 > prompt2)  # Output: False"
      ]
    },
    {
      "cell_type": "markdown",
      "metadata": {},
      "source": [
        "## AI Use Case: Building Prompts\n",
        "\n",
        "Let's see how string operations can help in building prompts for AI tasks."
      ]
    },
    {
      "cell_type": "code",
      "execution_count": null,
      "outputs": [],
      "source": [
        "# Building a list of prompts for AI tasks\n",
        "ai_tasks = [\"summarize\", \"translate\", \"generate\"]\n",
        "base_prompt = \"Please \"\n",
        "full_prompts = [base_prompt + task + \" the following text:\" for task in ai_tasks]\n",
        "for prompt in full_prompts:\n",
        "    print(prompt)"
      ]
    },
    {
      "cell_type": "markdown",
      "metadata": {},
      "source": [
        "## Key Takeaway\n",
        "\n",
        "String operations are your **building blocks** for complex text processing! They enable you to manipulate and generate text dynamically."
      ]
    },
    {
      "cell_type": "markdown",
      "metadata": {},
      "source": [
        "> **Question:** When would you use `join()` instead of `+` for concatenation?\n",
        "\n",
        "Answer: Use `join()` when concatenating many strings, especially from a list, because it is more efficient and faster than using `+` repeatedly."
      ]
    }
  ],
  "metadata": {
    "kernelspec": {
      "name": "python3",
      "display_name": "Python 3",
      "language": "python"
    },
    "language_info": {
      "name": "python",
      "version": "3.x"
    }
  },
  "nbformat": 4,
  "nbformat_minor": 5
}