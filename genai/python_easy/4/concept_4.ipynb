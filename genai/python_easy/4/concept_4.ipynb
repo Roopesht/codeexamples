{
  "cells": [
    {
      "cell_type": "markdown",
      "metadata": {},
      "source": [
        "# Concept 4: String Operations"
      ]
    },
    {
      "cell_type": "markdown",
      "metadata": {},
      "source": [
        "🔗 Concept 4: String Operations"
      ]
    },
    {
      "cell_type": "markdown",
      "metadata": {},
      "source": [
        "⚡ String Operations & Tricks"
      ]
    },
    {
      "cell_type": "markdown",
      "metadata": {},
      "source": [
        "- ➕ **Concatenation:** Joining strings together",
        "- ✖️ **Repetition:** Multiply strings",
        "- 🔍 **Membership:** Check if substring exists",
        "- 📏 **Length & Counting:** Measure your strings"
      ]
    },
    {
      "cell_type": "code",
      "execution_count": null,
      "metadata": {},
      "outputs": [],
      "source": [
        "# 🔗 String Operations Showcase"
      ]
    },
    {
      "cell_type": "code",
      "execution_count": null,
      "metadata": {},
      "outputs": [],
      "source": [
        "first = 'Python'\n",
        "second = 'GenAI'\n",
        "\n",
        "# Concatenation\n",
        "full = first + ' ' + second\n",
        "print(full)\n",
        "\n",
        "# Repetition\n",
        "separator = '-' * 20\n",
        "print(separator)\n",
        "\n",
        "# Membership testing\n",
        "print('AI' in full)\n",
        "print('Java' not in full)\n",
        "\n",
        "# Length and counting\n",
        "print(f'Length: {len(full)}')\n",
        "print(f\"'n' appears {full.count('n')} times\")\n",
        "\n",
        "# Finding positions\n",
        "print(f\"'for' starts at position: {full.find('for')}\")"
      ]
    },
    {
      "cell_type": "markdown",
      "metadata": {},
      "source": [
        "🚀 Try in Colab"
      ]
    },
    {
      "cell_type": "code",
      "execution_count": null,
      "metadata": {},
      "outputs": [],
      "source": [
        "<a href=\"https://colab.research.google.com/github/Roopesht/codeexamples/blob/main/genai/python_easy/4/string_operations.ipynb\" target=\"_blank\" class=\"colab-button\">",
        "  🚀 Try in Colab",
        "</a>"
      ]
    },
    {
      "cell_type": "markdown",
      "metadata": {},
      "source": [
        "📤 Operation Results"
      ]
    },
    {
      "cell_type": "code",
      "execution_count": null,
      "metadata": {},
      "outputs": [],
      "source": [
        "Output:\n",
        "--------------------\n",
        "True\n",
        "True\n",
        "Length: 16\n",
        "'n' appears 3 times\n",
        "'for' starts at position: 7"
      ]
    },
    {
      "cell_type": "markdown",
      "metadata": {},
      "source": [
        "🤖 AI Connection"
      ]
    },
    {
      "cell_type": "markdown",
      "metadata": {},
      "source": [
        "You're building a keyword extraction system that needs to find and count important terms in documents. How would you combine these string operations to:"
      ]
    },
    {
      "cell_type": "markdown",
      "metadata": {},
      "source": [
        "- Check if keywords exist in text\n",
        "- Count their occurrences\n",
        "- Find their positions"
      ]
    },
    {
      "cell_type": "markdown",
      "metadata": {},
      "source": [
        "💡 These are the building blocks of text analytics! 📈"
      ]
    }
  ],
  "metadata": {
    "kernelspec": {
      "name": "python3",
      "display_name": "Python 3",
      "language": "python"
    },
    "language_info": {
      "name": "python",
      "version": "3.x"
    }
  },
  "nbformat": 4,
  "nbformat_minor": 5
}