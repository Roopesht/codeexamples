{
  "cells": [
    {
      "cell_type": "markdown",
      "metadata": {},
      "source": [
        "# Concept 4: Local vs Global Scope"
      ]
    },
    {
      "cell_type": "markdown",
      "metadata": {},
      "source": [
        "🌐 Variable Scope\n",
        "\n",
        "• **Local Scope**: Variables inside functions\n",
        "• **Global Scope**: Variables outside functions\n",
        "• **Encapsulation**: Local variables are isolated\n",
        "• **Best Practice**: Avoid global variables when possible"
      ]
    },
    {
      "cell_type": "code",
      "execution_count": null,
      "metadata": {},
      "outputs": [],
      "source": [
        "# Image: scope_concept.png (Visual representation of local and global variable scope)"
      ]
    },
    {
      "cell_type": "markdown",
      "metadata": {},
      "source": [
        "🌐 Scope Example"
      ]
    },
    {
      "cell_type": "code",
      "execution_count": null,
      "metadata": {},
      "outputs": [],
      "source": [
        "# Global variable\n",
        "ai_model = \"GPT-4\"\n",
        "total_requests = 0\n",
        "\n",
        "def process_prompt(user_prompt):\n",
        "    # Local variables\n",
        "    processed_prompt = user_prompt.strip().lower()\n",
        "    response_length = len(processed_prompt) * 2\n",
        "\n",
        "    # Access global variable (reading)\n",
        "    print(f\"Using model: {ai_model}\")\n",
        "\n",
        "    # Modify global variable (needs global keyword)\n",
        "    global total_requests\n",
        "    total_requests += 1\n",
        "\n",
        "    return f\"Processed: {processed_prompt[:50]}...\"\n",
        "\n",
        "# Function call\n",
        "result = process_prompt(\"  Generate Python Code for Data Analysis  \")\n",
        "print(result)\n",
        "print(f\"Total requests: {total_requests}\")\n",
        "# This would cause an error - local variable not accessible\n",
        "# print(processed_prompt)  # NameError!"
      ]
    },
    {
      "cell_type": "code",
      "execution_count": null,
      "metadata": {},
      "outputs": [
        {
          "name": "stdout",
          "output_type": "stream",
          "text": [
            "Using model: GPT-4\n",
            "Processed: generate python code for data analysis... \n",
            "Total requests: 1\n"
          ]
        }
      ],
      "source": []
    },
    {
      "cell_type": "markdown",
      "metadata": {},
      "source": [
        "📤 Output"
      ]
    },
    {
      "cell_type": "markdown",
      "metadata": {},
      "source": [
        "*Scope helps keep your code organized and prevents variable conflicts!*"
      ]
    },
    {
      "cell_type": "markdown",
      "metadata": {},
      "source": [
        "🎯 Key Takeaway"
      ]
    },
    {
      "cell_type": "markdown",
      "metadata": {},
      "source": [
        "Understanding scope prevents bugs and makes code more maintainable. Local variables keep functions self-contained, while global variables should be used sparingly."
      ]
    },
    {
      "cell_type": "markdown",
      "metadata": {},
      "source": [
        "💭 Question: Why might using too many global variables make your GenAI application harder to debug?"
      ]
    }
  ],
  "metadata": {
    "kernelspec": {
      "display_name": "Python 3",
      "language": "python",
      "name": "python3"
    },
    "language_info": {
      "codemirror_mode": {
        "name": "ipython",
        "version": 3
      },
      "file_extension": ".py",
      "mimetype": "text/x-python",
      "name": "python",
      "nbconvert_exporter": "python",
      "pygments_lexer": "ipython3",
      "version": "3.8"
    }
  },
  "nbformat": 4,
  "nbformat_minor": 5
}