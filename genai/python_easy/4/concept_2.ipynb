{
  "cells": [
    {
      "cell_type": "markdown",
      "metadata": {},
      "source": [
        "# 🛠️ Concept 2: Essential String Methods"
      ]
    },
    {
      "cell_type": "markdown",
      "metadata": {},
      "source": [
        "🧰 String Method Toolkit"
      ]
    },
    {
      "cell_type": "markdown",
      "metadata": {},
      "source": [
        "- 📝 **upper(), lower():** Change case",
        "- ✨ **strip():** Remove whitespace",
        "- 🔄 **replace():** Substitute text",
        "- 🎯 **split(), join():** Convert between strings and lists"
      ]
    },
    {
      "cell_type": "markdown",
      "metadata": {},
      "source": [
        "## 🛠️ String Methods in Action"
      ]
    },
    {
      "cell_type": "code",
      "execution_count": null,
      "metadata": {},
      "outputs": [],
      "source": [
        "messy_text = \"  Hello WORLD! How are You?  \""
      ]
    },
    {
      "cell_type": "code",
      "execution_count": null,
      "metadata": {},
      "outputs": [],
      "source": [
        "# Case manipulation",
        "print(messy_text.upper())",
        "print(messy_text.lower())",
        "print(messy_text.title())"
      ]
    },
    {
      "cell_type": "code",
      "execution_count": null,
      "metadata": {},
      "outputs": [],
      "source": [
        "# Cleaning",
        "print(messy_text.strip())",
        "print(messy_text.replace(\"WORLD\", \"Python\"))"
      ]
    },
    {
      "cell_type": "code",
      "execution_count": null,
      "metadata": {},
      "outputs": [],
      "source": [
        "# Splitting and joining",
        "words = messy_text.strip().split()",
        "print(words)",
        "print(\"-\".join(words))"
      ]
    },
    {
      "cell_type": "markdown",
      "metadata": {},
      "source": [
        "## 📤 Method Results"
      ]
    },
    {
      "cell_type": "code",
      "execution_count": null,
      "metadata": {},
      "outputs": [],
      "source": [
        "# Expected outputs:\n",
        "# \"  HELLO WORLD! How are You?  \"\n",
        "# \"hello world! how are you?\"\n",
        "# \"Hello World! How Are You?\"\n",
        "# \"Hello WORLD! How are You?\"\n",
        "# \"Hello Python! How are You?\"\n",
        "# \"['Hello', 'WORLD!', 'How', 'are', 'You?']\"\n",
        "# \"Hello-WORLD!-How-are-You?\""
      ]
    },
    {
      "cell_type": "markdown",
      "metadata": {},
      "source": [
        "## 💭 Real-World Application"
      ]
    },
    {
      "cell_type": "markdown",
      "metadata": {},
      "source": [
        "Imagine processing thousands of customer reviews for sentiment analysis. How would these string methods help clean and standardize the text before feeding it to an AI model?"
      ]
    },
    {
      "cell_type": "markdown",
      "metadata": {},
      "source": [
        "> Data cleaning is 80% of AI work - and strings are your best friend! 📊"
      ]
    }
  ],
  "metadata": {
    "kernelspec": {
      "display_name": "Python 3",
      "language": "python",
      "name": "python3"
    },
    "language_info": {
      "name": "python",
      "version": "3.x"
    }
  }
}