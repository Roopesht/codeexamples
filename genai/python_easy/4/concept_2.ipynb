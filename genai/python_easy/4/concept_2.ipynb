{
  "cells": [
    {
      "cell_type": "markdown",
      "metadata": {},
      "source": [
        "# Concept 2: Parameters and Arguments"
      ]
    },
    {
      "cell_type": "markdown",
      "metadata": {},
      "source": [
        "📥 **Concept 2: Parameters and Arguments**"
      ]
    },
    {
      "cell_type": "markdown",
      "metadata": {},
      "source": [
        "## 📥 Parameters vs Arguments"
      ]
    },
    {
      "cell_type": "markdown",
      "metadata": {},
      "source": [
        "- 📝 **Parameters**: Variables in function definition",
        "- 📤 **Arguments**: Actual values passed to function",
        "- 🔄 **Flexibility**: Same function, different inputs",
        "- 🎯 **Customization**: Adapt behavior based on input"
      ]
    },
    {
      "cell_type": "code",
      "execution_count": null,
      "metadata": {},
      "outputs": [],
      "source": [
        "# Function with parameters\ndef greet_user(name, age):",
        "    \"\"\"Greets user with personalized message\"\"\"",
        "    return f\"Hello {name}! You are {age} years old.\"",
        "",
        "# Function with multiple parameters for GenAI\ndef create_ai_prompt(topic, style, length):",
        "    \"\"\"Creates customized AI prompts\"\"\"",
        "    prompt = f\"Write a {length} {style} about {topic}\"",
        "    return prompt",
        "",
        "# Calling functions with arguments",
        "message = greet_user(\"Alice\", 25)",
        "ai_prompt = create_ai_prompt(\"Python\", \"tutorial\", \"comprehensive\")",
        "print(message)",
        "print(ai_prompt)"
      ]
    },
    {
      "cell_type": "markdown",
      "metadata": {},
      "source": [
        "## 📤 Output"
      ]
    },
    {
      "cell_type": "code",
      "execution_count": null,
      "metadata": {},
      "outputs": [],
      "source": [
        "# Example output\n",
        "\"\"\" Hello Alice! You are 25 years old. Write a comprehensive tutorial about Python \"\"\""
      ]
    },
    {
      "cell_type": "markdown",
      "metadata": {},
      "source": [
        "📝 **Parameters make functions flexible and reusable!**"
      ]
    },
    {
      "cell_type": "markdown",
      "metadata": {},
      "source": [
        "## 🎯 Key Takeaway"
      ]
    },
    {
      "cell_type": "markdown",
      "metadata": {},
      "source": [
        "Parameters transform functions from fixed code blocks into flexible tools. Perfect for creating dynamic AI prompts and processing various data inputs!"
      ]
    },
    {
      "cell_type": "markdown",
      "metadata": {},
      "source": [
        "**💭 Question:** How would you modify a function to handle different types of AI model inputs?"
      ]
    }
  ],
  "metadata": {
    "kernelspec": {
      "display_name": "Python 3",
      "language": "python",
      "name": "python3"
    },
    "language_info": {
      "name": "python",
      "version": "3.x"
    }
  },
  "nbformat": 4,
  "nbformat_minor": 5
}