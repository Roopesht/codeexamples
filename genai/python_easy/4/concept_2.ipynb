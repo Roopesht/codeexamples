{
  "cells": [
    {
      "cell_type": "markdown",
      "metadata": {},
      "source": [
        "# String Methods in Python\n",
        "\n",
        "Welcome! In this notebook, we'll explore some essential string methods in Python that are especially useful for data cleaning and preprocessing."
      ]
    },
    {
      "cell_type": "markdown",
      "metadata": {},
      "source": [
        "## 🛠️ Essential String Methods\n",
        "\n",
        "- **`upper()`, `lower()`** - Convert text to uppercase or lowercase.\n",
        "- **`strip()`** - Remove whitespace from the beginning and end of a string.\n",
        "- **`replace()`** - Substitute parts of a string with other text.\n",
        "- These methods are very helpful in preparing text data, especially in AI and machine learning projects."
      ]
    },
    {
      "cell_type": "markdown",
      "metadata": {},
      "source": [
        "## 🔤 Case Conversion Methods\n",
        "\n",
        "- `upper()`: Converts all characters to uppercase.\n",
        "- `lower()`: Converts all characters to lowercase.\n",
        "- `title()`: Capitalizes the first letter of each word.\n",
        "- `capitalize()`: Capitalizes only the first letter of the string."
      ]
    },
    {
      "cell_type": "markdown",
      "metadata": {},
      "source": [
        "## ✨ Text Cleaning Methods\n",
        "\n",
        "- `strip()`: Removes whitespace from both ends of the string.\n",
        "- `lstrip()`: Removes whitespace from the start.\n",
        "- `rstrip()`: Removes whitespace from the end.\n",
        "- `replace(old, new)`: Replaces all occurrences of `old` with `new`."
      ]
    },
    {
      "cell_type": "markdown",
      "metadata": {},
      "source": [
        "## 💻 Code Example\n",
        "\n",
        "Let's see some of these string methods in action:"
      ]
    },
    {
      "cell_type": "code",
      "execution_count": null,
      "metadata": {},
      "outputs": [],
      "source": [
        "# String methods for data cleaning\n",
        "user_input = \"  Hello World! Welcome to AI  \"\n",
        "\n",
        "# Case conversion\n",
        "print(user_input.upper())        # HELLO WORLD! WELCOME TO AI\n",
        "print(user_input.lower())        # hello world! welcome to ai\n",
        "print(user_input.title())        # Hello World! Welcome To Ai\n",
        "\n",
        "# Cleaning methods\n",
        "print(user_input.strip())        # \"Hello World! Welcome to AI\"\n",
        "print(user_input.replace(\"!\", \"\")) # \"  Hello World Welcome to AI  \"\n",
        "\n",
        "# Chaining methods (common in AI preprocessing)\n",
        "clean_text = user_input.strip().lower().replace(\"!\", \"\")\n",
        "print(clean_text)               # \"hello world welcome to ai\"\n",
        "\n",
        "# Real AI use case\n",
        "ai_prompt = \"  GENERATE A STORY ABOUT ROBOTS  \"\n",
        "formatted_prompt = ai_prompt.strip().lower().title()\n",
        "print(formatted_prompt)        # \"Generate A Story About Robots\""
      ]
    },
    {
      "cell_type": "markdown",
      "metadata": {},
      "source": [
        "## 🎯 Key Takeaway\n",
        "\n",
        "String methods are your **data cleaning superpowers**! They help ensure your text data is well-formatted before feeding it into AI models. Clean text data leads to better model performance and more accurate results."
      ]
    }
  ],
  "metadata": {
    "kernelspec": {
      "display_name": "Python 3",
      "language": "python",
      "name": "python3"
    },
    "language_info": {
      "name": "python",
      "version": "3.x"
    }
  },
  "nbformat": 4,
  "nbformat_minor": 5
}