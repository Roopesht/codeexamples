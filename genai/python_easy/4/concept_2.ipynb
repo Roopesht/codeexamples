{
  "cells": [
    {
      "cell_type": "markdown",
      "metadata": {},
      "source": [
        "# 🛠️ Concept 2: Essential String Methods"
      ]
    },
    {
      "cell_type": "markdown",
      "metadata": {},
      "source": [
        "## 🧰 String Method Toolkit"
      ]
    },
    {
      "cell_type": "markdown",
      "metadata": {},
      "source": [
        "- 📝 **upper(), lower():** Change case",
        "- ✨ **strip():** Remove whitespace",
        "- 🔄 **replace():** Substitute text",
        "- 🎯 **split(), join():** Convert between strings and lists"
      ]
    },
    {
      "cell_type": "code",
      "execution_count": null,
      "metadata": {},
      "outputs": [],
      "source": [
        "messy_text = \"  Hello WORLD! How are You?  \""
      ]
    },
    {
      "cell_type": "code",
      "execution_count": null,
      "metadata": {},
      "outputs": [],
      "source": [
        "# Case manipulation"
      ]
    },
    {
      "cell_type": "code",
      "execution_count": null,
      "metadata": {},
      "outputs": [],
      "source": [
        "print(messy_text.upper())"
      ]
    },
    {
      "cell_type": "code",
      "execution_count": null,
      "metadata": {},
      "outputs": [],
      "source": [
        "print(messy_text.lower())"
      ]
    },
    {
      "cell_type": "code",
      "execution_count": null,
      "metadata": {},
      "outputs": [],
      "source": [
        "print(messy_text.title())"
      ]
    },
    {
      "cell_type": "code",
      "execution_count": null,
      "metadata": {},
      "outputs": [],
      "source": [
        "# Cleaning"
      ]
    },
    {
      "cell_type": "code",
      "execution_count": null,
      "metadata": {},
      "outputs": [],
      "source": [
        "print(messy_text.strip())"
      ]
    },
    {
      "cell_type": "code",
      "execution_count": null,
      "metadata": {},
      "outputs": [],
      "source": [
        "print(messy_text.replace(\"WORLD\", \"Python\"))"
      ]
    },
    {
      "cell_type": "code",
      "execution_count": null,
      "metadata": {},
      "outputs": [],
      "source": [
        "# Splitting and joining"
      ]
    },
    {
      "cell_type": "code",
      "execution_count": null,
      "metadata": {},
      "outputs": [],
      "source": [
        "words = messy_text.strip().split()"
      ]
    },
    {
      "cell_type": "code",
      "execution_count": null,
      "metadata": {},
      "outputs": [],
      "source": [
        "print(words)"
      ]
    },
    {
      "cell_type": "code",
      "execution_count": null,
      "metadata": {},
      "outputs": [],
      "source": [
        "print(\"-\".join(words))"
      ]
    },
    {
      "cell_type": "markdown",
      "metadata": {},
      "source": [
        "## 🛠️ String Methods in Action"
      ]
    },
    {
      "cell_type": "markdown",
      "metadata": {},
      "source": [
        "### 🛠️ String Methods in Action"
      ]
    },
    {
      "cell_type": "code",
      "execution_count": null,
      "metadata": {},
      "outputs": [
        {
          "name": "stdout",
          "output_type": "stream",
          "text": [
            "  HELLO WORLD! HOW ARE YOU?  \n",
            "  hello world! how are you?  \n",
            "  Hello World! How Are You?  \n",
            "Hello WORLD! How are You?\n",
            "  Hello Python! How are You?  \n",
            "['Hello', 'WORLD!', 'How', 'are', 'You?']\n",
            "Hello-WORLD!-How-are-You?\n"
          ]
        }
      ],
      "source": [
        "messy_text = \"  Hello WORLD! How are You?  \"\n",
        "\n",
        "# Case manipulation\n",
        "print(messy_text.upper())\n",
        "print(messy_text.lower())\n",
        "print(messy_text.title())\n",
        "\n",
        "# Cleaning\n",
        "print(messy_text.strip())\n",
        "print(messy_text.replace(\"WORLD\", \"Python\"))\n",
        "\n",
        "# Splitting and joining\n",
        "words = messy_text.strip().split()\n",
        "print(words)\n",
        "print(\"-\".join(words))\n"
      ]
    },
    {
      "cell_type": "markdown",
      "metadata": {},
      "source": [
        "### 🚀 Try in Colab"
      ]
    },
    {
      "cell_type": "markdown",
      "metadata": {},
      "source": [
        "[🚀 Try in Colab](https://colab.research.google.com/github/Roopesht/codeexamples/blob/main/genai/python_easy/4/concept_2.ipynb)"
      ]
    },
    {
      "cell_type": "markdown",
      "metadata": {},
      "source": [
        "## 📤 Method Results"
      ]
    },
    {
      "cell_type": "markdown",
      "metadata": {},
      "source": [
        "### 📤 Method Results"
      ]
    },
    {
      "cell_type": "code",
      "execution_count": null,
      "metadata": {},
      "outputs": [
        {
          "name": "stdout",
          "output_type": "stream",
          "text": [
            "  HELLO WORLD! HOW ARE YOU?  \n",
            "  hello world! how are you?  \n",
            "  Hello World! How Are You?  \n",
            "Hello WORLD! How are You?\n",
            "  Hello Python! How are You?  \n",
            "['Hello', 'WORLD!', 'How', 'are', 'You?']\n",
            "Hello-WORLD!-How-are-You?\n"
          ]
        }
      ],
      "source": [
        "# The output is already included in previous cell"
      ]
    },
    {
      "cell_type": "markdown",
      "metadata": {},
      "source": [
        "## 💭 Real-World Application"
      ]
    },
    {
      "cell_type": "markdown",
      "metadata": {},
      "source": [
        "### 💭 Real-World Application"
      ]
    },
    {
      "cell_type": "markdown",
      "metadata": {},
      "source": [
        "Imagine processing thousands of customer reviews for sentiment analysis. How would these string methods help clean and standardize the text before feeding it to an AI model?"
      ]
    },
    {
      "cell_type": "markdown",
      "metadata": {},
      "source": [
        "⚡ **Data cleaning is 80% of AI work - and strings are your best friend! 📊**"
      ]
    }
  ],
  "metadata": {},
  "nbformat": 4,
  "nbformat_minor": 5
}