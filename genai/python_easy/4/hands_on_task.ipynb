{
  "cells": [
    {
      "cell_type": "markdown",
      "metadata": {},
      "source": [
        "# 💻 Hands-On Challenge: Text Processor\n",
        "\n",
        "Create a program that transforms messy user input into clean, professional text!"
      ]
    },
    {
      "cell_type": "markdown",
      "metadata": {},
      "source": [
        "![Before and after comparison](~!@images/text_processor.png~!@)"
      ]
    },
    {
      "cell_type": "markdown",
      "metadata": {},
      "source": [
        "## 📋 Your Mission\n",
        "- 🧹 Remove extra spaces and clean whitespace\n",
        "- ✨ Apply proper capitalization\n",
        "- 📊 Count words, sentences, and characters\n",
        "- 🔍 Identify and highlight key metrics\n",
        "- 📝 Format the output beautifully"
      ]
    },
    {
      "cell_type": "markdown",
      "metadata": {},
      "source": [
        "## 🎯 Step-by-Step Plan"
      ]
    },
    {
      "cell_type": "markdown",
      "metadata": {},
      "source": [
        "1. **Input:** Get messy text from user",
        "2. **Clean:** Strip extra whitespace",
        "3. **Format:** Fix capitalization",
        "4. **Analyze:** Count words, sentences, characters",
        "5. **Report:** Display results with f-strings"
      ]
    },
    {
      "cell_type": "markdown",
      "metadata": {},
      "source": [
        "## 📝 Input/Output Example"
      ]
    },
    {
      "cell_type": "markdown",
      "metadata": {},
      "source": [
        "**Input:**"
      ]
    },
    {
      "cell_type": "code",
      "execution_count": null,
      "metadata": {},
      "outputs": [],
      "source": [
        "   hello world.    this IS a    test MESSAGE!   how are YOU doing today?  "
      ]
    },
    {
      "cell_type": "markdown",
      "metadata": {},
      "source": [
        "**Expected Output:**"
      ]
    },
    {
      "cell_type": "code",
      "execution_count": null,
      "metadata": {},
      "outputs": [],
      "source": [
        "📝 TEXT PROCESSOR RESULTS 📝\n",
        "═══════════════════════════\n",
        "Original:    hello world.    this IS a    test MESSAGE!   how are YOU doing today?  \n",
        "Cleaned:  Hello world. This is a test message! How are you doing today?\n",
        "\n",
        "📊 STATISTICS:\n",
        "├─ Words: 12\n",
        "├─ Sentences: 3  \n",
        "├─ Characters: 59\n",
        "└─ Average words/sentence: 4.0"
      ]
    },
    {
      "cell_type": "markdown",
      "metadata": {},
      "source": [
        "## 🏗️ Code Structure Template"
      ]
    },
    {
      "cell_type": "code",
      "execution_count": null,
      "metadata": {},
      "outputs": [],
      "source": [
        "def text_processor():\n",
        "    # 1. Get user input\n",
        "    text = input(\"Enter your messy text: \")\n",
        "    \n",
        "    # 2. Clean the text\n",
        "    # TODO: Remove extra spaces, fix capitalization\n",
        "    \n",
        "    # 3. Analyze the text  \n",
        "    # TODO: Count words, sentences, characters\n",
        "    \n",
        "    # 4. Display results\n",
        "    # TODO: Use f-strings for beautiful formatting\n",
        "    \n",
        "    return cleaned_text, stats\n",
        "\n",
        "# Test your function\n",
        "text_processor()"
      ]
    },
    {
      "cell_type": "markdown",
      "metadata": {},
      "source": [
        "## 🎉 Why This Matters"
      ]
    },
    {
      "cell_type": "markdown",
      "metadata": {},
      "source": [
        "This text processor demonstrates real AI preprocessing:"
      ]
    },
    {
      "cell_type": "markdown",
      "metadata": {},
      "source": [
        "- 🤖 **ChatGPT:** Cleans prompts before processing",
        "- 📊 **Analytics:** Standardizes data for analysis",
        "- 🌐 **Web Apps:** Validates and formats user input"
      ]
    },
    {
      "cell_type": "markdown",
      "metadata": {},
      "source": [
        "**You're building the foundation of text-based AI! 🚀**"
      ]
    }
  ],
  "metadata": {
    "kernelspec": {
      "name": "python3",
      "display_name": "Python 3",
      "language": "python"
    },
    "language_info": {
      "name": "python",
      "version": "3.8"
    }
  }
}