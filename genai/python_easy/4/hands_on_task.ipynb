{
  "cells": [
    {
      "cell_type": "markdown",
      "metadata": {},
      "source": [
        "# Text Processor\n",
        "\n",
        "This notebook guides you through building a simple text processing program that cleans and formats user input text."
      ]
    },
    {
      "cell_type": "markdown",
      "metadata": {},
      "source": [
        "## 🎯 Build a Text Processor\n",
        "\n",
        "Below is an example of a text processing application:\n",
        "\n",
        "![Text Processor Image](images/text_processor.png)\n",
        "\n",
        "_\"Create a program that cleans and formats user input text!\"_"
      ]
    },
    {
      "cell_type": "markdown",
      "metadata": {},
      "source": [
        "## 📋 Task Requirements\n",
        "\n",
        "- 🧹 Remove extra spaces and clean text\n",
        "- 🔤 Apply proper capitalization\n",
        "- 🔢 Count words, characters, sentences\n",
        "- 📊 Display formatted statistics\n",
        "- 🎯 Handle edge cases (empty input, special characters)"
      ]
    },
    {
      "cell_type": "markdown",
      "metadata": {},
      "source": [
        "## 📝 Input/Output Examples\n",
        "\n",
        "```python\n",
        "# Example 1\n",
        "Input: \"  hello    world! welcome  to   AI programming.  \"\n",
        "Output: \n",
        "Cleaned Text: \"Hello world! Welcome to AI programming.\"\n",
        "Words: 6\n",
        "Characters: 34\n",
        "Sentences: 2\n",
        "\n",
        "# Example 2\n",
        "Input: \"PYTHON is    amazing!!!   let's learn   MORE.\"\n",
        "Output:\n",
        "Cleaned Text: \"Python is amazing! Let's learn more.\"\n",
        "Words: 6\n",
        "Characters: 31\n",
        "Sentences: 2\n",
        "```\n"
      ]
    },
    {
      "cell_type": "markdown",
      "metadata": {},
      "source": [
        "## 🛠️ Implementation Steps\n",
        "\n",
        "1️⃣ Get user input and basic cleaning\n",
        "2️⃣ Remove extra spaces and normalize\n",
        "3️⃣ Apply proper capitalization rules\n",
        "4️⃣ Count words, characters, sentences\n",
        "5️⃣ Format and display results\n",
        "6️⃣ Add error handling"
      ]
    },
    {
      "cell_type": "markdown",
      "metadata": {},
      "source": [
        "## 💻 Code Structure\n",
        "\n",
        "```python\n",
        "def clean_text(text):\n",
        "    \"\"\"Clean and format the input text\"\"\"\n",
        "    # Your implementation here\n",
        "    pass\n",
        "\n",
        "def count_statistics(text):\n",
        "    \"\"\"Count words, characters, and sentences\"\"\"\n",
        "    # Your implementation here\n",
        "    pass\n",
        "\n",
        "def format_output(original, cleaned, stats):\n",
        "    \"\"\"Format the final output\"\"\"\n",
        "    # Your implementation here\n",
        "    pass\n",
        "\n",
        "def main():\n",
        "    \"\"\"Main function to run the text processor\"\"\"\n",
        "    # Your implementation here\n",
        "    pass\n",
        "\n",
        "if __name__ == \"__main__\":\n",
        "    main()\n",
        "```"
      ]
    },
    {
      "cell_type": "markdown",
      "metadata": {},
      "source": [
        "## 🎉 Expected Learning Outcomes\n",
        "\n",
        "- ✅ Master string cleaning techniques\n",
        "- ✅ Apply multiple string methods together\n",
        "- ✅ Build practical text processing skills\n",
        "- ✅ Understand real-world AI preprocessing\n",
        "\n",
        "_\"This is exactly how AI systems preprocess text data!\"_"
      ]
    }
  ],
  "metadata": {
    "kernelspec": {
      "display_name": "Python 3",
      "language": "python",
      "name": "python3"
    },
    "language_info": {
      "name": "python",
      "version": "3.x"
    }
  },
  "nbformat": 4,
  "nbformat_minor": 5
}