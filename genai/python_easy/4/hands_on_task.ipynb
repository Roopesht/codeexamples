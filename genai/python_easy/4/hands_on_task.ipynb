{
  "cells": [
    {
      "cell_type": "markdown",
      "metadata": {},
      "source": [
        "# 💻 Hands-On Challenge: Text Processor"
      ]
    },
    {
      "cell_type": "markdown",
      "metadata": {},
      "source": [
        "## 🛠️ Build a Smart Text Processor\n",
        "Create a program that transforms messy user input into clean, professional text!"
      ]
    },
    {
      "cell_type": "markdown",
      "metadata": {},
      "source": [
        "![Before and after comparison](images/text_processor.png)"
      ]
    },
    {
      "cell_type": "markdown",
      "metadata": {},
      "source": [
        "## 📋 Your Mission"
      ]
    },
    {
      "cell_type": "markdown",
      "metadata": {},
      "source": [
        "- 🧹 Remove extra spaces and clean whitespace\n",
        "- ✨ Apply proper capitalization\n",
        "- 📊 Count words, sentences, and characters\n",
        "- 🔍 Identify and highlight key metrics\n",
        "- 📝 Format the output beautifully"
      ]
    },
    {
      "cell_type": "markdown",
      "metadata": {},
      "source": [
        "## 🎯 Step-by-Step Plan"
      ]
    },
    {
      "cell_type": "markdown",
      "metadata": {},
      "source": [
        "1. **Input:** Get messy text from user\n",
        "2. **Clean:** Strip extra whitespace\n",
        "3. **Format:** Fix capitalization\n",
        "4. **Analyze:** Count words, sentences, characters\n",
        "5. **Report:** Display results with f-strings"
      ]
    },
    {
      "cell_type": "markdown",
      "metadata": {},
      "source": [
        "## 📝 Input/Output Example"
      ]
    },
    {
      "cell_type": "code",
      "metadata": {},
      "source": [
        "input_text = '''\n   hello world.    this IS a    test MESSAGE!   how are YOU doing today?  \n'''"
      ],
      "outputs": [],
      "execution_count": null
    },
    {
      "cell_type": "markdown",
      "metadata": {},
      "source": [
        "**Input:**"
      ]
    },
    {
      "cell_type": "code",
      "metadata": {},
      "source": [
        "print(input_text)"
      ],
      "outputs": [],
      "execution_count": null
    },
    {
      "cell_type": "markdown",
      "metadata": {},
      "source": [
        "**Expected Output:**"
      ]
    },
    {
      "cell_type": "code",
      "metadata": {},
      "source": [
        "print(\"\"\"\\n📝 TEXT PROCESSOR RESULTS 📝\n═══════════════════════════\nOriginal: \\\"   hello world.    this IS a    test MESSAGE!   how are YOU doing today?  \\\"\\nCleaned:  \\\"Hello world. This is a test message! How are you doing today?\\\"\\n\\n📊 STATISTICS:\n├─ Words: 12\n├─ Sentences: 3  \n├─ Characters: 59\n└─ Average words/sentence: 4.0\"\"\")"
      ],
      "outputs": [],
      "execution_count": null
    },
    {
      "cell_type": "markdown",
      "metadata": {},
      "source": [
        "## 🏗️ Code Structure Template"
      ]
    },
    {
      "cell_type": "code",
      "metadata": {},
      "source": [
        "def text_processor():\n",
        "    # 1. Get user input\n",
        "    text = input(\"Enter your messy text: \")\n",
        "    \n",
        "    # 2. Clean the text\n",
        "    # TODO: Remove extra spaces, fix capitalization\n",
        "    \n",
        "    # 3. Analyze the text  \n",
        "    # TODO: Count words, sentences, characters\n",
        "    \n",
        "    # 4. Display results\n",
        "    # TODO: Use f-strings for beautiful formatting\n",
        "    \n",
        "    return cleaned_text, stats\n",
        "\n",
        "# Test your function\n",
        "text_processor()"
      ],
      "outputs": [],
      "execution_count": null
    },
    {
      "cell_type": "markdown",
      "metadata": {},
      "source": [
        "## 🎉 Why This Matters"
      ]
    },
    {
      "cell_type": "markdown",
      "metadata": {},
      "source": [
        "- 🤖 **ChatGPT:** Cleans prompts before processing\n",
        "- 📊 **Analytics:** Standardizes data for analysis\n",
        "- 🌐 **Web Apps:** Validates and formats user input\n",
        "\n",
        "**You're building the foundation of text-based AI! 🚀**"
      ]
    }
  ],
  "metadata": {
    "kernelspec": {
      "name": "python3",
      "display_name": "Python 3",
      "language": "python"
    },
    "language_info": {
      "name": "python",
      "version": "3.x"
    }
  },
  "nbformat": 4,
  "nbformat_minor": 5
}