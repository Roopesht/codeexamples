{
  "cells": [
    {
      "cell_type": "markdown",
      "metadata": {},
      "source": [
        "# 🧮 Calculator Functions Challenge\n",
        "\n",
        "Build a comprehensive calculator using separate functions for different operations!\n",
        "\n",
        "_\"The best way to learn programming is by writing programs.\" - Unknown_"
      ]
    },
    {
      "cell_type": "markdown",
      "metadata": {},
      "source": [
        "## 🎯 Task Requirements\n",
        "- ➕ Create a function for addition\n",
        "- ➖ Create a function for subtraction\n",
        "- ✖️ Create a function for multiplication\n",
        "- ➗ Create a function for division with error handling\n",
        "- 🔢 Create a function to perform power operation (e.g., exponentiation)\n",
        "- 🎛️ Create main function to run the program"
      ]
    },
    {
      "cell_type": "markdown",
      "metadata": {},
      "source": [
        "## 📝 Step-by-Step Guide\n",
        "1️⃣ **Step 1**: Define basic arithmetic functions\n",
        "2️⃣ **Step 2**: Add error handling for division by zero\n",
        "3️⃣ **Step 3**: Create a menu system for user interaction\n",
        "4️⃣ **Step 4**: Implement the main calculator loop\n",
        "5️⃣ **Step 5**: Test with various inputs"
      ]
    },
    {
      "cell_type": "markdown",
      "metadata": {},
      "source": [
        "## 📋 Example Input/Output\n",
        "```python\n",
        "# Example usage: Calculator Menu:\n",
        "1. Add\n",
        "2. Subtract\n",
        "3. Multiply\n",
        "4. Divide\n",
        "5. Power\n",
        "6. Exit\n",
        "Enter choice: 1\n",
        "Enter first number: 10\n",
        "Enter second number: 5\n",
        "Result: 10 + 5 = 15\n",
        "Enter choice: 4\n",
        "Enter first number: 10\n",
        "Enter second number: 0\n",
        "Error: Cannot divide by zero!\n",
        "```"
      ]
    },
    {
      "cell_type": "code",
      "metadata": {},
      "source": [
        "# Basic structure to get you started\n",
        "\ndef add(a, b):\n",
        "    # Your code here\n",
        "    return a + b\n",
        "\n",
        "def subtract(a, b):\n",
        "    # Your code here\n",
        "    return a - b\n",
        "\n",
        "def multiply(a, b):\n",
        "    # Your code here\n",
        "    return a * b\n",
        "\n",
        "def divide(a, b):\n",
        "    # Remember to handle division by zero!\n",
        "    if b == 0:\n",
        "        return \"Error: Cannot divide by zero!\"\n",
        "    else:\n",
        "        return a / b\n",
        "\n",
        "def power(a, b):\n",
        "    # Your code here\n",
        "    return a ** b\n",
        "\n",
        "def calculator():\n",
        "    # Main program loop\n",
        "    while True:\n",
        "        print(\"\\nCalculator Menu:\")\n",
        "        print(\"1. Add\")\n",
        "        print(\"2. Subtract\")\n",
        "        print(\"3. Multiply\")\n",
        "        print(\"4. Divide\")\n",
        "        print(\"5. Power\")\n",
        "        print(\"6. Exit\")\n",
        "        choice = input(\"Enter choice: \")\n",
        "        if choice == '6':\n",
        "            print(\"Exiting calculator.\")\n",
        "            break\n",
        "        if choice not in ['1','2','3','4','5']:\n",
        "            print(\"Invalid choice. Please try again.\")\n",
        "            continue\n",
        "        try:\n",
        "            num1 = float(input(\"Enter first number: \"))\n",
        "            num2 = float(input(\"Enter second number: \"))\n",
        "        except ValueError:\n",
        "            print(\"Invalid input. Please enter numeric values.\")\n",
        "            continue\n",
        "        result = None\n",
        "        if choice == '1':\n",
        "            result = add(num1, num2)\n",
        "            print(f\"Result: {num1} + {num2} = {result}\")\n",
        "        elif choice == '2':\n",
        "            result = subtract(num1, num2)\n",
        "            print(f\"Result: {num1} - {num2} = {result}\")\n",
        "        elif choice == '3':\n",
        "            result = multiply(num1, num2)\n",
        "            print(f\"Result: {num1} * {num2} = {result}\")\n",
        "        elif choice == '4':\n",
        "            result = divide(num1, num2)\n",
        "            if isinstance(result, str):\n",
        "                print(result)\n",
        "            else:\n",
        "                print(f\"Result: {num1} / {num2} = {result}\")\n",
        "        elif choice == '5':\n",
        "            result = power(num1, num2)\n",
        "            print(f\"Result: {num1} ^ {num2} = {result}\")\n",
        "\n",
        "# Start the calculator\n",
        "calculator()"
      ],
      "outputs": [
        {
          "name": "stdout",
          "output_type": "stream",
          "text": []
        }
      ],
      "execution_count": null
    },
    {
      "cell_type": "markdown",
      "metadata": {},
      "source": [
        "## 🎯 Task Conclusion\n",
        "\n",
        "This calculator project demonstrates how functions organize code, handle different operations, and create reusable components. These skills are essential for building GenAI applications!\n",
        "\n",
        "💡 Bonus: Consider how you might extend this calculator to handle more complex operations or integrate with AI models for natural language math queries!"
      ]
    }
  ],
  "metadata": {
    "kernelspec": {
      "name": "python3",
      "display_name": "Python 3",
      "language": "python"
    },
    "language_info": {
      "name": "python",
      "version": "3.x"
    }
  },
  "nbformat": 4,
  "nbformat_minor": 5
}