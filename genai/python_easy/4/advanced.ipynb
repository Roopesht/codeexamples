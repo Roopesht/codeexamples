{
  "cells": [
    {
      "cell_type": "markdown",
      "metadata": {},
      "source": [
        "# 🚀 Advanced: Regular Expressions Basics"
      ]
    },
    {
      "cell_type": "markdown",
      "metadata": {},
      "source": [
        "🎯 Regex: Pattern Matching Superpower\n",
        "\n",
        "- 🔍 **Pattern matching:** Find complex text patterns\n",
        "- 📧 **Validation:** Check email, phone formats\n",
        "- ✂️ **Extraction:** Pull specific data from text\n",
        "- 🔄 **Substitution:** Advanced find and replace"
      ]
    },
    {
      "cell_type": "code",
      "execution_count": null,
      "metadata": {},
      "outputs": [],
      "source": [
        "import re\n",
        "\n",
        "text = \"Contact us at: john@email.com or call 123-456-7890\""
      ]
    },
    {
      "cell_type": "code",
      "execution_count": null,
      "metadata": {},
      "outputs": [],
      "source": [
        "# Find email addresses\n",
        "emails = re.findall(r'\\b[A-Za-z0-9._%+-]+@[A-Za-z0-9.-]+\\.[A-Z|a-z]{2,}\\b', text)\n",
        "print(\"Emails found:\", emails)"
      ]
    },
    {
      "cell_type": "code",
      "execution_count": null,
      "metadata": {},
      "outputs": [],
      "source": [
        "# Find phone numbers\n",
        "phones = re.findall(r'\\d{3}-\\d{3}-\\d{4}', text)\n",
        "print(\"Phones found:\", phones)"
      ]
    },
    {
      "cell_type": "code",
      "execution_count": null,
      "metadata": {},
      "outputs": [],
      "source": [
        "# Replace sensitive info\n",
        "cleaned = re.sub(r'\\b[A-Za-z0-9._%+-]+@[A-Za-z0-9.-]+\\.[A-Z|a-z]{2,}\\b', \n",
        "                '[EMAIL]', text)\n",
        "print(\"Cleaned:\", cleaned)"
      ]
    },
    {
      "cell_type": "markdown",
      "metadata": {},
      "source": [
        "### 🚀 Try in Colab\n",
        "[Colab Link](https://colab.research.google.com/github/Roopesht/codeexamples/blob/main/genai/python_easy/4/advanced.ipynb)"
      ]
    },
    {
      "cell_type": "markdown",
      "metadata": {},
      "source": [
        "### 📤 Regex Results"
      ]
    },
    {
      "cell_type": "code",
      "execution_count": null,
      "metadata": {},
      "outputs": [],
      "source": [
        "print(\"Emails found: ['john@email.com']\")\n",
        "print(\"Phones found: ['123-456-7890']\")\n",
        "print(\"Cleaned: Contact us at: [EMAIL] or call 123-456-7890\")"
      ]
    },
    {
      "cell_type": "markdown",
      "metadata": {},
      "source": [
        "### 💡 When to Use Regex\n",
        "- Perfect for data preprocessing in AI projects:\n",
        "  - 📧 Extract emails, URLs, hashtags from social media\n",
        "  - 🧹 Clean noisy text data\n",
        "  - ✅ Validate user input formats\n",
        "  - 📊 Parse structured text documents"
      ]
    }
  ],
  "metadata": {
    "kernelspec": {
      "name": "python3",
      "display_name": "Python 3",
      "language": "python"
    },
    "language_info": {
      "name": "python",
      "version": "3.x"
    }
  },
  "nbformat": 4,
  "nbformat_minor": 5
}