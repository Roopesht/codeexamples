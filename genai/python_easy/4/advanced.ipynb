{
  "cells": [
    {
      "cell_type": "markdown",
      "metadata": {},
      "source": [
        "# Regular Expressions Basics\n",
        "\n",
        "In this notebook, we will learn about regular expressions (regex) and how they are useful for text processing tasks.\n",
        "\n",
        "Let's explore how regex can help us identify patterns in text, validate data like emails and phone numbers, and perform text cleaning tasks."
      ]
    },
    {
      "cell_type": "markdown",
      "metadata": {},
      "source": [
        "## Common Regex Patterns\n",
        "\n",
        "Regular expressions use special patterns to match text. Here are some common regex patterns:\n",
        "\n",
        "- `\\d`: Matches any digit (0-9)\n",
        "- `\\w`: Matches word characters (letters, digits, underscore)\n",
        "- `\\s`: Matches whitespace characters\n",
        "- `+`: One or more occurrences\n",
        "- `*`: Zero or more occurrences"
      ]
    },
    {
      "cell_type": "markdown",
      "metadata": {},
      "source": [
        "## String Encoding & Decoding\n",
        "\n",
        "String encoding converts text into bytes, which is necessary for file handling and web APIs.  \n",
        "\n",
        "- `encode()`: Converts string to bytes\n",
        "- `decode()`: Converts bytes back to string\n",
        "\n",
        "This is especially important for handling text data correctly across different systems."
      ]
    },
    {
      "cell_type": "code",
      "metadata": {},
      "execution_count": null,
      "outputs": [],
      "source": [
        "import re\n",
        "\n",
        "# Regular expressions for AI text processing\n",
        "text = \"Contact us at support@ai-company.com or call +1-555-123-4567\"\n",
        "\n",
        "# Find email addresses\n",
        "email_pattern = r'\\b[A-Za-z0-9._%+-]+@[A-Za-z0-9.-]+\\.[A-Za-z]{2,}\\b'\n",
        "emails = re.findall(email_pattern, text)\n",
        "print(\"Emails found:\", emails)  # ['support@ai-company.com']\n",
        "\n",
        "# Find phone numbers\n",
        "phone_pattern = r'\\+\\d{1,3}-\\d{3}-\\d{3}-\\d{4}'\n",
        "phones = re.findall(phone_pattern, text)\n",
        "print(\"Phones found:\", phones)  # ['+1-555-123-4567']\n",
        "\n",
        "# String encoding/decoding\n",
        "message = \"Hello AI! 🤖\"\n",
        "encoded = message.encode('utf-8')\n",
        "print(\"Encoded:\", encoded)      # b'Hello AI! \\xf0\\x9f\\xa4\\x96'\n",
        "decoded = encoded.decode('utf-8')\n",
        "print(\"Decoded:\", decoded)      # Hello AI! 🤖\n",
        "\n",
        "# AI use case: Clean social media text\n",
        "social_text = \"Check out this amazing #AI tool! 🚀 Visit https://example.com @user123\"\n",
        "# Remove URLs\n",
        "clean_text = re.sub(r'https?://[^\\s]+', '', social_text)\n",
        "# Remove mentions\n",
        "clean_text = re.sub(r'@\\w+', '', clean_text)\n",
        "print(\"Cleaned:\", clean_text)   # Check out this amazing #AI tool! 🚀 Visit"
      ]
    },
    {
      "cell_type": "markdown",
      "metadata": {},
      "source": [
        "## Key Takeaway\n",
        "\n",
        "Regular expressions are your **power tools** for advanced text processing! They allow you to efficiently extract, validate, and clean textual data, which is especially useful in AI and data analysis tasks."
      ]
    },
    {
      "cell_type": "markdown",
      "metadata": {},
      "source": [
        "## Discussion\n",
        "\n",
        "\"How would regex help in preprocessing social media data for AI analysis?\""
      ]
    }
  ],
  "metadata": {
    "kernelspec": {
      "name": "python3",
      "display_name": "Python 3",
      "language": "python"
    },
    "language_info": {
      "name": "python",
      "version": "3.x"
    }
  },
  "nbformat": 4,
  "nbformat_minor": 5
}