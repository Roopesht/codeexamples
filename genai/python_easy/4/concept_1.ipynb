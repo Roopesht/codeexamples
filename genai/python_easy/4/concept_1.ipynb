{
  "cells": [
    {
      "cell_type": "markdown",
      "metadata": {},
      "source": [
        "# Concept 1: String Indexing and Slicing\n",
        "\n",
        "🔍 **Concept 1:** String Indexing and Slicing - Precision Text Extraction"
      ]
    },
    {
      "cell_type": "markdown",
      "metadata": {},
      "source": [
        "### String Indexing & Slicing\n",
        "\n",
        "- 🎯 **Indexing:** Access individual characters by position\n",
        "- ✂️ **Slicing:** Extract substrings using start:end notation\n",
        "- 🔢 **Negative Indexing:** Count from the end (-1, -2, -3...)\n",
        "- ⚡ **Step Slicing:** Skip characters with start:end:step"
      ]
    },
    {
      "cell_type": "markdown",
      "metadata": {},
      "source": [
        "![Visual diagram showing string indexing with positive and negative indices](images/string_indexing_diagram.png)"
      ]
    },
    {
      "cell_type": "markdown",
      "metadata": {},
      "source": [
        "### String Indexing Examples"
      ]
    },
    {
      "cell_type": "code",
      "execution_count": null,
      "metadata": {},
      "outputs": [],
      "source": [
        "# String indexing and slicing\n",
        "text = \"Python for GenAI\"\n",
        "\n",
        "# Individual character access\n",
        "first_char = text[0]        # 'P'\n",
        "last_char = text[-1]        # 'I'\n",
        "\n",
        "# Slicing examples\n",
        "first_word = text[0:6]      # 'Python'\n",
        "last_word = text[-5:]       # 'GenAI'\n",
        "middle = text[7:10]         # 'for'\n",
        "\n",
        "# Step slicing\n",
        "every_second = text[::2]    # 'Pto o eA'\n",
        "reverse = text[::-1]        # 'IAneG rof nohtyP'\n"
      ]
    },
    {
      "cell_type": "markdown",
      "metadata": {},
      "source": [
        "### Output Results"
      ]
    },
    {
      "cell_type": "code",
      "execution_count": null,
      "metadata": {},
      "outputs": [],
      "source": [
        "print(f\"first_char: {first_char}\")\n",
        "print(f\"last_char: {last_char}\")\n",
        "print(f\"first_word: {first_word}\")\n",
        "print(f\"last_word: {last_word}\")\n",
        "print(f\"middle: {middle}\")\n",
        "print(f\"every_second: {every_second}\")\n",
        "print(f\"reverse: {reverse}\")"
      ]
    },
    {
      "cell_type": "markdown",
      "metadata": {},
      "source": [
        "✨ **Notice how negative indices make it easy to access from the end!**"
      ]
    },
    {
      "cell_type": "markdown",
      "metadata": {},
      "source": [
        "### 🎯 String Indexing Mastery\n",
        "\n",
        "✨ **Key Insight:** String slicing is like using scissors on text - precise and powerful!\n",
        "\n",
        "💭 **Think About It:** How would you extract the domain name from an email address using slicing?"
      ]
    }
  ],
  "metadata": {
    "kernelspec": {
      "display_name": "Python 3",
      "language": "python",
      "name": "python3"
    },
    "language_info": {
      "name": "python",
      "version": "3.x"
    }
  },
  "nbformat": 4,
  "nbformat_minor": 5
}