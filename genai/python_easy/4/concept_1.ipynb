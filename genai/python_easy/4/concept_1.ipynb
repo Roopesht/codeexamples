{
  "cells": [
    {
      "cell_type": "markdown",
      "metadata": {},
      "source": [
        "# String Indexing and Slicing\n",
        "\n",
        "In this notebook, we will learn about how to access and extract parts of a string in Python using indexing and slicing. These are essential skills for working with text data efficiently."
      ]
    },
    {
      "cell_type": "markdown",
      "metadata": {},
      "source": [
        "## String Indexing & Slicing\n",
        "\n",
        "- 📍 Access individual characters (indexing)\n",
        "- ✂️ Extract substrings (slicing)\n",
        "- 🔢 Positive and negative indexing\n",
        "- ⚡ Essential for text processing in AI"
      ]
    },
    {
      "cell_type": "markdown",
      "metadata": {},
      "source": [
        "## 📍 String Indexing\n",
        "\n",
        "String indexing allows you to access a specific character in a string by its position.\n",
        "\n",
        "- **Positive indexing:** Starts from 0 and moves from left to right.\n",
        "- **Negative indexing:** Starts from -1 and moves from right to left.\n",
        "\n",
        "**Use case:** To get first or last characters, or validate user input."
      ]
    },
    {
      "cell_type": "markdown",
      "metadata": {},
      "source": [
        "![String Indexing Visual](images/string_indexing.png)"
      ]
    },
    {
      "cell_type": "markdown",
      "metadata": {},
      "source": [
        "## ✂️ String Slicing\n",
        "\n",
        "Slicing extracts a substring from a string using the syntax:\n",
        "\n",
        "```python\n",
        "string[start:end:step]\n",
        "```\n",
        "\n",
        "- **start:** Starting index (inclusive)\n",
        "- **end:** Ending index (exclusive)\n",
        "- **step:** Jump size (skips characters, optional, default is 1)"
      ]
    },
    {
      "cell_type": "code",
      "execution_count": null,
      "metadata": {},
      "outputs": [],
      "source": [
        "# String indexing and slicing\n",
        "text = \"Python for GenAI\"\n",
        "\n",
        "# Indexing\n",
        "print(text[0])      # Output: P\n",
        "print(text[-1])     # Output: I\n",
        "print(text[7])      # Output: f\n",
        "\n",
        "# Slicing\n",
        "print(text[0:6])    # Output: Python\n",
        "print(text[7:10])   # Output: for\n",
        "print(text[-5:])    # Output: GenAI\n",
        "print(text[::-1])   # Output: IAneG rof nohtyP (reverse)\n",
        "\n",
        "# Practical use in AI\n",
        "user_input = \"  Hello AI  \"\n",
        "clean_input = user_input[2:-2]  # Remove spaces\n",
        "print(clean_input)  # Output: Hello AI"
      ]
    },
    {
      "cell_type": "markdown",
      "metadata": {},
      "source": [
        "## 🚀 Open in Colab\n",
        "\n",
        "[Open this notebook in Google Colab](https://colab.research.google.com/github/Roopesht/codeexamples/blob/main/genai/python_easy/4/concept_1.ipynb)"
      ]
    },
    {
      "cell_type": "markdown",
      "metadata": {},
      "source": [
        "## 🎯 Key Takeaway\n",
        "\n",
        "String indexing and slicing are your **precision tools** for text manipulation!\n",
        "\n",
        "― How would you extract the domain name from an email address using slicing?"
      ]
    }
  ],
  "metadata": {
    "kernelspec": {
      "display_name": "Python 3",
      "language": "python",
      "name": "python3"
    },
    "language_info": {
      "name": "python",
      "version": "3.x"
    }
  },
  "nbformat": 4,
  "nbformat_minor": 5
}