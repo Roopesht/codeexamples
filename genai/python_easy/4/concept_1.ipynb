{
  "cells": [
    {
      "cell_type": "markdown",
      "metadata": {},
      "source": [
        "# Concept 1: String Indexing and Slicing"
      ]
    },
    {
      "cell_type": "markdown",
      "metadata": {},
      "source": [
        "🔍 **Concept 1: String Indexing & Slicing**"
      ]
    },
    {
      "cell_type": "markdown",
      "metadata": {},
      "source": [
        "- 📍 **Indexing:** Access individual characters",
        "- ✂️ **Slicing:** Extract parts of strings",
        "- 🔄 **Negative indexing:** Count from the end",
        "- ⚡ **Step slicing:** Skip characters"
      ]
    },
    {
      "cell_type": "markdown",
      "metadata": {},
      "source": [
        "![Visual representation of string indexing showing characters with positive and negative indices](images/string_indexing.png)"
      ]
    },
    {
      "cell_type": "markdown",
      "metadata": {},
      "source": [
        "### 🔍 Indexing & Slicing in Action"
      ]
    },
    {
      "cell_type": "code",
      "execution_count": null,
      "metadata": {},
      "outputs": [],
      "source": [
        "text = \"Python for GenAI\""
      ]
    },
    {
      "cell_type": "code",
      "execution_count": null,
      "metadata": {},
      "outputs": [],
      "source": [
        "# Indexing (single character)",
        "print(text[0])        # First character",
        "print(text[-1])       # Last character"
      ]
    },
    {
      "cell_type": "code",
      "execution_count": null,
      "metadata": {},
      "outputs": [],
      "source": [
        "# Slicing (substring)",
        "print(text[0:6])      # First 6 characters",
        "print(text[7:])       # From index 7 to end",
        "print(text[:6])       # From start to index 6",
        "print(text[::2])      # Every 2nd character"
      ]
    },
    {
      "cell_type": "markdown",
      "metadata": {},
      "source": [
        "🚀 [Try in Colab](https://colab.research.google.com/github/Roopesht/codeexamples/blob/main/genai/python_easy/4/string_indexing.ipynb)"
      ]
    },
    {
      "cell_type": "markdown",
      "metadata": {},
      "source": [
        "### 📤 Output Results"
      ]
    },
    {
      "cell_type": "code",
      "execution_count": null,
      "metadata": {},
      "outputs": [],
      "source": [
        "'''Expected Output'''\n",
        "P\n",
        "n\n",
        "Python\n",
        "for GenAI\n",
        "Python\n",
        "Pto o eA"
      ]
    },
    {
      "cell_type": "markdown",
      "metadata": {},
      "source": [
        "*(Notice how slicing creates new strings without modifying the original!)*"
      ]
    },
    {
      "cell_type": "markdown",
      "metadata": {},
      "source": [
        "### 🤔 Think About It"
      ]
    },
    {
      "cell_type": "markdown",
      "metadata": {},
      "source": [
        "You're building a chatbot that needs to extract the first word from user messages. How would you use string slicing to find everything before the first space?"
      ]
    },
    {
      "cell_type": "markdown",
      "metadata": {},
      "source": [
        "This is exactly how AI models process text tokens! 🤖"
      ]
    }
  ],
  "metadata": {
    "kernelspec": {
      "display_name": "Python 3",
      "language": "python",
      "name": "python3"
    },
    "language_info": {
      "name": "python",
      "version": "3.x"
    }
  },
  "nbformat": 4,
  "nbformat_minor": 5
}