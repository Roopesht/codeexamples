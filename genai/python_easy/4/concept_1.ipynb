{
  "cells": [
    {
      "cell_type": "markdown",
      "metadata": {},
      "source": [
        "# 🎯 Concept 1: String Indexing and Slicing"
      ]
    },
    {
      "cell_type": "markdown",
      "metadata": {},
      "source": [
        "## 🔍 String Indexing and Slicing\n",
        "\n",
        "- 🎯 Strings are sequences - each character has a position\n",
        "- 📍 Indexing: Access individual characters (0-based)\n",
        "- ✂️ Slicing: Extract substrings using [start:end:step]\n",
        "- 🔄 Negative indexing: Count from the end (-1, -2, -3...)\n"
      ]
    },
    {
      "cell_type": "markdown",
      "metadata": {},
      "source": [
        "## Visual Representation of String Indexing\n",
        "\n",
        "*(Note: Please refer to the accompanying image `string_indexing.png` for visual understanding of indices, both positive and negative.)*"
      ]
    },
    {
      "cell_type": "code",
      "metadata": {},
      "source": [
        "# 🔍 Indexing and Slicing Examples\n",
        "text = \"Python for AI\"\n",
        "\n",
        "# Indexing - get single characters\n",
        "first_char = text[0]         # 'P'\n",
        "last_char = text[-1]         # 'I'\n",
        "\n",
        "# Slicing - get substrings\n",
        "word = text[0:6]            # 'Python'\n",
        "ai_part = text[-2:]         # 'AI'\n",
        "reverse = text[::-1]        # 'IA rof nohtyP'\n",
        "\n",
        "# Step slicing\n",
        "every_second = text[::2]    # 'Pto o I'"
      ],
      "execution_count": null,
      "outputs": []
    },
    {
      "cell_type": "markdown",
      "metadata": {},
      "source": [
        "## 🚀 Open in Colab\n",
        "\n",
        "[🚀 Open in Colab](https://colab.research.google.com/github/Roopesht/codeexamples/blob/main/genai/python_easy/session_4/concept_1.ipynb)"
      ]
    },
    {
      "cell_type": "markdown",
      "metadata": {},
      "source": [
        "## 📤 Output Results\n",
        "\n",
        "```\n",
        "First character: P\n",
        "Last character: I\n",
        "Word extracted: Python\n",
        "AI part: AI\n",
        "Reversed text: IA rof nohtyP\n",
        "Every second character: Pto o I\n",
        "```"
      ]
    },
    {
      "cell_type": "markdown",
      "metadata": {},
      "source": [
        "## 🎯 Key Takeaway\n",
        "\n",
        "String indexing and slicing are fundamental skills for text processing. They allow you to extract exactly what you need from any text!\n",
        "\n",
        "💭 **Think about it:** How would you extract a user's first name from \"John Doe\" using slicing?"
      ]
    }
  ],
  "metadata": {
    "kernelspec": {
      "display_name": "Python 3",
      "language": "python",
      "name": "python3"
    },
    "language_info": {
      "name": "python",
      "version": "3.x"
    }
  },
  "nbformat": 4,
  "nbformat_minor": 5
}