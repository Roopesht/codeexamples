{
  "cells": [
    {
      "cell_type": "markdown",
      "metadata": {},
      "source": [
        "# Concept 1: String Indexing and Slicing"
      ]
    },
    {
      "cell_type": "markdown",
      "metadata": {},
      "source": [
        "### 🎯 String Indexing & Slicing\n",
        "- 📍 **Indexing:** Access individual characters\n",
        "- ✂️ **Slicing:** Extract parts of strings\n",
        "- 🔄 **Negative indexing:** Count from the end\n",
        "- ⚡ **Step slicing:** Skip characters"
      ]
    },
    {
      "cell_type": "markdown",
      "metadata": {},
      "source": [
        "### ![Visual representation of string indexing](images/string_indexing.png)"
      ]
    },
    {
      "cell_type": "markdown",
      "metadata": {},
      "source": [
        "### 🔍 Indexing & Slicing in Action"
      ]
    },
    {
      "cell_type": "code",
      "execution_count": null,
      "metadata": {},
      "outputs": [],
      "source": [
        "text = \"Python for GenAI\""
      ]
    },
    {
      "cell_type": "code",
      "execution_count": null,
      "metadata": {},
      "outputs": [],
      "source": [
        "# Indexing (single character)\n",
        "print(text[0])        # First character\n",
        "print(text[-1])       # Last character"
      ]
    },
    {
      "cell_type": "code",
      "execution_count": null,
      "metadata": {},
      "outputs": [],
      "source": [
        "# Slicing (substring)\n",
        "print(text[0:6])      # First 6 characters\n",
        "print(text[7:])       # From index 7 to end\n",
        "print(text[:6])       # From start to index 6\n",
        "print(text[::2])      # Every 2nd character"
      ]
    },
    {
      "cell_type": "markdown",
      "metadata": {},
      "source": [
        "### 📤 Output Results"
      ]
    },
    {
      "cell_type": "code",
      "execution_count": null,
      "metadata": {},
      "outputs": [],
      "source": [
        "print('P')\n",
        "print('I')\n",
        "print('Python')\n",
        "print('for GenAI')\n",
        "print('Python')\n",
        "print('Pto o eA')"
      ]
    },
    {
      "cell_type": "markdown",
      "metadata": {},
      "source": [
        "**Notice how slicing creates new strings without modifying the original!**"
      ]
    },
    {
      "cell_type": "markdown",
      "metadata": {},
      "source": [
        "### 🤔 Think About It"
      ]
    },
    {
      "cell_type": "markdown",
      "metadata": {},
      "source": [
        "You're building a chatbot that needs to extract the first word from user messages. How would you use string slicing to find everything before the first space?"
      ]
    },
    {
      "cell_type": "markdown",
      "metadata": {},
      "source": [
        "*(This is exactly how AI models process text tokens! 🤖)*"
      ]
    }
  ],
  "metadata": {
    "kernelspec": {
      "display_name": "Python 3",
      "language": "python",
      "name": "python3"
    },
    "language_info": {
      "name": "python",
      "version": "3.x"
    }
  },
  "nbformat": 4,
  "nbformat_minor": 5
}