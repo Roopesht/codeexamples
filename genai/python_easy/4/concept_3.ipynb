{
  "cells": [
    {
      "cell_type": "markdown",
      "metadata": {},
      "source": [
        "# Concept 3: String Formatting Magic\n",
        "\n",
        "✨ Concept 3: String Formatting Magic\n",
        "\n",
        "## 📝 String Formatting Superpowers\n",
        "- 🚀 **f-strings:** Modern, fast, readable (Python 3.6+)\n",
        "- 📋 **format():** Flexible placeholder method\n",
        "- 🎨 **Format specifiers:** Control number precision, padding\n",
        "- 💡 **Dynamic content:** Build strings with variables"
      ]
    },
    {
      "cell_type": "markdown",
      "metadata": {},
      "source": [
        "## ✨ Formatting Magic\n",
        "\n",
        "```python\n",
        "name = \"Alice\"\n",
        "age = 25\n",
        "score = 95.678\n",
        "\n",
        "# f-strings (recommended!)\n",
        "print(f\"Hi {name}, you're {age} years old!\")\n",
        "print(f\"Score: {score:.2f}%\")\n",
        "\n",
        "# format() method\n",
        "print(\"Hi {}, you're {} years old!\".format(name, age))\n",
        "print(\"Score: {:.1f}%\".format(score))\n",
        "\n",
        "# Advanced formatting\n",
        "price = 1234.5\n",
        "print(f\"Price: {price:.2f}\")\n",
        "print(f\"Binary: {42:b}, Hex: {42:x}\")\n",
        "```\n"
      ]
    },
    {
      "cell_type": "code",
      "execution_count": null,
      "metadata": {},
      "outputs": [],
      "source": []
    },
    {
      "cell_type": "markdown",
      "metadata": {},
      "source": [
        "## 📤 Formatted Output\n",
        "\n",
        "```plaintext\n",
        "Hi Alice, you're 25 years old!\n",
        "Score: 95.68%\n",
        "Hi Alice, you're 25 years old!\n",
        "Score: 95.7%\n",
        "Price: 1234.50\n",
        "Binary: 101010, Hex: 2a\n",
        "```"
      ]
    },
    {
      "cell_type": "markdown",
      "metadata": {},
      "source": [
        "## 🎯 Pro Tip\n",
        "\n",
        "When building AI applications, you'll constantly format prompts, responses, and reports. Which formatting method would you use for a dynamic prompt like:\n",
        "\n",
        "_\"Analyze this {data_type} and provide {num_insights} insights about {topic}\"_ \n",
        "\n",
        "📝 **f-strings** are the modern choice - fast, readable, and powerful! 🚀"
      ]
    }
  ],
  "metadata": {
    "kernelspec": {
      "name": "python3",
      "display_name": "Python 3"
    },
    "language_info": {
      "name": "python",
      "version": "3.8"
    }
  },
  "nbformat": 4,
  "nbformat_minor": 5
}