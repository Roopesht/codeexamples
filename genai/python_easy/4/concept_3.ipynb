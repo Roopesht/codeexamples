{
  "cells": [
    {
      "cell_type": "markdown",
      "metadata": {},
      "source": [
        "# Concept 3: Return Statements\n",
        "\n",
        "📤 Concept 3: Return Statements and Function Output"
      ]
    },
    {
      "cell_type": "markdown",
      "metadata": {},
      "source": [
        "### 📤 Return Statements\n",
        "- 🔄 **Output**: Send results back to caller\n",
        "- 🛑 **Exit**: Return immediately exits function\n",
        "- 📦 **Data Types**: Return any Python data type\n",
        "- 🔗 **Chaining**: Use returned values in other functions"
      ]
    },
    {
      "cell_type": "markdown",
      "metadata": {},
      "source": [
        "### 🔄 Return in Action"
      ]
    },
    {
      "cell_type": "code",
      "execution_count": null,
      "metadata": {},
      "outputs": [],
      "source": [
        "# Function that returns a value\ndef calculate_tokens(text):",
        "    \"\"\"Estimates token count for AI models\"\"\"",
        "    word_count = len(text.split())",
        "    estimated_tokens = word_count * 1.3  # Rough estimate",
        "    return int(estimated_tokens)",
        "",
        "# Function with conditional returns",
        "def validate_prompt(prompt):",
        "    \"\"\"Validates AI prompt quality\"\"\"",
        "    if len(prompt) < 10:",
        "        return \"Too short\"",
        "    elif len(prompt) > 1000:",
        "        return \"Too long\"",
        "    else:",
        "        return \"Perfect length\"",
        "",
        "# Using returned values",
        "text = \"Generate a Python function for data analysis\"",
        "tokens = calculate_tokens(text)",
        "status = validate_prompt(text)",
        "",
        "print(f\"Tokens: {tokens}\")",
        "print(f\"Status: {status}\")"
      ]
    },
    {
      "cell_type": "markdown",
      "metadata": {},
      "source": [
        "### 📤 Output"
      ]
    },
    {
      "cell_type": "code",
      "execution_count": null,
      "metadata": {},
      "outputs": [],
      "source": [
        "# Sample Output\n",
        "Tokens: 10\n",
        "Status: Perfect length"
      ]
    },
    {
      "cell_type": "markdown",
      "metadata": {},
      "source": [
        "### 🎯 Key Takeaway\n",
        "Return statements are the output mechanism of functions. They allow functions to process data and provide results for further use in your GenAI applications.\n",
        "\n",
        "💭 **Question:** What would happen if you tried to use a function's result but forgot to include a return statement?"
      ]
    }
  ],
  "metadata": {
    "kernelspec": {
      "display_name": "Python 3",
      "language": "python",
      "name": "python3"
    },
    "language_info": {
      "name": "python",
      "version": "3.x"
    }
  },
  "nbformat": 4,
  "nbformat_minor": 5
}