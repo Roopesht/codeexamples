{
  "cells": [
    {
      "cell_type": "markdown",
      "metadata": {},
      "source": [
        "# String Formatting Magic\n",
        "\n",
        "In this notebook, we will learn about different ways to format strings in Python. String formatting helps us create dynamic and readable text, especially useful when working with AI prompts or user data."
      ]
    },
    {
      "cell_type": "markdown",
      "metadata": {},
      "source": [
        "## ✨ String Formatting Magic\n",
        "\n",
        "- 🎯 **f-strings**: Modern and easy to read\n",
        "- 📋 **format() method**: Flexible and powerful\n",
        "- 🔢 **Number formatting and alignment**: Control how numbers appear\n",
        "- 🤖 **Essential for AI prompt engineering**: Create dynamic prompts easily"
      ]
    },
    {
      "cell_type": "markdown",
      "metadata": {},
      "source": [
        "## 🎯 F-strings (Formatted String Literals)\n",
        "\n",
        "- **Syntax:** `f\"Your text {variable}\"`\n",
        "- **Benefits:** Fast, clear, supports inline expressions\n",
        "- **Python 3.6+:** The preferred modern way\n",
        "- **Use case:** Great for creating AI prompts with variables"
      ]
    },
    {
      "cell_type": "markdown",
      "metadata": {},
      "source": [
        "## 📋 Format() Method\n",
        "\n",
        "- **Syntax:** `\"Your text {}\".format(variable)`\n",
        "- **Positional placeholders:** `{0}`, `{1}`, `{2}`\n",
        "- **Named placeholders:** `{name}`, `{age}`\n",
        "- **Number formatting:** `:.2f` for decimal places"
      ]
    },
    {
      "cell_type": "markdown",
      "metadata": {},
      "source": [
        "## 💻 Code Example\n",
        "\n",
        "```python\n",
        "# String formatting for AI applications\n",
        "name = \"Alice\"\n",
        "age = 25\n",
        "score = 95.6789\n",
        "\n",
        "# F-strings (preferred method)\n",
        "print(f\"Hello {name}, you are {age} years old\")\n",
        "print(f\"Your AI quiz score: {score:.2f}%\")\n",
        "print(f\"Calculation: {10 * 5}\")\n",
        "\n",
        "# Format method\n",
        "print(\"Hello {}, you are {} years old\".format(name, age))\n",
        "print(\"Hello {name}, your score is {score:.1f}\".format(name=name, score=score))\n",
        "\n",
        "# AI prompt engineering example\n",
        "model = \"GPT-4\"\n",
        "task = \"write a poem\"\n",
        "max_tokens = 100\n",
        "\n",
        "ai_prompt = f\"\"\"\n",
        "Model: {model}\n",
        "Task: Please {task}\n",
        "Parameters: Maximum {max_tokens} tokens\n",
        "Context: Keep it inspiring and creative\n",
        "\"\"\"\n",
        "print(ai_prompt)\n",
        "\n",
        "# Dynamic AI responses\n",
        "user_query = \"What is machine learning?\"\n",
        "response_template = f\"AI Assistant: Based on your question '{user_query}', here's what I know...\"\n",
        "print(response_template)\n",
        "```\n"
      ],
      "outputs": [],
      "execution_count": null
    },
    {
      "cell_type": "markdown",
      "metadata": {},
      "source": [
        "## 🎯 Key Takeaway\n",
        "\n",
        "String formatting is your **communication bridge** with AI models!\n",
        "\n",
        ">*\"How would you create a dynamic prompt template for different AI tasks?\"*"
      ]
    }
  ],
  "metadata": {
    "kernelspec": {
      "display_name": "Python 3",
      "language": "python",
      "name": "python3"
    },
    "language_info": {
      "name": "python",
      "version": "3.8"
    }
  },
  "nbformat": 4,
  "nbformat_minor": 5
}