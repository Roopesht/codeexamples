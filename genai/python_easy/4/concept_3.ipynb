{
  "cells": [
    {
      "cell_type": "markdown",
      "metadata": {},
      "source": [
        "# Concept 3: String Formatting\n",
        "\n",
        "✨ Concept 3: String Formatting Magic\n",
        "\n",
        "## 📝 String Formatting Superpowers\n",
        "- 🚀 **f-strings:** Modern, fast, readable (Python 3.6+)\n",
        "- 📋 **format():** Flexible placeholder method\n",
        "- 🎨 **Format specifiers:** Control number precision, padding\n",
        "- 💡 **Dynamic content:** Build strings with variables"
      ]
    },
    {
      "cell_type": "markdown",
      "metadata": {},
      "source": [
        "## ✨ Formatting Magic"
      ]
    },
    {
      "cell_type": "code",
      "execution_count": null,
      "metadata": {},
      "outputs": [],
      "source": [
        "name = \"Alice\"",
        "age = 25",
        "score = 95.678"
      ]
    },
    {
      "cell_type": "code",
      "execution_count": null,
      "metadata": {},
      "outputs": [],
      "source": [
        "# f-strings (recommended!)",
        "print(f\"Hi {name}, you're {age} years old!\")",
        "print(f\"Score: {score:.2f}%\")"
      ]
    },
    {
      "cell_type": "code",
      "execution_count": null,
      "metadata": {},
      "outputs": [],
      "source": [
        "# format() method",
        "print(\"Hi {}, you're {} years old!\".format(name, age))",
        "print(\"Score: {:.1f}%\".format(score))"
      ]
    },
    {
      "cell_type": "code",
      "execution_count": null,
      "metadata": {},
      "outputs": [],
      "source": [
        "# Advanced formatting",
        "price = 1234.5",
        "print(f\"Price: ${price:,.2f}\")",
        "print(f\"Binary: {42:b}, Hex: {42:x}\")"
      ]
    },
    {
      "cell_type": "markdown",
      "metadata": {},
      "source": [
        "## 🚀 Try in Colab\n",
        "[🚀 Try in Colab](https://colab.research.google.com/github/Roopesht/codeexamples/blob/main/genai/python_easy/4/string_formatting.ipynb)"
      ]
    },
    {
      "cell_type": "markdown",
      "metadata": {},
      "source": [
        "## 📤 Formatted Output"
      ]
    },
    {
      "cell_type": "code",
      "execution_count": null,
      "metadata": {},
      "outputs": [],
      "source": [
        "output_text = (\n",
        "    \"Hi Alice, you're 25 years old!\\n\"",
        "    \"Score: 95.68%\\n\"",
        "    \"Hi Alice, you're 25 years old!\\n\"",
        "    \"Score: 95.7%\\n\"",
        "    \"Price: $1,234.50\\n\"",
        "    \"Binary: 101010, Hex: 2a\""
      ]
    },
    {
      "cell_type": "code",
      "execution_count": null,
      "metadata": {},
      "outputs": [],
      "source": [
        "# Display formatted output",
        "print(\"Hi Alice, you're 25 years old!\")",
        "print(\"Score: 95.68%\")",
        "print(\"Hi Alice, you're 25 years old!\")",
        "print(\"Score: 95.7%\")",
        "print(\"Price: $1,234.50\")",
        "print(\"Binary: 101010, Hex: 2a\")"
      ]
    },
    {
      "cell_type": "markdown",
      "metadata": {},
      "source": [
        "## 🎯 Pro Tip"
      ]
    },
    {
      "cell_type": "markdown",
      "metadata": {},
      "source": [
        "When building AI applications, you'll constantly format prompts, responses, and reports. Which formatting method would you use for a dynamic prompt like:\n",
        "\n",
        "```python\n",
        "prompt = f\"Analyze this {{data_type}} and provide {{num_insights}} insights about {{topic}}\"\n",
        "```\n",
        "\n",
        "f-strings are the modern choice - fast, readable, and powerful! 🚀"
      ]
    }
  ],
  "metadata": {
    "kernelspec": {
      "name": "python3",
      "display_name": "Python 3",
      "language": "python"
    },
    "language_info": {
      "name": "python",
      "version": "3.x"
    }
  }
}