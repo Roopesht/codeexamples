{
  "cells": [
    {
      "cell_type": "markdown",
      "metadata": {},
      "source": [
        "# Tuples in Python\n",
        "\n",
        "Welcome to this beginner-friendly introduction to Tuples in Python!\n",
        "\n",
        "In this notebook, we'll learn what tuples are, how to create and use them, and when to choose tuples over other data types. Let's get started!"
      ]
    },
    {
      "cell_type": "markdown",
      "metadata": {},
      "source": [
        "## 📦 Concept 1: Tuples - Immutable Sequences\n",
        "\n",
        "- 🔒 Tuples are ordered collections of items that cannot be changed after creation.\n",
        "- 🎯 They are useful for storing data that should remain constant, like coordinates or fixed records.\n",
        "- ⚡ Tuples are generally faster than lists for read-only data.\n",
        "- 🔑 Because they are immutable, tuples can be used as keys in dictionaries, unlike lists."
      ]
    },
    {
      "cell_type": "markdown",
      "metadata": {},
      "source": [
        "## 💻 Creating and Using Tuples"
      ]
    },
    {
      "cell_type": "code",
      "execution_count": null,
      "metadata": {},
      "outputs": [],
      "source": [
        "# Creating tuples\n",
        "coordinates = (10, 20)\n",
        "rgb_color = (255, 128, 0)\n",
        "person = (\"Alice\", 25, \"Engineer\")\n",
        "\n",
        "# Tuple unpacking\n",
        "x, y = coordinates\n",
        "name, age, job = person\n",
        "\n",
        "# Multiple assignment creates a tuple\n",
        "a, b, c = 1, 2, 3\n",
        "\n",
        "# Single element tuple (note the comma)\n",
        "single = (42,)\n"
      ]
    },
    {
      "cell_type": "markdown",
      "metadata": {},
      "source": [
        "You can create tuples with parentheses `()` and separate items with commas.\n",
        "To unpack a tuple into variables, assign them as shown.\n",
        "Single-element tuples need a trailing comma."
      ]
    },
    {
      "cell_type": "markdown",
      "metadata": {},
      "source": [
        "## 🚀 Try in Colab\n",
        "\n",
        "[Open in Google Colab](https://colab.research.google.com/github/Roopesht/codeexamples/blob/main/genai/python_easy/8/tuples_basics.ipynb)"
      ]
    },
    {
      "cell_type": "markdown",
      "metadata": {},
      "source": [
        "## 🖥️ Output Results"
      ]
    },
    {
      "cell_type": "code",
      "execution_count": null,
      "metadata": {},
      "outputs": [],
      "source": [
        "coordinates = (10, 20)\n",
        "x, y = coordinates\n",
        "name, age, job = (\"Alice\", 25, \"Engineer\")\n",
        "a, b, c = 1, 2, 3\n",
        "single = (42,)\n",
        "\n",
        "print(f\"coordinates: {coordinates}\")\n",
        "print(f\"x: {x}, y: {y}\")\n",
        "print(f\"name: {name}, age: {age}, job: {job}\")\n",
        "print(f\"a: {a}, b: {b}, c: {c}\")\n",
        "print(f\"single: {single}\")\n",
        "print(f\"type(single): {type(single)}\")"
      ]
    },
    {
      "cell_type": "markdown",
      "metadata": {},
      "source": [
        "## 🎯 When to Use Tuples\n",
        "\n",
        "- 📍 For GPS coordinates like `(latitude, longitude)`\n",
        "- 🎨 For color values like `(red, green, blue)`\n",
        "- 📊 To store fixed database records that shouldn't change\n",
        "- 🔑 When you need to use multiple values as dictionary keys\n",
        "\n",
        "### Question:\n",
        "Why would you use a tuple instead of a list for storing a person's birthdate?"
      ]
    }
  ],
  "metadata": {
    "kernelspec": {
      "name": "python3",
      "display_name": "Python 3"
    },
    "language_info": {
      "name": "python",
      "version": "3.x"
    }
  },
  "nbformat": 4,
  "nbformat_minor": 5

}
