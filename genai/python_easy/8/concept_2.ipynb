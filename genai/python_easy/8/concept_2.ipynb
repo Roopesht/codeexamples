{
  "cells": [
    {
      "cell_type": "markdown",
      "metadata": {},
      "source": [
        "# Sets in Python - A Beginner's Guide"
      ]
    },
    {
      "cell_type": "markdown",
      "metadata": {},
      "source": [
        "In this notebook, we'll learn about sets in Python! Sets are a collection type that store **unique elements**, meaning duplicates are automatically removed. They are also very fast for checking if an item exists.\n"
      ]
    },
    {
      "cell_type": "markdown",
      "metadata": {},
      "source": [
        "## What is a Set?\n",
        "- Automatically removes duplicates\n",
        "- Fast membership testing\n",
        "- Supports mathematical operations like union and intersection\n",
        "- Unordered, so no indexing"
      ]
    },
    {
      "cell_type": "markdown",
      "metadata": {},
      "source": [
        "### Visual Representation\n",
        "![Venn diagrams showing set operations](images/sets_venn_diagram.png)"
      ]
    },
    {
      "cell_type": "markdown",
      "metadata": {},
      "source": [
        "## Working with Sets\n",
        "Let's see how to create and manipulate sets in Python."
      ]
    },
    {
      "cell_type": "code",
      "execution_count": null,
      "metadata": {},
      "outputs": [],
      "source": [
        "# Creating sets\n",
        "unique_numbers = {1, 2, 3, 4, 5}\n",
        "colors = {'red', 'green', 'blue'}\n"
      ]
    },
    {
      "cell_type": "markdown",
      "metadata": {},
      "source": [
        "# Creating a set from a list (duplicates will be removed)"
      ]
    },
    {
      "cell_type": "code",
      "execution_count": null,
      "metadata": {},
      "outputs": [],
      "source": [
        "numbers_list = [1, 2, 2, 3, 3, 3, 4]\n",
        "unique_numbers = set(numbers_list)\n",
        "print('unique_numbers:', unique_numbers)"
      ]
    },
    {
      "cell_type": "markdown",
      "metadata": {},
      "source": [
        "# Adding and removing elements"
      ]
    },
    {
      "cell_type": "code",
      "execution_count": null,
      "metadata": {},
      "outputs": [],
      "source": [
        "colors.add('yellow')  # Add yellow to the set\n",
        "print('Colors after add:', colors)\n",
        "\n",
        "colors.remove('red')  # Remove red (raises KeyError if not found)\n",
        "print('Colors after remove:', colors)\n",
        "\n",
        "# Using discard (no error if item not found)\n",
        "colors.discard('purple')\n",
        "print('Colors after discard:', colors)"
      ]
    },
    {
      "cell_type": "markdown",
      "metadata": {},
      "source": [
        "# Checking membership (fast!)"
      ]
    },
    {
      "cell_type": "code",
      "execution_count": null,
      "metadata": {},
      "outputs": [],
      "source": [
        "print('Blue in colors:', 'blue' in colors)"
      ]
    },
    {
      "cell_type": "markdown",
      "metadata": {},
      "source": [
        "## Output Results"
      ]
    },
    {
      "cell_type": "code",
      "execution_count": null,
      "metadata": {},
      "outputs": [],
      "source": [
        "# The outputs that would be seen after running the above code:\n",
        "print('unique_numbers:', unique_numbers)  # e.g., {1, 2, 3, 4, 5}\n",
        "print('Colors after add:', colors)\n",
        "print('Colors after remove:', colors)\n",
        "print('blue' in colors)\n"
      ]
    },
    {
      "cell_type": "markdown",
      "metadata": {},
      "source": [
        "## When to Use Sets?\n",
        "- To keep track of **unique email addresses** in a mailing list\n",
        "- For **tags** assigned to blog posts\n",
        "- To find **common friends** between users\n",
        "- For **fast checks** if an item is already processed"
      ]
    },
    {
      "cell_type": "markdown",
      "metadata": {},
      "source": [
        "### Question\n",
        "How would you find students who are taking both Python and AI courses?"
      ]
    }
  ],
  "metadata": {
    "kernelspec": {
      "display_name": "Python 3",
      "language": "python",
      "name": "python3"
    },
    "language_info": {
      "name": "python",
      "version": "3.x"
    }
  },
  "nbformat": 4,
  "nbformat_minor": 5
}