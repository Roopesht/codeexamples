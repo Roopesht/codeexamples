{
  "cells": [
    {
      "cell_type": "markdown",
      "metadata": {},
      "source": [
        "# Type Conversion in Python"
      ]
    },
    {
      "cell_type": "markdown",
      "metadata": {},
      "source": [
        "## 🔄 Concept 4: Converting Between Data Structures\n",
        "\n",
        "- 🔧 Use functions like `list()`, `tuple()`, `set()`, and `dict()` to convert data types.\n",
        "- ⚠️ Be aware of data loss: converting to a set removes duplicate items.\n",
        "- 🎯 Choose conversions based on the operations you need.\n",
        "- 💡 These conversions are often used in data cleaning and preprocessing."
      ]
    },
    {
      "cell_type": "markdown",
      "metadata": {},
      "source": [
        "## Visual Explanation\n",
        "\n",
        "![Circular diagram showing conversion between list, tuple, set, and dict, size 800x600](~!@images/type_conversion_flow.png~!@)"
      ]
    },
    {
      "cell_type": "markdown",
      "metadata": {},
      "source": [
        "## Converting Between Types"
      ]
    },
    {
      "cell_type": "code",
      "execution_count": null,
      "metadata": {},
      "outputs": [],
      "source": [
        "# Starting with a list with duplicates\n",
        "original_list = [1, 2, 2, 3, 3, 3, 4]\n",
        "\n",
        "# Convert to different types\n",
        "as_tuple = tuple(original_list)\n",
        "as_set = set(original_list)  # Removes duplicates!\n",
        "back_to_list = list(as_set)\n",
        "\n",
        "print(f\"Original list: {original_list}\")\n",
        "print(f\"As tuple: {as_tuple}\")\n",
        "print(f\"As set: {as_set}\")\n",
        "print(f\"Back to list: {back_to_list}\")\n",
        "\n",
        "# Converting strings\n",
        "text = \"hello\"\n",
        "char_list = list(text)\n",
        "char_set = set(text)  # Unique characters\n"
      ]
    },
    {
      "cell_type": "markdown",
      "metadata": {},
      "source": [
        "### 🚀 Try it out:\n",
        "\n",
        "[Try Conversions in Google Colab](https://colab.research.google.com/github/Roopesht/codeexamples/blob/main/genai/python_easy/8/type_conversion.ipynb)"
      ]
    },
    {
      "cell_type": "markdown",
      "metadata": {},
      "source": [
        "## Output Results"
      ]
    },
    {
      "cell_type": "code",
      "execution_count": null,
      "metadata": {},
      "outputs": [],
      "source": [
        "print(\"Original list:\", original_list)\n",
        "print(\"As tuple:\", as_tuple)\n",
        "print(\"As set:\", as_set)\n",
        "print(\"Back to list:\", back_to_list)\n",
        "\n",
        "print(\"char_list:\", char_list)\n",
        "print(\"char_set:\", char_set)"
      ]
    },
    {
      "cell_type": "markdown",
      "metadata": {},
      "source": [
        "## 🎯 Common Conversion Patterns"
      ]
    },
    {
      "cell_type": "markdown",
      "metadata": {},
      "source": [
        "- 📝 `<type>(list)` → Remove duplicates quickly\n",
        "- 📦 `<type>(list)` → Make data immutable\n",
        "- 📋 `<type>(set)` → Get unique items as list\n",
        "- 🔤 `<type>(string)` → Get individual characters\n",
        "\n",
        "> 💭 **Question:** How would you get unique words from a sentence while preserving order?"
      ]
    }
  ],
  "metadata": {
    "kernelspec": {
      "name": "python3",
      "display_name": "Python 3",
      "language": "python"
    },
    "language_info": {
      "name": "python",
      "version": "3.x"
    }
  }
}