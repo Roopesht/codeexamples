{
  "cells": [
    {
      "cell_type": "markdown",
      "metadata": {},
      "source": [
        "# Advanced Python Topics: Set Operations & Named Tuples"
      ]
    },
    {
      "cell_type": "markdown",
      "metadata": {},
      "source": [
        "In this notebook, we will explore some powerful tools in Python:\n",
        "- Set Operations: Union, Intersection, Difference\n",
        "- Named Tuples for cleaner, more readable code"
      ]
    },
    {
      "cell_type": "markdown",
      "metadata": {},
      "source": [
        "## Powerful Set Operations"
      ]
    },
    {
      "cell_type": "code",
      "execution_count": null,
      "metadata": {},
      "outputs": [],
      "source": [
        "# Set operations for data analysis\n",
        "python_students = {'Alice', 'Bob', 'Charlie', 'Diana'}\n",
        "ai_students = {'Bob', 'Diana', 'Eve', 'Frank'}\n",
        "\n",
        "# Union: All students in either course\n",
        "all_students = python_students | ai_students\n",
        "# Alternatively:\n",
        "# all_students = python_students.union(ai_students)\n",
        "\n",
        "# Intersection: Students in both courses\n",
        "both_courses = python_students & ai_students\n",
        "# Alternatively:\n",
        "# both_courses = python_students.intersection(ai_students)\n",
        "\n",
        "# Difference: Students only in Python course\n",
        "only_python = python_students - ai_students\n",
        "# Alternatively:\n",
        "# only_python = python_students.difference(ai_students)\n",
        "\n",
        "print(f\"All students: {all_students}\")\n",
        "print(f\"Taking both: {both_courses}\")\n",
        "print(f\"Only Python: {only_python}\")"
      ]
    },
    {
      "cell_type": "markdown",
      "metadata": {},
      "source": [
        "## Named Tuples for Cleaner Code"
      ]
    },
    {
      "cell_type": "code",
      "execution_count": null,
      "metadata": {},
      "outputs": [],
      "source": [
        "from collections import namedtuple\n",
        "\n",
        "# Define a named tuple for a Person\n",
        "Person = namedtuple('Person', ['name', 'age', 'job'])\n",
        "# Define a named tuple for a point\n",
        "Point = namedtuple('Point', ['x', 'y'])\n",
        "\n",
        "# Create instances\n",
        "alice = Person('Alice', 30, 'Engineer')\n",
        "origin = Point(0, 0)\n",
        "\n",
        "# Access by name (more readable!)\n",
        "print(f\"Name: {alice.name}\")\n",
        "print(f\"Age: {alice.age}\")\n",
        "print(f\"Coordinates: ({origin.x}, {origin.y})\")\n",
        "\n",
        "# Remember: named tuples are immutable!\n",
        "# alice.age = 31  # This will raise an error"
      ]
    },
    {
      "cell_type": "markdown",
      "metadata": {},
      "source": [
        "[🚀 Explore Advanced](https://colab.research.google.com/github/Roopesht/codeexamples/blob/main/genai/python_easy/8/advanced_structures.ipynb)"
      ]
    },
    {
      "cell_type": "markdown",
      "metadata": {},
      "source": [
        "## Output Results"
      ]
    },
    {
      "cell_type": "code",
      "execution_count": null,
      "metadata": {},
      "outputs": [],
      "source": [
        "print(\"All students: {'Alice', 'Bob', 'Charlie', 'Diana', 'Eve', 'Frank'}\")\n",
        "print(\"Taking both: {'Bob', 'Diana'}\")\n",
        "print(\"Only Python: {'Alice', 'Charlie'}\")\n",
        "\n",
        "print(\"Name: Alice\")\n",
        "print(\"Age: 30\")\n",
        "print(\"Coordinates: (0, 0)\")"
      ]
    }
  ],
  "metadata": {
    "kernelspec": {
      "name": "python3",
      "display_name": "Python 3",
      "language": "python"
    },
    "language_info": {
      "name": "python",
      "version": "3.x"
    }
  }
}