{
  "cells": [
    {
      "cell_type": "markdown",
      "metadata": {},
      "source": [
        "# 💻 Hands-on Task: Unique Word Counter"
      ]
    },
    {
      "cell_type": "markdown",
      "metadata": {},
      "source": [
        "___\n",
        "<em>Build a text analyzer that finds unique words, counts frequencies, and identifies the most common words!</em>\n",
        "![Word cloud showing most common words in different sizes, size 800x500](~!@images/word_counter_visualization.png~!@)"
      ]
    },
    {
      "cell_type": "markdown",
      "metadata": {},
      "source": [
        "___\n",
        "## 📋 Task Requirements"
      ]
    },
    {
      "cell_type": "markdown",
      "metadata": {},
      "source": [
        "- 📖 Analyze a text passage for unique words\n",
        "- 📊 Count frequency of each word\n",
        "- 🏆 Find the top 5 most common words\n",
        "- 🎯 Use appropriate data structures for each step"
      ]
    },
    {
      "cell_type": "markdown",
      "metadata": {},
      "source": [
        "___\n",
        "## 🔧 Implementation Steps"
      ]
    },
    {
      "cell_type": "markdown",
      "metadata": {},
      "source": [
        "1. 📝 **Clean text:** Remove punctuation, convert to lowercase\n",
        "2. 📋 **Split into words:** Create a list of words\n",
        "3. 🎲 **Find unique words:** Use a set\n",
        "4. 📊 **Count frequencies:** Use a dictionary\n",
        "5. 🏆 **Find top words:** Sort and slice"
      ]
    },
    {
      "cell_type": "markdown",
      "metadata": {},
      "source": [
        "___\n",
        "## 📝 Input/Output Example"
      ]
    },
    {
      "cell_type": "markdown",
      "metadata": {},
      "source": [
        "```plaintext\n",
        "Input Text:\n",
        "Python is amazing. Python makes data analysis easy. \n",
        "Data analysis with Python is powerful and easy.\n",
        "Expected Output:\n",
        "Total words: 13\n",
        "Unique words: 9\n",
        "Word frequencies: {'python': 3, 'is': 2, 'easy': 2, 'amazing': 1, ...}\n",
        "Top 3 words: [('python', 3), ('is', 2), ('easy', 2)]\n",
        "```\n"
      ]
    },
    {
      "cell_type": "markdown",
      "metadata": {},
      "source": [
        "___\n",
        "## 💡 Code Structure Hint"
      ]
    },
    {
      "cell_type": "code",
      "metadata": {},
      "source": [
        "def analyze_text(text):\n",
        "    # Step 1: Clean and split text\n",
        "    # Remove punctuation and convert to lowercase\n",
        "    import string\n",
        "    # Remove punctuation\n",
        "    translator = str.maketrans('', '', string.punctuation)\n",
        "    clean_text = text.translate(translator).lower()\n",
        "    # Split into words\n",
        "    words = clean_text.split()\n",
        "    \n",
        "    # Step 2: Find unique words\n",
        "    unique_words = set(words)\n",
        "    \n",
        "    # Step 3: Count frequencies\n",
        "    word_count = {}\n",
        "    for word in words:\n",
        "        word_count[word] = word_count.get(word, 0) + 1\n",
        "    \n",
        "    # Step 4: Find most common words\n",
        "    sorted_counts = sorted(word_count.items(), key=lambda item: item[1], reverse=True)\n",
        "    top_5 = sorted_counts[:5]\n",
        "    \n",
        "    # Prepare results\n",
        "    total_words = len(words)\n",
        "    unique_word_count = len(unique_words)\n",
        "    \n",
        "    return {\n",
        "        'total_words': total_words,\n",
        "        'unique_words': unique_word_count,\n",
        "        'word_frequencies': word_count,\n",
        "        'top_words': top_5\n",
        "    }\n",
        "\n",
        "# Test with sample text\n",
        "sample_text = 'Python is amazing. Python makes data analysis easy. \\nData analysis with Python is powerful and easy.'\n",
        "results = analyze_text(sample_text)\n",
        "results"
      ],
      "execution_count": null,
      "outputs": []
    },
    {
      "cell_type": "markdown",
      "metadata": {},
      "source": [
        "___\n",
        "## 🚀 Start Coding"
      ]
    },
    {
      "cell_type": "markdown",
      "metadata": {},
      "source": [
        "<a href=\"https://colab.research.google.com/github/Roopesht/codeexamples/blob/main/genai/python_easy/8/word_counter_task.ipynb\" target=\"_blank\" class=\"colab-button\">🚀 Start Coding</a>"
      ]
    },
    {
      "cell_type": "markdown",
      "metadata": {},
      "source": [
        "___\n",
        "## 🎯 Task Conclusion"
      ]
    },
    {
      "cell_type": "markdown",
      "metadata": {},
      "source": [
        "This task demonstrates the power of choosing the right data structure:\n",
        "- 📋 **Lists** for ordered word processing\n",
        "- 🎲 **Sets** for finding unique elements\n",
        "- 📚 **Dictionaries** for counting frequencies\n",
        "- 📦 **Tuples** for returning structured results\n",
        "\n",
        "> *The right data structure makes complex problems simple!*"
      ]
    }
  ],
  "metadata": {
    "kernelspec": {
      "display_name": "Python 3",
      "language": "python",
      "name": "python3"
    },
    "language_info": {
      "name": "python",
      "version": "3.x"
    }
  },
  "nbformat": 4,
  "nbformat_minor": 5
}