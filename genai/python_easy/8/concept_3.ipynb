{
  "cells": [
    {
      "cell_type": "markdown",
      "metadata": {},
      "source": [
        "# Choosing the Right Data Structure in Python\n",
        "\n",
        "In this lesson, we will explore different data structures in Python and learn how to choose the right one for your needs."
      ]
    },
    {
      "cell_type": "markdown",
      "metadata": {},
      "source": [
        "## 🎯 Concept 3: Choosing the Right Data Structure\n",
        "\n",
        "- 📋 Lists: When you need order and mutability\n",
        "- 📦 Tuples: When you need order but immutability\n",
        "- 🎲 Sets: When you need uniqueness and fast lookups\n",
        "- 📚 Dictionaries: When you need key-value relationships"
      ]
    },
    {
      "cell_type": "markdown",
      "metadata": {},
      "source": [
        "## ![Decision tree flowchart](https://images/data_structure_decision_tree.png)\n",
        "\n",
        "*Decision tree flowchart showing when to use each data structure.*"
      ]
    },
    {
      "cell_type": "markdown",
      "metadata": {},
      "source": [
        "## Real-World Scenarios\n",
        "\n",
        "Let's look at some practical examples of where each data structure makes sense."
      ]
    },
    {
      "cell_type": "code",
      "metadata": {},
      "execution_count": null,
      "outputs": [],
      "source": [
        "# Scenario 1: Shopping cart (order matters, items can repeat)\n",
        "shopping_cart = ['apple', 'banana', 'apple', 'orange']\n",
        "\n",
        "# Scenario 2: GPS coordinates (order matters, shouldn't change)\n",
        "location = (40.7128, -74.0060)  # NYC coordinates\n",
        "\n",
        "# Scenario 3: Unique visitors (no duplicates needed)\n",
        "unique_visitors = {'user123', 'user456', 'user789'}\n",
        "\n",
        "# Scenario 4: Student grades (key-value mapping)\n",
        "grades = {'Alice': 95, 'Bob': 87, 'Charlie': 92}\n",
        "\n",
        "# Which would you use for storing unique words in a document? "
      ]
    },
    {
      "cell_type": "markdown",
      "metadata": {},
      "source": [
        "Feel free to experiment with these examples in Google Colab:\n",
        "[Try Examples](https://colab.research.google.com/github/Roopesht/codeexamples/blob/main/genai/python_easy/8/choosing_structures.ipynb)"
      ]
    },
    {
      "cell_type": "markdown",
      "metadata": {},
      "source": [
        "## ![Quick Comparison Table](https://i.imgur.com/yourimage.png)\n",
        "\n",
        "| Feature      | List | Tuple | Set | Dict |\n",
        "|--------------|-------|--------|-----|-------|\n",
        "| Ordered      | ✅    | ✅     | ❌  | ✅*   |\n",
        "| Mutable      | ✅    | ❌     | ✅  | ✅    |\n",
        "| Duplicates   | ✅    | ✅     | ❌  | ❌**  |\n",
        "| Indexed      | ✅    | ✅     | ❌  | ✅*** |\n",
        "\n",
        "*Since Python 3.7, ** Keys only, ***By key"
      ]
    },
    {
      "cell_type": "markdown",
      "metadata": {},
      "source": [
        "## 🚀 Decision Framework\n",
        "\n",
        "Follow this simple guide to choose the right data structure:\n",
        "\n",
        "1. 🤔 **Do I need key-value pairs?** → Dictionary\n",
        "2. 🎯 **Do I need only unique items?** → Set\n",
        "3. 🔒 **Will the data never change?** → Tuple\n",
        "4. 📝 **Do I need ordered, changeable data?** → List\n",
        "\n",
        "💭 Question: What data structure would you use to store the top 10 most frequent words in a document?"
      ]
    }
  ],
  "metadata": {
    "kernelspec": {
      "display_name": "Python 3",
      "language": "python",
      "name": "python3"
    },
    "language_info": {
      "name": "python",
      "version": "3.x"
    }
  },
  "nbformat": 4,
  "nbformat_minor": 5
}