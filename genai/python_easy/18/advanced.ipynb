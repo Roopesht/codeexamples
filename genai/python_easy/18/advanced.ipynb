{
  "cells": [
    {
      "cell_type": "markdown",
      "metadata": {},
      "source": [
        "# Advanced: Hands-on Model Complexity"
      ]
    },
    {
      "cell_type": "markdown",
      "metadata": {},
      "source": [
        "### Adjusting Model Complexity"
      ]
    },
    {
      "cell_type": "markdown",
      "metadata": {},
      "source": [
        "![Model Complexity Curve](images/model_complexity_curve.png)",
        "\n",
        "*\"Interactive exploration of the bias-variance tradeoff\"*"
      ]
    },
    {
      "cell_type": "markdown",
      "metadata": {},
      "source": [
        "### Interactive Model Complexity Demo"
      ]
    },
    {
      "cell_type": "code",
      "execution_count": null,
      "metadata": {},
      "outputs": [],
      "source": [
        "import matplotlib.pyplot as plt",
        "import numpy as np",
        "from sklearn.neighbors import KNeighborsRegressor",
        "",
        "# Assume X_train, y_train, X_test, y_test are predefined",
        "",
        "# Test different model complexities",
        "k_values = range(1, 21)",
        "train_scores = []",
        "test_scores = []",
        "",
        "for k in k_values:",
        "    knn = KNeighborsRegressor(n_neighbors=k)",
        "    knn.fit(X_train, y_train)",
        "",
        "    train_score = knn.score(X_train, y_train)",
        "    test_score = knn.score(X_test, y_test)",
        "",
        "    train_scores.append(train_score)",
        "    test_scores.append(test_score)",
        "",
        "# Plot the results",
        "plt.figure(figsize=(10, 6))",
        "plt.plot(k_values, train_scores, 'o-', label='Training Score')",
        "plt.plot(k_values, test_scores, 'o-', label='Test Score')",
        "plt.xlabel('Model Complexity (Lower K = Higher Complexity)')",
        "plt.ylabel('R² Score')",
        "plt.title('Model Complexity vs Performance')",
        "plt.legend()",
        "plt.grid(True)",
        "plt.show()",
        "",
        "# Find optimal complexity",
        "optimal_k = list(k_values)[np.argmax(test_scores)]",
        "print(f\"Optimal K (best generalization): {optimal_k}\")"
      ]
    },
    {
      "cell_type": "markdown",
      "metadata": {},
      "source": [
        "### Complexity Insights"
      ]
    },
    {
      "cell_type": "markdown",
      "metadata": {},
      "source": [
        "**Key Learning:** Optimal complexity balances training and test performance",
        "\n",
        "💭 **Experiment:** Try adjusting different hyperparameters and observe the changes!"
      ]
    }
  ],
  "metadata": {
    "kernelspec": {
      "display_name": "Python 3",
      "language": "python",
      "name": "python3"
    },
    "language_info": {
      "name": "python",
      "version": "3.x"
    }
  },
  "nbformat": 4,
  "nbformat_minor": 5
}