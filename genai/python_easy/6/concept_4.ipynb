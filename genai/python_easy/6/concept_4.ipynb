{
  "cells": [
    {
      "cell_type": "markdown",
      "metadata": {},
      "source": [
        "# Dictionary Iteration Patterns in Python"
      ]
    },
    {
      "cell_type": "markdown",
      "metadata": {},
      "source": [
        "🔄 Concept 4: Iterating Through Dictionaries\n",
        "\n",
        "In this notebook, we will learn how to iterate through dictionaries in Python. "
      ]
    },
    {
      "cell_type": "markdown",
      "metadata": {},
      "source": [
        "## Dictionary Iteration Patterns\n",
        "\n",
        "- 🔑 Iterate over keys (default behavior)\n",
        "- 💎 Iterate over values using `.values()`\n",
        "- 📝 Iterate over key-value pairs using `.items()`\n",
        "- 🎯 Choose the right pattern for your use case"
      ]
    },
    {
      "cell_type": "markdown",
      "metadata": {},
      "source": [
        "## 💻 Dictionary Iteration Techniques"
      ]
    },
    {
      "cell_type": "code",
      "metadata": {},
      "source": [
        "# Product inventory with prices\n",
        "inventory = {\n",
        "    \"laptop\": 999.99,\n",
        "    \"mouse\": 25.99,\n",
        "    \"keyboard\": 79.99,\n",
        "    \"monitor\": 299.99,\n",
        "    \"headphones\": 149.99\n",
        "}\n",
        "\n",
        "# Method 1: Iterate over keys (default)\n",
        "print(\"=== Products in inventory ===\")\n",
        "for product in inventory:\n",
        "    print(f\"Product: {product}\")\n",
        "\n",
        "# Method 2: Iterate over values\n",
        "print(\"=== All prices ===\")\n",
        "for price in inventory.values():\n",
        "    print(f\"${price:.2f}\")\n",
        "\n",
        "# Method 3: Iterate over key-value pairs (most common)\n",
        "print(\"=== Product catalog ===\")\n",
        "total_value = 0\n",
        "for product, price in inventory.items():\n",
        "    print(f\"{product.title()}: ${price:.2f}\")\n",
        "    total_value += price\n",
        "print(f\"Total inventory value: ${total_value:.2f}\")\n",
        "\n",
        "# Practical example: Find expensive items\n",
        "expensive_items = []\n",
        "for product, price in inventory.items():\n",
        "    if price > 100:\n",
        "        expensive_items.append(product)\n",
        "print(f\"Expensive items (>$100): {expensive_items}\")"
      ],
      "execution_count": null,
      "outputs": []
    },
    {
      "cell_type": "markdown",
      "metadata": {},
      "source": [
        "### Output\n",
        "```\n",
        "=== Products in inventory ===\n",
        "Product: laptop\n",
        "Product: mouse\n",
        "Product: keyboard\n",
        "Product: monitor\n",
        "Product: headphones\n",
        "=== All prices ===\n",
        "$999.99\n",
        "$25.99\n",
        "$79.99\n",
        "$299.99\n",
        "$149.99\n",
        "=== Product catalog ===\n",
        "Laptop: $999.99\n",
        "Mouse: $25.99\n",
        "Keyboard: $79.99\n",
        "Monitor: $299.99\n",
        "Headphones: $149.99\n",
        "Total inventory value: $1554.95\n",
        "Expensive items (>$100): ['laptop', 'monitor', 'headphones']\n",
        "```\n"
      ]
    },
    {
      "cell_type": "markdown",
      "metadata": {},
      "source": [
        "## 🎯 Key Takeaway\n",
        "\n",
        "Dictionary iteration is powerful for data processing, analysis, and business logic implementation!"
      ]
    },
    {
      "cell_type": "markdown",
      "metadata": {},
      "source": [
        "💭 **Real-world question:**\n",
        "\n",
        "How would you iterate through a dictionary to update all prices by applying a discount? "
      ]
    }
  ],
  "metadata": {
    "kernelspec": {
      "name": "python3",
      "display_name": "Python 3",
      "language": "python"
    },
    "language_info": {
      "name": "python",
      "version": "3.x"
    }
  },
  "nbformat": 4,
  "nbformat_minor": 5
}