{
  "cells": [
    {
      "cell_type": "markdown",
      "metadata": {},
      "source": [
        "# 🔄 Concept 4: Iterating Through Dictionaries"
      ]
    },
    {
      "cell_type": "markdown",
      "metadata": {},
      "source": [
        "🔄 Dictionary Iteration Patterns"
      ]
    },
    {
      "cell_type": "markdown",
      "metadata": {},
      "source": [
        "- 🔑 Iterate over keys (default behavior)"
      ]
    },
    {
      "cell_type": "markdown",
      "metadata": {},
      "source": [
        "- 💎 Iterate over values using `.values()`"
      ]
    },
    {
      "cell_type": "markdown",
      "metadata": {},
      "source": [
        "- 📝 Iterate over key-value pairs using `.items()`"
      ]
    },
    {
      "cell_type": "markdown",
      "metadata": {},
      "source": [
        "- 🎯 Choose the right pattern for your use case"
      ]
    },
    {
      "cell_type": "markdown",
      "metadata": {},
      "source": [
        "### 💻 Dictionary Iteration Techniques"
      ]
    },
    {
      "cell_type": "code",
      "metadata": {},
      "execution_count": null,
      "outputs": [],
      "source": [
        "# Product inventory with prices\n",
        "inventory = {\n",
        "    'laptop': 999.99,\n",
        "    'mouse': 25.99,\n",
        "    'keyboard': 79.99,\n",
        "    'monitor': 299.99,\n",
        "    'headphones': 149.99\n",
        "}\n",
        "\n",
        "# Method 1: Iterate over keys (default)\n",
        "print('=== Products in inventory ===')\n",
        "for product in inventory:\n",
        "    print(f'Product: {product}')\n",
        "\n",
        "# Method 2: Iterate over values\n",
        "print('\\n=== All prices ===')\n",
        "for price in inventory.values():\n",
        "    print(f'${price:.2f}')\n",
        "\n",
        "# Method 3: Iterate over key-value pairs (most common)\n",
        "print('\\n=== Product catalog ===')\n",
        "total_value = 0\n",
        "for product, price in inventory.items():\n",
        "    print(f'{product.title()}: ${price:.2f}')\n",
        "    total_value += price\n",
        "\n",
        "print(f'\\nTotal inventory value: ${total_value:.2f}')\n",
        "\n",
        "# Practical example: Find expensive items\n",
        "expensive_items = []\n",
        "for product, price in inventory.items():\n",
        "    if price > 100:\n",
        "        expensive_items.append(product)\n",
        "\n",
        "print(f'Expensive items (>$100): {expensive_items}')"
      ]
    },
    {
      "cell_type": "markdown",
      "metadata": {},
      "source": [
        "### 🚀 Open in Colab"
      ]
    },
    {
      "cell_type": "markdown",
      "metadata": {},
      "source": [
        "[🚀 Open in Colab](https://colab.research.google.com/github/Roopesht/codeexamples/blob/main/genai/python_easy/6/concept_4.ipynb)"
      ]
    },
    {
      "cell_type": "markdown",
      "metadata": {},
      "source": [
        "### 📤 Output"
      ]
    },
    {
      "cell_type": "code",
      "metadata": {},
      "execution_count": null,
      "outputs": [],
      "source": [
        "'''=== Products in inventory ===\n",
        "Product: laptop\n",
        "Product: mouse\n",
        "Product: keyboard\n",
        "Product: monitor\n",
        "Product: headphones\n",
        "\n",
        "=== All prices ===\n",
        "$999.99\n",
        "$25.99\n",
        "$79.99\n",
        "$299.99\n",
        "$149.99\n",
        "\n",
        "=== Product catalog ===\n",
        "Laptop: $999.99\n",
        "Mouse: $25.99\n",
        "Keyboard: $79.99\n",
        "Monitor: $299.99\n",
        "Headphones: $149.99\n",
        "\n",
        "Total inventory value: $1555.95\n",
        "Expensive items (>$100): ['laptop', 'monitor', 'headphones']\n",
        "'''"
      ]
    },
    {
      "cell_type": "markdown",
      "metadata": {},
      "source": [
        "### 🎯 Key Takeaway"
      ]
    },
    {
      "cell_type": "markdown",
      "metadata": {},
      "source": [
        "Dictionary iteration is powerful for data processing, analysis, and business logic implementation!"
      ]
    },
    {
      "cell_type": "markdown",
      "metadata": {},
      "source": [
        "💭 **Real-world question:** How would you iterate through a dictionary to update all prices by applying a discount?"
      ]
    }
  ],
  "metadata": {
    "kernelspec": {
      "display_name": "Python 3",
      "language": "python",
      "name": "python3"
    },
    "language_info": {
      "file_extension": ".py",
      "mimetype": "text/x-python",
      "name": "python",
      "version": "3.8"
    }
  },
  "nbformat": 4,
  "nbformat_minor": 5
}