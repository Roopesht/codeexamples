{
  "cells": [
    {
      "cell_type": "markdown",
      "metadata": {},
      "source": [
        "# Advanced Python Dictionary Techniques"
      ]
    },
    {
      "cell_type": "markdown",
      "metadata": {},
      "source": [
        "In this notebook, we will explore some advanced but beginner-friendly techniques for working with dictionaries in Python. These include dictionary comprehensions, `defaultdict`, `Counter`, and practical examples often used in data processing and AI applications."
      ]
    },
    {
      "cell_type": "markdown",
      "metadata": {},
      "source": [
        "## 🚀 Advanced Dictionary Techniques"
      ]
    },
    {
      "cell_type": "markdown",
      "metadata": {},
      "source": [
        "- 📝 Create dictionaries quickly and cleanly with **dictionary comprehensions**",
        "- 🔧 Use **`defaultdict`** for automatic default values and avoiding errors",
        "- 📊 Use **`Counter`** to count occurrences of items easily",
        "- ⚡ Apply these techniques to real-world data processing, especially in AI applications"
      ]
    },
    {
      "cell_type": "markdown",
      "metadata": {},
      "source": [
        "## 📦 Setup"
      ]
    },
    {
      "cell_type": "code",
      "execution_count": null,
      "metadata": {},
      "outputs": [],
      "source": [
        "from collections import defaultdict, Counter"
      ]
    },
    {
      "cell_type": "markdown",
      "metadata": {},
      "source": [
        "### Dictionary comprehension"
      ]
    },
    {
      "cell_type": "code",
      "execution_count": null,
      "metadata": {},
      "outputs": [],
      "source": [
        "# Creating a dictionary of numbers and their squares using comprehension",
        "numbers = [1, 2, 3, 4, 5]",
        "squares = {num: num**2 for num in numbers}",
        "print(\"Squares:\", squares)"
      ]
    },
    {
      "cell_type": "markdown",
      "metadata": {},
      "source": [
        "### Filter with comprehension"
      ]
    },
    {
      "cell_type": "code",
      "execution_count": null,
      "metadata": {},
      "outputs": [],
      "source": [
        "# Creating a dictionary with words longer than 4 characters",
        "words = [\"python\", \"java\", \"go\", \"rust\", \"python\", \"javascript\"]",
        "word_lengths = {word: len(word) for word in words if len(word) > 4}",
        "print(\"Long words:\", word_lengths)"
      ]
    },
    {
      "cell_type": "markdown",
      "metadata": {},
      "source": [
        "### defaultdict - no KeyError!"
      ]
    },
    {
      "cell_type": "code",
      "execution_count": null,
      "metadata": {},
      "outputs": [],
      "source": [
        "# Using defaultdict to assign courses to students without key errors",
        "student_courses = defaultdict(list)",
        "student_courses[\"Alice\"].append(\"Python\")",
        "student_courses[\"Alice\"].append(\"AI\")",
        "student_courses[\"Bob\"].append(\"Data Science\")",
        "print(\"Courses:\", dict(student_courses))"
      ]
    },
    {
      "cell_type": "markdown",
      "metadata": {},
      "source": [
        "### Counter - count occurrences"
      ]
    },
    {
      "cell_type": "code",
      "execution_count": null,
      "metadata": {},
      "outputs": [],
      "source": [
        "# Counting word frequencies in a text",
        "text = \"hello world hello python world\"",
        "word_count = Counter(text.split())",
        "print(\"Word frequencies:\", word_count)",
        "print(\"Most common:\", word_count.most_common(2))"
      ]
    },
    {
      "cell_type": "markdown",
      "metadata": {},
      "source": [
        "### Practical AI example: Token frequency"
      ]
    },
    {
      "cell_type": "code",
      "execution_count": null,
      "metadata": {},
      "outputs": [],
      "source": [
        "# Analyzing a prompt for token frequency using Counter",
        "ai_prompt = \"Generate creative content using AI and machine learning\"",
        "token_freq = Counter(ai_prompt.lower().split())",
        "print(\"AI prompt analysis:\", token_freq)"
      ]
    },
    {
      "cell_type": "markdown",
      "metadata": {},
      "source": [
        "## 📤 Output"
      ]
    },
    {
      "cell_type": "markdown",
      "metadata": {},
      "source": [
        "```",
        "Squares: {1: 1, 2: 4, 3: 9, 4: 16, 5: 25}",
        "Long words: {'python': 6, 'javascript': 10}",
        "Courses: {'Alice': ['Python', 'AI'], 'Bob': ['Data Science']}",
        "Word frequencies: Counter({'hello': 2, 'world': 2, 'python': 1})",
        "Most common: [('hello', 2), ('world', 2)]",
        "AI prompt analysis: Counter({'generate': 1, 'creative': 1, 'content': 1, 'using': 1, 'ai': 1, 'and': 1, 'machine': 1, 'learning': 1})",
        "```"
      ]
    },
    {
      "cell_type": "markdown",
      "metadata": {},
      "source": [
        "## 🎯 Advanced Takeaway"
      ]
    },
    {
      "cell_type": "markdown",
      "metadata": {},
      "source": [
        "These advanced techniques make dictionary operations more powerful and concise. They are essential tools for data preprocessing and AI applications!"
      ]
    }
  ],
  "metadata": {
    "kernelspec": {
      "display_name": "Python 3",
      "language": "python",
      "name": "python3"
    },
    "language_info": {
      "name": "python",
      "version": "3.x"
    }
  },
  "nbformat": 4,
  "nbformat_minor": 5
}