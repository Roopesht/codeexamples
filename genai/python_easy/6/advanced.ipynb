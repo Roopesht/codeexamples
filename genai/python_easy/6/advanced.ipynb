{
  "cells": [
    {
      "cell_type": "markdown",
      "metadata": {},
      "source": [
        "# ⚡ Advanced: Dictionary Comprehensions & Collections"
      ]
    },
    {
      "cell_type": "markdown",
      "metadata": {},
      "source": [
        "### 🚀 Advanced Dictionary Techniques"
      ]
    },
    {
      "cell_type": "markdown",
      "metadata": {},
      "source": [
        "- 📝 Dictionary comprehensions for elegant creation\n",
        "- 🔧 defaultdict - automatic default values\n",
        "- 📊 Counter - count occurrences automatically\n",
        "- ⚡ Perfect for data processing in AI applications"
      ]
    },
    {
      "cell_type": "markdown",
      "metadata": {},
      "source": [
        "### 💻 Advanced Dictionary Techniques"
      ]
    },
    {
      "cell_type": "code",
      "execution_count": null,
      "metadata": {},
      "outputs": [],
      "source": [
        "from collections import defaultdict, Counter\n",
        "\n",
        "# Dictionary comprehension\n",
        "numbers = [1, 2, 3, 4, 5]\n",
        "squares = {num: num**2 for num in numbers}\n",
        "print('Squares:', squares)\n",
        "\n",
        "# Filter with comprehension\n",
        "words = ['python', 'java', 'go', 'rust', 'python', 'javascript']\n",
        "word_lengths = {word: len(word) for word in words if len(word) > 4}\n",
        "print('Long words:', word_lengths)\n",
        "\n",
        "# defaultdict - no KeyError!\n",
        "student_courses = defaultdict(list)\n",
        "student_courses['Alice'].append('Python')\n",
        "student_courses['Alice'].append('AI')\n",
        "student_courses['Bob'].append('Data Science')\n",
        "print('Courses:', dict(student_courses))\n",
        "\n",
        "# Counter - count occurrences\n",
        "text = 'hello world hello python world'\n",
        "word_count = Counter(text.split())\n",
        "print('Word frequencies:', word_count)\n",
        "print('Most common:', word_count.most_common(2))\n",
        "\n",
        "# Practical AI example: Token frequency\n",
        "ai_prompt = 'Generate creative content using AI and machine learning'\n",
        "token_freq = Counter(ai_prompt.lower().split())\n",
        "print('AI prompt analysis:', token_freq)"
      ]
    },
    {
      "cell_type": "markdown",
      "metadata": {},
      "source": [
        "[🚀 Open in Colab](https://colab.research.google.com/github/Roopesht/codeexamples/blob/main/genai/python_easy/6/advanced.ipynb)"
      ]
    },
    {
      "cell_type": "markdown",
      "metadata": {},
      "source": [
        "### 📤 Output"
      ]
    },
    {
      "cell_type": "code",
      "execution_count": null,
      "metadata": {},
      "outputs": [],
      "source": [
        "# Expected output shown as comments\n",
        "print('Squares:', {1: 1, 2: 4, 3: 9, 4: 16, 5: 25})  # Squares: {1: 1, 2: 4, 3: 9, 4: 16, 5: 25}\n",
        "print('Long words:', {'python': 6, 'javascript': 10})  # Long words: {'python': 6, 'javascript': 10}\n",
        "print('Courses:', {'Alice': ['Python', 'AI'], 'Bob': ['Data Science']})  # Courses: {'Alice': ['Python', 'AI'], 'Bob': ['Data Science']}\n",
        "from collections import Counter\n",
        "print('Word frequencies:', Counter({'hello': 2, 'world': 2, 'python': 1}))  # Word frequencies: Counter({'hello': 2, 'world': 2, 'python': 1})\n",
        "print('Most common:', [('hello', 2), ('world', 2)])  # Most common: [('hello', 2), ('world', 2)]\n",
        "print('AI prompt analysis:', Counter({'generate': 1, 'creative': 1, 'content': 1, 'using': 1, 'ai': 1, 'and': 1, 'machine': 1, 'learning': 1}))  # AI prompt analysis: Counter({...})"
      ]
    },
    {
      "cell_type": "markdown",
      "metadata": {},
      "source": [
        "### 🎯 Advanced Takeaway"
      ]
    },
    {
      "cell_type": "markdown",
      "metadata": {},
      "source": [
        "These advanced techniques make dictionary operations more powerful and concise - essential for AI data preprocessing!"
      ]
    }
  ],
  "metadata": {
    "kernelspec": {
      "name": "python3",
      "display_name": "Python 3",
      "language": "python"
    },
    "language_info": {
      "name": "python",
      "version": "3.x"
    }
  }
}