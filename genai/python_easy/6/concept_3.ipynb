{
  "cells": [
    {
      "cell_type": "markdown",
      "metadata": {},
      "source": [
        "# 🛠️ Concept 3: Dictionary Methods - keys(), values(), items()"
      ]
    },
    {
      "cell_type": "markdown",
      "metadata": {},
      "source": [
        "## 🔧 Essential Dictionary Methods"
      ]
    },
    {
      "cell_type": "markdown",
      "metadata": {},
      "source": [
        "- 🔑 .keys() - Get all keys as a view object",
        "- 💎 .values() - Get all values as a view object",
        "- 📝 .items() - Get key-value pairs as tuples",
        "- 🔄 These return *view objects* that update with the dictionary"
      ]
    },
    {
      "cell_type": "markdown",
      "metadata": {},
      "source": [
        "## 💻 Dictionary Methods in Action"
      ]
    },
    {
      "cell_type": "code",
      "execution_count": null,
      "metadata": {},
      "outputs": [],
      "source": [
        "# Employee database",
        "employees = {",
        "    'E001': 'Alice Johnson',",
        "    'E002': 'Bob Smith', ",
        "    'E003': 'Carol Davis',",
        "    'E004': 'David Wilson'",
        "}"
      ]
    },
    {
      "cell_type": "code",
      "execution_count": null,
      "metadata": {},
      "outputs": [],
      "source": [
        "# Get all keys (employee IDs)",
        "employee_ids = employees.keys()",
        "print('Employee IDs:', list(employee_ids))"
      ]
    },
    {
      "cell_type": "code",
      "execution_count": null,
      "metadata": {},
      "outputs": [],
      "source": [
        "# Get all values (names)",
        "employee_names = employees.values()",
        "print('Employee Names:', list(employee_names))"
      ]
    },
    {
      "cell_type": "code",
      "execution_count": null,
      "metadata": {},
      "outputs": [],
      "source": [
        "# Get key-value pairs",
        "employee_pairs = employees.items()",
        "print('ID-Name Pairs:', list(employee_pairs))"
      ]
    },
    {
      "cell_type": "code",
      "execution_count": null,
      "metadata": {},
      "outputs": [],
      "source": [
        "# Practical applications",
        "print(f'Total employees: {len(employees)}')",
        "print(f'Is E005 in database? {\"E005\" in employees}')"
      ]
    },
    {
      "cell_type": "code",
      "execution_count": null,
      "metadata": {},
      "outputs": [],
      "source": [
        "# Convert to lists for processing",
        "ids_list = list(employees.keys())",
        "names_list = list(employees.values())",
        "print('First employee ID:', ids_list[0])"
      ]
    },
    {
      "cell_type": "markdown",
      "metadata": {},
      "source": [
        "## 🚀 [Open in Colab](https://colab.research.google.com/github/Roopesht/codeexamples/blob/main/genai/python_easy/6/concept_3.ipynb)"
      ]
    },
    {
      "cell_type": "markdown",
      "metadata": {},
      "source": [
        "## 📤 Output"
      ]
    },
    {
      "cell_type": "code",
      "execution_count": null,
      "metadata": {},
      "outputs": [],
      "source": [
        "# Expected output (to be run in code execution):",
        "# Employee IDs: ['E001', 'E002', 'E003', 'E004']",
        "# Employee Names: ['Alice Johnson', 'Bob Smith', 'Carol Davis', 'David Wilson']",
        "# ID-Name Pairs: [('E001', 'Alice Johnson'), ('E002', 'Bob Smith'), ('E003', 'Carol Davis'), ('E004', 'David Wilson')]",
        "# Total employees: 4",
        "# Is E005 in database? False",
        "# First employee ID: E001"
      ]
    },
    {
      "cell_type": "markdown",
      "metadata": {},
      "source": [
        "✨ These methods give you powerful ways to work with dictionary data!"
      ]
    },
    {
      "cell_type": "markdown",
      "metadata": {},
      "source": [
        "## 🎯 Key Takeaway"
      ]
    },
    {
      "cell_type": "markdown",
      "metadata": {},
      "source": [
        "Dictionary methods provide efficient ways to extract and work with keys, values, and pairs separately!"
      ]
    },
    {
      "cell_type": "markdown",
      "metadata": {},
      "source": [
        "💭 **Think:** How would you use these methods to validate user input or search for specific data?"
      ]
    }
  ],
  "metadata": {
    "kernelspec": {
      "display_name": "Python 3",
      "language": "python",
      "name": "python3"
    },
    "language_info": {
      "name": "python",
      "version": "3.x"
    }
  }
}