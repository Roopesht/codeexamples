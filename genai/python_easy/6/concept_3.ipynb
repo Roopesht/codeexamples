{
  "cells": [
    {
      "cell_type": "markdown",
      "metadata": {},
      "source": [
        "# Dictionary Methods in Python"
      ]
    },
    {
      "cell_type": "markdown",
      "metadata": {},
      "source": [
        "🛠️ **Concept 3: Dictionary Methods - `keys()`, `values()`, `items()`**"
      ]
    },
    {
      "cell_type": "markdown",
      "metadata": {},
      "source": [
        "## 🔧 Essential Dictionary Methods"
      ]
    },
    {
      "cell_type": "markdown",
      "metadata": {},
      "source": [
        "- 🔑 `.keys()` - Get all keys as a view object",
        "- 💎 `.values()` - Get all values as a view object",
        "- 📝 `.items()` - Get key-value pairs as tuples",
        "- 🔄 These return \"view objects\" that update with the dictionary"
      ]
    },
    {
      "cell_type": "markdown",
      "metadata": {},
      "source": [
        "## 💻 Dictionary Methods in Action"
      ]
    },
    {
      "cell_type": "code",
      "execution_count": null,
      "metadata": {},
      "outputs": [],
      "source": [
        "# Employee database\n",
        "employees = {\n",
        "    \"E001\": \"Alice Johnson\",\n",
        "    \"E002\": \"Bob Smith\",\n",
        "    \"E003\": \"Carol Davis\",\n",
        "    \"E004\": \"David Wilson\"\n",
        "}\n",
        "\n",
        "# Get all keys (employee IDs)\n",
        "employee_ids = employees.keys()\n",
        "print(\"Employee IDs:\", list(employee_ids))\n",
        "\n",
        "# Get all values (names)\n",
        "employee_names = employees.values()\n",
        "print(\"Employee Names:\", list(employee_names))\n",
        "\n",
        "# Get key-value pairs\n",
        "employee_pairs = employees.items()\n",
        "print(\"ID-Name Pairs:\", list(employee_pairs))\n",
        "\n",
        "# Practical applications\n",
        "print(f\"Total employees: {len(employees)}\")\n",
        "print(f\"Is E005 in database? {'E005' in employees}\")\n",
        "\n",
        "# Convert to lists for processing\n",
        "ids_list = list(employees.keys())\n",
        "names_list = list(employees.values())\n",
        "print(\"First employee ID:\", ids_list[0])"
      ]
    },
    {
      "cell_type": "markdown",
      "metadata": {},
      "source": [
        "## 📤 Output"
      ]
    },
    {
      "cell_type": "markdown",
      "metadata": {},
      "source": [
        "Employee IDs: ['E001', 'E002', 'E003', 'E004']\n",
        "Employee Names: ['Alice Johnson', 'Bob Smith', 'Carol Davis', 'David Wilson']\n",
        "ID-Name Pairs: [('E001', 'Alice Johnson'), ('E002', 'Bob Smith'), ('E003', 'Carol Davis'), ('E004', 'David Wilson')]\n",
        "Total employees: 4\n",
        "Is E005 in database? False\n",
        "First employee ID: E001"
      ]
    },
    {
      "cell_type": "markdown",
      "metadata": {},
      "source": [
        "✨ These methods give you powerful ways to work with dictionary data!"
      ]
    },
    {
      "cell_type": "markdown",
      "metadata": {},
      "source": [
        "## 🎯 Key Takeaway"
      ]
    },
    {
      "cell_type": "markdown",
      "metadata": {},
      "source": [
        "Dictionary methods provide efficient ways to extract and work with keys, values, and pairs separately!"
      ]
    },
    {
      "cell_type": "markdown",
      "metadata": {},
      "source": [
        "💭 **Think:** How would you use these methods to validate user input or search for specific data?"
      ]
    }
  ],
  "metadata": {
    "kernelspec": {
      "name": "python3",
      "display_name": "Python 3",
      "language": "python"
    },
    "language_info": {
      "name": "python",
      "version": "3.x"
    }
  },
  "nbformat": 4,
  "nbformat_minor": 5
}