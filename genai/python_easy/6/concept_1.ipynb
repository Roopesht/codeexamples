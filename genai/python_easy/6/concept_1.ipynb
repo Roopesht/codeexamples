{
  "cells": [
    {
      "cell_type": "markdown",
      "metadata": {},
      "source": [
        "# 🏗️ Concept 1: Dictionary Basics - Creation & Key-Value Pairs"
      ]
    },
    {
      "cell_type": "markdown",
      "metadata": {},
      "source": [
        "🔑 What Are Dictionaries?"
      ]
    },
    {
      "cell_type": "markdown",
      "metadata": {},
      "source": [
        "- 📚 Store data in key-value pairs (like a real dictionary: word → definition)"
      ]
    },
    {
      "cell_type": "markdown",
      "metadata": {},
      "source": [
        "- 🔍 Find values instantly using keys (no searching needed!)"
      ]
    },
    {
      "cell_type": "markdown",
      "metadata": {},
      "source": [
        "- 📋 Perfect for organizing related information"
      ]
    },
    {
      "cell_type": "markdown",
      "metadata": {},
      "source": [
        "- 🚀 Essential for JSON data, APIs, and AI model configurations"
      ]
    },
    {
      "cell_type": "markdown",
      "metadata": {},
      "source": [
        "![Visual representation of dictionary with keys pointing to values, showing phone contacts example. Size 800x500](images/dictionary_concept.png)"
      ]
    },
    {
      "cell_type": "markdown",
      "metadata": {},
      "source": [
        "*Think of dictionaries as smart containers where each item has a unique label!*"
      ]
    },
    {
      "cell_type": "markdown",
      "metadata": {},
      "source": [
        "### 💻 Creating Your First Dictionary"
      ]
    },
    {
      "cell_type": "code",
      "execution_count": null,
      "metadata": {},
      "outputs": [],
      "source": [
        "# Creating dictionaries - multiple ways",
        "student = {",
        "    'name': 'Alice',",
        "    'age': 20,",
        "    'grade': 85,",
        "    'courses': ['Python', 'AI', 'Math']",
        "}",
        "",
        "# Empty dictionary",
        "empty_dict = {}",
        "another_way = dict()",
        "",
        "# From lists",
        "keys = ['apple', 'banana', 'orange']",
        "values = [1.2, 0.8, 1.5]",
        "prices = dict(zip(keys, values))",
        "",
        "print(student['name'])  # Access by key",
        "print(prices)"
      ]
    },
    {
      "cell_type": "markdown",
      "metadata": {},
      "source": [
        "### 📤 Output"
      ]
    },
    {
      "cell_type": "code",
      "execution_count": null,
      "metadata": {},
      "outputs": [
        {
          "name": "stdout",
          "output_type": "stream",
          "text": [
            "Alice\n",
            "{'apple': 1.2, 'banana': 0.8, 'orange': 1.5}\n"
          ]
        }
      ],
      "source": [
        "print(student['name'])  # Access by key",
        "print(prices)"
      ]
    },
    {
      "cell_type": "markdown",
      "metadata": {},
      "source": [
        "✨ Notice how we get instant access to values using keys!"
      ]
    },
    {
      "cell_type": "markdown",
      "metadata": {},
      "source": [
        "### 🎯 Key Takeaway"
      ]
    },
    {
      "cell_type": "markdown",
      "metadata": {},
      "source": [
        "Dictionaries are like smart filing cabinets - each piece of data has a unique label (key) for instant retrieval!"
      ]
    },
    {
      "cell_type": "markdown",
      "metadata": {},
      "source": [
        "💭 **Discussion:** Can you think of real-world examples where you'd use key-value relationships?",
        " (Hint: User profiles, product catalogs, configuration settings...)"
      ]
    }
  ],
  "metadata": {
    "kernelspec": {
      "display_name": "Python 3",
      "language": "python",
      "name": "python3"
    },
    "language_info": {
      "name": "python",
      "version": "3.8"
    }
  }
}