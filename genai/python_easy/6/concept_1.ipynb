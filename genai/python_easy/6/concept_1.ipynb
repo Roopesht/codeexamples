{
  "cells": [
    {
      "cell_type": "markdown",
      "metadata": {},
      "source": [
        "# Concept 1: Dictionary Basics - Creation & Key-Value Pairs"
      ]
    },
    {
      "cell_type": "markdown",
      "metadata": {},
      "source": [
        "## 🔑 What are Dictionaries?\n",
        "- 📋 Collections of key-value pairs\n",
        "- 🎯 Keys are unique identifiers\n",
        "- 📦 Values can be any data type\n",
        "- ⚡ Fast lookup and retrieval\n",
        "\n",
        "_Think of dictionaries as real-world dictionaries - words (keys) map to definitions (values)!_"
      ]
    },
    {
      "cell_type": "markdown",
      "metadata": {},
      "source": [
        "## 🖼️ Visual Representation\n",
        "*(Note: This is a placeholder for an image in the notebook)*"
      ]
    },
    {
      "cell_type": "markdown",
      "metadata": {},
      "source": [
        "## Creating Dictionaries"
      ]
    },
    {
      "cell_type": "code",
      "metadata": {},
      "source": [
        "# Empty dictionary\n",
        "student_grades = {}\n",
        "\n",
        "# Dictionary with initial data\n",
        "student_info = {\n",
        "    \"name\": \"Alice\",\n",
        "    \"age\": 20,\n",
        "    \"grade\": 95,\n",
        "    \"subjects\": [\"Math\", \"Physics\", \"Chemistry\"]\n",
        "}\n",
        "\n",
        "# Using dict() constructor\n",
        "course_info = dict(title=\"Python for AI\", duration=90, difficulty=\"Beginner\")\n",
        "\n",
        "print(student_info)\n",
        "print(course_info)"
      ],
      "execution_count": null,
      "outputs": []
    },
    {
      "cell_type": "markdown",
      "metadata": {},
      "source": [
        "## Output"
      ]
    },
    {
      "cell_type": "code",
      "metadata": {},
      "source": [
        "# Output from the previous code cell\n",
        "{'name': 'Alice', 'age': 20, 'grade': 95, 'subjects': ['Math', 'Physics', 'Chemistry']}\n",
        "{'title': 'Python for AI', 'duration': 90, 'difficulty': 'Beginner'}"
      ],
      "execution_count": null,
      "outputs": []
    },
    {
      "cell_type": "markdown",
      "metadata": {},
      "source": [
        "## 🎯 Key Points"
      ]
    },
    {
      "cell_type": "markdown",
      "metadata": {},
      "source": [
        "- ✅ Dictionaries store related data together\n",
        "- ✅ Keys must be unique and immutable\n",
        "- ✅ Values can be any data type\n",
        "- ✅ Perfect for structured data\n",
        "\n",
        "___\n",
        "💭 Think about it: What real-world data would you store in a dictionary?"
      ]
    }
  ],
  "metadata": {
    "kernelspec": {
      "display_name": "Python 3",
      "language": "python",
      "name": "python3"
    },
    "language_info": {
      "name": "python",
      "version": "3.x"
    }
  },
  "nbformat": 4,
  "nbformat_minor": 5
}