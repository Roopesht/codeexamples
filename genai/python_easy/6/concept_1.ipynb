{
  "cells": [
    {
      "cell_type": "markdown",
      "metadata": {},
      "source": [
        "# Dictionary Basics\n",
        "\n",
        "Welcome! In this notebook, we'll learn about dictionaries in Python - what they are, how to create them, and how to access data using keys."
      ]
    },
    {
      "cell_type": "markdown",
      "metadata": {},
      "source": [
        "## What Are Dictionaries?\n",
        "\n",
        "Dictionaries are a way to store data in key-value pairs. Think of a real dictionary where you look up a word (**key**) and find its definition (**value**)."
      ]
    },
    {
      "cell_type": "markdown",
      "metadata": {},
      "source": [
        "- 📚 Store data in key-value pairs (like a real dictionary: word → definition)\n",
        "- 🔍 Find values instantly using keys (no searching needed!)\n",
        "- 📋 Perfect for organizing related information\n",
        "- 🚀 Essential for JSON data, APIs, and AI model configurations"
      ]
    },
    {
      "cell_type": "markdown",
      "metadata": {},
      "source": [
        "## Visual Representation\n",
        "\n",
        "![Dictionary Image](images/dictionary_concept.png)\n",
        "\n",
        "*Think of dictionaries as smart containers where each item has a unique label!*"
      ]
    },
    {
      "cell_type": "markdown",
      "metadata": {},
      "source": [
        "## Creating Your First Dictionary\n",
        "\n",
        "Let's see how to create a dictionary in Python:"
      ]
    },
    {
      "cell_type": "code",
      "execution_count": null,
      "metadata": {},
      "outputs": [],
      "source": [
        "# Creating dictionaries - multiple ways\n",
        "student = { \n",
        "    \"name\": \"Alice\", \n",
        "    \"age\": 20,  \n",
        "    \"grade\": 85, \n",
        "    \"courses\": [\"Python\", \"AI\", \"Math\"]\n",
        "} \n",
        "\n",
        "# Empty dictionary \n",
        "empty_dict = {}\n",
        "another_way = dict()\n",
        "\n",
        "# Creating a dictionary from lists\n",
        "keys = [\"apple\", \"banana\", \"orange\"]\n",
        "values = [1.2, 0.8, 1.5]\n",
        "prices = dict(zip(keys, values))\n",
        "\n",
        "print(student[\"name\"])\n",
        "\n",
        "print(prices)"
      ]
    },
    {
      "cell_type": "markdown",
      "metadata": {},
      "source": [
        "## Output\n",
        "\n",
        "Alice\n",
        "{'apple': 1.2, 'banana': 0.8, 'orange': 1.5}"
      ]
    },
    {
      "cell_type": "markdown",
      "metadata": {},
      "source": [
        "✨ Notice how we get instant access to values using keys!"
      ]
    },
    {
      "cell_type": "markdown",
      "metadata": {},
      "source": [
        "## Key Takeaway\n",
        "\n",
        "Dictionaries are like smart filing cabinets - each piece of data has a unique label (key) for instant retrieval!"
      ]
    },
    {
      "cell_type": "markdown",
      "metadata": {},
      "source": [
        "### Discussion\n",
        "\n",
        "Can you think of real-world examples where you'd use key-value relationships?\n",
        "*(Hint: User profiles, product catalogs, configuration settings...)*"
      ]
    }
  ],
  "metadata": {
    "kernelspec": {
      "display_name": "Python 3",
      "language": "python",
      "name": "python3"
    },
    "language_info": {
      "name": "python",
      "version": "3.x"
    }
  },
  "nbformat": 4,
  "nbformat_minor": 5
}