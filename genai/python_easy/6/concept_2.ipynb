{
  "cells": [
    {
      "cell_type": "markdown",
      "metadata": {},
      "source": [
        "# Concept 2: Accessing and Modifying Dictionary Data"
      ]
    },
    {
      "cell_type": "markdown",
      "metadata": {},
      "source": [
        "🔧 Dictionary Data Operations"
      ]
    },
    {
      "cell_type": "markdown",
      "metadata": {},
      "source": [
        "- 🔍 Access values using square brackets or `.get()` method",
        "- ✏️ Modify existing values by reassigning",
        "- ➕ Add new key-value pairs easily",
        "- 🗑️ Remove items using `del`, `pop()`, or `popitem()`"
      ]
    },
    {
      "cell_type": "markdown",
      "metadata": {},
      "source": [
        "### 💻 Accessing & Modifying Data"
      ]
    },
    {
      "cell_type": "code",
      "execution_count": null,
      "metadata": {},
      "outputs": [],
      "source": [
        "# Our AI model configuration",
        "ai_config = {",
        "    \"model_name\": \"GPT-4\",",
        "    \"temperature\": 0.7,",
        "    \"max_tokens\": 1000,",
        "    \"language\": \"English\"",
        "}"
      ]
    },
    {
      "cell_type": "code",
      "execution_count": null,
      "metadata": {},
      "outputs": [],
      "source": [
        "# Accessing values",
        "print(ai_config[\"model_name\"])",
        "print(ai_config.get(\"temperature\"))",
        "print(ai_config.get(\"version\", \"Not specified\"))  # Default value"
      ]
    },
    {
      "cell_type": "code",
      "execution_count": null,
      "metadata": {},
      "outputs": [],
      "source": [
        "# Modifying existing values",
        "ai_config[\"temperature\"] = 0.9",
        "ai_config[\"max_tokens\"] = 1500"
      ]
    },
    {
      "cell_type": "code",
      "execution_count": null,
      "metadata": {},
      "outputs": [],
      "source": [
        "# Adding new key-value pairs",
        "ai_config[\"creativity_mode\"] = True",
        "ai_config[\"output_format\"] = \"JSON\""
      ]
    },
    {
      "cell_type": "code",
      "execution_count": null,
      "metadata": {},
      "outputs": [],
      "source": [
        "# Removing items",
        "ai_config.pop(\"language\")  # Returns the value",
        "del ai_config[\"creativity_mode\"]",
        "print(\"Updated config:\", ai_config)"
      ]
    },
    {
      "cell_type": "markdown",
      "metadata": {},
      "source": [
        "### 📤 Output"
      ]
    },
    {
      "cell_type": "code",
      "execution_count": null,
      "metadata": {},
      "outputs": [],
      "source": [
        "print(\"GPT-4\")",
        "print(0.7)",
        "print(\"Not specified\")",
        "print(\"Updated config:\", ai_config)"
      ]
    },
    {
      "cell_type": "markdown",
      "metadata": {},
      "source": [
        "✨ See how flexible dictionaries are for dynamic data management!"
      ]
    },
    {
      "cell_type": "markdown",
      "metadata": {},
      "source": [
        "### 🎯 Key Takeaway"
      ]
    },
    {
      "cell_type": "markdown",
      "metadata": {},
      "source": [
        "Dictionaries are mutable and flexible - perfect for configurations that change during program execution!"
      ]
    },
    {
      "cell_type": "markdown",
      "metadata": {},
      "source": [
        "💭 **Quick Check:** What's the advantage of using `.get()` over square brackets for accessing dictionary values?"
      ]
    }
  ],
  "metadata": {
    "kernelspec": {
      "name": "python3",
      "display_name": "Python 3",
      "language": "python"
    },
    "language_info": {
      "name": "python",
      "version": "3.x"
    }
  },
  "nbformat": 4,
  "nbformat_minor": 5
}