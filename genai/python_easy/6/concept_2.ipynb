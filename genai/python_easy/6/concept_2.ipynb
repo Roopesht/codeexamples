{
  "cells": [
    {
      "cell_type": "markdown",
      "metadata": {},
      "source": [
        "# Accessing and Modifying Dictionary Data\n",
        "\n",
        "In this notebook, we will learn how to access and modify data stored in Python dictionaries. "
      ]
    },
    {
      "cell_type": "markdown",
      "metadata": {},
      "source": [
        "## 🔧 Dictionary Data Operations\n",
        "\n",
        "- 🔍 Access values using square brackets or the `.get()` method\n",
        "- ✏️ Modify existing values by reassigning\n",
        "- ➕ Add new key-value pairs easily\n",
        "- 🗑️ Remove items using `del`, `pop()`, or `popitem()`"
      ]
    },
    {
      "cell_type": "markdown",
      "metadata": {},
      "source": [
        "## 💻 Accessing & Modifying Data\n",
        "\n",
        "We'll start with a sample dictionary representing an AI model configuration:"
      ]
    },
    {
      "cell_type": "code",
      "execution_count": null,
      "metadata": {},
      "outputs": [],
      "source": [
        "# Our AI model configuration\n",
        "ai_config = {\n",
        "    \"model_name\": \"GPT-4\",\n",
        "    \"temperature\": 0.7,\n",
        "    \"max_tokens\": 1000,\n",
        "    \"language\": \"English\"\n",
        "}\n"
      ]
    },
    {
      "cell_type": "markdown",
      "metadata": {},
      "source": [
        "### Accessing values from the dictionary"
      ]
    },
    {
      "cell_type": "code",
      "execution_count": null,
      "metadata": {},
      "outputs": [],
      "source": [
        "# Accessing values by key\n",
        "print(ai_config[\"model_name\"])\n",
        "\n",
        "# Using .get() method\n",
        "print(ai_config.get(\"temperature\"))\n",
        "\n",
        "# Using .get() with default value if key is missing\n",
        "print(ai_config.get(\"version\", \"Not specified\"))"
      ]
    },
    {
      "cell_type": "markdown",
      "metadata": {},
      "source": [
        "### Modifying existing values"
      ]
    },
    {
      "cell_type": "code",
      "execution_count": null,
      "metadata": {},
      "outputs": [],
      "source": [
        "# Change the temperature\n",
        "ai_config[\"temperature\"] = 0.9\n",
        "\n",
        "# Change max_tokens\n",
        "ai_config[\"max_tokens\"] = 1500"
      ]
    },
    {
      "cell_type": "markdown",
      "metadata": {},
      "source": [
        "### Adding new key-value pairs"
      ]
    },
    {
      "cell_type": "code",
      "execution_count": null,
      "metadata": {},
      "outputs": [],
      "source": [
        "# Add new entries\n",
        "ai_config[\"creativity_mode\"] = True\n",
        "ai_config[\"output_format\"] = \"JSON\""
      ]
    },
    {
      "cell_type": "markdown",
      "metadata": {},
      "source": [
        "### Removing items from the dictionary"
      ]
    },
    {
      "cell_type": "code",
      "execution_count": null,
      "metadata": {},
      "outputs": [],
      "source": [
        "# Remove 'language' using pop()\n",
        "removed_value = ai_config.pop(\"language\")\n",
        "print(\"Removed value:\", removed_value)\n",
        "\n",
        "# Remove 'creativity_mode' using del\n",
        "del ai_config[\"creativity_mode\"]"
      ]
    },
    {
      "cell_type": "markdown",
      "metadata": {},
      "source": [
        "### Show the updated dictionary"
      ]
    },
    {
      "cell_type": "code",
      "execution_count": null,
      "metadata": {},
      "outputs": [],
      "source": [
        "print(\"Updated config:\", ai_config)"
      ]
    },
    {
      "cell_type": "markdown",
      "metadata": {},
      "source": [
        "## 📤 Output\n",
        "\n",
        "Here is what the output will look like after running the code:"
      ]
    },
    {
      "cell_type": "code",
      "execution_count": null,
      "metadata": {},
      "outputs": [],
      "source": [
        "print(\"GPT-4\")\n",
        "print(0.7)\n",
        "print(\"Not specified\")\n",
        "print(\"Removed value:\", \"English\")\n",
        "print(\"Updated config:\", {'model_name': 'GPT-4', 'temperature': 0.9, 'max_tokens': 1500, 'output_format': 'JSON'})"
      ]
    },
    {
      "cell_type": "markdown",
      "metadata": {},
      "source": [
        "✨ See how flexible dictionaries are for dynamic data management!"
      ]
    },
    {
      "cell_type": "markdown",
      "metadata": {},
      "source": [
        "## 🎯 Key Takeaway\n",
        "\n",
        "Dictionaries are mutable and flexible - perfect for configurations that change during program execution!"
      ]
    },
    {
      "cell_type": "markdown",
      "metadata": {},
      "source": [
        "💭 **Quick Check:** What's the advantage of using `.get()` over square brackets for accessing dictionary values?"
      ]
    }
  ],
  "metadata": {
    "kernelspec": {
      "display_name": "Python 3",
      "language": "python",
      "name": "python3"
    },
    "language_info": {
      "name": "python",
      "version": "3.x"
    }
  },
  "nbformat": 4,
  "nbformat_minor": 5
}