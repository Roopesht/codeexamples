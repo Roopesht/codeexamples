{
  "cells": [
    {
      "cell_type": "markdown",
      "metadata": {},
      "source": [
        "# 🎯 Hands-on Task: Student Grade Manager System\n",
        "\n",
        "This notebook guides you through building a comprehensive student grade management system. "
      ]
    },
    {
      "cell_type": "markdown",
      "metadata": {},
      "source": [
        "## 🏫 Student Grade Manager\n",
        "\n",
        "Build a system to manage student data and performance, including storing student info, calculating averages, "
      ]
    },
    {
      "cell_type": "markdown",
      "metadata": {},
      "source": [
        "## 📋 Task Requirements\n",
        "- 👥 Store multiple students with names and subject grades\n",
        "- 📊 Calculate individual student averages\n",
        "- 🏆 Find the top-performing student\n",
        "- 📈 Generate class statistics and subject analysis\n",
        "- 🔍 Search and filter student data"
      ]
    },
    {
      "cell_type": "markdown",
      "metadata": {},
      "source": [
        "## 🔢 Implementation Steps\n",
        "1. **Create the data structure:** Dictionary with student names as keys\n",
        "2. **Add sample data:** At least 5 students with 3-4 subject grades\n",
        "3. **Calculate averages:** Function to compute each student's average\n",
        "4. **Find top performer:** Student with highest average grade\n",
        "5. **Class statistics:** Overall class average, subject-wise analysis\n",
        "6. **Search functionality:** Find students by grade range"
      ]
    },
    {
      "cell_type": "markdown",
      "metadata": {},
      "source": [
        "## 📝 Expected Input/Output"
      ]
    },
    {
      "cell_type": "code",
      "metadata": {},
      "source": [
        "# Sample Data Structure\n",
        "students = {\n",
        "    'Alice': {'Math': 85, 'Science': 92, 'English': 78, 'History': 88},\n",
        "    'Bob': {'Math': 78, 'Science': 85, 'English': 82, 'History': 79},\n",
        "    'Carol': {'Math': 95, 'Science': 89, 'English': 91, 'History': 87},\n",
        "    'David': {'Math': 88, 'Science': 90, 'English': 85, 'History': 92},\n",
        "    'Eva': {'Math': 76, 'Science': 80, 'English': 79, 'History': 75}\n",
        "}\n",
        "\n",
        "# Expected Output Examples\n",
        "def print_student_average(student_name, grades):\n",
        "    total = sum(grades.values())\n",
        "    count = len(grades)\n",
        "    average = total / count\n",
        "    print(f\"{student_name}'s average: {average:.2f}\")\n",
        "\n",
        "def find_top_performer(students):\n",
        "    top_student = None\n",
        "    top_avg = -1\n",
        "    for name, grades in students.items():\n",
        "        avg = sum(grades.values()) / len(grades)\n",
        "        if avg > top_avg:\n",
        "            top_avg = avg\n        \n",
        "            top_student = name\n",
        "    print(f\"Top performer: {top_student} ({top_avg:.2f})\")\n",
        "\n",
        "def get_class_average(students):\n",
        "    total = 0\n",
        "    count = 0\n",
        "    for grades in students.values():\n",
        "        total += sum(grades.values())\n",
        "        count += len(grades)\n",
        "    class_avg = total / count\n",
        "    print(f\"Class average: {class_avg:.2f}\")\n",
        "\n",
        "def students_above_grade(students, min_grade):\n",
        "    result = []\n",
        "    for name, grades in students.items():\n",
        "        avg = sum(grades.values()) / len(grades)\n",
        "        if avg >= min_grade:\n",
        "            result.append(name)\n",
        "    print(f\"Students above {min_grade}%: {result}\")\n"
      ],
      "execution_count": null,
      "outputs": []
    },
    {
      "cell_type": "markdown",
      "metadata": {},
      "source": [
        "## 🏗️ Code Structure Template"
      ]
    },
    {
      "cell_type": "code",
      "metadata": {},
      "source": [
        "def calculate_student_average(grades_dict):\n",
        "    \"\"\"Calculate average grade for a student\"\"\"\n",
        "    total = sum(grades_dict.values())\n",
        "    count = len(grades_dict)\n",
        "    return total / count\n",
        "\n",
        "def find_top_performer(students_dict):\n",
        "    \"\"\"Find student with highest average\"\"\"\n",
        "    top_student = None\n",
        "    top_avg = -1\n",
        "    for name, grades in students_dict.items():\n",
        "        avg = calculate_student_average(grades)\n",
        "        if avg > top_avg:\n",
        "            top_avg = avg\n",
        "            top_student = name\n",
        "    return top_student, top_avg\n",
        "\n",
        "def get_class_statistics(students_dict):\n",
        "    \"\"\"Calculate class-wide statistics\"\"\"\n",
        "    total_grades = 0\n",
        "    total_count = 0\n",
        "    subject_totals = {}\n",
        "    subject_counts = {}\n",
        "    for grades in students_dict.values():\n",
        "        for subject, grade in grades.items():\n",
        "            total_grades += grade\n",
        "            total_count += 1\n",
        "            if subject not in subject_totals:\n",
        "                subject_totals[subject] = 0\n",
        "                subject_counts[subject] = 0\n",
        "            subject_totals[subject] += grade\n",
        "            subject_counts[subject] += 1\n",
        "    class_avg = total_grades / total_count\n",
        "    subject_averages = {sub: subject_totals[sub]/subject_counts[sub] for sub in subject_totals}\n",
        "    return class_avg, subject_averages\n",
        "\n",
        "def find_students_by_grade_range(students_dict, min_grade):\n",
        "    \"\"\"Find students with average grade above min_grade\"\"\"\n",
        "    students_in_range = []\n",
        "    for name, grades in students_dict.items():\n",
        "        avg = calculate_student_average(grades)\n",
        "        if avg >= min_grade:\n",
        "            students_in_range.append(name)\n",
        "    return students_in_range\n"
      ],
      "execution_count": null,
      "outputs": []
    },
    {
      "cell_type": "markdown",
      "metadata": {},
      "source": [
        "## Main execution example"
      ]
    },
    {
      "cell_type": "code",
      "metadata": {},
      "source": [
        "students = {\n",
        "    'Alice': {'Math': 85, 'Science': 92, 'English': 78, 'History': 88},\n",
        "    'Bob': {'Math': 78, 'Science': 85, 'English': 82, 'History': 79},\n",
        "    'Carol': {'Math': 95, 'Science': 89, 'English': 91, 'History': 87},\n",
        "    'David': {'Math': 88, 'Science': 90, 'English': 85, 'History': 92},\n",
        "    'Eva': {'Math': 76, 'Science': 80, 'English': 79, 'History': 75}\n",
        "}\n",
        "\n",
        "# Calculate and print individual averages\n",
        "for name, grades in students.items():\n",
        "    print_student_average(name, grades)\n",
        "\n",
        "# Find and print top performer\n",
        "top_student, top_avg = find_top_performer(students)\n",
        "print(f\"Top performer: {top_student} ({top_avg:.2f})\")\n",
        "\n",
        "# Get and print class average\n",
        "get_class_average(students)\n",
        "\n",
        "# Find and print students above 85%\n",
        "students_above_grade(students, 85)\n"
      ],
      "execution_count": null,
      "outputs": []
    },
    {
      "cell_type": "markdown",
      "metadata": {},
      "source": [
        "## 🎉 Task Completion\n",
        "This task demonstrates real-world dictionary usage in education technology!\n",
        "\n",
        "✨ **Bonus challenges:**\n",
        "- Add grade letter calculation (A, B, C, D, F)\n",
        "- Implement data validation for new student entries\n",
        "- Create a simple menu system for user interaction"
      ]
    }
  ],
  "metadata": {
    "kernelspec": {
      "name": "python3",
      "display_name": "Python 3",
      "language": "python"
    },
    "language_info": {
      "name": "python",
      "version": "3.x"
    }
  },
  "nbformat": 4,
  "nbformat_minor": 5
}