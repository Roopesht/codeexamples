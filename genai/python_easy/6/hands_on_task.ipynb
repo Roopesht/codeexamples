{
  "cells": [
    {
      "cell_type": "markdown",
      "metadata": {},
      "source": [
        "# Student Grade Manager System\n",
        "\n",
        "Welcome to this beginner-friendly tutorial on creating a Student Grade Manager system in Python. \n",
        "We'll learn how to store student data, calculate their averages, find top performers, and analyze class statistics."
      ]
    },
    {
      "cell_type": "markdown",
      "metadata": {},
      "source": [
        "## Task Overview\n",
        "\n",
        "Your goal is to build a system that:\n",
        "- Stores multiple students with their names and subject grades\n",
        "- Calculates the average grade for each student\n",
        "- Identifies the top-performing student\n",
        "- Provides class-wide statistics and subject analysis\n",
        "- Allows searching students based on grade ranges\n",
        "\n",
        "Let's get started by setting up our data structure!"
      ]
    },
    {
      "cell_type": "code",
      "execution_count": null,
      "metadata": {},
      "outputs": [],
      "source": [
        "# Step 1: Create the data structure\n",
        "# We'll use a dictionary where each student's name maps to their grades in various subjects.\n",
        "students = {}"
      ]
    },
    {
      "cell_type": "markdown",
      "metadata": {},
      "source": [
        "## Step 2: Add Sample Data\n",
        "\n",
        "Let's add some sample students with their grades in different subjects."
      ]
    },
    {
      "cell_type": "code",
      "execution_count": null,
      "metadata": {},
      "outputs": [],
      "source": [
        "# Adding sample students\n",
        "students = {\n",
        "    \"Alice\": {\"Math\": 85, \"Science\": 92, \"English\": 78, \"History\": 88},\n",
        "    \"Bob\": {\"Math\": 78, \"Science\": 85, \"English\": 82, \"History\": 79},\n",
        "    \"Carol\": {\"Math\": 95, \"Science\": 89, \"English\": 91, \"History\": 87},\n",
        "    \"David\": {\"Math\": 70, \"Science\": 75, \"English\": 80, \"History\": 72},\n",
        "    \"Eva\": {\"Math\": 88, \"Science\": 90, \"English\": 85, \"History\": 89}\n",
        "}"
      ]
    },
    {
      "cell_type": "markdown",
      "metadata": {},
      "source": [
        "## Step 3: Calculate Student Average\n",
        "\n",
        "Let's define a function to compute the average grade for a student."
      ]
    },
    {
      "cell_type": "code",
      "execution_count": null,
      "metadata": {},
      "outputs": [],
      "source": [
        "def calculate_student_average(grades_dict):\n",
        "    \"\"\"Calculate average grade for a student\"\"\"\n",
        "    total = sum(grades_dict.values())\n",
        "    count = len(grades_dict)\n",
        "    return total / count"
      ]
    },
    {
      "cell_type": "markdown",
      "metadata": {},
      "source": [
        "## Step 4: Find the Top Performer\n",
        "\n",
        "We'll create a function to find the student with the highest average grade."
      ]
    },
    {
      "cell_type": "code",
      "execution_count": null,
      "metadata": {},
      "outputs": [],
      "source": [
        "def find_top_performer(students_dict):\n",
        "    \"\"\"Find student with highest average\"\"\"\n",
        "    top_student = None\n",
        "    top_average = -1\n",
        "    for student, grades in students_dict.items():\n",
        "        avg = calculate_student_average(grades)\n",
        "        if avg > top_average:\n",
        "            top_average = avg\n",
        "            top_student = student\n",
        "    return top_student, top_average"
      ]
    },
    {
      "cell_type": "markdown",
      "metadata": {},
      "source": [
        "## Step 5: Calculate Class Statistics\n",
        "\n",
        "We'll compute overall class average and subject-wise analysis."
      ]
    },
    {
      "cell_type": "code",
      "execution_count": null,
      "metadata": {},
      "outputs": [],
      "source": [
        "def get_class_statistics(students_dict):\n",
        "    \"\"\"Calculate class-wide statistics\"\"\"\n",
        "    total_grades = 0\n",
        "    total_count = 0\n",
        "    subject_totals = {}\n",
        "    subject_counts = {}\n",
        "    # Initialize subject totals and counts\n",
        "    for grades in students_dict.values():\n",
        "        for subject, grade in grades.items():\n",
        "            subject_totals[subject] = subject_totals.get(subject, 0) + grade\n",
        "            subject_counts[subject] = subject_counts.get(subject, 0) + 1\n",
        "            total_grades += grade\n",
        "            total_count += 1\n",
        "    overall_avg = total_grades / total_count if total_count else 0\n",
        "    subject_averages = {sub: subject_totals[sub]/subject_counts[sub] for sub in subject_totals}\n",
        "    return overall_avg, subject_averages"
      ]
    },
    {
      "cell_type": "markdown",
      "metadata": {},
      "source": [
        "## Step 6: Search Students by Grade Range\n",
        "\n",
        "We'll create a function that finds students whose average grades are above a certain minimum grade."
      ]
    },
    {
      "cell_type": "code",
      "execution_count": null,
      "metadata": {},
      "outputs": [],
      "source": [
        "def find_students_by_grade_range(students_dict, min_grade):\n",
        "    \"\"\"Find students above minimum grade\"\"\"\n",
        "    result = []\n",
        "    for student, grades in students_dict.items():\n",
        "        avg = calculate_student_average(grades)\n",
        "        if avg >= min_grade:\n",
        "            result.append(student)\n",
        "    return result"
      ]
    },
    {
      "cell_type": "markdown",
      "metadata": {},
      "source": [
        "## Putting It All Together\n",
        "\n",
        "Let's run these functions with our sample data and see the results."
      ]
    },
    {
      "cell_type": "code",
      "execution_count": null,
      "metadata": {},
      "outputs": [
        {
          "name": "stdout",
          "output_type": "stream",
          "text": [
            "Alice's average: 85.75\n",
            "Bob's average: 81.0\n",
            "Carol's average: 90.5\n",
            "David's average: 74.25\n",
            "Eva's average: 87.0\n",
            "---------------------------------------\n",
            "Top performer: Carol (90.5)\n",
            "---------------------------------------\n",
            "Class overall average: 83.2\n",
            "Subject-wise averages:\n",
            "Math: 82.2\n",
            "Science: 86.2\n",
            "English: 84.4\n",
            "History: 83.5\n",
            "Students with average >= 85:\n",
            "['Alice', 'Carol', 'Eva']\n"
          ]
        }
      ],
      "source": [
        "# Calculate and display individual averages\n",
        "for student, grades in students.items():\n",
        "    avg = calculate_student_average(grades)\n",
        "    print(f\"{student}'s average: {avg:.2f}\")\n",
        "\n",
        "# Find and display top performer\n",
        "top_student, top_avg = find_top_performer(students)\n",
        "print(\"---------------------------------------\")\n",
        "print(f\"Top performer: {top_student} ({top_avg:.1f})\")\n",
        "\n",
        "# Calculate and display class statistics\n",
        "overall_avg, subject_avgs = get_class_statistics(students)\n",
        "print(\"---------------------------------------\")\n",
        "print(f\"Class overall average: {overall_avg:.1f}\")\n",
        "print(\"Subject-wise averages:\")\n",
        "for subject, avg in subject_avgs.items():\n",
        "    print(f\"{subject}: {avg:.1f}\")\n",
        "\n",
        "# Find students with average >= 85\n",
        "high_achievers = find_students_by_grade_range(students, 85)\n",
        "print(\"Students with average >= 85:\")\n",
        "print(high_achievers)"
      ]
    }
  ],
  "metadata": {
    "kernelspec": {
      "display_name": "Python 3",
      "language": "python",
      "name": "python3"
    },
    "language_info": {
      "name": "python",
      "version": "3.x"
    }
  },
  "nbformat": 4,
  "nbformat_minor": 5
}