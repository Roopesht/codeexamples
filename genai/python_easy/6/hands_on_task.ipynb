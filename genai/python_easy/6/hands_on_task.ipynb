{
 "cells": [
  {
   "cell_type": "markdown",
   "metadata": {},
   "source": [
    "# 🎯 Hands-on Task: Student Grade Manager System\n",
    "\n",
    "Welcome to your Python dictionary challenge!\n",
    "\n",
    "We'll build a system to manage student data, calculate averages, identify top performers, and analyze class statistics. 🧮📊"
   ]
  },
  {
   "cell_type": "markdown",
   "metadata": {},
   "source": [
    "## 🏫 Step 1: Create the Student Dictionary\n",
    "Store multiple students and their grades."
   ]
  },
  {
   "cell_type": "code",
   "execution_count": null,
   "metadata": {},
   "outputs": [],
   "source": [
    "# Sample student data\n",
    "students = {\n",
    "    \"Alice\": {\"Math\": 85, \"Science\": 92, \"English\": 78, \"History\": 88},\n",
    "    \"Bob\": {\"Math\": 78, \"Science\": 85, \"English\": 82, \"History\": 79},\n",
    "    \"Carol\": {\"Math\": 95, \"Science\": 89, \"English\": 91, \"History\": 87},\n",
    "    \"David\": {\"Math\": 70, \"Science\": 75, \"English\": 68, \"History\": 72},\n",
    "    \"Eve\": {\"Math\": 88, \"Science\": 90, \"English\": 84, \"History\": 86}\n",
    "}"
   ]
  },
  {
   "cell_type": "markdown",
   "metadata": {},
   "source": [
    "## 📊 Step 2: Calculate Individual Student Averages"
   ]
  },
  {
   "cell_type": "code",
   "execution_count": null,
   "metadata": {},
   "outputs": [],
   "source": [
    "def calculate_student_average(grades_dict):\n",
    "    return sum(grades_dict.values()) / len(grades_dict)\n",
    "\n",
    "# Test with one student\n",
    "for student, grades in students.items():\n",
    "    avg = calculate_student_average(grades)\n",
    "    print(f\"{student}'s average: {avg:.2f}\")"
   ]
  },
  {
   "cell_type": "markdown",
   "metadata": {},
   "source": [
    "## 🏆 Step 3: Find the Top Performer"
   ]
  },
  {
   "cell_type": "code",
   "execution_count": null,
   "metadata": {},
   "outputs": [],
   "source": [
    "def find_top_performer(students_dict):\n",
    "    top_student = \"\"\n",
    "    top_average = 0\n",
    "    for student, grades in students_dict.items():\n",
    "        avg = calculate_student_average(grades)\n",
    "        if avg > top_average:\n",
    "            top_average = avg\n",
    "            top_student = student\n",
    "    return top_student, top_average\n",
    "\n",
    "# Run the function\n",
    "top_name, top_score = find_top_performer(students)\n",
    "print(f\"Top performer: {top_name} ({top_score:.2f})\")"
   ]
  },
  {
   "cell_type": "markdown",
   "metadata": {},
   "source": [
    "## 📈 Step 4: Get Class Statistics (Average, Subject Analysis)"
   ]
  },
  {
   "cell_type": "code",
   "execution_count": null,
   "metadata": {},
   "outputs": [],
   "source": [
    "def get_class_statistics(students_dict):\n",
    "    subject_totals = {}\n",
    "    student_count = len(students_dict)\n",
    "    total_avg = 0\n",
    "\n",
    "    for grades in students_dict.values():\n",
    "        for subject, score in grades.items():\n",
    "            subject_totals[subject] = subject_totals.get(subject, 0) + score\n",
    "    \n",
    "    for student in students_dict:\n",
    "        total_avg += calculate_student_average(students_dict[student])\n",
    "\n",
    "    class_avg = total_avg / student_count\n",
    "    subject_avgs = {sub: total/student_count for sub, total in subject_totals.items()}\n",
    "    return class_avg, subject_avgs\n",
    "\n",
    "# Run\n",
    "class_avg, subject_analysis = get_class_statistics(students)\n",
    "print(f\"Class average: {class_avg:.2f}\")\n",
    "print(\"Subject-wise averages:\")\n",
    "for subject, avg in subject_analysis.items():\n",
    "    print(f\"{subject}: {avg:.2f}\")"
   ]
  },
  {
   "cell_type": "markdown",
   "metadata": {},
   "source": [
    "## 🔍 Step 5: Find Students by Grade Range"
   ]
  },
  {
   "cell_type": "code",
   "execution_count": null,
   "metadata": {},
   "outputs": [],
   "source": [
    "def find_students_by_grade_range(students_dict, min_grade):\n",
    "    result = []\n",
    "    for student, grades in students_dict.items():\n",
    "        avg = calculate_student_average(grades)\n",
    "        if avg >= min_grade:\n",
    "            result.append(student)\n",
    "    return result\n",
    "\n",
    "# Run\n",
    "high_achievers = find_students_by_grade_range(students, 85)\n",
    "print(f\"Students with average >= 85: {high_achievers}\")"
   ]
  },
  {
   "cell_type": "markdown",
   "metadata": {},
   "source": [
    "## ✨ Bonus Challenges\n",
    "\n",
    "- 🔤 Add grade letter (A, B, C, etc.)\n",
    "- ✅ Validate new student entries\n",
    "- 📋 Build a menu system (optional for advanced students)"
   ]
  },
  {
   "cell_type": "markdown",
   "metadata": {},
   "source": [
    "## ✅ Task Completed!\n",
    "\n",
    "You've just built a mini school-grade manager using Python dictionaries. Great job! 🎉\n",
    "\n",
    "Keep experimenting to deepen your understanding. 💡"
   ]
  }
 ],
 "metadata": {
  "kernelspec": {
   "display_name": "Python 3",
   "language": "python",
   "name": "python3"
  },
  "language_info": {
   "name": "python",
   "version": ""
  }
 },
 "nbformat": 4,
 "nbformat_minor": 2
}
