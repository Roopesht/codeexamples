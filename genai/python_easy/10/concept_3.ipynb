{
  "cells": [
    {
      "cell_type": "markdown",
      "metadata": {},
      "source": [
        "# Concept 3: Specific Exception Handling - Precision Error Management"
      ]
    },
    {
      "cell_type": "markdown",
      "metadata": {},
      "source": [
        "## 🎯 Specific Exception Handling\n",
        "\n",
        "- 🔍 **Catch specific errors:** ValueError, ZeroDivisionError, FileNotFoundError\n",
        "- 📝 **Custom messages:** Different responses for different error types\n",
        "- 🔄 **Multiple except blocks:** Handle each error type appropriately\n",
        "- ⚡ More precise debugging and user communication"
      ]
    },
    {
      "cell_type": "markdown",
      "metadata": {},
      "source": [
        "![Diagram showing different exception types (ValueError, ZeroDivisionError, FileNotFoundError) flowing into specific except blocks with tailored responses. Size 800x450](images/specific_exceptions.png)"
      ]
    },
    {
      "cell_type": "markdown",
      "metadata": {},
      "source": [
        "## 🎯 Multiple Exception Handling"
      ]
    },
    {
      "cell_type": "code",
      "metadata": {},
      "source": [
        "def safe_calculator():\n",
        "    try:\n",
        "        num1 = float(input(\"Enter first number: \"))\n",
        "        num2 = float(input(\"Enter second number: \"))\n",
        "        operation = input(\"Enter operation (+, -, *, /): \")\n",
        "        \n",
        "        if operation == \"+\":\n",
        "            result = num1 + num2\n",
        "        elif operation == \"/\":\n",
        "            result = num1 / num2  # Might cause ZeroDivisionError\n",
        "        # ... other operations\n",
        "        \n",
        "        print(f\"Result: {result}\")\n",
        "        \n",
        "    except ValueError:\n",
        "        print(\"❌ Please enter valid numbers only!\")\n",
        "    except ZeroDivisionError:\n",
        "        print(\"❌ Cannot divide by zero!\")\n",
        "    except Exception as e:\n",
        "        print(f\"❌ An unexpected error occurred: {e}\")"
      ],
      "execution_count": null,
      "outputs": []
    },
    {
      "cell_type": "markdown",
      "metadata": {},
      "source": [
        "[🚀 Open in Colab](https://colab.research.google.com/github/Roopesht/codeexamples/blob/main/genai/python_easy/10/concept_3.ipynb)"
      ]
    },
    {
      "cell_type": "markdown",
      "metadata": {},
      "source": [
        "## 📊 Specific Error Responses"
      ]
    },
    {
      "cell_type": "code",
      "metadata": {},
      "source": [
        "# ValueError example:\n",
        "try:\n",
        "    num = float(input(\"Enter first number: \"))\n",
        "except ValueError:\n",
        "    print(\"❌ Please enter valid numbers only!\")\n",
        "\n",
        "# ZeroDivisionError example:\n",
        "try:\n",
        "    a = 10\n",
        "    b = 0\n",
        "    result = a / b\n",
        "except ZeroDivisionError:\n",
        "    print(\"❌ Cannot divide by zero!\")\n",
        "\n",
        "# Successful operation:\n",
        "try:\n",
        "    num1 = 10\n",
        "    num2 = 5\n",
        "    operation = \"+\"\n",
        "    if operation == \"+\":\n",
        "        result = num1 + num2\n",
        "        print(f\"Result: {result}\")\n",
        "except Exception as e:\n",
        "    print(f\"❌ An error occurred: {e}\")"
      ],
      "execution_count": null,
      "outputs": []
    },
    {
      "cell_type": "markdown",
      "metadata": {},
      "source": [
        "## 🎯 Benefits of Specific Exception Handling\n",
        "\n",
        "- 🎯 Precise error identification and response\n",
        "- 😊 User-friendly error messages\n",
        "- 🔧 Easier debugging and maintenance\n",
        "- ⚡ Better user experience\n",
        "\n",
        "💭 **Question:** Why is it better to catch specific exceptions rather than using a general except block?"
      ]
    }
  ],
  "metadata": {},
  "nbformat": 4,
  "nbformat_minor": 5
}