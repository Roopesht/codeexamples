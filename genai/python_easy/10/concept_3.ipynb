{
  "cells": [
    {
      "cell_type": "markdown",
      "metadata": {},
      "source": [
        "# Specific Exception Handling in Python\n",
        "\n",
        "Learn how to handle different errors specifically in Python to write clearer and more reliable programs."
      ]
    },
    {
      "cell_type": "markdown",
      "metadata": {},
      "source": [
        "## Why Be Specific?\n",
        "\n",
        "- 🔍 Different errors need different solutions\n",
        "- 📝 Provide meaningful error messages\n",
        "- 🛠️ Handle each case appropriately\n",
        "- 🐛 Makes debugging much easier"
      ]
    },
    {
      "cell_type": "markdown",
      "metadata": {},
      "source": [
        "## 📚 Common Python Exceptions\n",
        "\n",
        "- **ValueError:** Invalid value for operation\n",
        "- **ZeroDivisionError:** Division by zero\n",
        "- **IndexError:** List index out of range\n",
        "- **KeyError:** Dictionary key doesn't exist\n",
        "- **FileNotFoundError:** File doesn't exist\n",
        "- **TypeError:** Wrong data type used\n",
        "\n",
        "![Python Exceptions Chart](images/python_exceptions_chart.png)"
      ]
    },
    {
      "cell_type": "markdown",
      "metadata": {},
      "source": [
        "## 🔧 Multiple Except Blocks\n",
        "\n",
        "Let's see an example of handling different exceptions specifically:"
      ]
    },
    {
      "cell_type": "code",
      "execution_count": null,
      "metadata": {},
      "outputs": [],
      "source": [
        "def smart_calculator(a, b, operation):\n",
        "    try:\n",
        "        a = float(a)\n",
        "        b = float(b)\n",
        "        \n",
        "        if operation == '+':\n",
        "            return a + b\n",
        "        elif operation == '/':\n",
        "            return a / b\n",
        "        else:\n",
        "            raise ValueError(f\"Unknown operation: {operation}\")\n",
        "            \n",
        "    except ValueError as e:\n",
        "        return f\"Invalid input: {e}\"\n",
        "    except ZeroDivisionError:\n",
        "        return \"Cannot divide by zero!\"\n",
        "    except Exception as e:\n",
        "        return f\"Unexpected error: {e}\""
      ]
    },
    {
      "cell_type": "markdown",
      "metadata": {},
      "source": [
        "Test this function:\n",
        "\n",
        "[🚀 Try It in Colab](https://colab.research.google.com/github/Roopesht/codeexamples/blob/main/genai/python_easy/10/specific_exceptions.ipynb)"
      ]
    },
    {
      "cell_type": "markdown",
      "metadata": {},
      "source": [
        "## 🌳 Exception Hierarchy\n",
        "\n",
        "Here's how you can handle multiple specific exceptions:\n",
        "\n",
        "```python\n",
        "try:\n",
        "    # Some risky code\n",
        "    process_data()\n",
        "except FileNotFoundError:\n",
        "    print(\"File missing - creating default\")\n",
        "except PermissionError:\n",
        "    print(\"No permission to access file\")\n",
        "except ValueError:\n",
        "    print(\"Invalid data format\")\n",
        "except Exception as e:\n",
        "    print(f\"Unexpected error: {e}\")\n",
        "```\n",
        "\n",
        "💡 Always put the most specific exceptions first, and the general ones last!"
      ]
    },
    {
      "cell_type": "markdown",
      "metadata": {},
      "source": [
        "## 🎯 Key Takeaway\n",
        "\n",
        "- **Specific exception handling provides:**\n",
        "  - Clear, actionable error messages\n",
        "  - Appropriate response to each error type\n",
        "  - Better debugging and maintenance\n",
        "\n",
        "💭 Question: How would specific error handling improve user trust in AI applications?"
      ]
    }
  ],
  "metadata": {
    "kernelspec": {
      "name": "python3",
      "display_name": "Python 3",
      "language": "python"
    },
    "language_info": {
      "name": "python",
      "version": "3.x"
    }
  },
  "nbformat": 4,
  "nbformat_minor": 5
}