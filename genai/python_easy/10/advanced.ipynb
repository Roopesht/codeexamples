{
  "cells": [
    {
      "cell_type": "markdown",
      "metadata": {},
      "source": [
        "# Advanced Exception Handling in Python\n",
        "\n",
        "In this notebook, we will learn about advanced techniques for handling exceptions in Python, including finally blocks, custom exceptions, and the raise statement."
      ]
    },
    {
      "cell_type": "markdown",
      "metadata": {},
      "source": [
        "## 🚀 Advanced Exception Handling\n",
        "\n",
        "- **Finally block:** Code that always executes after try-except blocks, useful for cleanup.\n",
        "- **Else in try-except:** Runs only if no exception occurs.\n",
        "- **Custom exceptions:** Creating your own error types for better error management.\n",
        "- **Raise statement:** Manually triggers exceptions when needed."
      ]
    },
    {
      "cell_type": "markdown",
      "metadata": {},
      "source": [
        "## 🔚 Finally Block and Custom Exceptions\n",
        "\n",
        "Here's an example demonstrating how to create a custom exception and use try-except-finally blocks for age validation."
      ]
    },
    {
      "cell_type": "code",
      "execution_count": null,
      "metadata": {},
      "outputs": [],
      "source": [
        "# Custom exception\n",
        "class InvalidAgeError(Exception):\n",
        "    def __init__(self, age, message=\"Age must be between 0 and 120\"):\n",
        "        self.age = age\n",
        "        self.message = message\n",
        "        super().__init__(self.message)\n",
        "\n",
        "def validate_age(age):\n",
        "    try:\n",
        "        age = int(age)\n",
        "        \n",
        "        if age < 0 or age > 120:\n",
        "            raise InvalidAgeError(age)\n",
        "            \n",
        "        print(f\"✅ Valid age: {age}\")\n",
        "        \n",
        "    except ValueError:\n",
        "        print(\"❌ Please enter a valid number\")\n",
        "    except InvalidAgeError as e:\n",
        "        print(f\"❌ {e.message}. You entered: {e.age}\")\n",
        "    else:\n",
        "        print(\"🎉 Age validation successful!\")\n",
        "    finally:\n",
        "        print(\"🔚 Age validation process completed\")"
      ]
    },
    {
      "cell_type": "markdown",
      "metadata": {},
      "source": [
        "## Testing the function with different inputs:"
      ]
    },
    {
      "cell_type": "code",
      "execution_count": null,
      "metadata": {},
      "outputs": [],
      "source": [
        "# Valid input\n",
        "validate_age(\"25\")  # Valid\n",
        "\n",
        "# Invalid age\n",
        "validate_age(\"150\")  # Invalid age\n",
        "\n",
        "# Invalid input (not a number)\n",
        "validate_age(\"abc\")  # Invalid input"
      ]
    },
    {
      "cell_type": "markdown",
      "metadata": {},
      "source": [
        "## 📊 Expected Output:"
      ]
    },
    {
      "cell_type": "code",
      "execution_count": null,
      "metadata": {},
      "outputs": [],
      "source": [
        "# Valid input:\n",
        "print(\"✅ Valid age: 25\")\n",
        "print(\"🎉 Age validation successful!\")\n",
        "print(\"🔚 Age validation process completed\")\n",
        "\n",
        "# Invalid age:\n",
        "print(\"❌ Age must be between 0 and 120. You entered: 150\")\n",
        "print(\"🔚 Age validation process completed\")\n",
        "\n",
        "# Invalid input type:\n",
        "print(\"❌ Please enter a valid number\")\n",
        "print(\"🔚 Age validation process completed\")"
      ]
    },
    {
      "cell_type": "markdown",
      "metadata": {},
      "source": [
        "## 🎯 Benefits of Using Advanced Exception Handling\n",
        "\n",
        "- **🧹 Finally** ensures that cleanup actions (like closing files or releasing resources) always occur.\n",
        "- **🎯 Custom exceptions** provide more specific error information, making debugging easier.\n",
        "- **🏗️** Leads to more organized, maintainable, and robust code."
      ]
    }
  ],
  "metadata": {
    "kernelspec": {
      "name": "python3",
      "display_name": "Python 3",
      " language": "python"
    },
    "language_info": {
      "name": "python",
      "version": "3.x"
    }
  }
}