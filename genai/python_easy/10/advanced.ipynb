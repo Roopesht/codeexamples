{
  "cells": [
    {
      "cell_type": "markdown",
      "metadata": {},
      "source": [
        "# Advanced Exception Handling in Python"
      ]
    },
    {
      "cell_type": "markdown",
      "metadata": {},
      "source": [
        "In this notebook, we'll explore advanced topics related to exception handling in Python.\n",
        "We'll learn about `finally` and `else` blocks, which help us clean up and handle success scenarios, and how to create custom exceptions for clearer error management."
      ]
    },
    {
      "cell_type": "markdown",
      "metadata": {},
      "source": [
        "## 🔚 Finally and Else Blocks"
      ]
    },
    {
      "cell_type": "markdown",
      "metadata": {},
      "source": [
        "Let's look at an example of how `try`, `except`, `else`, and `finally` work together to handle file operations.\n",
        "The `finally` block always runs, making it perfect for cleanup tasks, like closing files."
      ]
    },
    {
      "cell_type": "code",
      "execution_count": null,
      "metadata": {},
      "outputs": [],
      "source": [
        "def get_default_config():\n",
        "    \"\"\"Return default AI model configuration.\"\"\"\n",
        "    # Define default configuration values\n",
        "    return \"{}\"\n",
        "\n",
        "def read_ai_model_config(filename):\n",
        "    file_handle = None\n",
        "    try:\n",
        "        file_handle = open(filename, 'r')\n",
        "        config = file_handle.read()\n",
        "        print(\"Config loaded successfully\")\n",
        "        return config\n",
        "    except FileNotFoundError:\n",
        "        print(\"Config file not found, using defaults\")\n",
        "        return get_default_config()\n",
        "    else:\n",
        "        print(\"File operation completed successfully\")\n",
        "    finally:\n",
        "        # This ALWAYS runs even if there's a return statement\n",
        "        if file_handle:\n",
        "            file_handle.close()\n",
        "        print(\"Cleanup completed\")\n"
      ]
    },
    {
      "cell_type": "markdown",
      "metadata": {},
      "source": [
        "## 🎯 Creating Custom Exceptions"
      ]
    },
    {
      "cell_type": "markdown",
      "metadata": {},
      "source": [
        "Custom exceptions are helpful for categorizing errors specific to our application. \n",
        "Let's define some custom exceptions related to handling AI models and prompts."
      ]
    },
    {
      "cell_type": "code",
      "execution_count": null,
      "metadata": {},
      "outputs": [],
      "source": [
        "class AIModelError(Exception):\n",
        "    \"\"\"Custom exception for AI model issues\"\"\"\n",
        "    pass\n",
        "\n",
        "class InvalidPromptError(AIModelError):\n",
        "    \"\"\"Raised when prompt is invalid\"\"\"\n",
        "    pass\n",
        "\n",
        "class ModelNotLoadedError(AIModelError):\n",
        "    \"\"\"Raised when model is not properly loaded\"\"\"\n",
        "    pass\n",
        "\n",
        "def process_prompt(prompt, model_loaded=True):\n",
        "    if not model_loaded:\n",
        "        raise ModelNotLoadedError(\"AI model must be loaded first\")\n",
        "    \n",
        "    if not prompt or len(prompt.strip()) == 0:\n",
        "        raise InvalidPromptError(\"Prompt cannot be empty\")\n",
        "    \n",
        "    return f\"Processing: {prompt}\""
      ]
    },
    {
      "cell_type": "markdown",
      "metadata": {},
      "source": [
        "## 🎯 Advanced Takeaway"
      ]
    },
    {
      "cell_type": "markdown",
      "metadata": {},
      "source": [
        "- Professional exception handling makes your code more maintainable.\n",
        "- It helps categorize errors clearly.\n",
        "- Essential for building robust production AI systems."
      ]
    }
  ],
  "metadata": {
    "kernelspec": {
      "display_name": "Python 3",
      "language": "python",
      "name": "python3"
    },
    "language_info": {
      "name": "python",
      "version": "3.x"
    }
  },
  "nbformat": 4,
  "nbformat_minor": 5
}