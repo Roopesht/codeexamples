{
  "cells": [
    {
      "cell_type": "markdown",
      "metadata": {},
      "source": [
        "# Debugging Strategies: A Beginner's Guide"
      ]
    },
    {
      "cell_type": "markdown",
      "metadata": {},
      "source": [
        "## 🔍 Concept 4: Debugging Strategies"
      ]
    },
    {
      "cell_type": "markdown",
      "metadata": {},
      "source": [
        "### Debugging Mindset"
      ]
    },
    {
      "cell_type": "markdown",
      "metadata": {},
      "source": [
        "- 🧠 Systematic problem-solving approach",
        "- 🔍 Understand what the code is actually doing",
        "- 📊 Use data to guide your investigation",
        "- 🎯 Focus on one issue at a time"
      ]
    },
    {
      "cell_type": "markdown",
      "metadata": {},
      "source": [
        "### 📝 Print Debugging"
      ]
    },
    {
      "cell_type": "markdown",
      "metadata": {},
      "source": [
        "**The most accessible debugging technique:**"
      ]
    },
    {
      "cell_type": "code",
      "execution_count": null,
      "metadata": {},
      "outputs": [],
      "source": [
        "def process_numbers(numbers):\n",
        "    print(f\"Input received: {numbers}\")  # Debug print\n",
        "    \n",
        "    total = 0\n",
        "    for i, num in enumerate(numbers):\n",
        "        print(f\"Processing item {i}: {num}\")  # Debug print\n",
        "        \n",
        "        try:\n",
        "            total += int(num)\n",
        "            print(f\"Current total: {total}\")  # Debug print\n",
        "        except ValueError:\n",
        "            print(f\"Skipping invalid number: {num}\")  # Debug print\n",
        "    \n",
        "    print(f\"Final total: {total}\")  # Debug print\n",
        "    return total"
      ]
    },
    {
      "cell_type": "markdown",
      "metadata": {},
      "source": [
        "### 🔧 Systematic Debugging Process"
      ]
    },
    {
      "cell_type": "markdown",
      "metadata": {},
      "source": [
        "1. **Reproduce:** Make the error happen consistently",
        "2. **Isolate:** Find the smallest code that causes it",
        "3. **Understand:** Read error messages carefully",
        "4. **Hypothesize:** Form a theory about the cause",
        "5. **Test:** Make changes and verify results",
        "6. **Document:** Note what you learned"
      ]
    },
    {
      "cell_type": "markdown",
      "metadata": {},
      "source": [
        "![Debugging Process Flowchart](images/debugging_process.png)"
      ]
    },
    {
      "cell_type": "markdown",
      "metadata": {},
      "source": [
        "### 🛠️ Debugging Tools & Techniques"
      ]
    },
    {
      "cell_type": "code",
      "execution_count": null,
      "metadata": {},
      "outputs": [],
      "source": [
        "# Example setup for demonstration\n",
        "variable_name = 'example_value'\n",
        "data = [1, 2, 3]\n",
        "def risky_function():\n",
        "    raise ValueError(\"An example error\")\n",
        "\n",
        "# 1. Print debugging with context\n",
        "print(f\"DEBUG: variable_name = {variable_name}\")\n",
        "\n",
        "# 2. Type checking\n",
        "print(f\"DEBUG: type of data = {type(data)}\")\n",
        "\n",
        "# 3. Assertion for assumptions\n",
        "assert len(data) > 0, \"Data should not be empty\"\n",
        "\n",
        "# 4. Exception info\n",
        "import traceback\n",
        "try:\n",
        "    risky_function()\n",
        "except Exception as e:\n",
        "    print(f\"Error: {e}\")\n",
        "    traceback.print_exc()  # Full error trace"
      ]
    },
    {
      "cell_type": "markdown",
      "metadata": {},
      "source": [
        "[🚀 Practice Debugging](https://colab.research.google.com/github/Roopesht/codeexamples/blob/main/genai/python_easy/10/debugging_techniques.ipynb)"
      ]
    },
    {
      "cell_type": "markdown",
      "metadata": {},
      "source": [
        "### 🎯 Key Takeaway"
      ]
    },
    {
      "cell_type": "markdown",
      "metadata": {},
      "source": [
        "- Good debugging skills:",
        "  - Save hours of frustration",
        "  - Build confidence in tackling problems",
        "  - Essential for building reliable AI systems"
      ]
    },
    {
      "cell_type": "markdown",
      "metadata": {},
      "source": [
        "💭 **Question:** How might debugging skills help when AI models give unexpected results?"
      ]
    }
  ],
  "metadata": {
    "kernelspec": {
      "name": "python3",
      "display_name": "Python 3",
      "language": "python"
    },
    "language_info": {
      "name": "python",
      "version": "3.x"
    }
  },
  "nbformat": 4,
  "nbformat_minor": 5
}