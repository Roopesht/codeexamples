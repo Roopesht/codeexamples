{
  "cells": [
    {
      "cell_type": "markdown",
      "metadata": {},
      "source": [
        "# Debugging Strategies\n",
        "\n",
        "Welcome to this beginner-friendly introduction to debugging! In this notebook, we'll learn simple strategies to find and fix issues in your Python code."
      ]
    },
    {
      "cell_type": "markdown",
      "metadata": {},
      "source": [
        "## 🐛 Debugging Strategies and Techniques\n",
        "\n",
        "- 🖨️ **Print Debugging:** Use print statements to see what your program is doing.\n",
        "- 📖 **Read Error Messages:** Understand traceback to identify where errors happen.\n",
        "- 🔍 **Rubber Duck Debugging:** Explain your code line by line to spot issues.\n",
        "- ⚡ **Divide and Conquer:** Isolate parts of code to find where the problem lies."
      ]
    },
    {
      "cell_type": "markdown",
      "metadata": {},
      "source": [
        "## 📸 Debugging Process\n",
        "\n",
        "![Debugging Process](images/debugging_process.png)\n",
        "\n",
        "*This image shows the step-by-step process: 1) Error occurs, 2) Read traceback, 3) Add print statements, 4) Isolate problem, 5) Fix code.*"
      ]
    },
    {
      "cell_type": "markdown",
      "metadata": {},
      "source": [
        "## 🖨️ Print Debugging Example\n",
        "\n",
        "Let's look at an example of how print statements can help us debug a function that calculates the average of a list of numbers, with some problematic data included."
      ]
    },
    {
      "cell_type": "code",
      "execution_count": null,
      "metadata": {},
      "outputs": [],
      "source": [
        "def find_average(numbers):\n",
        "    print(f\"🔍 Input received: {numbers}\")  # Debug print\n",
        "    \n",
        "    total = 0\n",
        "    count = 0\n",
        "    \n",
        "    for num in numbers:\n",
        "        print(f\"🔍 Processing number: {num}\")  # Debug print\n",
        "        if isinstance(num, (int, float)):\n",
        "            total += num\n",
        "            count += 1\n",
        "            print(f\"🔍 Running total: {total}, count: {count}\")  # Debug print\n",
        "    \n",
        "    if count == 0:\n",
        "        print(\"⚠️ No valid numbers found!\")  # Debug print\n",
        "        return 0\n",
        "    \n",
        "    average = total / count\n",
        "    print(f\"✅ Final average: {average}\")  # Debug print\n",
        "    return average\n",
        "\n",
        "# Test with problematic data\n",
        "test_data = [1, 2, \"three\", 4, None, 5]\n",
        "result = find_average(test_data)\n",
        "print(f\"Result: {result}\")"
      ]
    },
    {
      "cell_type": "markdown",
      "metadata": {},
      "source": [
        "## 📊 Debug Output Trace\n",
        "\n",
        "When running the code above, you would see output similar to this in the console:"
      ]
    },
    {
      "cell_type": "code",
      "execution_count": null,
      "metadata": {},
      "outputs": [],
      "source": [
        "print(\"🔍 Input received: [1, 2, 'three', 4, None, 5]\")\n",
        "print(\"🔍 Processing number: 1\")\n",
        "print(\"🔍 Running total: 1, count: 1\")\n",
        "print(\"🔍 Processing number: 2\")\n",
        "print(\"🔍 Running total: 3, count: 2\")\n",
        "print(\"🔍 Processing number: three\")\n",
        "print(\"🔍 Processing number: 4\")\n",
        "print(\"🔍 Running total: 7, count: 3\")\n",
        "print(\"🔍 Processing number: None\")\n",
        "print(\"🔍 Processing number: 5\")\n",
        "print(\"🔍 Running total: 12, count: 4\")\n",
        "print(\"✅ Final average: 3.0\")"
      ]
    },
    {
      "cell_type": "markdown",
      "metadata": {},
      "source": [
        "## 🎯 Effective Debugging Tips\n",
        "\n",
        "- 📖 Always read the full error message first to understand what went wrong.\n",
        "- 🖨️ Use print statements to trace the flow of your program.\n",
        "- 🔍 Test your functions with simple, known inputs before testing complex ones.\n",
        "- 📝 Comment out sections of your code to narrow down where the problem is.\n",
        "\n",
        "> \"Debugging is like being a detective in a crime movie where you're also the murderer.\" - Filipe Fortes"
      ]
    },
    {
      "cell_type": "markdown",
      "metadata": {},
      "source": [
        "## 💭 Question\n",
        "\n",
        "How would you debug a function that sometimes works and sometimes doesn't? Think about strategies like reading error messages, adding print statements, and isolating parts of the code."
      ]
    }
  ],
  "metadata": {
    "kernelspec": {
      "name": "python3",
      "display_name": "Python 3",
      "language": "python"
    },
    "language_info": {
      "name": "python",
      "version": "3.x"
    }
  },
  "nbformat": 4,
  "nbformat_minor": 5
}