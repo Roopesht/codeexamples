{
  "cells": [
    {
      "cell_type": "markdown",
      "metadata": {},
      "source": [
        "# Understanding Errors in Python\n",
        "\n",
        "Welcome to this beginner-friendly introduction to errors in Python. Understanding different types of errors is a key step towards writing robust programs."
      ]
    },
    {
      "cell_type": "markdown",
      "metadata": {},
      "source": [
        "## Types of Errors in Python\n",
        "\n",
        "Python programs can encounter several types of errors. Let's look at four main categories:"
      ]
    },
    {
      "cell_type": "markdown",
      "metadata": {},
      "source": [
        "- 🔤 **Syntax Errors:** These happen when the code does not follow Python's rules and are caught before the program even runs.\n",
        "- ⚡ **Runtime Errors:** These occur while the program is running due to issues like dividing by zero.\n",
        "- 🧠 **Logical Errors:** The program runs without crashing but produces wrong results because of mistakes in the logic.\n",
        "- 🎯 Understanding these helps you identify and fix problems more effectively."
      ]
    },
    {
      "cell_type": "markdown",
      "metadata": {},
      "source": [
        "## Visual Comparison of Error Types\n",
        "\n",
        "Below is an illustrative image showing examples of each error type:\n",
        "\n",
        "![Error Types Comparison](images/error_types_comparison.png)"
      ]
    },
    {
      "cell_type": "markdown",
      "metadata": {},
      "source": [
        "## Error Examples in Python\n",
        "\n",
        "Let's see some simple code examples for each type of error."
      ]
    },
    {
      "cell_type": "code",
      "execution_count": null,
      "metadata": {},
      "outputs": [],
      "source": [
        "# Syntax Error - Missing closing parenthesis\n",
        "print(\"Hello World\"  \n",
        "# This will cause a SyntaxError: unexpected EOF while parsing"
      ]
    },
    {
      "cell_type": "code",
      "execution_count": null,
      "metadata": {},
      "outputs": [],
      "source": [
        "# Runtime Error - Division by zero\n",
        "number = 10\n",
        "result = number / 0  \n",
        "# This will cause a ZeroDivisionError: division by zero"
      ]
    },
    {
      "cell_type": "code",
      "execution_count": null,
      "metadata": {},
      "outputs": [],
      "source": [
        "# Logical Error - Wrong calculation logic\n",
        "def calculate_area(length, width):\n",
        "    return length + width  # Should be length * width\n",
        "\n",
        "# Example call (not run, just explanation)"
      ]
    },
    {
      "cell_type": "markdown",
      "metadata": {},
      "source": [
        "## Error Output Examples\n",
        "\n",
        "Here are typical error messages you'll see in the terminal when errors occur:"
      ]
    },
    {
      "cell_type": "code",
      "execution_count": null,
      "metadata": {},
      "outputs": [],
      "source": [
        "# Syntax Error Output:\n",
        "#   File \"example.py\", line 2\n",
        "#     print(\"Hello World\"\n",
        "#                        ^\n",
        "# SyntaxError: unexpected EOF while parsing\n",
        "\n",
        "# Runtime Error Output:\n",
        "Traceback (most recent call last):\n",
        "  File \"example.py\", line 3, in <module>\n",
        "    result = number / 0\n",
        "ZeroDivisionError: division by zero"
      ]
    },
    {
      "cell_type": "markdown",
      "metadata": {},
      "source": [
        "## Key Takeaways\n",
        "\n",
        "- ✅ Syntax errors must be fixed before running the code.\n",
        "- 🛡️ Runtime errors can often be handled with try-except blocks.\n",
        "- 🧠 Logical errors require debugging and testing to correct.\n",
        "\n",
        "**Question:** What type of error occurs if you try to access an index outside the range of a list?"
      ]
    }
  ],
  "metadata": {
    "kernelspec": {
      "name": "python3",
      "display_name": "Python 3",
      "language": "python"
    },
    "language_info": {
      "name": "python",
      "version": "3.x"
    }
  },
  "nbformat": 4,
  "nbformat_minor": 5
}