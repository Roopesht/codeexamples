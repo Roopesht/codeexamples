{
  "cells": [
    {
      "cell_type": "markdown",
      "metadata": {},
      "source": [
        "# 🐛 Concept 1: Understanding Python Errors"
      ]
    },
    {
      "cell_type": "markdown",
      "metadata": {},
      "source": [
        "## Why Errors Happen"
      ]
    },
    {
      "cell_type": "markdown",
      "metadata": {},
      "source": [
        "- 🔍 Human mistakes in code logic",
        "- 📝 Typos and syntax issues",
        "- 💾 Unexpected data or user input",
        "- 🌐 External system failures"
      ]
    },
    {
      "cell_type": "markdown",
      "metadata": {},
      "source": [
        "## 📝 Syntax Errors"
      ]
    },
    {
      "cell_type": "markdown",
      "metadata": {},
      "source": [
        "### When:",
        "- Before code runs (compilation time)"
      ]
    },
    {
      "cell_type": "markdown",
      "metadata": {},
      "source": [
        "### Cause:",
        "- Invalid Python syntax"
      ]
    },
    {
      "cell_type": "markdown",
      "metadata": {},
      "source": [
        "### Detection:",
        "- Python interpreter catches them"
      ]
    },
    {
      "cell_type": "markdown",
      "metadata": {},
      "source": [
        "### Fix:",
        "- Correct the syntax"
      ]
    },
    {
      "cell_type": "markdown",
      "metadata": {},
      "source": [
        "![Syntax Error Example](images/syntax_error_example.png)"
      ]
    },
    {
      "cell_type": "markdown",
      "metadata": {},
      "source": [
        "## ⚡ Runtime Errors"
      ]
    },
    {
      "cell_type": "markdown",
      "metadata": {},
      "source": [
        "### When:",
        "- During code execution"
      ]
    },
    {
      "cell_type": "markdown",
      "metadata": {},
      "source": [
        "### Cause:",
        "- Valid syntax, but logical issues"
      ]
    },
    {
      "cell_type": "markdown",
      "metadata": {},
      "source": [
        "### Detection:",
        "- Code runs but crashes"
      ]
    },
    {
      "cell_type": "markdown",
      "metadata": {},
      "source": [
        "### Fix:",
        "- Handle with exception handling"
      ]
    },
    {
      "cell_type": "markdown",
      "metadata": {},
      "source": [
        "![Runtime Error Example](images/runtime_error_example.png)"
      ]
    },
    {
      "cell_type": "markdown",
      "metadata": {},
      "source": [
        "## 🔍 Common Error Examples"
      ]
    },
    {
      "cell_type": "code",
      "execution_count": null,
      "metadata": {},
      "outputs": [],
      "source": [
        "# Syntax Error\n",
        "print(\"Hello World\"  # Missing closing parenthesis\n",
        "\n",
        "# Runtime Errors\n",
        "result = 10 / 0  # ZeroDivisionError\n",
        "numbers = [1, 2, 3]\n",
        "print(numbers[5])  # IndexError\n",
        "\n",
        "name = \"Python\"\n",
        "print(nam)  # NameError\n",
        "\n",
        "user_input = input(\"Enter a number: \")\n",
        "number = int(user_input)  # ValueError if not a number"
      ]
    },
    {
      "cell_type": "markdown",
      "metadata": {},
      "source": [
        "[🚀 Try These Examples](https://colab.research.google.com/github/Roopesht/codeexamples/blob/main/genai/python_easy/10/error_types.ipynb)"
      ]
    },
    {
      "cell_type": "markdown",
      "metadata": {},
      "source": [
        "## 🎯 Key Takeaway"
      ]
    },
    {
      "cell_type": "markdown",
      "metadata": {},
      "source": [
        "**Understanding error types helps us choose the right solution:**"
      ]
    },
    {
      "cell_type": "markdown",
      "metadata": {},
      "source": [
        "- Syntax errors → Fix the code structure",
        "- Runtime errors → Use exception handling"
      ]
    },
    {
      "cell_type": "markdown",
      "metadata": {},
      "source": [
        "💭 Question: How do you think AI models handle unexpected inputs?"
      ]
    }
  ],
  "metadata": {
    "kernelspec": {
      "name": "python3",
      "display_name": "Python 3",
      "language": "python"
    },
    "language_info": {
      "name": "python",
      "version": "3.x"
    }
  },
  "nbformat": 4,
  "nbformat_minor": 5
}