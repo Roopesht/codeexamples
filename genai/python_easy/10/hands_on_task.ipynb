{
  "cells": [
    {
      "cell_type": "markdown",
      "metadata": {},
      "source": [
        "# Robust Calculator\n",
        " \n",
        "This notebook guides you through creating a robust, error-proof calculator in Python.\n",
        "We'll learn how to handle invalid inputs, prevent crashes, and improve user experience step-by-step.\n"
      ]
    },
    {
      "cell_type": "markdown",
      "metadata": {},
      "source": [
        "## Introduction\n",
        " \n",
        "A calculator should handle unexpected inputs gracefully so the user doesn't get frustrated or the program crashes.\n",
        "In this notebook, we'll build such a calculator with error handling and user-friendly messages.\n"
      ]
    },
    {
      "cell_type": "markdown",
      "metadata": {},
      "source": [
        "## Step 1: Input Validation Functions\n",
        " \n",
        "Let's start by creating functions to safely get numbers and the operation choice from the user.\n"
      ]
    },
    {
      "cell_type": "code",
      "execution_count": null,
      "metadata": {},
      "outputs": [],
      "source": [
        "import logging\n",
        " \n",
        "# Set up basic logging configuration for debugging\n",
        "logging.basicConfig(level=logging.DEBUG, format='%(levelname)s: %(message)s')\n",
        " \n",
        "def get_number(prompt):\n",
        "    \"\"\"Prompt user for a number and validate the input.\"\"\"\n",
        "    while True:\n",
        "        user_input = input(prompt)\n",
        "        try:\n",
        "            number = float(user_input)\n",
        "            return number\n",
        "        except ValueError:\n",
        "            print(f\"ERROR: '{user_input}' is not a valid number. Please try again.\")\n",
        "            logging.debug(f\"Invalid number input: {user_input}\")\n"
      ]
    },
    {
      "cell_type": "code",
      "execution_count": null,
      "metadata": {},
      "outputs": [],
      "source": [
        "def get_operation():\n",
        "    \"\"\"Prompt user to choose an operation and validate it.\"\"\"\n",
        "    valid_operations = ['+', '-', '*', '/']\n",
        "    while True:\n",
        "        op = input(\"Enter operation (+, -, *, /): \")\n",
        "        if op in valid_operations:\n",
        "            return op\n",
        "        else:\n",
        "            print(f\"ERROR: '{op}' is not a supported operation.\")\n",
        "            logging.debug(f\"Invalid operation input: {op}\")\n"
      ]
    },
    {
      "cell_type": "markdown",
      "metadata": {},
      "source": [
        "## Step 2: Define Calculation Function with Error Handling\n",
        " \n",
        "We'll write a function to perform calculations, adding checks for division by zero.\n"
      ]
    },
    {
      "cell_type": "code",
      "execution_count": null,
      "metadata": {},
      "outputs": [],
      "source": [
        "def calculate(num1, num2, op):\n",
        "    \"\"\"Perform calculation based on the operation, with error handling.\"\"\"\n",
        "    try:\n",
        "        if op == '+':\n",
        "            return num1 + num2\n",
        "        elif op == '-':\n",
        "            return num1 - num2\n",
        "        elif op == '*':\n",
        "            return num1 * num2\n",
        "        elif op == '/':\n",
        "            if num2 == 0:\n",
        "                print(\"ERROR: Cannot divide by zero!\")\n",
        "                logging.warning(\"Attempted division by zero\")\n",
        "                return None\n",
        "            return num1 / num2\n",
        "    except Exception as e:\n",
        "        print(f\"ERROR: An error occurred during calculation: {e}\")\n",
        "        logging.error(f\"Calculation error: {e}\")\n",
        "        return None\n"
      ]
    },
    {
      "cell_type": "markdown",
      "metadata": {},
      "source": [
        "## Step 3: Main Loop with Graceful Error Handling\n",
        " \n",
        "Now, we'll write the main program loop that keeps running until the user chooses to quit. It will handle errors and allow retries.\n"
      ]
    },
    {
      "cell_type": "code",
      "execution_count": null,
      "metadata": {},
      "outputs": [],
      "source": [
        "def main():\n",
        "    print(\"Welcome to the Robust Calculator!\")\n",
        "    while True:\n",
        "        try:\n",
        "            num1 = get_number('Enter first number: ')\n",
        "            num2 = get_number('Enter second number: ')\n",
        "            op = get_operation()\n",
        "            result = calculate(num1, num2, op)\n",
        "            if result is not None:\n",
        "                print(f\"Result: {num1} {op} {num2} = {result}\")\n",
        "        except Exception as e:\n",
        "            print(f\"An unexpected error occurred: {e}\")\n",
        "            logging.exception(\"Unexpected error in main loop\")\n",
        "        # Ask user if they want to perform another calculation\n",
        "        cont = input(\"Would you like to perform another calculation? (y/n): \").lower()\n",
        "        if cont != 'y':\n",
        "            print(\"Thank you for using the Robust Calculator. Goodbye!\")\n",
        "            break\n"
      ]
    },
    {
      "cell_type": "markdown",
      "metadata": {},
      "source": [
        "## Try It Out!\n",
        " \n",
        "Run the `main()` function below to start using your error-proof calculator.\n"
      ]
    },
    {
      "cell_type": "code",
      "execution_count": null,
      "metadata": {},
      "outputs": [],
      "source": [
        "if __name__ == \"__main__\":\n",
        "    main()\n"
      ]
    }
  ],
  "metadata": {
    "kernelspec": {
      "display_name": "Python 3",
      "language": "python",
      "name": "python3"
    },
    "language_info": {
      "name": "python",
      "version": "3.x"
    }
  },
  "nbformat": 4,
  "nbformat_minor": 5
}