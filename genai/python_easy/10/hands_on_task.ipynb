{
  "cells": [
    {
      "cell_type": "markdown",
      "metadata": {},
      "source": [
        "# Robust Calculator\n",
        "\n",
        "This notebook guides you through building a robust calculator that can handle various input errors gracefully, run continuously until you decide to quit, and provide friendly messages. Let's learn how to make a calculator that is reliable and user-friendly!"
      ]
    },
    {
      "cell_type": "markdown",
      "metadata": {},
      "source": [
        "## Step 1: Creating Input Validation Functions\n",
        "\n",
        "We'll start by defining functions to safely get numbers and operations from the user, handling possible invalid inputs."
      ]
    },
    {
      "cell_type": "code",
      "execution_count": null,
      "outputs": [],
      "metadata": {},
      "source": [
        "def get_number(prompt):\n",
        "    while True:\n",
        "        try:\n",
        "            value = input(prompt)\n",
        "            number = float(value)\n",
        "            return number\n",
        "        except ValueError:\n",
        "            print(\"❌ Please enter a valid number\")"
      ]
    },
    {
      "cell_type": "markdown",
      "metadata": {},
      "source": [
        "Now, let's define a function to get a valid operation from the user."
      ]
    },
    {
      "cell_type": "code",
      "execution_count": null,
      "outputs": [],
      "metadata": {},
      "source": [
        "def get_operation():\n",
        "    valid_operations = ['+', '-', '*', '/']\n",
        "    while True:\n",
        "        op = input(\"Enter operation (+, -, *, /): \")\n",
        "        if op in valid_operations:\n",
        "            return op\n",
        "        else:\n",
        "            print(\"❌ Invalid operation. Use +, -, *, /\")"
      ]
    },
    {
      "cell_type": "markdown",
      "metadata": {},
      "source": [
        "## Step 2: Performing Calculations with Error Handling\n",
        "\n",
        "We will create a function to perform calculations and handle specific exceptions like division by zero."
      ]
    },
    {
      "cell_type": "code",
      "execution_count": null,
      "outputs": [],
      "metadata": {},
      "source": [
        "def calculate(num1, num2, operation):\n",
        "    try:\n",
        "        if operation == '+':\n",
        "            return num1 + num2\n",
        "        elif operation == '-':\n",
        "            return num1 - num2\n",
        "        elif operation == '*':\n",
        "            return num1 * num2\n",
        "        elif operation == '/':\n",
        "            return num1 / num2\n",
        "    except ZeroDivisionError:\n",
        "        print(\"❌ Division by zero is not allowed\")\n",
        "        return None\n"
      ]
    },
    {
      "cell_type": "markdown",
      "metadata": {},
      "source": [
        "## Step 3: Main Loop for Continuous Operation\n",
        "\n",
        "Let's create the main program loop that keeps the calculator running until the user chooses to quit."
      ]
    },
    {
      "cell_type": "code",
      "execution_count": null,
      "outputs": [],
      "metadata": {},
      "source": [
        "def main():\n",
        "    print(\"🧮 Robust Calculator\")\n",
        "    while True:\n",
        "        num1 = get_number(\"Enter first number: \")\n",
        "        num2 = get_number(\"Enter second number: \")\n",
        "        operation = get_operation()\n",
        "        result = calculate(num1, num2, operation)\n",
        "        if result is not None:\n",
        "            print(f\"✅ Result: {num1} {operation} {num2} = {result}\")\n",
        "        continue_choice = input(\"Continue? (y/n): \").lower()\n",
        "        if continue_choice != 'y':\n",
        "            print(\"👋 Thanks for using Robust Calculator!\")\n",
        "            break"
      ]
    },
    {
      "cell_type": "markdown",
      "metadata": {},
      "source": [
        "## Putting It All Together\n",
        "\n",
        "Now, let's run the main function to start our robust calculator."
      ]
    },
    {
      "cell_type": "code",
      "execution_count": null,
      "outputs": [],
      "metadata": {},
      "source": [
        "if __name__ == \"__main__\":\n",
        "    main()"
      ]
    }
  ],
  "metadata": {
    "kernelspec": {
      "display_name": "Python 3",
      "language": "python",
      "name": "python3"
    },
    "language_info": {
      "name": "python",
      "version": "3.x"
    }
  }
}