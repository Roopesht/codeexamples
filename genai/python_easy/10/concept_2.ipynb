{
  "cells": [
    {
      "cell_type": "markdown",
      "metadata": {},
      "source": [
        "# Understanding Try-Except Blocks in Python"
      ]
    },
    {
      "cell_type": "markdown",
      "metadata": {},
      "source": [
        "In this notebook, we will learn about try-except blocks, which are used to handle errors gracefully in Python programs. These blocks help prevent your programs from crashing unexpectedly and allow you to display friendly messages to users when errors occur."
      ]
    },
    {
      "cell_type": "markdown",
      "metadata": {},
      "source": [
        "## 🛡️ Basic Try-Except Structure"
      ]
    },
    {
      "cell_type": "code",
      "execution_count": null,
      "metadata": {},
      "outputs": [],
      "source": [
        "# Basic try-except example\n",
        "try:\n",
        "    # Code that might cause an error\n",
        "    age = int(input(\"Enter your age: \"))\n",
        "    next_year_age = age + 1\n",
        "    print(f\"Next year you'll be {next_year_age}\")\n",
        "    \n",
        "except:\n",
        "    # Code that runs if any error occurs\n",
        "    print(\"Oops! Something went wrong. Please enter a valid number.\")\n",
        "\n",
        "# Program continues running instead of crashing\n",
        "print(\"Program continues...\")"
      ]
    },
    {
      "cell_type": "markdown",
      "metadata": {},
      "source": [
        "## 📊 Try-Except in Action"
      ]
    },
    {
      "cell_type": "markdown",
      "metadata": {},
      "source": [
        "Here are examples of how the try-except block works with valid and invalid inputs:"
      ]
    },
    {
      "cell_type": "code",
      "execution_count": null,
      "metadata": {},
      "outputs": [],
      "source": [
        "# Valid input:\n",
        "## Enter your age: 25\n",
        "## Next year you'll be 26\n",
        "## Program continues...\n",
        "\n",
        "# Invalid input:\n",
        "## Enter your age: twenty-five\n",
        "## Oops! Something went wrong. Please enter a valid number.\n",
        "## Program continues..."
      ]
    },
    {
      "cell_type": "markdown",
      "metadata": {},
      "source": [
        "## 🎯 Why Try-Except Matters"
      ]
    },
    {
      "cell_type": "markdown",
      "metadata": {},
      "source": [
        "- 🛡️ Prevents crashes from unexpected user input\n",
        "- 😊 Provides friendly error messages to users\n",
        "- 🔄 Allows programs to continue running"
      ]
    },
    {
      "cell_type": "markdown",
      "metadata": {},
      "source": [
        "> **\"A program that handles errors gracefully is a program users can trust.\"**"
      ]
    },
    {
      "cell_type": "markdown",
      "metadata": {},
      "source": [
        "### 💭 Question\n",
        "What would happen without try-except if a user enters text instead of a number?"
      ]
    }
  ],
  "metadata": {
    "kernelspec": {
      "display_name": "Python 3",
      "language": "python",
      "name": "python3"
    },
    "language_info": {
      "codemirror_mode": {
        "name": "ipython",
        "version": 3
      },
      "file_extension": ".py",
      "mimetype": "text/x-python",
      "name": "python",
      "nbconvert_exporter": "python",
      "pygments_lexer": "python3",
      "version": "3.8"
    }
  },
  "nbformat": 4,
  "nbformat_minor": 5
}