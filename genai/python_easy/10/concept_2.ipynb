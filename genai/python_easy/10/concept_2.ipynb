{
  "cells": [
    {
      "cell_type": "markdown",
      "metadata": {},
      "source": [
        "# 🛡️ Concept 2: Try-Except Blocks"
      ]
    },
    {
      "cell_type": "markdown",
      "metadata": {},
      "source": [
        "## Exception Handling Basics"
      ]
    },
    {
      "cell_type": "markdown",
      "metadata": {},
      "source": [
        "- 🎯 Catch and handle errors gracefully",
        "- 🔄 Keep program running despite errors",
        "- 📝 Provide user-friendly error messages",
        "- 🧠 Essential for robust AI applications"
      ]
    },
    {
      "cell_type": "markdown",
      "metadata": {},
      "source": [
        "## 📋 Basic Try-Except Syntax"
      ]
    },
    {
      "cell_type": "code",
      "execution_count": null,
      "metadata": {},
      "outputs": [],
      "source": [
        "try:\n",
        "    # Code that might cause an error\n",
        "    risky_operation()\n",
        "except:\n",
        "    # Code to handle any error\n",
        "    handle_error()"
      ]
    },
    {
      "cell_type": "markdown",
      "metadata": {},
      "source": [
        "**Flow:**"
      ]
    },
    {
      "cell_type": "markdown",
      "metadata": {},
      "source": [
        "1. Execute code in `try` block",
        "2. If error occurs, jump to `except` block",
        "3. Continue with rest of program"
      ]
    },
    {
      "cell_type": "markdown",
      "metadata": {},
      "source": [
        "## 🔢 Practical Example"
      ]
    },
    {
      "cell_type": "code",
      "execution_count": null,
      "metadata": {},
      "outputs": [],
      "source": [
        "def safe_divide(a, b):\n",
        "    try:\n",
        "        result = a / b\n",
        "        print(f\"Result: {result}\")\n",
        "        return result\n",
        "    except Exception:\n",
        "        print(\"Error: Something went wrong!\")\n",
        "        return None\n",
        "\n",
        "# Test the function\n",
        "safe_divide(10, 2)    # Works fine: Result: 5.0\n",
        "safe_divide(10, 0)    # Handles error gracefully\n",
        "safe_divide(10, \"x\")  # Also handles this error"
      ]
    },
    {
      "cell_type": "markdown",
      "metadata": {},
      "source": [
        "🚀 [Try This Code in Colab](https://colab.research.google.com/github/Roopesht/codeexamples/blob/main/genai/python_easy/10/try_except_basic.ipynb)"
      ]
    },
    {
      "cell_type": "markdown",
      "metadata": {},
      "source": [
        "## 🤖 GenAI Application Example"
      ]
    },
    {
      "cell_type": "code",
      "execution_count": null,
      "metadata": {},
      "outputs": [],
      "source": [
        "def process_user_prompt(prompt):\n",
        "    try:\n",
        "        # Simulating AI model processing\n",
        "        if len(prompt) == 0:\n",
        "            raise ValueError(\"Empty prompt\")\n",
        "        \n",
        "        response = f\"AI Response: {prompt.upper()}\"\n",
        "        return response\n",
        "    except Exception:\n",
        "        return \"Sorry, I couldn't process your request. Please try again.\"\n",
        "\n",
        "# Usage\n",
        "user_input = input(\"Ask me anything: \")\n",
        "result = process_user_prompt(user_input)\n",
        "print(result)"
      ]
    },
    {
      "cell_type": "markdown",
      "metadata": {},
      "source": [
        "## 🎯 Key Takeaway"
      ]
    },
    {
      "cell_type": "markdown",
      "metadata": {},
      "source": [
        "- Try-except blocks make your code:",
        "  - More robust and user-friendly",
        "  - Capable of handling unexpected situations",
        "  - Professional and reliable"
      ]
    },
    {
      "cell_type": "markdown",
      "metadata": {},
      "source": [
        "💭 **Question:** What happens to user experience when apps crash vs handle errors gracefully?"
      ]
    }
  ],
  "metadata": {
    "kernelspec": {
      "display_name": "Python 3",
      "language": "python",
      "name": "python3"
    },
    "language_info": {
      "name": "python",
      "version": "3.x"
    }
  },
  "nbformat": 4,
  "nbformat_minor": 5
}