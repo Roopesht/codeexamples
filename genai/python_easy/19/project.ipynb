{
  "cells": [
    {
      "cell_type": "markdown",
      "metadata": {},
      "source": [
        "# Stock Prediction for 5% Gain Opportunity\n",
        "\n",
        "This notebook demonstrates how to build a machine learning model to identify the right time to purchase stocks with the goal of achieving at least a 5% return."
      ]
    },
    {
      "cell_type": "markdown",
      "metadata": {},
      "source": [
        "## Step 1: Import Required Libraries\n",
        "\n",
        "First, we import all necessary Python libraries for data processing, technical analysis, and machine learning."
      ]
    },
    {
      "cell_type": "code",
      "execution_count": null,
      "metadata": {},
      "outputs": [],
      "source": [
        "# Import required libraries\n",
        "import yfinance as yf\n",
        "import numpy as np\n",
        "import pandas as pd\n",
        "from sklearn.linear_model import LinearRegression, Ridge\n",
        "from sklearn.svm import SVR\n",
        "from sklearn.metrics import mean_squared_error\n",
        "from sklearn.model_selection import GridSearchCV\n",
        "import matplotlib.pyplot as plt\n",
        "\n",
        "# Set display options for better readability\n",
        "pd.set_option('display.max_columns', None)\n",
        "pd.set_option('display.width', 1000)"
      ]
    },
    {
      "cell_type": "markdown",
      "metadata": {},
      "source": [
        "## Step 2: Define Technical Indicator Functions\n",
        "\n",
        "These functions calculate various technical indicators that will serve as features for our machine learning models."
      ]
    },
    {
      "cell_type": "code",
      "execution_count": null,
      "metadata": {},
      "outputs": [],
      "source": [
        "def add_sma(df, window=20):\n",
        "    \"\"\"Add Simple Moving Average (SMA) to DataFrame.\"\"\"\n",
        "    df[f'SMA_{window}'] = df['Close'].rolling(window=window).mean()\n",
        "    return df\n",
        "\n",
        "def add_macd(df, span_short=12, span_long=26, span_signal=9):\n",
        "    \"\"\"Add MACD and Signal Line to DataFrame.\"\"\"\n",
        "    ema_short = df['Close'].ewm(span=span_short, adjust=False).mean()\n",
        "    ema_long = df['Close'].ewm(span=span_long, adjust=False).mean()\n",
        "    df['MACD'] = ema_short - ema_long\n",
        "    df['Signal_Line'] = df['MACD'].ewm(span=span_signal, adjust=False).mean()\n",
        "    return df\n",
        "\n",
        "def add_rsi(df, window=14):\n",
        "    \"\"\"Add Relative Strength Index (RSI) to DataFrame.\"\"\"\n",
        "    delta = df['Close'].diff()\n",
        "    gain = delta.clip(lower=0)   # positive changes\n",
        "    loss = -delta.clip(upper=0)  # negative changes as positive\n",
        "    \n",
        "    avg_gain = gain.rolling(window=window).mean()\n",
        "    avg_loss = loss.rolling(window=window).mean()\n",
        "    \n",
        "    rs = avg_gain / avg_loss\n",
        "    df[f'RSI_{window}'] = 100 - (100 / (1 + rs))\n",
        "    return df\n",
        "\n",
        "def add_bollinger_bands(df, window=20, num_std=2):\n",
        "    \"\"\"Add Bollinger Bands to DataFrame.\"\"\"\n",
        "    mid = df['Close'].rolling(window=window).mean()\n",
        "    std = df['Close'].rolling(window=window).std()\n",
        "    df[f'BB_Middle'] = mid\n",
        "    df[f'BB_Upper'] = mid + num_std * std\n",
        "    df[f'BB_Lower'] = mid - num_std * std\n",
        "    return df\n",
        "\n",
        "def add_stochastic_oscillator(df, window=14, smooth_window=3):\n",
        "    \"\"\"Add Stochastic Oscillator (%K and %D) to DataFrame.\"\"\"\n",
        "    low_min = df['Low'].rolling(window=window).min()\n",
        "    high_max = df['High'].rolling(window=window).max()\n",
        "    df['%K'] = 100 * (df['Close'] - low_min) / (high_max - low_min)\n",
        "    df['%D'] = df['%K'].rolling(window=smooth_window).mean()\n",
        "    return df\n",
        "\n",
        "def add_label_highest_perc(df, window=20):\n",
        "    \"\"\"\n",
        "    Add a label column representing the highest percentage increase\n",
        "    between current Close and max Close over the next `window` days.\n",
        "    \"\"\"\n",
        "    # Calculate future max price over the next window days\n",
        "    future_max = df['Close'].rolling(window=window, min_periods=1).apply(\n",
        "        lambda x: x.max(), raw=True\n",
        "    ).shift(-window)\n",
        "    \n",
        "    # Calculate percentage increase\n",
        "    df['label'] = (future_max - df['Close']) / df['Close'] * 100\n",
        "    \n",
        "    return df"
      ]
    },
    {
      "cell_type": "markdown",
      "metadata": {},
      "source": [
        "## Step 3: Download and Prepare Stock Data\n",
        "\n",
        "We'll download Apple stock data and add technical indicators to create our feature set."
      ]
    },
    {
      "cell_type": "code",
      "execution_count": null,
      "metadata": {},
      "outputs": [],
      "source": [
        "# Download Apple stock data\n",
        "print(\"Downloading stock data...\")\n",
        "data = yf.download('AAPL', start='2023-01-01', end='2024-01-01')\n",
        "print(f\"Downloaded {len(data)} records\")\n",
        "\n",
        "# Display basic information about the data\n",
        "print(\"\\nData overview:\")\n",
        "print(f\"Date range: {data.index.min().date()} to {data.index.max().date()}\")\n",
        "print(f\"Columns: {list(data.columns)}\")\n",
        "data.head()"
      ]
    },
    {
      "cell_type": "markdown",
      "metadata": {},
      "source": [
        "## Step 4: Add Technical Indicators and Target Labels\n",
        "\n",
        "We'll calculate various technical indicators and create our target variable (maximum gain in next 20 days)."
      ]
    },
    {
      "cell_type": "code",
      "execution_count": null,
      "metadata": {},
      "outputs": [],
      "source": [
        "# Add technical indicators\n",
        "print(\"Adding technical indicators...\")\n",
        "add_sma(data)\n",
        "add_macd(data)\n",
        "add_rsi(data)\n",
        "add_bollinger_bands(data)\n",
        "add_stochastic_oscillator(data)\n",
        "\n",
        "# Add target labels\n",
        "print(\"Adding target labels...\")\n",
        "add_label_highest_perc(data)\n",
        "\n",
        "# Clean up data\n",
        "initial_count = len(data)\n",
        "data.dropna(inplace=True)\n",
        "print(f\"Removed {initial_count - len(data)} rows with missing values\")\n",
        "\n",
        "# Display the data with all indicators\n",
        "print(\"\\nData with technical indicators and target label:\")\n",
        "data.tail()"
      ]
    },
    {
      "cell_type": "markdown",
      "metadata": {},
      "source": [
        "## Step 5: Prepare Features and Split Data\n",
        "\n",
        "We separate our features from the target variable and split the data into training and testing sets."
      ]
    },
    {
      "cell_type": "code",
      "execution_count": null,
      "metadata": {},
      "outputs": [],
      "source": [
        "# Prepare features and labels\n",
        "features = data.drop(columns=['label'])\n",
        "labels = data['label']\n",
        "\n",
        "# Split into train and test sets\n",
        "split_row_no = int(len(data) * 0.8)\n",
        "x_train = features.iloc[:split_row_no]\n",
        "x_test = features.iloc[split_row_no:]\n",
        "y_train = labels.iloc[:split_row_no]\n",
        "y_test = labels.iloc[split_row_no:]\n",
        "\n",
        "print(f\"Train data size: {len(x_train)}, Test data size: {len(x_test)}\")\n",
        "print(f\"Features: {list(features.columns)}\")"
      ]
    },
    {
      "cell_type": "markdown",
      "metadata": {},
      "source": [
        "## Step 6: Train Machine Learning Models\n",
        "\n",
        "We'll train three different regression models to predict the maximum potential gain."
      ]
    },
    {
      "cell_type": "code",
      "execution_count": null,
      "metadata": {},
      "outputs": [],
      "source": [
        "# Train models\n",
        "print(\"Training models...\")\n",
        "\n",
        "# Linear Regression\n",
        "lr = LinearRegression()\n",
        "lr.fit(x_train, y_train)\n",
        "\n",
        "# Support Vector Regression\n",
        "svr = SVR()\n",
        "svr.fit(x_train, y_train)\n",
        "\n",
        "# Ridge Regression with hyperparameter tuning\n",
        "ridge = Ridge()\n",
        "parameters = {'alpha': [0.01, 0.1, 1, 10, 100]}\n",
        "ridge_regressor = GridSearchCV(ridge, parameters, scoring='neg_mean_squared_error', cv=5)\n",
        "ridge_regressor.fit(x_train, y_train)\n",
        "best_alpha = ridge_regressor.best_params_['alpha']\n",
        "print(f\"Best alpha for Ridge Regression: {best_alpha}\")\n",
        "\n",
        "# Train Ridge with best parameters\n",
        "ridge = Ridge(alpha=best_alpha)\n",
        "ridge.fit(x_train, y_train)\n",
        "\n",
        "print(\"All models trained successfully!\")"
      ]
    },
    {
      "cell_type": "markdown",
      "metadata": {},
      "source": [
        "## Step 7: Evaluate Model Performance\n",
        "\n",
        "We'll compare the performance of our models using Mean Squared Error and visualize the predictions."
      ]
    },
    {
      "cell_type": "code",
      "execution_count": null,
      "metadata": {},
      "outputs": [],
      "source": [
        "# Make predictions\n",
        "print(\"Making predictions...\")\n",
        "lr_pred = lr.predict(x_test)\n",
        "svr_pred = svr.predict(x_test)\n",
        "ridge_pred = ridge.predict(x_test)\n",
        "\n",
        "# Create comparison DataFrame\n",
        "results_df = pd.DataFrame({\n",
        "    \"Actual\": y_test.values, \n",
        "    \"LR_Prediction\": lr_pred, \n",
        "    \"SVR_Prediction\": svr_pred,\n",
        "    \"Ridge_Prediction\": ridge_pred\n",
        "}, index=y_test.index)\n",
        "\n",
        "print(\"Sample predictions:\")\n",
        "results_df.head(10)"
      ]
    },
    {
      "cell_type": "code",
      "execution_count": null,
      "metadata": {},
      "outputs": [],
      "source": [
        "# Evaluate performance\n",
        "lr_mse = mean_squared_error(y_test, lr_pred)\n",
        "svr_mse = mean_squared_error(y_test, svr_pred)\n",
        "ridge_mse = mean_squared_error(y_test, ridge_pred)\n",
        "\n",
        "print(f\"\\nModel Performance Comparison:\")\n",
        "print(f\"Linear Regression MSE: {lr_mse:.4f}\")\n",
        "print(f\"SVR MSE: {svr_mse:.4f}\")\n",
        "print(f\"Ridge Regression MSE: {ridge_mse:.4f}\")\n",
        "\n",
        "# Visualize predictions vs actual\n",
        "plt.figure(figsize=(12, 6))\n",
        "plt.plot(results_df.index, results_df['Actual'], label='Actual', linewidth=2)\n",
        "plt.plot(results_df.index, results_df['LR_Prediction'], label='Linear Regression', alpha=0.7)\n",
        "plt.plot(results_df.index, results_df['SVR_Prediction'], label='SVR', alpha=0.7)\n",
        "plt.plot(results_df.index, results_df['Ridge_Prediction'], label='Ridge Regression', alpha=0.7)\n",
        "plt.axhline(y=5, color='r', linestyle='--', label='5% Gain Threshold')\n",
        "plt.title('Predicted vs Actual Maximum Gain in Next 20 Days')\n",
        "plt.xlabel('Date')\n",
        "plt.ylabel('Percentage Gain')\n",
        "plt.legend()\n",
        "plt.grid(True)\n",
        "plt.xticks(rotation=45)\n",
        "plt.tight_layout()\n",
        "plt.show()"
      ]
    },
    {
      "cell_type": "markdown",
      "metadata": {},
      "source": [
        "## Step 8: Generate Buy Signals\n",
        "\n",
        "Finally, we'll use our models to generate buy signals when they predict at least a 5% gain."
      ]
    },
    {
      "cell_type": "code",
      "execution_count": null,
      "metadata": {},
      "outputs": [],
      "source": [
        "# Make predictions for the most recent data\n",
        "print(\"Generating buy signals for recent data...\")\n",
        "recent_data = x_test.tail(10)\n",
        "\n",
        "lr_predictions = lr.predict(recent_data)\n",
        "svr_predictions = svr.predict(recent_data)\n",
        "ridge_predictions = ridge.predict(recent_data)\n",
        "\n",
        "# Create buy signal DataFrame\n",
        "buy_signals = pd.DataFrame({\n",
        "    'Date': recent_data.index,\n",
        "    'LR_Prediction': lr_predictions,\n",
        "    'SVR_Prediction': svr_predictions,\n",
        "    'Ridge_Prediction': ridge_predictions\n",
        "})\n",
        "\n",
        "# Add buy signals (1 if prediction >= 5, else 0)\n",
        "buy_signals['LR_Buy_Signal'] = (buy_signals['LR_Prediction'] >= 5).astype(int)\n",
        "buy_signals['SVR_Buy_Signal'] = (buy_signals['SVR_Prediction'] >= 5).astype(int)\n",
        "buy_signals['Ridge_Buy_Signal'] = (buy_signals['Ridge_Prediction'] >= 5).astype(int)\n",
        "buy_signals['Consensus_Buy_Signal'] = (buy_signals['LR_Buy_Signal'] + \n",
        "                                       buy_signals['SVR_Buy_Signal'] + \n",
        "                                       buy_signals['Ridge_Buy_Signal'] >= 2).astype(int)\n",
        "\n",
        "print(\"Recent buy signals:\")\n",
        "buy_signals"
      ]
    },
    {
      "cell_type": "markdown",
      "metadata": {},
      "source": [
        "## Step 9: Interpret Results and Next Steps\n",
        "\n",
        "Based on our analysis, we can identify potential buying opportunities when models predict at least a 5% gain."
      ]
    },
    {
      "cell_type": "code",
      "execution_count": null,
      "metadata": {},
      "outputs": [],
      "source": [
        "# Summary of buy signals\n",
        "print(\"Buy Signal Summary:\")\n",
        "print(f\"Total periods analyzed: {len(buy_signals)}\")\n",
        "print(f\"Linear Regression buy signals: {buy_signals['LR_Buy_Signal'].sum()}\")\n",
        "print(f\"SVR buy signals: {buy_signals['SVR_Buy_Signal'].sum()}\")\n",
        "print(f\"Ridge Regression buy signals: {buy_signals['Ridge_Buy_Signal'].sum()}\")\n",
        "print(f\"Consensus buy signals (at least 2 models agree): {buy_signals['Consensus_Buy_Signal'].sum()}\")\n",
        "\n",
        "# Display consensus buy opportunities\n",
        "consensus_buys = buy_signals[buy_signals['Consensus_Buy_Signal'] == 1]\n",
        "if len(consensus_buys) > 0:\n",
        "    print(\"\\nStrong buy opportunities (consensus among models):\")\n",
        "    for _, row in consensus_buys.iterrows():\n",
        "        print(f\"Date: {row['Date'].date()}, \"\n",
        "              f\"LR: {row['LR_Prediction']:.2f}%, \"\n",
        "              f\"SVR: {row['SVR_Prediction']:.2f}%, \"\n",
        "              f\"Ridge: {row['Ridge_Prediction']:.2f}%\")\n",
        "else:\n",
        "    print(\"\\nNo strong buy opportunities identified in the recent data.\")"
      ]
    },
    {
      "cell_type": "markdown",
      "metadata": {},
      "source": [
        "### 💭 Think About It:\n",
        "\n",
        "- How could we improve the accuracy of our predictions?\n",
        "- What other features or technical indicators might be useful?\n",
        "- How would you validate these predictions with real trading results?"
      ]
    }
  ],
  "metadata": {
    "kernelspec": {
      "display_name": "Python 3",
      "language": "python",
      "name": "python3"
    },
    "language_info": {
      "codemirror_mode": {
        "name": "ipython",
        "version": 3
      },
      "file_extension": ".py",
      "mimetype": "text/x-python",
      "name": "python",
      "nbconvert_exporter": "python",
      "pygments_lexer": "ipython3",
      "version": "3.8"
    }
  },
  "nbformat": 4,
  "nbformat_minor": 5
}
