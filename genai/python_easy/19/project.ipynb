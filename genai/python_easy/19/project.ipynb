{
 "cells": [
  {
   "cell_type": "code",
   "execution_count": 116,
   "metadata": {
    "executionInfo": {
     "elapsed": 3,
     "status": "ok",
     "timestamp": 1756882566870,
     "user": {
      "displayName": "Roopesh Kumar Tayaloor Prasad",
      "userId": "03034416575728162665"
     },
     "user_tz": -330
    },
    "id": "HX8jctrpDyPT"
   },
   "outputs": [],
   "source": [
    "# I want to check when is the right time to purchase stock\n",
    "# So that I will make at least 5%"
   ]
  },
  {
   "cell_type": "code",
   "execution_count": 117,
   "metadata": {
    "executionInfo": {
     "elapsed": 12,
     "status": "ok",
     "timestamp": 1756882566885,
     "user": {
      "displayName": "Roopesh Kumar Tayaloor Prasad",
      "userId": "03034416575728162665"
     },
     "user_tz": -330
    },
    "id": "Ok4Z3RKE6afy"
   },
   "outputs": [],
   "source": [
    "# step 1 - Imports\n",
    "import yfinance as yf\n",
    "import numpy as np\n",
    "import pandas as pd"
   ]
  },
  {
   "cell_type": "code",
   "execution_count": 141,
   "metadata": {
    "executionInfo": {
     "elapsed": 43,
     "status": "ok",
     "timestamp": 1756882932543,
     "user": {
      "displayName": "Roopesh Kumar Tayaloor Prasad",
      "userId": "03034416575728162665"
     },
     "user_tz": -330
    },
    "id": "kJBIJWVr7owe"
   },
   "outputs": [],
   "source": [
    "# Common code\n",
    "# Validate your understanding here. https://www.tradingview.com/chart/z2TJzaW5/?symbol=NSEIX%3ANIFTY1%21\n",
    "def add_sma(df, window=20):\n",
    "    \"\"\"Add Simple Moving Average (SMA) to DataFrame.\"\"\"\n",
    "    df[f'SMA_{window}'] = df['Close'].rolling(window=window).mean()\n",
    "    return df\n",
    "\n",
    "def add_macd(df, span_short=12, span_long=26, span_signal=9):\n",
    "    \"\"\"Add MACD and Signal Line to DataFrame.\"\"\"\n",
    "    ema_short = df['Close'].ewm(span=span_short, adjust=False).mean()\n",
    "    ema_long = df['Close'].ewm(span=span_long, adjust=False).mean()\n",
    "    df['MACD'] = ema_short - ema_long\n",
    "    df['Signal_Line'] = df['MACD'].ewm(span=span_signal, adjust=False).mean()\n",
    "    return df\n",
    "\n",
    "def add_rsi(df, window=14):\n",
    "    \"\"\"Add Relative Strength Index (RSI) to DataFrame.\"\"\"\n",
    "    delta = df['Close'].diff()\n",
    "\n",
    "    gain = delta.clip(lower=0)   # positive changes\n",
    "    loss = -delta.clip(upper=0)  # negative changes as positive\n",
    "\n",
    "    avg_gain = gain.rolling(window=window).mean()\n",
    "    avg_loss = loss.rolling(window=window).mean()\n",
    "\n",
    "    rs = avg_gain / avg_loss\n",
    "    df[f'RSI_{window}'] = 100 - (100 / (1 + rs))\n",
    "\n",
    "    return df\n",
    "\n",
    "def add_bollinger_bands(df, window=20, num_std=2):\n",
    "    \"\"\"Add Bollinger Bands to DataFrame.\"\"\"\n",
    "    mid = df['Close'].rolling(window=window).mean()\n",
    "    std = df['Close'].rolling(window=window).std()\n",
    "    df[f'BB_Middle'] = mid\n",
    "    df[f'BB_Upper'] = mid + num_std * std\n",
    "    df[f'BB_Lower'] = mid - num_std * std\n",
    "    return df\n",
    "\n",
    "def add_stochastic_oscillator(df, window=14, smooth_window=3):\n",
    "    \"\"\"Add Stochastic Oscillator (%K and %D) to DataFrame.\"\"\"\n",
    "    low_min = df['Low'].rolling(window=window).min()\n",
    "    high_max = df['High'].rolling(window=window).max()\n",
    "    df['%K'] = 100 * (df['Close'] - low_min) / (high_max - low_min)\n",
    "    df['%D'] = df['%K'].rolling(window=smooth_window).mean()\n",
    "    return df\n",
    "def add_label_highest_perc(df, window=20):\n",
    "    \"\"\"\n",
    "    Add a label column representing the highest percentage increase\n",
    "    between current Close and max Close over the next `window` days.\n",
    "    \"\"\"\n",
    "    close_series = df['Close'].squeeze()\n",
    "    # Compute the maximum Close over the next 'window' days\n",
    "    df['future_max'] = close_series.shift(-1).rolling(window=window, min_periods=1).max()\n",
    "\n",
    "    # Calculate the percentage difference as label\n",
    "    #df['label'] = ((df['future_max'] - df['Close']) / df['Close'])\n",
    "    df['label'] = (df['future_max'] - close_series) / close_series * 100\n",
    "\n",
    "    # Optionally drop the helper column\n",
    "    #df.drop(columns=['future_max'], inplace=True)\n",
    "    #df['label'] = 1\n",
    "\n",
    "    return df"
   ]
  },
  {
   "cell_type": "code",
   "execution_count": 142,
   "metadata": {
    "executionInfo": {
     "elapsed": 5,
     "status": "ok",
     "timestamp": 1756882933407,
     "user": {
      "displayName": "Roopesh Kumar Tayaloor Prasad",
      "userId": "03034416575728162665"
     },
     "user_tz": -330
    },
    "id": "vGRA5vdu7Fzs"
   },
   "outputs": [],
   "source": [
    "# Finalize which model we are using\n",
    "# Linear Regression, Random Forest, SVM, ARIMA,\n"
   ]
  },
  {
   "cell_type": "code",
   "execution_count": null,
   "metadata": {
    "colab": {
     "base_uri": "https://localhost:8080/",
     "height": 335
    },
    "collapsed": true,
    "executionInfo": {
     "elapsed": 209,
     "status": "ok",
     "timestamp": 1756883665225,
     "user": {
      "displayName": "Roopesh Kumar Tayaloor Prasad",
      "userId": "03034416575728162665"
     },
     "user_tz": -330
    },
    "id": "EmrHYb1f6sUa",
    "outputId": "517020b2-46c8-4c21-91dc-b4f2c7f20dac"
   },
   "outputs": [],
   "source": [
    "# step 2 - Get the data\n",
    "data = yf.download('AAPL', start='2023-01-01', end='2026-01-01')\n",
    "data.to_csv('aapl.csv')\n",
    "data.head()\n"
   ]
  },
  {
   "cell_type": "code",
   "execution_count": 160,
   "metadata": {
    "executionInfo": {
     "elapsed": 6,
     "status": "ok",
     "timestamp": 1756883665598,
     "user": {
      "displayName": "Roopesh Kumar Tayaloor Prasad",
      "userId": "03034416575728162665"
     },
     "user_tz": -330
    },
    "id": "-PJbjM1y6tZ7"
   },
   "outputs": [],
   "source": [
    "# Data clean up\n",
    "data.dropna(inplace=True)"
   ]
  },
  {
   "cell_type": "code",
   "execution_count": null,
   "metadata": {
    "colab": {
     "base_uri": "https://localhost:8080/",
     "height": 122
    },
    "collapsed": true,
    "executionInfo": {
     "elapsed": 23,
     "status": "ok",
     "timestamp": 1756883666215,
     "user": {
      "displayName": "Roopesh Kumar Tayaloor Prasad",
      "userId": "03034416575728162665"
     },
     "user_tz": -330
    },
    "id": "r4nyouCv76c6",
    "outputId": "24c3a5c1-7b15-4ff4-e0c2-52a8ab0e2773"
   },
   "outputs": [],
   "source": [
    "# Add features\n",
    "# 1. Moving Average\n",
    "add_sma(data)\n",
    "\n",
    "# 2. MACD\n",
    "add_macd(data)\n",
    "\n",
    "# 3. RSI\n",
    "#add_rsi(data)\n",
    "\n",
    "# 4. Bollinger Bands\n",
    "add_bollinger_bands(data)\n",
    "\n",
    "# 5. Stoch. Osc.\n",
    "add_stochastic_oscillator\n",
    "# Validate your understanding here.\n",
    "\n"
   ]
  },
  {
   "cell_type": "code",
   "execution_count": null,
   "metadata": {
    "colab": {
     "base_uri": "https://localhost:8080/",
     "height": 666
    },
    "collapsed": true,
    "executionInfo": {
     "elapsed": 86,
     "status": "ok",
     "timestamp": 1756883667923,
     "user": {
      "displayName": "Roopesh Kumar Tayaloor Prasad",
      "userId": "03034416575728162665"
     },
     "user_tz": -330
    },
    "id": "0zXoRBI7CAsJ",
    "outputId": "116ba70e-0f1b-40ab-bcb5-3339e8250cc2"
   },
   "outputs": [],
   "source": [
    "# Identify the labels\n",
    "# 1. What is the highest percentage it has reached in next 20 days\n",
    "data.to_csv('abc.csv')\n",
    "data.dropna(inplace=True)\n",
    "add_label_highest_perc(data)\n",
    "#print(\"Done\")\n",
    "\n"
   ]
  },
  {
   "cell_type": "code",
   "execution_count": null,
   "metadata": {
    "colab": {
     "base_uri": "https://localhost:8080/"
    },
    "executionInfo": {
     "elapsed": 14,
     "status": "ok",
     "timestamp": 1756883669814,
     "user": {
      "displayName": "Roopesh Kumar Tayaloor Prasad",
      "userId": "03034416575728162665"
     },
     "user_tz": -330
    },
    "id": "JkX84s7F6u6j",
    "outputId": "66ea4149-ac15-46a3-e832-f4b03eb9085b"
   },
   "outputs": [],
   "source": [
    "# step 3 - Split the features\n",
    "\n",
    "features = data.drop(columns=['label']) # Input\n",
    "labels = data['label'] # Output\n",
    "\n",
    "split_row_no = int(len(data) * .8)\n",
    "\n",
    "x_train = features.iloc[:split_row_no]\n",
    "x_test = features.iloc[split_row_no:]\n",
    "y_train = labels.iloc[:split_row_no]\n",
    "y_test = labels.iloc[split_row_no:]\n",
    "\n",
    "print (f\"Train data size: {len(x_train)}, Test data size: {len(y_train)}\")\n"
   ]
  },
  {
   "cell_type": "code",
   "execution_count": null,
   "metadata": {
    "colab": {
     "base_uri": "https://localhost:8080/",
     "height": 100
    },
    "executionInfo": {
     "elapsed": 41,
     "status": "ok",
     "timestamp": 1756883671339,
     "user": {
      "displayName": "Roopesh Kumar Tayaloor Prasad",
      "userId": "03034416575728162665"
     },
     "user_tz": -330
    },
    "id": "1uBGq8JRDCcK",
    "outputId": "44152827-8220-497b-c364-a9ededba9b99"
   },
   "outputs": [],
   "source": [
    "# Step 4 - Train all the models\n",
    "# Finalize which model we are using\n",
    "# Linear Regression, SVM #, ARIMA,\n",
    "from sklearn.linear_model import LinearRegression\n",
    "from sklearn.svm import SVR\n",
    "lr = LinearRegression()\n",
    "lr.fit(x_train, y_train)\n",
    "\n",
    "svr = SVR()\n",
    "svr.fit(x_train, y_train)"
   ]
  },
  {
   "cell_type": "code",
   "execution_count": 167,
   "metadata": {
    "executionInfo": {
     "elapsed": 13,
     "status": "ok",
     "timestamp": 1756883673796,
     "user": {
      "displayName": "Roopesh Kumar Tayaloor Prasad",
      "userId": "03034416575728162665"
     },
     "user_tz": -330
    },
    "id": "sCkPDqBDDK0Y"
   },
   "outputs": [],
   "source": [
    "# Step 5 - Test\n",
    "lr_pred = lr.predict(x_test)\n",
    "svr_pred = svr.predict(x_test)\n"
   ]
  },
  {
   "cell_type": "code",
   "execution_count": null,
   "metadata": {
    "colab": {
     "base_uri": "https://localhost:8080/",
     "height": 940
    },
    "executionInfo": {
     "elapsed": 57,
     "status": "ok",
     "timestamp": 1756884707496,
     "user": {
      "displayName": "Roopesh Kumar Tayaloor Prasad",
      "userId": "03034416575728162665"
     },
     "user_tz": -330
    },
    "id": "x3JRfzubaQH6",
    "outputId": "39837d41-9007-4956-813a-fe512509dbbf"
   },
   "outputs": [],
   "source": [
    "# compare the values lr_pred and y_test, to check how close they are\n",
    "df = pd.DataFrame({\"original\":y_test, \"lr\": lr_pred, \"svr\":svr_pred })\n",
    "# df = pd.DataFrame(svr_pred, y_test)\n",
    "df"
   ]
  },
  {
   "cell_type": "code",
   "execution_count": null,
   "metadata": {
    "colab": {
     "base_uri": "https://localhost:8080/"
    },
    "executionInfo": {
     "elapsed": 10,
     "status": "ok",
     "timestamp": 1756883682164,
     "user": {
      "displayName": "Roopesh Kumar Tayaloor Prasad",
      "userId": "03034416575728162665"
     },
     "user_tz": -330
    },
    "id": "ITV93n03Sk2S",
    "outputId": "bf60f241-eec8-4058-e59e-5e51589d4f0e"
   },
   "outputs": [],
   "source": [
    "# Compare performance (pick the candidate)\n",
    "from sklearn.metrics import mean_squared_error\n",
    "lr_mse = mean_squared_error(y_test, lr_pred)\n",
    "svr_mse = mean_squared_error(y_test, svr_pred)\n",
    "print (f\"Linear Regression MSE: {lr_mse}, SVR MSE: {svr_mse}\")"
   ]
  },
  {
   "cell_type": "code",
   "execution_count": null,
   "metadata": {
    "colab": {
     "base_uri": "https://localhost:8080/"
    },
    "collapsed": true,
    "executionInfo": {
     "elapsed": 133,
     "status": "ok",
     "timestamp": 1756884955984,
     "user": {
      "displayName": "Roopesh Kumar Tayaloor Prasad",
      "userId": "03034416575728162665"
     },
     "user_tz": -330
    },
    "id": "TbF4n4R1DTmn",
    "outputId": "fc12bfe7-0370-4d8a-d26a-8a3ad97e8718"
   },
   "outputs": [],
   "source": [
    "# Step 6 - Tune the model using the hyperparameter tuning\n",
    "from sklearn.model_selection import GridSearchCV\n",
    "from sklearn.linear_model import Ridge\n",
    "ridge = Ridge()\n",
    "parameters = {'alpha': [0.01, 0.1, 1, 10, 100]}\n",
    "ridge_regressor = GridSearchCV(ridge, parameters, scoring='neg_mean_squared_error', cv=5)\n",
    "ridge_regressor.fit(x_train, y_train)\n",
    "print (ridge_regressor.best_params_)\n",
    "\n",
    "\n",
    "\n"
   ]
  },
  {
   "cell_type": "code",
   "execution_count": null,
   "metadata": {
    "colab": {
     "base_uri": "https://localhost:8080/"
    },
    "executionInfo": {
     "elapsed": 18,
     "status": "ok",
     "timestamp": 1756885015196,
     "user": {
      "displayName": "Roopesh Kumar Tayaloor Prasad",
      "userId": "03034416575728162665"
     },
     "user_tz": -330
    },
    "id": "LZQUeFWNgSHD",
    "outputId": "7eebee78-bfc0-480a-bd70-897dc8043c08"
   },
   "outputs": [],
   "source": [
    "# Get the optimized model\n",
    "ridge = Ridge(alpha=1)\n",
    "ridge.fit(x_train, y_train)\n",
    "ridge_pred = ridge.predict(x_test)\n",
    "ridge_mse = mean_squared_error(y_test, ridge_pred)\n",
    "print (f\"Ridge MSE: {ridge_mse}\")\n"
   ]
  },
  {
   "cell_type": "code",
   "execution_count": null,
   "metadata": {
    "colab": {
     "base_uri": "https://localhost:8080/"
    },
    "executionInfo": {
     "elapsed": 9,
     "status": "ok",
     "timestamp": 1756885527144,
     "user": {
      "displayName": "Roopesh Kumar Tayaloor Prasad",
      "userId": "03034416575728162665"
     },
     "user_tz": -330
    },
    "id": "58RO0elEDb4M",
    "outputId": "ec264315-bd37-43fb-908b-8d01415185fb"
   },
   "outputs": [],
   "source": [
    "# Step 7 -Deploy and use it for our purpose\n",
    "val = [x_test.iloc [1]]\n",
    "print (\"ridge: \",ridge.predict(val))\n",
    "print (\"lr: \",lr.predict(val))\n"
   ]
  },
  {
   "cell_type": "code",
   "execution_count": null,
   "metadata": {
    "id": "eo2116y7h9xt"
   },
   "outputs": [],
   "source": [
    "# Input: Stock symbol, Expectation: 4\n",
    "\n",
    "# GEt the data of the stock you want to purchase\n",
    "# Calculate the all the parameters\n",
    "# Get the data for current/previous day data\n",
    "\n",
    "# output: Whether the stock can be puchased today (y/n) for the expectation gains mentioned\n"
   ]
  }
 ],
 "metadata": {
  "colab": {
   "authorship_tag": "ABX9TyNaMESKfss8gTv9eKzX0X1T",
   "provenance": []
  },
  "kernelspec": {
   "display_name": "Python 3",
   "name": "python3"
  },
  "language_info": {
   "name": "python"
  }
 },
 "nbformat": 4,
 "nbformat_minor": 0
}
